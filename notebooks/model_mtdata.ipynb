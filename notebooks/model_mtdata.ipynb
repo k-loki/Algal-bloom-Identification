{
 "cells": [
  {
   "attachments": {},
   "cell_type": "markdown",
   "metadata": {},
   "source": [
    "``Mission : Error Analysis & Model metadata``\n"
   ]
  },
  {
   "attachments": {},
   "cell_type": "markdown",
   "metadata": {},
   "source": [
    "# Data and dependencies"
   ]
  },
  {
   "cell_type": "code",
   "execution_count": 205,
   "metadata": {},
   "outputs": [],
   "source": [
    "import warnings\n",
    "import sys\n",
    "import os\n",
    "import time\n",
    "import joblib\n",
    "import random\n",
    "from tqdm import tqdm\n",
    "from pprint import pprint\n",
    "\n",
    "import pandas as pd\n",
    "import numpy as np\n",
    "import matplotlib.pyplot as plt\n",
    "import seaborn as sns\n",
    "import cv2\n",
    "from geopy.distance import geodesic\n",
    "\n",
    "from sklearn.metrics import mean_squared_error as mse\n",
    "from sklearn.metrics import mean_absolute_error as mae\n",
    "from sklearn.model_selection import train_test_split, StratifiedKFold, TimeSeriesSplit\n",
    "from sklearn.pipeline import make_pipeline\n",
    "from sklearn.preprocessing import OrdinalEncoder\n",
    "\n",
    "from xgboost import XGBClassifier, XGBRegressor\n",
    "from lightgbm import LGBMClassifier, LGBMRegressor\n",
    "from catboost import CatBoostClassifier, CatBoostRegressor\n",
    "from sklearn.ensemble import RandomForestClassifier, RandomForestRegressor\n",
    "\n",
    "warnings.filterwarnings('ignore')"
   ]
  },
  {
   "cell_type": "code",
   "execution_count": 134,
   "metadata": {},
   "outputs": [],
   "source": [
    "metadata = pd.read_csv('../data/metadata.csv')\n",
    "sub_format = pd.read_csv('../data/submission_format.csv')\n",
    "train_labels = pd.read_csv('../data/train_labels.csv')"
   ]
  },
  {
   "cell_type": "code",
   "execution_count": 135,
   "metadata": {},
   "outputs": [],
   "source": [
    "def rmse(y_true, y_pred):\n",
    "    return mse(y_true, y_pred, squared=False)"
   ]
  },
  {
   "cell_type": "code",
   "execution_count": 136,
   "metadata": {},
   "outputs": [],
   "source": [
    "def dens_to_sev(x: float)-> int:\n",
    "    \"\"\"takes in density value in cells/ml and returns severity category\"\"\"\n",
    "    if (x < 20_000) : return 1\n",
    "    elif (x >= 20_000) and (x < 100_000) : return 2\n",
    "    elif (x >= 100_000) and (x < 1_000_000) : return 3\n",
    "    elif (x >= 1_000_000) and (x < 10_000_000) : return 4\n",
    "    elif x > 10_000_000 : return 5"
   ]
  },
  {
   "cell_type": "code",
   "execution_count": null,
   "metadata": {},
   "outputs": [],
   "source": []
  },
  {
   "attachments": {},
   "cell_type": "markdown",
   "metadata": {},
   "source": [
    "## Add date fts"
   ]
  },
  {
   "cell_type": "code",
   "execution_count": 137,
   "metadata": {},
   "outputs": [
    {
     "data": {
      "text/html": [
       "<div>\n",
       "<style scoped>\n",
       "    .dataframe tbody tr th:only-of-type {\n",
       "        vertical-align: middle;\n",
       "    }\n",
       "\n",
       "    .dataframe tbody tr th {\n",
       "        vertical-align: top;\n",
       "    }\n",
       "\n",
       "    .dataframe thead th {\n",
       "        text-align: right;\n",
       "    }\n",
       "</style>\n",
       "<table border=\"1\" class=\"dataframe\">\n",
       "  <thead>\n",
       "    <tr style=\"text-align: right;\">\n",
       "      <th></th>\n",
       "      <th>uid</th>\n",
       "      <th>latitude</th>\n",
       "      <th>longitude</th>\n",
       "      <th>date</th>\n",
       "      <th>split</th>\n",
       "      <th>year</th>\n",
       "      <th>month</th>\n",
       "      <th>week</th>\n",
       "      <th>season</th>\n",
       "      <th>region</th>\n",
       "      <th>severity</th>\n",
       "      <th>density</th>\n",
       "    </tr>\n",
       "  </thead>\n",
       "  <tbody>\n",
       "    <tr>\n",
       "      <th>0</th>\n",
       "      <td>aabm</td>\n",
       "      <td>39.080319</td>\n",
       "      <td>-86.430867</td>\n",
       "      <td>2018-05-14</td>\n",
       "      <td>train</td>\n",
       "      <td>2018</td>\n",
       "      <td>5</td>\n",
       "      <td>20</td>\n",
       "      <td>2</td>\n",
       "      <td>midwest</td>\n",
       "      <td>1.0</td>\n",
       "      <td>585.0</td>\n",
       "    </tr>\n",
       "    <tr>\n",
       "      <th>1</th>\n",
       "      <td>aabn</td>\n",
       "      <td>36.559700</td>\n",
       "      <td>-121.510000</td>\n",
       "      <td>2016-08-31</td>\n",
       "      <td>test</td>\n",
       "      <td>2016</td>\n",
       "      <td>8</td>\n",
       "      <td>35</td>\n",
       "      <td>3</td>\n",
       "      <td>west</td>\n",
       "      <td>NaN</td>\n",
       "      <td>NaN</td>\n",
       "    </tr>\n",
       "    <tr>\n",
       "      <th>2</th>\n",
       "      <td>aacd</td>\n",
       "      <td>35.875083</td>\n",
       "      <td>-78.878434</td>\n",
       "      <td>2020-11-19</td>\n",
       "      <td>train</td>\n",
       "      <td>2020</td>\n",
       "      <td>11</td>\n",
       "      <td>47</td>\n",
       "      <td>4</td>\n",
       "      <td>south</td>\n",
       "      <td>1.0</td>\n",
       "      <td>290.0</td>\n",
       "    </tr>\n",
       "    <tr>\n",
       "      <th>3</th>\n",
       "      <td>aaee</td>\n",
       "      <td>35.487000</td>\n",
       "      <td>-79.062133</td>\n",
       "      <td>2016-08-24</td>\n",
       "      <td>train</td>\n",
       "      <td>2016</td>\n",
       "      <td>8</td>\n",
       "      <td>34</td>\n",
       "      <td>3</td>\n",
       "      <td>south</td>\n",
       "      <td>1.0</td>\n",
       "      <td>1614.0</td>\n",
       "    </tr>\n",
       "    <tr>\n",
       "      <th>4</th>\n",
       "      <td>aaff</td>\n",
       "      <td>38.049471</td>\n",
       "      <td>-99.827001</td>\n",
       "      <td>2019-07-23</td>\n",
       "      <td>train</td>\n",
       "      <td>2019</td>\n",
       "      <td>7</td>\n",
       "      <td>30</td>\n",
       "      <td>3</td>\n",
       "      <td>midwest</td>\n",
       "      <td>3.0</td>\n",
       "      <td>111825.0</td>\n",
       "    </tr>\n",
       "    <tr>\n",
       "      <th>...</th>\n",
       "      <td>...</td>\n",
       "      <td>...</td>\n",
       "      <td>...</td>\n",
       "      <td>...</td>\n",
       "      <td>...</td>\n",
       "      <td>...</td>\n",
       "      <td>...</td>\n",
       "      <td>...</td>\n",
       "      <td>...</td>\n",
       "      <td>...</td>\n",
       "      <td>...</td>\n",
       "      <td>...</td>\n",
       "    </tr>\n",
       "    <tr>\n",
       "      <th>23565</th>\n",
       "      <td>zzvv</td>\n",
       "      <td>36.708500</td>\n",
       "      <td>-121.749000</td>\n",
       "      <td>2014-12-02</td>\n",
       "      <td>test</td>\n",
       "      <td>2014</td>\n",
       "      <td>12</td>\n",
       "      <td>49</td>\n",
       "      <td>1</td>\n",
       "      <td>west</td>\n",
       "      <td>NaN</td>\n",
       "      <td>NaN</td>\n",
       "    </tr>\n",
       "    <tr>\n",
       "      <th>23566</th>\n",
       "      <td>zzwo</td>\n",
       "      <td>39.792190</td>\n",
       "      <td>-99.971050</td>\n",
       "      <td>2017-06-19</td>\n",
       "      <td>train</td>\n",
       "      <td>2017</td>\n",
       "      <td>6</td>\n",
       "      <td>25</td>\n",
       "      <td>3</td>\n",
       "      <td>midwest</td>\n",
       "      <td>2.0</td>\n",
       "      <td>48510.0</td>\n",
       "    </tr>\n",
       "    <tr>\n",
       "      <th>23567</th>\n",
       "      <td>zzwq</td>\n",
       "      <td>35.794000</td>\n",
       "      <td>-79.012551</td>\n",
       "      <td>2015-03-24</td>\n",
       "      <td>train</td>\n",
       "      <td>2015</td>\n",
       "      <td>3</td>\n",
       "      <td>13</td>\n",
       "      <td>2</td>\n",
       "      <td>south</td>\n",
       "      <td>1.0</td>\n",
       "      <td>1271.0</td>\n",
       "    </tr>\n",
       "    <tr>\n",
       "      <th>23568</th>\n",
       "      <td>zzyb</td>\n",
       "      <td>35.742000</td>\n",
       "      <td>-79.238600</td>\n",
       "      <td>2016-11-21</td>\n",
       "      <td>train</td>\n",
       "      <td>2016</td>\n",
       "      <td>11</td>\n",
       "      <td>47</td>\n",
       "      <td>4</td>\n",
       "      <td>south</td>\n",
       "      <td>1.0</td>\n",
       "      <td>9682.0</td>\n",
       "    </tr>\n",
       "    <tr>\n",
       "      <th>23569</th>\n",
       "      <td>zzzi</td>\n",
       "      <td>39.767323</td>\n",
       "      <td>-96.028617</td>\n",
       "      <td>2015-08-31</td>\n",
       "      <td>test</td>\n",
       "      <td>2015</td>\n",
       "      <td>8</td>\n",
       "      <td>36</td>\n",
       "      <td>3</td>\n",
       "      <td>midwest</td>\n",
       "      <td>NaN</td>\n",
       "      <td>NaN</td>\n",
       "    </tr>\n",
       "  </tbody>\n",
       "</table>\n",
       "<p>23570 rows × 12 columns</p>\n",
       "</div>"
      ],
      "text/plain": [
       "        uid   latitude   longitude       date  split  year  month  week  \\\n",
       "0      aabm  39.080319  -86.430867 2018-05-14  train  2018      5    20   \n",
       "1      aabn  36.559700 -121.510000 2016-08-31   test  2016      8    35   \n",
       "2      aacd  35.875083  -78.878434 2020-11-19  train  2020     11    47   \n",
       "3      aaee  35.487000  -79.062133 2016-08-24  train  2016      8    34   \n",
       "4      aaff  38.049471  -99.827001 2019-07-23  train  2019      7    30   \n",
       "...     ...        ...         ...        ...    ...   ...    ...   ...   \n",
       "23565  zzvv  36.708500 -121.749000 2014-12-02   test  2014     12    49   \n",
       "23566  zzwo  39.792190  -99.971050 2017-06-19  train  2017      6    25   \n",
       "23567  zzwq  35.794000  -79.012551 2015-03-24  train  2015      3    13   \n",
       "23568  zzyb  35.742000  -79.238600 2016-11-21  train  2016     11    47   \n",
       "23569  zzzi  39.767323  -96.028617 2015-08-31   test  2015      8    36   \n",
       "\n",
       "       season   region  severity   density  \n",
       "0           2  midwest       1.0     585.0  \n",
       "1           3     west       NaN       NaN  \n",
       "2           4    south       1.0     290.0  \n",
       "3           3    south       1.0    1614.0  \n",
       "4           3  midwest       3.0  111825.0  \n",
       "...       ...      ...       ...       ...  \n",
       "23565       1     west       NaN       NaN  \n",
       "23566       3  midwest       2.0   48510.0  \n",
       "23567       2    south       1.0    1271.0  \n",
       "23568       4    south       1.0    9682.0  \n",
       "23569       3  midwest       NaN       NaN  \n",
       "\n",
       "[23570 rows x 12 columns]"
      ]
     },
     "execution_count": 137,
     "metadata": {},
     "output_type": "execute_result"
    }
   ],
   "source": [
    "metadata.date = pd.to_datetime(metadata.date)\n",
    "metadata['year'] = metadata.date.dt.year\n",
    "metadata['month'] = metadata.date.dt.month\n",
    "metadata['week'] = metadata.date.dt.isocalendar().week\n",
    "\n",
    "\n",
    "seasons = {\n",
    "    1: 1,\n",
    "    2: 1,\n",
    "    3: 2,\n",
    "    4: 2,\n",
    "    5: 2,\n",
    "    6: 3,\n",
    "    7: 3,\n",
    "    8: 3,\n",
    "    9: 4,\n",
    "    10: 4,\n",
    "    11: 4,\n",
    "    12: 1\n",
    "}\n",
    "\n",
    "metadata['season'] = metadata.month.map(seasons)\n",
    "\n",
    "\n",
    "region = pd.concat((train_labels, sub_format[['region', 'uid']]), axis=0)\n",
    "\n",
    "data = pd.merge(metadata, region, on='uid', how='left')\n",
    "data"
   ]
  },
  {
   "cell_type": "code",
   "execution_count": 138,
   "metadata": {},
   "outputs": [
    {
     "data": {
      "text/plain": [
       "((6510, 12), (23570, 12))"
      ]
     },
     "execution_count": 138,
     "metadata": {},
     "output_type": "execute_result"
    }
   ],
   "source": [
    "test_data = data[data.split == 'test']\n",
    "test_data.shape, data.shape"
   ]
  },
  {
   "cell_type": "code",
   "execution_count": 139,
   "metadata": {},
   "outputs": [
    {
     "data": {
      "text/plain": [
       "((17060, 12), (23570, 12))"
      ]
     },
     "execution_count": 139,
     "metadata": {},
     "output_type": "execute_result"
    }
   ],
   "source": [
    "train_data = data[data.split == 'train']\n",
    "train_data.shape, data.shape"
   ]
  },
  {
   "attachments": {},
   "cell_type": "markdown",
   "metadata": {},
   "source": [
    "# Utils"
   ]
  },
  {
   "cell_type": "code",
   "execution_count": 140,
   "metadata": {},
   "outputs": [],
   "source": [
    "#  Utils\n",
    "def get_data_by_date( date=None, data=train_data):\n",
    "    return data[data.date == date]\n",
    "\n",
    "\n",
    "def get_distance(lat1, lon1, lat2, lon2):\n",
    "    return geodesic((lat1, lon1), (lat2, lon2)).km\n",
    "\n",
    "def analyize_matches(y_true, y_pred):\n",
    "    print(\"Exact matches: \", sum(y_true == y_pred) / len(y_true))\n",
    "    \n",
    "    print(\"Missed by 1: \", sum(abs(y_true - y_pred) == 1) / len(y_true))\n",
    "    print(\"Missed by 2: \", sum(abs(y_true - y_pred) == 2) / len(y_true))\n",
    "    print(\"Missed by 3: \", sum(abs(y_true - y_pred) == 3) / len(y_true))\n",
    "    print(\"Missed by 4: \", sum(abs(y_true - y_pred) == 4) / len(y_true))"
   ]
  },
  {
   "attachments": {},
   "cell_type": "markdown",
   "metadata": {},
   "source": [
    "# My Guess"
   ]
  },
  {
   "attachments": {},
   "cell_type": "raw",
   "metadata": {},
   "source": [
    "Get a sample and try to guess it's severity based on location, region, date, season, month.\n",
    "\n",
    "> Trail 1:\n",
    "\n",
    "    1. Get a test/val sample\n",
    "\n",
    "    2. Get subset of train data from the sample's date and region.\n",
    "        2.1 if subset is empty, get subset of train data from the sample's previous date and region.\n",
    "        2.2. if stil the subset is empty, fill the severity with 2.\n",
    "    \n",
    "    3. Get the nearest sample from the subset and use it's severity as the guess.\n",
    "\n"
   ]
  },
  {
   "cell_type": "code",
   "execution_count": 141,
   "metadata": {},
   "outputs": [
    {
     "data": {
      "text/html": [
       "<div>\n",
       "<style scoped>\n",
       "    .dataframe tbody tr th:only-of-type {\n",
       "        vertical-align: middle;\n",
       "    }\n",
       "\n",
       "    .dataframe tbody tr th {\n",
       "        vertical-align: top;\n",
       "    }\n",
       "\n",
       "    .dataframe thead th {\n",
       "        text-align: right;\n",
       "    }\n",
       "</style>\n",
       "<table border=\"1\" class=\"dataframe\">\n",
       "  <thead>\n",
       "    <tr style=\"text-align: right;\">\n",
       "      <th></th>\n",
       "      <th>uid</th>\n",
       "      <th>latitude</th>\n",
       "      <th>longitude</th>\n",
       "      <th>date</th>\n",
       "      <th>split</th>\n",
       "      <th>year</th>\n",
       "      <th>month</th>\n",
       "      <th>week</th>\n",
       "      <th>season</th>\n",
       "      <th>region</th>\n",
       "      <th>severity</th>\n",
       "      <th>density</th>\n",
       "    </tr>\n",
       "  </thead>\n",
       "  <tbody>\n",
       "    <tr>\n",
       "      <th>6865</th>\n",
       "      <td>howw</td>\n",
       "      <td>37.0062</td>\n",
       "      <td>-120.600</td>\n",
       "      <td>2013-01-08</td>\n",
       "      <td>test</td>\n",
       "      <td>2013</td>\n",
       "      <td>1</td>\n",
       "      <td>2</td>\n",
       "      <td>1</td>\n",
       "      <td>west</td>\n",
       "      <td>NaN</td>\n",
       "      <td>NaN</td>\n",
       "    </tr>\n",
       "    <tr>\n",
       "      <th>3661</th>\n",
       "      <td>eamn</td>\n",
       "      <td>36.9818</td>\n",
       "      <td>-120.221</td>\n",
       "      <td>2013-01-08</td>\n",
       "      <td>test</td>\n",
       "      <td>2013</td>\n",
       "      <td>1</td>\n",
       "      <td>2</td>\n",
       "      <td>1</td>\n",
       "      <td>west</td>\n",
       "      <td>NaN</td>\n",
       "      <td>NaN</td>\n",
       "    </tr>\n",
       "    <tr>\n",
       "      <th>7668</th>\n",
       "      <td>imsv</td>\n",
       "      <td>36.9836</td>\n",
       "      <td>-120.500</td>\n",
       "      <td>2013-01-08</td>\n",
       "      <td>test</td>\n",
       "      <td>2013</td>\n",
       "      <td>1</td>\n",
       "      <td>2</td>\n",
       "      <td>1</td>\n",
       "      <td>west</td>\n",
       "      <td>NaN</td>\n",
       "      <td>NaN</td>\n",
       "    </tr>\n",
       "    <tr>\n",
       "      <th>20182</th>\n",
       "      <td>wgxq</td>\n",
       "      <td>33.8011</td>\n",
       "      <td>-117.205</td>\n",
       "      <td>2013-01-25</td>\n",
       "      <td>test</td>\n",
       "      <td>2013</td>\n",
       "      <td>1</td>\n",
       "      <td>4</td>\n",
       "      <td>1</td>\n",
       "      <td>west</td>\n",
       "      <td>NaN</td>\n",
       "      <td>NaN</td>\n",
       "    </tr>\n",
       "    <tr>\n",
       "      <th>16095</th>\n",
       "      <td>rsos</td>\n",
       "      <td>33.8892</td>\n",
       "      <td>-117.562</td>\n",
       "      <td>2013-01-25</td>\n",
       "      <td>test</td>\n",
       "      <td>2013</td>\n",
       "      <td>1</td>\n",
       "      <td>4</td>\n",
       "      <td>1</td>\n",
       "      <td>west</td>\n",
       "      <td>NaN</td>\n",
       "      <td>NaN</td>\n",
       "    </tr>\n",
       "    <tr>\n",
       "      <th>...</th>\n",
       "      <td>...</td>\n",
       "      <td>...</td>\n",
       "      <td>...</td>\n",
       "      <td>...</td>\n",
       "      <td>...</td>\n",
       "      <td>...</td>\n",
       "      <td>...</td>\n",
       "      <td>...</td>\n",
       "      <td>...</td>\n",
       "      <td>...</td>\n",
       "      <td>...</td>\n",
       "      <td>...</td>\n",
       "    </tr>\n",
       "    <tr>\n",
       "      <th>12443</th>\n",
       "      <td>nsoi</td>\n",
       "      <td>36.7368</td>\n",
       "      <td>-121.734</td>\n",
       "      <td>2021-12-29</td>\n",
       "      <td>test</td>\n",
       "      <td>2021</td>\n",
       "      <td>12</td>\n",
       "      <td>52</td>\n",
       "      <td>1</td>\n",
       "      <td>west</td>\n",
       "      <td>NaN</td>\n",
       "      <td>NaN</td>\n",
       "    </tr>\n",
       "    <tr>\n",
       "      <th>14254</th>\n",
       "      <td>prfi</td>\n",
       "      <td>36.7518</td>\n",
       "      <td>-121.742</td>\n",
       "      <td>2021-12-29</td>\n",
       "      <td>test</td>\n",
       "      <td>2021</td>\n",
       "      <td>12</td>\n",
       "      <td>52</td>\n",
       "      <td>1</td>\n",
       "      <td>west</td>\n",
       "      <td>NaN</td>\n",
       "      <td>NaN</td>\n",
       "    </tr>\n",
       "    <tr>\n",
       "      <th>6864</th>\n",
       "      <td>howu</td>\n",
       "      <td>36.7085</td>\n",
       "      <td>-121.749</td>\n",
       "      <td>2021-12-29</td>\n",
       "      <td>test</td>\n",
       "      <td>2021</td>\n",
       "      <td>12</td>\n",
       "      <td>52</td>\n",
       "      <td>1</td>\n",
       "      <td>west</td>\n",
       "      <td>NaN</td>\n",
       "      <td>NaN</td>\n",
       "    </tr>\n",
       "    <tr>\n",
       "      <th>6540</th>\n",
       "      <td>hfvr</td>\n",
       "      <td>36.7962</td>\n",
       "      <td>-121.782</td>\n",
       "      <td>2021-12-29</td>\n",
       "      <td>test</td>\n",
       "      <td>2021</td>\n",
       "      <td>12</td>\n",
       "      <td>52</td>\n",
       "      <td>1</td>\n",
       "      <td>west</td>\n",
       "      <td>NaN</td>\n",
       "      <td>NaN</td>\n",
       "    </tr>\n",
       "    <tr>\n",
       "      <th>17559</th>\n",
       "      <td>thki</td>\n",
       "      <td>36.7254</td>\n",
       "      <td>-121.730</td>\n",
       "      <td>2021-12-29</td>\n",
       "      <td>test</td>\n",
       "      <td>2021</td>\n",
       "      <td>12</td>\n",
       "      <td>52</td>\n",
       "      <td>1</td>\n",
       "      <td>west</td>\n",
       "      <td>NaN</td>\n",
       "      <td>NaN</td>\n",
       "    </tr>\n",
       "  </tbody>\n",
       "</table>\n",
       "<p>6510 rows × 12 columns</p>\n",
       "</div>"
      ],
      "text/plain": [
       "        uid  latitude  longitude       date split  year  month  week  season  \\\n",
       "6865   howw   37.0062   -120.600 2013-01-08  test  2013      1     2       1   \n",
       "3661   eamn   36.9818   -120.221 2013-01-08  test  2013      1     2       1   \n",
       "7668   imsv   36.9836   -120.500 2013-01-08  test  2013      1     2       1   \n",
       "20182  wgxq   33.8011   -117.205 2013-01-25  test  2013      1     4       1   \n",
       "16095  rsos   33.8892   -117.562 2013-01-25  test  2013      1     4       1   \n",
       "...     ...       ...        ...        ...   ...   ...    ...   ...     ...   \n",
       "12443  nsoi   36.7368   -121.734 2021-12-29  test  2021     12    52       1   \n",
       "14254  prfi   36.7518   -121.742 2021-12-29  test  2021     12    52       1   \n",
       "6864   howu   36.7085   -121.749 2021-12-29  test  2021     12    52       1   \n",
       "6540   hfvr   36.7962   -121.782 2021-12-29  test  2021     12    52       1   \n",
       "17559  thki   36.7254   -121.730 2021-12-29  test  2021     12    52       1   \n",
       "\n",
       "      region  severity  density  \n",
       "6865    west       NaN      NaN  \n",
       "3661    west       NaN      NaN  \n",
       "7668    west       NaN      NaN  \n",
       "20182   west       NaN      NaN  \n",
       "16095   west       NaN      NaN  \n",
       "...      ...       ...      ...  \n",
       "12443   west       NaN      NaN  \n",
       "14254   west       NaN      NaN  \n",
       "6864    west       NaN      NaN  \n",
       "6540    west       NaN      NaN  \n",
       "17559   west       NaN      NaN  \n",
       "\n",
       "[6510 rows x 12 columns]"
      ]
     },
     "execution_count": 141,
     "metadata": {},
     "output_type": "execute_result"
    }
   ],
   "source": [
    "te_data = test_data.sort_values(by='date')\n",
    "te_data"
   ]
  },
  {
   "attachments": {},
   "cell_type": "markdown",
   "metadata": {},
   "source": [
    "## Train test split"
   ]
  },
  {
   "cell_type": "code",
   "execution_count": 142,
   "metadata": {},
   "outputs": [
    {
     "data": {
      "text/plain": [
       "((14501, 12), (2559, 12))"
      ]
     },
     "execution_count": 142,
     "metadata": {},
     "output_type": "execute_result"
    }
   ],
   "source": [
    "tr_data, val_data = train_test_split(train_data, test_size=0.15, random_state=123456789, shuffle=True)\n",
    "tr_data.shape, val_data.shape"
   ]
  },
  {
   "cell_type": "code",
   "execution_count": 143,
   "metadata": {},
   "outputs": [
    {
     "data": {
      "text/plain": [
       "((14501, 12), (2559, 12))"
      ]
     },
     "execution_count": 143,
     "metadata": {},
     "output_type": "execute_result"
    }
   ],
   "source": [
    "tr_data2, val_data2 = train_test_split(train_data, test_size=0.15, random_state=123456789, shuffle=True)\n",
    "tr_data2.shape, val_data2.shape"
   ]
  },
  {
   "attachments": {},
   "cell_type": "markdown",
   "metadata": {},
   "source": [
    "## Guess Funcs"
   ]
  },
  {
   "cell_type": "code",
   "execution_count": 144,
   "metadata": {},
   "outputs": [],
   "source": [
    "fill_2s = []\n",
    "g_from_past = {}\n",
    "\n",
    "n_times_called = {}\n",
    "\n",
    "def make_guess1(row: pd.Series, date=None, tr_data=tr_data) -> pd.Series:\n",
    "\n",
    "    dists = []\n",
    "    region = row.region\n",
    "    date = date\n",
    "    uid = row.uid\n",
    "    tr_data = tr_data\n",
    "\n",
    "    if date is None:\n",
    "        date = row.date\n",
    "\n",
    "    rel_data = tr_data[(tr_data.date == date) & (tr_data.region == region)]\n",
    "    \n",
    "    # check if cur date is past '2013-01-04'\n",
    "    if date < pd.to_datetime('2013-01-04'):\n",
    "        print(f'No previous data for this date filling in 2s .. for {row.uid}')\n",
    "        fill_2s.append(uid)\n",
    "        return 2\n",
    "\n",
    "    if rel_data.shape[0] == 0:\n",
    "        # print(f'No data for this date, trying previous day.. for {row.uid}')\n",
    "        if g_from_past.get(uid) is not None:\n",
    "            g_from_past[uid] += 1\n",
    "        return make_guess1(row, date=date - pd.Timedelta(days=1), tr_data=tr_data)\n",
    "\n",
    "    for some_row in rel_data.itertuples():\n",
    "        dist = get_distance(row.latitude, row.longitude, some_row.latitude, some_row.longitude)\n",
    "        dists.append(dist)\n",
    "    \n",
    "    nearest = rel_data.iloc[np.argmin(dists)]\n",
    "    return nearest.severity\n",
    "\n",
    "\n",
    "def make_guess2(row: pd.Series, date=None, tr_data=tr_data, n_times_called=None) -> pd.Series:\n",
    "    \"\"\"modified version of make_guess1, Uses mean/mode of severity for the region instead of nearest severity.\"\"\"\n",
    "    dists = []\n",
    "    region = row.region\n",
    "    date = date\n",
    "    uid = row.uid\n",
    "    tr_data = tr_data\n",
    "    \n",
    "    if n_times_called is not None:\n",
    "        if n_times_called.get(uid) is None:\n",
    "            n_times_called[uid] = 1\n",
    "        else:\n",
    "            n_times_called[uid] += 1\n",
    "        \n",
    "\n",
    "    if date is None:\n",
    "        date = row.date\n",
    "\n",
    "    rel_data = tr_data[(tr_data.date == date) & (tr_data.region == region)]\n",
    "    \n",
    "    # check if cur date is past '2013-01-04'\n",
    "    if date < pd.to_datetime('2013-01-04'):\n",
    "        print(f'No previous data for this date filling in 2s .. for {row.uid}')\n",
    "        fill_2s.append(uid)\n",
    "        return 2\n",
    "\n",
    "    if rel_data.shape[0] == 0:\n",
    "        # print(f'No data for this date, trying previous day.. for {row.uid}')\n",
    "        if g_from_past.get(uid) is not None:\n",
    "            g_from_past[uid] += 1\n",
    "        global count \n",
    "        count += 1\n",
    "        return make_guess2(row, date=date - pd.Timedelta(days=1), tr_data=tr_data)\n",
    "\n",
    "    severty_mode = rel_data.severity.mode()[0]\n",
    "    severty_mean = np.round(rel_data.severity.mean())\n",
    "\n",
    "    return severty_mean\n",
    "\n",
    "\n",
    "\n",
    "def cv_loop(rand, splits=10, guess_func=make_guess1):\n",
    "    # print(\"Random Number: \", rand)\n",
    "    skf = StratifiedKFold(n_splits=splits, shuffle=True, random_state=rand)\n",
    "    tscv = TimeSeriesSplit(n_splits=splits)\n",
    "    \n",
    "    rmses = []\n",
    "    guess_train_preds = np.zeros((train_data.shape[0]))\n",
    "\n",
    "    for fold, (train_idx, val_idx) in enumerate(tscv.split(train_data, train_data.severity)):\n",
    "        print(f\"Fold: {fold}\")\n",
    "        tr_data, val_data = train_data.iloc[train_idx], train_data.iloc[val_idx]\n",
    "\n",
    "        val_data['guess'] = 0\n",
    "\n",
    "        temp = []\n",
    "        for row in tqdm(val_data.itertuples(), total=val_data.shape[0]):\n",
    "            uid_series = val_data[val_data.uid == row.uid]\n",
    "            severity = guess_func(uid_series.iloc[0], date=row.date, tr_data=tr_data)\n",
    "            val_data.loc[val_data.uid == row.uid, f'guess'] = severity\n",
    "            temp.append(severity)\n",
    "        \n",
    "        guess_train_preds[val_idx] = temp\n",
    "        \n",
    "\n",
    "                \n",
    "        errror = rmse(val_data.severity, val_data.guess1)\n",
    "        rmses.append(errror)\n",
    "        print(\"RMSE: \", errror)\n",
    "\n",
    "        print('Train Distribution: ')\n",
    "        print(tr_data.severity.value_counts(normalize=True))\n",
    "        print('Val Distribution: ')\n",
    "        print(val_data.severity.value_counts(normalize=True))\n",
    "        print('Predicted Distribution: ')\n",
    "        print(val_data.guess1.value_counts(normalize=True))\n",
    "\n",
    "    \n",
    "    print('----------------------------------------------------')\n",
    "\n",
    "    return rmses, guess_train_preds\n"
   ]
  },
  {
   "cell_type": "code",
   "execution_count": 145,
   "metadata": {},
   "outputs": [],
   "source": [
    "tr_data.sort_values(by='date', inplace=True)\n",
    "val_data.sort_values(by='date', inplace=True)"
   ]
  },
  {
   "cell_type": "code",
   "execution_count": 146,
   "metadata": {},
   "outputs": [],
   "source": [
    "tr_data2.sort_values(by='date', inplace=True)\n",
    "val_data2.sort_values(by='date', inplace=True)"
   ]
  },
  {
   "attachments": {},
   "cell_type": "markdown",
   "metadata": {},
   "source": [
    "### Failed way of validation"
   ]
  },
  {
   "cell_type": "code",
   "execution_count": 147,
   "metadata": {},
   "outputs": [
    {
     "name": "stderr",
     "output_type": "stream",
     "text": [
      " 15%|█▍        | 378/2559 [00:03<00:22, 95.32it/s] \n"
     ]
    },
    {
     "ename": "KeyboardInterrupt",
     "evalue": "",
     "output_type": "error",
     "traceback": [
      "\u001b[1;31m---------------------------------------------------------------------------\u001b[0m",
      "\u001b[1;31mKeyboardInterrupt\u001b[0m                         Traceback (most recent call last)",
      "\u001b[1;32md:\\Hacks\\Tick tick Bloom\\notebooks\\model_mtdata.ipynb Cell 25\u001b[0m in \u001b[0;36m<cell line: 1>\u001b[1;34m()\u001b[0m\n\u001b[0;32m      <a href='vscode-notebook-cell:/d%3A/Hacks/Tick%20tick%20Bloom/notebooks/model_mtdata.ipynb#X33sZmlsZQ%3D%3D?line=0'>1</a>\u001b[0m \u001b[39mfor\u001b[39;00m row \u001b[39min\u001b[39;00m tqdm(val_data\u001b[39m.\u001b[39mitertuples(), total\u001b[39m=\u001b[39mval_data\u001b[39m.\u001b[39mshape[\u001b[39m0\u001b[39m]):\n\u001b[1;32m----> <a href='vscode-notebook-cell:/d%3A/Hacks/Tick%20tick%20Bloom/notebooks/model_mtdata.ipynb#X33sZmlsZQ%3D%3D?line=1'>2</a>\u001b[0m     val_data\u001b[39m.\u001b[39mloc[row\u001b[39m.\u001b[39mIndex, \u001b[39m'\u001b[39m\u001b[39mguess\u001b[39m\u001b[39m'\u001b[39m] \u001b[39m=\u001b[39m make_guess1(row)\n\u001b[0;32m      <a href='vscode-notebook-cell:/d%3A/Hacks/Tick%20tick%20Bloom/notebooks/model_mtdata.ipynb#X33sZmlsZQ%3D%3D?line=3'>4</a>\u001b[0m analyize_matches(val_data\u001b[39m.\u001b[39mseverity, val_data\u001b[39m.\u001b[39mguess)\n\u001b[0;32m      <a href='vscode-notebook-cell:/d%3A/Hacks/Tick%20tick%20Bloom/notebooks/model_mtdata.ipynb#X33sZmlsZQ%3D%3D?line=4'>5</a>\u001b[0m rmse(val_data\u001b[39m.\u001b[39mseverity, val_data\u001b[39m.\u001b[39mguess)\n",
      "\u001b[1;32md:\\Hacks\\Tick tick Bloom\\notebooks\\model_mtdata.ipynb Cell 25\u001b[0m in \u001b[0;36mmake_guess1\u001b[1;34m(row, date, tr_data)\u001b[0m\n\u001b[0;32m     <a href='vscode-notebook-cell:/d%3A/Hacks/Tick%20tick%20Bloom/notebooks/model_mtdata.ipynb#X33sZmlsZQ%3D%3D?line=13'>14</a>\u001b[0m \u001b[39mif\u001b[39;00m date \u001b[39mis\u001b[39;00m \u001b[39mNone\u001b[39;00m:\n\u001b[0;32m     <a href='vscode-notebook-cell:/d%3A/Hacks/Tick%20tick%20Bloom/notebooks/model_mtdata.ipynb#X33sZmlsZQ%3D%3D?line=14'>15</a>\u001b[0m     date \u001b[39m=\u001b[39m row\u001b[39m.\u001b[39mdate\n\u001b[1;32m---> <a href='vscode-notebook-cell:/d%3A/Hacks/Tick%20tick%20Bloom/notebooks/model_mtdata.ipynb#X33sZmlsZQ%3D%3D?line=16'>17</a>\u001b[0m rel_data \u001b[39m=\u001b[39m tr_data[(tr_data\u001b[39m.\u001b[39;49mdate \u001b[39m==\u001b[39;49m date) \u001b[39m&\u001b[39m (tr_data\u001b[39m.\u001b[39mregion \u001b[39m==\u001b[39m region)]\n\u001b[0;32m     <a href='vscode-notebook-cell:/d%3A/Hacks/Tick%20tick%20Bloom/notebooks/model_mtdata.ipynb#X33sZmlsZQ%3D%3D?line=18'>19</a>\u001b[0m \u001b[39m# check if cur date is past '2013-01-04'\u001b[39;00m\n\u001b[0;32m     <a href='vscode-notebook-cell:/d%3A/Hacks/Tick%20tick%20Bloom/notebooks/model_mtdata.ipynb#X33sZmlsZQ%3D%3D?line=19'>20</a>\u001b[0m \u001b[39mif\u001b[39;00m date \u001b[39m<\u001b[39m pd\u001b[39m.\u001b[39mto_datetime(\u001b[39m'\u001b[39m\u001b[39m2013-01-04\u001b[39m\u001b[39m'\u001b[39m):\n",
      "File \u001b[1;32mc:\\Users\\kurma\\AppData\\Local\\Programs\\Python\\Python310\\lib\\site-packages\\pandas\\core\\ops\\common.py:70\u001b[0m, in \u001b[0;36m_unpack_zerodim_and_defer.<locals>.new_method\u001b[1;34m(self, other)\u001b[0m\n\u001b[0;32m     66\u001b[0m             \u001b[39mreturn\u001b[39;00m \u001b[39mNotImplemented\u001b[39m\n\u001b[0;32m     68\u001b[0m other \u001b[39m=\u001b[39m item_from_zerodim(other)\n\u001b[1;32m---> 70\u001b[0m \u001b[39mreturn\u001b[39;00m method(\u001b[39mself\u001b[39;49m, other)\n",
      "File \u001b[1;32mc:\\Users\\kurma\\AppData\\Local\\Programs\\Python\\Python310\\lib\\site-packages\\pandas\\core\\arraylike.py:40\u001b[0m, in \u001b[0;36mOpsMixin.__eq__\u001b[1;34m(self, other)\u001b[0m\n\u001b[0;32m     38\u001b[0m \u001b[39m@unpack_zerodim_and_defer\u001b[39m(\u001b[39m\"\u001b[39m\u001b[39m__eq__\u001b[39m\u001b[39m\"\u001b[39m)\n\u001b[0;32m     39\u001b[0m \u001b[39mdef\u001b[39;00m \u001b[39m__eq__\u001b[39m(\u001b[39mself\u001b[39m, other):\n\u001b[1;32m---> 40\u001b[0m     \u001b[39mreturn\u001b[39;00m \u001b[39mself\u001b[39;49m\u001b[39m.\u001b[39;49m_cmp_method(other, operator\u001b[39m.\u001b[39;49meq)\n",
      "File \u001b[1;32mc:\\Users\\kurma\\AppData\\Local\\Programs\\Python\\Python310\\lib\\site-packages\\pandas\\core\\series.py:5623\u001b[0m, in \u001b[0;36mSeries._cmp_method\u001b[1;34m(self, other, op)\u001b[0m\n\u001b[0;32m   5620\u001b[0m rvalues \u001b[39m=\u001b[39m extract_array(other, extract_numpy\u001b[39m=\u001b[39m\u001b[39mTrue\u001b[39;00m, extract_range\u001b[39m=\u001b[39m\u001b[39mTrue\u001b[39;00m)\n\u001b[0;32m   5622\u001b[0m \u001b[39mwith\u001b[39;00m np\u001b[39m.\u001b[39merrstate(\u001b[39mall\u001b[39m\u001b[39m=\u001b[39m\u001b[39m\"\u001b[39m\u001b[39mignore\u001b[39m\u001b[39m\"\u001b[39m):\n\u001b[1;32m-> 5623\u001b[0m     res_values \u001b[39m=\u001b[39m ops\u001b[39m.\u001b[39;49mcomparison_op(lvalues, rvalues, op)\n\u001b[0;32m   5625\u001b[0m \u001b[39mreturn\u001b[39;00m \u001b[39mself\u001b[39m\u001b[39m.\u001b[39m_construct_result(res_values, name\u001b[39m=\u001b[39mres_name)\n",
      "File \u001b[1;32mc:\\Users\\kurma\\AppData\\Local\\Programs\\Python\\Python310\\lib\\site-packages\\pandas\\core\\ops\\array_ops.py:269\u001b[0m, in \u001b[0;36mcomparison_op\u001b[1;34m(left, right, op)\u001b[0m\n\u001b[0;32m    260\u001b[0m         \u001b[39mraise\u001b[39;00m \u001b[39mValueError\u001b[39;00m(\n\u001b[0;32m    261\u001b[0m             \u001b[39m\"\u001b[39m\u001b[39mLengths must match to compare\u001b[39m\u001b[39m\"\u001b[39m, lvalues\u001b[39m.\u001b[39mshape, rvalues\u001b[39m.\u001b[39mshape\n\u001b[0;32m    262\u001b[0m         )\n\u001b[0;32m    264\u001b[0m \u001b[39mif\u001b[39;00m should_extension_dispatch(lvalues, rvalues) \u001b[39mor\u001b[39;00m (\n\u001b[0;32m    265\u001b[0m     (\u001b[39misinstance\u001b[39m(rvalues, (Timedelta, BaseOffset, Timestamp)) \u001b[39mor\u001b[39;00m right \u001b[39mis\u001b[39;00m NaT)\n\u001b[0;32m    266\u001b[0m     \u001b[39mand\u001b[39;00m \u001b[39mnot\u001b[39;00m is_object_dtype(lvalues\u001b[39m.\u001b[39mdtype)\n\u001b[0;32m    267\u001b[0m ):\n\u001b[0;32m    268\u001b[0m     \u001b[39m# Call the method on lvalues\u001b[39;00m\n\u001b[1;32m--> 269\u001b[0m     res_values \u001b[39m=\u001b[39m op(lvalues, rvalues)\n\u001b[0;32m    271\u001b[0m \u001b[39melif\u001b[39;00m is_scalar(rvalues) \u001b[39mand\u001b[39;00m isna(rvalues):  \u001b[39m# TODO: but not pd.NA?\u001b[39;00m\n\u001b[0;32m    272\u001b[0m     \u001b[39m# numpy does not like comparisons vs None\u001b[39;00m\n\u001b[0;32m    273\u001b[0m     \u001b[39mif\u001b[39;00m op \u001b[39mis\u001b[39;00m operator\u001b[39m.\u001b[39mne:\n",
      "File \u001b[1;32mc:\\Users\\kurma\\AppData\\Local\\Programs\\Python\\Python310\\lib\\site-packages\\pandas\\core\\ops\\common.py:70\u001b[0m, in \u001b[0;36m_unpack_zerodim_and_defer.<locals>.new_method\u001b[1;34m(self, other)\u001b[0m\n\u001b[0;32m     66\u001b[0m             \u001b[39mreturn\u001b[39;00m \u001b[39mNotImplemented\u001b[39m\n\u001b[0;32m     68\u001b[0m other \u001b[39m=\u001b[39m item_from_zerodim(other)\n\u001b[1;32m---> 70\u001b[0m \u001b[39mreturn\u001b[39;00m method(\u001b[39mself\u001b[39;49m, other)\n",
      "File \u001b[1;32mc:\\Users\\kurma\\AppData\\Local\\Programs\\Python\\Python310\\lib\\site-packages\\pandas\\core\\arraylike.py:40\u001b[0m, in \u001b[0;36mOpsMixin.__eq__\u001b[1;34m(self, other)\u001b[0m\n\u001b[0;32m     38\u001b[0m \u001b[39m@unpack_zerodim_and_defer\u001b[39m(\u001b[39m\"\u001b[39m\u001b[39m__eq__\u001b[39m\u001b[39m\"\u001b[39m)\n\u001b[0;32m     39\u001b[0m \u001b[39mdef\u001b[39;00m \u001b[39m__eq__\u001b[39m(\u001b[39mself\u001b[39m, other):\n\u001b[1;32m---> 40\u001b[0m     \u001b[39mreturn\u001b[39;00m \u001b[39mself\u001b[39;49m\u001b[39m.\u001b[39;49m_cmp_method(other, operator\u001b[39m.\u001b[39;49meq)\n",
      "File \u001b[1;32mc:\\Users\\kurma\\AppData\\Local\\Programs\\Python\\Python310\\lib\\site-packages\\pandas\\core\\arrays\\datetimelike.py:1025\u001b[0m, in \u001b[0;36mDatetimeLikeArrayMixin._cmp_method\u001b[1;34m(self, other, op)\u001b[0m\n\u001b[0;32m   1023\u001b[0m other_vals \u001b[39m=\u001b[39m \u001b[39mself\u001b[39m\u001b[39m.\u001b[39m_unbox(other)\n\u001b[0;32m   1024\u001b[0m \u001b[39m# GH#37462 comparison on i8 values is almost 2x faster than M8/m8\u001b[39;00m\n\u001b[1;32m-> 1025\u001b[0m result \u001b[39m=\u001b[39m op(\u001b[39mself\u001b[39;49m\u001b[39m.\u001b[39;49m_ndarray\u001b[39m.\u001b[39;49mview(\u001b[39m\"\u001b[39;49m\u001b[39mi8\u001b[39;49m\u001b[39m\"\u001b[39;49m), other_vals\u001b[39m.\u001b[39;49mview(\u001b[39m\"\u001b[39;49m\u001b[39mi8\u001b[39;49m\u001b[39m\"\u001b[39;49m))\n\u001b[0;32m   1027\u001b[0m o_mask \u001b[39m=\u001b[39m isna(other)\n\u001b[0;32m   1028\u001b[0m mask \u001b[39m=\u001b[39m \u001b[39mself\u001b[39m\u001b[39m.\u001b[39m_isnan \u001b[39m|\u001b[39m o_mask\n",
      "\u001b[1;31mKeyboardInterrupt\u001b[0m: "
     ]
    }
   ],
   "source": [
    "for row in tqdm(val_data.itertuples(), total=val_data.shape[0]):\n",
    "    val_data.loc[row.Index, 'guess'] = make_guess1(row)\n",
    "\n",
    "analyize_matches(val_data.severity, val_data.guess)\n",
    "rmse(val_data.severity, val_data.guess)"
   ]
  },
  {
   "cell_type": "code",
   "execution_count": null,
   "metadata": {},
   "outputs": [],
   "source": [
    "# 0.08284486127393513 + 0.008206330597889801 + 0.0011723329425556857\n",
    "# 91% preds < 1 offs, 99% preds < 2 offs, 88% preds == 2 offs"
   ]
  },
  {
   "cell_type": "code",
   "execution_count": null,
   "metadata": {},
   "outputs": [
    {
     "name": "stderr",
     "output_type": "stream",
     "text": [
      "100%|██████████| 2559/2559 [00:07<00:00, 333.95it/s]"
     ]
    },
    {
     "name": "stdout",
     "output_type": "stream",
     "text": [
      "Exact matches:  0.5560765924189136\n",
      "Missed by 1:  0.3903868698710434\n",
      "Missed by 2:  0.047284095349745994\n",
      "Missed by 3:  0.005861664712778429\n",
      "Missed by 4:  0.00039077764751856197\n"
     ]
    },
    {
     "name": "stderr",
     "output_type": "stream",
     "text": [
      "\n"
     ]
    },
    {
     "data": {
      "text/plain": [
       "0.7990811448440829"
      ]
     },
     "execution_count": 17,
     "metadata": {},
     "output_type": "execute_result"
    }
   ],
   "source": [
    "count = 0\n",
    "\n",
    "for row in tqdm(val_data.itertuples(), total=val_data.shape[0]):\n",
    "    val_data.loc[row.Index, 'guess'] = make_guess2(row)\n",
    "\n",
    "analyize_matches(val_data.severity, val_data.guess)\n",
    "\n",
    "rmse(val_data.severity, val_data.guess)"
   ]
  },
  {
   "attachments": {},
   "cell_type": "markdown",
   "metadata": {},
   "source": [
    "### New Era VAL SET"
   ]
  },
  {
   "cell_type": "code",
   "execution_count": null,
   "metadata": {},
   "outputs": [
    {
     "name": "stdout",
     "output_type": "stream",
     "text": [
      "set()\n",
      "0.9328793774319066\n"
     ]
    }
   ],
   "source": [
    "val_data2['date_reg'] = val_data2.date.astype(str) + \"_\" +  val_data2.region\n",
    "tr_data2['date_reg'] = tr_data2.date.astype(str) + \"_\" +  tr_data2.region\n",
    "\n",
    "assert (val_data2.columns == tr_data2.columns).all()\n",
    "\n",
    "print(set(val_data2.uid).intersection(set(tr_data2.uid)))\n",
    "\n",
    "#  Intersection percentage of date and regs before\n",
    "print(len(set(val_data2.date_reg).intersection(set(tr_data2.date_reg)))/val_data2.date_reg.nunique())"
   ]
  },
  {
   "cell_type": "code",
   "execution_count": null,
   "metadata": {},
   "outputs": [
    {
     "data": {
      "text/plain": [
       "0.372568093385214"
      ]
     },
     "execution_count": 65,
     "metadata": {},
     "output_type": "execute_result"
    }
   ],
   "source": [
    "datereg_to_remove = val_data2.date_reg.sample(frac=0.40, random_state=123456789)\n",
    "tr_data2_ = tr_data2[~tr_data2.date_reg.isin(datereg_to_remove)]\n",
    "\n",
    "len(set(val_data2.date_reg).intersection(set(tr_data2_.date_reg)))/val_data2.date_reg.nunique()"
   ]
  },
  {
   "cell_type": "code",
   "execution_count": null,
   "metadata": {},
   "outputs": [
    {
     "data": {
      "text/plain": [
       "0.6537013801756587"
      ]
     },
     "execution_count": 66,
     "metadata": {},
     "output_type": "execute_result"
    }
   ],
   "source": [
    "len(set(val_data2.date).intersection(set(tr_data2_.date)))/val_data2.date.nunique()"
   ]
  },
  {
   "cell_type": "code",
   "execution_count": null,
   "metadata": {},
   "outputs": [
    {
     "data": {
      "text/plain": [
       "0.701095461658842"
      ]
     },
     "execution_count": 67,
     "metadata": {},
     "output_type": "execute_result"
    }
   ],
   "source": [
    "len(set(test_data.date).intersection(set(train_data.date)))/test_data.date.nunique()"
   ]
  },
  {
   "cell_type": "code",
   "execution_count": null,
   "metadata": {},
   "outputs": [
    {
     "data": {
      "text/plain": [
       "((5712, 13), (2559, 13), (17060, 12), (2559, 12))"
      ]
     },
     "execution_count": 68,
     "metadata": {},
     "output_type": "execute_result"
    }
   ],
   "source": [
    "tr_data2_.shape, val_data2.shape, train_data.shape, val_data.shape"
   ]
  },
  {
   "cell_type": "code",
   "execution_count": null,
   "metadata": {},
   "outputs": [
    {
     "data": {
      "text/plain": [
       "0.43902439024390244"
      ]
     },
     "execution_count": 69,
     "metadata": {},
     "output_type": "execute_result"
    }
   ],
   "source": [
    "tr_data3 = tr_data2.copy()\n",
    "val_data3 = val_data2.copy()\n",
    "\n",
    "datereg_to_remove = tr_data3.date_reg.sample(frac=0.60, random_state=123456789)\n",
    "val_data3_ = val_data3[~val_data3.date_reg.isin(datereg_to_remove)]\n",
    "\n",
    "len(set(val_data3_.date_reg).intersection(set(tr_data3.date_reg)))/val_data3_.date_reg.nunique()"
   ]
  },
  {
   "cell_type": "code",
   "execution_count": null,
   "metadata": {},
   "outputs": [
    {
     "data": {
      "text/plain": [
       "0.6186440677966102"
      ]
     },
     "execution_count": 70,
     "metadata": {},
     "output_type": "execute_result"
    }
   ],
   "source": [
    "len(set(val_data3_.date).intersection(set(tr_data2_.date)))/val_data3_.date.nunique()"
   ]
  },
  {
   "cell_type": "code",
   "execution_count": null,
   "metadata": {},
   "outputs": [
    {
     "data": {
      "text/plain": [
       "((2559, 13), (137, 13), (14501, 13))"
      ]
     },
     "execution_count": 71,
     "metadata": {},
     "output_type": "execute_result"
    }
   ],
   "source": [
    "val_data3.shape, val_data3_.shape, tr_data3.shape\n",
    "\n",
    "#  I wonder if this is a good idea!"
   ]
  },
  {
   "cell_type": "code",
   "execution_count": null,
   "metadata": {},
   "outputs": [
    {
     "name": "stderr",
     "output_type": "stream",
     "text": [
      "100%|██████████| 137/137 [00:01<00:00, 89.73it/s] "
     ]
    },
    {
     "name": "stdout",
     "output_type": "stream",
     "text": [
      "Exact matches:  0.5182481751824818\n",
      "Missed by 1:  0.29927007299270075\n",
      "Missed by 2:  0.145985401459854\n",
      "Missed by 3:  0.0364963503649635\n",
      "Missed by 4:  0.0\n"
     ]
    },
    {
     "name": "stderr",
     "output_type": "stream",
     "text": [
      "\n"
     ]
    },
    {
     "data": {
      "text/plain": [
       "1.100762840995638"
      ]
     },
     "execution_count": 26,
     "metadata": {},
     "output_type": "execute_result"
    }
   ],
   "source": [
    "# for row in tqdm(val_data3_.itertuples(), total=val_data3_.shape[0]):\n",
    "#     val_data3_.loc[row.Index, 'guess'] = make_guess2(row, tr_data=tr_data3)\n",
    "\n",
    "# analyize_matches(val_data3_.severity, val_data3_.guess)\n",
    "\n",
    "# rmse(val_data3_.severity, val_data3_.guess)"
   ]
  },
  {
   "attachments": {},
   "cell_type": "markdown",
   "metadata": {},
   "source": [
    "### Eval"
   ]
  },
  {
   "cell_type": "code",
   "execution_count": null,
   "metadata": {},
   "outputs": [],
   "source": [
    "def eval( guess_func=make_guess2, val_data=val_data3_, tr_data=tr_data3):\n",
    "    for row in tqdm(val_data.itertuples(), total=val_data.shape[0]):\n",
    "        val_data.loc[row.Index, 'guess'] = guess_func(row, tr_data=tr_data)\n",
    "    analyize_matches(val_data.severity, val_data.guess)\n",
    "    return rmse(val_data.severity, val_data.guess)"
   ]
  },
  {
   "cell_type": "code",
   "execution_count": null,
   "metadata": {},
   "outputs": [
    {
     "name": "stderr",
     "output_type": "stream",
     "text": [
      "100%|██████████| 137/137 [00:01<00:00, 88.98it/s] "
     ]
    },
    {
     "name": "stdout",
     "output_type": "stream",
     "text": [
      "Exact matches:  0.5182481751824818\n",
      "Missed by 1:  0.29927007299270075\n",
      "Missed by 2:  0.145985401459854\n",
      "Missed by 3:  0.0364963503649635\n",
      "Missed by 4:  0.0\n"
     ]
    },
    {
     "name": "stderr",
     "output_type": "stream",
     "text": [
      "\n"
     ]
    },
    {
     "data": {
      "text/plain": [
       "1.100762840995638"
      ]
     },
     "execution_count": 28,
     "metadata": {},
     "output_type": "execute_result"
    }
   ],
   "source": [
    "eval()"
   ]
  },
  {
   "cell_type": "code",
   "execution_count": null,
   "metadata": {},
   "outputs": [
    {
     "name": "stderr",
     "output_type": "stream",
     "text": [
      "100%|██████████| 2559/2559 [00:08<00:00, 301.92it/s]"
     ]
    },
    {
     "name": "stdout",
     "output_type": "stream",
     "text": [
      "Exact matches:  0.5560765924189136\n",
      "Missed by 1:  0.3903868698710434\n",
      "Missed by 2:  0.047284095349745994\n",
      "Missed by 3:  0.005861664712778429\n",
      "Missed by 4:  0.00039077764751856197\n"
     ]
    },
    {
     "name": "stderr",
     "output_type": "stream",
     "text": [
      "\n"
     ]
    },
    {
     "data": {
      "text/plain": [
       "0.7990811448440829"
      ]
     },
     "execution_count": 29,
     "metadata": {},
     "output_type": "execute_result"
    }
   ],
   "source": [
    "eval(val_data=val_data3, tr_data=tr_data3)"
   ]
  },
  {
   "cell_type": "code",
   "execution_count": null,
   "metadata": {},
   "outputs": [
    {
     "name": "stderr",
     "output_type": "stream",
     "text": [
      "  0%|          | 6/2559 [00:00<00:49, 51.36it/s]"
     ]
    },
    {
     "name": "stdout",
     "output_type": "stream",
     "text": [
      "No previous data for this date filling in 2s .. for pfly\n",
      "No previous data for this date filling in 2s .. for jalu\n",
      "No previous data for this date filling in 2s .. for jubi\n",
      "No previous data for this date filling in 2s .. for pdqu\n",
      "No previous data for this date filling in 2s .. for ipsj\n"
     ]
    },
    {
     "name": "stderr",
     "output_type": "stream",
     "text": [
      "  0%|          | 12/2559 [00:00<01:04, 39.63it/s]"
     ]
    },
    {
     "name": "stdout",
     "output_type": "stream",
     "text": [
      "No previous data for this date filling in 2s .. for acmt\n",
      "No previous data for this date filling in 2s .. for htnz\n",
      "No previous data for this date filling in 2s .. for kptf\n"
     ]
    },
    {
     "name": "stderr",
     "output_type": "stream",
     "text": [
      "100%|██████████| 2559/2559 [00:29<00:00, 88.17it/s] "
     ]
    },
    {
     "name": "stdout",
     "output_type": "stream",
     "text": [
      "Exact matches:  0.5166080500195389\n",
      "Missed by 1:  0.3583431027745213\n",
      "Missed by 2:  0.08909730363423213\n",
      "Missed by 3:  0.03477921062915201\n",
      "Missed by 4:  0.0011723329425556857\n"
     ]
    },
    {
     "name": "stderr",
     "output_type": "stream",
     "text": [
      "\n"
     ]
    },
    {
     "data": {
      "text/plain": [
       "1.0229870673936738"
      ]
     },
     "execution_count": 30,
     "metadata": {},
     "output_type": "execute_result"
    }
   ],
   "source": [
    "eval(val_data=val_data2, tr_data=tr_data2_)"
   ]
  },
  {
   "cell_type": "code",
   "execution_count": null,
   "metadata": {},
   "outputs": [
    {
     "data": {
      "text/html": [
       "<div>\n",
       "<style scoped>\n",
       "    .dataframe tbody tr th:only-of-type {\n",
       "        vertical-align: middle;\n",
       "    }\n",
       "\n",
       "    .dataframe tbody tr th {\n",
       "        vertical-align: top;\n",
       "    }\n",
       "\n",
       "    .dataframe thead th {\n",
       "        text-align: right;\n",
       "    }\n",
       "</style>\n",
       "<table border=\"1\" class=\"dataframe\">\n",
       "  <thead>\n",
       "    <tr style=\"text-align: right;\">\n",
       "      <th></th>\n",
       "      <th>uid</th>\n",
       "      <th>latitude</th>\n",
       "      <th>longitude</th>\n",
       "      <th>date</th>\n",
       "      <th>split</th>\n",
       "      <th>year</th>\n",
       "      <th>month</th>\n",
       "      <th>week</th>\n",
       "      <th>season</th>\n",
       "      <th>region</th>\n",
       "      <th>severity</th>\n",
       "      <th>density</th>\n",
       "    </tr>\n",
       "  </thead>\n",
       "  <tbody>\n",
       "    <tr>\n",
       "      <th>9649</th>\n",
       "      <td>kptf</td>\n",
       "      <td>38.307</td>\n",
       "      <td>-121.794</td>\n",
       "      <td>2013-02-19</td>\n",
       "      <td>train</td>\n",
       "      <td>2013</td>\n",
       "      <td>2</td>\n",
       "      <td>8</td>\n",
       "      <td>1</td>\n",
       "      <td>west</td>\n",
       "      <td>4.0</td>\n",
       "      <td>6930000.0</td>\n",
       "    </tr>\n",
       "  </tbody>\n",
       "</table>\n",
       "</div>"
      ],
      "text/plain": [
       "       uid  latitude  longitude       date  split  year  month  week  season  \\\n",
       "9649  kptf    38.307   -121.794 2013-02-19  train  2013      2     8       1   \n",
       "\n",
       "     region  severity    density  \n",
       "9649   west       4.0  6930000.0  "
      ]
     },
     "execution_count": 31,
     "metadata": {},
     "output_type": "execute_result"
    }
   ],
   "source": [
    "train_data[train_data.uid == 'kptf']"
   ]
  },
  {
   "cell_type": "code",
   "execution_count": null,
   "metadata": {},
   "outputs": [
    {
     "data": {
      "text/html": [
       "<div>\n",
       "<style scoped>\n",
       "    .dataframe tbody tr th:only-of-type {\n",
       "        vertical-align: middle;\n",
       "    }\n",
       "\n",
       "    .dataframe tbody tr th {\n",
       "        vertical-align: top;\n",
       "    }\n",
       "\n",
       "    .dataframe thead th {\n",
       "        text-align: right;\n",
       "    }\n",
       "</style>\n",
       "<table border=\"1\" class=\"dataframe\">\n",
       "  <thead>\n",
       "    <tr style=\"text-align: right;\">\n",
       "      <th></th>\n",
       "      <th>uid</th>\n",
       "      <th>latitude</th>\n",
       "      <th>longitude</th>\n",
       "      <th>date</th>\n",
       "      <th>split</th>\n",
       "      <th>year</th>\n",
       "      <th>month</th>\n",
       "      <th>week</th>\n",
       "      <th>season</th>\n",
       "      <th>region</th>\n",
       "      <th>severity</th>\n",
       "      <th>density</th>\n",
       "      <th>date_reg</th>\n",
       "    </tr>\n",
       "  </thead>\n",
       "  <tbody>\n",
       "    <tr>\n",
       "      <th>13644</th>\n",
       "      <td>paev</td>\n",
       "      <td>44.822478</td>\n",
       "      <td>-93.367962</td>\n",
       "      <td>2013-01-04</td>\n",
       "      <td>train</td>\n",
       "      <td>2013</td>\n",
       "      <td>1</td>\n",
       "      <td>1</td>\n",
       "      <td>1</td>\n",
       "      <td>midwest</td>\n",
       "      <td>1.0</td>\n",
       "      <td>1884.0</td>\n",
       "      <td>2013-01-04_midwest</td>\n",
       "    </tr>\n",
       "    <tr>\n",
       "      <th>4387</th>\n",
       "      <td>evep</td>\n",
       "      <td>44.847993</td>\n",
       "      <td>-93.476318</td>\n",
       "      <td>2013-01-04</td>\n",
       "      <td>train</td>\n",
       "      <td>2013</td>\n",
       "      <td>1</td>\n",
       "      <td>1</td>\n",
       "      <td>1</td>\n",
       "      <td>midwest</td>\n",
       "      <td>1.0</td>\n",
       "      <td>115.0</td>\n",
       "      <td>2013-01-04_midwest</td>\n",
       "    </tr>\n",
       "    <tr>\n",
       "      <th>5566</th>\n",
       "      <td>gdxr</td>\n",
       "      <td>44.877646</td>\n",
       "      <td>-93.557842</td>\n",
       "      <td>2013-01-04</td>\n",
       "      <td>train</td>\n",
       "      <td>2013</td>\n",
       "      <td>1</td>\n",
       "      <td>1</td>\n",
       "      <td>1</td>\n",
       "      <td>midwest</td>\n",
       "      <td>1.0</td>\n",
       "      <td>1416.0</td>\n",
       "      <td>2013-01-04_midwest</td>\n",
       "    </tr>\n",
       "    <tr>\n",
       "      <th>6144</th>\n",
       "      <td>guny</td>\n",
       "      <td>44.878889</td>\n",
       "      <td>-93.490833</td>\n",
       "      <td>2013-01-04</td>\n",
       "      <td>train</td>\n",
       "      <td>2013</td>\n",
       "      <td>1</td>\n",
       "      <td>1</td>\n",
       "      <td>1</td>\n",
       "      <td>midwest</td>\n",
       "      <td>1.0</td>\n",
       "      <td>558.0</td>\n",
       "      <td>2013-01-04_midwest</td>\n",
       "    </tr>\n",
       "    <tr>\n",
       "      <th>5317</th>\n",
       "      <td>fwbt</td>\n",
       "      <td>44.850500</td>\n",
       "      <td>-93.515700</td>\n",
       "      <td>2013-01-04</td>\n",
       "      <td>train</td>\n",
       "      <td>2013</td>\n",
       "      <td>1</td>\n",
       "      <td>1</td>\n",
       "      <td>1</td>\n",
       "      <td>midwest</td>\n",
       "      <td>1.0</td>\n",
       "      <td>476.0</td>\n",
       "      <td>2013-01-04_midwest</td>\n",
       "    </tr>\n",
       "    <tr>\n",
       "      <th>...</th>\n",
       "      <td>...</td>\n",
       "      <td>...</td>\n",
       "      <td>...</td>\n",
       "      <td>...</td>\n",
       "      <td>...</td>\n",
       "      <td>...</td>\n",
       "      <td>...</td>\n",
       "      <td>...</td>\n",
       "      <td>...</td>\n",
       "      <td>...</td>\n",
       "      <td>...</td>\n",
       "      <td>...</td>\n",
       "      <td>...</td>\n",
       "    </tr>\n",
       "    <tr>\n",
       "      <th>23159</th>\n",
       "      <td>zoaj</td>\n",
       "      <td>36.060000</td>\n",
       "      <td>-78.760000</td>\n",
       "      <td>2021-12-14</td>\n",
       "      <td>train</td>\n",
       "      <td>2021</td>\n",
       "      <td>12</td>\n",
       "      <td>50</td>\n",
       "      <td>1</td>\n",
       "      <td>south</td>\n",
       "      <td>2.0</td>\n",
       "      <td>48233.0</td>\n",
       "      <td>2021-12-14_south</td>\n",
       "    </tr>\n",
       "    <tr>\n",
       "      <th>18793</th>\n",
       "      <td>uscb</td>\n",
       "      <td>35.980000</td>\n",
       "      <td>-78.843636</td>\n",
       "      <td>2021-12-14</td>\n",
       "      <td>train</td>\n",
       "      <td>2021</td>\n",
       "      <td>12</td>\n",
       "      <td>50</td>\n",
       "      <td>1</td>\n",
       "      <td>south</td>\n",
       "      <td>2.0</td>\n",
       "      <td>20021.0</td>\n",
       "      <td>2021-12-14_south</td>\n",
       "    </tr>\n",
       "    <tr>\n",
       "      <th>12047</th>\n",
       "      <td>ngxt</td>\n",
       "      <td>35.980000</td>\n",
       "      <td>-78.844133</td>\n",
       "      <td>2021-12-14</td>\n",
       "      <td>train</td>\n",
       "      <td>2021</td>\n",
       "      <td>12</td>\n",
       "      <td>50</td>\n",
       "      <td>1</td>\n",
       "      <td>south</td>\n",
       "      <td>1.0</td>\n",
       "      <td>5187.0</td>\n",
       "      <td>2021-12-14_south</td>\n",
       "    </tr>\n",
       "    <tr>\n",
       "      <th>22641</th>\n",
       "      <td>yyvh</td>\n",
       "      <td>35.980000</td>\n",
       "      <td>-78.843138</td>\n",
       "      <td>2021-12-14</td>\n",
       "      <td>train</td>\n",
       "      <td>2021</td>\n",
       "      <td>12</td>\n",
       "      <td>50</td>\n",
       "      <td>1</td>\n",
       "      <td>south</td>\n",
       "      <td>1.0</td>\n",
       "      <td>1660.0</td>\n",
       "      <td>2021-12-14_south</td>\n",
       "    </tr>\n",
       "    <tr>\n",
       "      <th>17778</th>\n",
       "      <td>tobi</td>\n",
       "      <td>36.030000</td>\n",
       "      <td>-78.705932</td>\n",
       "      <td>2021-12-14</td>\n",
       "      <td>train</td>\n",
       "      <td>2021</td>\n",
       "      <td>12</td>\n",
       "      <td>50</td>\n",
       "      <td>1</td>\n",
       "      <td>south</td>\n",
       "      <td>1.0</td>\n",
       "      <td>4357.0</td>\n",
       "      <td>2021-12-14_south</td>\n",
       "    </tr>\n",
       "  </tbody>\n",
       "</table>\n",
       "<p>14501 rows × 13 columns</p>\n",
       "</div>"
      ],
      "text/plain": [
       "        uid   latitude  longitude       date  split  year  month  week  \\\n",
       "13644  paev  44.822478 -93.367962 2013-01-04  train  2013      1     1   \n",
       "4387   evep  44.847993 -93.476318 2013-01-04  train  2013      1     1   \n",
       "5566   gdxr  44.877646 -93.557842 2013-01-04  train  2013      1     1   \n",
       "6144   guny  44.878889 -93.490833 2013-01-04  train  2013      1     1   \n",
       "5317   fwbt  44.850500 -93.515700 2013-01-04  train  2013      1     1   \n",
       "...     ...        ...        ...        ...    ...   ...    ...   ...   \n",
       "23159  zoaj  36.060000 -78.760000 2021-12-14  train  2021     12    50   \n",
       "18793  uscb  35.980000 -78.843636 2021-12-14  train  2021     12    50   \n",
       "12047  ngxt  35.980000 -78.844133 2021-12-14  train  2021     12    50   \n",
       "22641  yyvh  35.980000 -78.843138 2021-12-14  train  2021     12    50   \n",
       "17778  tobi  36.030000 -78.705932 2021-12-14  train  2021     12    50   \n",
       "\n",
       "       season   region  severity  density            date_reg  \n",
       "13644       1  midwest       1.0   1884.0  2013-01-04_midwest  \n",
       "4387        1  midwest       1.0    115.0  2013-01-04_midwest  \n",
       "5566        1  midwest       1.0   1416.0  2013-01-04_midwest  \n",
       "6144        1  midwest       1.0    558.0  2013-01-04_midwest  \n",
       "5317        1  midwest       1.0    476.0  2013-01-04_midwest  \n",
       "...       ...      ...       ...      ...                 ...  \n",
       "23159       1    south       2.0  48233.0    2021-12-14_south  \n",
       "18793       1    south       2.0  20021.0    2021-12-14_south  \n",
       "12047       1    south       1.0   5187.0    2021-12-14_south  \n",
       "22641       1    south       1.0   1660.0    2021-12-14_south  \n",
       "17778       1    south       1.0   4357.0    2021-12-14_south  \n",
       "\n",
       "[14501 rows x 13 columns]"
      ]
     },
     "execution_count": 32,
     "metadata": {},
     "output_type": "execute_result"
    }
   ],
   "source": [
    "tr_data3"
   ]
  },
  {
   "cell_type": "code",
   "execution_count": null,
   "metadata": {},
   "outputs": [
    {
     "data": {
      "text/plain": [
       "west         0.386861\n",
       "northeast    0.291971\n",
       "south        0.167883\n",
       "midwest      0.153285\n",
       "Name: region, dtype: float64"
      ]
     },
     "execution_count": 33,
     "metadata": {},
     "output_type": "execute_result"
    }
   ],
   "source": [
    "val_data3_.region.value_counts(normalize=True)"
   ]
  },
  {
   "cell_type": "code",
   "execution_count": null,
   "metadata": {},
   "outputs": [
    {
     "data": {
      "text/plain": [
       "west         0.366667\n",
       "midwest      0.240399\n",
       "south        0.232104\n",
       "northeast    0.160829\n",
       "Name: region, dtype: float64"
      ]
     },
     "execution_count": 34,
     "metadata": {},
     "output_type": "execute_result"
    }
   ],
   "source": [
    "test_data.region.value_counts(normalize=True)"
   ]
  },
  {
   "cell_type": "code",
   "execution_count": null,
   "metadata": {},
   "outputs": [
    {
     "data": {
      "text/plain": [
       "south        0.582649\n",
       "west         0.222352\n",
       "midwest      0.132864\n",
       "northeast    0.062134\n",
       "Name: region, dtype: float64"
      ]
     },
     "execution_count": 35,
     "metadata": {},
     "output_type": "execute_result"
    }
   ],
   "source": [
    "val_data2.region.value_counts(normalize=True)"
   ]
  },
  {
   "cell_type": "code",
   "execution_count": null,
   "metadata": {},
   "outputs": [
    {
     "data": {
      "text/plain": [
       "1.0    0.439234\n",
       "4.0    0.205940\n",
       "2.0    0.192263\n",
       "3.0    0.158265\n",
       "5.0    0.004299\n",
       "Name: severity, dtype: float64"
      ]
     },
     "execution_count": 36,
     "metadata": {},
     "output_type": "execute_result"
    }
   ],
   "source": [
    "val_data2.severity.value_counts(normalize=True)"
   ]
  },
  {
   "cell_type": "code",
   "execution_count": null,
   "metadata": {},
   "outputs": [
    {
     "data": {
      "text/plain": [
       "1.0    0.357664\n",
       "4.0    0.270073\n",
       "3.0    0.189781\n",
       "2.0    0.167883\n",
       "5.0    0.014599\n",
       "Name: severity, dtype: float64"
      ]
     },
     "execution_count": 37,
     "metadata": {},
     "output_type": "execute_result"
    }
   ],
   "source": [
    "val_data3_.severity.value_counts(normalize=True)"
   ]
  },
  {
   "cell_type": "code",
   "execution_count": null,
   "metadata": {},
   "outputs": [
    {
     "data": {
      "text/html": [
       "<div>\n",
       "<style scoped>\n",
       "    .dataframe tbody tr th:only-of-type {\n",
       "        vertical-align: middle;\n",
       "    }\n",
       "\n",
       "    .dataframe tbody tr th {\n",
       "        vertical-align: top;\n",
       "    }\n",
       "\n",
       "    .dataframe thead th {\n",
       "        text-align: right;\n",
       "    }\n",
       "</style>\n",
       "<table border=\"1\" class=\"dataframe\">\n",
       "  <thead>\n",
       "    <tr style=\"text-align: right;\">\n",
       "      <th></th>\n",
       "      <th>uid</th>\n",
       "      <th>latitude</th>\n",
       "      <th>longitude</th>\n",
       "      <th>date</th>\n",
       "      <th>split</th>\n",
       "      <th>year</th>\n",
       "      <th>month</th>\n",
       "      <th>week</th>\n",
       "      <th>season</th>\n",
       "      <th>region</th>\n",
       "      <th>severity</th>\n",
       "      <th>density</th>\n",
       "      <th>date_reg</th>\n",
       "      <th>guess</th>\n",
       "    </tr>\n",
       "  </thead>\n",
       "  <tbody>\n",
       "    <tr>\n",
       "      <th>13772</th>\n",
       "      <td>pdqu</td>\n",
       "      <td>38.59010</td>\n",
       "      <td>-121.731000</td>\n",
       "      <td>2013-01-22</td>\n",
       "      <td>train</td>\n",
       "      <td>2013</td>\n",
       "      <td>1</td>\n",
       "      <td>4</td>\n",
       "      <td>1</td>\n",
       "      <td>west</td>\n",
       "      <td>4.0</td>\n",
       "      <td>4.180000e+06</td>\n",
       "      <td>2013-01-22_west</td>\n",
       "      <td>4.0</td>\n",
       "    </tr>\n",
       "    <tr>\n",
       "      <th>6595</th>\n",
       "      <td>hhfq</td>\n",
       "      <td>38.30560</td>\n",
       "      <td>-122.026000</td>\n",
       "      <td>2013-03-20</td>\n",
       "      <td>train</td>\n",
       "      <td>2013</td>\n",
       "      <td>3</td>\n",
       "      <td>12</td>\n",
       "      <td>2</td>\n",
       "      <td>west</td>\n",
       "      <td>4.0</td>\n",
       "      <td>7.220000e+06</td>\n",
       "      <td>2013-03-20_west</td>\n",
       "      <td>4.0</td>\n",
       "    </tr>\n",
       "    <tr>\n",
       "      <th>2087</th>\n",
       "      <td>cimy</td>\n",
       "      <td>33.19360</td>\n",
       "      <td>-104.356700</td>\n",
       "      <td>2013-03-20</td>\n",
       "      <td>train</td>\n",
       "      <td>2013</td>\n",
       "      <td>3</td>\n",
       "      <td>12</td>\n",
       "      <td>2</td>\n",
       "      <td>west</td>\n",
       "      <td>1.0</td>\n",
       "      <td>1.301653e+03</td>\n",
       "      <td>2013-03-20_west</td>\n",
       "      <td>4.0</td>\n",
       "    </tr>\n",
       "    <tr>\n",
       "      <th>11867</th>\n",
       "      <td>napd</td>\n",
       "      <td>38.59010</td>\n",
       "      <td>-121.731000</td>\n",
       "      <td>2013-03-20</td>\n",
       "      <td>train</td>\n",
       "      <td>2013</td>\n",
       "      <td>3</td>\n",
       "      <td>12</td>\n",
       "      <td>2</td>\n",
       "      <td>west</td>\n",
       "      <td>4.0</td>\n",
       "      <td>7.457500e+06</td>\n",
       "      <td>2013-03-20_west</td>\n",
       "      <td>4.0</td>\n",
       "    </tr>\n",
       "    <tr>\n",
       "      <th>23487</th>\n",
       "      <td>zxjy</td>\n",
       "      <td>32.38401</td>\n",
       "      <td>-104.145830</td>\n",
       "      <td>2013-06-06</td>\n",
       "      <td>train</td>\n",
       "      <td>2013</td>\n",
       "      <td>6</td>\n",
       "      <td>23</td>\n",
       "      <td>3</td>\n",
       "      <td>west</td>\n",
       "      <td>2.0</td>\n",
       "      <td>7.108144e+04</td>\n",
       "      <td>2013-06-06_west</td>\n",
       "      <td>1.0</td>\n",
       "    </tr>\n",
       "    <tr>\n",
       "      <th>...</th>\n",
       "      <td>...</td>\n",
       "      <td>...</td>\n",
       "      <td>...</td>\n",
       "      <td>...</td>\n",
       "      <td>...</td>\n",
       "      <td>...</td>\n",
       "      <td>...</td>\n",
       "      <td>...</td>\n",
       "      <td>...</td>\n",
       "      <td>...</td>\n",
       "      <td>...</td>\n",
       "      <td>...</td>\n",
       "      <td>...</td>\n",
       "      <td>...</td>\n",
       "    </tr>\n",
       "    <tr>\n",
       "      <th>13421</th>\n",
       "      <td>otnr</td>\n",
       "      <td>41.56372</td>\n",
       "      <td>-75.707820</td>\n",
       "      <td>2021-07-26</td>\n",
       "      <td>train</td>\n",
       "      <td>2021</td>\n",
       "      <td>7</td>\n",
       "      <td>30</td>\n",
       "      <td>3</td>\n",
       "      <td>northeast</td>\n",
       "      <td>3.0</td>\n",
       "      <td>1.581330e+05</td>\n",
       "      <td>2021-07-26_northeast</td>\n",
       "      <td>3.0</td>\n",
       "    </tr>\n",
       "    <tr>\n",
       "      <th>15725</th>\n",
       "      <td>rhru</td>\n",
       "      <td>40.35642</td>\n",
       "      <td>-76.409560</td>\n",
       "      <td>2021-07-26</td>\n",
       "      <td>train</td>\n",
       "      <td>2021</td>\n",
       "      <td>7</td>\n",
       "      <td>30</td>\n",
       "      <td>3</td>\n",
       "      <td>northeast</td>\n",
       "      <td>1.0</td>\n",
       "      <td>1.600000e+03</td>\n",
       "      <td>2021-07-26_northeast</td>\n",
       "      <td>3.0</td>\n",
       "    </tr>\n",
       "    <tr>\n",
       "      <th>17089</th>\n",
       "      <td>sulb</td>\n",
       "      <td>41.50357</td>\n",
       "      <td>-111.022560</td>\n",
       "      <td>2021-07-27</td>\n",
       "      <td>train</td>\n",
       "      <td>2021</td>\n",
       "      <td>7</td>\n",
       "      <td>30</td>\n",
       "      <td>3</td>\n",
       "      <td>west</td>\n",
       "      <td>5.0</td>\n",
       "      <td>1.855960e+07</td>\n",
       "      <td>2021-07-27_west</td>\n",
       "      <td>4.0</td>\n",
       "    </tr>\n",
       "    <tr>\n",
       "      <th>14474</th>\n",
       "      <td>pxhr</td>\n",
       "      <td>35.68000</td>\n",
       "      <td>-79.109639</td>\n",
       "      <td>2021-08-14</td>\n",
       "      <td>train</td>\n",
       "      <td>2021</td>\n",
       "      <td>8</td>\n",
       "      <td>32</td>\n",
       "      <td>3</td>\n",
       "      <td>south</td>\n",
       "      <td>3.0</td>\n",
       "      <td>1.321570e+05</td>\n",
       "      <td>2021-08-14_south</td>\n",
       "      <td>3.0</td>\n",
       "    </tr>\n",
       "    <tr>\n",
       "      <th>13449</th>\n",
       "      <td>ouqd</td>\n",
       "      <td>35.97000</td>\n",
       "      <td>-78.630000</td>\n",
       "      <td>2021-12-07</td>\n",
       "      <td>train</td>\n",
       "      <td>2021</td>\n",
       "      <td>12</td>\n",
       "      <td>49</td>\n",
       "      <td>1</td>\n",
       "      <td>south</td>\n",
       "      <td>2.0</td>\n",
       "      <td>2.549500e+04</td>\n",
       "      <td>2021-12-07_south</td>\n",
       "      <td>2.0</td>\n",
       "    </tr>\n",
       "  </tbody>\n",
       "</table>\n",
       "<p>137 rows × 14 columns</p>\n",
       "</div>"
      ],
      "text/plain": [
       "        uid  latitude   longitude       date  split  year  month  week  \\\n",
       "13772  pdqu  38.59010 -121.731000 2013-01-22  train  2013      1     4   \n",
       "6595   hhfq  38.30560 -122.026000 2013-03-20  train  2013      3    12   \n",
       "2087   cimy  33.19360 -104.356700 2013-03-20  train  2013      3    12   \n",
       "11867  napd  38.59010 -121.731000 2013-03-20  train  2013      3    12   \n",
       "23487  zxjy  32.38401 -104.145830 2013-06-06  train  2013      6    23   \n",
       "...     ...       ...         ...        ...    ...   ...    ...   ...   \n",
       "13421  otnr  41.56372  -75.707820 2021-07-26  train  2021      7    30   \n",
       "15725  rhru  40.35642  -76.409560 2021-07-26  train  2021      7    30   \n",
       "17089  sulb  41.50357 -111.022560 2021-07-27  train  2021      7    30   \n",
       "14474  pxhr  35.68000  -79.109639 2021-08-14  train  2021      8    32   \n",
       "13449  ouqd  35.97000  -78.630000 2021-12-07  train  2021     12    49   \n",
       "\n",
       "       season     region  severity       density              date_reg  guess  \n",
       "13772       1       west       4.0  4.180000e+06       2013-01-22_west    4.0  \n",
       "6595        2       west       4.0  7.220000e+06       2013-03-20_west    4.0  \n",
       "2087        2       west       1.0  1.301653e+03       2013-03-20_west    4.0  \n",
       "11867       2       west       4.0  7.457500e+06       2013-03-20_west    4.0  \n",
       "23487       3       west       2.0  7.108144e+04       2013-06-06_west    1.0  \n",
       "...       ...        ...       ...           ...                   ...    ...  \n",
       "13421       3  northeast       3.0  1.581330e+05  2021-07-26_northeast    3.0  \n",
       "15725       3  northeast       1.0  1.600000e+03  2021-07-26_northeast    3.0  \n",
       "17089       3       west       5.0  1.855960e+07       2021-07-27_west    4.0  \n",
       "14474       3      south       3.0  1.321570e+05      2021-08-14_south    3.0  \n",
       "13449       1      south       2.0  2.549500e+04      2021-12-07_south    2.0  \n",
       "\n",
       "[137 rows x 14 columns]"
      ]
     },
     "execution_count": 38,
     "metadata": {},
     "output_type": "execute_result"
    }
   ],
   "source": [
    "val_data3_"
   ]
  },
  {
   "cell_type": "code",
   "execution_count": null,
   "metadata": {},
   "outputs": [
    {
     "data": {
      "text/plain": [
       "region\n",
       "midwest      2.0\n",
       "northeast    2.0\n",
       "south        2.0\n",
       "west         4.0\n",
       "Name: severity, dtype: float64"
      ]
     },
     "execution_count": 39,
     "metadata": {},
     "output_type": "execute_result"
    }
   ],
   "source": [
    "avg_sev_reg = tr_data3.groupby('region').severity.mean().apply(np.round)\n",
    "avg_sev_reg"
   ]
  },
  {
   "cell_type": "code",
   "execution_count": null,
   "metadata": {},
   "outputs": [
    {
     "data": {
      "text/html": [
       "<div>\n",
       "<style scoped>\n",
       "    .dataframe tbody tr th:only-of-type {\n",
       "        vertical-align: middle;\n",
       "    }\n",
       "\n",
       "    .dataframe tbody tr th {\n",
       "        vertical-align: top;\n",
       "    }\n",
       "\n",
       "    .dataframe thead th {\n",
       "        text-align: right;\n",
       "    }\n",
       "</style>\n",
       "<table border=\"1\" class=\"dataframe\">\n",
       "  <thead>\n",
       "    <tr style=\"text-align: right;\">\n",
       "      <th></th>\n",
       "      <th>uid</th>\n",
       "      <th>latitude</th>\n",
       "      <th>longitude</th>\n",
       "      <th>date</th>\n",
       "      <th>split</th>\n",
       "      <th>year</th>\n",
       "      <th>month</th>\n",
       "      <th>week</th>\n",
       "      <th>season</th>\n",
       "      <th>region</th>\n",
       "      <th>severity</th>\n",
       "      <th>density</th>\n",
       "      <th>date_reg</th>\n",
       "    </tr>\n",
       "  </thead>\n",
       "  <tbody>\n",
       "    <tr>\n",
       "      <th>13644</th>\n",
       "      <td>paev</td>\n",
       "      <td>44.822478</td>\n",
       "      <td>-93.367962</td>\n",
       "      <td>2013-01-04</td>\n",
       "      <td>train</td>\n",
       "      <td>2013</td>\n",
       "      <td>1</td>\n",
       "      <td>1</td>\n",
       "      <td>1</td>\n",
       "      <td>midwest</td>\n",
       "      <td>1.0</td>\n",
       "      <td>1884.0</td>\n",
       "      <td>2013-01-04_midwest</td>\n",
       "    </tr>\n",
       "    <tr>\n",
       "      <th>4387</th>\n",
       "      <td>evep</td>\n",
       "      <td>44.847993</td>\n",
       "      <td>-93.476318</td>\n",
       "      <td>2013-01-04</td>\n",
       "      <td>train</td>\n",
       "      <td>2013</td>\n",
       "      <td>1</td>\n",
       "      <td>1</td>\n",
       "      <td>1</td>\n",
       "      <td>midwest</td>\n",
       "      <td>1.0</td>\n",
       "      <td>115.0</td>\n",
       "      <td>2013-01-04_midwest</td>\n",
       "    </tr>\n",
       "    <tr>\n",
       "      <th>5566</th>\n",
       "      <td>gdxr</td>\n",
       "      <td>44.877646</td>\n",
       "      <td>-93.557842</td>\n",
       "      <td>2013-01-04</td>\n",
       "      <td>train</td>\n",
       "      <td>2013</td>\n",
       "      <td>1</td>\n",
       "      <td>1</td>\n",
       "      <td>1</td>\n",
       "      <td>midwest</td>\n",
       "      <td>1.0</td>\n",
       "      <td>1416.0</td>\n",
       "      <td>2013-01-04_midwest</td>\n",
       "    </tr>\n",
       "    <tr>\n",
       "      <th>6144</th>\n",
       "      <td>guny</td>\n",
       "      <td>44.878889</td>\n",
       "      <td>-93.490833</td>\n",
       "      <td>2013-01-04</td>\n",
       "      <td>train</td>\n",
       "      <td>2013</td>\n",
       "      <td>1</td>\n",
       "      <td>1</td>\n",
       "      <td>1</td>\n",
       "      <td>midwest</td>\n",
       "      <td>1.0</td>\n",
       "      <td>558.0</td>\n",
       "      <td>2013-01-04_midwest</td>\n",
       "    </tr>\n",
       "    <tr>\n",
       "      <th>5317</th>\n",
       "      <td>fwbt</td>\n",
       "      <td>44.850500</td>\n",
       "      <td>-93.515700</td>\n",
       "      <td>2013-01-04</td>\n",
       "      <td>train</td>\n",
       "      <td>2013</td>\n",
       "      <td>1</td>\n",
       "      <td>1</td>\n",
       "      <td>1</td>\n",
       "      <td>midwest</td>\n",
       "      <td>1.0</td>\n",
       "      <td>476.0</td>\n",
       "      <td>2013-01-04_midwest</td>\n",
       "    </tr>\n",
       "    <tr>\n",
       "      <th>...</th>\n",
       "      <td>...</td>\n",
       "      <td>...</td>\n",
       "      <td>...</td>\n",
       "      <td>...</td>\n",
       "      <td>...</td>\n",
       "      <td>...</td>\n",
       "      <td>...</td>\n",
       "      <td>...</td>\n",
       "      <td>...</td>\n",
       "      <td>...</td>\n",
       "      <td>...</td>\n",
       "      <td>...</td>\n",
       "      <td>...</td>\n",
       "    </tr>\n",
       "    <tr>\n",
       "      <th>23159</th>\n",
       "      <td>zoaj</td>\n",
       "      <td>36.060000</td>\n",
       "      <td>-78.760000</td>\n",
       "      <td>2021-12-14</td>\n",
       "      <td>train</td>\n",
       "      <td>2021</td>\n",
       "      <td>12</td>\n",
       "      <td>50</td>\n",
       "      <td>1</td>\n",
       "      <td>south</td>\n",
       "      <td>2.0</td>\n",
       "      <td>48233.0</td>\n",
       "      <td>2021-12-14_south</td>\n",
       "    </tr>\n",
       "    <tr>\n",
       "      <th>18793</th>\n",
       "      <td>uscb</td>\n",
       "      <td>35.980000</td>\n",
       "      <td>-78.843636</td>\n",
       "      <td>2021-12-14</td>\n",
       "      <td>train</td>\n",
       "      <td>2021</td>\n",
       "      <td>12</td>\n",
       "      <td>50</td>\n",
       "      <td>1</td>\n",
       "      <td>south</td>\n",
       "      <td>2.0</td>\n",
       "      <td>20021.0</td>\n",
       "      <td>2021-12-14_south</td>\n",
       "    </tr>\n",
       "    <tr>\n",
       "      <th>12047</th>\n",
       "      <td>ngxt</td>\n",
       "      <td>35.980000</td>\n",
       "      <td>-78.844133</td>\n",
       "      <td>2021-12-14</td>\n",
       "      <td>train</td>\n",
       "      <td>2021</td>\n",
       "      <td>12</td>\n",
       "      <td>50</td>\n",
       "      <td>1</td>\n",
       "      <td>south</td>\n",
       "      <td>1.0</td>\n",
       "      <td>5187.0</td>\n",
       "      <td>2021-12-14_south</td>\n",
       "    </tr>\n",
       "    <tr>\n",
       "      <th>22641</th>\n",
       "      <td>yyvh</td>\n",
       "      <td>35.980000</td>\n",
       "      <td>-78.843138</td>\n",
       "      <td>2021-12-14</td>\n",
       "      <td>train</td>\n",
       "      <td>2021</td>\n",
       "      <td>12</td>\n",
       "      <td>50</td>\n",
       "      <td>1</td>\n",
       "      <td>south</td>\n",
       "      <td>1.0</td>\n",
       "      <td>1660.0</td>\n",
       "      <td>2021-12-14_south</td>\n",
       "    </tr>\n",
       "    <tr>\n",
       "      <th>17778</th>\n",
       "      <td>tobi</td>\n",
       "      <td>36.030000</td>\n",
       "      <td>-78.705932</td>\n",
       "      <td>2021-12-14</td>\n",
       "      <td>train</td>\n",
       "      <td>2021</td>\n",
       "      <td>12</td>\n",
       "      <td>50</td>\n",
       "      <td>1</td>\n",
       "      <td>south</td>\n",
       "      <td>1.0</td>\n",
       "      <td>4357.0</td>\n",
       "      <td>2021-12-14_south</td>\n",
       "    </tr>\n",
       "  </tbody>\n",
       "</table>\n",
       "<p>14501 rows × 13 columns</p>\n",
       "</div>"
      ],
      "text/plain": [
       "        uid   latitude  longitude       date  split  year  month  week  \\\n",
       "13644  paev  44.822478 -93.367962 2013-01-04  train  2013      1     1   \n",
       "4387   evep  44.847993 -93.476318 2013-01-04  train  2013      1     1   \n",
       "5566   gdxr  44.877646 -93.557842 2013-01-04  train  2013      1     1   \n",
       "6144   guny  44.878889 -93.490833 2013-01-04  train  2013      1     1   \n",
       "5317   fwbt  44.850500 -93.515700 2013-01-04  train  2013      1     1   \n",
       "...     ...        ...        ...        ...    ...   ...    ...   ...   \n",
       "23159  zoaj  36.060000 -78.760000 2021-12-14  train  2021     12    50   \n",
       "18793  uscb  35.980000 -78.843636 2021-12-14  train  2021     12    50   \n",
       "12047  ngxt  35.980000 -78.844133 2021-12-14  train  2021     12    50   \n",
       "22641  yyvh  35.980000 -78.843138 2021-12-14  train  2021     12    50   \n",
       "17778  tobi  36.030000 -78.705932 2021-12-14  train  2021     12    50   \n",
       "\n",
       "       season   region  severity  density            date_reg  \n",
       "13644       1  midwest       1.0   1884.0  2013-01-04_midwest  \n",
       "4387        1  midwest       1.0    115.0  2013-01-04_midwest  \n",
       "5566        1  midwest       1.0   1416.0  2013-01-04_midwest  \n",
       "6144        1  midwest       1.0    558.0  2013-01-04_midwest  \n",
       "5317        1  midwest       1.0    476.0  2013-01-04_midwest  \n",
       "...       ...      ...       ...      ...                 ...  \n",
       "23159       1    south       2.0  48233.0    2021-12-14_south  \n",
       "18793       1    south       2.0  20021.0    2021-12-14_south  \n",
       "12047       1    south       1.0   5187.0    2021-12-14_south  \n",
       "22641       1    south       1.0   1660.0    2021-12-14_south  \n",
       "17778       1    south       1.0   4357.0    2021-12-14_south  \n",
       "\n",
       "[14501 rows x 13 columns]"
      ]
     },
     "execution_count": 40,
     "metadata": {},
     "output_type": "execute_result"
    }
   ],
   "source": [
    "tr_data3"
   ]
  },
  {
   "cell_type": "code",
   "execution_count": null,
   "metadata": {},
   "outputs": [],
   "source": [
    "def guess_avgsevreg(row, **kwargs):\n",
    "    return avg_sev_reg[row.region]"
   ]
  },
  {
   "cell_type": "code",
   "execution_count": null,
   "metadata": {},
   "outputs": [
    {
     "name": "stderr",
     "output_type": "stream",
     "text": [
      "100%|██████████| 137/137 [00:00<00:00, 5616.84it/s]"
     ]
    },
    {
     "name": "stdout",
     "output_type": "stream",
     "text": [
      "Exact matches:  0.31386861313868614\n",
      "Missed by 1:  0.5036496350364964\n",
      "Missed by 2:  0.12408759124087591\n",
      "Missed by 3:  0.058394160583941604\n",
      "Missed by 4:  0.0\n"
     ]
    },
    {
     "name": "stderr",
     "output_type": "stream",
     "text": [
      "\n"
     ]
    },
    {
     "data": {
      "text/plain": [
       "1.2351305377390174"
      ]
     },
     "execution_count": 42,
     "metadata": {},
     "output_type": "execute_result"
    }
   ],
   "source": [
    "eval(guess_func=guess_avgsevreg)"
   ]
  },
  {
   "cell_type": "code",
   "execution_count": null,
   "metadata": {},
   "outputs": [],
   "source": [
    "#  Expanding severity man grop by region and season\n",
    "\n",
    "data3 = pd.concat([tr_data3, val_data3_], axis=0)\n",
    "data3.sort_values(by='date', inplace=True)"
   ]
  },
  {
   "cell_type": "code",
   "execution_count": null,
   "metadata": {},
   "outputs": [
    {
     "data": {
      "text/html": [
       "<div>\n",
       "<style scoped>\n",
       "    .dataframe tbody tr th:only-of-type {\n",
       "        vertical-align: middle;\n",
       "    }\n",
       "\n",
       "    .dataframe tbody tr th {\n",
       "        vertical-align: top;\n",
       "    }\n",
       "\n",
       "    .dataframe thead th {\n",
       "        text-align: right;\n",
       "    }\n",
       "</style>\n",
       "<table border=\"1\" class=\"dataframe\">\n",
       "  <thead>\n",
       "    <tr style=\"text-align: right;\">\n",
       "      <th></th>\n",
       "      <th>uid</th>\n",
       "      <th>latitude</th>\n",
       "      <th>longitude</th>\n",
       "      <th>date</th>\n",
       "      <th>split</th>\n",
       "      <th>year</th>\n",
       "      <th>month</th>\n",
       "      <th>week</th>\n",
       "      <th>season</th>\n",
       "      <th>region</th>\n",
       "      <th>severity</th>\n",
       "      <th>density</th>\n",
       "      <th>date_reg</th>\n",
       "      <th>guess</th>\n",
       "    </tr>\n",
       "  </thead>\n",
       "  <tbody>\n",
       "    <tr>\n",
       "      <th>13772</th>\n",
       "      <td>pdqu</td>\n",
       "      <td>38.59010</td>\n",
       "      <td>-121.731000</td>\n",
       "      <td>2013-01-22</td>\n",
       "      <td>train</td>\n",
       "      <td>2013</td>\n",
       "      <td>1</td>\n",
       "      <td>4</td>\n",
       "      <td>1</td>\n",
       "      <td>west</td>\n",
       "      <td>4.0</td>\n",
       "      <td>4.180000e+06</td>\n",
       "      <td>2013-01-22_west</td>\n",
       "      <td>4.0</td>\n",
       "    </tr>\n",
       "    <tr>\n",
       "      <th>6595</th>\n",
       "      <td>hhfq</td>\n",
       "      <td>38.30560</td>\n",
       "      <td>-122.026000</td>\n",
       "      <td>2013-03-20</td>\n",
       "      <td>train</td>\n",
       "      <td>2013</td>\n",
       "      <td>3</td>\n",
       "      <td>12</td>\n",
       "      <td>2</td>\n",
       "      <td>west</td>\n",
       "      <td>4.0</td>\n",
       "      <td>7.220000e+06</td>\n",
       "      <td>2013-03-20_west</td>\n",
       "      <td>4.0</td>\n",
       "    </tr>\n",
       "    <tr>\n",
       "      <th>2087</th>\n",
       "      <td>cimy</td>\n",
       "      <td>33.19360</td>\n",
       "      <td>-104.356700</td>\n",
       "      <td>2013-03-20</td>\n",
       "      <td>train</td>\n",
       "      <td>2013</td>\n",
       "      <td>3</td>\n",
       "      <td>12</td>\n",
       "      <td>2</td>\n",
       "      <td>west</td>\n",
       "      <td>1.0</td>\n",
       "      <td>1.301653e+03</td>\n",
       "      <td>2013-03-20_west</td>\n",
       "      <td>4.0</td>\n",
       "    </tr>\n",
       "    <tr>\n",
       "      <th>11867</th>\n",
       "      <td>napd</td>\n",
       "      <td>38.59010</td>\n",
       "      <td>-121.731000</td>\n",
       "      <td>2013-03-20</td>\n",
       "      <td>train</td>\n",
       "      <td>2013</td>\n",
       "      <td>3</td>\n",
       "      <td>12</td>\n",
       "      <td>2</td>\n",
       "      <td>west</td>\n",
       "      <td>4.0</td>\n",
       "      <td>7.457500e+06</td>\n",
       "      <td>2013-03-20_west</td>\n",
       "      <td>4.0</td>\n",
       "    </tr>\n",
       "    <tr>\n",
       "      <th>23487</th>\n",
       "      <td>zxjy</td>\n",
       "      <td>32.38401</td>\n",
       "      <td>-104.145830</td>\n",
       "      <td>2013-06-06</td>\n",
       "      <td>train</td>\n",
       "      <td>2013</td>\n",
       "      <td>6</td>\n",
       "      <td>23</td>\n",
       "      <td>3</td>\n",
       "      <td>west</td>\n",
       "      <td>2.0</td>\n",
       "      <td>7.108144e+04</td>\n",
       "      <td>2013-06-06_west</td>\n",
       "      <td>4.0</td>\n",
       "    </tr>\n",
       "    <tr>\n",
       "      <th>...</th>\n",
       "      <td>...</td>\n",
       "      <td>...</td>\n",
       "      <td>...</td>\n",
       "      <td>...</td>\n",
       "      <td>...</td>\n",
       "      <td>...</td>\n",
       "      <td>...</td>\n",
       "      <td>...</td>\n",
       "      <td>...</td>\n",
       "      <td>...</td>\n",
       "      <td>...</td>\n",
       "      <td>...</td>\n",
       "      <td>...</td>\n",
       "      <td>...</td>\n",
       "    </tr>\n",
       "    <tr>\n",
       "      <th>13421</th>\n",
       "      <td>otnr</td>\n",
       "      <td>41.56372</td>\n",
       "      <td>-75.707820</td>\n",
       "      <td>2021-07-26</td>\n",
       "      <td>train</td>\n",
       "      <td>2021</td>\n",
       "      <td>7</td>\n",
       "      <td>30</td>\n",
       "      <td>3</td>\n",
       "      <td>northeast</td>\n",
       "      <td>3.0</td>\n",
       "      <td>1.581330e+05</td>\n",
       "      <td>2021-07-26_northeast</td>\n",
       "      <td>2.0</td>\n",
       "    </tr>\n",
       "    <tr>\n",
       "      <th>15725</th>\n",
       "      <td>rhru</td>\n",
       "      <td>40.35642</td>\n",
       "      <td>-76.409560</td>\n",
       "      <td>2021-07-26</td>\n",
       "      <td>train</td>\n",
       "      <td>2021</td>\n",
       "      <td>7</td>\n",
       "      <td>30</td>\n",
       "      <td>3</td>\n",
       "      <td>northeast</td>\n",
       "      <td>1.0</td>\n",
       "      <td>1.600000e+03</td>\n",
       "      <td>2021-07-26_northeast</td>\n",
       "      <td>2.0</td>\n",
       "    </tr>\n",
       "    <tr>\n",
       "      <th>17089</th>\n",
       "      <td>sulb</td>\n",
       "      <td>41.50357</td>\n",
       "      <td>-111.022560</td>\n",
       "      <td>2021-07-27</td>\n",
       "      <td>train</td>\n",
       "      <td>2021</td>\n",
       "      <td>7</td>\n",
       "      <td>30</td>\n",
       "      <td>3</td>\n",
       "      <td>west</td>\n",
       "      <td>5.0</td>\n",
       "      <td>1.855960e+07</td>\n",
       "      <td>2021-07-27_west</td>\n",
       "      <td>4.0</td>\n",
       "    </tr>\n",
       "    <tr>\n",
       "      <th>14474</th>\n",
       "      <td>pxhr</td>\n",
       "      <td>35.68000</td>\n",
       "      <td>-79.109639</td>\n",
       "      <td>2021-08-14</td>\n",
       "      <td>train</td>\n",
       "      <td>2021</td>\n",
       "      <td>8</td>\n",
       "      <td>32</td>\n",
       "      <td>3</td>\n",
       "      <td>south</td>\n",
       "      <td>3.0</td>\n",
       "      <td>1.321570e+05</td>\n",
       "      <td>2021-08-14_south</td>\n",
       "      <td>2.0</td>\n",
       "    </tr>\n",
       "    <tr>\n",
       "      <th>13449</th>\n",
       "      <td>ouqd</td>\n",
       "      <td>35.97000</td>\n",
       "      <td>-78.630000</td>\n",
       "      <td>2021-12-07</td>\n",
       "      <td>train</td>\n",
       "      <td>2021</td>\n",
       "      <td>12</td>\n",
       "      <td>49</td>\n",
       "      <td>1</td>\n",
       "      <td>south</td>\n",
       "      <td>2.0</td>\n",
       "      <td>2.549500e+04</td>\n",
       "      <td>2021-12-07_south</td>\n",
       "      <td>2.0</td>\n",
       "    </tr>\n",
       "  </tbody>\n",
       "</table>\n",
       "<p>137 rows × 14 columns</p>\n",
       "</div>"
      ],
      "text/plain": [
       "        uid  latitude   longitude       date  split  year  month  week  \\\n",
       "13772  pdqu  38.59010 -121.731000 2013-01-22  train  2013      1     4   \n",
       "6595   hhfq  38.30560 -122.026000 2013-03-20  train  2013      3    12   \n",
       "2087   cimy  33.19360 -104.356700 2013-03-20  train  2013      3    12   \n",
       "11867  napd  38.59010 -121.731000 2013-03-20  train  2013      3    12   \n",
       "23487  zxjy  32.38401 -104.145830 2013-06-06  train  2013      6    23   \n",
       "...     ...       ...         ...        ...    ...   ...    ...   ...   \n",
       "13421  otnr  41.56372  -75.707820 2021-07-26  train  2021      7    30   \n",
       "15725  rhru  40.35642  -76.409560 2021-07-26  train  2021      7    30   \n",
       "17089  sulb  41.50357 -111.022560 2021-07-27  train  2021      7    30   \n",
       "14474  pxhr  35.68000  -79.109639 2021-08-14  train  2021      8    32   \n",
       "13449  ouqd  35.97000  -78.630000 2021-12-07  train  2021     12    49   \n",
       "\n",
       "       season     region  severity       density              date_reg  guess  \n",
       "13772       1       west       4.0  4.180000e+06       2013-01-22_west    4.0  \n",
       "6595        2       west       4.0  7.220000e+06       2013-03-20_west    4.0  \n",
       "2087        2       west       1.0  1.301653e+03       2013-03-20_west    4.0  \n",
       "11867       2       west       4.0  7.457500e+06       2013-03-20_west    4.0  \n",
       "23487       3       west       2.0  7.108144e+04       2013-06-06_west    4.0  \n",
       "...       ...        ...       ...           ...                   ...    ...  \n",
       "13421       3  northeast       3.0  1.581330e+05  2021-07-26_northeast    2.0  \n",
       "15725       3  northeast       1.0  1.600000e+03  2021-07-26_northeast    2.0  \n",
       "17089       3       west       5.0  1.855960e+07       2021-07-27_west    4.0  \n",
       "14474       3      south       3.0  1.321570e+05      2021-08-14_south    2.0  \n",
       "13449       1      south       2.0  2.549500e+04      2021-12-07_south    2.0  \n",
       "\n",
       "[137 rows x 14 columns]"
      ]
     },
     "execution_count": 44,
     "metadata": {},
     "output_type": "execute_result"
    }
   ],
   "source": [
    "val_data3_"
   ]
  },
  {
   "cell_type": "code",
   "execution_count": null,
   "metadata": {},
   "outputs": [
    {
     "data": {
      "text/html": [
       "<div>\n",
       "<style scoped>\n",
       "    .dataframe tbody tr th:only-of-type {\n",
       "        vertical-align: middle;\n",
       "    }\n",
       "\n",
       "    .dataframe tbody tr th {\n",
       "        vertical-align: top;\n",
       "    }\n",
       "\n",
       "    .dataframe thead th {\n",
       "        text-align: right;\n",
       "    }\n",
       "</style>\n",
       "<table border=\"1\" class=\"dataframe\">\n",
       "  <thead>\n",
       "    <tr style=\"text-align: right;\">\n",
       "      <th></th>\n",
       "      <th>uid</th>\n",
       "      <th>latitude</th>\n",
       "      <th>longitude</th>\n",
       "      <th>date</th>\n",
       "      <th>split</th>\n",
       "      <th>year</th>\n",
       "      <th>month</th>\n",
       "      <th>week</th>\n",
       "      <th>season</th>\n",
       "      <th>region</th>\n",
       "      <th>severity</th>\n",
       "      <th>density</th>\n",
       "      <th>date_reg</th>\n",
       "      <th>guess</th>\n",
       "    </tr>\n",
       "  </thead>\n",
       "  <tbody>\n",
       "    <tr>\n",
       "      <th>11867</th>\n",
       "      <td>napd</td>\n",
       "      <td>38.5901</td>\n",
       "      <td>-121.731000</td>\n",
       "      <td>2013-03-20</td>\n",
       "      <td>train</td>\n",
       "      <td>2013</td>\n",
       "      <td>3</td>\n",
       "      <td>12</td>\n",
       "      <td>2</td>\n",
       "      <td>west</td>\n",
       "      <td>4.0</td>\n",
       "      <td>7.457500e+06</td>\n",
       "      <td>2013-03-20_west</td>\n",
       "      <td>4.0</td>\n",
       "    </tr>\n",
       "    <tr>\n",
       "      <th>6595</th>\n",
       "      <td>hhfq</td>\n",
       "      <td>38.3056</td>\n",
       "      <td>-122.026000</td>\n",
       "      <td>2013-03-20</td>\n",
       "      <td>train</td>\n",
       "      <td>2013</td>\n",
       "      <td>3</td>\n",
       "      <td>12</td>\n",
       "      <td>2</td>\n",
       "      <td>west</td>\n",
       "      <td>4.0</td>\n",
       "      <td>7.220000e+06</td>\n",
       "      <td>2013-03-20_west</td>\n",
       "      <td>4.0</td>\n",
       "    </tr>\n",
       "    <tr>\n",
       "      <th>2012</th>\n",
       "      <td>cgdm</td>\n",
       "      <td>38.1205</td>\n",
       "      <td>-122.200000</td>\n",
       "      <td>2013-03-20</td>\n",
       "      <td>train</td>\n",
       "      <td>2013</td>\n",
       "      <td>3</td>\n",
       "      <td>12</td>\n",
       "      <td>2</td>\n",
       "      <td>west</td>\n",
       "      <td>4.0</td>\n",
       "      <td>5.795000e+06</td>\n",
       "      <td>2013-03-20_west</td>\n",
       "      <td>NaN</td>\n",
       "    </tr>\n",
       "    <tr>\n",
       "      <th>2087</th>\n",
       "      <td>cimy</td>\n",
       "      <td>33.1936</td>\n",
       "      <td>-104.356700</td>\n",
       "      <td>2013-03-20</td>\n",
       "      <td>train</td>\n",
       "      <td>2013</td>\n",
       "      <td>3</td>\n",
       "      <td>12</td>\n",
       "      <td>2</td>\n",
       "      <td>west</td>\n",
       "      <td>1.0</td>\n",
       "      <td>1.301653e+03</td>\n",
       "      <td>2013-03-20_west</td>\n",
       "      <td>4.0</td>\n",
       "    </tr>\n",
       "    <tr>\n",
       "      <th>1208</th>\n",
       "      <td>bjij</td>\n",
       "      <td>35.9760</td>\n",
       "      <td>-78.710406</td>\n",
       "      <td>2013-03-20</td>\n",
       "      <td>train</td>\n",
       "      <td>2013</td>\n",
       "      <td>3</td>\n",
       "      <td>12</td>\n",
       "      <td>2</td>\n",
       "      <td>south</td>\n",
       "      <td>1.0</td>\n",
       "      <td>2.905000e+03</td>\n",
       "      <td>2013-03-20_south</td>\n",
       "      <td>NaN</td>\n",
       "    </tr>\n",
       "    <tr>\n",
       "      <th>19544</th>\n",
       "      <td>vnkl</td>\n",
       "      <td>36.0280</td>\n",
       "      <td>-78.716000</td>\n",
       "      <td>2013-03-20</td>\n",
       "      <td>train</td>\n",
       "      <td>2013</td>\n",
       "      <td>3</td>\n",
       "      <td>12</td>\n",
       "      <td>2</td>\n",
       "      <td>south</td>\n",
       "      <td>2.0</td>\n",
       "      <td>5.962300e+04</td>\n",
       "      <td>2013-03-20_south</td>\n",
       "      <td>NaN</td>\n",
       "    </tr>\n",
       "    <tr>\n",
       "      <th>396</th>\n",
       "      <td>alxv</td>\n",
       "      <td>35.9760</td>\n",
       "      <td>-78.709661</td>\n",
       "      <td>2013-03-20</td>\n",
       "      <td>train</td>\n",
       "      <td>2013</td>\n",
       "      <td>3</td>\n",
       "      <td>12</td>\n",
       "      <td>2</td>\n",
       "      <td>south</td>\n",
       "      <td>1.0</td>\n",
       "      <td>1.742700e+04</td>\n",
       "      <td>2013-03-20_south</td>\n",
       "      <td>NaN</td>\n",
       "    </tr>\n",
       "    <tr>\n",
       "      <th>14448</th>\n",
       "      <td>pwpz</td>\n",
       "      <td>35.9760</td>\n",
       "      <td>-78.710158</td>\n",
       "      <td>2013-03-20</td>\n",
       "      <td>train</td>\n",
       "      <td>2013</td>\n",
       "      <td>3</td>\n",
       "      <td>12</td>\n",
       "      <td>2</td>\n",
       "      <td>south</td>\n",
       "      <td>1.0</td>\n",
       "      <td>1.022400e+04</td>\n",
       "      <td>2013-03-20_south</td>\n",
       "      <td>NaN</td>\n",
       "    </tr>\n",
       "    <tr>\n",
       "      <th>11641</th>\n",
       "      <td>mucf</td>\n",
       "      <td>35.9760</td>\n",
       "      <td>-78.709412</td>\n",
       "      <td>2013-03-20</td>\n",
       "      <td>train</td>\n",
       "      <td>2013</td>\n",
       "      <td>3</td>\n",
       "      <td>12</td>\n",
       "      <td>2</td>\n",
       "      <td>south</td>\n",
       "      <td>2.0</td>\n",
       "      <td>2.120300e+04</td>\n",
       "      <td>2013-03-20_south</td>\n",
       "      <td>NaN</td>\n",
       "    </tr>\n",
       "  </tbody>\n",
       "</table>\n",
       "</div>"
      ],
      "text/plain": [
       "        uid  latitude   longitude       date  split  year  month  week  \\\n",
       "11867  napd   38.5901 -121.731000 2013-03-20  train  2013      3    12   \n",
       "6595   hhfq   38.3056 -122.026000 2013-03-20  train  2013      3    12   \n",
       "2012   cgdm   38.1205 -122.200000 2013-03-20  train  2013      3    12   \n",
       "2087   cimy   33.1936 -104.356700 2013-03-20  train  2013      3    12   \n",
       "1208   bjij   35.9760  -78.710406 2013-03-20  train  2013      3    12   \n",
       "19544  vnkl   36.0280  -78.716000 2013-03-20  train  2013      3    12   \n",
       "396    alxv   35.9760  -78.709661 2013-03-20  train  2013      3    12   \n",
       "14448  pwpz   35.9760  -78.710158 2013-03-20  train  2013      3    12   \n",
       "11641  mucf   35.9760  -78.709412 2013-03-20  train  2013      3    12   \n",
       "\n",
       "       season region  severity       density          date_reg  guess  \n",
       "11867       2   west       4.0  7.457500e+06   2013-03-20_west    4.0  \n",
       "6595        2   west       4.0  7.220000e+06   2013-03-20_west    4.0  \n",
       "2012        2   west       4.0  5.795000e+06   2013-03-20_west    NaN  \n",
       "2087        2   west       1.0  1.301653e+03   2013-03-20_west    4.0  \n",
       "1208        2  south       1.0  2.905000e+03  2013-03-20_south    NaN  \n",
       "19544       2  south       2.0  5.962300e+04  2013-03-20_south    NaN  \n",
       "396         2  south       1.0  1.742700e+04  2013-03-20_south    NaN  \n",
       "14448       2  south       1.0  1.022400e+04  2013-03-20_south    NaN  \n",
       "11641       2  south       2.0  2.120300e+04  2013-03-20_south    NaN  "
      ]
     },
     "execution_count": 45,
     "metadata": {},
     "output_type": "execute_result"
    }
   ],
   "source": [
    "data3[data3.date == '2013-03-20']"
   ]
  },
  {
   "cell_type": "code",
   "execution_count": null,
   "metadata": {},
   "outputs": [
    {
     "data": {
      "text/plain": [
       "uid              0\n",
       "latitude         0\n",
       "longitude        0\n",
       "date             0\n",
       "split            0\n",
       "year             0\n",
       "month            0\n",
       "week             0\n",
       "season           0\n",
       "region           0\n",
       "severity         0\n",
       "density          0\n",
       "date_reg         0\n",
       "guess        14501\n",
       "dtype: int64"
      ]
     },
     "execution_count": 46,
     "metadata": {},
     "output_type": "execute_result"
    }
   ],
   "source": [
    "val_data3_.split = 'val'\n",
    "tr_data3.split = 'train'\n",
    "\n",
    "train_data3 = pd.concat([tr_data3, val_data3_], axis=0)\n",
    "train_data3.sort_values(by='date', inplace=True)\n",
    "\n",
    "train_data3.isna().sum()"
   ]
  },
  {
   "cell_type": "code",
   "execution_count": null,
   "metadata": {},
   "outputs": [
    {
     "name": "stdout",
     "output_type": "stream",
     "text": [
      "0\n",
      "Exact matches:  0.4233576642335766\n",
      "Missed by 1:  0.40875912408759124\n",
      "Missed by 2:  0.12408759124087591\n",
      "Missed by 3:  0.043795620437956206\n",
      "Missed by 4:  0.0\n"
     ]
    },
    {
     "data": {
      "text/plain": [
       "1.1398552859870856"
      ]
     },
     "execution_count": 47,
     "metadata": {},
     "output_type": "execute_result"
    }
   ],
   "source": [
    "grp_by_rm = train_data3.groupby(['region', 'month']).severity.expanding(1).mean()\n",
    "grp_by_rm = grp_by_rm.map(np.round)\n",
    "print(grp_by_rm.isna().sum())  # 72 --> 0.8528\n",
    "\n",
    "grp_by_rm.fillna(2, inplace=True)\n",
    "analyize_matches(val_data3_.severity.sort_index(), grp_by_rm.droplevel(0).droplevel(0).loc[val_data3_.index].sort_index())\n",
    "rmse(val_data3_.severity.sort_index(), grp_by_rm.droplevel(0).droplevel(0).loc[val_data3_.index].sort_index())"
   ]
  },
  {
   "cell_type": "code",
   "execution_count": null,
   "metadata": {},
   "outputs": [
    {
     "data": {
      "text/plain": [
       "((5712, 13), (2559, 14))"
      ]
     },
     "execution_count": 48,
     "metadata": {},
     "output_type": "execute_result"
    }
   ],
   "source": [
    "tr_data2_.shape, val_data2.shape"
   ]
  },
  {
   "cell_type": "code",
   "execution_count": null,
   "metadata": {},
   "outputs": [
    {
     "data": {
      "text/plain": [
       "uid             0\n",
       "latitude        0\n",
       "longitude       0\n",
       "date            0\n",
       "split           0\n",
       "year            0\n",
       "month           0\n",
       "week            0\n",
       "season          0\n",
       "region          0\n",
       "severity     2559\n",
       "density         0\n",
       "date_reg        0\n",
       "guess        5712\n",
       "dtype: int64"
      ]
     },
     "execution_count": 49,
     "metadata": {},
     "output_type": "execute_result"
    }
   ],
   "source": [
    "train_data2 = pd.concat([tr_data2_, val_data2], axis=0)\n",
    "train_data2.sort_values(by='date', inplace=True)\n",
    "train_data2.loc[val_data2.index, 'severity'] = np.nan\n",
    "\n",
    "train_data2.isna().sum()"
   ]
  },
  {
   "cell_type": "code",
   "execution_count": null,
   "metadata": {},
   "outputs": [
    {
     "name": "stdout",
     "output_type": "stream",
     "text": [
      "0\n"
     ]
    },
    {
     "data": {
      "text/plain": [
       "0.9202256039541193"
      ]
     },
     "execution_count": 50,
     "metadata": {},
     "output_type": "execute_result"
    }
   ],
   "source": [
    "\n",
    "grp_by_region = train_data2.groupby('region').severity.expanding(1).mean()\n",
    "grp_by_region = grp_by_region.map(np.round)\n",
    "\n",
    "grp_by_region['west'].fillna(2, inplace=True)\n",
    "grp_by_region['northeast'].fillna(2, inplace=True)\n",
    "print(grp_by_region.isna().sum())   # 5 --> 0.89416\n",
    "\n",
    "rmse(val_data2.severity.sort_index(), grp_by_region.droplevel(0).loc[val_data2.index].sort_index())"
   ]
  },
  {
   "cell_type": "code",
   "execution_count": null,
   "metadata": {},
   "outputs": [
    {
     "name": "stdout",
     "output_type": "stream",
     "text": [
      "71\n",
      "Exact matches:  0.21805392731535755\n",
      "Missed by 1:  0.5138726064869089\n",
      "Missed by 2:  0.22821414615084018\n",
      "Missed by 3:  0.039077764751856196\n",
      "Missed by 4:  0.0007815552950371239\n"
     ]
    },
    {
     "data": {
      "text/plain": [
       "1.338257807217118"
      ]
     },
     "execution_count": 51,
     "metadata": {},
     "output_type": "execute_result"
    }
   ],
   "source": [
    "grp_by_week = train_data2.groupby('week').severity.expanding(1).mean()\n",
    "grp_by_week = grp_by_week.map(np.round)\n",
    "print(grp_by_week.isna().sum())  # 105 --> 1.176284\n",
    "\n",
    "grp_by_week.fillna(2, inplace=True)\n",
    "\n",
    "analyize_matches(val_data2.severity.sort_index(), grp_by_week.droplevel(0).loc[val_data2.index].sort_index())\n",
    "rmse(val_data2.severity.sort_index(), grp_by_week.droplevel(0).loc[val_data2.index].sort_index())"
   ]
  },
  {
   "cell_type": "code",
   "execution_count": null,
   "metadata": {},
   "outputs": [
    {
     "name": "stdout",
     "output_type": "stream",
     "text": [
      "7\n",
      "Exact matches:  0.1930441578741696\n",
      "Missed by 1:  0.5701445877295819\n",
      "Missed by 2:  0.22665103556076593\n",
      "Missed by 3:  0.01016021883548261\n",
      "Missed by 4:  0.0\n"
     ]
    },
    {
     "data": {
      "text/plain": [
       "1.2522742109825584"
      ]
     },
     "execution_count": 52,
     "metadata": {},
     "output_type": "execute_result"
    }
   ],
   "source": [
    "\n",
    "grp_by_season = train_data2.groupby('season').severity.expanding(1).mean()\n",
    "grp_by_season = grp_by_season.map(np.round)\n",
    "print(grp_by_season.isna().sum())  # 105 --> 1.176284\n",
    "grp_by_season.fillna(2, inplace=True)\n",
    "\n",
    "analyize_matches(val_data2.severity.sort_index(), grp_by_season.droplevel(0).loc[val_data2.index].sort_index())\n",
    "\n",
    "rmse(val_data2.severity.sort_index(), grp_by_season.droplevel(0).loc[val_data2.index].sort_index())"
   ]
  },
  {
   "cell_type": "code",
   "execution_count": null,
   "metadata": {},
   "outputs": [
    {
     "name": "stdout",
     "output_type": "stream",
     "text": [
      "12\n"
     ]
    },
    {
     "data": {
      "text/plain": [
       "1.2648492751869658"
      ]
     },
     "execution_count": 53,
     "metadata": {},
     "output_type": "execute_result"
    }
   ],
   "source": [
    "grp_by_month = train_data2.groupby('month').severity.expanding(1).mean()\n",
    "grp_by_month = grp_by_month.map(np.round)\n",
    "print(grp_by_month.isna().sum())  # 105 --> 1.176284\n",
    "\n",
    "grp_by_month.fillna(2, inplace=True)\n",
    "\n",
    "rmse(val_data2.severity.sort_index(), grp_by_month.droplevel(0).loc[val_data2.index].sort_index())"
   ]
  },
  {
   "cell_type": "code",
   "execution_count": null,
   "metadata": {},
   "outputs": [
    {
     "name": "stdout",
     "output_type": "stream",
     "text": [
      "8\n"
     ]
    },
    {
     "data": {
      "text/plain": [
       "1.3596944695078805"
      ]
     },
     "execution_count": 54,
     "metadata": {},
     "output_type": "execute_result"
    }
   ],
   "source": [
    "grp_by_yr = train_data2.groupby('year').severity.expanding(1).mean()\n",
    "grp_by_yr = grp_by_yr.map(np.round)\n",
    "\n",
    "print(grp_by_yr.isna().sum())   # 5 --> 0.89416\n",
    "grp_by_yr.fillna(2, inplace=True)\n",
    "\n",
    "rmse(val_data2.severity.sort_index(), grp_by_yr.droplevel(0).loc[val_data2.index].sort_index())"
   ]
  },
  {
   "cell_type": "code",
   "execution_count": null,
   "metadata": {},
   "outputs": [
    {
     "name": "stdout",
     "output_type": "stream",
     "text": [
      "1489\n"
     ]
    },
    {
     "data": {
      "text/plain": [
       "1.3850369928881396"
      ]
     },
     "execution_count": 55,
     "metadata": {},
     "output_type": "execute_result"
    }
   ],
   "source": [
    "grp_by_date = train_data2.groupby('date').severity.expanding(1).mean()\n",
    "grp_by_date = grp_by_date.map(np.round)\n",
    "\n",
    "print(grp_by_date.isna().sum())   # 5 --> 0.89416\n",
    "grp_by_date.fillna(2, inplace=True)\n",
    "\n",
    "rmse(val_data2.severity.sort_index(), grp_by_date.droplevel(0).loc[val_data2.index].sort_index())"
   ]
  },
  {
   "cell_type": "code",
   "execution_count": null,
   "metadata": {},
   "outputs": [
    {
     "name": "stdout",
     "output_type": "stream",
     "text": [
      "55\n",
      "Exact matches:  0.45603751465416176\n",
      "Missed by 1:  0.4693239546697929\n",
      "Missed by 2:  0.06486908948808129\n",
      "Missed by 3:  0.009378663540445486\n",
      "Missed by 4:  0.00039077764751856197\n"
     ]
    },
    {
     "data": {
      "text/plain": [
       "0.9052407010549318"
      ]
     },
     "execution_count": 56,
     "metadata": {},
     "output_type": "execute_result"
    }
   ],
   "source": [
    "grp_by_rm = train_data2.groupby(['region', 'month']).severity.expanding(1).mean()\n",
    "grp_by_rm = grp_by_rm.map(np.round)\n",
    "print(grp_by_rm.isna().sum())  # 72 --> 0.8528\n",
    "\n",
    "grp_by_rm.fillna(2, inplace=True)\n",
    "\n",
    "analyize_matches(val_data2.severity.sort_index(), grp_by_rm.droplevel(0).droplevel(0).loc[val_data2.index].sort_index())\n",
    "rmse(val_data2.severity.sort_index(), grp_by_rm.droplevel(0).droplevel(0).loc[val_data2.index].sort_index())"
   ]
  },
  {
   "cell_type": "code",
   "execution_count": null,
   "metadata": {},
   "outputs": [
    {
     "name": "stdout",
     "output_type": "stream",
     "text": [
      "48\n",
      "Exact matches:  0.5404454865181711\n",
      "Missed by 1:  0.35873388042203985\n",
      "Missed by 2:  0.08597108245408362\n",
      "Missed by 3:  0.013677217663149667\n",
      "Missed by 4:  0.0011723329425556857\n"
     ]
    },
    {
     "data": {
      "text/plain": [
       "0.9189507583584728"
      ]
     },
     "execution_count": 57,
     "metadata": {},
     "output_type": "execute_result"
    }
   ],
   "source": [
    "\n",
    "grp_by_rm = train_data2.groupby(['region', 'year']).severity.expanding(1).mean()\n",
    "grp_by_rm = grp_by_rm.map(np.round)\n",
    "print(grp_by_rm.isna().sum())  # 72 --> 0.8528\n",
    "\n",
    "grp_by_rm.fillna(2, inplace=True)\n",
    "\n",
    "analyize_matches(grp_by_rm.droplevel(0).droplevel(0).loc[val_data2.index].sort_index(), val_data2.severity.sort_index())\n",
    "rmse(val_data2.severity.sort_index(), grp_by_rm.droplevel(0).droplevel(0).loc[val_data2.index].sort_index())"
   ]
  },
  {
   "cell_type": "code",
   "execution_count": null,
   "metadata": {},
   "outputs": [
    {
     "name": "stdout",
     "output_type": "stream",
     "text": [
      "30\n",
      "Exact matches:  0.4404064087534193\n",
      "Missed by 1:  0.4904259476357952\n",
      "Missed by 2:  0.0605705353653771\n",
      "Missed by 3:  0.007424775302852677\n",
      "Missed by 4:  0.0011723329425556857\n"
     ]
    },
    {
     "data": {
      "text/plain": [
       "0.9045929437619269"
      ]
     },
     "execution_count": 58,
     "metadata": {},
     "output_type": "execute_result"
    }
   ],
   "source": [
    "grp_by_rm = train_data2.groupby(['region', 'season']).severity.expanding(1).mean()\n",
    "grp_by_rm = grp_by_rm.map(np.round)\n",
    "print(grp_by_rm.isna().sum())  # 72 --> 0.8528\n",
    "\n",
    "grp_by_rm.fillna(2, inplace=True)\n",
    "\n",
    "analyize_matches(grp_by_rm.droplevel(0).droplevel(0).loc[val_data2.index].sort_index(), val_data2.severity.sort_index())\n",
    "\n",
    "rmse(val_data2.severity.sort_index(), grp_by_rm.droplevel(0).droplevel(0).loc[val_data2.index].sort_index())"
   ]
  },
  {
   "cell_type": "code",
   "execution_count": null,
   "metadata": {},
   "outputs": [
    {
     "name": "stdout",
     "output_type": "stream",
     "text": [
      "2189\n",
      "Exact matches:  0.252442360296991\n",
      "Missed by 1:  0.567409144196952\n",
      "Missed by 2:  0.17506838608831574\n",
      "Missed by 3:  0.005080109417741305\n",
      "Missed by 4:  0.0\n"
     ]
    },
    {
     "data": {
      "text/plain": [
       "1.1460382512420284"
      ]
     },
     "execution_count": 59,
     "metadata": {},
     "output_type": "execute_result"
    }
   ],
   "source": [
    "grp_by_rm = train_data2.groupby(['region', 'date']).severity.expanding(1).mean()\n",
    "grp_by_rm = grp_by_rm.map(np.round)\n",
    "print(grp_by_rm.isna().sum())  # 72 --> 0.8528\n",
    "\n",
    "grp_by_rm.fillna(2, inplace=True)\n",
    "\n",
    "preds = grp_by_rm.droplevel(0).droplevel(0).loc[val_data2.index].sort_index()\n",
    "analyize_matches(val_data2.severity.sort_index(), preds)\n",
    "rmse(val_data2.severity.sort_index(), preds)"
   ]
  },
  {
   "attachments": {},
   "cell_type": "markdown",
   "metadata": {},
   "source": [
    "# MI scores"
   ]
  },
  {
   "cell_type": "code",
   "execution_count": null,
   "metadata": {},
   "outputs": [],
   "source": [
    "from sklearn.feature_selection import mutual_info_classif\n",
    "\n",
    "def make_mi_scores(X, y, discrete_features):\n",
    "    mi_scores = mutual_info_classif(X, y, discrete_features=discrete_features, random_state=1000, n_neighbors=5)\n",
    "    mi_scores = pd.Series(mi_scores, name=\"MI Scores\", index=X.columns)\n",
    "    mi_scores = mi_scores.sort_values(ascending=False)\n",
    "    return mi_scores"
   ]
  },
  {
   "cell_type": "code",
   "execution_count": null,
   "metadata": {},
   "outputs": [],
   "source": [
    "dummy_train_data = train_data.copy()\n",
    "dummy_train_data['split'] = dummy_train_data['split'].map({'train': 0, 'val': 1})\n",
    "dummy_train_data['region'] = dummy_train_data['region'].map({'midwest': 1, 'west': 2, 'south': 3, 'northeast': 4})\n",
    "dummy_train_data.drop(['date', 'uid'], axis=1, inplace=True)\n",
    "# dummy_train_data.drop('severity', axis=1, inplace=True)"
   ]
  },
  {
   "cell_type": "code",
   "execution_count": null,
   "metadata": {},
   "outputs": [
    {
     "data": {
      "text/plain": [
       "latitude     float64\n",
       "longitude    float64\n",
       "split          int64\n",
       "year           int64\n",
       "month          int64\n",
       "week          UInt32\n",
       "season         int64\n",
       "region         int64\n",
       "severity     float64\n",
       "density      float64\n",
       "dtype: object"
      ]
     },
     "execution_count": 17,
     "metadata": {},
     "output_type": "execute_result"
    }
   ],
   "source": [
    "dummy_train_data.dtypes"
   ]
  },
  {
   "cell_type": "code",
   "execution_count": null,
   "metadata": {},
   "outputs": [
    {
     "data": {
      "text/plain": [
       "density      1.315350\n",
       "severity     1.315350\n",
       "longitude    1.067910\n",
       "latitude     0.936230\n",
       "region       0.360634\n",
       "week         0.083816\n",
       "month        0.047492\n",
       "season       0.034922\n",
       "year         0.013481\n",
       "split        0.000000\n",
       "Name: MI Scores, dtype: float64"
      ]
     },
     "execution_count": 18,
     "metadata": {},
     "output_type": "execute_result"
    }
   ],
   "source": [
    "#  find out mutual information between features and target\n",
    "mi_scores = make_mi_scores(dummy_train_data, train_data.severity, discrete_features=True)\n",
    "mi_scores"
   ]
  },
  {
   "attachments": {},
   "cell_type": "markdown",
   "metadata": {},
   "source": [
    "# XGB Model"
   ]
  },
  {
   "cell_type": "code",
   "execution_count": null,
   "metadata": {},
   "outputs": [
    {
     "data": {
      "text/plain": [
       "((13756, 7), (13756,), (3304, 7), (3304,))"
      ]
     },
     "execution_count": 19,
     "metadata": {},
     "output_type": "execute_result"
    }
   ],
   "source": [
    "# using longitude and latitude as features on xgboost\n",
    "\n",
    "train_data.sort_values(by='date', inplace=True)\n",
    "\n",
    "drop_cols = ['severity', 'split', 'density', 'uid']\n",
    "X = train_data.drop(drop_cols, axis=1)\n",
    "X['region'] = X['region'].map({'midwest': 1, 'west': 2, 'south': 3, 'northeast': 4}) \n",
    "X.week = X.week.astype('int')\n",
    "y = train_data.severity\n",
    "\n",
    "X_train = X[X['date'] < '2020-01-01']\n",
    "y_train = y[:X_train.shape[0]]\n",
    "\n",
    "X_val = X[X['date'] > '2020-01-01']\n",
    "y_val = y[X_train.shape[0]:]\n",
    "\n",
    "X_train = X_train.drop(['date'], axis=1)\n",
    "X_val = X_val.drop(['date'], axis=1)\n",
    "\n",
    "X_train.shape, y_train.shape, X_val.shape, y_val.shape"
   ]
  },
  {
   "cell_type": "code",
   "execution_count": null,
   "metadata": {},
   "outputs": [
    {
     "data": {
      "text/html": [
       "<div>\n",
       "<style scoped>\n",
       "    .dataframe tbody tr th:only-of-type {\n",
       "        vertical-align: middle;\n",
       "    }\n",
       "\n",
       "    .dataframe tbody tr th {\n",
       "        vertical-align: top;\n",
       "    }\n",
       "\n",
       "    .dataframe thead th {\n",
       "        text-align: right;\n",
       "    }\n",
       "</style>\n",
       "<table border=\"1\" class=\"dataframe\">\n",
       "  <thead>\n",
       "    <tr style=\"text-align: right;\">\n",
       "      <th></th>\n",
       "      <th>latitude</th>\n",
       "      <th>longitude</th>\n",
       "      <th>year</th>\n",
       "      <th>month</th>\n",
       "      <th>week</th>\n",
       "      <th>season</th>\n",
       "      <th>region</th>\n",
       "    </tr>\n",
       "  </thead>\n",
       "  <tbody>\n",
       "    <tr>\n",
       "      <th>16656</th>\n",
       "      <td>36.030000</td>\n",
       "      <td>-78.674116</td>\n",
       "      <td>2019</td>\n",
       "      <td>12</td>\n",
       "      <td>50</td>\n",
       "      <td>1</td>\n",
       "      <td>3</td>\n",
       "    </tr>\n",
       "    <tr>\n",
       "      <th>1243</th>\n",
       "      <td>36.030000</td>\n",
       "      <td>-78.674365</td>\n",
       "      <td>2019</td>\n",
       "      <td>12</td>\n",
       "      <td>50</td>\n",
       "      <td>1</td>\n",
       "      <td>3</td>\n",
       "    </tr>\n",
       "    <tr>\n",
       "      <th>1800</th>\n",
       "      <td>36.030000</td>\n",
       "      <td>-78.674614</td>\n",
       "      <td>2019</td>\n",
       "      <td>12</td>\n",
       "      <td>50</td>\n",
       "      <td>1</td>\n",
       "      <td>3</td>\n",
       "    </tr>\n",
       "    <tr>\n",
       "      <th>13058</th>\n",
       "      <td>38.768817</td>\n",
       "      <td>-75.196567</td>\n",
       "      <td>2019</td>\n",
       "      <td>12</td>\n",
       "      <td>50</td>\n",
       "      <td>1</td>\n",
       "      <td>3</td>\n",
       "    </tr>\n",
       "    <tr>\n",
       "      <th>17016</th>\n",
       "      <td>37.263900</td>\n",
       "      <td>-120.906000</td>\n",
       "      <td>2019</td>\n",
       "      <td>12</td>\n",
       "      <td>51</td>\n",
       "      <td>1</td>\n",
       "      <td>2</td>\n",
       "    </tr>\n",
       "  </tbody>\n",
       "</table>\n",
       "</div>"
      ],
      "text/plain": [
       "        latitude   longitude  year  month  week  season  region\n",
       "16656  36.030000  -78.674116  2019     12    50       1       3\n",
       "1243   36.030000  -78.674365  2019     12    50       1       3\n",
       "1800   36.030000  -78.674614  2019     12    50       1       3\n",
       "13058  38.768817  -75.196567  2019     12    50       1       3\n",
       "17016  37.263900 -120.906000  2019     12    51       1       2"
      ]
     },
     "execution_count": 20,
     "metadata": {},
     "output_type": "execute_result"
    }
   ],
   "source": [
    "X_train.tail()"
   ]
  },
  {
   "cell_type": "code",
   "execution_count": null,
   "metadata": {},
   "outputs": [
    {
     "data": {
      "text/html": [
       "<div>\n",
       "<style scoped>\n",
       "    .dataframe tbody tr th:only-of-type {\n",
       "        vertical-align: middle;\n",
       "    }\n",
       "\n",
       "    .dataframe tbody tr th {\n",
       "        vertical-align: top;\n",
       "    }\n",
       "\n",
       "    .dataframe thead th {\n",
       "        text-align: right;\n",
       "    }\n",
       "</style>\n",
       "<table border=\"1\" class=\"dataframe\">\n",
       "  <thead>\n",
       "    <tr style=\"text-align: right;\">\n",
       "      <th></th>\n",
       "      <th>latitude</th>\n",
       "      <th>longitude</th>\n",
       "      <th>year</th>\n",
       "      <th>month</th>\n",
       "      <th>week</th>\n",
       "      <th>season</th>\n",
       "      <th>region</th>\n",
       "    </tr>\n",
       "  </thead>\n",
       "  <tbody>\n",
       "    <tr>\n",
       "      <th>21511</th>\n",
       "      <td>35.790000</td>\n",
       "      <td>-79.031435</td>\n",
       "      <td>2020</td>\n",
       "      <td>1</td>\n",
       "      <td>2</td>\n",
       "      <td>1</td>\n",
       "      <td>3</td>\n",
       "    </tr>\n",
       "    <tr>\n",
       "      <th>16173</th>\n",
       "      <td>35.889307</td>\n",
       "      <td>-78.992276</td>\n",
       "      <td>2020</td>\n",
       "      <td>1</td>\n",
       "      <td>2</td>\n",
       "      <td>1</td>\n",
       "      <td>3</td>\n",
       "    </tr>\n",
       "    <tr>\n",
       "      <th>16211</th>\n",
       "      <td>35.661316</td>\n",
       "      <td>-79.246571</td>\n",
       "      <td>2020</td>\n",
       "      <td>1</td>\n",
       "      <td>2</td>\n",
       "      <td>1</td>\n",
       "      <td>3</td>\n",
       "    </tr>\n",
       "    <tr>\n",
       "      <th>19948</th>\n",
       "      <td>35.906078</td>\n",
       "      <td>-79.126499</td>\n",
       "      <td>2020</td>\n",
       "      <td>1</td>\n",
       "      <td>2</td>\n",
       "      <td>1</td>\n",
       "      <td>3</td>\n",
       "    </tr>\n",
       "    <tr>\n",
       "      <th>7782</th>\n",
       "      <td>35.643458</td>\n",
       "      <td>-79.279741</td>\n",
       "      <td>2020</td>\n",
       "      <td>1</td>\n",
       "      <td>2</td>\n",
       "      <td>1</td>\n",
       "      <td>3</td>\n",
       "    </tr>\n",
       "  </tbody>\n",
       "</table>\n",
       "</div>"
      ],
      "text/plain": [
       "        latitude  longitude  year  month  week  season  region\n",
       "21511  35.790000 -79.031435  2020      1     2       1       3\n",
       "16173  35.889307 -78.992276  2020      1     2       1       3\n",
       "16211  35.661316 -79.246571  2020      1     2       1       3\n",
       "19948  35.906078 -79.126499  2020      1     2       1       3\n",
       "7782   35.643458 -79.279741  2020      1     2       1       3"
      ]
     },
     "execution_count": 21,
     "metadata": {},
     "output_type": "execute_result"
    }
   ],
   "source": [
    "X_val.head()"
   ]
  },
  {
   "cell_type": "code",
   "execution_count": null,
   "metadata": {},
   "outputs": [
    {
     "data": {
      "text/html": [
       "<style>#sk-container-id-2 {color: black;background-color: white;}#sk-container-id-2 pre{padding: 0;}#sk-container-id-2 div.sk-toggleable {background-color: white;}#sk-container-id-2 label.sk-toggleable__label {cursor: pointer;display: block;width: 100%;margin-bottom: 0;padding: 0.3em;box-sizing: border-box;text-align: center;}#sk-container-id-2 label.sk-toggleable__label-arrow:before {content: \"▸\";float: left;margin-right: 0.25em;color: #696969;}#sk-container-id-2 label.sk-toggleable__label-arrow:hover:before {color: black;}#sk-container-id-2 div.sk-estimator:hover label.sk-toggleable__label-arrow:before {color: black;}#sk-container-id-2 div.sk-toggleable__content {max-height: 0;max-width: 0;overflow: hidden;text-align: left;background-color: #f0f8ff;}#sk-container-id-2 div.sk-toggleable__content pre {margin: 0.2em;color: black;border-radius: 0.25em;background-color: #f0f8ff;}#sk-container-id-2 input.sk-toggleable__control:checked~div.sk-toggleable__content {max-height: 200px;max-width: 100%;overflow: auto;}#sk-container-id-2 input.sk-toggleable__control:checked~label.sk-toggleable__label-arrow:before {content: \"▾\";}#sk-container-id-2 div.sk-estimator input.sk-toggleable__control:checked~label.sk-toggleable__label {background-color: #d4ebff;}#sk-container-id-2 div.sk-label input.sk-toggleable__control:checked~label.sk-toggleable__label {background-color: #d4ebff;}#sk-container-id-2 input.sk-hidden--visually {border: 0;clip: rect(1px 1px 1px 1px);clip: rect(1px, 1px, 1px, 1px);height: 1px;margin: -1px;overflow: hidden;padding: 0;position: absolute;width: 1px;}#sk-container-id-2 div.sk-estimator {font-family: monospace;background-color: #f0f8ff;border: 1px dotted black;border-radius: 0.25em;box-sizing: border-box;margin-bottom: 0.5em;}#sk-container-id-2 div.sk-estimator:hover {background-color: #d4ebff;}#sk-container-id-2 div.sk-parallel-item::after {content: \"\";width: 100%;border-bottom: 1px solid gray;flex-grow: 1;}#sk-container-id-2 div.sk-label:hover label.sk-toggleable__label {background-color: #d4ebff;}#sk-container-id-2 div.sk-serial::before {content: \"\";position: absolute;border-left: 1px solid gray;box-sizing: border-box;top: 0;bottom: 0;left: 50%;z-index: 0;}#sk-container-id-2 div.sk-serial {display: flex;flex-direction: column;align-items: center;background-color: white;padding-right: 0.2em;padding-left: 0.2em;position: relative;}#sk-container-id-2 div.sk-item {position: relative;z-index: 1;}#sk-container-id-2 div.sk-parallel {display: flex;align-items: stretch;justify-content: center;background-color: white;position: relative;}#sk-container-id-2 div.sk-item::before, #sk-container-id-2 div.sk-parallel-item::before {content: \"\";position: absolute;border-left: 1px solid gray;box-sizing: border-box;top: 0;bottom: 0;left: 50%;z-index: -1;}#sk-container-id-2 div.sk-parallel-item {display: flex;flex-direction: column;z-index: 1;position: relative;background-color: white;}#sk-container-id-2 div.sk-parallel-item:first-child::after {align-self: flex-end;width: 50%;}#sk-container-id-2 div.sk-parallel-item:last-child::after {align-self: flex-start;width: 50%;}#sk-container-id-2 div.sk-parallel-item:only-child::after {width: 0;}#sk-container-id-2 div.sk-dashed-wrapped {border: 1px dashed gray;margin: 0 0.4em 0.5em 0.4em;box-sizing: border-box;padding-bottom: 0.4em;background-color: white;}#sk-container-id-2 div.sk-label label {font-family: monospace;font-weight: bold;display: inline-block;line-height: 1.2em;}#sk-container-id-2 div.sk-label-container {text-align: center;}#sk-container-id-2 div.sk-container {/* jupyter's `normalize.less` sets `[hidden] { display: none; }` but bootstrap.min.css set `[hidden] { display: none !important; }` so we also need the `!important` here to be able to override the default hidden behavior on the sphinx rendered scikit-learn.org. See: https://github.com/scikit-learn/scikit-learn/issues/21755 */display: inline-block !important;position: relative;}#sk-container-id-2 div.sk-text-repr-fallback {display: none;}</style><div id=\"sk-container-id-2\" class=\"sk-top-container\"><div class=\"sk-text-repr-fallback\"><pre>XGBRegressor(base_score=0.5, booster=&#x27;gbtree&#x27;, callbacks=None,\n",
       "             colsample_bylevel=1, colsample_bynode=1, colsample_bytree=1,\n",
       "             early_stopping_rounds=None, enable_categorical=False,\n",
       "             eval_metric=None, gamma=0, gpu_id=0, grow_policy=&#x27;depthwise&#x27;,\n",
       "             importance_type=None, interaction_constraints=&#x27;&#x27;,\n",
       "             learning_rate=0.300000012, max_bin=256, max_cat_to_onehot=4,\n",
       "             max_delta_step=0, max_depth=6, max_leaves=0, min_child_weight=1,\n",
       "             missing=nan, monotone_constraints=&#x27;()&#x27;, n_estimators=1000,\n",
       "             n_jobs=-1, num_parallel_tree=1, predictor=&#x27;auto&#x27;, random_state=0,\n",
       "             reg_alpha=0, reg_lambda=1, ...)</pre><b>In a Jupyter environment, please rerun this cell to show the HTML representation or trust the notebook. <br />On GitHub, the HTML representation is unable to render, please try loading this page with nbviewer.org.</b></div><div class=\"sk-container\" hidden><div class=\"sk-item\"><div class=\"sk-estimator sk-toggleable\"><input class=\"sk-toggleable__control sk-hidden--visually\" id=\"sk-estimator-id-2\" type=\"checkbox\" checked><label for=\"sk-estimator-id-2\" class=\"sk-toggleable__label sk-toggleable__label-arrow\">XGBRegressor</label><div class=\"sk-toggleable__content\"><pre>XGBRegressor(base_score=0.5, booster=&#x27;gbtree&#x27;, callbacks=None,\n",
       "             colsample_bylevel=1, colsample_bynode=1, colsample_bytree=1,\n",
       "             early_stopping_rounds=None, enable_categorical=False,\n",
       "             eval_metric=None, gamma=0, gpu_id=0, grow_policy=&#x27;depthwise&#x27;,\n",
       "             importance_type=None, interaction_constraints=&#x27;&#x27;,\n",
       "             learning_rate=0.300000012, max_bin=256, max_cat_to_onehot=4,\n",
       "             max_delta_step=0, max_depth=6, max_leaves=0, min_child_weight=1,\n",
       "             missing=nan, monotone_constraints=&#x27;()&#x27;, n_estimators=1000,\n",
       "             n_jobs=-1, num_parallel_tree=1, predictor=&#x27;auto&#x27;, random_state=0,\n",
       "             reg_alpha=0, reg_lambda=1, ...)</pre></div></div></div></div></div>"
      ],
      "text/plain": [
       "XGBRegressor(base_score=0.5, booster='gbtree', callbacks=None,\n",
       "             colsample_bylevel=1, colsample_bynode=1, colsample_bytree=1,\n",
       "             early_stopping_rounds=None, enable_categorical=False,\n",
       "             eval_metric=None, gamma=0, gpu_id=0, grow_policy='depthwise',\n",
       "             importance_type=None, interaction_constraints='',\n",
       "             learning_rate=0.300000012, max_bin=256, max_cat_to_onehot=4,\n",
       "             max_delta_step=0, max_depth=6, max_leaves=0, min_child_weight=1,\n",
       "             missing=nan, monotone_constraints='()', n_estimators=1000,\n",
       "             n_jobs=-1, num_parallel_tree=1, predictor='auto', random_state=0,\n",
       "             reg_alpha=0, reg_lambda=1, ...)"
      ]
     },
     "execution_count": 23,
     "metadata": {},
     "output_type": "execute_result"
    }
   ],
   "source": [
    "xgb = XGBRegressor(n_estimators=1000, tree_method='gpu_hist', gpu_id=0, verbosity=1, n_jobs=-1)\n",
    "xgb.fit(X_train, y_train, verbose=False)"
   ]
  },
  {
   "cell_type": "code",
   "execution_count": null,
   "metadata": {},
   "outputs": [
    {
     "name": "stdout",
     "output_type": "stream",
     "text": [
      "RMSE: 0.8263224048197059             \n"
     ]
    }
   ],
   "source": [
    "preds = xgb.predict(X_val)\n",
    "preds = np.round(preds)\n",
    "preds = np.clip(preds, 1, 5)\n",
    "print(f\"RMSE: { rmse(y_val, preds):<30} \")  # 0.8263224048197059"
   ]
  },
  {
   "cell_type": "code",
   "execution_count": null,
   "metadata": {},
   "outputs": [
    {
     "data": {
      "text/plain": [
       "2.0    0.345642\n",
       "1.0    0.315073\n",
       "4.0    0.219734\n",
       "3.0    0.115012\n",
       "5.0    0.004540\n",
       "dtype: float64"
      ]
     },
     "execution_count": 28,
     "metadata": {},
     "output_type": "execute_result"
    }
   ],
   "source": [
    "pd.Series(preds).value_counts(normalize=True)"
   ]
  },
  {
   "cell_type": "code",
   "execution_count": null,
   "metadata": {},
   "outputs": [],
   "source": [
    "# Don't foreget to clip values and trees are not good at extrapolation!!"
   ]
  },
  {
   "cell_type": "code",
   "execution_count": null,
   "metadata": {},
   "outputs": [],
   "source": [
    "# this is believable!\n",
    "# Using KNN to predict severity could be a good idea!"
   ]
  },
  {
   "cell_type": "code",
   "execution_count": null,
   "metadata": {},
   "outputs": [],
   "source": []
  },
  {
   "cell_type": "code",
   "execution_count": null,
   "metadata": {},
   "outputs": [],
   "source": []
  },
  {
   "attachments": {},
   "cell_type": "markdown",
   "metadata": {},
   "source": [
    "# Submission"
   ]
  },
  {
   "cell_type": "code",
   "execution_count": null,
   "metadata": {},
   "outputs": [
    {
     "data": {
      "text/html": [
       "<div>\n",
       "<style scoped>\n",
       "    .dataframe tbody tr th:only-of-type {\n",
       "        vertical-align: middle;\n",
       "    }\n",
       "\n",
       "    .dataframe tbody tr th {\n",
       "        vertical-align: top;\n",
       "    }\n",
       "\n",
       "    .dataframe thead th {\n",
       "        text-align: right;\n",
       "    }\n",
       "</style>\n",
       "<table border=\"1\" class=\"dataframe\">\n",
       "  <thead>\n",
       "    <tr style=\"text-align: right;\">\n",
       "      <th></th>\n",
       "      <th>latitude</th>\n",
       "      <th>longitude</th>\n",
       "      <th>year</th>\n",
       "      <th>month</th>\n",
       "      <th>week</th>\n",
       "      <th>season</th>\n",
       "      <th>region</th>\n",
       "    </tr>\n",
       "  </thead>\n",
       "  <tbody>\n",
       "    <tr>\n",
       "      <th>1</th>\n",
       "      <td>36.559700</td>\n",
       "      <td>-121.51000</td>\n",
       "      <td>2016</td>\n",
       "      <td>8</td>\n",
       "      <td>35</td>\n",
       "      <td>3</td>\n",
       "      <td>2</td>\n",
       "    </tr>\n",
       "    <tr>\n",
       "      <th>12</th>\n",
       "      <td>33.042600</td>\n",
       "      <td>-117.07600</td>\n",
       "      <td>2014</td>\n",
       "      <td>11</td>\n",
       "      <td>44</td>\n",
       "      <td>4</td>\n",
       "      <td>2</td>\n",
       "    </tr>\n",
       "    <tr>\n",
       "      <th>14</th>\n",
       "      <td>40.703968</td>\n",
       "      <td>-80.29305</td>\n",
       "      <td>2015</td>\n",
       "      <td>8</td>\n",
       "      <td>35</td>\n",
       "      <td>3</td>\n",
       "      <td>4</td>\n",
       "    </tr>\n",
       "    <tr>\n",
       "      <th>15</th>\n",
       "      <td>38.972500</td>\n",
       "      <td>-94.67293</td>\n",
       "      <td>2019</td>\n",
       "      <td>8</td>\n",
       "      <td>35</td>\n",
       "      <td>3</td>\n",
       "      <td>1</td>\n",
       "    </tr>\n",
       "    <tr>\n",
       "      <th>16</th>\n",
       "      <td>34.279000</td>\n",
       "      <td>-118.90500</td>\n",
       "      <td>2018</td>\n",
       "      <td>1</td>\n",
       "      <td>2</td>\n",
       "      <td>1</td>\n",
       "      <td>2</td>\n",
       "    </tr>\n",
       "  </tbody>\n",
       "</table>\n",
       "</div>"
      ],
      "text/plain": [
       "     latitude  longitude  year  month  week  season  region\n",
       "1   36.559700 -121.51000  2016      8    35       3       2\n",
       "12  33.042600 -117.07600  2014     11    44       4       2\n",
       "14  40.703968  -80.29305  2015      8    35       3       4\n",
       "15  38.972500  -94.67293  2019      8    35       3       1\n",
       "16  34.279000 -118.90500  2018      1     2       1       2"
      ]
     },
     "execution_count": 37,
     "metadata": {},
     "output_type": "execute_result"
    }
   ],
   "source": [
    "te_data.drop(drop_cols, axis=1, inplace=True)\n",
    "te_data['region'] = te_data['region'].map({'midwest': 1, 'west': 2, 'south': 3, 'northeast': 4})\n",
    "te_data.week = te_data.week.astype('int')\n",
    "te_data.drop('date', axis=1, inplace=True)\n",
    "\n",
    "te_data.head()"
   ]
  },
  {
   "cell_type": "code",
   "execution_count": null,
   "metadata": {},
   "outputs": [],
   "source": [
    "assert (X_train.columns == te_data.columns).all()"
   ]
  },
  {
   "cell_type": "code",
   "execution_count": null,
   "metadata": {},
   "outputs": [
    {
     "data": {
      "text/plain": [
       "2    0.315975\n",
       "1    0.252535\n",
       "4    0.245315\n",
       "3    0.183410\n",
       "5    0.002765\n",
       "Name: severity, dtype: float64"
      ]
     },
     "execution_count": 39,
     "metadata": {},
     "output_type": "execute_result"
    }
   ],
   "source": [
    "#  Making submission with xgbreg on trained on lng and lat\n",
    "\n",
    "sub_format['severity'] = 0\n",
    "test_preds = xgb.predict(te_data)\n",
    "sub_format['severity'] = np.round(test_preds)\n",
    "\n",
    "sub_format['severity'] = sub_format['severity'].astype('int')\n",
    "# clip preds betwee 1 and 5\n",
    "sub_format['severity'] = sub_format['severity'].clip(1, 5)\n",
    "sub_format.severity.value_counts(normalize=True)"
   ]
  },
  {
   "cell_type": "code",
   "execution_count": null,
   "metadata": {},
   "outputs": [],
   "source": [
    "#  save submission\n",
    "#  this is corrected submission!\n",
    "sub_format.to_csv('../submissions/to submit/xgbreg1k_latlng.csv', index=False)"
   ]
  },
  {
   "cell_type": "code",
   "execution_count": null,
   "metadata": {},
   "outputs": [],
   "source": [
    "#  this on LB: gave 1.00 Why ??!!"
   ]
  },
  {
   "attachments": {},
   "cell_type": "markdown",
   "metadata": {},
   "source": [
    "# CV it"
   ]
  },
  {
   "cell_type": "code",
   "execution_count": null,
   "metadata": {},
   "outputs": [],
   "source": [
    "\n",
    "def train_eval(model, X_train=None, X_val=None, y_train=None, y_val=None, X_test=None, y_test=None):\n",
    "    \"\"\"\n",
    "    train and eval util func,\n",
    "    returns trained model, soft_preds, and rmse\n",
    "    REMEMBER to round myself\n",
    "    \"\"\"\n",
    "    \n",
    "    model.fit(X_train, y_train)\n",
    "    preds = model.predict(X_val)\n",
    "    rmse = mse(y_val, np.round(preds), squared=False)\n",
    "    test_rmse = mse(y_test, np.round(model.predict(X_test)), squared=False)\n",
    "    print(\"Train RMSE: \", mse(y_train, np.round(model.predict(X_train)), squared=False))\n",
    "    print(\"Val RMSE:\", rmse)\n",
    "    print('TEST RMSE: ', test_rmse)\n",
    "    \n",
    "    # print(\"TEST RMSE:\", mse(y_val, np.round(model.predict(X_val)), squared=False))\n",
    "    return model, preds, rmse, test_rmse\n",
    "\n",
    "\n",
    "def cv_it(model, X_train=X_train, y_train=y_train, X_test=None, y_test=None, splits=10, cv_predict=False):\n",
    "#     skf = StratifiedKFold(n_splits=splits, random_state=config.RANDOM_STATE, shuffle=True)\n",
    "    \n",
    "    tscv = TimeSeriesSplit(n_splits=splits, test_size=200)\n",
    "    \n",
    "    val_rmse = []\n",
    "    test_rmses = []\n",
    "    \n",
    "    if cv_predict:\n",
    "        cvpreds_test = np.zeros(shape=(6510, splits))\n",
    "        cvpreds_train = np.zeros(shape=(len(X_train)))\n",
    "\n",
    "    for fold, (train_idx, val_idx) in enumerate(tscv.split(X_train, y_train)):\n",
    "\n",
    "        print(f'-----------------------Fold-{fold}-------------------------')\n",
    "        X_train_subset, y_train_subset = X_train.iloc[train_idx], y_train.iloc[train_idx]\n",
    "        X_val_subset, y_val_subset = X_train.iloc[val_idx], y_train.iloc[val_idx]\n",
    "        \n",
    "        print(f'Training on {X_train_subset.shape[0]} samples' )\n",
    "        print(f'Validating on {X_val_subset.shape[0]} samples' )\n",
    "\n",
    "        model, val_preds, rmse, test_rmse= train_eval(\n",
    "                                    model=model, \n",
    "                                    X_train=X_train_subset, \n",
    "                                    y_train=y_train_subset, \n",
    "                                    X_val=X_val_subset, \n",
    "                                    y_val=y_val_subset,\n",
    "                                    X_test=X_test,\n",
    "                                    y_test=y_test)\n",
    "        val_rmse.append(rmse)\n",
    "        test_rmses.append(test_rmse)\n",
    "        \n",
    "        if cv_predict:\n",
    "            # save predictions for ensembling\n",
    "            cvpreds_test[:, fold] = model.predict(X_test)\n",
    "            cvpreds_train[val_idx] = val_preds\n",
    "                    \n",
    "    print()\n",
    "    print(\"Mean Val RMSE:\", np.mean(val_rmse), \"std:\", np.std(val_rmse))\n",
    "    print(\"Mean Test RMSE:\", np.mean(test_rmses), \"std:\", np.std(test_rmses))\n",
    "\n",
    "    \n",
    "    if cv_predict:\n",
    "        return cvpreds_test, cvpreds_train"
   ]
  },
  {
   "cell_type": "code",
   "execution_count": null,
   "metadata": {},
   "outputs": [
    {
     "name": "stdout",
     "output_type": "stream",
     "text": [
      "-----------------------Fold-0-------------------------\n",
      "Training on 3756 samples\n",
      "Validating on 1000 samples\n",
      "Train RMSE:  0.40497439406819935\n",
      "Val RMSE: 0.9523654760647301\n",
      "TEST RMSE:  0.9606356350066096\n",
      "-----------------------Fold-1-------------------------\n",
      "Training on 4756 samples\n",
      "Validating on 1000 samples\n",
      "Train RMSE:  0.4433889672540245\n",
      "Val RMSE: 0.8012490249604052\n",
      "TEST RMSE:  0.9506592589536919\n",
      "-----------------------Fold-2-------------------------\n",
      "Training on 5756 samples\n",
      "Validating on 1000 samples\n",
      "Train RMSE:  0.4450328126200894\n",
      "Val RMSE: 0.8882567196480982\n",
      "TEST RMSE:  0.9149683438337731\n",
      "-----------------------Fold-3-------------------------\n",
      "Training on 6756 samples\n",
      "Validating on 1000 samples\n",
      "Train RMSE:  0.47182298915642806\n",
      "Val RMSE: 0.8276472678623424\n",
      "TEST RMSE:  0.8819552348728436\n",
      "-----------------------Fold-4-------------------------\n",
      "Training on 7756 samples\n",
      "Validating on 1000 samples\n",
      "Train RMSE:  0.4760916177252889\n",
      "Val RMSE: 0.9813256340277675\n",
      "TEST RMSE:  0.8283344822762391\n",
      "-----------------------Fold-5-------------------------\n",
      "Training on 8756 samples\n",
      "Validating on 1000 samples\n",
      "Train RMSE:  0.47227857610637336\n",
      "Val RMSE: 0.9803060746521975\n",
      "TEST RMSE:  0.8228354096538051\n",
      "-----------------------Fold-6-------------------------\n",
      "Training on 9756 samples\n",
      "Validating on 1000 samples\n",
      "Train RMSE:  0.4731408232465111\n",
      "Val RMSE: 0.7968688725254613\n",
      "TEST RMSE:  0.8735070279311073\n",
      "-----------------------Fold-7-------------------------\n",
      "Training on 10756 samples\n",
      "Validating on 1000 samples\n",
      "Train RMSE:  0.47236773341023763\n",
      "Val RMSE: 0.9332738076256079\n",
      "TEST RMSE:  0.8635755391767456\n",
      "-----------------------Fold-8-------------------------\n",
      "Training on 11756 samples\n",
      "Validating on 1000 samples\n",
      "Train RMSE:  0.475317984214491\n",
      "Val RMSE: 0.7321202087089251\n",
      "TEST RMSE:  0.8658506433339086\n",
      "-----------------------Fold-9-------------------------\n",
      "Training on 12756 samples\n",
      "Validating on 1000 samples\n",
      "Train RMSE:  0.4723459463224092\n",
      "Val RMSE: 0.9137833441248533\n",
      "TEST RMSE:  0.84210476535604\n",
      "\n",
      "Mean Val RMSE: 0.8807196430200388 std: 0.08205431371143952\n",
      "Mean Test RMSE: 0.8804426340394764 std: 0.045392484055490526\n"
     ]
    }
   ],
   "source": [
    "cv_it(xgb, X_test=X_val, y_test=y_val)"
   ]
  },
  {
   "cell_type": "code",
   "execution_count": null,
   "metadata": {},
   "outputs": [
    {
     "data": {
      "text/plain": [
       "((137, 13), (14501, 13))"
      ]
     },
     "execution_count": 73,
     "metadata": {},
     "output_type": "execute_result"
    }
   ],
   "source": [
    "val_data3_.shape, tr_data3.shape"
   ]
  },
  {
   "cell_type": "code",
   "execution_count": null,
   "metadata": {},
   "outputs": [
    {
     "data": {
      "text/plain": [
       "((5712, 13), (2559, 13))"
      ]
     },
     "execution_count": 76,
     "metadata": {},
     "output_type": "execute_result"
    }
   ],
   "source": [
    "tr_data2_.shape, val_data2.shape"
   ]
  },
  {
   "cell_type": "code",
   "execution_count": null,
   "metadata": {},
   "outputs": [
    {
     "data": {
      "text/plain": [
       "['severity', 'split', 'density', 'uid', 'date']"
      ]
     },
     "execution_count": 90,
     "metadata": {},
     "output_type": "execute_result"
    }
   ],
   "source": [
    "drop_cols.append('date')\n",
    "drop_cols"
   ]
  },
  {
   "cell_type": "code",
   "execution_count": null,
   "metadata": {},
   "outputs": [
    {
     "data": {
      "text/html": [
       "<div>\n",
       "<style scoped>\n",
       "    .dataframe tbody tr th:only-of-type {\n",
       "        vertical-align: middle;\n",
       "    }\n",
       "\n",
       "    .dataframe tbody tr th {\n",
       "        vertical-align: top;\n",
       "    }\n",
       "\n",
       "    .dataframe thead th {\n",
       "        text-align: right;\n",
       "    }\n",
       "</style>\n",
       "<table border=\"1\" class=\"dataframe\">\n",
       "  <thead>\n",
       "    <tr style=\"text-align: right;\">\n",
       "      <th></th>\n",
       "      <th>latitude</th>\n",
       "      <th>longitude</th>\n",
       "      <th>year</th>\n",
       "      <th>month</th>\n",
       "      <th>week</th>\n",
       "      <th>season</th>\n",
       "      <th>region</th>\n",
       "    </tr>\n",
       "  </thead>\n",
       "  <tbody>\n",
       "    <tr>\n",
       "      <th>13644</th>\n",
       "      <td>44.822478</td>\n",
       "      <td>-93.367962</td>\n",
       "      <td>2013</td>\n",
       "      <td>1</td>\n",
       "      <td>1</td>\n",
       "      <td>1</td>\n",
       "      <td>1</td>\n",
       "    </tr>\n",
       "    <tr>\n",
       "      <th>4387</th>\n",
       "      <td>44.847993</td>\n",
       "      <td>-93.476318</td>\n",
       "      <td>2013</td>\n",
       "      <td>1</td>\n",
       "      <td>1</td>\n",
       "      <td>1</td>\n",
       "      <td>1</td>\n",
       "    </tr>\n",
       "    <tr>\n",
       "      <th>5566</th>\n",
       "      <td>44.877646</td>\n",
       "      <td>-93.557842</td>\n",
       "      <td>2013</td>\n",
       "      <td>1</td>\n",
       "      <td>1</td>\n",
       "      <td>1</td>\n",
       "      <td>1</td>\n",
       "    </tr>\n",
       "    <tr>\n",
       "      <th>6144</th>\n",
       "      <td>44.878889</td>\n",
       "      <td>-93.490833</td>\n",
       "      <td>2013</td>\n",
       "      <td>1</td>\n",
       "      <td>1</td>\n",
       "      <td>1</td>\n",
       "      <td>1</td>\n",
       "    </tr>\n",
       "    <tr>\n",
       "      <th>5317</th>\n",
       "      <td>44.850500</td>\n",
       "      <td>-93.515700</td>\n",
       "      <td>2013</td>\n",
       "      <td>1</td>\n",
       "      <td>1</td>\n",
       "      <td>1</td>\n",
       "      <td>1</td>\n",
       "    </tr>\n",
       "  </tbody>\n",
       "</table>\n",
       "</div>"
      ],
      "text/plain": [
       "        latitude  longitude  year  month  week  season  region\n",
       "13644  44.822478 -93.367962  2013      1     1       1       1\n",
       "4387   44.847993 -93.476318  2013      1     1       1       1\n",
       "5566   44.877646 -93.557842  2013      1     1       1       1\n",
       "6144   44.878889 -93.490833  2013      1     1       1       1\n",
       "5317   44.850500 -93.515700  2013      1     1       1       1"
      ]
     },
     "execution_count": 114,
     "metadata": {},
     "output_type": "execute_result"
    }
   ],
   "source": [
    "tr_data2_new = tr_data2_.copy()\n",
    "val_data2_new = val_data2.copy()\n",
    "\n",
    "X_train2 = tr_data2_new.drop(drop_cols, axis=1)\n",
    "y_train2 = tr_data2_new['severity']\n",
    "X_val2 = val_data2_new.drop(drop_cols, axis=1)\n",
    "y_val2 = val_data2_new['severity']\n",
    "\n",
    "X_train2['region'] = X_train2['region'].map({'midwest': 1, 'west': 2, 'south': 3, 'northeast': 4}) \n",
    "X_train2.week = X_train2.week.astype('int')\n",
    "X_val2['region'] = X_val2['region'].map({'midwest': 1, 'west': 2, 'south': 3, 'northeast': 4})\n",
    "X_val2.week = X_val2.week.astype('int')\n",
    "\n",
    "X_val2.drop('date_reg', axis=1, inplace=True)\n",
    "X_train2.drop('date_reg', axis=1, inplace=True)\n",
    "\n",
    "X_train2.head()"
   ]
  },
  {
   "cell_type": "code",
   "execution_count": null,
   "metadata": {},
   "outputs": [],
   "source": [
    "assert (X_val2.columns == X_train2.columns).all()"
   ]
  },
  {
   "cell_type": "code",
   "execution_count": null,
   "metadata": {},
   "outputs": [
    {
     "name": "stdout",
     "output_type": "stream",
     "text": [
      "-----------------------Fold-0-------------------------\n",
      "Training on 3712 samples\n",
      "Validating on 200 samples\n",
      "Train RMSE:  0.3207950790748211\n",
      "Val RMSE: 0.8306623862918074\n",
      "TEST RMSE:  0.8257766010973492\n",
      "-----------------------Fold-1-------------------------\n",
      "Training on 3912 samples\n",
      "Validating on 200 samples\n",
      "Train RMSE:  0.3091977878052171\n",
      "Val RMSE: 0.5196152422706632\n",
      "TEST RMSE:  0.8219820877364625\n",
      "-----------------------Fold-2-------------------------\n",
      "Training on 4112 samples\n",
      "Validating on 200 samples\n",
      "Train RMSE:  0.3153806914583502\n",
      "Val RMSE: 0.7905694150420949\n",
      "TEST RMSE:  0.7963869172221666\n",
      "-----------------------Fold-3-------------------------\n",
      "Training on 4312 samples\n",
      "Validating on 200 samples\n",
      "Train RMSE:  0.3083561057294485\n",
      "Val RMSE: 1.036822067666386\n",
      "TEST RMSE:  0.8073519158712397\n",
      "-----------------------Fold-4-------------------------\n",
      "Training on 4512 samples\n",
      "Validating on 200 samples\n",
      "Train RMSE:  0.3122782901459112\n",
      "Val RMSE: 0.6324555320336759\n",
      "TEST RMSE:  0.7924516891030828\n",
      "-----------------------Fold-5-------------------------\n",
      "Training on 4712 samples\n",
      "Validating on 200 samples\n",
      "Train RMSE:  0.31142642414709426\n",
      "Val RMSE: 0.6928203230275509\n",
      "TEST RMSE:  0.7966322235323805\n",
      "-----------------------Fold-6-------------------------\n",
      "Training on 4912 samples\n",
      "Validating on 200 samples\n",
      "Train RMSE:  0.3089991197820127\n",
      "Val RMSE: 1.002496882788171\n",
      "TEST RMSE:  0.8145799196435658\n",
      "-----------------------Fold-7-------------------------\n",
      "Training on 5112 samples\n",
      "Validating on 200 samples\n",
      "Train RMSE:  0.3235053508832246\n",
      "Val RMSE: 0.7483314773547883\n",
      "TEST RMSE:  0.7936835438636244\n",
      "-----------------------Fold-8-------------------------\n",
      "Training on 5312 samples\n",
      "Validating on 200 samples\n",
      "Train RMSE:  0.3255555955334396\n",
      "Val RMSE: 0.7483314773547883\n",
      "TEST RMSE:  0.7971226096813349\n",
      "-----------------------Fold-9-------------------------\n",
      "Training on 5512 samples\n",
      "Validating on 200 samples\n",
      "Train RMSE:  0.32354396403244606\n",
      "Val RMSE: 0.8246211251235321\n",
      "TEST RMSE:  0.7867603152608819\n",
      "\n",
      "Mean Val RMSE: 0.7826725928953457 std: 0.14806624304842844\n",
      "Mean Test RMSE: 0.8032727823012088 std: 0.012696450517041184\n"
     ]
    }
   ],
   "source": [
    "cv_it(xgb, X_train=X_train2, y_train=y_train2, X_test=X_val2, y_test=y_val2)"
   ]
  },
  {
   "cell_type": "code",
   "execution_count": null,
   "metadata": {},
   "outputs": [
    {
     "data": {
      "text/plain": [
       "0.9307388359437742"
      ]
     },
     "execution_count": 97,
     "metadata": {},
     "output_type": "execute_result"
    }
   ],
   "source": [
    "0.7826725928953457  + 0.14806624304842844"
   ]
  },
  {
   "cell_type": "code",
   "execution_count": null,
   "metadata": {},
   "outputs": [
    {
     "data": {
      "text/plain": [
       "0.806625553226778"
      ]
     },
     "execution_count": 106,
     "metadata": {},
     "output_type": "execute_result"
    }
   ],
   "source": [
    "xgb.fit(X_train2, y_train2)\n",
    "preds = xgb.predict(X_val2)  # new validation set with lng and lats !\n",
    "preds = np.clip(np.round(preds), 1, 5)\n",
    "rmse(y_val2, preds)"
   ]
  },
  {
   "cell_type": "code",
   "execution_count": null,
   "metadata": {},
   "outputs": [
    {
     "data": {
      "text/plain": [
       "1.0    0.364596\n",
       "2.0    0.305588\n",
       "4.0    0.199297\n",
       "3.0    0.129347\n",
       "5.0    0.001172\n",
       "dtype: float64"
      ]
     },
     "execution_count": 104,
     "metadata": {},
     "output_type": "execute_result"
    }
   ],
   "source": [
    "pd.Series(preds).apply(np.round).clip(1, 5).value_counts(normalize=True)"
   ]
  },
  {
   "cell_type": "code",
   "execution_count": null,
   "metadata": {},
   "outputs": [],
   "source": [
    "tr_data2['latlng'] = tr_data2['latitude'].astype('str') + tr_data2['longitude'].astype('str')\n",
    "val_data2['latlng'] = val_data2['latitude'].astype('str') + val_data2['longitude'].astype('str')\n",
    "\n",
    "train_data['latlng'] = train_data['latitude'].astype('str') + train_data['longitude'].astype('str')\n",
    "test_data['latlng'] = test_data['latitude'].astype('str') + test_data['longitude'].astype('str')\n"
   ]
  },
  {
   "cell_type": "code",
   "execution_count": null,
   "metadata": {},
   "outputs": [
    {
     "data": {
      "text/plain": [
       "0.11957796014067995"
      ]
     },
     "execution_count": 111,
     "metadata": {},
     "output_type": "execute_result"
    }
   ],
   "source": [
    "# overlap of unq lat lngs in train and test and val set\n",
    "\n",
    "len(set(tr_data2.latlng.unique()) & set(val_data2.latlng.unique()))/len(val_data2)"
   ]
  },
  {
   "cell_type": "code",
   "execution_count": null,
   "metadata": {},
   "outputs": [
    {
     "data": {
      "text/plain": [
       "0.0"
      ]
     },
     "execution_count": 112,
     "metadata": {},
     "output_type": "execute_result"
    }
   ],
   "source": [
    "len(set(train_data.latlng.unique()) & set(test_data.latlng.unique()))/len(test_data)"
   ]
  },
  {
   "cell_type": "code",
   "execution_count": null,
   "metadata": {},
   "outputs": [
    {
     "data": {
      "text/plain": [
       "((14501, 13), (137, 13))"
      ]
     },
     "execution_count": 117,
     "metadata": {},
     "output_type": "execute_result"
    }
   ],
   "source": [
    "tr_data3.shape, val_data3_.shape"
   ]
  },
  {
   "cell_type": "code",
   "execution_count": null,
   "metadata": {},
   "outputs": [
    {
     "data": {
      "text/html": [
       "<div>\n",
       "<style scoped>\n",
       "    .dataframe tbody tr th:only-of-type {\n",
       "        vertical-align: middle;\n",
       "    }\n",
       "\n",
       "    .dataframe tbody tr th {\n",
       "        vertical-align: top;\n",
       "    }\n",
       "\n",
       "    .dataframe thead th {\n",
       "        text-align: right;\n",
       "    }\n",
       "</style>\n",
       "<table border=\"1\" class=\"dataframe\">\n",
       "  <thead>\n",
       "    <tr style=\"text-align: right;\">\n",
       "      <th></th>\n",
       "      <th>latitude</th>\n",
       "      <th>longitude</th>\n",
       "      <th>year</th>\n",
       "      <th>month</th>\n",
       "      <th>week</th>\n",
       "      <th>season</th>\n",
       "      <th>region</th>\n",
       "    </tr>\n",
       "  </thead>\n",
       "  <tbody>\n",
       "    <tr>\n",
       "      <th>13644</th>\n",
       "      <td>44.822478</td>\n",
       "      <td>-93.367962</td>\n",
       "      <td>2013</td>\n",
       "      <td>1</td>\n",
       "      <td>1</td>\n",
       "      <td>1</td>\n",
       "      <td>1</td>\n",
       "    </tr>\n",
       "    <tr>\n",
       "      <th>4387</th>\n",
       "      <td>44.847993</td>\n",
       "      <td>-93.476318</td>\n",
       "      <td>2013</td>\n",
       "      <td>1</td>\n",
       "      <td>1</td>\n",
       "      <td>1</td>\n",
       "      <td>1</td>\n",
       "    </tr>\n",
       "    <tr>\n",
       "      <th>5566</th>\n",
       "      <td>44.877646</td>\n",
       "      <td>-93.557842</td>\n",
       "      <td>2013</td>\n",
       "      <td>1</td>\n",
       "      <td>1</td>\n",
       "      <td>1</td>\n",
       "      <td>1</td>\n",
       "    </tr>\n",
       "    <tr>\n",
       "      <th>6144</th>\n",
       "      <td>44.878889</td>\n",
       "      <td>-93.490833</td>\n",
       "      <td>2013</td>\n",
       "      <td>1</td>\n",
       "      <td>1</td>\n",
       "      <td>1</td>\n",
       "      <td>1</td>\n",
       "    </tr>\n",
       "    <tr>\n",
       "      <th>5317</th>\n",
       "      <td>44.850500</td>\n",
       "      <td>-93.515700</td>\n",
       "      <td>2013</td>\n",
       "      <td>1</td>\n",
       "      <td>1</td>\n",
       "      <td>1</td>\n",
       "      <td>1</td>\n",
       "    </tr>\n",
       "  </tbody>\n",
       "</table>\n",
       "</div>"
      ],
      "text/plain": [
       "        latitude  longitude  year  month  week  season  region\n",
       "13644  44.822478 -93.367962  2013      1     1       1       1\n",
       "4387   44.847993 -93.476318  2013      1     1       1       1\n",
       "5566   44.877646 -93.557842  2013      1     1       1       1\n",
       "6144   44.878889 -93.490833  2013      1     1       1       1\n",
       "5317   44.850500 -93.515700  2013      1     1       1       1"
      ]
     },
     "execution_count": 122,
     "metadata": {},
     "output_type": "execute_result"
    }
   ],
   "source": [
    "tr_data3new = tr_data3.copy()\n",
    "val_data3__new = val_data3_.copy()\n",
    "\n",
    "X_train3 = tr_data3new.drop(drop_cols, axis=1)\n",
    "y_train3 = tr_data3new['severity']\n",
    "X_val3 = val_data3__new.drop(drop_cols, axis=1)\n",
    "y_val3 = val_data3__new['severity']\n",
    "\n",
    "X_train3['region'] = X_train3['region'].map({'midwest': 1, 'west': 2, 'south': 3, 'northeast': 4}) \n",
    "X_train3.week = X_train3.week.astype('int')\n",
    "X_val3['region'] = X_val3['region'].map({'midwest': 1, 'west': 2, 'south': 3, 'northeast': 4})\n",
    "X_val3.week = X_val3.week.astype('int')\n",
    "\n",
    "X_val3.drop('date_reg', axis=1, inplace=True)\n",
    "X_train3.drop('date_reg', axis=1, inplace=True)\n",
    "\n",
    "X_train3.head()"
   ]
  },
  {
   "cell_type": "code",
   "execution_count": 148,
   "metadata": {},
   "outputs": [
    {
     "data": {
      "text/plain": [
       "0.8014585244561053"
      ]
     },
     "execution_count": 148,
     "metadata": {},
     "output_type": "execute_result"
    }
   ],
   "source": [
    "xgb.fit(X_train3, y_train3)\n",
    "preds = xgb.predict(X_val3)  # new validation set with lng and lats !\n",
    "preds = np.clip(np.round(preds), 1, 5)\n",
    "rmse(y_val3, preds)"
   ]
  },
  {
   "cell_type": "code",
   "execution_count": 150,
   "metadata": {},
   "outputs": [
    {
     "data": {
      "text/plain": [
       "0.49635036496350365"
      ]
     },
     "execution_count": 150,
     "metadata": {},
     "output_type": "execute_result"
    }
   ],
   "source": [
    "X_train3['latlng'] = X_train3['latitude'].astype('str') + X_train3['longitude'].astype('str')\n",
    "X_val3['latlng'] = X_val3['latitude'].astype('str') + X_val3['longitude'].astype('str')\n",
    "\n",
    "len(set(X_train3.latlng.unique()) & set(X_val3.latlng.unique()))/len(X_val3)"
   ]
  },
  {
   "cell_type": "code",
   "execution_count": 232,
   "metadata": {},
   "outputs": [
    {
     "data": {
      "text/plain": [
       "0.23602096863345778"
      ]
     },
     "execution_count": 232,
     "metadata": {},
     "output_type": "execute_result"
    }
   ],
   "source": [
    "# The ony thing i can conclude from these is that the public test set is a bit hard! \n",
    "# .i.e. the public test has more 5s or 4s than the private test set\n",
    "# But how are these guys getting 0.7 on the public test set???\n",
    "\n",
    "#  I shall think something different.\n",
    "\n",
    "#  all fives\n",
    "3.0960209686334577  - 2.860"
   ]
  },
  {
   "cell_type": "code",
   "execution_count": 154,
   "metadata": {},
   "outputs": [
    {
     "data": {
      "text/plain": [
       "0.22145120863342127"
      ]
     },
     "execution_count": 154,
     "metadata": {},
     "output_type": "execute_result"
    }
   ],
   "source": [
    "# all fours\n",
    "2.2084512086334214  - 1.987"
   ]
  },
  {
   "cell_type": "code",
   "execution_count": 155,
   "metadata": {},
   "outputs": [
    {
     "data": {
      "text/plain": [
       "0.04720943900111707"
      ]
     },
     "execution_count": 155,
     "metadata": {},
     "output_type": "execute_result"
    }
   ],
   "source": [
    "#  all threes\n",
    "1.472809439001117  - 1.4256"
   ]
  },
  {
   "cell_type": "code",
   "execution_count": 156,
   "metadata": {},
   "outputs": [
    {
     "data": {
      "text/plain": [
       "-0.008649179397527407"
      ]
     },
     "execution_count": 156,
     "metadata": {},
     "output_type": "execute_result"
    }
   ],
   "source": [
    "1.2087508206024726 - 1.2174"
   ]
  },
  {
   "cell_type": "code",
   "execution_count": 157,
   "metadata": {},
   "outputs": [
    {
     "data": {
      "text/plain": [
       "0.020513503140423772"
      ]
     },
     "execution_count": 157,
     "metadata": {},
     "output_type": "execute_result"
    }
   ],
   "source": [
    "1.6592135031404238  - 1.6387"
   ]
  },
  {
   "cell_type": "code",
   "execution_count": 189,
   "metadata": {},
   "outputs": [
    {
     "name": "stdout",
     "output_type": "stream",
     "text": [
      "0.0\n",
      "0.22360679774997896\n"
     ]
    }
   ],
   "source": [
    "fives = np.full((100, ) , 5)\n",
    "preds = np.full((100, ) , 5)\n",
    "\n",
    "print(rmse(fives, preds))\n",
    "\n",
    "preds[:5] = 4\n",
    "print(rmse(fives, preds))\n",
    "#  five values are off!!"
   ]
  },
  {
   "cell_type": "code",
   "execution_count": 216,
   "metadata": {},
   "outputs": [
    {
     "name": "stdout",
     "output_type": "stream",
     "text": [
      "0.0\n",
      "RMSE:  0.6324555320336759\n",
      "MAE:  0.4\n"
     ]
    }
   ],
   "source": [
    "fives = np.full((100, ) , 4)\n",
    "preds = np.full((100, ) , 4)\n",
    "\n",
    "print(rmse(fives, preds))\n",
    "\n",
    "preds[:40] = 3\n",
    "print(\"RMSE: \", rmse(fives, preds))\n",
    "print(\"MAE: \", mae(fives, preds))\n",
    "#  five values are off!!"
   ]
  },
  {
   "cell_type": "code",
   "execution_count": 231,
   "metadata": {},
   "outputs": [
    {
     "data": {
      "text/plain": [
       "<matplotlib.legend.Legend at 0x1bcf93fe680>"
      ]
     },
     "execution_count": 231,
     "metadata": {},
     "output_type": "execute_result"
    },
    {
     "data": {
      "image/png": "[encoded data removed]",
      "text/plain": [
       "<Figure size 640x480 with 1 Axes>"
      ]
     },
     "metadata": {},
     "output_type": "display_data"
    }
   ],
   "source": [
    "#  how rmse and mae changes...\n",
    "\n",
    "fives = np.full((100, ) , 5)\n",
    "\n",
    "preds_list = []\n",
    "for i in range(1, 15):\n",
    "    preds = np.full((100, ) , 5)\n",
    "    preds[:i] = 1\n",
    "    preds_list.append(preds)\n",
    "\n",
    "rmse_scores = [rmse(fives, preds) for preds in preds_list]\n",
    "mae_scores = [mae(fives, preds) for preds in preds_list]\n",
    "\n",
    "plt.plot(rmse_scores, label='rmse')\n",
    "plt.plot(mae_scores, label='mae')\n",
    "plt.legend()"
   ]
  },
  {
   "cell_type": "code",
   "execution_count": null,
   "metadata": {},
   "outputs": [],
   "source": []
  },
  {
   "attachments": {},
   "cell_type": "markdown",
   "metadata": {},
   "source": [
    "# Sooo....\n",
    "\n",
    "- Now I know I don't have clear validation strategy.\n",
    "- I don't know what to infer from all these experiments.\n",
    "\n",
    "# Todos :\n",
    "\n",
    "- "
   ]
  },
  {
   "cell_type": "code",
   "execution_count": null,
   "metadata": {},
   "outputs": [],
   "source": []
  }
 ],
 "metadata": {
  "kernelspec": {
   "display_name": "Python 3",
   "language": "python",
   "name": "python3"
  },
  "language_info": {
   "codemirror_mode": {
    "name": "ipython",
    "version": 3
   },
   "file_extension": ".py",
   "mimetype": "text/x-python",
   "name": "python",
   "nbconvert_exporter": "python",
   "pygments_lexer": "ipython3",
   "version": "3.10.5"
  },
  "orig_nbformat": 4,
  "vscode": {
   "interpreter": {
    "hash": "186db977f413ae6598820b658aed1651932768522d0652c07d949b3f5fb38b63"
   }
  }
 },
 "nbformat": 4,
 "nbformat_minor": 2
}
