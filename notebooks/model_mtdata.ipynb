{
 "cells": [
  {
   "attachments": {},
   "cell_type": "markdown",
   "metadata": {},
   "source": [
    "``Mission : Error Analysis & Model metadata``\n",
    "\n",
    "- Is this the problem with past submissions too??\n",
    "- Develop Better guess\n",
    "- Start from avgs, expanding means.\n"
   ]
  },
  {
   "attachments": {},
   "cell_type": "markdown",
   "metadata": {},
   "source": [
    "# Data and dependencies"
   ]
  },
  {
   "cell_type": "code",
   "execution_count": 1,
   "metadata": {},
   "outputs": [],
   "source": [
    "import warnings\n",
    "import sys\n",
    "import os\n",
    "import time\n",
    "import joblib\n",
    "import random\n",
    "from tqdm import tqdm\n",
    "from pprint import pprint\n",
    "\n",
    "import pandas as pd\n",
    "import numpy as np\n",
    "import matplotlib.pyplot as plt\n",
    "import seaborn as sns\n",
    "import cv2\n",
    "from geopy.distance import geodesic\n",
    "\n",
    "from sklearn.metrics import mean_squared_error as mse\n",
    "from sklearn.model_selection import train_test_split, StratifiedKFold, TimeSeriesSplit\n",
    "from sklearn.pipeline import make_pipeline\n",
    "from sklearn.preprocessing import OrdinalEncoder\n",
    "\n",
    "from xgboost import XGBClassifier, XGBRegressor\n",
    "from lightgbm import LGBMClassifier, LGBMRegressor\n",
    "from catboost import CatBoostClassifier, CatBoostRegressor\n",
    "from sklearn.ensemble import RandomForestClassifier, RandomForestRegressor\n",
    "\n",
    "warnings.filterwarnings('ignore')"
   ]
  },
  {
   "cell_type": "code",
   "execution_count": 2,
   "metadata": {},
   "outputs": [],
   "source": [
    "metadata = pd.read_csv('../data/metadata.csv')\n",
    "sub_format = pd.read_csv('../data/submission_format.csv')\n",
    "train_labels = pd.read_csv('../data/train_labels.csv')"
   ]
  },
  {
   "cell_type": "code",
   "execution_count": 3,
   "metadata": {},
   "outputs": [],
   "source": [
    "def rmse(y_true, y_pred):\n",
    "    return mse(y_true, y_pred, squared=False)"
   ]
  },
  {
   "cell_type": "code",
   "execution_count": 4,
   "metadata": {},
   "outputs": [],
   "source": [
    "def dens_to_sev(x: float)-> int:\n",
    "    \"\"\"takes in density value in cells/ml and returns severity category\"\"\"\n",
    "    if (x < 20_000) : return 1\n",
    "    elif (x >= 20_000) and (x < 100_000) : return 2\n",
    "    elif (x >= 100_000) and (x < 1_000_000) : return 3\n",
    "    elif (x >= 1_000_000) and (x < 10_000_000) : return 4\n",
    "    elif x > 10_000_000 : return 5"
   ]
  },
  {
   "attachments": {},
   "cell_type": "markdown",
   "metadata": {},
   "source": [
    "## Add date fts"
   ]
  },
  {
   "cell_type": "code",
   "execution_count": 5,
   "metadata": {},
   "outputs": [
    {
     "data": {
      "text/html": [
       "<div>\n",
       "<style scoped>\n",
       "    .dataframe tbody tr th:only-of-type {\n",
       "        vertical-align: middle;\n",
       "    }\n",
       "\n",
       "    .dataframe tbody tr th {\n",
       "        vertical-align: top;\n",
       "    }\n",
       "\n",
       "    .dataframe thead th {\n",
       "        text-align: right;\n",
       "    }\n",
       "</style>\n",
       "<table border=\"1\" class=\"dataframe\">\n",
       "  <thead>\n",
       "    <tr style=\"text-align: right;\">\n",
       "      <th></th>\n",
       "      <th>uid</th>\n",
       "      <th>latitude</th>\n",
       "      <th>longitude</th>\n",
       "      <th>date</th>\n",
       "      <th>split</th>\n",
       "      <th>year</th>\n",
       "      <th>month</th>\n",
       "      <th>week</th>\n",
       "      <th>season</th>\n",
       "      <th>region</th>\n",
       "      <th>severity</th>\n",
       "      <th>density</th>\n",
       "    </tr>\n",
       "  </thead>\n",
       "  <tbody>\n",
       "    <tr>\n",
       "      <th>0</th>\n",
       "      <td>aabm</td>\n",
       "      <td>39.080319</td>\n",
       "      <td>-86.430867</td>\n",
       "      <td>2018-05-14</td>\n",
       "      <td>train</td>\n",
       "      <td>2018</td>\n",
       "      <td>5</td>\n",
       "      <td>20</td>\n",
       "      <td>2</td>\n",
       "      <td>midwest</td>\n",
       "      <td>1.0</td>\n",
       "      <td>585.0</td>\n",
       "    </tr>\n",
       "    <tr>\n",
       "      <th>1</th>\n",
       "      <td>aabn</td>\n",
       "      <td>36.559700</td>\n",
       "      <td>-121.510000</td>\n",
       "      <td>2016-08-31</td>\n",
       "      <td>test</td>\n",
       "      <td>2016</td>\n",
       "      <td>8</td>\n",
       "      <td>35</td>\n",
       "      <td>3</td>\n",
       "      <td>west</td>\n",
       "      <td>NaN</td>\n",
       "      <td>NaN</td>\n",
       "    </tr>\n",
       "    <tr>\n",
       "      <th>2</th>\n",
       "      <td>aacd</td>\n",
       "      <td>35.875083</td>\n",
       "      <td>-78.878434</td>\n",
       "      <td>2020-11-19</td>\n",
       "      <td>train</td>\n",
       "      <td>2020</td>\n",
       "      <td>11</td>\n",
       "      <td>47</td>\n",
       "      <td>4</td>\n",
       "      <td>south</td>\n",
       "      <td>1.0</td>\n",
       "      <td>290.0</td>\n",
       "    </tr>\n",
       "    <tr>\n",
       "      <th>3</th>\n",
       "      <td>aaee</td>\n",
       "      <td>35.487000</td>\n",
       "      <td>-79.062133</td>\n",
       "      <td>2016-08-24</td>\n",
       "      <td>train</td>\n",
       "      <td>2016</td>\n",
       "      <td>8</td>\n",
       "      <td>34</td>\n",
       "      <td>3</td>\n",
       "      <td>south</td>\n",
       "      <td>1.0</td>\n",
       "      <td>1614.0</td>\n",
       "    </tr>\n",
       "    <tr>\n",
       "      <th>4</th>\n",
       "      <td>aaff</td>\n",
       "      <td>38.049471</td>\n",
       "      <td>-99.827001</td>\n",
       "      <td>2019-07-23</td>\n",
       "      <td>train</td>\n",
       "      <td>2019</td>\n",
       "      <td>7</td>\n",
       "      <td>30</td>\n",
       "      <td>3</td>\n",
       "      <td>midwest</td>\n",
       "      <td>3.0</td>\n",
       "      <td>111825.0</td>\n",
       "    </tr>\n",
       "    <tr>\n",
       "      <th>...</th>\n",
       "      <td>...</td>\n",
       "      <td>...</td>\n",
       "      <td>...</td>\n",
       "      <td>...</td>\n",
       "      <td>...</td>\n",
       "      <td>...</td>\n",
       "      <td>...</td>\n",
       "      <td>...</td>\n",
       "      <td>...</td>\n",
       "      <td>...</td>\n",
       "      <td>...</td>\n",
       "      <td>...</td>\n",
       "    </tr>\n",
       "    <tr>\n",
       "      <th>23565</th>\n",
       "      <td>zzvv</td>\n",
       "      <td>36.708500</td>\n",
       "      <td>-121.749000</td>\n",
       "      <td>2014-12-02</td>\n",
       "      <td>test</td>\n",
       "      <td>2014</td>\n",
       "      <td>12</td>\n",
       "      <td>49</td>\n",
       "      <td>1</td>\n",
       "      <td>west</td>\n",
       "      <td>NaN</td>\n",
       "      <td>NaN</td>\n",
       "    </tr>\n",
       "    <tr>\n",
       "      <th>23566</th>\n",
       "      <td>zzwo</td>\n",
       "      <td>39.792190</td>\n",
       "      <td>-99.971050</td>\n",
       "      <td>2017-06-19</td>\n",
       "      <td>train</td>\n",
       "      <td>2017</td>\n",
       "      <td>6</td>\n",
       "      <td>25</td>\n",
       "      <td>3</td>\n",
       "      <td>midwest</td>\n",
       "      <td>2.0</td>\n",
       "      <td>48510.0</td>\n",
       "    </tr>\n",
       "    <tr>\n",
       "      <th>23567</th>\n",
       "      <td>zzwq</td>\n",
       "      <td>35.794000</td>\n",
       "      <td>-79.012551</td>\n",
       "      <td>2015-03-24</td>\n",
       "      <td>train</td>\n",
       "      <td>2015</td>\n",
       "      <td>3</td>\n",
       "      <td>13</td>\n",
       "      <td>2</td>\n",
       "      <td>south</td>\n",
       "      <td>1.0</td>\n",
       "      <td>1271.0</td>\n",
       "    </tr>\n",
       "    <tr>\n",
       "      <th>23568</th>\n",
       "      <td>zzyb</td>\n",
       "      <td>35.742000</td>\n",
       "      <td>-79.238600</td>\n",
       "      <td>2016-11-21</td>\n",
       "      <td>train</td>\n",
       "      <td>2016</td>\n",
       "      <td>11</td>\n",
       "      <td>47</td>\n",
       "      <td>4</td>\n",
       "      <td>south</td>\n",
       "      <td>1.0</td>\n",
       "      <td>9682.0</td>\n",
       "    </tr>\n",
       "    <tr>\n",
       "      <th>23569</th>\n",
       "      <td>zzzi</td>\n",
       "      <td>39.767323</td>\n",
       "      <td>-96.028617</td>\n",
       "      <td>2015-08-31</td>\n",
       "      <td>test</td>\n",
       "      <td>2015</td>\n",
       "      <td>8</td>\n",
       "      <td>36</td>\n",
       "      <td>3</td>\n",
       "      <td>midwest</td>\n",
       "      <td>NaN</td>\n",
       "      <td>NaN</td>\n",
       "    </tr>\n",
       "  </tbody>\n",
       "</table>\n",
       "<p>23570 rows × 12 columns</p>\n",
       "</div>"
      ],
      "text/plain": [
       "        uid   latitude   longitude       date  split  year  month  week  \\\n",
       "0      aabm  39.080319  -86.430867 2018-05-14  train  2018      5    20   \n",
       "1      aabn  36.559700 -121.510000 2016-08-31   test  2016      8    35   \n",
       "2      aacd  35.875083  -78.878434 2020-11-19  train  2020     11    47   \n",
       "3      aaee  35.487000  -79.062133 2016-08-24  train  2016      8    34   \n",
       "4      aaff  38.049471  -99.827001 2019-07-23  train  2019      7    30   \n",
       "...     ...        ...         ...        ...    ...   ...    ...   ...   \n",
       "23565  zzvv  36.708500 -121.749000 2014-12-02   test  2014     12    49   \n",
       "23566  zzwo  39.792190  -99.971050 2017-06-19  train  2017      6    25   \n",
       "23567  zzwq  35.794000  -79.012551 2015-03-24  train  2015      3    13   \n",
       "23568  zzyb  35.742000  -79.238600 2016-11-21  train  2016     11    47   \n",
       "23569  zzzi  39.767323  -96.028617 2015-08-31   test  2015      8    36   \n",
       "\n",
       "       season   region  severity   density  \n",
       "0           2  midwest       1.0     585.0  \n",
       "1           3     west       NaN       NaN  \n",
       "2           4    south       1.0     290.0  \n",
       "3           3    south       1.0    1614.0  \n",
       "4           3  midwest       3.0  111825.0  \n",
       "...       ...      ...       ...       ...  \n",
       "23565       1     west       NaN       NaN  \n",
       "23566       3  midwest       2.0   48510.0  \n",
       "23567       2    south       1.0    1271.0  \n",
       "23568       4    south       1.0    9682.0  \n",
       "23569       3  midwest       NaN       NaN  \n",
       "\n",
       "[23570 rows x 12 columns]"
      ]
     },
     "execution_count": 5,
     "metadata": {},
     "output_type": "execute_result"
    }
   ],
   "source": [
    "metadata.date = pd.to_datetime(metadata.date)\n",
    "metadata['year'] = metadata.date.dt.year\n",
    "metadata['month'] = metadata.date.dt.month\n",
    "metadata['week'] = metadata.date.dt.isocalendar().week\n",
    "\n",
    "\n",
    "seasons = {\n",
    "    1: 1,\n",
    "    2: 1,\n",
    "    3: 2,\n",
    "    4: 2,\n",
    "    5: 2,\n",
    "    6: 3,\n",
    "    7: 3,\n",
    "    8: 3,\n",
    "    9: 4,\n",
    "    10: 4,\n",
    "    11: 4,\n",
    "    12: 1\n",
    "}\n",
    "\n",
    "metadata['season'] = metadata.month.map(seasons)\n",
    "\n",
    "\n",
    "region = pd.concat((train_labels, sub_format[['region', 'uid']]), axis=0)\n",
    "\n",
    "data = pd.merge(metadata, region, on='uid', how='left')\n",
    "data"
   ]
  },
  {
   "cell_type": "code",
   "execution_count": 6,
   "metadata": {},
   "outputs": [
    {
     "data": {
      "text/plain": [
       "((6510, 12), (23570, 12))"
      ]
     },
     "execution_count": 6,
     "metadata": {},
     "output_type": "execute_result"
    }
   ],
   "source": [
    "test_data = data[data.split == 'test']\n",
    "test_data.shape, data.shape"
   ]
  },
  {
   "cell_type": "code",
   "execution_count": 7,
   "metadata": {},
   "outputs": [
    {
     "data": {
      "text/plain": [
       "((17060, 12), (23570, 12))"
      ]
     },
     "execution_count": 7,
     "metadata": {},
     "output_type": "execute_result"
    }
   ],
   "source": [
    "train_data = data[data.split == 'train']\n",
    "train_data.shape, data.shape"
   ]
  },
  {
   "attachments": {},
   "cell_type": "markdown",
   "metadata": {},
   "source": [
    "# Utils"
   ]
  },
  {
   "cell_type": "code",
   "execution_count": 8,
   "metadata": {},
   "outputs": [],
   "source": [
    "#  Utils\n",
    "def get_data_by_date( date=None, data=train_data):\n",
    "    return data[data.date == date]\n",
    "\n",
    "\n",
    "def get_distance(lat1, lon1, lat2, lon2):\n",
    "    return geodesic((lat1, lon1), (lat2, lon2)).km\n",
    "\n",
    "def analyize_matches(y_true, y_pred):\n",
    "    print(\"Exact matches: \", sum(y_true == y_pred) / len(y_true))\n",
    "    \n",
    "    print(\"Missed by 1: \", sum(abs(y_true - y_pred) == 1) / len(y_true))\n",
    "    print(\"Missed by 2: \", sum(abs(y_true - y_pred) == 2) / len(y_true))\n",
    "    print(\"Missed by 3: \", sum(abs(y_true - y_pred) == 3) / len(y_true))\n",
    "    print(\"Missed by 4: \", sum(abs(y_true - y_pred) == 4) / len(y_true))"
   ]
  },
  {
   "attachments": {},
   "cell_type": "markdown",
   "metadata": {},
   "source": [
    "# My Guess"
   ]
  },
  {
   "attachments": {},
   "cell_type": "raw",
   "metadata": {},
   "source": [
    "Get a sample and try to guess it's severity based on location, region, date, season, month.\n",
    "\n",
    "> Trail 1:\n",
    "\n",
    "    1. Get a test/val sample\n",
    "\n",
    "    2. Get subset of train data from the sample's date and region.\n",
    "        2.1 if subset is empty, get subset of train data from the sample's previous date and region.\n",
    "        2.2. if stil the subset is empty, fill the severity with 2.\n",
    "    \n",
    "    3. Get the nearest sample from the subset and use it's severity as the guess.\n",
    "\n"
   ]
  },
  {
   "cell_type": "code",
   "execution_count": 9,
   "metadata": {},
   "outputs": [
    {
     "data": {
      "text/html": [
       "<div>\n",
       "<style scoped>\n",
       "    .dataframe tbody tr th:only-of-type {\n",
       "        vertical-align: middle;\n",
       "    }\n",
       "\n",
       "    .dataframe tbody tr th {\n",
       "        vertical-align: top;\n",
       "    }\n",
       "\n",
       "    .dataframe thead th {\n",
       "        text-align: right;\n",
       "    }\n",
       "</style>\n",
       "<table border=\"1\" class=\"dataframe\">\n",
       "  <thead>\n",
       "    <tr style=\"text-align: right;\">\n",
       "      <th></th>\n",
       "      <th>uid</th>\n",
       "      <th>latitude</th>\n",
       "      <th>longitude</th>\n",
       "      <th>date</th>\n",
       "      <th>split</th>\n",
       "      <th>year</th>\n",
       "      <th>month</th>\n",
       "      <th>week</th>\n",
       "      <th>season</th>\n",
       "      <th>region</th>\n",
       "      <th>severity</th>\n",
       "      <th>density</th>\n",
       "    </tr>\n",
       "  </thead>\n",
       "  <tbody>\n",
       "    <tr>\n",
       "      <th>6865</th>\n",
       "      <td>howw</td>\n",
       "      <td>37.0062</td>\n",
       "      <td>-120.600</td>\n",
       "      <td>2013-01-08</td>\n",
       "      <td>test</td>\n",
       "      <td>2013</td>\n",
       "      <td>1</td>\n",
       "      <td>2</td>\n",
       "      <td>1</td>\n",
       "      <td>west</td>\n",
       "      <td>NaN</td>\n",
       "      <td>NaN</td>\n",
       "    </tr>\n",
       "    <tr>\n",
       "      <th>3661</th>\n",
       "      <td>eamn</td>\n",
       "      <td>36.9818</td>\n",
       "      <td>-120.221</td>\n",
       "      <td>2013-01-08</td>\n",
       "      <td>test</td>\n",
       "      <td>2013</td>\n",
       "      <td>1</td>\n",
       "      <td>2</td>\n",
       "      <td>1</td>\n",
       "      <td>west</td>\n",
       "      <td>NaN</td>\n",
       "      <td>NaN</td>\n",
       "    </tr>\n",
       "    <tr>\n",
       "      <th>7668</th>\n",
       "      <td>imsv</td>\n",
       "      <td>36.9836</td>\n",
       "      <td>-120.500</td>\n",
       "      <td>2013-01-08</td>\n",
       "      <td>test</td>\n",
       "      <td>2013</td>\n",
       "      <td>1</td>\n",
       "      <td>2</td>\n",
       "      <td>1</td>\n",
       "      <td>west</td>\n",
       "      <td>NaN</td>\n",
       "      <td>NaN</td>\n",
       "    </tr>\n",
       "    <tr>\n",
       "      <th>20182</th>\n",
       "      <td>wgxq</td>\n",
       "      <td>33.8011</td>\n",
       "      <td>-117.205</td>\n",
       "      <td>2013-01-25</td>\n",
       "      <td>test</td>\n",
       "      <td>2013</td>\n",
       "      <td>1</td>\n",
       "      <td>4</td>\n",
       "      <td>1</td>\n",
       "      <td>west</td>\n",
       "      <td>NaN</td>\n",
       "      <td>NaN</td>\n",
       "    </tr>\n",
       "    <tr>\n",
       "      <th>16095</th>\n",
       "      <td>rsos</td>\n",
       "      <td>33.8892</td>\n",
       "      <td>-117.562</td>\n",
       "      <td>2013-01-25</td>\n",
       "      <td>test</td>\n",
       "      <td>2013</td>\n",
       "      <td>1</td>\n",
       "      <td>4</td>\n",
       "      <td>1</td>\n",
       "      <td>west</td>\n",
       "      <td>NaN</td>\n",
       "      <td>NaN</td>\n",
       "    </tr>\n",
       "    <tr>\n",
       "      <th>...</th>\n",
       "      <td>...</td>\n",
       "      <td>...</td>\n",
       "      <td>...</td>\n",
       "      <td>...</td>\n",
       "      <td>...</td>\n",
       "      <td>...</td>\n",
       "      <td>...</td>\n",
       "      <td>...</td>\n",
       "      <td>...</td>\n",
       "      <td>...</td>\n",
       "      <td>...</td>\n",
       "      <td>...</td>\n",
       "    </tr>\n",
       "    <tr>\n",
       "      <th>12443</th>\n",
       "      <td>nsoi</td>\n",
       "      <td>36.7368</td>\n",
       "      <td>-121.734</td>\n",
       "      <td>2021-12-29</td>\n",
       "      <td>test</td>\n",
       "      <td>2021</td>\n",
       "      <td>12</td>\n",
       "      <td>52</td>\n",
       "      <td>1</td>\n",
       "      <td>west</td>\n",
       "      <td>NaN</td>\n",
       "      <td>NaN</td>\n",
       "    </tr>\n",
       "    <tr>\n",
       "      <th>14254</th>\n",
       "      <td>prfi</td>\n",
       "      <td>36.7518</td>\n",
       "      <td>-121.742</td>\n",
       "      <td>2021-12-29</td>\n",
       "      <td>test</td>\n",
       "      <td>2021</td>\n",
       "      <td>12</td>\n",
       "      <td>52</td>\n",
       "      <td>1</td>\n",
       "      <td>west</td>\n",
       "      <td>NaN</td>\n",
       "      <td>NaN</td>\n",
       "    </tr>\n",
       "    <tr>\n",
       "      <th>6864</th>\n",
       "      <td>howu</td>\n",
       "      <td>36.7085</td>\n",
       "      <td>-121.749</td>\n",
       "      <td>2021-12-29</td>\n",
       "      <td>test</td>\n",
       "      <td>2021</td>\n",
       "      <td>12</td>\n",
       "      <td>52</td>\n",
       "      <td>1</td>\n",
       "      <td>west</td>\n",
       "      <td>NaN</td>\n",
       "      <td>NaN</td>\n",
       "    </tr>\n",
       "    <tr>\n",
       "      <th>6540</th>\n",
       "      <td>hfvr</td>\n",
       "      <td>36.7962</td>\n",
       "      <td>-121.782</td>\n",
       "      <td>2021-12-29</td>\n",
       "      <td>test</td>\n",
       "      <td>2021</td>\n",
       "      <td>12</td>\n",
       "      <td>52</td>\n",
       "      <td>1</td>\n",
       "      <td>west</td>\n",
       "      <td>NaN</td>\n",
       "      <td>NaN</td>\n",
       "    </tr>\n",
       "    <tr>\n",
       "      <th>17559</th>\n",
       "      <td>thki</td>\n",
       "      <td>36.7254</td>\n",
       "      <td>-121.730</td>\n",
       "      <td>2021-12-29</td>\n",
       "      <td>test</td>\n",
       "      <td>2021</td>\n",
       "      <td>12</td>\n",
       "      <td>52</td>\n",
       "      <td>1</td>\n",
       "      <td>west</td>\n",
       "      <td>NaN</td>\n",
       "      <td>NaN</td>\n",
       "    </tr>\n",
       "  </tbody>\n",
       "</table>\n",
       "<p>6510 rows × 12 columns</p>\n",
       "</div>"
      ],
      "text/plain": [
       "        uid  latitude  longitude       date split  year  month  week  season  \\\n",
       "6865   howw   37.0062   -120.600 2013-01-08  test  2013      1     2       1   \n",
       "3661   eamn   36.9818   -120.221 2013-01-08  test  2013      1     2       1   \n",
       "7668   imsv   36.9836   -120.500 2013-01-08  test  2013      1     2       1   \n",
       "20182  wgxq   33.8011   -117.205 2013-01-25  test  2013      1     4       1   \n",
       "16095  rsos   33.8892   -117.562 2013-01-25  test  2013      1     4       1   \n",
       "...     ...       ...        ...        ...   ...   ...    ...   ...     ...   \n",
       "12443  nsoi   36.7368   -121.734 2021-12-29  test  2021     12    52       1   \n",
       "14254  prfi   36.7518   -121.742 2021-12-29  test  2021     12    52       1   \n",
       "6864   howu   36.7085   -121.749 2021-12-29  test  2021     12    52       1   \n",
       "6540   hfvr   36.7962   -121.782 2021-12-29  test  2021     12    52       1   \n",
       "17559  thki   36.7254   -121.730 2021-12-29  test  2021     12    52       1   \n",
       "\n",
       "      region  severity  density  \n",
       "6865    west       NaN      NaN  \n",
       "3661    west       NaN      NaN  \n",
       "7668    west       NaN      NaN  \n",
       "20182   west       NaN      NaN  \n",
       "16095   west       NaN      NaN  \n",
       "...      ...       ...      ...  \n",
       "12443   west       NaN      NaN  \n",
       "14254   west       NaN      NaN  \n",
       "6864    west       NaN      NaN  \n",
       "6540    west       NaN      NaN  \n",
       "17559   west       NaN      NaN  \n",
       "\n",
       "[6510 rows x 12 columns]"
      ]
     },
     "execution_count": 9,
     "metadata": {},
     "output_type": "execute_result"
    }
   ],
   "source": [
    "te_data = test_data.sort_values(by='date')\n",
    "te_data"
   ]
  },
  {
   "attachments": {},
   "cell_type": "markdown",
   "metadata": {},
   "source": [
    "## Train test split"
   ]
  },
  {
   "cell_type": "code",
   "execution_count": 10,
   "metadata": {},
   "outputs": [
    {
     "data": {
      "text/plain": [
       "((14501, 12), (2559, 12))"
      ]
     },
     "execution_count": 10,
     "metadata": {},
     "output_type": "execute_result"
    }
   ],
   "source": [
    "tr_data, val_data = train_test_split(train_data, test_size=0.15, random_state=123456789, shuffle=True)\n",
    "tr_data.shape, val_data.shape"
   ]
  },
  {
   "cell_type": "code",
   "execution_count": 11,
   "metadata": {},
   "outputs": [
    {
     "data": {
      "text/plain": [
       "((14501, 12), (2559, 12))"
      ]
     },
     "execution_count": 11,
     "metadata": {},
     "output_type": "execute_result"
    }
   ],
   "source": [
    "tr_data2, val_data2 = train_test_split(train_data, test_size=0.15, random_state=123456789, shuffle=True)\n",
    "tr_data2.shape, val_data2.shape"
   ]
  },
  {
   "attachments": {},
   "cell_type": "markdown",
   "metadata": {},
   "source": [
    "## Guess Funcs"
   ]
  },
  {
   "cell_type": "code",
   "execution_count": 12,
   "metadata": {},
   "outputs": [],
   "source": [
    "fill_2s = []\n",
    "g_from_past = {}\n",
    "\n",
    "n_times_called = {}\n",
    "\n",
    "def make_guess1(row: pd.Series, date=None, tr_data=tr_data) -> pd.Series:\n",
    "\n",
    "    dists = []\n",
    "    region = row.region\n",
    "    date = date\n",
    "    uid = row.uid\n",
    "    tr_data = tr_data\n",
    "\n",
    "    if date is None:\n",
    "        date = row.date\n",
    "\n",
    "    rel_data = tr_data[(tr_data.date == date) & (tr_data.region == region)]\n",
    "    \n",
    "    # check if cur date is past '2013-01-04'\n",
    "    if date < pd.to_datetime('2013-01-04'):\n",
    "        print(f'No previous data for this date filling in 2s .. for {row.uid}')\n",
    "        fill_2s.append(uid)\n",
    "        return 2\n",
    "\n",
    "    if rel_data.shape[0] == 0:\n",
    "        # print(f'No data for this date, trying previous day.. for {row.uid}')\n",
    "        if g_from_past.get(uid) is not None:\n",
    "            g_from_past[uid] += 1\n",
    "        return make_guess1(row, date=date - pd.Timedelta(days=1), tr_data=tr_data)\n",
    "\n",
    "    for some_row in rel_data.itertuples():\n",
    "        dist = get_distance(row.latitude, row.longitude, some_row.latitude, some_row.longitude)\n",
    "        dists.append(dist)\n",
    "    \n",
    "    nearest = rel_data.iloc[np.argmin(dists)]\n",
    "    return nearest.severity\n",
    "\n",
    "\n",
    "def make_guess2(row: pd.Series, date=None, tr_data=tr_data, n_times_called=None) -> pd.Series:\n",
    "    \"\"\"modified version of make_guess1, Uses mean/mode of severity for the region instead of nearest severity.\"\"\"\n",
    "    dists = []\n",
    "    region = row.region\n",
    "    date = date\n",
    "    uid = row.uid\n",
    "    tr_data = tr_data\n",
    "    \n",
    "    if n_times_called is not None:\n",
    "        if n_times_called.get(uid) is None:\n",
    "            n_times_called[uid] = 1\n",
    "        else:\n",
    "            n_times_called[uid] += 1\n",
    "        \n",
    "\n",
    "    if date is None:\n",
    "        date = row.date\n",
    "\n",
    "    rel_data = tr_data[(tr_data.date == date) & (tr_data.region == region)]\n",
    "    \n",
    "    # check if cur date is past '2013-01-04'\n",
    "    if date < pd.to_datetime('2013-01-04'):\n",
    "        print(f'No previous data for this date filling in 2s .. for {row.uid}')\n",
    "        fill_2s.append(uid)\n",
    "        return 2\n",
    "\n",
    "    if rel_data.shape[0] == 0:\n",
    "        # print(f'No data for this date, trying previous day.. for {row.uid}')\n",
    "        if g_from_past.get(uid) is not None:\n",
    "            g_from_past[uid] += 1\n",
    "        global count \n",
    "        count += 1\n",
    "        return make_guess2(row, date=date - pd.Timedelta(days=1), tr_data=tr_data)\n",
    "\n",
    "    severty_mode = rel_data.severity.mode()[0]\n",
    "    severty_mean = np.round(rel_data.severity.mean())\n",
    "\n",
    "    return severty_mean\n",
    "\n",
    "\n",
    "\n",
    "def cv_loop(rand, splits=10, guess_func=make_guess1):\n",
    "    # print(\"Random Number: \", rand)\n",
    "    skf = StratifiedKFold(n_splits=splits, shuffle=True, random_state=rand)\n",
    "    tscv = TimeSeriesSplit(n_splits=splits)\n",
    "    \n",
    "    rmses = []\n",
    "    guess_train_preds = np.zeros((train_data.shape[0]))\n",
    "\n",
    "    for fold, (train_idx, val_idx) in enumerate(tscv.split(train_data, train_data.severity)):\n",
    "        print(f\"Fold: {fold}\")\n",
    "        tr_data, val_data = train_data.iloc[train_idx], train_data.iloc[val_idx]\n",
    "\n",
    "        val_data['guess'] = 0\n",
    "\n",
    "        temp = []\n",
    "        for row in tqdm(val_data.itertuples(), total=val_data.shape[0]):\n",
    "            uid_series = val_data[val_data.uid == row.uid]\n",
    "            severity = guess_func(uid_series.iloc[0], date=row.date, tr_data=tr_data)\n",
    "            val_data.loc[val_data.uid == row.uid, f'guess'] = severity\n",
    "            temp.append(severity)\n",
    "        \n",
    "        guess_train_preds[val_idx] = temp\n",
    "        \n",
    "\n",
    "                \n",
    "        errror = rmse(val_data.severity, val_data.guess1)\n",
    "        rmses.append(errror)\n",
    "        print(\"RMSE: \", errror)\n",
    "\n",
    "        print('Train Distribution: ')\n",
    "        print(tr_data.severity.value_counts(normalize=True))\n",
    "        print('Val Distribution: ')\n",
    "        print(val_data.severity.value_counts(normalize=True))\n",
    "        print('Predicted Distribution: ')\n",
    "        print(val_data.guess1.value_counts(normalize=True))\n",
    "\n",
    "    \n",
    "    print('----------------------------------------------------')\n",
    "\n",
    "    return rmses, guess_train_preds\n"
   ]
  },
  {
   "cell_type": "code",
   "execution_count": 13,
   "metadata": {},
   "outputs": [],
   "source": [
    "tr_data.sort_values(by='date', inplace=True)\n",
    "val_data.sort_values(by='date', inplace=True)"
   ]
  },
  {
   "cell_type": "code",
   "execution_count": 14,
   "metadata": {},
   "outputs": [],
   "source": [
    "tr_data2.sort_values(by='date', inplace=True)\n",
    "val_data2.sort_values(by='date', inplace=True)"
   ]
  },
  {
   "attachments": {},
   "cell_type": "markdown",
   "metadata": {},
   "source": [
    "### Failed way of validation"
   ]
  },
  {
   "cell_type": "code",
   "execution_count": 19,
   "metadata": {},
   "outputs": [
    {
     "name": "stderr",
     "output_type": "stream",
     "text": [
      "100%|██████████| 2559/2559 [00:18<00:00, 140.98it/s]"
     ]
    },
    {
     "name": "stdout",
     "output_type": "stream",
     "text": [
      "Exact matches:  0.6107854630715123\n",
      "Missed by 1:  0.283704572098476\n",
      "Missed by 2:  0.09574052364204767\n",
      "Missed by 3:  0.007815552950371238\n",
      "Missed by 4:  0.0019538882375928096\n"
     ]
    },
    {
     "name": "stderr",
     "output_type": "stream",
     "text": [
      "\n"
     ]
    },
    {
     "data": {
      "text/plain": [
       "0.8765094722942204"
      ]
     },
     "execution_count": 19,
     "metadata": {},
     "output_type": "execute_result"
    }
   ],
   "source": [
    "for row in tqdm(val_data.itertuples(), total=val_data.shape[0]):\n",
    "    val_data.loc[row.Index, 'guess'] = make_guess1(row)\n",
    "\n",
    "analyize_matches(val_data.severity, val_data.guess)\n",
    "rmse(val_data.severity, val_data.guess)"
   ]
  },
  {
   "cell_type": "code",
   "execution_count": 20,
   "metadata": {},
   "outputs": [],
   "source": [
    "# 0.08284486127393513 + 0.008206330597889801 + 0.0011723329425556857\n",
    "# 91% preds < 1 offs, 99% preds < 2 offs, 88% preds == 2 offs"
   ]
  },
  {
   "cell_type": "code",
   "execution_count": 20,
   "metadata": {},
   "outputs": [
    {
     "name": "stderr",
     "output_type": "stream",
     "text": [
      "100%|██████████| 2559/2559 [00:05<00:00, 463.20it/s]"
     ]
    },
    {
     "name": "stdout",
     "output_type": "stream",
     "text": [
      "Exact matches:  0.5560765924189136\n",
      "Missed by 1:  0.3903868698710434\n",
      "Missed by 2:  0.047284095349745994\n",
      "Missed by 3:  0.005861664712778429\n",
      "Missed by 4:  0.00039077764751856197\n"
     ]
    },
    {
     "name": "stderr",
     "output_type": "stream",
     "text": [
      "\n"
     ]
    },
    {
     "data": {
      "text/plain": [
       "0.7990811448440829"
      ]
     },
     "execution_count": 20,
     "metadata": {},
     "output_type": "execute_result"
    }
   ],
   "source": [
    "count = 0\n",
    "\n",
    "for row in tqdm(val_data.itertuples(), total=val_data.shape[0]):\n",
    "    val_data.loc[row.Index, 'guess'] = make_guess2(row)\n",
    "\n",
    "analyize_matches(val_data.severity, val_data.guess)\n",
    "\n",
    "rmse(val_data.severity, val_data.guess)"
   ]
  },
  {
   "attachments": {},
   "cell_type": "markdown",
   "metadata": {},
   "source": [
    "### New Era VAL SET"
   ]
  },
  {
   "cell_type": "code",
   "execution_count": 23,
   "metadata": {},
   "outputs": [
    {
     "name": "stdout",
     "output_type": "stream",
     "text": [
      "set()\n",
      "0.9328793774319066\n"
     ]
    }
   ],
   "source": [
    "val_data2['date_reg'] = val_data2.date.astype(str) + \"_\" +  val_data2.region\n",
    "tr_data2['date_reg'] = tr_data2.date.astype(str) + \"_\" +  tr_data2.region\n",
    "\n",
    "assert (val_data2.columns == tr_data2.columns).all()\n",
    "\n",
    "print(set(val_data2.uid).intersection(set(tr_data2.uid)))\n",
    "\n",
    "#  Intersection percentage of date and regs before\n",
    "print(len(set(val_data2.date_reg).intersection(set(tr_data2.date_reg)))/val_data2.date_reg.nunique())"
   ]
  },
  {
   "cell_type": "code",
   "execution_count": 24,
   "metadata": {},
   "outputs": [
    {
     "data": {
      "text/plain": [
       "0.372568093385214"
      ]
     },
     "execution_count": 24,
     "metadata": {},
     "output_type": "execute_result"
    }
   ],
   "source": [
    "datereg_to_remove = val_data2.date_reg.sample(frac=0.40, random_state=123456789)\n",
    "tr_data2_ = tr_data2[~tr_data2.date_reg.isin(datereg_to_remove)]\n",
    "\n",
    "len(set(val_data2.date_reg).intersection(set(tr_data2_.date_reg)))/val_data2.date_reg.nunique()"
   ]
  },
  {
   "cell_type": "code",
   "execution_count": 25,
   "metadata": {},
   "outputs": [
    {
     "data": {
      "text/plain": [
       "0.6537013801756587"
      ]
     },
     "execution_count": 25,
     "metadata": {},
     "output_type": "execute_result"
    }
   ],
   "source": [
    "len(set(val_data2.date).intersection(set(tr_data2_.date)))/val_data2.date.nunique()"
   ]
  },
  {
   "cell_type": "code",
   "execution_count": 29,
   "metadata": {},
   "outputs": [
    {
     "data": {
      "text/plain": [
       "0.701095461658842"
      ]
     },
     "execution_count": 29,
     "metadata": {},
     "output_type": "execute_result"
    }
   ],
   "source": [
    "len(set(test_data.date).intersection(set(train_data.date)))/test_data.date.nunique()"
   ]
  },
  {
   "cell_type": "code",
   "execution_count": 30,
   "metadata": {},
   "outputs": [
    {
     "data": {
      "text/plain": [
       "0.43902439024390244"
      ]
     },
     "execution_count": 30,
     "metadata": {},
     "output_type": "execute_result"
    }
   ],
   "source": [
    "tr_data3 = tr_data2.copy()\n",
    "val_data3 = val_data2.copy()\n",
    "\n",
    "datereg_to_remove = tr_data3.date_reg.sample(frac=0.60, random_state=123456789)\n",
    "val_data3_ = val_data3[~val_data3.date_reg.isin(datereg_to_remove)]\n",
    "\n",
    "len(set(val_data3_.date_reg).intersection(set(tr_data3.date_reg)))/val_data3_.date_reg.nunique()"
   ]
  },
  {
   "cell_type": "code",
   "execution_count": 31,
   "metadata": {},
   "outputs": [
    {
     "data": {
      "text/plain": [
       "0.6186440677966102"
      ]
     },
     "execution_count": 31,
     "metadata": {},
     "output_type": "execute_result"
    }
   ],
   "source": [
    "len(set(val_data3_.date).intersection(set(tr_data2_.date)))/val_data3_.date.nunique()"
   ]
  },
  {
   "cell_type": "code",
   "execution_count": 32,
   "metadata": {},
   "outputs": [
    {
     "data": {
      "text/plain": [
       "((2559, 13), (137, 13), (14501, 13))"
      ]
     },
     "execution_count": 32,
     "metadata": {},
     "output_type": "execute_result"
    }
   ],
   "source": [
    "val_data3.shape, val_data3_.shape, tr_data3.shape\n",
    "\n",
    "#  I wonder if this is a good idea!"
   ]
  },
  {
   "cell_type": "code",
   "execution_count": 33,
   "metadata": {},
   "outputs": [
    {
     "name": "stderr",
     "output_type": "stream",
     "text": [
      "100%|██████████| 137/137 [00:01<00:00, 126.30it/s]"
     ]
    },
    {
     "name": "stdout",
     "output_type": "stream",
     "text": [
      "Exact matches:  0.5182481751824818\n",
      "Missed by 1:  0.29927007299270075\n",
      "Missed by 2:  0.145985401459854\n",
      "Missed by 3:  0.0364963503649635\n",
      "Missed by 4:  0.0\n"
     ]
    },
    {
     "name": "stderr",
     "output_type": "stream",
     "text": [
      "\n"
     ]
    },
    {
     "data": {
      "text/plain": [
       "1.100762840995638"
      ]
     },
     "execution_count": 33,
     "metadata": {},
     "output_type": "execute_result"
    }
   ],
   "source": [
    "for row in tqdm(val_data3_.itertuples(), total=val_data3_.shape[0]):\n",
    "    val_data3_.loc[row.Index, 'guess'] = make_guess2(row, tr_data=tr_data3)\n",
    "\n",
    "analyize_matches(val_data3_.severity, val_data3_.guess)\n",
    "\n",
    "rmse(val_data3_.severity, val_data3_.guess)"
   ]
  },
  {
   "attachments": {},
   "cell_type": "markdown",
   "metadata": {},
   "source": [
    "### Eval"
   ]
  },
  {
   "cell_type": "code",
   "execution_count": 99,
   "metadata": {},
   "outputs": [],
   "source": [
    "def eval( guess_func=make_guess2, val_data=val_data3_, tr_data=tr_data3):\n",
    "    for row in tqdm(val_data.itertuples(), total=val_data.shape[0]):\n",
    "        val_data.loc[row.Index, 'guess'] = guess_func(row, tr_data=tr_data)\n",
    "    analyize_matches(val_data.severity, val_data.guess)\n",
    "    return rmse(val_data.severity, val_data.guess)"
   ]
  },
  {
   "cell_type": "code",
   "execution_count": 100,
   "metadata": {},
   "outputs": [
    {
     "name": "stderr",
     "output_type": "stream",
     "text": [
      "100%|██████████| 137/137 [00:03<00:00, 37.29it/s]"
     ]
    },
    {
     "name": "stdout",
     "output_type": "stream",
     "text": [
      "Exact matches:  0.5182481751824818\n",
      "Missed by 1:  0.29927007299270075\n",
      "Missed by 2:  0.145985401459854\n",
      "Missed by 3:  0.0364963503649635\n",
      "Missed by 4:  0.0\n"
     ]
    },
    {
     "name": "stderr",
     "output_type": "stream",
     "text": [
      "\n"
     ]
    },
    {
     "data": {
      "text/plain": [
       "1.100762840995638"
      ]
     },
     "execution_count": 100,
     "metadata": {},
     "output_type": "execute_result"
    }
   ],
   "source": [
    "eval()"
   ]
  },
  {
   "cell_type": "code",
   "execution_count": 101,
   "metadata": {},
   "outputs": [
    {
     "name": "stderr",
     "output_type": "stream",
     "text": [
      "100%|██████████| 2559/2559 [00:17<00:00, 143.60it/s]"
     ]
    },
    {
     "name": "stdout",
     "output_type": "stream",
     "text": [
      "Exact matches:  0.5560765924189136\n",
      "Missed by 1:  0.3903868698710434\n",
      "Missed by 2:  0.047284095349745994\n",
      "Missed by 3:  0.005861664712778429\n",
      "Missed by 4:  0.00039077764751856197\n"
     ]
    },
    {
     "name": "stderr",
     "output_type": "stream",
     "text": [
      "\n"
     ]
    },
    {
     "data": {
      "text/plain": [
       "0.7990811448440829"
      ]
     },
     "execution_count": 101,
     "metadata": {},
     "output_type": "execute_result"
    }
   ],
   "source": [
    "eval(val_data=val_data3, tr_data=tr_data3)"
   ]
  },
  {
   "cell_type": "code",
   "execution_count": 102,
   "metadata": {},
   "outputs": [
    {
     "name": "stderr",
     "output_type": "stream",
     "text": [
      "  0%|          | 2/2559 [00:00<02:09, 19.71it/s]"
     ]
    },
    {
     "name": "stdout",
     "output_type": "stream",
     "text": [
      "No previous data for this date filling in 2s .. for pfly\n",
      "No previous data for this date filling in 2s .. for jalu\n",
      "No previous data for this date filling in 2s .. for jubi\n",
      "No previous data for this date filling in 2s .. for pdqu\n"
     ]
    },
    {
     "name": "stderr",
     "output_type": "stream",
     "text": [
      "  0%|          | 10/2559 [00:00<02:32, 16.71it/s]"
     ]
    },
    {
     "name": "stdout",
     "output_type": "stream",
     "text": [
      "No previous data for this date filling in 2s .. for ipsj\n",
      "No previous data for this date filling in 2s .. for acmt\n"
     ]
    },
    {
     "name": "stderr",
     "output_type": "stream",
     "text": [
      "  0%|          | 12/2559 [00:00<03:24, 12.45it/s]"
     ]
    },
    {
     "name": "stdout",
     "output_type": "stream",
     "text": [
      "No previous data for this date filling in 2s .. for htnz\n"
     ]
    },
    {
     "name": "stderr",
     "output_type": "stream",
     "text": [
      "  1%|          | 18/2559 [00:01<02:52, 14.76it/s]"
     ]
    },
    {
     "name": "stdout",
     "output_type": "stream",
     "text": [
      "No previous data for this date filling in 2s .. for kptf\n"
     ]
    },
    {
     "name": "stderr",
     "output_type": "stream",
     "text": [
      "100%|██████████| 2559/2559 [01:06<00:00, 38.33it/s] "
     ]
    },
    {
     "name": "stdout",
     "output_type": "stream",
     "text": [
      "Exact matches:  0.5166080500195389\n",
      "Missed by 1:  0.3583431027745213\n",
      "Missed by 2:  0.08909730363423213\n",
      "Missed by 3:  0.03477921062915201\n",
      "Missed by 4:  0.0011723329425556857\n"
     ]
    },
    {
     "name": "stderr",
     "output_type": "stream",
     "text": [
      "\n"
     ]
    },
    {
     "data": {
      "text/plain": [
       "1.0229870673936738"
      ]
     },
     "execution_count": 102,
     "metadata": {},
     "output_type": "execute_result"
    }
   ],
   "source": [
    "eval(val_data=val_data2, tr_data=tr_data2_)"
   ]
  },
  {
   "cell_type": "code",
   "execution_count": 103,
   "metadata": {},
   "outputs": [
    {
     "data": {
      "text/html": [
       "<div>\n",
       "<style scoped>\n",
       "    .dataframe tbody tr th:only-of-type {\n",
       "        vertical-align: middle;\n",
       "    }\n",
       "\n",
       "    .dataframe tbody tr th {\n",
       "        vertical-align: top;\n",
       "    }\n",
       "\n",
       "    .dataframe thead th {\n",
       "        text-align: right;\n",
       "    }\n",
       "</style>\n",
       "<table border=\"1\" class=\"dataframe\">\n",
       "  <thead>\n",
       "    <tr style=\"text-align: right;\">\n",
       "      <th></th>\n",
       "      <th>uid</th>\n",
       "      <th>latitude</th>\n",
       "      <th>longitude</th>\n",
       "      <th>date</th>\n",
       "      <th>split</th>\n",
       "      <th>year</th>\n",
       "      <th>month</th>\n",
       "      <th>week</th>\n",
       "      <th>season</th>\n",
       "      <th>region</th>\n",
       "      <th>severity</th>\n",
       "      <th>density</th>\n",
       "      <th>exp_sev_rm</th>\n",
       "    </tr>\n",
       "  </thead>\n",
       "  <tbody>\n",
       "    <tr>\n",
       "      <th>9649</th>\n",
       "      <td>kptf</td>\n",
       "      <td>38.307</td>\n",
       "      <td>-121.794</td>\n",
       "      <td>2013-02-19</td>\n",
       "      <td>train</td>\n",
       "      <td>2013</td>\n",
       "      <td>2</td>\n",
       "      <td>8</td>\n",
       "      <td>1</td>\n",
       "      <td>west</td>\n",
       "      <td>4.0</td>\n",
       "      <td>6930000.0</td>\n",
       "      <td>0</td>\n",
       "    </tr>\n",
       "  </tbody>\n",
       "</table>\n",
       "</div>"
      ],
      "text/plain": [
       "       uid  latitude  longitude       date  split  year  month  week  season  \\\n",
       "9649  kptf    38.307   -121.794 2013-02-19  train  2013      2     8       1   \n",
       "\n",
       "     region  severity    density  exp_sev_rm  \n",
       "9649   west       4.0  6930000.0           0  "
      ]
     },
     "execution_count": 103,
     "metadata": {},
     "output_type": "execute_result"
    }
   ],
   "source": [
    "train_data[train_data.uid == 'kptf']"
   ]
  },
  {
   "cell_type": "code",
   "execution_count": 104,
   "metadata": {},
   "outputs": [
    {
     "data": {
      "text/html": [
       "<div>\n",
       "<style scoped>\n",
       "    .dataframe tbody tr th:only-of-type {\n",
       "        vertical-align: middle;\n",
       "    }\n",
       "\n",
       "    .dataframe tbody tr th {\n",
       "        vertical-align: top;\n",
       "    }\n",
       "\n",
       "    .dataframe thead th {\n",
       "        text-align: right;\n",
       "    }\n",
       "</style>\n",
       "<table border=\"1\" class=\"dataframe\">\n",
       "  <thead>\n",
       "    <tr style=\"text-align: right;\">\n",
       "      <th></th>\n",
       "      <th>uid</th>\n",
       "      <th>latitude</th>\n",
       "      <th>longitude</th>\n",
       "      <th>date</th>\n",
       "      <th>split</th>\n",
       "      <th>year</th>\n",
       "      <th>month</th>\n",
       "      <th>week</th>\n",
       "      <th>season</th>\n",
       "      <th>region</th>\n",
       "      <th>severity</th>\n",
       "      <th>density</th>\n",
       "      <th>date_reg</th>\n",
       "    </tr>\n",
       "  </thead>\n",
       "  <tbody>\n",
       "    <tr>\n",
       "      <th>13644</th>\n",
       "      <td>paev</td>\n",
       "      <td>44.822478</td>\n",
       "      <td>-93.367962</td>\n",
       "      <td>2013-01-04</td>\n",
       "      <td>train</td>\n",
       "      <td>2013</td>\n",
       "      <td>1</td>\n",
       "      <td>1</td>\n",
       "      <td>1</td>\n",
       "      <td>midwest</td>\n",
       "      <td>1.0</td>\n",
       "      <td>1884.0</td>\n",
       "      <td>2013-01-04_midwest</td>\n",
       "    </tr>\n",
       "    <tr>\n",
       "      <th>4387</th>\n",
       "      <td>evep</td>\n",
       "      <td>44.847993</td>\n",
       "      <td>-93.476318</td>\n",
       "      <td>2013-01-04</td>\n",
       "      <td>train</td>\n",
       "      <td>2013</td>\n",
       "      <td>1</td>\n",
       "      <td>1</td>\n",
       "      <td>1</td>\n",
       "      <td>midwest</td>\n",
       "      <td>1.0</td>\n",
       "      <td>115.0</td>\n",
       "      <td>2013-01-04_midwest</td>\n",
       "    </tr>\n",
       "    <tr>\n",
       "      <th>5566</th>\n",
       "      <td>gdxr</td>\n",
       "      <td>44.877646</td>\n",
       "      <td>-93.557842</td>\n",
       "      <td>2013-01-04</td>\n",
       "      <td>train</td>\n",
       "      <td>2013</td>\n",
       "      <td>1</td>\n",
       "      <td>1</td>\n",
       "      <td>1</td>\n",
       "      <td>midwest</td>\n",
       "      <td>1.0</td>\n",
       "      <td>1416.0</td>\n",
       "      <td>2013-01-04_midwest</td>\n",
       "    </tr>\n",
       "    <tr>\n",
       "      <th>6144</th>\n",
       "      <td>guny</td>\n",
       "      <td>44.878889</td>\n",
       "      <td>-93.490833</td>\n",
       "      <td>2013-01-04</td>\n",
       "      <td>train</td>\n",
       "      <td>2013</td>\n",
       "      <td>1</td>\n",
       "      <td>1</td>\n",
       "      <td>1</td>\n",
       "      <td>midwest</td>\n",
       "      <td>1.0</td>\n",
       "      <td>558.0</td>\n",
       "      <td>2013-01-04_midwest</td>\n",
       "    </tr>\n",
       "    <tr>\n",
       "      <th>5317</th>\n",
       "      <td>fwbt</td>\n",
       "      <td>44.850500</td>\n",
       "      <td>-93.515700</td>\n",
       "      <td>2013-01-04</td>\n",
       "      <td>train</td>\n",
       "      <td>2013</td>\n",
       "      <td>1</td>\n",
       "      <td>1</td>\n",
       "      <td>1</td>\n",
       "      <td>midwest</td>\n",
       "      <td>1.0</td>\n",
       "      <td>476.0</td>\n",
       "      <td>2013-01-04_midwest</td>\n",
       "    </tr>\n",
       "    <tr>\n",
       "      <th>...</th>\n",
       "      <td>...</td>\n",
       "      <td>...</td>\n",
       "      <td>...</td>\n",
       "      <td>...</td>\n",
       "      <td>...</td>\n",
       "      <td>...</td>\n",
       "      <td>...</td>\n",
       "      <td>...</td>\n",
       "      <td>...</td>\n",
       "      <td>...</td>\n",
       "      <td>...</td>\n",
       "      <td>...</td>\n",
       "      <td>...</td>\n",
       "    </tr>\n",
       "    <tr>\n",
       "      <th>23159</th>\n",
       "      <td>zoaj</td>\n",
       "      <td>36.060000</td>\n",
       "      <td>-78.760000</td>\n",
       "      <td>2021-12-14</td>\n",
       "      <td>train</td>\n",
       "      <td>2021</td>\n",
       "      <td>12</td>\n",
       "      <td>50</td>\n",
       "      <td>1</td>\n",
       "      <td>south</td>\n",
       "      <td>2.0</td>\n",
       "      <td>48233.0</td>\n",
       "      <td>2021-12-14_south</td>\n",
       "    </tr>\n",
       "    <tr>\n",
       "      <th>18793</th>\n",
       "      <td>uscb</td>\n",
       "      <td>35.980000</td>\n",
       "      <td>-78.843636</td>\n",
       "      <td>2021-12-14</td>\n",
       "      <td>train</td>\n",
       "      <td>2021</td>\n",
       "      <td>12</td>\n",
       "      <td>50</td>\n",
       "      <td>1</td>\n",
       "      <td>south</td>\n",
       "      <td>2.0</td>\n",
       "      <td>20021.0</td>\n",
       "      <td>2021-12-14_south</td>\n",
       "    </tr>\n",
       "    <tr>\n",
       "      <th>12047</th>\n",
       "      <td>ngxt</td>\n",
       "      <td>35.980000</td>\n",
       "      <td>-78.844133</td>\n",
       "      <td>2021-12-14</td>\n",
       "      <td>train</td>\n",
       "      <td>2021</td>\n",
       "      <td>12</td>\n",
       "      <td>50</td>\n",
       "      <td>1</td>\n",
       "      <td>south</td>\n",
       "      <td>1.0</td>\n",
       "      <td>5187.0</td>\n",
       "      <td>2021-12-14_south</td>\n",
       "    </tr>\n",
       "    <tr>\n",
       "      <th>22641</th>\n",
       "      <td>yyvh</td>\n",
       "      <td>35.980000</td>\n",
       "      <td>-78.843138</td>\n",
       "      <td>2021-12-14</td>\n",
       "      <td>train</td>\n",
       "      <td>2021</td>\n",
       "      <td>12</td>\n",
       "      <td>50</td>\n",
       "      <td>1</td>\n",
       "      <td>south</td>\n",
       "      <td>1.0</td>\n",
       "      <td>1660.0</td>\n",
       "      <td>2021-12-14_south</td>\n",
       "    </tr>\n",
       "    <tr>\n",
       "      <th>17778</th>\n",
       "      <td>tobi</td>\n",
       "      <td>36.030000</td>\n",
       "      <td>-78.705932</td>\n",
       "      <td>2021-12-14</td>\n",
       "      <td>train</td>\n",
       "      <td>2021</td>\n",
       "      <td>12</td>\n",
       "      <td>50</td>\n",
       "      <td>1</td>\n",
       "      <td>south</td>\n",
       "      <td>1.0</td>\n",
       "      <td>4357.0</td>\n",
       "      <td>2021-12-14_south</td>\n",
       "    </tr>\n",
       "  </tbody>\n",
       "</table>\n",
       "<p>14501 rows × 13 columns</p>\n",
       "</div>"
      ],
      "text/plain": [
       "        uid   latitude  longitude       date  split  year  month  week  \\\n",
       "13644  paev  44.822478 -93.367962 2013-01-04  train  2013      1     1   \n",
       "4387   evep  44.847993 -93.476318 2013-01-04  train  2013      1     1   \n",
       "5566   gdxr  44.877646 -93.557842 2013-01-04  train  2013      1     1   \n",
       "6144   guny  44.878889 -93.490833 2013-01-04  train  2013      1     1   \n",
       "5317   fwbt  44.850500 -93.515700 2013-01-04  train  2013      1     1   \n",
       "...     ...        ...        ...        ...    ...   ...    ...   ...   \n",
       "23159  zoaj  36.060000 -78.760000 2021-12-14  train  2021     12    50   \n",
       "18793  uscb  35.980000 -78.843636 2021-12-14  train  2021     12    50   \n",
       "12047  ngxt  35.980000 -78.844133 2021-12-14  train  2021     12    50   \n",
       "22641  yyvh  35.980000 -78.843138 2021-12-14  train  2021     12    50   \n",
       "17778  tobi  36.030000 -78.705932 2021-12-14  train  2021     12    50   \n",
       "\n",
       "       season   region  severity  density            date_reg  \n",
       "13644       1  midwest       1.0   1884.0  2013-01-04_midwest  \n",
       "4387        1  midwest       1.0    115.0  2013-01-04_midwest  \n",
       "5566        1  midwest       1.0   1416.0  2013-01-04_midwest  \n",
       "6144        1  midwest       1.0    558.0  2013-01-04_midwest  \n",
       "5317        1  midwest       1.0    476.0  2013-01-04_midwest  \n",
       "...       ...      ...       ...      ...                 ...  \n",
       "23159       1    south       2.0  48233.0    2021-12-14_south  \n",
       "18793       1    south       2.0  20021.0    2021-12-14_south  \n",
       "12047       1    south       1.0   5187.0    2021-12-14_south  \n",
       "22641       1    south       1.0   1660.0    2021-12-14_south  \n",
       "17778       1    south       1.0   4357.0    2021-12-14_south  \n",
       "\n",
       "[14501 rows x 13 columns]"
      ]
     },
     "execution_count": 104,
     "metadata": {},
     "output_type": "execute_result"
    }
   ],
   "source": [
    "tr_data3"
   ]
  },
  {
   "cell_type": "code",
   "execution_count": 107,
   "metadata": {},
   "outputs": [
    {
     "data": {
      "text/plain": [
       "west         0.386861\n",
       "northeast    0.291971\n",
       "south        0.167883\n",
       "midwest      0.153285\n",
       "Name: region, dtype: float64"
      ]
     },
     "execution_count": 107,
     "metadata": {},
     "output_type": "execute_result"
    }
   ],
   "source": [
    "val_data3_.region.value_counts(normalize=True)"
   ]
  },
  {
   "cell_type": "code",
   "execution_count": 108,
   "metadata": {},
   "outputs": [
    {
     "data": {
      "text/plain": [
       "west         0.366667\n",
       "midwest      0.240399\n",
       "south        0.232104\n",
       "northeast    0.160829\n",
       "Name: region, dtype: float64"
      ]
     },
     "execution_count": 108,
     "metadata": {},
     "output_type": "execute_result"
    }
   ],
   "source": [
    "test_data.region.value_counts(normalize=True)"
   ]
  },
  {
   "cell_type": "code",
   "execution_count": 109,
   "metadata": {},
   "outputs": [
    {
     "data": {
      "text/plain": [
       "south        0.582649\n",
       "west         0.222352\n",
       "midwest      0.132864\n",
       "northeast    0.062134\n",
       "Name: region, dtype: float64"
      ]
     },
     "execution_count": 109,
     "metadata": {},
     "output_type": "execute_result"
    }
   ],
   "source": [
    "val_data2.region.value_counts(normalize=True)"
   ]
  },
  {
   "cell_type": "code",
   "execution_count": 110,
   "metadata": {},
   "outputs": [
    {
     "data": {
      "text/plain": [
       "1.0    0.439234\n",
       "4.0    0.205940\n",
       "2.0    0.192263\n",
       "3.0    0.158265\n",
       "5.0    0.004299\n",
       "Name: severity, dtype: float64"
      ]
     },
     "execution_count": 110,
     "metadata": {},
     "output_type": "execute_result"
    }
   ],
   "source": [
    "val_data2.severity.value_counts(normalize=True)"
   ]
  },
  {
   "cell_type": "code",
   "execution_count": 111,
   "metadata": {},
   "outputs": [
    {
     "data": {
      "text/plain": [
       "1.0    0.357664\n",
       "4.0    0.270073\n",
       "3.0    0.189781\n",
       "2.0    0.167883\n",
       "5.0    0.014599\n",
       "Name: severity, dtype: float64"
      ]
     },
     "execution_count": 111,
     "metadata": {},
     "output_type": "execute_result"
    }
   ],
   "source": [
    "val_data3_.severity.value_counts(normalize=True)"
   ]
  },
  {
   "cell_type": "code",
   "execution_count": 114,
   "metadata": {},
   "outputs": [
    {
     "data": {
      "text/html": [
       "<div>\n",
       "<style scoped>\n",
       "    .dataframe tbody tr th:only-of-type {\n",
       "        vertical-align: middle;\n",
       "    }\n",
       "\n",
       "    .dataframe tbody tr th {\n",
       "        vertical-align: top;\n",
       "    }\n",
       "\n",
       "    .dataframe thead th {\n",
       "        text-align: right;\n",
       "    }\n",
       "</style>\n",
       "<table border=\"1\" class=\"dataframe\">\n",
       "  <thead>\n",
       "    <tr style=\"text-align: right;\">\n",
       "      <th></th>\n",
       "      <th>uid</th>\n",
       "      <th>latitude</th>\n",
       "      <th>longitude</th>\n",
       "      <th>date</th>\n",
       "      <th>split</th>\n",
       "      <th>year</th>\n",
       "      <th>month</th>\n",
       "      <th>week</th>\n",
       "      <th>season</th>\n",
       "      <th>region</th>\n",
       "      <th>severity</th>\n",
       "      <th>density</th>\n",
       "      <th>date_reg</th>\n",
       "      <th>guess_2_new</th>\n",
       "      <th>guess</th>\n",
       "    </tr>\n",
       "  </thead>\n",
       "  <tbody>\n",
       "    <tr>\n",
       "      <th>13772</th>\n",
       "      <td>pdqu</td>\n",
       "      <td>38.59010</td>\n",
       "      <td>-121.731000</td>\n",
       "      <td>2013-01-22</td>\n",
       "      <td>train</td>\n",
       "      <td>2013</td>\n",
       "      <td>1</td>\n",
       "      <td>4</td>\n",
       "      <td>1</td>\n",
       "      <td>west</td>\n",
       "      <td>4.0</td>\n",
       "      <td>4.180000e+06</td>\n",
       "      <td>2013-01-22_west</td>\n",
       "      <td>4.0</td>\n",
       "      <td>4.0</td>\n",
       "    </tr>\n",
       "    <tr>\n",
       "      <th>6595</th>\n",
       "      <td>hhfq</td>\n",
       "      <td>38.30560</td>\n",
       "      <td>-122.026000</td>\n",
       "      <td>2013-03-20</td>\n",
       "      <td>train</td>\n",
       "      <td>2013</td>\n",
       "      <td>3</td>\n",
       "      <td>12</td>\n",
       "      <td>2</td>\n",
       "      <td>west</td>\n",
       "      <td>4.0</td>\n",
       "      <td>7.220000e+06</td>\n",
       "      <td>2013-03-20_west</td>\n",
       "      <td>4.0</td>\n",
       "      <td>4.0</td>\n",
       "    </tr>\n",
       "    <tr>\n",
       "      <th>2087</th>\n",
       "      <td>cimy</td>\n",
       "      <td>33.19360</td>\n",
       "      <td>-104.356700</td>\n",
       "      <td>2013-03-20</td>\n",
       "      <td>train</td>\n",
       "      <td>2013</td>\n",
       "      <td>3</td>\n",
       "      <td>12</td>\n",
       "      <td>2</td>\n",
       "      <td>west</td>\n",
       "      <td>1.0</td>\n",
       "      <td>1.301653e+03</td>\n",
       "      <td>2013-03-20_west</td>\n",
       "      <td>4.0</td>\n",
       "      <td>4.0</td>\n",
       "    </tr>\n",
       "    <tr>\n",
       "      <th>11867</th>\n",
       "      <td>napd</td>\n",
       "      <td>38.59010</td>\n",
       "      <td>-121.731000</td>\n",
       "      <td>2013-03-20</td>\n",
       "      <td>train</td>\n",
       "      <td>2013</td>\n",
       "      <td>3</td>\n",
       "      <td>12</td>\n",
       "      <td>2</td>\n",
       "      <td>west</td>\n",
       "      <td>4.0</td>\n",
       "      <td>7.457500e+06</td>\n",
       "      <td>2013-03-20_west</td>\n",
       "      <td>4.0</td>\n",
       "      <td>4.0</td>\n",
       "    </tr>\n",
       "    <tr>\n",
       "      <th>23487</th>\n",
       "      <td>zxjy</td>\n",
       "      <td>32.38401</td>\n",
       "      <td>-104.145830</td>\n",
       "      <td>2013-06-06</td>\n",
       "      <td>train</td>\n",
       "      <td>2013</td>\n",
       "      <td>6</td>\n",
       "      <td>23</td>\n",
       "      <td>3</td>\n",
       "      <td>west</td>\n",
       "      <td>2.0</td>\n",
       "      <td>7.108144e+04</td>\n",
       "      <td>2013-06-06_west</td>\n",
       "      <td>1.0</td>\n",
       "      <td>1.0</td>\n",
       "    </tr>\n",
       "    <tr>\n",
       "      <th>...</th>\n",
       "      <td>...</td>\n",
       "      <td>...</td>\n",
       "      <td>...</td>\n",
       "      <td>...</td>\n",
       "      <td>...</td>\n",
       "      <td>...</td>\n",
       "      <td>...</td>\n",
       "      <td>...</td>\n",
       "      <td>...</td>\n",
       "      <td>...</td>\n",
       "      <td>...</td>\n",
       "      <td>...</td>\n",
       "      <td>...</td>\n",
       "      <td>...</td>\n",
       "      <td>...</td>\n",
       "    </tr>\n",
       "    <tr>\n",
       "      <th>13421</th>\n",
       "      <td>otnr</td>\n",
       "      <td>41.56372</td>\n",
       "      <td>-75.707820</td>\n",
       "      <td>2021-07-26</td>\n",
       "      <td>train</td>\n",
       "      <td>2021</td>\n",
       "      <td>7</td>\n",
       "      <td>30</td>\n",
       "      <td>3</td>\n",
       "      <td>northeast</td>\n",
       "      <td>3.0</td>\n",
       "      <td>1.581330e+05</td>\n",
       "      <td>2021-07-26_northeast</td>\n",
       "      <td>3.0</td>\n",
       "      <td>3.0</td>\n",
       "    </tr>\n",
       "    <tr>\n",
       "      <th>15725</th>\n",
       "      <td>rhru</td>\n",
       "      <td>40.35642</td>\n",
       "      <td>-76.409560</td>\n",
       "      <td>2021-07-26</td>\n",
       "      <td>train</td>\n",
       "      <td>2021</td>\n",
       "      <td>7</td>\n",
       "      <td>30</td>\n",
       "      <td>3</td>\n",
       "      <td>northeast</td>\n",
       "      <td>1.0</td>\n",
       "      <td>1.600000e+03</td>\n",
       "      <td>2021-07-26_northeast</td>\n",
       "      <td>3.0</td>\n",
       "      <td>3.0</td>\n",
       "    </tr>\n",
       "    <tr>\n",
       "      <th>17089</th>\n",
       "      <td>sulb</td>\n",
       "      <td>41.50357</td>\n",
       "      <td>-111.022560</td>\n",
       "      <td>2021-07-27</td>\n",
       "      <td>train</td>\n",
       "      <td>2021</td>\n",
       "      <td>7</td>\n",
       "      <td>30</td>\n",
       "      <td>3</td>\n",
       "      <td>west</td>\n",
       "      <td>5.0</td>\n",
       "      <td>1.855960e+07</td>\n",
       "      <td>2021-07-27_west</td>\n",
       "      <td>4.0</td>\n",
       "      <td>4.0</td>\n",
       "    </tr>\n",
       "    <tr>\n",
       "      <th>14474</th>\n",
       "      <td>pxhr</td>\n",
       "      <td>35.68000</td>\n",
       "      <td>-79.109639</td>\n",
       "      <td>2021-08-14</td>\n",
       "      <td>train</td>\n",
       "      <td>2021</td>\n",
       "      <td>8</td>\n",
       "      <td>32</td>\n",
       "      <td>3</td>\n",
       "      <td>south</td>\n",
       "      <td>3.0</td>\n",
       "      <td>1.321570e+05</td>\n",
       "      <td>2021-08-14_south</td>\n",
       "      <td>3.0</td>\n",
       "      <td>3.0</td>\n",
       "    </tr>\n",
       "    <tr>\n",
       "      <th>13449</th>\n",
       "      <td>ouqd</td>\n",
       "      <td>35.97000</td>\n",
       "      <td>-78.630000</td>\n",
       "      <td>2021-12-07</td>\n",
       "      <td>train</td>\n",
       "      <td>2021</td>\n",
       "      <td>12</td>\n",
       "      <td>49</td>\n",
       "      <td>1</td>\n",
       "      <td>south</td>\n",
       "      <td>2.0</td>\n",
       "      <td>2.549500e+04</td>\n",
       "      <td>2021-12-07_south</td>\n",
       "      <td>2.0</td>\n",
       "      <td>2.0</td>\n",
       "    </tr>\n",
       "  </tbody>\n",
       "</table>\n",
       "<p>137 rows × 15 columns</p>\n",
       "</div>"
      ],
      "text/plain": [
       "        uid  latitude   longitude       date  split  year  month  week  \\\n",
       "13772  pdqu  38.59010 -121.731000 2013-01-22  train  2013      1     4   \n",
       "6595   hhfq  38.30560 -122.026000 2013-03-20  train  2013      3    12   \n",
       "2087   cimy  33.19360 -104.356700 2013-03-20  train  2013      3    12   \n",
       "11867  napd  38.59010 -121.731000 2013-03-20  train  2013      3    12   \n",
       "23487  zxjy  32.38401 -104.145830 2013-06-06  train  2013      6    23   \n",
       "...     ...       ...         ...        ...    ...   ...    ...   ...   \n",
       "13421  otnr  41.56372  -75.707820 2021-07-26  train  2021      7    30   \n",
       "15725  rhru  40.35642  -76.409560 2021-07-26  train  2021      7    30   \n",
       "17089  sulb  41.50357 -111.022560 2021-07-27  train  2021      7    30   \n",
       "14474  pxhr  35.68000  -79.109639 2021-08-14  train  2021      8    32   \n",
       "13449  ouqd  35.97000  -78.630000 2021-12-07  train  2021     12    49   \n",
       "\n",
       "       season     region  severity       density              date_reg  \\\n",
       "13772       1       west       4.0  4.180000e+06       2013-01-22_west   \n",
       "6595        2       west       4.0  7.220000e+06       2013-03-20_west   \n",
       "2087        2       west       1.0  1.301653e+03       2013-03-20_west   \n",
       "11867       2       west       4.0  7.457500e+06       2013-03-20_west   \n",
       "23487       3       west       2.0  7.108144e+04       2013-06-06_west   \n",
       "...       ...        ...       ...           ...                   ...   \n",
       "13421       3  northeast       3.0  1.581330e+05  2021-07-26_northeast   \n",
       "15725       3  northeast       1.0  1.600000e+03  2021-07-26_northeast   \n",
       "17089       3       west       5.0  1.855960e+07       2021-07-27_west   \n",
       "14474       3      south       3.0  1.321570e+05      2021-08-14_south   \n",
       "13449       1      south       2.0  2.549500e+04      2021-12-07_south   \n",
       "\n",
       "       guess_2_new  guess  \n",
       "13772          4.0    4.0  \n",
       "6595           4.0    4.0  \n",
       "2087           4.0    4.0  \n",
       "11867          4.0    4.0  \n",
       "23487          1.0    1.0  \n",
       "...            ...    ...  \n",
       "13421          3.0    3.0  \n",
       "15725          3.0    3.0  \n",
       "17089          4.0    4.0  \n",
       "14474          3.0    3.0  \n",
       "13449          2.0    2.0  \n",
       "\n",
       "[137 rows x 15 columns]"
      ]
     },
     "execution_count": 114,
     "metadata": {},
     "output_type": "execute_result"
    }
   ],
   "source": [
    "val_data3_"
   ]
  },
  {
   "cell_type": "code",
   "execution_count": 121,
   "metadata": {},
   "outputs": [
    {
     "data": {
      "text/plain": [
       "region\n",
       "midwest      2.0\n",
       "northeast    2.0\n",
       "south        2.0\n",
       "west         4.0\n",
       "Name: severity, dtype: float64"
      ]
     },
     "execution_count": 121,
     "metadata": {},
     "output_type": "execute_result"
    }
   ],
   "source": [
    "avg_sev_reg = tr_data3.groupby('region').severity.mean().apply(np.round)\n",
    "avg_sev_reg"
   ]
  },
  {
   "cell_type": "code",
   "execution_count": 129,
   "metadata": {},
   "outputs": [
    {
     "data": {
      "text/html": [
       "<div>\n",
       "<style scoped>\n",
       "    .dataframe tbody tr th:only-of-type {\n",
       "        vertical-align: middle;\n",
       "    }\n",
       "\n",
       "    .dataframe tbody tr th {\n",
       "        vertical-align: top;\n",
       "    }\n",
       "\n",
       "    .dataframe thead th {\n",
       "        text-align: right;\n",
       "    }\n",
       "</style>\n",
       "<table border=\"1\" class=\"dataframe\">\n",
       "  <thead>\n",
       "    <tr style=\"text-align: right;\">\n",
       "      <th></th>\n",
       "      <th>uid</th>\n",
       "      <th>latitude</th>\n",
       "      <th>longitude</th>\n",
       "      <th>date</th>\n",
       "      <th>split</th>\n",
       "      <th>year</th>\n",
       "      <th>month</th>\n",
       "      <th>week</th>\n",
       "      <th>season</th>\n",
       "      <th>region</th>\n",
       "      <th>severity</th>\n",
       "      <th>density</th>\n",
       "      <th>date_reg</th>\n",
       "    </tr>\n",
       "  </thead>\n",
       "  <tbody>\n",
       "    <tr>\n",
       "      <th>13644</th>\n",
       "      <td>paev</td>\n",
       "      <td>44.822478</td>\n",
       "      <td>-93.367962</td>\n",
       "      <td>2013-01-04</td>\n",
       "      <td>train</td>\n",
       "      <td>2013</td>\n",
       "      <td>1</td>\n",
       "      <td>1</td>\n",
       "      <td>1</td>\n",
       "      <td>midwest</td>\n",
       "      <td>1.0</td>\n",
       "      <td>1884.0</td>\n",
       "      <td>2013-01-04_midwest</td>\n",
       "    </tr>\n",
       "    <tr>\n",
       "      <th>4387</th>\n",
       "      <td>evep</td>\n",
       "      <td>44.847993</td>\n",
       "      <td>-93.476318</td>\n",
       "      <td>2013-01-04</td>\n",
       "      <td>train</td>\n",
       "      <td>2013</td>\n",
       "      <td>1</td>\n",
       "      <td>1</td>\n",
       "      <td>1</td>\n",
       "      <td>midwest</td>\n",
       "      <td>1.0</td>\n",
       "      <td>115.0</td>\n",
       "      <td>2013-01-04_midwest</td>\n",
       "    </tr>\n",
       "    <tr>\n",
       "      <th>5566</th>\n",
       "      <td>gdxr</td>\n",
       "      <td>44.877646</td>\n",
       "      <td>-93.557842</td>\n",
       "      <td>2013-01-04</td>\n",
       "      <td>train</td>\n",
       "      <td>2013</td>\n",
       "      <td>1</td>\n",
       "      <td>1</td>\n",
       "      <td>1</td>\n",
       "      <td>midwest</td>\n",
       "      <td>1.0</td>\n",
       "      <td>1416.0</td>\n",
       "      <td>2013-01-04_midwest</td>\n",
       "    </tr>\n",
       "    <tr>\n",
       "      <th>6144</th>\n",
       "      <td>guny</td>\n",
       "      <td>44.878889</td>\n",
       "      <td>-93.490833</td>\n",
       "      <td>2013-01-04</td>\n",
       "      <td>train</td>\n",
       "      <td>2013</td>\n",
       "      <td>1</td>\n",
       "      <td>1</td>\n",
       "      <td>1</td>\n",
       "      <td>midwest</td>\n",
       "      <td>1.0</td>\n",
       "      <td>558.0</td>\n",
       "      <td>2013-01-04_midwest</td>\n",
       "    </tr>\n",
       "    <tr>\n",
       "      <th>5317</th>\n",
       "      <td>fwbt</td>\n",
       "      <td>44.850500</td>\n",
       "      <td>-93.515700</td>\n",
       "      <td>2013-01-04</td>\n",
       "      <td>train</td>\n",
       "      <td>2013</td>\n",
       "      <td>1</td>\n",
       "      <td>1</td>\n",
       "      <td>1</td>\n",
       "      <td>midwest</td>\n",
       "      <td>1.0</td>\n",
       "      <td>476.0</td>\n",
       "      <td>2013-01-04_midwest</td>\n",
       "    </tr>\n",
       "    <tr>\n",
       "      <th>...</th>\n",
       "      <td>...</td>\n",
       "      <td>...</td>\n",
       "      <td>...</td>\n",
       "      <td>...</td>\n",
       "      <td>...</td>\n",
       "      <td>...</td>\n",
       "      <td>...</td>\n",
       "      <td>...</td>\n",
       "      <td>...</td>\n",
       "      <td>...</td>\n",
       "      <td>...</td>\n",
       "      <td>...</td>\n",
       "      <td>...</td>\n",
       "    </tr>\n",
       "    <tr>\n",
       "      <th>23159</th>\n",
       "      <td>zoaj</td>\n",
       "      <td>36.060000</td>\n",
       "      <td>-78.760000</td>\n",
       "      <td>2021-12-14</td>\n",
       "      <td>train</td>\n",
       "      <td>2021</td>\n",
       "      <td>12</td>\n",
       "      <td>50</td>\n",
       "      <td>1</td>\n",
       "      <td>south</td>\n",
       "      <td>2.0</td>\n",
       "      <td>48233.0</td>\n",
       "      <td>2021-12-14_south</td>\n",
       "    </tr>\n",
       "    <tr>\n",
       "      <th>18793</th>\n",
       "      <td>uscb</td>\n",
       "      <td>35.980000</td>\n",
       "      <td>-78.843636</td>\n",
       "      <td>2021-12-14</td>\n",
       "      <td>train</td>\n",
       "      <td>2021</td>\n",
       "      <td>12</td>\n",
       "      <td>50</td>\n",
       "      <td>1</td>\n",
       "      <td>south</td>\n",
       "      <td>2.0</td>\n",
       "      <td>20021.0</td>\n",
       "      <td>2021-12-14_south</td>\n",
       "    </tr>\n",
       "    <tr>\n",
       "      <th>12047</th>\n",
       "      <td>ngxt</td>\n",
       "      <td>35.980000</td>\n",
       "      <td>-78.844133</td>\n",
       "      <td>2021-12-14</td>\n",
       "      <td>train</td>\n",
       "      <td>2021</td>\n",
       "      <td>12</td>\n",
       "      <td>50</td>\n",
       "      <td>1</td>\n",
       "      <td>south</td>\n",
       "      <td>1.0</td>\n",
       "      <td>5187.0</td>\n",
       "      <td>2021-12-14_south</td>\n",
       "    </tr>\n",
       "    <tr>\n",
       "      <th>22641</th>\n",
       "      <td>yyvh</td>\n",
       "      <td>35.980000</td>\n",
       "      <td>-78.843138</td>\n",
       "      <td>2021-12-14</td>\n",
       "      <td>train</td>\n",
       "      <td>2021</td>\n",
       "      <td>12</td>\n",
       "      <td>50</td>\n",
       "      <td>1</td>\n",
       "      <td>south</td>\n",
       "      <td>1.0</td>\n",
       "      <td>1660.0</td>\n",
       "      <td>2021-12-14_south</td>\n",
       "    </tr>\n",
       "    <tr>\n",
       "      <th>17778</th>\n",
       "      <td>tobi</td>\n",
       "      <td>36.030000</td>\n",
       "      <td>-78.705932</td>\n",
       "      <td>2021-12-14</td>\n",
       "      <td>train</td>\n",
       "      <td>2021</td>\n",
       "      <td>12</td>\n",
       "      <td>50</td>\n",
       "      <td>1</td>\n",
       "      <td>south</td>\n",
       "      <td>1.0</td>\n",
       "      <td>4357.0</td>\n",
       "      <td>2021-12-14_south</td>\n",
       "    </tr>\n",
       "  </tbody>\n",
       "</table>\n",
       "<p>14501 rows × 13 columns</p>\n",
       "</div>"
      ],
      "text/plain": [
       "        uid   latitude  longitude       date  split  year  month  week  \\\n",
       "13644  paev  44.822478 -93.367962 2013-01-04  train  2013      1     1   \n",
       "4387   evep  44.847993 -93.476318 2013-01-04  train  2013      1     1   \n",
       "5566   gdxr  44.877646 -93.557842 2013-01-04  train  2013      1     1   \n",
       "6144   guny  44.878889 -93.490833 2013-01-04  train  2013      1     1   \n",
       "5317   fwbt  44.850500 -93.515700 2013-01-04  train  2013      1     1   \n",
       "...     ...        ...        ...        ...    ...   ...    ...   ...   \n",
       "23159  zoaj  36.060000 -78.760000 2021-12-14  train  2021     12    50   \n",
       "18793  uscb  35.980000 -78.843636 2021-12-14  train  2021     12    50   \n",
       "12047  ngxt  35.980000 -78.844133 2021-12-14  train  2021     12    50   \n",
       "22641  yyvh  35.980000 -78.843138 2021-12-14  train  2021     12    50   \n",
       "17778  tobi  36.030000 -78.705932 2021-12-14  train  2021     12    50   \n",
       "\n",
       "       season   region  severity  density            date_reg  \n",
       "13644       1  midwest       1.0   1884.0  2013-01-04_midwest  \n",
       "4387        1  midwest       1.0    115.0  2013-01-04_midwest  \n",
       "5566        1  midwest       1.0   1416.0  2013-01-04_midwest  \n",
       "6144        1  midwest       1.0    558.0  2013-01-04_midwest  \n",
       "5317        1  midwest       1.0    476.0  2013-01-04_midwest  \n",
       "...       ...      ...       ...      ...                 ...  \n",
       "23159       1    south       2.0  48233.0    2021-12-14_south  \n",
       "18793       1    south       2.0  20021.0    2021-12-14_south  \n",
       "12047       1    south       1.0   5187.0    2021-12-14_south  \n",
       "22641       1    south       1.0   1660.0    2021-12-14_south  \n",
       "17778       1    south       1.0   4357.0    2021-12-14_south  \n",
       "\n",
       "[14501 rows x 13 columns]"
      ]
     },
     "execution_count": 129,
     "metadata": {},
     "output_type": "execute_result"
    }
   ],
   "source": [
    "tr_data3"
   ]
  },
  {
   "cell_type": "code",
   "execution_count": 127,
   "metadata": {},
   "outputs": [],
   "source": [
    "def guess_avgsevreg(row, **kwargs):\n",
    "    return avg_sev_reg[row.region]"
   ]
  },
  {
   "cell_type": "code",
   "execution_count": 128,
   "metadata": {},
   "outputs": [
    {
     "name": "stderr",
     "output_type": "stream",
     "text": [
      "100%|██████████| 137/137 [00:00<00:00, 5296.91it/s]"
     ]
    },
    {
     "name": "stdout",
     "output_type": "stream",
     "text": [
      "Exact matches:  0.31386861313868614\n",
      "Missed by 1:  0.5036496350364964\n",
      "Missed by 2:  0.12408759124087591\n",
      "Missed by 3:  0.058394160583941604\n",
      "Missed by 4:  0.0\n"
     ]
    },
    {
     "name": "stderr",
     "output_type": "stream",
     "text": [
      "\n"
     ]
    },
    {
     "data": {
      "text/plain": [
       "1.2351305377390174"
      ]
     },
     "execution_count": 128,
     "metadata": {},
     "output_type": "execute_result"
    }
   ],
   "source": [
    "eval(guess_func=guess_avgsevreg)"
   ]
  },
  {
   "cell_type": "code",
   "execution_count": 132,
   "metadata": {},
   "outputs": [],
   "source": [
    "#  Expanding severity man grop by region and season\n",
    "\n",
    "data3 = pd.concat([tr_data3, val_data3_], axis=0)\n",
    "data3.sort_values(by='date', inplace=True)"
   ]
  },
  {
   "cell_type": "code",
   "execution_count": 135,
   "metadata": {},
   "outputs": [
    {
     "data": {
      "text/html": [
       "<div>\n",
       "<style scoped>\n",
       "    .dataframe tbody tr th:only-of-type {\n",
       "        vertical-align: middle;\n",
       "    }\n",
       "\n",
       "    .dataframe tbody tr th {\n",
       "        vertical-align: top;\n",
       "    }\n",
       "\n",
       "    .dataframe thead th {\n",
       "        text-align: right;\n",
       "    }\n",
       "</style>\n",
       "<table border=\"1\" class=\"dataframe\">\n",
       "  <thead>\n",
       "    <tr style=\"text-align: right;\">\n",
       "      <th></th>\n",
       "      <th>uid</th>\n",
       "      <th>latitude</th>\n",
       "      <th>longitude</th>\n",
       "      <th>date</th>\n",
       "      <th>split</th>\n",
       "      <th>year</th>\n",
       "      <th>month</th>\n",
       "      <th>week</th>\n",
       "      <th>season</th>\n",
       "      <th>region</th>\n",
       "      <th>severity</th>\n",
       "      <th>density</th>\n",
       "      <th>date_reg</th>\n",
       "      <th>guess_2_new</th>\n",
       "      <th>guess</th>\n",
       "    </tr>\n",
       "  </thead>\n",
       "  <tbody>\n",
       "    <tr>\n",
       "      <th>13772</th>\n",
       "      <td>pdqu</td>\n",
       "      <td>38.59010</td>\n",
       "      <td>-121.731000</td>\n",
       "      <td>2013-01-22</td>\n",
       "      <td>train</td>\n",
       "      <td>2013</td>\n",
       "      <td>1</td>\n",
       "      <td>4</td>\n",
       "      <td>1</td>\n",
       "      <td>west</td>\n",
       "      <td>4.0</td>\n",
       "      <td>4.180000e+06</td>\n",
       "      <td>2013-01-22_west</td>\n",
       "      <td>4.0</td>\n",
       "      <td>4.0</td>\n",
       "    </tr>\n",
       "    <tr>\n",
       "      <th>6595</th>\n",
       "      <td>hhfq</td>\n",
       "      <td>38.30560</td>\n",
       "      <td>-122.026000</td>\n",
       "      <td>2013-03-20</td>\n",
       "      <td>train</td>\n",
       "      <td>2013</td>\n",
       "      <td>3</td>\n",
       "      <td>12</td>\n",
       "      <td>2</td>\n",
       "      <td>west</td>\n",
       "      <td>4.0</td>\n",
       "      <td>7.220000e+06</td>\n",
       "      <td>2013-03-20_west</td>\n",
       "      <td>4.0</td>\n",
       "      <td>4.0</td>\n",
       "    </tr>\n",
       "    <tr>\n",
       "      <th>2087</th>\n",
       "      <td>cimy</td>\n",
       "      <td>33.19360</td>\n",
       "      <td>-104.356700</td>\n",
       "      <td>2013-03-20</td>\n",
       "      <td>train</td>\n",
       "      <td>2013</td>\n",
       "      <td>3</td>\n",
       "      <td>12</td>\n",
       "      <td>2</td>\n",
       "      <td>west</td>\n",
       "      <td>1.0</td>\n",
       "      <td>1.301653e+03</td>\n",
       "      <td>2013-03-20_west</td>\n",
       "      <td>4.0</td>\n",
       "      <td>4.0</td>\n",
       "    </tr>\n",
       "    <tr>\n",
       "      <th>11867</th>\n",
       "      <td>napd</td>\n",
       "      <td>38.59010</td>\n",
       "      <td>-121.731000</td>\n",
       "      <td>2013-03-20</td>\n",
       "      <td>train</td>\n",
       "      <td>2013</td>\n",
       "      <td>3</td>\n",
       "      <td>12</td>\n",
       "      <td>2</td>\n",
       "      <td>west</td>\n",
       "      <td>4.0</td>\n",
       "      <td>7.457500e+06</td>\n",
       "      <td>2013-03-20_west</td>\n",
       "      <td>4.0</td>\n",
       "      <td>4.0</td>\n",
       "    </tr>\n",
       "    <tr>\n",
       "      <th>23487</th>\n",
       "      <td>zxjy</td>\n",
       "      <td>32.38401</td>\n",
       "      <td>-104.145830</td>\n",
       "      <td>2013-06-06</td>\n",
       "      <td>train</td>\n",
       "      <td>2013</td>\n",
       "      <td>6</td>\n",
       "      <td>23</td>\n",
       "      <td>3</td>\n",
       "      <td>west</td>\n",
       "      <td>2.0</td>\n",
       "      <td>7.108144e+04</td>\n",
       "      <td>2013-06-06_west</td>\n",
       "      <td>1.0</td>\n",
       "      <td>4.0</td>\n",
       "    </tr>\n",
       "    <tr>\n",
       "      <th>...</th>\n",
       "      <td>...</td>\n",
       "      <td>...</td>\n",
       "      <td>...</td>\n",
       "      <td>...</td>\n",
       "      <td>...</td>\n",
       "      <td>...</td>\n",
       "      <td>...</td>\n",
       "      <td>...</td>\n",
       "      <td>...</td>\n",
       "      <td>...</td>\n",
       "      <td>...</td>\n",
       "      <td>...</td>\n",
       "      <td>...</td>\n",
       "      <td>...</td>\n",
       "      <td>...</td>\n",
       "    </tr>\n",
       "    <tr>\n",
       "      <th>13421</th>\n",
       "      <td>otnr</td>\n",
       "      <td>41.56372</td>\n",
       "      <td>-75.707820</td>\n",
       "      <td>2021-07-26</td>\n",
       "      <td>train</td>\n",
       "      <td>2021</td>\n",
       "      <td>7</td>\n",
       "      <td>30</td>\n",
       "      <td>3</td>\n",
       "      <td>northeast</td>\n",
       "      <td>3.0</td>\n",
       "      <td>1.581330e+05</td>\n",
       "      <td>2021-07-26_northeast</td>\n",
       "      <td>3.0</td>\n",
       "      <td>2.0</td>\n",
       "    </tr>\n",
       "    <tr>\n",
       "      <th>15725</th>\n",
       "      <td>rhru</td>\n",
       "      <td>40.35642</td>\n",
       "      <td>-76.409560</td>\n",
       "      <td>2021-07-26</td>\n",
       "      <td>train</td>\n",
       "      <td>2021</td>\n",
       "      <td>7</td>\n",
       "      <td>30</td>\n",
       "      <td>3</td>\n",
       "      <td>northeast</td>\n",
       "      <td>1.0</td>\n",
       "      <td>1.600000e+03</td>\n",
       "      <td>2021-07-26_northeast</td>\n",
       "      <td>3.0</td>\n",
       "      <td>2.0</td>\n",
       "    </tr>\n",
       "    <tr>\n",
       "      <th>17089</th>\n",
       "      <td>sulb</td>\n",
       "      <td>41.50357</td>\n",
       "      <td>-111.022560</td>\n",
       "      <td>2021-07-27</td>\n",
       "      <td>train</td>\n",
       "      <td>2021</td>\n",
       "      <td>7</td>\n",
       "      <td>30</td>\n",
       "      <td>3</td>\n",
       "      <td>west</td>\n",
       "      <td>5.0</td>\n",
       "      <td>1.855960e+07</td>\n",
       "      <td>2021-07-27_west</td>\n",
       "      <td>4.0</td>\n",
       "      <td>4.0</td>\n",
       "    </tr>\n",
       "    <tr>\n",
       "      <th>14474</th>\n",
       "      <td>pxhr</td>\n",
       "      <td>35.68000</td>\n",
       "      <td>-79.109639</td>\n",
       "      <td>2021-08-14</td>\n",
       "      <td>train</td>\n",
       "      <td>2021</td>\n",
       "      <td>8</td>\n",
       "      <td>32</td>\n",
       "      <td>3</td>\n",
       "      <td>south</td>\n",
       "      <td>3.0</td>\n",
       "      <td>1.321570e+05</td>\n",
       "      <td>2021-08-14_south</td>\n",
       "      <td>3.0</td>\n",
       "      <td>2.0</td>\n",
       "    </tr>\n",
       "    <tr>\n",
       "      <th>13449</th>\n",
       "      <td>ouqd</td>\n",
       "      <td>35.97000</td>\n",
       "      <td>-78.630000</td>\n",
       "      <td>2021-12-07</td>\n",
       "      <td>train</td>\n",
       "      <td>2021</td>\n",
       "      <td>12</td>\n",
       "      <td>49</td>\n",
       "      <td>1</td>\n",
       "      <td>south</td>\n",
       "      <td>2.0</td>\n",
       "      <td>2.549500e+04</td>\n",
       "      <td>2021-12-07_south</td>\n",
       "      <td>2.0</td>\n",
       "      <td>2.0</td>\n",
       "    </tr>\n",
       "  </tbody>\n",
       "</table>\n",
       "<p>137 rows × 15 columns</p>\n",
       "</div>"
      ],
      "text/plain": [
       "        uid  latitude   longitude       date  split  year  month  week  \\\n",
       "13772  pdqu  38.59010 -121.731000 2013-01-22  train  2013      1     4   \n",
       "6595   hhfq  38.30560 -122.026000 2013-03-20  train  2013      3    12   \n",
       "2087   cimy  33.19360 -104.356700 2013-03-20  train  2013      3    12   \n",
       "11867  napd  38.59010 -121.731000 2013-03-20  train  2013      3    12   \n",
       "23487  zxjy  32.38401 -104.145830 2013-06-06  train  2013      6    23   \n",
       "...     ...       ...         ...        ...    ...   ...    ...   ...   \n",
       "13421  otnr  41.56372  -75.707820 2021-07-26  train  2021      7    30   \n",
       "15725  rhru  40.35642  -76.409560 2021-07-26  train  2021      7    30   \n",
       "17089  sulb  41.50357 -111.022560 2021-07-27  train  2021      7    30   \n",
       "14474  pxhr  35.68000  -79.109639 2021-08-14  train  2021      8    32   \n",
       "13449  ouqd  35.97000  -78.630000 2021-12-07  train  2021     12    49   \n",
       "\n",
       "       season     region  severity       density              date_reg  \\\n",
       "13772       1       west       4.0  4.180000e+06       2013-01-22_west   \n",
       "6595        2       west       4.0  7.220000e+06       2013-03-20_west   \n",
       "2087        2       west       1.0  1.301653e+03       2013-03-20_west   \n",
       "11867       2       west       4.0  7.457500e+06       2013-03-20_west   \n",
       "23487       3       west       2.0  7.108144e+04       2013-06-06_west   \n",
       "...       ...        ...       ...           ...                   ...   \n",
       "13421       3  northeast       3.0  1.581330e+05  2021-07-26_northeast   \n",
       "15725       3  northeast       1.0  1.600000e+03  2021-07-26_northeast   \n",
       "17089       3       west       5.0  1.855960e+07       2021-07-27_west   \n",
       "14474       3      south       3.0  1.321570e+05      2021-08-14_south   \n",
       "13449       1      south       2.0  2.549500e+04      2021-12-07_south   \n",
       "\n",
       "       guess_2_new  guess  \n",
       "13772          4.0    4.0  \n",
       "6595           4.0    4.0  \n",
       "2087           4.0    4.0  \n",
       "11867          4.0    4.0  \n",
       "23487          1.0    4.0  \n",
       "...            ...    ...  \n",
       "13421          3.0    2.0  \n",
       "15725          3.0    2.0  \n",
       "17089          4.0    4.0  \n",
       "14474          3.0    2.0  \n",
       "13449          2.0    2.0  \n",
       "\n",
       "[137 rows x 15 columns]"
      ]
     },
     "execution_count": 135,
     "metadata": {},
     "output_type": "execute_result"
    }
   ],
   "source": [
    "val_data3_"
   ]
  },
  {
   "cell_type": "code",
   "execution_count": 144,
   "metadata": {},
   "outputs": [
    {
     "data": {
      "text/html": [
       "<div>\n",
       "<style scoped>\n",
       "    .dataframe tbody tr th:only-of-type {\n",
       "        vertical-align: middle;\n",
       "    }\n",
       "\n",
       "    .dataframe tbody tr th {\n",
       "        vertical-align: top;\n",
       "    }\n",
       "\n",
       "    .dataframe thead th {\n",
       "        text-align: right;\n",
       "    }\n",
       "</style>\n",
       "<table border=\"1\" class=\"dataframe\">\n",
       "  <thead>\n",
       "    <tr style=\"text-align: right;\">\n",
       "      <th></th>\n",
       "      <th>uid</th>\n",
       "      <th>latitude</th>\n",
       "      <th>longitude</th>\n",
       "      <th>date</th>\n",
       "      <th>split</th>\n",
       "      <th>year</th>\n",
       "      <th>month</th>\n",
       "      <th>week</th>\n",
       "      <th>season</th>\n",
       "      <th>region</th>\n",
       "      <th>severity</th>\n",
       "      <th>density</th>\n",
       "      <th>date_reg</th>\n",
       "      <th>guess_2_new</th>\n",
       "      <th>guess</th>\n",
       "    </tr>\n",
       "  </thead>\n",
       "  <tbody>\n",
       "    <tr>\n",
       "      <th>11867</th>\n",
       "      <td>napd</td>\n",
       "      <td>38.5901</td>\n",
       "      <td>-121.731000</td>\n",
       "      <td>2013-03-20</td>\n",
       "      <td>train</td>\n",
       "      <td>2013</td>\n",
       "      <td>3</td>\n",
       "      <td>12</td>\n",
       "      <td>2</td>\n",
       "      <td>west</td>\n",
       "      <td>4.0</td>\n",
       "      <td>7.457500e+06</td>\n",
       "      <td>2013-03-20_west</td>\n",
       "      <td>4.0</td>\n",
       "      <td>4.0</td>\n",
       "    </tr>\n",
       "    <tr>\n",
       "      <th>6595</th>\n",
       "      <td>hhfq</td>\n",
       "      <td>38.3056</td>\n",
       "      <td>-122.026000</td>\n",
       "      <td>2013-03-20</td>\n",
       "      <td>train</td>\n",
       "      <td>2013</td>\n",
       "      <td>3</td>\n",
       "      <td>12</td>\n",
       "      <td>2</td>\n",
       "      <td>west</td>\n",
       "      <td>4.0</td>\n",
       "      <td>7.220000e+06</td>\n",
       "      <td>2013-03-20_west</td>\n",
       "      <td>4.0</td>\n",
       "      <td>4.0</td>\n",
       "    </tr>\n",
       "    <tr>\n",
       "      <th>2012</th>\n",
       "      <td>cgdm</td>\n",
       "      <td>38.1205</td>\n",
       "      <td>-122.200000</td>\n",
       "      <td>2013-03-20</td>\n",
       "      <td>train</td>\n",
       "      <td>2013</td>\n",
       "      <td>3</td>\n",
       "      <td>12</td>\n",
       "      <td>2</td>\n",
       "      <td>west</td>\n",
       "      <td>4.0</td>\n",
       "      <td>5.795000e+06</td>\n",
       "      <td>2013-03-20_west</td>\n",
       "      <td>NaN</td>\n",
       "      <td>NaN</td>\n",
       "    </tr>\n",
       "    <tr>\n",
       "      <th>2087</th>\n",
       "      <td>cimy</td>\n",
       "      <td>33.1936</td>\n",
       "      <td>-104.356700</td>\n",
       "      <td>2013-03-20</td>\n",
       "      <td>train</td>\n",
       "      <td>2013</td>\n",
       "      <td>3</td>\n",
       "      <td>12</td>\n",
       "      <td>2</td>\n",
       "      <td>west</td>\n",
       "      <td>1.0</td>\n",
       "      <td>1.301653e+03</td>\n",
       "      <td>2013-03-20_west</td>\n",
       "      <td>4.0</td>\n",
       "      <td>4.0</td>\n",
       "    </tr>\n",
       "    <tr>\n",
       "      <th>1208</th>\n",
       "      <td>bjij</td>\n",
       "      <td>35.9760</td>\n",
       "      <td>-78.710406</td>\n",
       "      <td>2013-03-20</td>\n",
       "      <td>train</td>\n",
       "      <td>2013</td>\n",
       "      <td>3</td>\n",
       "      <td>12</td>\n",
       "      <td>2</td>\n",
       "      <td>south</td>\n",
       "      <td>1.0</td>\n",
       "      <td>2.905000e+03</td>\n",
       "      <td>2013-03-20_south</td>\n",
       "      <td>NaN</td>\n",
       "      <td>NaN</td>\n",
       "    </tr>\n",
       "    <tr>\n",
       "      <th>19544</th>\n",
       "      <td>vnkl</td>\n",
       "      <td>36.0280</td>\n",
       "      <td>-78.716000</td>\n",
       "      <td>2013-03-20</td>\n",
       "      <td>train</td>\n",
       "      <td>2013</td>\n",
       "      <td>3</td>\n",
       "      <td>12</td>\n",
       "      <td>2</td>\n",
       "      <td>south</td>\n",
       "      <td>2.0</td>\n",
       "      <td>5.962300e+04</td>\n",
       "      <td>2013-03-20_south</td>\n",
       "      <td>NaN</td>\n",
       "      <td>NaN</td>\n",
       "    </tr>\n",
       "    <tr>\n",
       "      <th>396</th>\n",
       "      <td>alxv</td>\n",
       "      <td>35.9760</td>\n",
       "      <td>-78.709661</td>\n",
       "      <td>2013-03-20</td>\n",
       "      <td>train</td>\n",
       "      <td>2013</td>\n",
       "      <td>3</td>\n",
       "      <td>12</td>\n",
       "      <td>2</td>\n",
       "      <td>south</td>\n",
       "      <td>1.0</td>\n",
       "      <td>1.742700e+04</td>\n",
       "      <td>2013-03-20_south</td>\n",
       "      <td>NaN</td>\n",
       "      <td>NaN</td>\n",
       "    </tr>\n",
       "    <tr>\n",
       "      <th>14448</th>\n",
       "      <td>pwpz</td>\n",
       "      <td>35.9760</td>\n",
       "      <td>-78.710158</td>\n",
       "      <td>2013-03-20</td>\n",
       "      <td>train</td>\n",
       "      <td>2013</td>\n",
       "      <td>3</td>\n",
       "      <td>12</td>\n",
       "      <td>2</td>\n",
       "      <td>south</td>\n",
       "      <td>1.0</td>\n",
       "      <td>1.022400e+04</td>\n",
       "      <td>2013-03-20_south</td>\n",
       "      <td>NaN</td>\n",
       "      <td>NaN</td>\n",
       "    </tr>\n",
       "    <tr>\n",
       "      <th>11641</th>\n",
       "      <td>mucf</td>\n",
       "      <td>35.9760</td>\n",
       "      <td>-78.709412</td>\n",
       "      <td>2013-03-20</td>\n",
       "      <td>train</td>\n",
       "      <td>2013</td>\n",
       "      <td>3</td>\n",
       "      <td>12</td>\n",
       "      <td>2</td>\n",
       "      <td>south</td>\n",
       "      <td>2.0</td>\n",
       "      <td>2.120300e+04</td>\n",
       "      <td>2013-03-20_south</td>\n",
       "      <td>NaN</td>\n",
       "      <td>NaN</td>\n",
       "    </tr>\n",
       "  </tbody>\n",
       "</table>\n",
       "</div>"
      ],
      "text/plain": [
       "        uid  latitude   longitude       date  split  year  month  week  \\\n",
       "11867  napd   38.5901 -121.731000 2013-03-20  train  2013      3    12   \n",
       "6595   hhfq   38.3056 -122.026000 2013-03-20  train  2013      3    12   \n",
       "2012   cgdm   38.1205 -122.200000 2013-03-20  train  2013      3    12   \n",
       "2087   cimy   33.1936 -104.356700 2013-03-20  train  2013      3    12   \n",
       "1208   bjij   35.9760  -78.710406 2013-03-20  train  2013      3    12   \n",
       "19544  vnkl   36.0280  -78.716000 2013-03-20  train  2013      3    12   \n",
       "396    alxv   35.9760  -78.709661 2013-03-20  train  2013      3    12   \n",
       "14448  pwpz   35.9760  -78.710158 2013-03-20  train  2013      3    12   \n",
       "11641  mucf   35.9760  -78.709412 2013-03-20  train  2013      3    12   \n",
       "\n",
       "       season region  severity       density          date_reg  guess_2_new  \\\n",
       "11867       2   west       4.0  7.457500e+06   2013-03-20_west          4.0   \n",
       "6595        2   west       4.0  7.220000e+06   2013-03-20_west          4.0   \n",
       "2012        2   west       4.0  5.795000e+06   2013-03-20_west          NaN   \n",
       "2087        2   west       1.0  1.301653e+03   2013-03-20_west          4.0   \n",
       "1208        2  south       1.0  2.905000e+03  2013-03-20_south          NaN   \n",
       "19544       2  south       2.0  5.962300e+04  2013-03-20_south          NaN   \n",
       "396         2  south       1.0  1.742700e+04  2013-03-20_south          NaN   \n",
       "14448       2  south       1.0  1.022400e+04  2013-03-20_south          NaN   \n",
       "11641       2  south       2.0  2.120300e+04  2013-03-20_south          NaN   \n",
       "\n",
       "       guess  \n",
       "11867    4.0  \n",
       "6595     4.0  \n",
       "2012     NaN  \n",
       "2087     4.0  \n",
       "1208     NaN  \n",
       "19544    NaN  \n",
       "396      NaN  \n",
       "14448    NaN  \n",
       "11641    NaN  "
      ]
     },
     "execution_count": 144,
     "metadata": {},
     "output_type": "execute_result"
    }
   ],
   "source": [
    "data3[data3.date == '2013-03-20']"
   ]
  },
  {
   "cell_type": "code",
   "execution_count": 36,
   "metadata": {},
   "outputs": [
    {
     "data": {
      "text/plain": [
       "uid              0\n",
       "latitude         0\n",
       "longitude        0\n",
       "date             0\n",
       "split            0\n",
       "year             0\n",
       "month            0\n",
       "week             0\n",
       "season           0\n",
       "region           0\n",
       "severity         0\n",
       "density          0\n",
       "date_reg         0\n",
       "guess        14501\n",
       "dtype: int64"
      ]
     },
     "execution_count": 36,
     "metadata": {},
     "output_type": "execute_result"
    }
   ],
   "source": [
    "val_data3_.split = 'val'\n",
    "tr_data3.split = 'train'\n",
    "\n",
    "train_data3 = pd.concat([tr_data3, val_data3_], axis=0)\n",
    "train_data3.sort_values(by='date', inplace=True)\n",
    "\n",
    "train_data3.isna().sum()"
   ]
  },
  {
   "cell_type": "code",
   "execution_count": 39,
   "metadata": {},
   "outputs": [
    {
     "name": "stdout",
     "output_type": "stream",
     "text": [
      "0\n",
      "Exact matches:  0.4233576642335766\n",
      "Missed by 1:  0.40875912408759124\n",
      "Missed by 2:  0.12408759124087591\n",
      "Missed by 3:  0.043795620437956206\n",
      "Missed by 4:  0.0\n"
     ]
    },
    {
     "data": {
      "text/plain": [
       "1.1398552859870856"
      ]
     },
     "execution_count": 39,
     "metadata": {},
     "output_type": "execute_result"
    }
   ],
   "source": [
    "grp_by_rm = train_data3.groupby(['region', 'month']).severity.expanding(1).mean()\n",
    "grp_by_rm = grp_by_rm.map(np.round)\n",
    "print(grp_by_rm.isna().sum())  # 72 --> 0.8528\n",
    "\n",
    "grp_by_rm.fillna(2, inplace=True)\n",
    "analyize_matches(val_data3_.severity.sort_index(), grp_by_rm.droplevel(0).droplevel(0).loc[val_data3_.index].sort_index())\n",
    "rmse(val_data3_.severity.sort_index(), grp_by_rm.droplevel(0).droplevel(0).loc[val_data3_.index].sort_index())"
   ]
  },
  {
   "cell_type": "code",
   "execution_count": 42,
   "metadata": {},
   "outputs": [
    {
     "data": {
      "text/plain": [
       "((5712, 13), (2559, 13))"
      ]
     },
     "execution_count": 42,
     "metadata": {},
     "output_type": "execute_result"
    }
   ],
   "source": [
    "tr_data2_.shape, val_data2.shape"
   ]
  },
  {
   "cell_type": "code",
   "execution_count": 45,
   "metadata": {},
   "outputs": [
    {
     "data": {
      "text/plain": [
       "uid             0\n",
       "latitude        0\n",
       "longitude       0\n",
       "date            0\n",
       "split           0\n",
       "year            0\n",
       "month           0\n",
       "week            0\n",
       "season          0\n",
       "region          0\n",
       "severity     2559\n",
       "density         0\n",
       "date_reg        0\n",
       "dtype: int64"
      ]
     },
     "execution_count": 45,
     "metadata": {},
     "output_type": "execute_result"
    }
   ],
   "source": [
    "train_data2 = pd.concat([tr_data2_, val_data2], axis=0)\n",
    "train_data2.sort_values(by='date', inplace=True)\n",
    "train_data2.loc[val_data2.index, 'severity'] = np.nan\n",
    "\n",
    "train_data2.isna().sum()"
   ]
  },
  {
   "cell_type": "code",
   "execution_count": 50,
   "metadata": {},
   "outputs": [
    {
     "name": "stdout",
     "output_type": "stream",
     "text": [
      "0\n"
     ]
    },
    {
     "data": {
      "text/plain": [
       "0.9202256039541193"
      ]
     },
     "execution_count": 50,
     "metadata": {},
     "output_type": "execute_result"
    }
   ],
   "source": [
    "\n",
    "grp_by_region = train_data2.groupby('region').severity.expanding(1).mean()\n",
    "grp_by_region = grp_by_region.map(np.round)\n",
    "\n",
    "grp_by_region['west'].fillna(2, inplace=True)\n",
    "grp_by_region['northeast'].fillna(2, inplace=True)\n",
    "print(grp_by_region.isna().sum())   # 5 --> 0.89416\n",
    "\n",
    "rmse(val_data2.severity.sort_index(), grp_by_region.droplevel(0).loc[val_data2.index].sort_index())"
   ]
  },
  {
   "cell_type": "code",
   "execution_count": 55,
   "metadata": {},
   "outputs": [
    {
     "name": "stdout",
     "output_type": "stream",
     "text": [
      "71\n",
      "Exact matches:  0.21805392731535755\n",
      "Missed by 1:  0.5138726064869089\n",
      "Missed by 2:  0.22821414615084018\n",
      "Missed by 3:  0.039077764751856196\n",
      "Missed by 4:  0.0007815552950371239\n"
     ]
    },
    {
     "data": {
      "text/plain": [
       "1.338257807217118"
      ]
     },
     "execution_count": 55,
     "metadata": {},
     "output_type": "execute_result"
    }
   ],
   "source": [
    "grp_by_week = train_data2.groupby('week').severity.expanding(1).mean()\n",
    "grp_by_week = grp_by_week.map(np.round)\n",
    "print(grp_by_week.isna().sum())  # 105 --> 1.176284\n",
    "\n",
    "grp_by_week.fillna(2, inplace=True)\n",
    "\n",
    "analyize_matches(val_data2.severity.sort_index(), grp_by_week.droplevel(0).loc[val_data2.index].sort_index())\n",
    "rmse(val_data2.severity.sort_index(), grp_by_week.droplevel(0).loc[val_data2.index].sort_index())"
   ]
  },
  {
   "cell_type": "code",
   "execution_count": 54,
   "metadata": {},
   "outputs": [
    {
     "name": "stdout",
     "output_type": "stream",
     "text": [
      "7\n",
      "Exact matches:  0.1930441578741696\n",
      "Missed by 1:  0.5701445877295819\n",
      "Missed by 2:  0.22665103556076593\n",
      "Missed by 3:  0.01016021883548261\n",
      "Missed by 4:  0.0\n"
     ]
    },
    {
     "data": {
      "text/plain": [
       "1.2522742109825584"
      ]
     },
     "execution_count": 54,
     "metadata": {},
     "output_type": "execute_result"
    }
   ],
   "source": [
    "\n",
    "grp_by_season = train_data2.groupby('season').severity.expanding(1).mean()\n",
    "grp_by_season = grp_by_season.map(np.round)\n",
    "print(grp_by_season.isna().sum())  # 105 --> 1.176284\n",
    "grp_by_season.fillna(2, inplace=True)\n",
    "\n",
    "analyize_matches(val_data2.severity.sort_index(), grp_by_season.droplevel(0).loc[val_data2.index].sort_index())\n",
    "\n",
    "rmse(val_data2.severity.sort_index(), grp_by_season.droplevel(0).loc[val_data2.index].sort_index())"
   ]
  },
  {
   "cell_type": "code",
   "execution_count": 56,
   "metadata": {},
   "outputs": [
    {
     "name": "stdout",
     "output_type": "stream",
     "text": [
      "12\n"
     ]
    },
    {
     "data": {
      "text/plain": [
       "1.2648492751869658"
      ]
     },
     "execution_count": 56,
     "metadata": {},
     "output_type": "execute_result"
    }
   ],
   "source": [
    "grp_by_month = train_data2.groupby('month').severity.expanding(1).mean()\n",
    "grp_by_month = grp_by_month.map(np.round)\n",
    "print(grp_by_month.isna().sum())  # 105 --> 1.176284\n",
    "\n",
    "grp_by_month.fillna(2, inplace=True)\n",
    "\n",
    "rmse(val_data2.severity.sort_index(), grp_by_month.droplevel(0).loc[val_data2.index].sort_index())"
   ]
  },
  {
   "cell_type": "code",
   "execution_count": 58,
   "metadata": {},
   "outputs": [
    {
     "name": "stdout",
     "output_type": "stream",
     "text": [
      "8\n"
     ]
    },
    {
     "data": {
      "text/plain": [
       "1.3596944695078805"
      ]
     },
     "execution_count": 58,
     "metadata": {},
     "output_type": "execute_result"
    }
   ],
   "source": [
    "grp_by_yr = train_data2.groupby('year').severity.expanding(1).mean()\n",
    "grp_by_yr = grp_by_yr.map(np.round)\n",
    "\n",
    "print(grp_by_yr.isna().sum())   # 5 --> 0.89416\n",
    "grp_by_yr.fillna(2, inplace=True)\n",
    "\n",
    "rmse(val_data2.severity.sort_index(), grp_by_yr.droplevel(0).loc[val_data2.index].sort_index())"
   ]
  },
  {
   "cell_type": "code",
   "execution_count": 59,
   "metadata": {},
   "outputs": [
    {
     "name": "stdout",
     "output_type": "stream",
     "text": [
      "1489\n"
     ]
    },
    {
     "data": {
      "text/plain": [
       "1.3850369928881396"
      ]
     },
     "execution_count": 59,
     "metadata": {},
     "output_type": "execute_result"
    }
   ],
   "source": [
    "grp_by_date = train_data2.groupby('date').severity.expanding(1).mean()\n",
    "grp_by_date = grp_by_date.map(np.round)\n",
    "\n",
    "print(grp_by_date.isna().sum())   # 5 --> 0.89416\n",
    "grp_by_date.fillna(2, inplace=True)\n",
    "\n",
    "rmse(val_data2.severity.sort_index(), grp_by_date.droplevel(0).loc[val_data2.index].sort_index())"
   ]
  },
  {
   "cell_type": "code",
   "execution_count": 46,
   "metadata": {},
   "outputs": [
    {
     "name": "stdout",
     "output_type": "stream",
     "text": [
      "55\n",
      "Exact matches:  0.45603751465416176\n",
      "Missed by 1:  0.4693239546697929\n",
      "Missed by 2:  0.06486908948808129\n",
      "Missed by 3:  0.009378663540445486\n",
      "Missed by 4:  0.00039077764751856197\n"
     ]
    },
    {
     "data": {
      "text/plain": [
       "0.9052407010549318"
      ]
     },
     "execution_count": 46,
     "metadata": {},
     "output_type": "execute_result"
    }
   ],
   "source": [
    "grp_by_rm = train_data2.groupby(['region', 'month']).severity.expanding(1).mean()\n",
    "grp_by_rm = grp_by_rm.map(np.round)\n",
    "print(grp_by_rm.isna().sum())  # 72 --> 0.8528\n",
    "\n",
    "grp_by_rm.fillna(2, inplace=True)\n",
    "\n",
    "analyize_matches(val_data2.severity.sort_index(), grp_by_rm.droplevel(0).droplevel(0).loc[val_data2.index].sort_index())\n",
    "rmse(val_data2.severity.sort_index(), grp_by_rm.droplevel(0).droplevel(0).loc[val_data2.index].sort_index())"
   ]
  },
  {
   "cell_type": "code",
   "execution_count": 47,
   "metadata": {},
   "outputs": [
    {
     "name": "stdout",
     "output_type": "stream",
     "text": [
      "48\n",
      "Exact matches:  0.5404454865181711\n",
      "Missed by 1:  0.35873388042203985\n",
      "Missed by 2:  0.08597108245408362\n",
      "Missed by 3:  0.013677217663149667\n",
      "Missed by 4:  0.0011723329425556857\n"
     ]
    },
    {
     "data": {
      "text/plain": [
       "0.9189507583584728"
      ]
     },
     "execution_count": 47,
     "metadata": {},
     "output_type": "execute_result"
    }
   ],
   "source": [
    "\n",
    "grp_by_rm = train_data2.groupby(['region', 'year']).severity.expanding(1).mean()\n",
    "grp_by_rm = grp_by_rm.map(np.round)\n",
    "print(grp_by_rm.isna().sum())  # 72 --> 0.8528\n",
    "\n",
    "grp_by_rm.fillna(2, inplace=True)\n",
    "\n",
    "analyize_matches(grp_by_rm.droplevel(0).droplevel(0).loc[val_data2.index].sort_index(), val_data2.severity.sort_index())\n",
    "rmse(val_data2.severity.sort_index(), grp_by_rm.droplevel(0).droplevel(0).loc[val_data2.index].sort_index())"
   ]
  },
  {
   "cell_type": "code",
   "execution_count": 48,
   "metadata": {},
   "outputs": [
    {
     "name": "stdout",
     "output_type": "stream",
     "text": [
      "30\n",
      "Exact matches:  0.4404064087534193\n",
      "Missed by 1:  0.4904259476357952\n",
      "Missed by 2:  0.0605705353653771\n",
      "Missed by 3:  0.007424775302852677\n",
      "Missed by 4:  0.0011723329425556857\n"
     ]
    },
    {
     "data": {
      "text/plain": [
       "0.9045929437619269"
      ]
     },
     "execution_count": 48,
     "metadata": {},
     "output_type": "execute_result"
    }
   ],
   "source": [
    "grp_by_rm = train_data2.groupby(['region', 'season']).severity.expanding(1).mean()\n",
    "grp_by_rm = grp_by_rm.map(np.round)\n",
    "print(grp_by_rm.isna().sum())  # 72 --> 0.8528\n",
    "\n",
    "grp_by_rm.fillna(2, inplace=True)\n",
    "\n",
    "analyize_matches(grp_by_rm.droplevel(0).droplevel(0).loc[val_data2.index].sort_index(), val_data2.severity.sort_index())\n",
    "\n",
    "rmse(val_data2.severity.sort_index(), grp_by_rm.droplevel(0).droplevel(0).loc[val_data2.index].sort_index())"
   ]
  },
  {
   "cell_type": "code",
   "execution_count": 49,
   "metadata": {},
   "outputs": [
    {
     "name": "stdout",
     "output_type": "stream",
     "text": [
      "2189\n",
      "Exact matches:  0.252442360296991\n",
      "Missed by 1:  0.567409144196952\n",
      "Missed by 2:  0.17506838608831574\n",
      "Missed by 3:  0.005080109417741305\n",
      "Missed by 4:  0.0\n"
     ]
    },
    {
     "data": {
      "text/plain": [
       "1.1460382512420284"
      ]
     },
     "execution_count": 49,
     "metadata": {},
     "output_type": "execute_result"
    }
   ],
   "source": [
    "grp_by_rm = train_data2.groupby(['region', 'date']).severity.expanding(1).mean()\n",
    "grp_by_rm = grp_by_rm.map(np.round)\n",
    "print(grp_by_rm.isna().sum())  # 72 --> 0.8528\n",
    "\n",
    "grp_by_rm.fillna(2, inplace=True)\n",
    "\n",
    "preds = grp_by_rm.droplevel(0).droplevel(0).loc[val_data2.index].sort_index()\n",
    "analyize_matches(val_data2.severity.sort_index(), preds)\n",
    "rmse(val_data2.severity.sort_index(), preds)"
   ]
  },
  {
   "cell_type": "code",
   "execution_count": null,
   "metadata": {},
   "outputs": [],
   "source": []
  },
  {
   "cell_type": "code",
   "execution_count": null,
   "metadata": {},
   "outputs": [],
   "source": []
  },
  {
   "cell_type": "code",
   "execution_count": null,
   "metadata": {},
   "outputs": [],
   "source": []
  },
  {
   "cell_type": "code",
   "execution_count": null,
   "metadata": {},
   "outputs": [],
   "source": []
  },
  {
   "cell_type": "code",
   "execution_count": null,
   "metadata": {},
   "outputs": [],
   "source": []
  },
  {
   "cell_type": "code",
   "execution_count": null,
   "metadata": {},
   "outputs": [],
   "source": []
  },
  {
   "cell_type": "code",
   "execution_count": null,
   "metadata": {},
   "outputs": [],
   "source": []
  },
  {
   "attachments": {},
   "cell_type": "markdown",
   "metadata": {},
   "source": [
    "# Submission"
   ]
  },
  {
   "cell_type": "code",
   "execution_count": 46,
   "metadata": {},
   "outputs": [
    {
     "name": "stderr",
     "output_type": "stream",
     "text": [
      "  1%|▏         | 88/6510 [00:01<01:09, 92.61it/s]"
     ]
    },
    {
     "name": "stdout",
     "output_type": "stream",
     "text": [
      "No previous data for this date filling in 2s .. for igpa\n",
      "No previous data for this date filling in 2s .. for lkpf\n"
     ]
    },
    {
     "name": "stderr",
     "output_type": "stream",
     "text": [
      "  2%|▏         | 106/6510 [00:02<02:27, 43.53it/s]"
     ]
    },
    {
     "name": "stdout",
     "output_type": "stream",
     "text": [
      "No previous data for this date filling in 2s .. for paez\n"
     ]
    },
    {
     "name": "stderr",
     "output_type": "stream",
     "text": [
      "100%|██████████| 6510/6510 [01:17<00:00, 83.95it/s] \n"
     ]
    },
    {
     "data": {
      "text/html": [
       "<div>\n",
       "<style scoped>\n",
       "    .dataframe tbody tr th:only-of-type {\n",
       "        vertical-align: middle;\n",
       "    }\n",
       "\n",
       "    .dataframe tbody tr th {\n",
       "        vertical-align: top;\n",
       "    }\n",
       "\n",
       "    .dataframe thead th {\n",
       "        text-align: right;\n",
       "    }\n",
       "</style>\n",
       "<table border=\"1\" class=\"dataframe\">\n",
       "  <thead>\n",
       "    <tr style=\"text-align: right;\">\n",
       "      <th></th>\n",
       "      <th>uid</th>\n",
       "      <th>region</th>\n",
       "      <th>severity</th>\n",
       "    </tr>\n",
       "  </thead>\n",
       "  <tbody>\n",
       "    <tr>\n",
       "      <th>0</th>\n",
       "      <td>aabn</td>\n",
       "      <td>west</td>\n",
       "      <td>2</td>\n",
       "    </tr>\n",
       "    <tr>\n",
       "      <th>1</th>\n",
       "      <td>aair</td>\n",
       "      <td>west</td>\n",
       "      <td>4</td>\n",
       "    </tr>\n",
       "    <tr>\n",
       "      <th>2</th>\n",
       "      <td>aajw</td>\n",
       "      <td>northeast</td>\n",
       "      <td>2</td>\n",
       "    </tr>\n",
       "    <tr>\n",
       "      <th>3</th>\n",
       "      <td>aalr</td>\n",
       "      <td>midwest</td>\n",
       "      <td>4</td>\n",
       "    </tr>\n",
       "    <tr>\n",
       "      <th>4</th>\n",
       "      <td>aalw</td>\n",
       "      <td>west</td>\n",
       "      <td>4</td>\n",
       "    </tr>\n",
       "    <tr>\n",
       "      <th>...</th>\n",
       "      <td>...</td>\n",
       "      <td>...</td>\n",
       "      <td>...</td>\n",
       "    </tr>\n",
       "    <tr>\n",
       "      <th>6505</th>\n",
       "      <td>zzpn</td>\n",
       "      <td>northeast</td>\n",
       "      <td>5</td>\n",
       "    </tr>\n",
       "    <tr>\n",
       "      <th>6506</th>\n",
       "      <td>zzrv</td>\n",
       "      <td>west</td>\n",
       "      <td>4</td>\n",
       "    </tr>\n",
       "    <tr>\n",
       "      <th>6507</th>\n",
       "      <td>zzsx</td>\n",
       "      <td>south</td>\n",
       "      <td>2</td>\n",
       "    </tr>\n",
       "    <tr>\n",
       "      <th>6508</th>\n",
       "      <td>zzvv</td>\n",
       "      <td>west</td>\n",
       "      <td>4</td>\n",
       "    </tr>\n",
       "    <tr>\n",
       "      <th>6509</th>\n",
       "      <td>zzzi</td>\n",
       "      <td>midwest</td>\n",
       "      <td>1</td>\n",
       "    </tr>\n",
       "  </tbody>\n",
       "</table>\n",
       "<p>6510 rows × 3 columns</p>\n",
       "</div>"
      ],
      "text/plain": [
       "       uid     region  severity\n",
       "0     aabn       west         2\n",
       "1     aair       west         4\n",
       "2     aajw  northeast         2\n",
       "3     aalr    midwest         4\n",
       "4     aalw       west         4\n",
       "...    ...        ...       ...\n",
       "6505  zzpn  northeast         5\n",
       "6506  zzrv       west         4\n",
       "6507  zzsx      south         2\n",
       "6508  zzvv       west         4\n",
       "6509  zzzi    midwest         1\n",
       "\n",
       "[6510 rows x 3 columns]"
      ]
     },
     "execution_count": 46,
     "metadata": {},
     "output_type": "execute_result"
    }
   ],
   "source": [
    "#  Making submission with guess2 mean\n",
    "\n",
    "sub_format['severity'] = 0\n",
    "\n",
    "for row in tqdm(te_data.itertuples(), total=te_data.shape[0]):\n",
    "    uid_series = te_data[te_data.uid == row.uid]\n",
    "    severity = make_guess1(uid_series.iloc[0], date=row.date, tr_data=train_data)   # use all train data for making test submission\n",
    "    sub_format.loc[sub_format.uid == row.uid, 'severity'] = severity\n",
    "\n",
    "sub_format"
   ]
  },
  {
   "cell_type": "code",
   "execution_count": 47,
   "metadata": {},
   "outputs": [
    {
     "name": "stdout",
     "output_type": "stream",
     "text": [
      "4    0.339785\n",
      "1    0.311982\n",
      "3    0.191705\n",
      "2    0.153303\n",
      "5    0.003226\n",
      "Name: severity, dtype: float64\n"
     ]
    }
   ],
   "source": [
    "print(sub_format.severity.value_counts(normalize=True))\n",
    "\n",
    "sub_format.to_csv('../submissions/to submit/guess1_newly_validated.csv', index=False)"
   ]
  },
  {
   "cell_type": "code",
   "execution_count": null,
   "metadata": {},
   "outputs": [],
   "source": []
  },
  {
   "attachments": {},
   "cell_type": "markdown",
   "metadata": {},
   "source": [
    "# Sooo....\n",
    "\n",
    "- The discrepancy is due to high percentage of dates and region combinations (as in myguess2) is missing in the test set, where as the val set is so sweet and nice and has all the    combinations\n",
    "- finally figured out something, but not sure if it's right.\n",
    "- \n",
    "\n",
    "# Todos :\n",
    "\n",
    "- check this theory with a submission.\n",
    "- analyise date missses vs date_reg misses.\n",
    "- Figure out better hypothesis guessing on new val set."
   ]
  },
  {
   "cell_type": "code",
   "execution_count": null,
   "metadata": {},
   "outputs": [],
   "source": []
  }
 ],
 "metadata": {
  "kernelspec": {
   "display_name": "Python 3",
   "language": "python",
   "name": "python3"
  },
  "language_info": {
   "codemirror_mode": {
    "name": "ipython",
    "version": 3
   },
   "file_extension": ".py",
   "mimetype": "text/x-python",
   "name": "python",
   "nbconvert_exporter": "python",
   "pygments_lexer": "ipython3",
   "version": "3.10.5"
  },
  "orig_nbformat": 4,
  "vscode": {
   "interpreter": {
    "hash": "186db977f413ae6598820b658aed1651932768522d0652c07d949b3f5fb38b63"
   }
  }
 },
 "nbformat": 4,
 "nbformat_minor": 2
}
