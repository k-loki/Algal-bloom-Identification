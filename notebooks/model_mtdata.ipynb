{
 "cells": [
  {
   "attachments": {},
   "cell_type": "markdown",
   "metadata": {},
   "source": [
    "``Mission : Error Analysis & Model metadata``\n",
    "\n",
    "- Analyize past submissions and find out what went wrong! \n",
    "- One great heuristic is all I need now!\n"
   ]
  },
  {
   "attachments": {},
   "cell_type": "markdown",
   "metadata": {},
   "source": [
    "# Data and dependencies"
   ]
  },
  {
   "cell_type": "code",
   "execution_count": 259,
   "metadata": {},
   "outputs": [],
   "source": [
    "import warnings\n",
    "import sys\n",
    "import os\n",
    "import time\n",
    "import joblib\n",
    "import random\n",
    "from tqdm import tqdm\n",
    "from pprint import pprint\n",
    "\n",
    "import pandas as pd\n",
    "import numpy as np\n",
    "import matplotlib.pyplot as plt\n",
    "import seaborn as sns\n",
    "import cv2\n",
    "\n",
    "from sklearn.metrics import mean_squared_error as mse\n",
    "from sklearn.model_selection import train_test_split, StratifiedKFold\n",
    "from sklearn.pipeline import make_pipeline\n",
    "from sklearn.preprocessing import OrdinalEncoder\n",
    "\n",
    "from xgboost import XGBClassifier, XGBRegressor\n",
    "from lightgbm import LGBMClassifier, LGBMRegressor\n",
    "from catboost import CatBoostClassifier, CatBoostRegressor\n",
    "from sklearn.ensemble import RandomForestClassifier, RandomForestRegressor\n",
    "\n",
    "warnings.filterwarnings('ignore')"
   ]
  },
  {
   "cell_type": "code",
   "execution_count": 260,
   "metadata": {},
   "outputs": [],
   "source": [
    "metadata = pd.read_csv('../data/metadata.csv')\n",
    "sub_format = pd.read_csv('../data/submission_format.csv')\n",
    "train_labels = pd.read_csv('../data/train_labels.csv')"
   ]
  },
  {
   "cell_type": "code",
   "execution_count": 261,
   "metadata": {},
   "outputs": [],
   "source": [
    "def rmse(y_true, y_pred):\n",
    "    return mse(y_true, y_pred, squared=False)"
   ]
  },
  {
   "attachments": {},
   "cell_type": "markdown",
   "metadata": {},
   "source": [
    "# Add date fts"
   ]
  },
  {
   "cell_type": "code",
   "execution_count": 262,
   "metadata": {},
   "outputs": [
    {
     "data": {
      "text/html": [
       "<div>\n",
       "<style scoped>\n",
       "    .dataframe tbody tr th:only-of-type {\n",
       "        vertical-align: middle;\n",
       "    }\n",
       "\n",
       "    .dataframe tbody tr th {\n",
       "        vertical-align: top;\n",
       "    }\n",
       "\n",
       "    .dataframe thead th {\n",
       "        text-align: right;\n",
       "    }\n",
       "</style>\n",
       "<table border=\"1\" class=\"dataframe\">\n",
       "  <thead>\n",
       "    <tr style=\"text-align: right;\">\n",
       "      <th></th>\n",
       "      <th>uid</th>\n",
       "      <th>latitude</th>\n",
       "      <th>longitude</th>\n",
       "      <th>date</th>\n",
       "      <th>split</th>\n",
       "      <th>year</th>\n",
       "      <th>month</th>\n",
       "      <th>week</th>\n",
       "      <th>season</th>\n",
       "      <th>region</th>\n",
       "      <th>severity</th>\n",
       "      <th>density</th>\n",
       "    </tr>\n",
       "  </thead>\n",
       "  <tbody>\n",
       "    <tr>\n",
       "      <th>0</th>\n",
       "      <td>aabm</td>\n",
       "      <td>39.080319</td>\n",
       "      <td>-86.430867</td>\n",
       "      <td>2018-05-14</td>\n",
       "      <td>train</td>\n",
       "      <td>2018</td>\n",
       "      <td>5</td>\n",
       "      <td>20</td>\n",
       "      <td>2</td>\n",
       "      <td>midwest</td>\n",
       "      <td>1.0</td>\n",
       "      <td>585.0</td>\n",
       "    </tr>\n",
       "    <tr>\n",
       "      <th>1</th>\n",
       "      <td>aabn</td>\n",
       "      <td>36.559700</td>\n",
       "      <td>-121.510000</td>\n",
       "      <td>2016-08-31</td>\n",
       "      <td>test</td>\n",
       "      <td>2016</td>\n",
       "      <td>8</td>\n",
       "      <td>35</td>\n",
       "      <td>3</td>\n",
       "      <td>west</td>\n",
       "      <td>NaN</td>\n",
       "      <td>NaN</td>\n",
       "    </tr>\n",
       "    <tr>\n",
       "      <th>2</th>\n",
       "      <td>aacd</td>\n",
       "      <td>35.875083</td>\n",
       "      <td>-78.878434</td>\n",
       "      <td>2020-11-19</td>\n",
       "      <td>train</td>\n",
       "      <td>2020</td>\n",
       "      <td>11</td>\n",
       "      <td>47</td>\n",
       "      <td>4</td>\n",
       "      <td>south</td>\n",
       "      <td>1.0</td>\n",
       "      <td>290.0</td>\n",
       "    </tr>\n",
       "    <tr>\n",
       "      <th>3</th>\n",
       "      <td>aaee</td>\n",
       "      <td>35.487000</td>\n",
       "      <td>-79.062133</td>\n",
       "      <td>2016-08-24</td>\n",
       "      <td>train</td>\n",
       "      <td>2016</td>\n",
       "      <td>8</td>\n",
       "      <td>34</td>\n",
       "      <td>3</td>\n",
       "      <td>south</td>\n",
       "      <td>1.0</td>\n",
       "      <td>1614.0</td>\n",
       "    </tr>\n",
       "    <tr>\n",
       "      <th>4</th>\n",
       "      <td>aaff</td>\n",
       "      <td>38.049471</td>\n",
       "      <td>-99.827001</td>\n",
       "      <td>2019-07-23</td>\n",
       "      <td>train</td>\n",
       "      <td>2019</td>\n",
       "      <td>7</td>\n",
       "      <td>30</td>\n",
       "      <td>3</td>\n",
       "      <td>midwest</td>\n",
       "      <td>3.0</td>\n",
       "      <td>111825.0</td>\n",
       "    </tr>\n",
       "    <tr>\n",
       "      <th>...</th>\n",
       "      <td>...</td>\n",
       "      <td>...</td>\n",
       "      <td>...</td>\n",
       "      <td>...</td>\n",
       "      <td>...</td>\n",
       "      <td>...</td>\n",
       "      <td>...</td>\n",
       "      <td>...</td>\n",
       "      <td>...</td>\n",
       "      <td>...</td>\n",
       "      <td>...</td>\n",
       "      <td>...</td>\n",
       "    </tr>\n",
       "    <tr>\n",
       "      <th>23565</th>\n",
       "      <td>zzvv</td>\n",
       "      <td>36.708500</td>\n",
       "      <td>-121.749000</td>\n",
       "      <td>2014-12-02</td>\n",
       "      <td>test</td>\n",
       "      <td>2014</td>\n",
       "      <td>12</td>\n",
       "      <td>49</td>\n",
       "      <td>1</td>\n",
       "      <td>west</td>\n",
       "      <td>NaN</td>\n",
       "      <td>NaN</td>\n",
       "    </tr>\n",
       "    <tr>\n",
       "      <th>23566</th>\n",
       "      <td>zzwo</td>\n",
       "      <td>39.792190</td>\n",
       "      <td>-99.971050</td>\n",
       "      <td>2017-06-19</td>\n",
       "      <td>train</td>\n",
       "      <td>2017</td>\n",
       "      <td>6</td>\n",
       "      <td>25</td>\n",
       "      <td>3</td>\n",
       "      <td>midwest</td>\n",
       "      <td>2.0</td>\n",
       "      <td>48510.0</td>\n",
       "    </tr>\n",
       "    <tr>\n",
       "      <th>23567</th>\n",
       "      <td>zzwq</td>\n",
       "      <td>35.794000</td>\n",
       "      <td>-79.012551</td>\n",
       "      <td>2015-03-24</td>\n",
       "      <td>train</td>\n",
       "      <td>2015</td>\n",
       "      <td>3</td>\n",
       "      <td>13</td>\n",
       "      <td>2</td>\n",
       "      <td>south</td>\n",
       "      <td>1.0</td>\n",
       "      <td>1271.0</td>\n",
       "    </tr>\n",
       "    <tr>\n",
       "      <th>23568</th>\n",
       "      <td>zzyb</td>\n",
       "      <td>35.742000</td>\n",
       "      <td>-79.238600</td>\n",
       "      <td>2016-11-21</td>\n",
       "      <td>train</td>\n",
       "      <td>2016</td>\n",
       "      <td>11</td>\n",
       "      <td>47</td>\n",
       "      <td>4</td>\n",
       "      <td>south</td>\n",
       "      <td>1.0</td>\n",
       "      <td>9682.0</td>\n",
       "    </tr>\n",
       "    <tr>\n",
       "      <th>23569</th>\n",
       "      <td>zzzi</td>\n",
       "      <td>39.767323</td>\n",
       "      <td>-96.028617</td>\n",
       "      <td>2015-08-31</td>\n",
       "      <td>test</td>\n",
       "      <td>2015</td>\n",
       "      <td>8</td>\n",
       "      <td>36</td>\n",
       "      <td>3</td>\n",
       "      <td>midwest</td>\n",
       "      <td>NaN</td>\n",
       "      <td>NaN</td>\n",
       "    </tr>\n",
       "  </tbody>\n",
       "</table>\n",
       "<p>23570 rows × 12 columns</p>\n",
       "</div>"
      ],
      "text/plain": [
       "        uid   latitude   longitude       date  split  year  month  week  \\\n",
       "0      aabm  39.080319  -86.430867 2018-05-14  train  2018      5    20   \n",
       "1      aabn  36.559700 -121.510000 2016-08-31   test  2016      8    35   \n",
       "2      aacd  35.875083  -78.878434 2020-11-19  train  2020     11    47   \n",
       "3      aaee  35.487000  -79.062133 2016-08-24  train  2016      8    34   \n",
       "4      aaff  38.049471  -99.827001 2019-07-23  train  2019      7    30   \n",
       "...     ...        ...         ...        ...    ...   ...    ...   ...   \n",
       "23565  zzvv  36.708500 -121.749000 2014-12-02   test  2014     12    49   \n",
       "23566  zzwo  39.792190  -99.971050 2017-06-19  train  2017      6    25   \n",
       "23567  zzwq  35.794000  -79.012551 2015-03-24  train  2015      3    13   \n",
       "23568  zzyb  35.742000  -79.238600 2016-11-21  train  2016     11    47   \n",
       "23569  zzzi  39.767323  -96.028617 2015-08-31   test  2015      8    36   \n",
       "\n",
       "       season   region  severity   density  \n",
       "0           2  midwest       1.0     585.0  \n",
       "1           3     west       NaN       NaN  \n",
       "2           4    south       1.0     290.0  \n",
       "3           3    south       1.0    1614.0  \n",
       "4           3  midwest       3.0  111825.0  \n",
       "...       ...      ...       ...       ...  \n",
       "23565       1     west       NaN       NaN  \n",
       "23566       3  midwest       2.0   48510.0  \n",
       "23567       2    south       1.0    1271.0  \n",
       "23568       4    south       1.0    9682.0  \n",
       "23569       3  midwest       NaN       NaN  \n",
       "\n",
       "[23570 rows x 12 columns]"
      ]
     },
     "execution_count": 262,
     "metadata": {},
     "output_type": "execute_result"
    }
   ],
   "source": [
    "metadata.date = pd.to_datetime(metadata.date)\n",
    "metadata['year'] = metadata.date.dt.year\n",
    "metadata['month'] = metadata.date.dt.month\n",
    "metadata['week'] = metadata.date.dt.isocalendar().week\n",
    "\n",
    "\n",
    "seasons = {\n",
    "    1: 1,\n",
    "    2: 1,\n",
    "    3: 2,\n",
    "    4: 2,\n",
    "    5: 2,\n",
    "    6: 3,\n",
    "    7: 3,\n",
    "    8: 3,\n",
    "    9: 4,\n",
    "    10: 4,\n",
    "    11: 4,\n",
    "    12: 1\n",
    "}\n",
    "\n",
    "metadata['season'] = metadata.month.map(seasons)\n",
    "\n",
    "\n",
    "region = pd.concat((train_labels, sub_format[['region', 'uid']]), axis=0)\n",
    "\n",
    "data = pd.merge(metadata, region, on='uid', how='left')\n",
    "data"
   ]
  },
  {
   "cell_type": "code",
   "execution_count": 263,
   "metadata": {},
   "outputs": [
    {
     "data": {
      "text/plain": [
       "((17060, 12), (23570, 12))"
      ]
     },
     "execution_count": 263,
     "metadata": {},
     "output_type": "execute_result"
    }
   ],
   "source": [
    "train_data = data[data.split == 'train']\n",
    "train_data.shape, data.shape"
   ]
  },
  {
   "attachments": {},
   "cell_type": "markdown",
   "metadata": {},
   "source": [
    "### Expanding sev"
   ]
  },
  {
   "cell_type": "code",
   "execution_count": 264,
   "metadata": {},
   "outputs": [
    {
     "data": {
      "text/plain": [
       "2    0.463902\n",
       "4    0.354531\n",
       "1    0.169892\n",
       "3    0.011674\n",
       "Name: severity, dtype: float64"
      ]
     },
     "execution_count": 264,
     "metadata": {},
     "output_type": "execute_result"
    }
   ],
   "source": [
    "# exapnding sev by rs  @ 0.859434 vs 0.8798\n",
    "ex_sev_rs = pd.read_csv('../submissions/expanding_sev_rs_preds.csv')\n",
    "ex_sev_rs\n",
    "ex_sev_rs.severity.value_counts(normalize=True)"
   ]
  },
  {
   "cell_type": "code",
   "execution_count": 265,
   "metadata": {},
   "outputs": [
    {
     "data": {
      "text/plain": [
       "2    0.633333\n",
       "4    0.366667\n",
       "Name: severity, dtype: float64"
      ]
     },
     "execution_count": 265,
     "metadata": {},
     "output_type": "execute_result"
    }
   ],
   "source": [
    "avg_sev_r = pd.read_csv('../submissions/avg_severity_by_region.csv')\n",
    "avg_sev_r # shouldn't be used\n",
    "avg_sev_r.severity.value_counts(normalize=True)\n"
   ]
  },
  {
   "cell_type": "code",
   "execution_count": 266,
   "metadata": {},
   "outputs": [
    {
     "data": {
      "text/plain": [
       "2    0.536098\n",
       "4    0.367127\n",
       "1    0.096774\n",
       "Name: severity, dtype: float64"
      ]
     },
     "execution_count": 266,
     "metadata": {},
     "output_type": "execute_result"
    }
   ],
   "source": [
    "#  ex sev by regweek reg ~ ex sev by reg  @ 0.8971\n",
    "ex_sev_regweek_reg = pd.read_csv('../submissions/expndng_sev_by_rw_exreg_preds.csv')\n",
    "ex_sev_regweek_reg\n",
    "ex_sev_regweek_reg.severity.value_counts(normalize=True)"
   ]
  },
  {
   "cell_type": "code",
   "execution_count": 267,
   "metadata": {},
   "outputs": [
    {
     "data": {
      "text/plain": [
       "2    0.536098\n",
       "4    0.367127\n",
       "1    0.096774\n",
       "Name: severity, dtype: float64"
      ]
     },
     "execution_count": 267,
     "metadata": {},
     "output_type": "execute_result"
    }
   ],
   "source": [
    "ex_sev_reg = pd.read_csv('../submissions/expndng_sev_by_reg_preds.csv')\n",
    "ex_sev_reg.severity.value_counts(normalize=True)"
   ]
  },
  {
   "cell_type": "code",
   "execution_count": 268,
   "metadata": {},
   "outputs": [],
   "source": [
    "#  holy heck both are same lol..."
   ]
  },
  {
   "cell_type": "code",
   "execution_count": 269,
   "metadata": {},
   "outputs": [
    {
     "data": {
      "text/plain": [
       "2    0.410445\n",
       "4    0.311674\n",
       "1    0.151613\n",
       "3    0.125960\n",
       "5    0.000307\n",
       "Name: severity, dtype: float64"
      ]
     },
     "execution_count": 269,
     "metadata": {},
     "output_type": "execute_result"
    }
   ],
   "source": [
    "xgbreg_preds = pd.read_csv('../submissions/xgbreg_cvpreds_on_expanding_sev_rs_preds.csv')\n",
    "xgbreg_preds.severity.value_counts(normalize=True)"
   ]
  },
  {
   "cell_type": "code",
   "execution_count": 270,
   "metadata": {},
   "outputs": [
    {
     "data": {
      "text/plain": [
       "1    0.410445\n",
       "4    0.311674\n",
       "2    0.151613\n",
       "3    0.125960\n",
       "5    0.000307\n",
       "Name: severity, dtype: float64"
      ]
     },
     "execution_count": 270,
     "metadata": {},
     "output_type": "execute_result"
    }
   ],
   "source": [
    "xgbreg_preds = pd.read_csv('../submissions/modified_xgbreg_cvpreds_on_expanding_sev_rs_preds.csv')\n",
    "xgbreg_preds.severity.value_counts(normalize=True)"
   ]
  },
  {
   "cell_type": "code",
   "execution_count": 271,
   "metadata": {},
   "outputs": [
    {
     "data": {
      "text/plain": [
       "1.6592135031404238"
      ]
     },
     "execution_count": 271,
     "metadata": {},
     "output_type": "execute_result"
    }
   ],
   "source": [
    "#  all ones @ 1.6592 vs 1.6387\n",
    "\n",
    "all_ones = np.full(train_labels.shape[0], 1)\n",
    "rmse(train_labels.severity, all_ones)"
   ]
  },
  {
   "cell_type": "code",
   "execution_count": 272,
   "metadata": {},
   "outputs": [
    {
     "data": {
      "text/plain": [
       "2.7529894490035174"
      ]
     },
     "execution_count": 272,
     "metadata": {},
     "output_type": "execute_result"
    }
   ],
   "source": [
    "pow(1.6592135031404238, 2)\n",
    "# mse 2.7529894490035174"
   ]
  },
  {
   "cell_type": "code",
   "execution_count": 337,
   "metadata": {},
   "outputs": [
    {
     "data": {
      "text/plain": [
       "1.659178174792949"
      ]
     },
     "execution_count": 337,
     "metadata": {},
     "output_type": "execute_result"
    }
   ],
   "source": [
    "all_ones_but_few = all_ones.copy()\n",
    "all_ones_but_few[:10] = 2\n",
    "rmse(train_labels.severity, all_ones_but_few)"
   ]
  },
  {
   "cell_type": "code",
   "execution_count": 274,
   "metadata": {},
   "outputs": [
    {
     "data": {
      "text/plain": [
       "1.2087508206024726"
      ]
     },
     "execution_count": 274,
     "metadata": {},
     "output_type": "execute_result"
    }
   ],
   "source": [
    "all_twos = np.full(train_labels.shape[0], 2)\n",
    "rmse(train_labels.severity, all_twos)"
   ]
  },
  {
   "cell_type": "code",
   "execution_count": 275,
   "metadata": {},
   "outputs": [
    {
     "data": {
      "text/plain": [
       "1.2115118010484747"
      ]
     },
     "execution_count": 275,
     "metadata": {},
     "output_type": "execute_result"
    }
   ],
   "source": [
    "all_twos_but_few = all_twos.copy()\n",
    "all_twos_but_few[:10] = 5\n",
    "rmse(train_labels.severity, all_twos_but_few)"
   ]
  },
  {
   "attachments": {},
   "cell_type": "markdown",
   "metadata": {},
   "source": [
    "## Is 0.76 possible with avgs?\n",
    "\n",
    "- and wt. or latest picking heuristics is better than avg"
   ]
  },
  {
   "cell_type": "code",
   "execution_count": 276,
   "metadata": {},
   "outputs": [
    {
     "name": "stdout",
     "output_type": "stream",
     "text": [
      "0\n"
     ]
    },
    {
     "data": {
      "text/plain": [
       "0.8939027540207913"
      ]
     },
     "execution_count": 276,
     "metadata": {},
     "output_type": "execute_result"
    }
   ],
   "source": [
    "grp_by_region = train_data.groupby('region').severity.expanding(1).mean()\n",
    "grp_by_region = grp_by_region.map(np.round)\n",
    "print(grp_by_region.isna().sum())\n",
    "mse(train_data.severity.sort_index(), grp_by_region.droplevel(0).sort_index()[:train_data.shape[0]], squared=False)"
   ]
  },
  {
   "cell_type": "code",
   "execution_count": 279,
   "metadata": {},
   "outputs": [
    {
     "name": "stdout",
     "output_type": "stream",
     "text": [
      "region\n",
      "midwest      2.0\n",
      "northeast    2.0\n",
      "south        2.0\n",
      "west         4.0\n",
      "Name: severity, dtype: float64\n",
      "0\n",
      "RMSE: 0.894754808017972\n"
     ]
    }
   ],
   "source": [
    "#  avg sev by region @ 0.89475/0.8976\n",
    "grp_by_region = train_data.groupby('region').severity.mean()\n",
    "grp_by_region = grp_by_region.map(np.round)\n",
    "print(grp_by_region)\n",
    "print(grp_by_region.isna().sum())\n",
    "\n",
    "print(\"RMSE:\", rmse(train_data.severity, grp_by_region[train_data.region]))"
   ]
  },
  {
   "cell_type": "code",
   "execution_count": 283,
   "metadata": {},
   "outputs": [
    {
     "name": "stdout",
     "output_type": "stream",
     "text": [
      "0\n"
     ]
    },
    {
     "data": {
      "text/plain": [
       "1.2023326292941634"
      ]
     },
     "execution_count": 283,
     "metadata": {},
     "output_type": "execute_result"
    }
   ],
   "source": [
    "grp_by_month = train_data.groupby('month').severity.expanding(1).mean()\n",
    "grp_by_month = grp_by_month.map(np.round)     \n",
    "print(grp_by_month.isna().sum())    # 8 missing values  1.202\n",
    "mse(train_data.severity.sort_index(), grp_by_month.droplevel(0).sort_index()[:train_data.shape[0]], squared=False)"
   ]
  },
  {
   "cell_type": "code",
   "execution_count": 285,
   "metadata": {},
   "outputs": [
    {
     "name": "stdout",
     "output_type": "stream",
     "text": [
      "0\n",
      "month\n",
      "1     3.0\n",
      "2     3.0\n",
      "3     2.0\n",
      "4     2.0\n",
      "5     2.0\n",
      "6     2.0\n",
      "7     2.0\n",
      "8     2.0\n",
      "9     2.0\n",
      "10    2.0\n",
      "11    2.0\n",
      "12    2.0\n",
      "Name: severity, dtype: float64\n",
      "RMSE: 1.2048164380819388\n"
     ]
    }
   ],
   "source": [
    "#  avg sev by month @ 1.204\n",
    "grp_by_month = data.groupby('month').severity.mean()\n",
    "grp_by_month = grp_by_month.map(np.round)     \n",
    "print(grp_by_month.isna().sum())  \n",
    "print(grp_by_month)\n",
    "\n",
    "print(\"RMSE:\", rmse(train_data.severity, grp_by_month[train_data.month]))"
   ]
  },
  {
   "cell_type": "code",
   "execution_count": 287,
   "metadata": {},
   "outputs": [
    {
     "name": "stdout",
     "output_type": "stream",
     "text": [
      "0\n",
      "RMSE: 1.2087508206024726\n"
     ]
    }
   ],
   "source": [
    "# avg sev by season @ 1.208\n",
    "grp_by_season = data.groupby('season').severity.mean()\n",
    "grp_by_season = grp_by_season.map(np.round)\n",
    "print(grp_by_season.isna().sum())\n",
    "\n",
    "print(\"RMSE:\", rmse(train_data.severity, grp_by_season[train_data.season]))"
   ]
  },
  {
   "cell_type": "code",
   "execution_count": 290,
   "metadata": {},
   "outputs": [
    {
     "name": "stdout",
     "output_type": "stream",
     "text": [
      "0\n",
      "RMSE: 1.2087508206024726\n"
     ]
    }
   ],
   "source": [
    "grp_by_yr = train_data.groupby('year').severity.mean()\n",
    "grp_by_yr = grp_by_yr.map(np.round)\n",
    "print(grp_by_yr.isna().sum())\n",
    "\n",
    "print(\"RMSE:\", rmse(train_data.severity, grp_by_yr[train_data.year]))"
   ]
  },
  {
   "cell_type": "code",
   "execution_count": 317,
   "metadata": {},
   "outputs": [
    {
     "name": "stdout",
     "output_type": "stream",
     "text": [
      "0\n",
      "region   month       \n",
      "midwest  1      4387     1.0\n",
      "                5317     1.0\n",
      "                5566     1.0\n",
      "                6144     1.0\n",
      "                13644    1.0\n",
      "                        ... \n",
      "west     12     22176    4.0\n",
      "                22363    4.0\n",
      "                22467    4.0\n",
      "                22572    4.0\n",
      "                23269    4.0\n",
      "Name: severity, Length: 17060, dtype: float64\n"
     ]
    },
    {
     "data": {
      "text/plain": [
       "0.8522090458996826"
      ]
     },
     "execution_count": 317,
     "metadata": {},
     "output_type": "execute_result"
    }
   ],
   "source": [
    "grp_by_rm = train_data.groupby(['region', 'month']).severity.expanding(1).mean()\n",
    "grp_by_rm = grp_by_rm.map(np.round)\n",
    "print(grp_by_rm.isna().sum())  # 30 missing values 0.8522090458996826\n",
    "print(grp_by_rm)\n",
    "\n",
    "mse(train_data.severity.sort_index(), grp_by_rm.droplevel(0).droplevel(0).sort_index()[:train_data.shape[0]], squared=False)"
   ]
  },
  {
   "cell_type": "code",
   "execution_count": 318,
   "metadata": {},
   "outputs": [
    {
     "data": {
      "text/plain": [
       "0        1.0\n",
       "2        1.0\n",
       "3        1.0\n",
       "4        3.0\n",
       "5        4.0\n",
       "        ... \n",
       "23562    2.0\n",
       "23564    2.0\n",
       "23566    2.0\n",
       "23567    1.0\n",
       "23568    2.0\n",
       "Name: severity, Length: 17060, dtype: float64"
      ]
     },
     "execution_count": 318,
     "metadata": {},
     "output_type": "execute_result"
    }
   ],
   "source": [
    "ex_rm = grp_by_rm.droplevel(0).droplevel(0).sort_index()[:train_data.shape[0]]\n",
    "ex_rm"
   ]
  },
  {
   "cell_type": "code",
   "execution_count": 319,
   "metadata": {},
   "outputs": [
    {
     "data": {
      "text/plain": [
       "0.8522090458996826"
      ]
     },
     "execution_count": 319,
     "metadata": {},
     "output_type": "execute_result"
    }
   ],
   "source": [
    "rmse(train_data.severity.sort_index(), ex_rm)"
   ]
  },
  {
   "cell_type": "code",
   "execution_count": 320,
   "metadata": {},
   "outputs": [
    {
     "name": "stdout",
     "output_type": "stream",
     "text": [
      "0\n",
      "RMSE: 1.4458981072190233\n"
     ]
    }
   ],
   "source": [
    "grp_by_rm = train_data.groupby(['region', 'month']).severity.mean()\n",
    "grp_by_rm = grp_by_rm.map(np.round)\n",
    "print(grp_by_rm.isna().sum())  # only 1 msising\n",
    "\n",
    "# print(grp_by_rm)\n",
    "avg_rm = grp_by_rm[train_data.region.sort_index()][train_data.month.sort_index()]\n",
    "\n",
    "print(\"RMSE:\", rmse(train_data.severity.sort_index(), avg_rm))"
   ]
  },
  {
   "cell_type": "code",
   "execution_count": 321,
   "metadata": {},
   "outputs": [
    {
     "data": {
      "text/plain": [
       "1.2369838142124905"
      ]
     },
     "execution_count": 321,
     "metadata": {},
     "output_type": "execute_result"
    }
   ],
   "source": [
    "rmse(ex_rm, avg_rm)"
   ]
  },
  {
   "cell_type": "code",
   "execution_count": 322,
   "metadata": {},
   "outputs": [
    {
     "data": {
      "text/plain": [
       "2.0    0.472802\n",
       "3.0    0.353458\n",
       "1.0    0.173740\n",
       "Name: severity, dtype: float64"
      ]
     },
     "execution_count": 322,
     "metadata": {},
     "output_type": "execute_result"
    }
   ],
   "source": [
    "avg_rm.value_counts(normalize=True)"
   ]
  },
  {
   "cell_type": "code",
   "execution_count": 323,
   "metadata": {},
   "outputs": [
    {
     "data": {
      "text/plain": [
       "2.0    0.526964\n",
       "1.0    0.225557\n",
       "4.0    0.199414\n",
       "3.0    0.048066\n",
       "Name: severity, dtype: float64"
      ]
     },
     "execution_count": 323,
     "metadata": {},
     "output_type": "execute_result"
    }
   ],
   "source": [
    "ex_rm.value_counts(normalize=True)"
   ]
  },
  {
   "cell_type": "code",
   "execution_count": 304,
   "metadata": {},
   "outputs": [
    {
     "data": {
      "text/plain": [
       "south        0.486169\n",
       "west         0.261179\n",
       "midwest      0.159737\n",
       "northeast    0.092915\n",
       "Name: region, dtype: float64"
      ]
     },
     "execution_count": 304,
     "metadata": {},
     "output_type": "execute_result"
    }
   ],
   "source": [
    "data.region.value_counts(normalize=True)"
   ]
  },
  {
   "cell_type": "code",
   "execution_count": 305,
   "metadata": {},
   "outputs": [
    {
     "data": {
      "text/plain": [
       "west         0.366667\n",
       "midwest      0.240399\n",
       "south        0.232104\n",
       "northeast    0.160829\n",
       "Name: region, dtype: float64"
      ]
     },
     "execution_count": 305,
     "metadata": {},
     "output_type": "execute_result"
    }
   ],
   "source": [
    "sub_format.region.value_counts(normalize=True)"
   ]
  },
  {
   "cell_type": "code",
   "execution_count": 225,
   "metadata": {},
   "outputs": [
    {
     "data": {
      "text/plain": [
       "south        0.583118\n",
       "west         0.220926\n",
       "midwest      0.128957\n",
       "northeast    0.066999\n",
       "Name: region, dtype: float64"
      ]
     },
     "execution_count": 225,
     "metadata": {},
     "output_type": "execute_result"
    }
   ],
   "source": [
    "train_data.region.value_counts(normalize=True)"
   ]
  },
  {
   "cell_type": "code",
   "execution_count": 313,
   "metadata": {},
   "outputs": [
    {
     "name": "stdout",
     "output_type": "stream",
     "text": [
      "0\n",
      "region   year       \n",
      "midwest  2013  89       1.0\n",
      "               110      1.0\n",
      "               198      1.0\n",
      "               330      1.0\n",
      "               368      1.0\n",
      "                       ... \n",
      "west     2021  23072    4.0\n",
      "               23343    4.0\n",
      "               23358    4.0\n",
      "               23367    4.0\n",
      "               23454    4.0\n",
      "Name: severity, Length: 17060, dtype: float64\n"
     ]
    },
    {
     "data": {
      "text/plain": [
       "0.8780573783482186"
      ]
     },
     "execution_count": 313,
     "metadata": {},
     "output_type": "execute_result"
    }
   ],
   "source": [
    "grp_by_ry = train_data.groupby(['region', 'year']).severity.expanding(1).mean()\n",
    "grp_by_ry = grp_by_ry.map(np.round)\n",
    "print(grp_by_ry.isna().sum())  # 23 missing values 0.8780573783482186\n",
    "print(grp_by_ry)\n",
    "\n",
    "ex_ry = grp_by_ry.droplevel(0).droplevel(0).sort_index()[:train_data.shape[0]]\n",
    "\n",
    "mse(train_data.severity.sort_index(), ex_ry, squared=False)"
   ]
  },
  {
   "cell_type": "code",
   "execution_count": 314,
   "metadata": {},
   "outputs": [
    {
     "name": "stdout",
     "output_type": "stream",
     "text": [
      "0\n"
     ]
    },
    {
     "data": {
      "text/plain": [
       "1.875928843790099"
      ]
     },
     "execution_count": 314,
     "metadata": {},
     "output_type": "execute_result"
    }
   ],
   "source": [
    "grp_by_ry = data.groupby(['region', 'year']).severity.mean()\n",
    "grp_by_ry = grp_by_ry.map(np.round)\n",
    "print(grp_by_ry.isna().sum())  # 0 missing values \n",
    "# print(grp_by_ry)\n",
    "\n",
    "avg_ry = grp_by_ry[train_data.region.sort_index()][train_data.year.sort_index()]\n",
    "\n",
    "rmse(train_data.severity.sort_index(), avg_ry)"
   ]
  },
  {
   "cell_type": "code",
   "execution_count": 311,
   "metadata": {},
   "outputs": [
    {
     "data": {
      "text/plain": [
       "4.0    0.597245\n",
       "2.0    0.302755\n",
       "3.0    0.100000\n",
       "Name: severity, dtype: float64"
      ]
     },
     "execution_count": 311,
     "metadata": {},
     "output_type": "execute_result"
    }
   ],
   "source": [
    "avg_ry.value_counts(normalize=True)"
   ]
  },
  {
   "cell_type": "code",
   "execution_count": 315,
   "metadata": {},
   "outputs": [
    {
     "data": {
      "text/plain": [
       "2.0    0.669109\n",
       "4.0    0.192028\n",
       "1.0    0.091970\n",
       "3.0    0.046835\n",
       "5.0    0.000059\n",
       "Name: severity, dtype: float64"
      ]
     },
     "execution_count": 315,
     "metadata": {},
     "output_type": "execute_result"
    }
   ],
   "source": [
    "ex_ry.value_counts(normalize=True)"
   ]
  },
  {
   "cell_type": "code",
   "execution_count": 325,
   "metadata": {},
   "outputs": [
    {
     "name": "stdout",
     "output_type": "stream",
     "text": [
      "0\n"
     ]
    },
    {
     "data": {
      "text/plain": [
       "0.8584795305291978"
      ]
     },
     "execution_count": 325,
     "metadata": {},
     "output_type": "execute_result"
    }
   ],
   "source": [
    "grp_by_rs = train_data.groupby(['region', 'season']).severity.expanding(1).mean()\n",
    "grp_by_rs = grp_by_rs.map(np.round)\n",
    "print(grp_by_rs.isna().sum()) # 13     0.8584795305291978\n",
    "\n",
    "mse(train_data.severity.sort_index(), grp_by_rs.droplevel(0).droplevel(0).sort_index()[:train_data.shape[0]], squared=False)"
   ]
  },
  {
   "cell_type": "code",
   "execution_count": 334,
   "metadata": {},
   "outputs": [
    {
     "name": "stdout",
     "output_type": "stream",
     "text": [
      "0\n",
      "region     season\n",
      "midwest    1         1.0\n",
      "           2         1.0\n",
      "           3         2.0\n",
      "           4         2.0\n",
      "northeast  1         2.0\n",
      "           2         1.0\n",
      "           3         2.0\n",
      "           4         2.0\n",
      "south      1         1.0\n",
      "           2         1.0\n",
      "           3         2.0\n",
      "           4         2.0\n",
      "west       1         4.0\n",
      "           2         4.0\n",
      "           3         4.0\n",
      "           4         4.0\n",
      "Name: severity, dtype: float64\n"
     ]
    },
    {
     "data": {
      "text/plain": [
       "1.3952061619942009"
      ]
     },
     "execution_count": 334,
     "metadata": {},
     "output_type": "execute_result"
    }
   ],
   "source": [
    "grp_by_rs = train_data.groupby(['region', 'season']).severity.mean()\n",
    "grp_by_rs = grp_by_rs.map(np.round)\n",
    "print(grp_by_rs.isna().sum())\n",
    "    \n",
    "print(grp_by_rs)\n",
    "\n",
    "rmse(train_data.severity.sort_index(), grp_by_rs[train_data.region][train_data.season])"
   ]
  },
  {
   "cell_type": "code",
   "execution_count": 344,
   "metadata": {},
   "outputs": [
    {
     "name": "stdout",
     "output_type": "stream",
     "text": [
      "0\n",
      "region     season\n",
      "midwest    1         1.0\n",
      "           2         1.0\n",
      "           3         2.0\n",
      "           4         2.0\n",
      "northeast  1         2.0\n",
      "           2         1.0\n",
      "           3         2.0\n",
      "           4         2.0\n",
      "south      1         1.0\n",
      "           2         1.0\n",
      "           3         2.0\n",
      "           4         2.0\n",
      "west       1         4.0\n",
      "           2         4.0\n",
      "           3         4.0\n",
      "           4         4.0\n",
      "Name: severity, dtype: float64\n"
     ]
    },
    {
     "data": {
      "text/plain": [
       "1.3952061619942009"
      ]
     },
     "execution_count": 344,
     "metadata": {},
     "output_type": "execute_result"
    }
   ],
   "source": [
    "grp_by_rs = train_data.groupby(['region', 'season']).severity.mean()\n",
    "grp_by_rs = grp_by_rs.map(np.round)\n",
    "print(grp_by_rs.isna().sum())\n",
    "\n",
    "print(grp_by_rs)\n",
    "\n",
    "rmse(train_data.severity.sort_index(), grp_by_rs[train_data.region][train_data.season])"
   ]
  },
  {
   "cell_type": "code",
   "execution_count": 422,
   "metadata": {},
   "outputs": [
    {
     "name": "stdout",
     "output_type": "stream",
     "text": [
      "0\n"
     ]
    }
   ],
   "source": [
    "grp_by_rd = train_data.groupby(['region', 'date']).severity.mean()\n",
    "grp_by_rd = grp_by_rd.map(np.round)\n",
    "print(grp_by_rd.isna().sum()) # 970 missing values \n",
    "  "
   ]
  },
  {
   "cell_type": "code",
   "execution_count": 423,
   "metadata": {},
   "outputs": [
    {
     "name": "stderr",
     "output_type": "stream",
     "text": [
      "100%|██████████| 17060/17060 [00:04<00:00, 3867.88it/s]\n"
     ]
    }
   ],
   "source": [
    "from tqdm import tqdm\n",
    "\n",
    "\n",
    "grp_by_rd_preds = []\n",
    "for row in tqdm(train_data.sort_index().itertuples(), total=train_data.shape[0]):\n",
    "    grp_by_rd_preds.append(grp_by_rd[row.region][row.date])"
   ]
  },
  {
   "cell_type": "code",
   "execution_count": 424,
   "metadata": {},
   "outputs": [
    {
     "data": {
      "text/plain": [
       "0.7077696421534655"
      ]
     },
     "execution_count": 424,
     "metadata": {},
     "output_type": "execute_result"
    }
   ],
   "source": [
    "rmse(train_data.severity.sort_index(), grp_by_rd_preds)"
   ]
  },
  {
   "attachments": {},
   "cell_type": "markdown",
   "metadata": {},
   "source": [
    "# Sooo....\n",
    "\n",
    "- Not satisfied with the avg severity score.\n",
    "\n",
    "# Todos :\n",
    "- Try ex and avg on density and see how it unfoldds?\n",
    "- Think of custom heurstic to predict severity (try with both sevrity and density)\n"
   ]
  },
  {
   "cell_type": "code",
   "execution_count": null,
   "metadata": {},
   "outputs": [],
   "source": []
  },
  {
   "cell_type": "code",
   "execution_count": null,
   "metadata": {},
   "outputs": [],
   "source": []
  },
  {
   "cell_type": "code",
   "execution_count": null,
   "metadata": {},
   "outputs": [],
   "source": []
  }
 ],
 "metadata": {
  "kernelspec": {
   "display_name": "Python 3",
   "language": "python",
   "name": "python3"
  },
  "language_info": {
   "codemirror_mode": {
    "name": "ipython",
    "version": 3
   },
   "file_extension": ".py",
   "mimetype": "text/x-python",
   "name": "python",
   "nbconvert_exporter": "python",
   "pygments_lexer": "ipython3",
   "version": "3.10.5"
  },
  "orig_nbformat": 4,
  "vscode": {
   "interpreter": {
    "hash": "186db977f413ae6598820b658aed1651932768522d0652c07d949b3f5fb38b63"
   }
  }
 },
 "nbformat": 4,
 "nbformat_minor": 2
}
