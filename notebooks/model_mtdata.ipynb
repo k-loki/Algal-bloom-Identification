{
 "cells": [
  {
   "attachments": {},
   "cell_type": "markdown",
   "metadata": {},
   "source": [
    "``Mission : Error Analysis & Model metadata``\n",
    "\n",
    "- Analyize past submissions and find out what went wrong! \n",
    "- One great heuristic is all I need now!\n"
   ]
  },
  {
   "attachments": {},
   "cell_type": "markdown",
   "metadata": {},
   "source": [
    "# Data and dependencies"
   ]
  },
  {
   "cell_type": "code",
   "execution_count": 259,
   "metadata": {},
   "outputs": [],
   "source": [
    "import warnings\n",
    "import sys\n",
    "import os\n",
    "import time\n",
    "import joblib\n",
    "import random\n",
    "from tqdm import tqdm\n",
    "from pprint import pprint\n",
    "\n",
    "import pandas as pd\n",
    "import numpy as np\n",
    "import matplotlib.pyplot as plt\n",
    "import seaborn as sns\n",
    "import cv2\n",
    "\n",
    "from sklearn.metrics import mean_squared_error as mse\n",
    "from sklearn.model_selection import train_test_split, StratifiedKFold\n",
    "from sklearn.pipeline import make_pipeline\n",
    "from sklearn.preprocessing import OrdinalEncoder\n",
    "\n",
    "from xgboost import XGBClassifier, XGBRegressor\n",
    "from lightgbm import LGBMClassifier, LGBMRegressor\n",
    "from catboost import CatBoostClassifier, CatBoostRegressor\n",
    "from sklearn.ensemble import RandomForestClassifier, RandomForestRegressor\n",
    "\n",
    "warnings.filterwarnings('ignore')"
   ]
  },
  {
   "cell_type": "code",
   "execution_count": 260,
   "metadata": {},
   "outputs": [],
   "source": [
    "metadata = pd.read_csv('../data/metadata.csv')\n",
    "sub_format = pd.read_csv('../data/submission_format.csv')\n",
    "train_labels = pd.read_csv('../data/train_labels.csv')"
   ]
  },
  {
   "cell_type": "code",
   "execution_count": 261,
   "metadata": {},
   "outputs": [],
   "source": [
    "def rmse(y_true, y_pred):\n",
    "    return mse(y_true, y_pred, squared=False)"
   ]
  },
  {
   "cell_type": "code",
   "execution_count": 45,
   "metadata": {},
   "outputs": [],
   "source": [
    "def dens_to_sev(x: float)-> int:\n",
    "    \"\"\"takes in density value in cells/ml and returns severity category\"\"\"\n",
    "    if (x < 20_000) : return 1\n",
    "    elif (x >= 20_000) and (x < 100_000) : return 2\n",
    "    elif (x >= 100_000) and (x < 1_000_000) : return 3\n",
    "    elif (x >= 1_000_000) and (x < 10_000_000) : return 4\n",
    "    elif x > 10_000_000 : return 5"
   ]
  },
  {
   "attachments": {},
   "cell_type": "markdown",
   "metadata": {},
   "source": [
    "# Add date fts"
   ]
  },
  {
   "cell_type": "code",
   "execution_count": 262,
   "metadata": {},
   "outputs": [
    {
     "data": {
      "text/html": [
       "<div>\n",
       "<style scoped>\n",
       "    .dataframe tbody tr th:only-of-type {\n",
       "        vertical-align: middle;\n",
       "    }\n",
       "\n",
       "    .dataframe tbody tr th {\n",
       "        vertical-align: top;\n",
       "    }\n",
       "\n",
       "    .dataframe thead th {\n",
       "        text-align: right;\n",
       "    }\n",
       "</style>\n",
       "<table border=\"1\" class=\"dataframe\">\n",
       "  <thead>\n",
       "    <tr style=\"text-align: right;\">\n",
       "      <th></th>\n",
       "      <th>uid</th>\n",
       "      <th>latitude</th>\n",
       "      <th>longitude</th>\n",
       "      <th>date</th>\n",
       "      <th>split</th>\n",
       "      <th>year</th>\n",
       "      <th>month</th>\n",
       "      <th>week</th>\n",
       "      <th>season</th>\n",
       "      <th>region</th>\n",
       "      <th>severity</th>\n",
       "      <th>density</th>\n",
       "    </tr>\n",
       "  </thead>\n",
       "  <tbody>\n",
       "    <tr>\n",
       "      <th>0</th>\n",
       "      <td>aabm</td>\n",
       "      <td>39.080319</td>\n",
       "      <td>-86.430867</td>\n",
       "      <td>2018-05-14</td>\n",
       "      <td>train</td>\n",
       "      <td>2018</td>\n",
       "      <td>5</td>\n",
       "      <td>20</td>\n",
       "      <td>2</td>\n",
       "      <td>midwest</td>\n",
       "      <td>1.0</td>\n",
       "      <td>585.0</td>\n",
       "    </tr>\n",
       "    <tr>\n",
       "      <th>1</th>\n",
       "      <td>aabn</td>\n",
       "      <td>36.559700</td>\n",
       "      <td>-121.510000</td>\n",
       "      <td>2016-08-31</td>\n",
       "      <td>test</td>\n",
       "      <td>2016</td>\n",
       "      <td>8</td>\n",
       "      <td>35</td>\n",
       "      <td>3</td>\n",
       "      <td>west</td>\n",
       "      <td>NaN</td>\n",
       "      <td>NaN</td>\n",
       "    </tr>\n",
       "    <tr>\n",
       "      <th>2</th>\n",
       "      <td>aacd</td>\n",
       "      <td>35.875083</td>\n",
       "      <td>-78.878434</td>\n",
       "      <td>2020-11-19</td>\n",
       "      <td>train</td>\n",
       "      <td>2020</td>\n",
       "      <td>11</td>\n",
       "      <td>47</td>\n",
       "      <td>4</td>\n",
       "      <td>south</td>\n",
       "      <td>1.0</td>\n",
       "      <td>290.0</td>\n",
       "    </tr>\n",
       "    <tr>\n",
       "      <th>3</th>\n",
       "      <td>aaee</td>\n",
       "      <td>35.487000</td>\n",
       "      <td>-79.062133</td>\n",
       "      <td>2016-08-24</td>\n",
       "      <td>train</td>\n",
       "      <td>2016</td>\n",
       "      <td>8</td>\n",
       "      <td>34</td>\n",
       "      <td>3</td>\n",
       "      <td>south</td>\n",
       "      <td>1.0</td>\n",
       "      <td>1614.0</td>\n",
       "    </tr>\n",
       "    <tr>\n",
       "      <th>4</th>\n",
       "      <td>aaff</td>\n",
       "      <td>38.049471</td>\n",
       "      <td>-99.827001</td>\n",
       "      <td>2019-07-23</td>\n",
       "      <td>train</td>\n",
       "      <td>2019</td>\n",
       "      <td>7</td>\n",
       "      <td>30</td>\n",
       "      <td>3</td>\n",
       "      <td>midwest</td>\n",
       "      <td>3.0</td>\n",
       "      <td>111825.0</td>\n",
       "    </tr>\n",
       "    <tr>\n",
       "      <th>...</th>\n",
       "      <td>...</td>\n",
       "      <td>...</td>\n",
       "      <td>...</td>\n",
       "      <td>...</td>\n",
       "      <td>...</td>\n",
       "      <td>...</td>\n",
       "      <td>...</td>\n",
       "      <td>...</td>\n",
       "      <td>...</td>\n",
       "      <td>...</td>\n",
       "      <td>...</td>\n",
       "      <td>...</td>\n",
       "    </tr>\n",
       "    <tr>\n",
       "      <th>23565</th>\n",
       "      <td>zzvv</td>\n",
       "      <td>36.708500</td>\n",
       "      <td>-121.749000</td>\n",
       "      <td>2014-12-02</td>\n",
       "      <td>test</td>\n",
       "      <td>2014</td>\n",
       "      <td>12</td>\n",
       "      <td>49</td>\n",
       "      <td>1</td>\n",
       "      <td>west</td>\n",
       "      <td>NaN</td>\n",
       "      <td>NaN</td>\n",
       "    </tr>\n",
       "    <tr>\n",
       "      <th>23566</th>\n",
       "      <td>zzwo</td>\n",
       "      <td>39.792190</td>\n",
       "      <td>-99.971050</td>\n",
       "      <td>2017-06-19</td>\n",
       "      <td>train</td>\n",
       "      <td>2017</td>\n",
       "      <td>6</td>\n",
       "      <td>25</td>\n",
       "      <td>3</td>\n",
       "      <td>midwest</td>\n",
       "      <td>2.0</td>\n",
       "      <td>48510.0</td>\n",
       "    </tr>\n",
       "    <tr>\n",
       "      <th>23567</th>\n",
       "      <td>zzwq</td>\n",
       "      <td>35.794000</td>\n",
       "      <td>-79.012551</td>\n",
       "      <td>2015-03-24</td>\n",
       "      <td>train</td>\n",
       "      <td>2015</td>\n",
       "      <td>3</td>\n",
       "      <td>13</td>\n",
       "      <td>2</td>\n",
       "      <td>south</td>\n",
       "      <td>1.0</td>\n",
       "      <td>1271.0</td>\n",
       "    </tr>\n",
       "    <tr>\n",
       "      <th>23568</th>\n",
       "      <td>zzyb</td>\n",
       "      <td>35.742000</td>\n",
       "      <td>-79.238600</td>\n",
       "      <td>2016-11-21</td>\n",
       "      <td>train</td>\n",
       "      <td>2016</td>\n",
       "      <td>11</td>\n",
       "      <td>47</td>\n",
       "      <td>4</td>\n",
       "      <td>south</td>\n",
       "      <td>1.0</td>\n",
       "      <td>9682.0</td>\n",
       "    </tr>\n",
       "    <tr>\n",
       "      <th>23569</th>\n",
       "      <td>zzzi</td>\n",
       "      <td>39.767323</td>\n",
       "      <td>-96.028617</td>\n",
       "      <td>2015-08-31</td>\n",
       "      <td>test</td>\n",
       "      <td>2015</td>\n",
       "      <td>8</td>\n",
       "      <td>36</td>\n",
       "      <td>3</td>\n",
       "      <td>midwest</td>\n",
       "      <td>NaN</td>\n",
       "      <td>NaN</td>\n",
       "    </tr>\n",
       "  </tbody>\n",
       "</table>\n",
       "<p>23570 rows × 12 columns</p>\n",
       "</div>"
      ],
      "text/plain": [
       "        uid   latitude   longitude       date  split  year  month  week  \\\n",
       "0      aabm  39.080319  -86.430867 2018-05-14  train  2018      5    20   \n",
       "1      aabn  36.559700 -121.510000 2016-08-31   test  2016      8    35   \n",
       "2      aacd  35.875083  -78.878434 2020-11-19  train  2020     11    47   \n",
       "3      aaee  35.487000  -79.062133 2016-08-24  train  2016      8    34   \n",
       "4      aaff  38.049471  -99.827001 2019-07-23  train  2019      7    30   \n",
       "...     ...        ...         ...        ...    ...   ...    ...   ...   \n",
       "23565  zzvv  36.708500 -121.749000 2014-12-02   test  2014     12    49   \n",
       "23566  zzwo  39.792190  -99.971050 2017-06-19  train  2017      6    25   \n",
       "23567  zzwq  35.794000  -79.012551 2015-03-24  train  2015      3    13   \n",
       "23568  zzyb  35.742000  -79.238600 2016-11-21  train  2016     11    47   \n",
       "23569  zzzi  39.767323  -96.028617 2015-08-31   test  2015      8    36   \n",
       "\n",
       "       season   region  severity   density  \n",
       "0           2  midwest       1.0     585.0  \n",
       "1           3     west       NaN       NaN  \n",
       "2           4    south       1.0     290.0  \n",
       "3           3    south       1.0    1614.0  \n",
       "4           3  midwest       3.0  111825.0  \n",
       "...       ...      ...       ...       ...  \n",
       "23565       1     west       NaN       NaN  \n",
       "23566       3  midwest       2.0   48510.0  \n",
       "23567       2    south       1.0    1271.0  \n",
       "23568       4    south       1.0    9682.0  \n",
       "23569       3  midwest       NaN       NaN  \n",
       "\n",
       "[23570 rows x 12 columns]"
      ]
     },
     "execution_count": 262,
     "metadata": {},
     "output_type": "execute_result"
    }
   ],
   "source": [
    "metadata.date = pd.to_datetime(metadata.date)\n",
    "metadata['year'] = metadata.date.dt.year\n",
    "metadata['month'] = metadata.date.dt.month\n",
    "metadata['week'] = metadata.date.dt.isocalendar().week\n",
    "\n",
    "\n",
    "seasons = {\n",
    "    1: 1,\n",
    "    2: 1,\n",
    "    3: 2,\n",
    "    4: 2,\n",
    "    5: 2,\n",
    "    6: 3,\n",
    "    7: 3,\n",
    "    8: 3,\n",
    "    9: 4,\n",
    "    10: 4,\n",
    "    11: 4,\n",
    "    12: 1\n",
    "}\n",
    "\n",
    "metadata['season'] = metadata.month.map(seasons)\n",
    "\n",
    "\n",
    "region = pd.concat((train_labels, sub_format[['region', 'uid']]), axis=0)\n",
    "\n",
    "data = pd.merge(metadata, region, on='uid', how='left')\n",
    "data"
   ]
  },
  {
   "cell_type": "code",
   "execution_count": 263,
   "metadata": {},
   "outputs": [
    {
     "data": {
      "text/plain": [
       "((17060, 12), (23570, 12))"
      ]
     },
     "execution_count": 263,
     "metadata": {},
     "output_type": "execute_result"
    }
   ],
   "source": [
    "train_data = data[data.split == 'train']\n",
    "train_data.shape, data.shape"
   ]
  },
  {
   "cell_type": "code",
   "execution_count": 73,
   "metadata": {},
   "outputs": [
    {
     "data": {
      "text/plain": [
       "2.1459554513481827"
      ]
     },
     "execution_count": 73,
     "metadata": {},
     "output_type": "execute_result"
    }
   ],
   "source": [
    "train_data.severity.mean()"
   ]
  },
  {
   "cell_type": "code",
   "execution_count": 68,
   "metadata": {},
   "outputs": [
    {
     "data": {
      "text/plain": [
       "4"
      ]
     },
     "execution_count": 68,
     "metadata": {},
     "output_type": "execute_result"
    }
   ],
   "source": [
    "dens_to_sev(train_data.density.mean())"
   ]
  },
  {
   "attachments": {},
   "cell_type": "markdown",
   "metadata": {},
   "source": [
    "### Expanding density"
   ]
  },
  {
   "cell_type": "code",
   "execution_count": 75,
   "metadata": {},
   "outputs": [
    {
     "name": "stdout",
     "output_type": "stream",
     "text": [
      "region        \n",
      "midwest  0        1\n",
      "         4        2\n",
      "         5        3\n",
      "         13       3\n",
      "         25       3\n",
      "                 ..\n",
      "west     23530    4\n",
      "         23536    4\n",
      "         23548    4\n",
      "         23552    4\n",
      "         23558    4\n",
      "Name: density, Length: 17060, dtype: int64\n",
      "0\n"
     ]
    },
    {
     "data": {
      "text/plain": [
       "1.1069957655083684"
      ]
     },
     "execution_count": 75,
     "metadata": {},
     "output_type": "execute_result"
    }
   ],
   "source": [
    "# expanding density by reg\n",
    "grp_by_region = train_data.groupby('region').density.expanding(1).mean()\n",
    "grp_by_region = grp_by_region.map(dens_to_sev)\n",
    "print(grp_by_region)\n",
    "print(grp_by_region.isna().sum())  # 5\n",
    "\n",
    "rmse(train_data.severity.sort_index(), grp_by_region.droplevel(0).sort_index()[:train_data.shape[0]])"
   ]
  },
  {
   "cell_type": "code",
   "execution_count": 77,
   "metadata": {},
   "outputs": [
    {
     "name": "stdout",
     "output_type": "stream",
     "text": [
      "season       \n",
      "1       28       1\n",
      "        36       4\n",
      "        39       4\n",
      "        42       4\n",
      "        78       4\n",
      "                ..\n",
      "4       23543    4\n",
      "        23546    4\n",
      "        23554    4\n",
      "        23555    4\n",
      "        23568    4\n",
      "Name: density, Length: 17060, dtype: int64\n",
      "0\n"
     ]
    },
    {
     "data": {
      "text/plain": [
       "1.8149761252664516"
      ]
     },
     "execution_count": 77,
     "metadata": {},
     "output_type": "execute_result"
    }
   ],
   "source": [
    "# expanding density by season\n",
    "grp_by_season = train_data.groupby('season').density.expanding(1).mean()\n",
    "grp_by_season = grp_by_season.map(dens_to_sev)\n",
    "print(grp_by_season)\n",
    "print(grp_by_season.isna().sum())  # 3\n",
    "\n",
    "rmse(train_data.severity.sort_index(), grp_by_season.droplevel(0).sort_index()[:train_data.shape[0]])"
   ]
  },
  {
   "cell_type": "code",
   "execution_count": 66,
   "metadata": {},
   "outputs": [
    {
     "data": {
      "text/plain": [
       "3    9472\n",
       "4    7570\n",
       "1      12\n",
       "2       6\n",
       "Name: density, dtype: int64"
      ]
     },
     "execution_count": 66,
     "metadata": {},
     "output_type": "execute_result"
    }
   ],
   "source": [
    "grp_by_season.value_counts()"
   ]
  },
  {
   "cell_type": "code",
   "execution_count": 79,
   "metadata": {},
   "outputs": [
    {
     "name": "stdout",
     "output_type": "stream",
     "text": [
      "month       \n",
      "1      36       4\n",
      "       39       4\n",
      "       42       4\n",
      "       106      4\n",
      "       188      4\n",
      "               ..\n",
      "12     23281    4\n",
      "       23365    4\n",
      "       23425    4\n",
      "       23481    4\n",
      "       23550    4\n",
      "Name: density, Length: 17060, dtype: int64\n",
      "0\n"
     ]
    },
    {
     "data": {
      "text/plain": [
       "1.7001482591719168"
      ]
     },
     "execution_count": 79,
     "metadata": {},
     "output_type": "execute_result"
    }
   ],
   "source": [
    "# expanding density by month\n",
    "grp_by_month = train_data.groupby('month').density.expanding(1).mean()\n",
    "grp_by_month = grp_by_month.map(dens_to_sev)\n",
    "print(grp_by_month)\n",
    "print(grp_by_month.isna().sum()) # 8\n",
    "\n",
    "rmse(train_data.severity.sort_index(), grp_by_month.droplevel(0).sort_index()[:train_data.shape[0]])"
   ]
  },
  {
   "cell_type": "code",
   "execution_count": 64,
   "metadata": {},
   "outputs": [
    {
     "data": {
      "text/plain": [
       "3    11698\n",
       "4     5325\n",
       "1       24\n",
       "2       13\n",
       "Name: density, dtype: int64"
      ]
     },
     "execution_count": 64,
     "metadata": {},
     "output_type": "execute_result"
    }
   ],
   "source": [
    "grp_by_month.value_counts()"
   ]
  },
  {
   "cell_type": "code",
   "execution_count": 80,
   "metadata": {},
   "outputs": [
    {
     "name": "stdout",
     "output_type": "stream",
     "text": [
      "year       \n",
      "2013  10       2\n",
      "      22       3\n",
      "      27       3\n",
      "      42       3\n",
      "      55       4\n",
      "              ..\n",
      "2021  23503    4\n",
      "      23510    4\n",
      "      23529    4\n",
      "      23546    4\n",
      "      23561    4\n",
      "Name: density, Length: 17060, dtype: int64\n",
      "0\n"
     ]
    },
    {
     "data": {
      "text/plain": [
       "1.8505409367261816"
      ]
     },
     "execution_count": 80,
     "metadata": {},
     "output_type": "execute_result"
    }
   ],
   "source": [
    "# expanding density by year\n",
    "grp_by_year = train_data.groupby('year').density.expanding(1).mean()\n",
    "grp_by_year = grp_by_year.map(dens_to_sev)\n",
    "print(grp_by_year)\n",
    "print(grp_by_year.isna().sum()) # 8\n",
    "\n",
    "rmse(train_data.severity.sort_index(), grp_by_year.droplevel(0).sort_index()[:train_data.shape[0]])"
   ]
  },
  {
   "cell_type": "code",
   "execution_count": 84,
   "metadata": {},
   "outputs": [
    {
     "name": "stdout",
     "output_type": "stream",
     "text": [
      "0\n",
      "region   month       \n",
      "midwest  1      4387     1\n",
      "                5317     1\n",
      "                5566     1\n",
      "                6144     1\n",
      "                13644    1\n",
      "                        ..\n",
      "west     12     22176    4\n",
      "                22363    4\n",
      "                22467    4\n",
      "                22572    4\n",
      "                23269    4\n",
      "Name: density, Length: 17060, dtype: int64\n"
     ]
    },
    {
     "data": {
      "text/plain": [
       "1.107313426550492"
      ]
     },
     "execution_count": 84,
     "metadata": {},
     "output_type": "execute_result"
    }
   ],
   "source": [
    "# expanding density by region and month\n",
    "grp_by_rm = train_data.groupby(['region', 'month']).density.expanding(1).mean()\n",
    "grp_by_rm = grp_by_rm.map(dens_to_sev)\n",
    "print(grp_by_rm.isna().sum())   # 30\n",
    "print(grp_by_rm) \n",
    "\n",
    "mse(train_data.severity.sort_index(), grp_by_rm.droplevel(0).droplevel(0).sort_index()[:train_data.shape[0]], squared=False)"
   ]
  },
  {
   "cell_type": "code",
   "execution_count": 86,
   "metadata": {},
   "outputs": [
    {
     "name": "stdout",
     "output_type": "stream",
     "text": [
      "0\n",
      "region   season       \n",
      "midwest  1       815      3\n",
      "                 3473     3\n",
      "                 4387     3\n",
      "                 5317     2\n",
      "                 5566     2\n",
      "                         ..\n",
      "west     4       23437    4\n",
      "                 23440    4\n",
      "                 23500    4\n",
      "                 23512    4\n",
      "                 23521    4\n",
      "Name: density, Length: 17060, dtype: int64\n"
     ]
    },
    {
     "data": {
      "text/plain": [
       "1.0950437207221835"
      ]
     },
     "execution_count": 86,
     "metadata": {},
     "output_type": "execute_result"
    }
   ],
   "source": [
    "# expanding density by region and season\n",
    "grp_by_rs = train_data.groupby(['region', 'season']).density.expanding(1).mean()\n",
    "grp_by_rs = grp_by_rs.map(dens_to_sev)\n",
    "print(grp_by_rs.isna().sum())   # 30\n",
    "print(grp_by_rs) \n",
    "\n",
    "mse(train_data.severity.sort_index(), grp_by_rs.droplevel(0).droplevel(0).sort_index()[:train_data.shape[0]], squared=False)"
   ]
  },
  {
   "cell_type": "code",
   "execution_count": 89,
   "metadata": {},
   "outputs": [
    {
     "name": "stdout",
     "output_type": "stream",
     "text": [
      "0\n",
      "region   year       \n",
      "midwest  2013  89       1\n",
      "               110      1\n",
      "               198      1\n",
      "               330      1\n",
      "               368      1\n",
      "                       ..\n",
      "west     2021  23072    4\n",
      "               23343    4\n",
      "               23358    4\n",
      "               23367    4\n",
      "               23454    4\n",
      "Name: density, Length: 17060, dtype: int64\n"
     ]
    },
    {
     "data": {
      "text/plain": [
       "1.1178242557857554"
      ]
     },
     "execution_count": 89,
     "metadata": {},
     "output_type": "execute_result"
    }
   ],
   "source": [
    "# expanding density by region and year\n",
    "grp_by_ry = train_data.groupby(['region', 'year']).density.expanding(1).mean()\n",
    "grp_by_ry = grp_by_ry.map(dens_to_sev)\n",
    "print(grp_by_ry.isna().sum())   # 23\n",
    "print(grp_by_ry) \n",
    "\n",
    "mse(train_data.severity.sort_index(), grp_by_ry.droplevel(0).droplevel(0).sort_index()[:train_data.shape[0]], squared=False)"
   ]
  },
  {
   "cell_type": "code",
   "execution_count": 90,
   "metadata": {},
   "outputs": [
    {
     "name": "stdout",
     "output_type": "stream",
     "text": [
      "0\n",
      "year  month       \n",
      "2013  1      42       3\n",
      "             188      3\n",
      "             1126     4\n",
      "             1178     4\n",
      "             1989     4\n",
      "                     ..\n",
      "2021  12     20763    3\n",
      "             21349    3\n",
      "             22641    3\n",
      "             23159    3\n",
      "             23365    3\n",
      "Name: density, Length: 17060, dtype: int64\n"
     ]
    },
    {
     "data": {
      "text/plain": [
       "1.726474767581316"
      ]
     },
     "execution_count": 90,
     "metadata": {},
     "output_type": "execute_result"
    }
   ],
   "source": [
    "# expanding density by month and year\n",
    "grp_by_ym = train_data.groupby(['year', 'month']).density.expanding(1).mean()\n",
    "grp_by_ym = grp_by_ym.map(dens_to_sev)\n",
    "print(grp_by_ym.isna().sum())   # 23\n",
    "print(grp_by_ym) \n",
    "\n",
    "mse(train_data.severity.sort_index(), grp_by_ym.droplevel(0).droplevel(0).sort_index()[:train_data.shape[0]], squared=False)"
   ]
  },
  {
   "cell_type": "code",
   "execution_count": 96,
   "metadata": {},
   "outputs": [
    {
     "name": "stdout",
     "output_type": "stream",
     "text": [
      "0\n",
      "region   week       \n",
      "midwest  1     4387     1\n",
      "               5317     1\n",
      "               5566     1\n",
      "               6144     1\n",
      "               13644    1\n",
      "                       ..\n",
      "west     52    9747     4\n",
      "               13741    4\n",
      "               16733    4\n",
      "               20157    4\n",
      "               20551    4\n",
      "Name: density, Length: 17060, dtype: int64\n"
     ]
    },
    {
     "data": {
      "text/plain": [
       "1.0854737324853108"
      ]
     },
     "execution_count": 96,
     "metadata": {},
     "output_type": "execute_result"
    }
   ],
   "source": [
    "# expanding density by region and week\n",
    "grp_by_rw = train_data.groupby(['region', 'week']).density.expanding(1).mean()\n",
    "grp_by_rw = grp_by_rw.map(dens_to_sev)\n",
    "print(grp_by_rw.isna().sum())   # 254\n",
    "print(grp_by_rw) \n",
    "\n",
    "mse(train_data.severity.sort_index(), grp_by_rw.droplevel(0).droplevel(0).sort_index()[:train_data.shape[0]], squared=False)"
   ]
  },
  {
   "cell_type": "code",
   "execution_count": 99,
   "metadata": {},
   "outputs": [
    {
     "name": "stdout",
     "output_type": "stream",
     "text": [
      "0\n",
      "region   date             \n",
      "midwest  2013-01-04  4387     1\n",
      "                     5317     1\n",
      "                     5566     1\n",
      "                     6144     1\n",
      "                     13644    1\n",
      "                             ..\n",
      "west     2021-10-26  18375    4\n",
      "                     21479    4\n",
      "         2021-10-28  19662    4\n",
      "         2021-11-29  20822    4\n",
      "         2021-12-13  5806     4\n",
      "Name: density, Length: 17060, dtype: int64\n"
     ]
    },
    {
     "data": {
      "text/plain": [
       "0.8200305944597076"
      ]
     },
     "execution_count": 99,
     "metadata": {},
     "output_type": "execute_result"
    }
   ],
   "source": [
    "# expanding density by region and date\n",
    "grp_by_rd = train_data.groupby(['region', 'date']).density.expanding(1).mean()\n",
    "grp_by_rd = grp_by_rd.map(dens_to_sev)\n",
    "print(grp_by_rd.isna().sum())   # 3816\n",
    "print(grp_by_rd) \n",
    "\n",
    "mse(train_data.severity.sort_index(), grp_by_rd.droplevel(0).droplevel(0).sort_index()[:train_data.shape[0]], squared=False)"
   ]
  },
  {
   "cell_type": "code",
   "execution_count": null,
   "metadata": {},
   "outputs": [],
   "source": []
  },
  {
   "cell_type": "code",
   "execution_count": null,
   "metadata": {},
   "outputs": [],
   "source": []
  },
  {
   "cell_type": "code",
   "execution_count": null,
   "metadata": {},
   "outputs": [],
   "source": []
  },
  {
   "cell_type": "code",
   "execution_count": null,
   "metadata": {},
   "outputs": [],
   "source": []
  },
  {
   "cell_type": "code",
   "execution_count": null,
   "metadata": {},
   "outputs": [],
   "source": []
  },
  {
   "attachments": {},
   "cell_type": "markdown",
   "metadata": {},
   "source": [
    "## Avg densities\n",
    "\n",
    "- and wt. or latest picking heuristics is better than avg"
   ]
  },
  {
   "cell_type": "code",
   "execution_count": 111,
   "metadata": {},
   "outputs": [
    {
     "name": "stdout",
     "output_type": "stream",
     "text": [
      "region\n",
      "midwest      4\n",
      "northeast    3\n",
      "south        2\n",
      "west         4\n",
      "Name: density, dtype: int64\n",
      "0\n",
      "RMSE: 1.1442552367777556\n"
     ]
    }
   ],
   "source": [
    "#  avg density by region  \n",
    "grp_by_region = train_data.groupby('region').density.mean()\n",
    "grp_by_region = grp_by_region.map(dens_to_sev)\n",
    "print(grp_by_region)\n",
    "print(grp_by_region.isna().sum()) # 0\n",
    "\n",
    "print(\"RMSE:\", rmse(train_data.severity, grp_by_region[train_data.region]))"
   ]
  },
  {
   "cell_type": "code",
   "execution_count": 109,
   "metadata": {},
   "outputs": [
    {
     "name": "stdout",
     "output_type": "stream",
     "text": [
      "month\n",
      "1     4\n",
      "2     4\n",
      "3     4\n",
      "4     4\n",
      "5     3\n",
      "6     3\n",
      "7     3\n",
      "8     3\n",
      "9     3\n",
      "10    4\n",
      "11    4\n",
      "12    4\n",
      "Name: density, dtype: int64\n",
      "0\n",
      "RMSE: 1.7213744882960893\n"
     ]
    }
   ],
   "source": [
    "#  avg density by month  \n",
    "grp_by_month = train_data.groupby('month').density.mean()\n",
    "grp_by_month = grp_by_month.map(dens_to_sev)\n",
    "print(grp_by_month)\n",
    "print(grp_by_month.isna().sum())  # 0\n",
    "\n",
    "print(\"RMSE:\", rmse(train_data.severity, grp_by_month[train_data.month]))"
   ]
  },
  {
   "cell_type": "code",
   "execution_count": 107,
   "metadata": {},
   "outputs": [
    {
     "name": "stdout",
     "output_type": "stream",
     "text": [
      "year\n",
      "2013    3\n",
      "2014    4\n",
      "2015    4\n",
      "2016    3\n",
      "2017    3\n",
      "2018    4\n",
      "2019    4\n",
      "2020    3\n",
      "2021    4\n",
      "Name: density, dtype: int64\n",
      "0\n",
      "RMSE: 1.8946614702243347\n"
     ]
    }
   ],
   "source": [
    "#  avg density by year  \n",
    "grp_by_year = train_data.groupby('year').density.mean()\n",
    "grp_by_year = grp_by_year.map(dens_to_sev)\n",
    "print(grp_by_year)\n",
    "print(grp_by_year.isna().sum())  # 0\n",
    "\n",
    "print(\"RMSE:\", rmse(train_data.severity, grp_by_year[train_data.year]))"
   ]
  },
  {
   "cell_type": "code",
   "execution_count": 112,
   "metadata": {},
   "outputs": [
    {
     "name": "stdout",
     "output_type": "stream",
     "text": [
      "season\n",
      "1    4\n",
      "2    4\n",
      "3    3\n",
      "4    4\n",
      "Name: density, dtype: int64\n",
      "0\n",
      "RMSE: 1.8878273611136387\n"
     ]
    }
   ],
   "source": [
    "#  avg density by season  \n",
    "grp_by_season = train_data.groupby('season').density.mean()\n",
    "grp_by_season = grp_by_season.map(dens_to_sev)\n",
    "print(grp_by_season)\n",
    "print(grp_by_season.isna().sum())\n",
    "\n",
    "print(\"RMSE:\", rmse(train_data.severity, grp_by_season[train_data.season]))"
   ]
  },
  {
   "cell_type": "code",
   "execution_count": 113,
   "metadata": {},
   "outputs": [
    {
     "name": "stdout",
     "output_type": "stream",
     "text": [
      "week\n",
      "1     4\n",
      "2     4\n",
      "3     4\n",
      "4     4\n",
      "5     3\n",
      "6     4\n",
      "7     4\n",
      "8     4\n",
      "9     4\n",
      "10    4\n",
      "11    4\n",
      "12    4\n",
      "13    3\n",
      "14    3\n",
      "15    4\n",
      "16    4\n",
      "17    3\n",
      "18    3\n",
      "19    3\n",
      "20    4\n",
      "21    3\n",
      "22    3\n",
      "23    3\n",
      "24    4\n",
      "25    3\n",
      "26    3\n",
      "27    3\n",
      "28    4\n",
      "29    4\n",
      "30    3\n",
      "31    3\n",
      "32    3\n",
      "33    4\n",
      "34    3\n",
      "35    3\n",
      "36    3\n",
      "37    4\n",
      "38    3\n",
      "39    3\n",
      "40    3\n",
      "41    4\n",
      "42    3\n",
      "43    4\n",
      "44    4\n",
      "45    3\n",
      "46    3\n",
      "47    4\n",
      "48    3\n",
      "49    4\n",
      "50    3\n",
      "51    4\n",
      "52    4\n",
      "Name: density, dtype: int64\n",
      "0\n",
      "RMSE: 1.7796887117984135\n"
     ]
    }
   ],
   "source": [
    "#  avg density by week  \n",
    "grp_by_week = train_data.groupby('week').density.mean()\n",
    "grp_by_week = grp_by_week.map(dens_to_sev)\n",
    "print(grp_by_week)\n",
    "print(grp_by_week.isna().sum())\n",
    "\n",
    "print(\"RMSE:\", rmse(train_data.severity, grp_by_week[train_data.week]))"
   ]
  },
  {
   "cell_type": "code",
   "execution_count": 117,
   "metadata": {},
   "outputs": [
    {
     "name": "stdout",
     "output_type": "stream",
     "text": [
      "0\n",
      "region     month\n",
      "midwest    1        1\n",
      "           2        2\n",
      "           3        1\n",
      "           4        1\n",
      "           5        3\n",
      "           6        4\n",
      "           7        3\n",
      "           8        3\n",
      "           9        4\n",
      "           10       4\n",
      "           11       2\n",
      "           12       3\n",
      "northeast  3        1\n",
      "           4        3\n",
      "           5        4\n",
      "           6        2\n",
      "           7        3\n",
      "           8        3\n",
      "           9        3\n",
      "           10       3\n",
      "           11       2\n",
      "           12       3\n",
      "south      1        2\n",
      "           2        2\n",
      "           3        2\n",
      "           4        2\n",
      "           5        2\n",
      "           6        2\n",
      "           7        3\n",
      "           8        3\n",
      "           9        3\n",
      "           10       3\n",
      "           11       3\n",
      "           12       2\n",
      "west       1        4\n",
      "           2        4\n",
      "           3        4\n",
      "           4        4\n",
      "           5        4\n",
      "           6        4\n",
      "           7        4\n",
      "           8        4\n",
      "           9        4\n",
      "           10       4\n",
      "           11       4\n",
      "           12       4\n",
      "Name: density, dtype: int64\n"
     ]
    },
    {
     "data": {
      "text/plain": [
       "1.8265657177389558"
      ]
     },
     "execution_count": 117,
     "metadata": {},
     "output_type": "execute_result"
    }
   ],
   "source": [
    "grp_by_rm = train_data.groupby(['region', 'month']).density.mean()\n",
    "grp_by_rm = grp_by_rm.map(dens_to_sev)\n",
    "print(grp_by_rm.isna().sum())  # 1 missing values 0.8522090458996826\n",
    "print(grp_by_rm)\n",
    "\n",
    "mse(train_data.severity.sort_index(), grp_by_rm[train_data.region.sort_index()][train_data.month.sort_index()], squared=False)"
   ]
  },
  {
   "cell_type": "code",
   "execution_count": 121,
   "metadata": {},
   "outputs": [
    {
     "name": "stdout",
     "output_type": "stream",
     "text": [
      "0\n",
      "region     season\n",
      "midwest    1         2\n",
      "           2         3\n",
      "           3         3\n",
      "           4         4\n",
      "northeast  1         3\n",
      "           2         3\n",
      "           3         3\n",
      "           4         3\n",
      "south      1         2\n",
      "           2         2\n",
      "           3         2\n",
      "           4         3\n",
      "west       1         4\n",
      "           2         4\n",
      "           3         4\n",
      "           4         4\n",
      "Name: density, dtype: int64\n"
     ]
    },
    {
     "data": {
      "text/plain": [
       "1.8264854880298358"
      ]
     },
     "execution_count": 121,
     "metadata": {},
     "output_type": "execute_result"
    }
   ],
   "source": [
    "grp_by_rs = data.groupby(['region', 'season']).density.mean()\n",
    "grp_by_rs = grp_by_rs.map(dens_to_sev)\n",
    "print(grp_by_rs.isna().sum())  # 1 missing values 0.8522090458996826\n",
    "print(grp_by_rs)\n",
    "\n",
    "mse(train_data.severity.sort_index(), grp_by_rs[train_data.region.sort_index()][train_data.season.sort_index()], squared=False)"
   ]
  },
  {
   "cell_type": "code",
   "execution_count": 123,
   "metadata": {},
   "outputs": [
    {
     "name": "stdout",
     "output_type": "stream",
     "text": [
      "0\n",
      "region     year\n",
      "midwest    2013    4\n",
      "           2014    4\n",
      "           2015    4\n",
      "           2016    3\n",
      "           2017    3\n",
      "           2018    4\n",
      "           2019    3\n",
      "           2020    3\n",
      "           2021    3\n",
      "northeast  2013    2\n",
      "           2014    2\n",
      "           2015    3\n",
      "           2016    3\n",
      "           2017    3\n",
      "           2018    3\n",
      "           2019    3\n",
      "           2020    3\n",
      "           2021    3\n",
      "south      2013    2\n",
      "           2014    2\n",
      "           2015    3\n",
      "           2016    2\n",
      "           2017    3\n",
      "           2018    2\n",
      "           2019    2\n",
      "           2020    2\n",
      "           2021    2\n",
      "west       2013    4\n",
      "           2014    4\n",
      "           2015    4\n",
      "           2016    4\n",
      "           2017    4\n",
      "           2018    4\n",
      "           2019    4\n",
      "           2020    4\n",
      "           2021    4\n",
      "Name: density, dtype: int64\n"
     ]
    },
    {
     "data": {
      "text/plain": [
       "1.946921699289753"
      ]
     },
     "execution_count": 123,
     "metadata": {},
     "output_type": "execute_result"
    }
   ],
   "source": [
    "grp_by_ry = data.groupby(['region', 'year']).density.mean()\n",
    "grp_by_ry = grp_by_ry.map(dens_to_sev)\n",
    "print(grp_by_ry.isna().sum())  # 1 missing values 0.8522090458996826\n",
    "print(grp_by_ry)\n",
    "\n",
    "mse(train_data.severity.sort_index(), grp_by_ry[train_data.region.sort_index()][train_data.year.sort_index()], squared=False)"
   ]
  },
  {
   "cell_type": "code",
   "execution_count": 132,
   "metadata": {},
   "outputs": [
    {
     "name": "stdout",
     "output_type": "stream",
     "text": [
      "0\n",
      "region     month\n",
      "midwest    1        1\n",
      "           2        2\n",
      "           3        1\n",
      "           4        1\n",
      "           5        3\n",
      "           6        4\n",
      "           7        3\n",
      "           8        3\n",
      "           9        4\n",
      "           10       4\n",
      "           11       2\n",
      "           12       3\n",
      "northeast  3        1\n",
      "           4        3\n",
      "           5        4\n",
      "           6        2\n",
      "           7        3\n",
      "           8        3\n",
      "           9        3\n",
      "           10       3\n",
      "           11       2\n",
      "           12       3\n",
      "south      1        2\n",
      "           2        2\n",
      "           3        2\n",
      "           4        2\n",
      "           5        2\n",
      "           6        2\n",
      "           7        3\n",
      "           8        3\n",
      "           9        3\n",
      "           10       3\n",
      "           11       3\n",
      "           12       2\n",
      "west       1        4\n",
      "           2        4\n",
      "           3        4\n",
      "           4        4\n",
      "           5        4\n",
      "           6        4\n",
      "           7        4\n",
      "           8        4\n",
      "           9        4\n",
      "           10       4\n",
      "           11       4\n",
      "           12       4\n",
      "Name: density, dtype: int64\n"
     ]
    },
    {
     "data": {
      "text/plain": [
       "1.8265657177389558"
      ]
     },
     "execution_count": 132,
     "metadata": {},
     "output_type": "execute_result"
    }
   ],
   "source": [
    "grp_by_rm = train_data.groupby(['region', 'month']).density.mean()\n",
    "grp_by_rm = grp_by_rm.map(dens_to_sev)\n",
    "print(grp_by_rm.isna().sum())  # 1 missing values 0.8522090458996826\n",
    "print(grp_by_rm)\n",
    "\n",
    "mse(train_data.severity.sort_index(), grp_by_rm[train_data.region.sort_index()][train_data.month.sort_index()], squared=False)"
   ]
  },
  {
   "cell_type": "code",
   "execution_count": 137,
   "metadata": {},
   "outputs": [
    {
     "name": "stdout",
     "output_type": "stream",
     "text": [
      "0\n",
      "region   date      \n",
      "midwest  2013-01-04    1\n",
      "         2013-02-06    1\n",
      "         2013-03-01    1\n",
      "         2013-03-15    1\n",
      "         2013-03-21    1\n",
      "                      ..\n",
      "west     2021-09-27    4\n",
      "         2021-10-26    4\n",
      "         2021-10-28    4\n",
      "         2021-11-29    4\n",
      "         2021-12-13    4\n",
      "Name: density, Length: 2039, dtype: int64\n"
     ]
    }
   ],
   "source": [
    "grp_by_rd = train_data.groupby(['region', 'date']).density.mean()\n",
    "grp_by_rd = grp_by_rd.map(dens_to_sev)\n",
    "print(grp_by_rd.isna().sum())  # 970 missing values 0.8522090458996826\n",
    "print(grp_by_rd)\n",
    "\n",
    "# mse(train_data.severity.sort_index(), grp_by_rd[train_data.region.sort_index()][train_data.date.sort_index()], squared=False)"
   ]
  },
  {
   "cell_type": "code",
   "execution_count": 138,
   "metadata": {},
   "outputs": [
    {
     "name": "stderr",
     "output_type": "stream",
     "text": [
      "100%|██████████| 17060/17060 [00:03<00:00, 5662.79it/s]\n"
     ]
    }
   ],
   "source": [
    "from tqdm import tqdm\n",
    "\n",
    "\n",
    "grp_by_rd_preds = []\n",
    "for row in tqdm(train_data.sort_index().itertuples(), total=train_data.shape[0]):\n",
    "    grp_by_rd_preds.append(grp_by_rd[row.region][row.date])"
   ]
  },
  {
   "cell_type": "code",
   "execution_count": 139,
   "metadata": {},
   "outputs": [
    {
     "data": {
      "text/plain": [
       "0.89380438783023"
      ]
     },
     "execution_count": 139,
     "metadata": {},
     "output_type": "execute_result"
    }
   ],
   "source": [
    "rmse(train_data.severity.sort_index(), grp_by_rd_preds)\n",
    "# holy heck!!"
   ]
  },
  {
   "attachments": {},
   "cell_type": "markdown",
   "metadata": {},
   "source": [
    "# Sooo....\n",
    "\n",
    "- Am I doin this right??.\n",
    "- exapnding density is worse than expainding severity\n",
    "- avg density is worse than avg severity\n",
    "\n",
    "- IN general modelling density is worse than severity\n",
    "\n",
    "# Todos :\n",
    "\n",
    "- Think of custom heurstic to predict severity (try with both sevrity and density)\n"
   ]
  },
  {
   "cell_type": "code",
   "execution_count": null,
   "metadata": {},
   "outputs": [],
   "source": []
  },
  {
   "cell_type": "code",
   "execution_count": 142,
   "metadata": {},
   "outputs": [
    {
     "data": {
      "text/plain": [
       "0.0"
      ]
     },
     "execution_count": 142,
     "metadata": {},
     "output_type": "execute_result"
    }
   ],
   "source": [
    "#  Sanity check --> This should be 0\n",
    "rmse(train_data.density.map(dens_to_sev).sort_index(), train_data.severity.sort_index())"
   ]
  },
  {
   "cell_type": "code",
   "execution_count": null,
   "metadata": {},
   "outputs": [],
   "source": []
  },
  {
   "cell_type": "code",
   "execution_count": null,
   "metadata": {},
   "outputs": [],
   "source": []
  }
 ],
 "metadata": {
  "kernelspec": {
   "display_name": "Python 3",
   "language": "python",
   "name": "python3"
  },
  "language_info": {
   "codemirror_mode": {
    "name": "ipython",
    "version": 3
   },
   "file_extension": ".py",
   "mimetype": "text/x-python",
   "name": "python",
   "nbconvert_exporter": "python",
   "pygments_lexer": "ipython3",
   "version": "3.10.5"
  },
  "orig_nbformat": 4,
  "vscode": {
   "interpreter": {
    "hash": "186db977f413ae6598820b658aed1651932768522d0652c07d949b3f5fb38b63"
   }
  }
 },
 "nbformat": 4,
 "nbformat_minor": 2
}
