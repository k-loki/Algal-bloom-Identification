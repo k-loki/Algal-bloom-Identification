{
 "cells": [
  {
   "cell_type": "code",
   "execution_count": 1,
   "id": "fc15c0ec-57a3-4536-84aa-b17bff44920a",
   "metadata": {},
   "outputs": [],
   "source": [
    "import pandas as pd\n",
    "import numpy as np\n",
    "import matplotlib.pyplot as plt"
   ]
  },
  {
   "cell_type": "code",
   "execution_count": 2,
   "id": "39d96e8f-f40a-407f-a670-d3bb40c1e3d1",
   "metadata": {},
   "outputs": [],
   "source": [
    "metadata = pd.read_csv('../data/metadata.csv')\n",
    "sub_format = pd.read_csv('../data/submission_format.csv')\n",
    "train_labels = pd.read_csv('../data/train_labels.csv')"
   ]
  },
  {
   "cell_type": "code",
   "execution_count": 3,
   "id": "83504a64-4036-49e3-af0f-d049960825c1",
   "metadata": {},
   "outputs": [
    {
     "data": {
      "text/html": [
       "<div>\n",
       "<style scoped>\n",
       "    .dataframe tbody tr th:only-of-type {\n",
       "        vertical-align: middle;\n",
       "    }\n",
       "\n",
       "    .dataframe tbody tr th {\n",
       "        vertical-align: top;\n",
       "    }\n",
       "\n",
       "    .dataframe thead th {\n",
       "        text-align: right;\n",
       "    }\n",
       "</style>\n",
       "<table border=\"1\" class=\"dataframe\">\n",
       "  <thead>\n",
       "    <tr style=\"text-align: right;\">\n",
       "      <th></th>\n",
       "      <th>uid</th>\n",
       "      <th>latitude</th>\n",
       "      <th>longitude</th>\n",
       "      <th>date</th>\n",
       "      <th>split</th>\n",
       "    </tr>\n",
       "  </thead>\n",
       "  <tbody>\n",
       "    <tr>\n",
       "      <th>0</th>\n",
       "      <td>aabm</td>\n",
       "      <td>39.080319</td>\n",
       "      <td>-86.430867</td>\n",
       "      <td>2018-05-14</td>\n",
       "      <td>train</td>\n",
       "    </tr>\n",
       "    <tr>\n",
       "      <th>1</th>\n",
       "      <td>aabn</td>\n",
       "      <td>36.559700</td>\n",
       "      <td>-121.510000</td>\n",
       "      <td>2016-08-31</td>\n",
       "      <td>test</td>\n",
       "    </tr>\n",
       "    <tr>\n",
       "      <th>2</th>\n",
       "      <td>aacd</td>\n",
       "      <td>35.875083</td>\n",
       "      <td>-78.878434</td>\n",
       "      <td>2020-11-19</td>\n",
       "      <td>train</td>\n",
       "    </tr>\n",
       "    <tr>\n",
       "      <th>3</th>\n",
       "      <td>aaee</td>\n",
       "      <td>35.487000</td>\n",
       "      <td>-79.062133</td>\n",
       "      <td>2016-08-24</td>\n",
       "      <td>train</td>\n",
       "    </tr>\n",
       "    <tr>\n",
       "      <th>4</th>\n",
       "      <td>aaff</td>\n",
       "      <td>38.049471</td>\n",
       "      <td>-99.827001</td>\n",
       "      <td>2019-07-23</td>\n",
       "      <td>train</td>\n",
       "    </tr>\n",
       "  </tbody>\n",
       "</table>\n",
       "</div>"
      ],
      "text/plain": [
       "    uid   latitude   longitude        date  split\n",
       "0  aabm  39.080319  -86.430867  2018-05-14  train\n",
       "1  aabn  36.559700 -121.510000  2016-08-31   test\n",
       "2  aacd  35.875083  -78.878434  2020-11-19  train\n",
       "3  aaee  35.487000  -79.062133  2016-08-24  train\n",
       "4  aaff  38.049471  -99.827001  2019-07-23  train"
      ]
     },
     "execution_count": 3,
     "metadata": {},
     "output_type": "execute_result"
    }
   ],
   "source": [
    "metadata.head()"
   ]
  },
  {
   "cell_type": "code",
   "execution_count": 4,
   "id": "646f02c5-8f68-4287-bcea-d8234e9995ed",
   "metadata": {},
   "outputs": [
    {
     "data": {
      "text/plain": [
       "(23570, 5)"
      ]
     },
     "execution_count": 4,
     "metadata": {},
     "output_type": "execute_result"
    }
   ],
   "source": [
    "metadata.shape"
   ]
  },
  {
   "cell_type": "code",
   "execution_count": 5,
   "id": "08ae1247-3754-4b7c-9a32-eed9e9197034",
   "metadata": {},
   "outputs": [
    {
     "name": "stdout",
     "output_type": "stream",
     "text": [
      "train    0.723801\n",
      "test     0.276199\n",
      "Name: split, dtype: float64\n"
     ]
    },
    {
     "data": {
      "text/plain": [
       "train    17060\n",
       "test      6510\n",
       "Name: split, dtype: int64"
      ]
     },
     "execution_count": 5,
     "metadata": {},
     "output_type": "execute_result"
    }
   ],
   "source": [
    "print(metadata['split'].value_counts(normalize=True))\n",
    "metadata.split.value_counts()"
   ]
  },
  {
   "cell_type": "code",
   "execution_count": 6,
   "id": "3a0cc3c1-6732-441b-8408-2d649e03c775",
   "metadata": {},
   "outputs": [
    {
     "data": {
      "text/plain": [
       "23570"
      ]
     },
     "execution_count": 6,
     "metadata": {},
     "output_type": "execute_result"
    }
   ],
   "source": [
    "metadata.uid.nunique() # no duplicates"
   ]
  },
  {
   "cell_type": "code",
   "execution_count": 7,
   "id": "c103cda1-9d18-4edd-8b6b-52bfacf34b76",
   "metadata": {},
   "outputs": [
    {
     "data": {
      "text/plain": [
       "0       2018-05-14\n",
       "1       2016-08-31\n",
       "2       2020-11-19\n",
       "3       2016-08-24\n",
       "4       2019-07-23\n",
       "           ...    \n",
       "23565   2014-12-02\n",
       "23566   2017-06-19\n",
       "23567   2015-03-24\n",
       "23568   2016-11-21\n",
       "23569   2015-08-31\n",
       "Name: date, Length: 23570, dtype: datetime64[ns]"
      ]
     },
     "execution_count": 7,
     "metadata": {},
     "output_type": "execute_result"
    }
   ],
   "source": [
    "metadata.date = pd.to_datetime(metadata.date)\n",
    "metadata.date"
   ]
  },
  {
   "cell_type": "code",
   "execution_count": 8,
   "id": "1593c727-be09-4c86-aede-9672627d0e5f",
   "metadata": {},
   "outputs": [
    {
     "data": {
      "text/plain": [
       "Timestamp('2013-01-04 00:00:00')"
      ]
     },
     "execution_count": 8,
     "metadata": {},
     "output_type": "execute_result"
    }
   ],
   "source": [
    "metadata.date.min()"
   ]
  },
  {
   "attachments": {},
   "cell_type": "markdown",
   "id": "9d67ca67",
   "metadata": {},
   "source": [
    "Does train and test data overlap?"
   ]
  },
  {
   "cell_type": "code",
   "execution_count": 9,
   "id": "27b43996-9e0d-4ab4-9e6b-cc7f2df3e2a3",
   "metadata": {},
   "outputs": [
    {
     "data": {
      "text/html": [
       "<div>\n",
       "<style scoped>\n",
       "    .dataframe tbody tr th:only-of-type {\n",
       "        vertical-align: middle;\n",
       "    }\n",
       "\n",
       "    .dataframe tbody tr th {\n",
       "        vertical-align: top;\n",
       "    }\n",
       "\n",
       "    .dataframe thead th {\n",
       "        text-align: right;\n",
       "    }\n",
       "</style>\n",
       "<table border=\"1\" class=\"dataframe\">\n",
       "  <thead>\n",
       "    <tr style=\"text-align: right;\">\n",
       "      <th></th>\n",
       "      <th>uid</th>\n",
       "      <th>latitude</th>\n",
       "      <th>longitude</th>\n",
       "      <th>date</th>\n",
       "      <th>split</th>\n",
       "    </tr>\n",
       "  </thead>\n",
       "  <tbody>\n",
       "    <tr>\n",
       "      <th>4387</th>\n",
       "      <td>evep</td>\n",
       "      <td>44.847993</td>\n",
       "      <td>-93.476318</td>\n",
       "      <td>2013-01-04</td>\n",
       "      <td>train</td>\n",
       "    </tr>\n",
       "    <tr>\n",
       "      <th>13644</th>\n",
       "      <td>paev</td>\n",
       "      <td>44.822478</td>\n",
       "      <td>-93.367962</td>\n",
       "      <td>2013-01-04</td>\n",
       "      <td>train</td>\n",
       "    </tr>\n",
       "    <tr>\n",
       "      <th>5566</th>\n",
       "      <td>gdxr</td>\n",
       "      <td>44.877646</td>\n",
       "      <td>-93.557842</td>\n",
       "      <td>2013-01-04</td>\n",
       "      <td>train</td>\n",
       "    </tr>\n",
       "    <tr>\n",
       "      <th>6144</th>\n",
       "      <td>guny</td>\n",
       "      <td>44.878889</td>\n",
       "      <td>-93.490833</td>\n",
       "      <td>2013-01-04</td>\n",
       "      <td>train</td>\n",
       "    </tr>\n",
       "    <tr>\n",
       "      <th>5317</th>\n",
       "      <td>fwbt</td>\n",
       "      <td>44.850500</td>\n",
       "      <td>-93.515700</td>\n",
       "      <td>2013-01-04</td>\n",
       "      <td>train</td>\n",
       "    </tr>\n",
       "    <tr>\n",
       "      <th>...</th>\n",
       "      <td>...</td>\n",
       "      <td>...</td>\n",
       "      <td>...</td>\n",
       "      <td>...</td>\n",
       "      <td>...</td>\n",
       "    </tr>\n",
       "    <tr>\n",
       "      <th>12443</th>\n",
       "      <td>nsoi</td>\n",
       "      <td>36.736800</td>\n",
       "      <td>-121.734000</td>\n",
       "      <td>2021-12-29</td>\n",
       "      <td>test</td>\n",
       "    </tr>\n",
       "    <tr>\n",
       "      <th>17559</th>\n",
       "      <td>thki</td>\n",
       "      <td>36.725400</td>\n",
       "      <td>-121.730000</td>\n",
       "      <td>2021-12-29</td>\n",
       "      <td>test</td>\n",
       "    </tr>\n",
       "    <tr>\n",
       "      <th>17452</th>\n",
       "      <td>teuu</td>\n",
       "      <td>36.772300</td>\n",
       "      <td>-121.788000</td>\n",
       "      <td>2021-12-29</td>\n",
       "      <td>test</td>\n",
       "    </tr>\n",
       "    <tr>\n",
       "      <th>14254</th>\n",
       "      <td>prfi</td>\n",
       "      <td>36.751800</td>\n",
       "      <td>-121.742000</td>\n",
       "      <td>2021-12-29</td>\n",
       "      <td>test</td>\n",
       "    </tr>\n",
       "    <tr>\n",
       "      <th>6864</th>\n",
       "      <td>howu</td>\n",
       "      <td>36.708500</td>\n",
       "      <td>-121.749000</td>\n",
       "      <td>2021-12-29</td>\n",
       "      <td>test</td>\n",
       "    </tr>\n",
       "  </tbody>\n",
       "</table>\n",
       "<p>23570 rows × 5 columns</p>\n",
       "</div>"
      ],
      "text/plain": [
       "        uid   latitude   longitude       date  split\n",
       "4387   evep  44.847993  -93.476318 2013-01-04  train\n",
       "13644  paev  44.822478  -93.367962 2013-01-04  train\n",
       "5566   gdxr  44.877646  -93.557842 2013-01-04  train\n",
       "6144   guny  44.878889  -93.490833 2013-01-04  train\n",
       "5317   fwbt  44.850500  -93.515700 2013-01-04  train\n",
       "...     ...        ...         ...        ...    ...\n",
       "12443  nsoi  36.736800 -121.734000 2021-12-29   test\n",
       "17559  thki  36.725400 -121.730000 2021-12-29   test\n",
       "17452  teuu  36.772300 -121.788000 2021-12-29   test\n",
       "14254  prfi  36.751800 -121.742000 2021-12-29   test\n",
       "6864   howu  36.708500 -121.749000 2021-12-29   test\n",
       "\n",
       "[23570 rows x 5 columns]"
      ]
     },
     "execution_count": 9,
     "metadata": {},
     "output_type": "execute_result"
    }
   ],
   "source": [
    "date_sorted_metadata = metadata.sort_values(by='date')\n",
    "date_sorted_metadata"
   ]
  },
  {
   "cell_type": "code",
   "execution_count": 10,
   "id": "0d990052",
   "metadata": {},
   "outputs": [
    {
     "data": {
      "text/plain": [
       "train    12628\n",
       "test      4433\n",
       "Name: split, dtype: int64"
      ]
     },
     "execution_count": 10,
     "metadata": {},
     "output_type": "execute_result"
    }
   ],
   "source": [
    "date_sorted_metadata.iloc[:17061].split.value_counts()"
   ]
  },
  {
   "cell_type": "code",
   "execution_count": 11,
   "id": "fe600ec5",
   "metadata": {},
   "outputs": [
    {
     "data": {
      "text/html": [
       "<div>\n",
       "<style scoped>\n",
       "    .dataframe tbody tr th:only-of-type {\n",
       "        vertical-align: middle;\n",
       "    }\n",
       "\n",
       "    .dataframe tbody tr th {\n",
       "        vertical-align: top;\n",
       "    }\n",
       "\n",
       "    .dataframe thead th {\n",
       "        text-align: right;\n",
       "    }\n",
       "</style>\n",
       "<table border=\"1\" class=\"dataframe\">\n",
       "  <thead>\n",
       "    <tr style=\"text-align: right;\">\n",
       "      <th></th>\n",
       "      <th>uid</th>\n",
       "      <th>latitude</th>\n",
       "      <th>longitude</th>\n",
       "      <th>date</th>\n",
       "      <th>split</th>\n",
       "    </tr>\n",
       "  </thead>\n",
       "  <tbody>\n",
       "    <tr>\n",
       "      <th>5317</th>\n",
       "      <td>fwbt</td>\n",
       "      <td>44.850500</td>\n",
       "      <td>-93.515700</td>\n",
       "      <td>2013-01-04</td>\n",
       "      <td>train</td>\n",
       "    </tr>\n",
       "    <tr>\n",
       "      <th>6144</th>\n",
       "      <td>guny</td>\n",
       "      <td>44.878889</td>\n",
       "      <td>-93.490833</td>\n",
       "      <td>2013-01-04</td>\n",
       "      <td>train</td>\n",
       "    </tr>\n",
       "    <tr>\n",
       "      <th>5566</th>\n",
       "      <td>gdxr</td>\n",
       "      <td>44.877646</td>\n",
       "      <td>-93.557842</td>\n",
       "      <td>2013-01-04</td>\n",
       "      <td>train</td>\n",
       "    </tr>\n",
       "    <tr>\n",
       "      <th>13644</th>\n",
       "      <td>paev</td>\n",
       "      <td>44.822478</td>\n",
       "      <td>-93.367962</td>\n",
       "      <td>2013-01-04</td>\n",
       "      <td>train</td>\n",
       "    </tr>\n",
       "    <tr>\n",
       "      <th>4387</th>\n",
       "      <td>evep</td>\n",
       "      <td>44.847993</td>\n",
       "      <td>-93.476318</td>\n",
       "      <td>2013-01-04</td>\n",
       "      <td>train</td>\n",
       "    </tr>\n",
       "    <tr>\n",
       "      <th>...</th>\n",
       "      <td>...</td>\n",
       "      <td>...</td>\n",
       "      <td>...</td>\n",
       "      <td>...</td>\n",
       "      <td>...</td>\n",
       "    </tr>\n",
       "    <tr>\n",
       "      <th>17778</th>\n",
       "      <td>tobi</td>\n",
       "      <td>36.030000</td>\n",
       "      <td>-78.705932</td>\n",
       "      <td>2021-12-14</td>\n",
       "      <td>train</td>\n",
       "    </tr>\n",
       "    <tr>\n",
       "      <th>11041</th>\n",
       "      <td>mdcu</td>\n",
       "      <td>35.980000</td>\n",
       "      <td>-78.843884</td>\n",
       "      <td>2021-12-14</td>\n",
       "      <td>train</td>\n",
       "    </tr>\n",
       "    <tr>\n",
       "      <th>6718</th>\n",
       "      <td>hkvs</td>\n",
       "      <td>36.030000</td>\n",
       "      <td>-78.706429</td>\n",
       "      <td>2021-12-14</td>\n",
       "      <td>train</td>\n",
       "    </tr>\n",
       "    <tr>\n",
       "      <th>18793</th>\n",
       "      <td>uscb</td>\n",
       "      <td>35.980000</td>\n",
       "      <td>-78.843636</td>\n",
       "      <td>2021-12-14</td>\n",
       "      <td>train</td>\n",
       "    </tr>\n",
       "    <tr>\n",
       "      <th>23159</th>\n",
       "      <td>zoaj</td>\n",
       "      <td>36.060000</td>\n",
       "      <td>-78.760000</td>\n",
       "      <td>2021-12-14</td>\n",
       "      <td>train</td>\n",
       "    </tr>\n",
       "  </tbody>\n",
       "</table>\n",
       "<p>17060 rows × 5 columns</p>\n",
       "</div>"
      ],
      "text/plain": [
       "        uid   latitude  longitude       date  split\n",
       "5317   fwbt  44.850500 -93.515700 2013-01-04  train\n",
       "6144   guny  44.878889 -93.490833 2013-01-04  train\n",
       "5566   gdxr  44.877646 -93.557842 2013-01-04  train\n",
       "13644  paev  44.822478 -93.367962 2013-01-04  train\n",
       "4387   evep  44.847993 -93.476318 2013-01-04  train\n",
       "...     ...        ...        ...        ...    ...\n",
       "17778  tobi  36.030000 -78.705932 2021-12-14  train\n",
       "11041  mdcu  35.980000 -78.843884 2021-12-14  train\n",
       "6718   hkvs  36.030000 -78.706429 2021-12-14  train\n",
       "18793  uscb  35.980000 -78.843636 2021-12-14  train\n",
       "23159  zoaj  36.060000 -78.760000 2021-12-14  train\n",
       "\n",
       "[17060 rows x 5 columns]"
      ]
     },
     "execution_count": 11,
     "metadata": {},
     "output_type": "execute_result"
    }
   ],
   "source": [
    "# only traindata\n",
    "train_metadata = metadata[metadata.split == 'train']\n",
    "train_metadata.sort_values(by='date')"
   ]
  },
  {
   "cell_type": "code",
   "execution_count": 12,
   "id": "b6d78d9d",
   "metadata": {},
   "outputs": [
    {
     "data": {
      "text/html": [
       "<div>\n",
       "<style scoped>\n",
       "    .dataframe tbody tr th:only-of-type {\n",
       "        vertical-align: middle;\n",
       "    }\n",
       "\n",
       "    .dataframe tbody tr th {\n",
       "        vertical-align: top;\n",
       "    }\n",
       "\n",
       "    .dataframe thead th {\n",
       "        text-align: right;\n",
       "    }\n",
       "</style>\n",
       "<table border=\"1\" class=\"dataframe\">\n",
       "  <thead>\n",
       "    <tr style=\"text-align: right;\">\n",
       "      <th></th>\n",
       "      <th>uid</th>\n",
       "      <th>latitude</th>\n",
       "      <th>longitude</th>\n",
       "      <th>date</th>\n",
       "      <th>split</th>\n",
       "    </tr>\n",
       "  </thead>\n",
       "  <tbody>\n",
       "    <tr>\n",
       "      <th>6865</th>\n",
       "      <td>howw</td>\n",
       "      <td>37.0062</td>\n",
       "      <td>-120.600</td>\n",
       "      <td>2013-01-08</td>\n",
       "      <td>test</td>\n",
       "    </tr>\n",
       "    <tr>\n",
       "      <th>3661</th>\n",
       "      <td>eamn</td>\n",
       "      <td>36.9818</td>\n",
       "      <td>-120.221</td>\n",
       "      <td>2013-01-08</td>\n",
       "      <td>test</td>\n",
       "    </tr>\n",
       "    <tr>\n",
       "      <th>7668</th>\n",
       "      <td>imsv</td>\n",
       "      <td>36.9836</td>\n",
       "      <td>-120.500</td>\n",
       "      <td>2013-01-08</td>\n",
       "      <td>test</td>\n",
       "    </tr>\n",
       "    <tr>\n",
       "      <th>20182</th>\n",
       "      <td>wgxq</td>\n",
       "      <td>33.8011</td>\n",
       "      <td>-117.205</td>\n",
       "      <td>2013-01-25</td>\n",
       "      <td>test</td>\n",
       "    </tr>\n",
       "    <tr>\n",
       "      <th>16095</th>\n",
       "      <td>rsos</td>\n",
       "      <td>33.8892</td>\n",
       "      <td>-117.562</td>\n",
       "      <td>2013-01-25</td>\n",
       "      <td>test</td>\n",
       "    </tr>\n",
       "    <tr>\n",
       "      <th>...</th>\n",
       "      <td>...</td>\n",
       "      <td>...</td>\n",
       "      <td>...</td>\n",
       "      <td>...</td>\n",
       "      <td>...</td>\n",
       "    </tr>\n",
       "    <tr>\n",
       "      <th>12443</th>\n",
       "      <td>nsoi</td>\n",
       "      <td>36.7368</td>\n",
       "      <td>-121.734</td>\n",
       "      <td>2021-12-29</td>\n",
       "      <td>test</td>\n",
       "    </tr>\n",
       "    <tr>\n",
       "      <th>14254</th>\n",
       "      <td>prfi</td>\n",
       "      <td>36.7518</td>\n",
       "      <td>-121.742</td>\n",
       "      <td>2021-12-29</td>\n",
       "      <td>test</td>\n",
       "    </tr>\n",
       "    <tr>\n",
       "      <th>6864</th>\n",
       "      <td>howu</td>\n",
       "      <td>36.7085</td>\n",
       "      <td>-121.749</td>\n",
       "      <td>2021-12-29</td>\n",
       "      <td>test</td>\n",
       "    </tr>\n",
       "    <tr>\n",
       "      <th>6540</th>\n",
       "      <td>hfvr</td>\n",
       "      <td>36.7962</td>\n",
       "      <td>-121.782</td>\n",
       "      <td>2021-12-29</td>\n",
       "      <td>test</td>\n",
       "    </tr>\n",
       "    <tr>\n",
       "      <th>17559</th>\n",
       "      <td>thki</td>\n",
       "      <td>36.7254</td>\n",
       "      <td>-121.730</td>\n",
       "      <td>2021-12-29</td>\n",
       "      <td>test</td>\n",
       "    </tr>\n",
       "  </tbody>\n",
       "</table>\n",
       "<p>6510 rows × 5 columns</p>\n",
       "</div>"
      ],
      "text/plain": [
       "        uid  latitude  longitude       date split\n",
       "6865   howw   37.0062   -120.600 2013-01-08  test\n",
       "3661   eamn   36.9818   -120.221 2013-01-08  test\n",
       "7668   imsv   36.9836   -120.500 2013-01-08  test\n",
       "20182  wgxq   33.8011   -117.205 2013-01-25  test\n",
       "16095  rsos   33.8892   -117.562 2013-01-25  test\n",
       "...     ...       ...        ...        ...   ...\n",
       "12443  nsoi   36.7368   -121.734 2021-12-29  test\n",
       "14254  prfi   36.7518   -121.742 2021-12-29  test\n",
       "6864   howu   36.7085   -121.749 2021-12-29  test\n",
       "6540   hfvr   36.7962   -121.782 2021-12-29  test\n",
       "17559  thki   36.7254   -121.730 2021-12-29  test\n",
       "\n",
       "[6510 rows x 5 columns]"
      ]
     },
     "execution_count": 12,
     "metadata": {},
     "output_type": "execute_result"
    }
   ],
   "source": [
    "test_metadata = metadata[metadata.split == 'test']\n",
    "test_metadata.sort_values(by='date')"
   ]
  },
  {
   "cell_type": "code",
   "execution_count": 13,
   "id": "9403d652-b071-404c-a624-3b3122deca60",
   "metadata": {},
   "outputs": [
    {
     "data": {
      "text/plain": [
       "10889"
      ]
     },
     "execution_count": 13,
     "metadata": {},
     "output_type": "execute_result"
    }
   ],
   "source": [
    "metadata[['latitude','longitude']].duplicated().sum()\n",
    "# some locations might have been sampled more frequently"
   ]
  },
  {
   "cell_type": "code",
   "execution_count": 14,
   "id": "cd80b221",
   "metadata": {},
   "outputs": [
    {
     "data": {
      "text/plain": [
       "latitude      8583\n",
       "longitude    11167\n",
       "dtype: int64"
      ]
     },
     "execution_count": 14,
     "metadata": {},
     "output_type": "execute_result"
    }
   ],
   "source": [
    "metadata[['latitude','longitude']].nunique()"
   ]
  },
  {
   "cell_type": "code",
   "execution_count": 15,
   "id": "29feb7f4-4299-4d89-ac75-412d4b370093",
   "metadata": {},
   "outputs": [
    {
     "data": {
      "text/html": [
       "<div>\n",
       "<style scoped>\n",
       "    .dataframe tbody tr th:only-of-type {\n",
       "        vertical-align: middle;\n",
       "    }\n",
       "\n",
       "    .dataframe tbody tr th {\n",
       "        vertical-align: top;\n",
       "    }\n",
       "\n",
       "    .dataframe thead th {\n",
       "        text-align: right;\n",
       "    }\n",
       "</style>\n",
       "<table border=\"1\" class=\"dataframe\">\n",
       "  <thead>\n",
       "    <tr style=\"text-align: right;\">\n",
       "      <th></th>\n",
       "      <th>uid</th>\n",
       "      <th>region</th>\n",
       "      <th>severity</th>\n",
       "    </tr>\n",
       "  </thead>\n",
       "  <tbody>\n",
       "    <tr>\n",
       "      <th>0</th>\n",
       "      <td>aabn</td>\n",
       "      <td>west</td>\n",
       "      <td>1</td>\n",
       "    </tr>\n",
       "    <tr>\n",
       "      <th>1</th>\n",
       "      <td>aair</td>\n",
       "      <td>west</td>\n",
       "      <td>1</td>\n",
       "    </tr>\n",
       "    <tr>\n",
       "      <th>2</th>\n",
       "      <td>aajw</td>\n",
       "      <td>northeast</td>\n",
       "      <td>1</td>\n",
       "    </tr>\n",
       "    <tr>\n",
       "      <th>3</th>\n",
       "      <td>aalr</td>\n",
       "      <td>midwest</td>\n",
       "      <td>1</td>\n",
       "    </tr>\n",
       "    <tr>\n",
       "      <th>4</th>\n",
       "      <td>aalw</td>\n",
       "      <td>west</td>\n",
       "      <td>1</td>\n",
       "    </tr>\n",
       "    <tr>\n",
       "      <th>...</th>\n",
       "      <td>...</td>\n",
       "      <td>...</td>\n",
       "      <td>...</td>\n",
       "    </tr>\n",
       "    <tr>\n",
       "      <th>6505</th>\n",
       "      <td>zzpn</td>\n",
       "      <td>northeast</td>\n",
       "      <td>1</td>\n",
       "    </tr>\n",
       "    <tr>\n",
       "      <th>6506</th>\n",
       "      <td>zzrv</td>\n",
       "      <td>west</td>\n",
       "      <td>1</td>\n",
       "    </tr>\n",
       "    <tr>\n",
       "      <th>6507</th>\n",
       "      <td>zzsx</td>\n",
       "      <td>south</td>\n",
       "      <td>1</td>\n",
       "    </tr>\n",
       "    <tr>\n",
       "      <th>6508</th>\n",
       "      <td>zzvv</td>\n",
       "      <td>west</td>\n",
       "      <td>1</td>\n",
       "    </tr>\n",
       "    <tr>\n",
       "      <th>6509</th>\n",
       "      <td>zzzi</td>\n",
       "      <td>midwest</td>\n",
       "      <td>1</td>\n",
       "    </tr>\n",
       "  </tbody>\n",
       "</table>\n",
       "<p>6510 rows × 3 columns</p>\n",
       "</div>"
      ],
      "text/plain": [
       "       uid     region  severity\n",
       "0     aabn       west         1\n",
       "1     aair       west         1\n",
       "2     aajw  northeast         1\n",
       "3     aalr    midwest         1\n",
       "4     aalw       west         1\n",
       "...    ...        ...       ...\n",
       "6505  zzpn  northeast         1\n",
       "6506  zzrv       west         1\n",
       "6507  zzsx      south         1\n",
       "6508  zzvv       west         1\n",
       "6509  zzzi    midwest         1\n",
       "\n",
       "[6510 rows x 3 columns]"
      ]
     },
     "execution_count": 15,
     "metadata": {},
     "output_type": "execute_result"
    }
   ],
   "source": [
    "sub_format"
   ]
  },
  {
   "cell_type": "code",
   "execution_count": 16,
   "id": "90276f9c-5c5e-42f2-a20a-193cc918b61f",
   "metadata": {},
   "outputs": [
    {
     "data": {
      "text/html": [
       "<div>\n",
       "<style scoped>\n",
       "    .dataframe tbody tr th:only-of-type {\n",
       "        vertical-align: middle;\n",
       "    }\n",
       "\n",
       "    .dataframe tbody tr th {\n",
       "        vertical-align: top;\n",
       "    }\n",
       "\n",
       "    .dataframe thead th {\n",
       "        text-align: right;\n",
       "    }\n",
       "</style>\n",
       "<table border=\"1\" class=\"dataframe\">\n",
       "  <thead>\n",
       "    <tr style=\"text-align: right;\">\n",
       "      <th></th>\n",
       "      <th>uid</th>\n",
       "      <th>region</th>\n",
       "      <th>severity</th>\n",
       "      <th>density</th>\n",
       "    </tr>\n",
       "  </thead>\n",
       "  <tbody>\n",
       "    <tr>\n",
       "      <th>0</th>\n",
       "      <td>aabm</td>\n",
       "      <td>midwest</td>\n",
       "      <td>1</td>\n",
       "      <td>585.0</td>\n",
       "    </tr>\n",
       "    <tr>\n",
       "      <th>1</th>\n",
       "      <td>aacd</td>\n",
       "      <td>south</td>\n",
       "      <td>1</td>\n",
       "      <td>290.0</td>\n",
       "    </tr>\n",
       "    <tr>\n",
       "      <th>2</th>\n",
       "      <td>aaee</td>\n",
       "      <td>south</td>\n",
       "      <td>1</td>\n",
       "      <td>1614.0</td>\n",
       "    </tr>\n",
       "    <tr>\n",
       "      <th>3</th>\n",
       "      <td>aaff</td>\n",
       "      <td>midwest</td>\n",
       "      <td>3</td>\n",
       "      <td>111825.0</td>\n",
       "    </tr>\n",
       "    <tr>\n",
       "      <th>4</th>\n",
       "      <td>aafl</td>\n",
       "      <td>midwest</td>\n",
       "      <td>4</td>\n",
       "      <td>2017313.0</td>\n",
       "    </tr>\n",
       "    <tr>\n",
       "      <th>...</th>\n",
       "      <td>...</td>\n",
       "      <td>...</td>\n",
       "      <td>...</td>\n",
       "      <td>...</td>\n",
       "    </tr>\n",
       "    <tr>\n",
       "      <th>17055</th>\n",
       "      <td>zzsv</td>\n",
       "      <td>south</td>\n",
       "      <td>3</td>\n",
       "      <td>113125.0</td>\n",
       "    </tr>\n",
       "    <tr>\n",
       "      <th>17056</th>\n",
       "      <td>zzuq</td>\n",
       "      <td>south</td>\n",
       "      <td>3</td>\n",
       "      <td>175726.0</td>\n",
       "    </tr>\n",
       "    <tr>\n",
       "      <th>17057</th>\n",
       "      <td>zzwo</td>\n",
       "      <td>midwest</td>\n",
       "      <td>2</td>\n",
       "      <td>48510.0</td>\n",
       "    </tr>\n",
       "    <tr>\n",
       "      <th>17058</th>\n",
       "      <td>zzwq</td>\n",
       "      <td>south</td>\n",
       "      <td>1</td>\n",
       "      <td>1271.0</td>\n",
       "    </tr>\n",
       "    <tr>\n",
       "      <th>17059</th>\n",
       "      <td>zzyb</td>\n",
       "      <td>south</td>\n",
       "      <td>1</td>\n",
       "      <td>9682.0</td>\n",
       "    </tr>\n",
       "  </tbody>\n",
       "</table>\n",
       "<p>17060 rows × 4 columns</p>\n",
       "</div>"
      ],
      "text/plain": [
       "        uid   region  severity    density\n",
       "0      aabm  midwest         1      585.0\n",
       "1      aacd    south         1      290.0\n",
       "2      aaee    south         1     1614.0\n",
       "3      aaff  midwest         3   111825.0\n",
       "4      aafl  midwest         4  2017313.0\n",
       "...     ...      ...       ...        ...\n",
       "17055  zzsv    south         3   113125.0\n",
       "17056  zzuq    south         3   175726.0\n",
       "17057  zzwo  midwest         2    48510.0\n",
       "17058  zzwq    south         1     1271.0\n",
       "17059  zzyb    south         1     9682.0\n",
       "\n",
       "[17060 rows x 4 columns]"
      ]
     },
     "execution_count": 16,
     "metadata": {},
     "output_type": "execute_result"
    }
   ],
   "source": [
    "train_labels"
   ]
  },
  {
   "cell_type": "code",
   "execution_count": 17,
   "id": "6d9a2fa3-9bbf-4af6-b6ad-fea290da8d06",
   "metadata": {},
   "outputs": [
    {
     "data": {
      "text/plain": [
       "17060"
      ]
     },
     "execution_count": 17,
     "metadata": {},
     "output_type": "execute_result"
    }
   ],
   "source": [
    "train_labels.uid.nunique()"
   ]
  },
  {
   "cell_type": "code",
   "execution_count": 18,
   "id": "b0c4c435-1c28-4cee-9a84-36f2425c8135",
   "metadata": {},
   "outputs": [
    {
     "data": {
      "text/plain": [
       "south        9948\n",
       "west         3769\n",
       "midwest      2200\n",
       "northeast    1143\n",
       "Name: region, dtype: int64"
      ]
     },
     "execution_count": 18,
     "metadata": {},
     "output_type": "execute_result"
    }
   ],
   "source": [
    "train_labels.region.value_counts()\n",
    "# south region relatively sampled a lot."
   ]
  },
  {
   "cell_type": "code",
   "execution_count": 19,
   "id": "414356aa",
   "metadata": {},
   "outputs": [
    {
     "data": {
      "text/plain": [
       "<AxesSubplot:>"
      ]
     },
     "execution_count": 19,
     "metadata": {},
     "output_type": "execute_result"
    },
    {
     "data": {
      "image/png": "[encoded data removed]",
      "text/plain": [
       "<Figure size 640x480 with 1 Axes>"
      ]
     },
     "metadata": {},
     "output_type": "display_data"
    }
   ],
   "source": [
    "train_labels.severity.value_counts().plot.bar()"
   ]
  },
  {
   "cell_type": "code",
   "execution_count": 20,
   "id": "f0be78ec-ca35-419f-afc7-d8594bdd17a1",
   "metadata": {},
   "outputs": [
    {
     "data": {
      "text/plain": [
       "<AxesSubplot:ylabel='Frequency'>"
      ]
     },
     "execution_count": 20,
     "metadata": {},
     "output_type": "execute_result"
    },
    {
     "data": {
      "image/png": "[encoded data removed]",
      "text/plain": [
       "<Figure size 640x480 with 1 Axes>"
      ]
     },
     "metadata": {},
     "output_type": "display_data"
    }
   ],
   "source": [
    "train_labels.density.plot.hist(bins=100)"
   ]
  },
  {
   "cell_type": "code",
   "execution_count": 21,
   "id": "e23079e4",
   "metadata": {},
   "outputs": [
    {
     "data": {
      "text/plain": [
       "<AxesSubplot:xlabel='density', ylabel='Density'>"
      ]
     },
     "execution_count": 21,
     "metadata": {},
     "output_type": "execute_result"
    },
    {
     "data": {
      "image/png": "[encoded data removed]",
      "text/plain": [
       "<Figure size 640x480 with 1 Axes>"
      ]
     },
     "metadata": {},
     "output_type": "display_data"
    }
   ],
   "source": [
    "import seaborn as sns\n",
    "sns.kdeplot(train_labels.density)"
   ]
  },
  {
   "cell_type": "code",
   "execution_count": 22,
   "id": "e7516ba1-a098-42db-b269-90c641e77062",
   "metadata": {},
   "outputs": [
    {
     "data": {
      "text/plain": [
       "uid                zzyb\n",
       "region             west\n",
       "severity              5\n",
       "density     804667500.0\n",
       "dtype: object"
      ]
     },
     "execution_count": 22,
     "metadata": {},
     "output_type": "execute_result"
    }
   ],
   "source": [
    "train_labels.max()"
   ]
  },
  {
   "cell_type": "code",
   "execution_count": 23,
   "id": "beca8c23-b52d-4647-b2d5-100a864c272b",
   "metadata": {},
   "outputs": [
    {
     "data": {
      "text/plain": [
       "uid            aabm\n",
       "region      midwest\n",
       "severity          1\n",
       "density         0.0\n",
       "dtype: object"
      ]
     },
     "execution_count": 23,
     "metadata": {},
     "output_type": "execute_result"
    }
   ],
   "source": [
    "train_labels.min()"
   ]
  },
  {
   "cell_type": "code",
   "execution_count": 24,
   "id": "7744af55-641b-4467-9457-8eafdda4f75e",
   "metadata": {},
   "outputs": [
    {
     "data": {
      "text/html": [
       "<div>\n",
       "<style scoped>\n",
       "    .dataframe tbody tr th:only-of-type {\n",
       "        vertical-align: middle;\n",
       "    }\n",
       "\n",
       "    .dataframe tbody tr th {\n",
       "        vertical-align: top;\n",
       "    }\n",
       "\n",
       "    .dataframe thead th {\n",
       "        text-align: right;\n",
       "    }\n",
       "</style>\n",
       "<table border=\"1\" class=\"dataframe\">\n",
       "  <thead>\n",
       "    <tr style=\"text-align: right;\">\n",
       "      <th></th>\n",
       "      <th>mean</th>\n",
       "      <th>count</th>\n",
       "    </tr>\n",
       "    <tr>\n",
       "      <th>region</th>\n",
       "      <th></th>\n",
       "      <th></th>\n",
       "    </tr>\n",
       "  </thead>\n",
       "  <tbody>\n",
       "    <tr>\n",
       "      <th>south</th>\n",
       "      <td>9.067514e+04</td>\n",
       "      <td>9948</td>\n",
       "    </tr>\n",
       "    <tr>\n",
       "      <th>northeast</th>\n",
       "      <td>3.637635e+05</td>\n",
       "      <td>1143</td>\n",
       "    </tr>\n",
       "    <tr>\n",
       "      <th>midwest</th>\n",
       "      <td>1.085957e+06</td>\n",
       "      <td>2200</td>\n",
       "    </tr>\n",
       "    <tr>\n",
       "      <th>west</th>\n",
       "      <td>3.880252e+06</td>\n",
       "      <td>3769</td>\n",
       "    </tr>\n",
       "  </tbody>\n",
       "</table>\n",
       "</div>"
      ],
      "text/plain": [
       "                   mean  count\n",
       "region                        \n",
       "south      9.067514e+04   9948\n",
       "northeast  3.637635e+05   1143\n",
       "midwest    1.085957e+06   2200\n",
       "west       3.880252e+06   3769"
      ]
     },
     "execution_count": 24,
     "metadata": {},
     "output_type": "execute_result"
    }
   ],
   "source": [
    "# algal bloom density based on region\n",
    "train_labels.groupby('region').density.agg(['mean', 'count']).sort_values(by='mean')"
   ]
  },
  {
   "cell_type": "code",
   "execution_count": 25,
   "id": "0a5b895b",
   "metadata": {},
   "outputs": [
    {
     "data": {
      "text/html": [
       "<div>\n",
       "<style scoped>\n",
       "    .dataframe tbody tr th:only-of-type {\n",
       "        vertical-align: middle;\n",
       "    }\n",
       "\n",
       "    .dataframe tbody tr th {\n",
       "        vertical-align: top;\n",
       "    }\n",
       "\n",
       "    .dataframe thead th {\n",
       "        text-align: right;\n",
       "    }\n",
       "</style>\n",
       "<table border=\"1\" class=\"dataframe\">\n",
       "  <thead>\n",
       "    <tr style=\"text-align: right;\">\n",
       "      <th></th>\n",
       "      <th>mean</th>\n",
       "      <th>count</th>\n",
       "    </tr>\n",
       "    <tr>\n",
       "      <th>region</th>\n",
       "      <th></th>\n",
       "      <th></th>\n",
       "    </tr>\n",
       "  </thead>\n",
       "  <tbody>\n",
       "    <tr>\n",
       "      <th>south</th>\n",
       "      <td>1.567652</td>\n",
       "      <td>9948</td>\n",
       "    </tr>\n",
       "    <tr>\n",
       "      <th>northeast</th>\n",
       "      <td>1.805774</td>\n",
       "      <td>1143</td>\n",
       "    </tr>\n",
       "    <tr>\n",
       "      <th>midwest</th>\n",
       "      <td>2.194091</td>\n",
       "      <td>2200</td>\n",
       "    </tr>\n",
       "    <tr>\n",
       "      <th>west</th>\n",
       "      <td>3.747413</td>\n",
       "      <td>3769</td>\n",
       "    </tr>\n",
       "  </tbody>\n",
       "</table>\n",
       "</div>"
      ],
      "text/plain": [
       "               mean  count\n",
       "region                    \n",
       "south      1.567652   9948\n",
       "northeast  1.805774   1143\n",
       "midwest    2.194091   2200\n",
       "west       3.747413   3769"
      ]
     },
     "execution_count": 25,
     "metadata": {},
     "output_type": "execute_result"
    }
   ],
   "source": [
    "train_labels.groupby('region').severity.agg(['mean', 'count']).sort_values(by='mean')"
   ]
  },
  {
   "cell_type": "code",
   "execution_count": 26,
   "id": "6a5c5f47-2429-4bf9-8cb2-14e7d09130b4",
   "metadata": {},
   "outputs": [
    {
     "data": {
      "text/html": [
       "<div>\n",
       "<style scoped>\n",
       "    .dataframe tbody tr th:only-of-type {\n",
       "        vertical-align: middle;\n",
       "    }\n",
       "\n",
       "    .dataframe tbody tr th {\n",
       "        vertical-align: top;\n",
       "    }\n",
       "\n",
       "    .dataframe thead th {\n",
       "        text-align: right;\n",
       "    }\n",
       "</style>\n",
       "<table border=\"1\" class=\"dataframe\">\n",
       "  <thead>\n",
       "    <tr style=\"text-align: right;\">\n",
       "      <th></th>\n",
       "      <th>uid</th>\n",
       "      <th>region</th>\n",
       "      <th>severity</th>\n",
       "      <th>density</th>\n",
       "    </tr>\n",
       "  </thead>\n",
       "  <tbody>\n",
       "    <tr>\n",
       "      <th>0</th>\n",
       "      <td>aabm</td>\n",
       "      <td>midwest</td>\n",
       "      <td>1</td>\n",
       "      <td>585.0</td>\n",
       "    </tr>\n",
       "    <tr>\n",
       "      <th>1</th>\n",
       "      <td>aacd</td>\n",
       "      <td>south</td>\n",
       "      <td>1</td>\n",
       "      <td>290.0</td>\n",
       "    </tr>\n",
       "    <tr>\n",
       "      <th>2</th>\n",
       "      <td>aaee</td>\n",
       "      <td>south</td>\n",
       "      <td>1</td>\n",
       "      <td>1614.0</td>\n",
       "    </tr>\n",
       "    <tr>\n",
       "      <th>3</th>\n",
       "      <td>aaff</td>\n",
       "      <td>midwest</td>\n",
       "      <td>3</td>\n",
       "      <td>111825.0</td>\n",
       "    </tr>\n",
       "    <tr>\n",
       "      <th>4</th>\n",
       "      <td>aafl</td>\n",
       "      <td>midwest</td>\n",
       "      <td>4</td>\n",
       "      <td>2017313.0</td>\n",
       "    </tr>\n",
       "    <tr>\n",
       "      <th>...</th>\n",
       "      <td>...</td>\n",
       "      <td>...</td>\n",
       "      <td>...</td>\n",
       "      <td>...</td>\n",
       "    </tr>\n",
       "    <tr>\n",
       "      <th>17055</th>\n",
       "      <td>zzsv</td>\n",
       "      <td>south</td>\n",
       "      <td>3</td>\n",
       "      <td>113125.0</td>\n",
       "    </tr>\n",
       "    <tr>\n",
       "      <th>17056</th>\n",
       "      <td>zzuq</td>\n",
       "      <td>south</td>\n",
       "      <td>3</td>\n",
       "      <td>175726.0</td>\n",
       "    </tr>\n",
       "    <tr>\n",
       "      <th>17057</th>\n",
       "      <td>zzwo</td>\n",
       "      <td>midwest</td>\n",
       "      <td>2</td>\n",
       "      <td>48510.0</td>\n",
       "    </tr>\n",
       "    <tr>\n",
       "      <th>17058</th>\n",
       "      <td>zzwq</td>\n",
       "      <td>south</td>\n",
       "      <td>1</td>\n",
       "      <td>1271.0</td>\n",
       "    </tr>\n",
       "    <tr>\n",
       "      <th>17059</th>\n",
       "      <td>zzyb</td>\n",
       "      <td>south</td>\n",
       "      <td>1</td>\n",
       "      <td>9682.0</td>\n",
       "    </tr>\n",
       "  </tbody>\n",
       "</table>\n",
       "<p>17060 rows × 4 columns</p>\n",
       "</div>"
      ],
      "text/plain": [
       "        uid   region  severity    density\n",
       "0      aabm  midwest         1      585.0\n",
       "1      aacd    south         1      290.0\n",
       "2      aaee    south         1     1614.0\n",
       "3      aaff  midwest         3   111825.0\n",
       "4      aafl  midwest         4  2017313.0\n",
       "...     ...      ...       ...        ...\n",
       "17055  zzsv    south         3   113125.0\n",
       "17056  zzuq    south         3   175726.0\n",
       "17057  zzwo  midwest         2    48510.0\n",
       "17058  zzwq    south         1     1271.0\n",
       "17059  zzyb    south         1     9682.0\n",
       "\n",
       "[17060 rows x 4 columns]"
      ]
     },
     "execution_count": 26,
     "metadata": {},
     "output_type": "execute_result"
    }
   ],
   "source": [
    "train_labels"
   ]
  },
  {
   "attachments": {},
   "cell_type": "markdown",
   "id": "09f7514a",
   "metadata": {},
   "source": [
    "# Baseline analysis"
   ]
  },
  {
   "cell_type": "code",
   "execution_count": 27,
   "id": "2421d334-6a66-4ded-9685-ca211af79716",
   "metadata": {},
   "outputs": [],
   "source": [
    "# what will be the score with if all preds are dumb averages\n",
    "from sklearn.metrics import mean_squared_error as mse\n"
   ]
  },
  {
   "cell_type": "code",
   "execution_count": 28,
   "id": "63e203a0",
   "metadata": {},
   "outputs": [
    {
     "data": {
      "text/plain": [
       "1.1999064765759453"
      ]
     },
     "execution_count": 28,
     "metadata": {},
     "output_type": "execute_result"
    }
   ],
   "source": [
    "# avg of severity over all areas\n",
    "avg_severity = [train_labels.severity.mean()]*len(train_labels)\n",
    "\n",
    "mse(train_labels.severity, avg_severity, squared=False)   # really why heck is the given lgbm baseline 1.56? does that mean test and train set differs?"
   ]
  },
  {
   "cell_type": "code",
   "execution_count": 29,
   "id": "211d083e",
   "metadata": {},
   "outputs": [
    {
     "data": {
      "text/html": [
       "<div>\n",
       "<style scoped>\n",
       "    .dataframe tbody tr th:only-of-type {\n",
       "        vertical-align: middle;\n",
       "    }\n",
       "\n",
       "    .dataframe tbody tr th {\n",
       "        vertical-align: top;\n",
       "    }\n",
       "\n",
       "    .dataframe thead th {\n",
       "        text-align: right;\n",
       "    }\n",
       "</style>\n",
       "<table border=\"1\" class=\"dataframe\">\n",
       "  <thead>\n",
       "    <tr style=\"text-align: right;\">\n",
       "      <th></th>\n",
       "      <th>region</th>\n",
       "      <th>severity</th>\n",
       "    </tr>\n",
       "  </thead>\n",
       "  <tbody>\n",
       "    <tr>\n",
       "      <th>0</th>\n",
       "      <td>midwest</td>\n",
       "      <td>2.194091</td>\n",
       "    </tr>\n",
       "    <tr>\n",
       "      <th>1</th>\n",
       "      <td>northeast</td>\n",
       "      <td>1.805774</td>\n",
       "    </tr>\n",
       "    <tr>\n",
       "      <th>2</th>\n",
       "      <td>south</td>\n",
       "      <td>1.567652</td>\n",
       "    </tr>\n",
       "    <tr>\n",
       "      <th>3</th>\n",
       "      <td>west</td>\n",
       "      <td>3.747413</td>\n",
       "    </tr>\n",
       "  </tbody>\n",
       "</table>\n",
       "</div>"
      ],
      "text/plain": [
       "      region  severity\n",
       "0    midwest  2.194091\n",
       "1  northeast  1.805774\n",
       "2      south  1.567652\n",
       "3       west  3.747413"
      ]
     },
     "execution_count": 29,
     "metadata": {},
     "output_type": "execute_result"
    }
   ],
   "source": [
    "# avg of severity grouped by regions\n",
    "\n",
    "avg_severity_by_region = train_labels.groupby('region').severity.mean().reset_index()\n",
    "\n",
    "avg_severity_by_region"
   ]
  },
  {
   "cell_type": "code",
   "execution_count": 30,
   "id": "8c18e552",
   "metadata": {},
   "outputs": [
    {
     "data": {
      "text/html": [
       "<div>\n",
       "<style scoped>\n",
       "    .dataframe tbody tr th:only-of-type {\n",
       "        vertical-align: middle;\n",
       "    }\n",
       "\n",
       "    .dataframe tbody tr th {\n",
       "        vertical-align: top;\n",
       "    }\n",
       "\n",
       "    .dataframe thead th {\n",
       "        text-align: right;\n",
       "    }\n",
       "</style>\n",
       "<table border=\"1\" class=\"dataframe\">\n",
       "  <thead>\n",
       "    <tr style=\"text-align: right;\">\n",
       "      <th></th>\n",
       "      <th>uid</th>\n",
       "      <th>region</th>\n",
       "      <th>severity</th>\n",
       "      <th>density</th>\n",
       "      <th>avg_severity_by_region</th>\n",
       "    </tr>\n",
       "  </thead>\n",
       "  <tbody>\n",
       "    <tr>\n",
       "      <th>0</th>\n",
       "      <td>aabm</td>\n",
       "      <td>midwest</td>\n",
       "      <td>1</td>\n",
       "      <td>585.0</td>\n",
       "      <td>2</td>\n",
       "    </tr>\n",
       "    <tr>\n",
       "      <th>1</th>\n",
       "      <td>aacd</td>\n",
       "      <td>south</td>\n",
       "      <td>1</td>\n",
       "      <td>290.0</td>\n",
       "      <td>2</td>\n",
       "    </tr>\n",
       "    <tr>\n",
       "      <th>2</th>\n",
       "      <td>aaee</td>\n",
       "      <td>south</td>\n",
       "      <td>1</td>\n",
       "      <td>1614.0</td>\n",
       "      <td>2</td>\n",
       "    </tr>\n",
       "    <tr>\n",
       "      <th>3</th>\n",
       "      <td>aaff</td>\n",
       "      <td>midwest</td>\n",
       "      <td>3</td>\n",
       "      <td>111825.0</td>\n",
       "      <td>2</td>\n",
       "    </tr>\n",
       "    <tr>\n",
       "      <th>4</th>\n",
       "      <td>aafl</td>\n",
       "      <td>midwest</td>\n",
       "      <td>4</td>\n",
       "      <td>2017313.0</td>\n",
       "      <td>2</td>\n",
       "    </tr>\n",
       "    <tr>\n",
       "      <th>...</th>\n",
       "      <td>...</td>\n",
       "      <td>...</td>\n",
       "      <td>...</td>\n",
       "      <td>...</td>\n",
       "      <td>...</td>\n",
       "    </tr>\n",
       "    <tr>\n",
       "      <th>17055</th>\n",
       "      <td>zzsv</td>\n",
       "      <td>south</td>\n",
       "      <td>3</td>\n",
       "      <td>113125.0</td>\n",
       "      <td>2</td>\n",
       "    </tr>\n",
       "    <tr>\n",
       "      <th>17056</th>\n",
       "      <td>zzuq</td>\n",
       "      <td>south</td>\n",
       "      <td>3</td>\n",
       "      <td>175726.0</td>\n",
       "      <td>2</td>\n",
       "    </tr>\n",
       "    <tr>\n",
       "      <th>17057</th>\n",
       "      <td>zzwo</td>\n",
       "      <td>midwest</td>\n",
       "      <td>2</td>\n",
       "      <td>48510.0</td>\n",
       "      <td>2</td>\n",
       "    </tr>\n",
       "    <tr>\n",
       "      <th>17058</th>\n",
       "      <td>zzwq</td>\n",
       "      <td>south</td>\n",
       "      <td>1</td>\n",
       "      <td>1271.0</td>\n",
       "      <td>2</td>\n",
       "    </tr>\n",
       "    <tr>\n",
       "      <th>17059</th>\n",
       "      <td>zzyb</td>\n",
       "      <td>south</td>\n",
       "      <td>1</td>\n",
       "      <td>9682.0</td>\n",
       "      <td>2</td>\n",
       "    </tr>\n",
       "  </tbody>\n",
       "</table>\n",
       "<p>17060 rows × 5 columns</p>\n",
       "</div>"
      ],
      "text/plain": [
       "        uid   region  severity    density  avg_severity_by_region\n",
       "0      aabm  midwest         1      585.0                       2\n",
       "1      aacd    south         1      290.0                       2\n",
       "2      aaee    south         1     1614.0                       2\n",
       "3      aaff  midwest         3   111825.0                       2\n",
       "4      aafl  midwest         4  2017313.0                       2\n",
       "...     ...      ...       ...        ...                     ...\n",
       "17055  zzsv    south         3   113125.0                       2\n",
       "17056  zzuq    south         3   175726.0                       2\n",
       "17057  zzwo  midwest         2    48510.0                       2\n",
       "17058  zzwq    south         1     1271.0                       2\n",
       "17059  zzyb    south         1     9682.0                       2\n",
       "\n",
       "[17060 rows x 5 columns]"
      ]
     },
     "execution_count": 30,
     "metadata": {},
     "output_type": "execute_result"
    }
   ],
   "source": [
    "avg_severity_by_region_map = {\n",
    "                                \"midwest\" : 2,\n",
    "                                \"northeast\" : 2,\n",
    "                                \"south\" : 2,\n",
    "                                \"west\" : 4\n",
    "                            }\n",
    "train_labels['avg_severity_by_region'] = train_labels['region'].map(avg_severity_by_region_map)\n",
    "train_labels"
   ]
  },
  {
   "cell_type": "code",
   "execution_count": 31,
   "id": "5466cf96",
   "metadata": {},
   "outputs": [
    {
     "data": {
      "text/plain": [
       "0.894754808017972"
      ]
     },
     "execution_count": 31,
     "metadata": {},
     "output_type": "execute_result"
    }
   ],
   "source": [
    "mse(train_labels.severity, train_labels.avg_severity_by_region, squared=False)\n",
    "# twice better than given lgbm baseline"
   ]
  },
  {
   "cell_type": "code",
   "execution_count": 31,
   "id": "e68600bb",
   "metadata": {},
   "outputs": [
    {
     "data": {
      "text/plain": [
       "0.9378081752177657"
      ]
     },
     "execution_count": 31,
     "metadata": {},
     "output_type": "execute_result"
    }
   ],
   "source": [
    "# avg_severity_by_region_map = {\n",
    "#                                 \"midwest\" : 2,\n",
    "#                                 \"northeast\" : 2,\n",
    "#                                 \"south\" : 1,\n",
    "#                                 \"west\" : 4\n",
    "#                             }\n",
    "# train_labels['avg_severity_by_region'] = train_labels['region'].map(avg_severity_by_region_map)\n",
    "# mse(train_labels.severity, train_labels.avg_severity_by_region, squared=False)"
   ]
  },
  {
   "cell_type": "code",
   "execution_count": 32,
   "id": "967f2d78",
   "metadata": {},
   "outputs": [
    {
     "data": {
      "text/html": [
       "<div>\n",
       "<style scoped>\n",
       "    .dataframe tbody tr th:only-of-type {\n",
       "        vertical-align: middle;\n",
       "    }\n",
       "\n",
       "    .dataframe tbody tr th {\n",
       "        vertical-align: top;\n",
       "    }\n",
       "\n",
       "    .dataframe thead th {\n",
       "        text-align: right;\n",
       "    }\n",
       "</style>\n",
       "<table border=\"1\" class=\"dataframe\">\n",
       "  <thead>\n",
       "    <tr style=\"text-align: right;\">\n",
       "      <th></th>\n",
       "      <th>uid</th>\n",
       "      <th>region</th>\n",
       "      <th>severity</th>\n",
       "    </tr>\n",
       "  </thead>\n",
       "  <tbody>\n",
       "    <tr>\n",
       "      <th>0</th>\n",
       "      <td>aabn</td>\n",
       "      <td>west</td>\n",
       "      <td>4</td>\n",
       "    </tr>\n",
       "    <tr>\n",
       "      <th>1</th>\n",
       "      <td>aair</td>\n",
       "      <td>west</td>\n",
       "      <td>4</td>\n",
       "    </tr>\n",
       "    <tr>\n",
       "      <th>2</th>\n",
       "      <td>aajw</td>\n",
       "      <td>northeast</td>\n",
       "      <td>2</td>\n",
       "    </tr>\n",
       "    <tr>\n",
       "      <th>3</th>\n",
       "      <td>aalr</td>\n",
       "      <td>midwest</td>\n",
       "      <td>2</td>\n",
       "    </tr>\n",
       "    <tr>\n",
       "      <th>4</th>\n",
       "      <td>aalw</td>\n",
       "      <td>west</td>\n",
       "      <td>4</td>\n",
       "    </tr>\n",
       "    <tr>\n",
       "      <th>...</th>\n",
       "      <td>...</td>\n",
       "      <td>...</td>\n",
       "      <td>...</td>\n",
       "    </tr>\n",
       "    <tr>\n",
       "      <th>6505</th>\n",
       "      <td>zzpn</td>\n",
       "      <td>northeast</td>\n",
       "      <td>2</td>\n",
       "    </tr>\n",
       "    <tr>\n",
       "      <th>6506</th>\n",
       "      <td>zzrv</td>\n",
       "      <td>west</td>\n",
       "      <td>4</td>\n",
       "    </tr>\n",
       "    <tr>\n",
       "      <th>6507</th>\n",
       "      <td>zzsx</td>\n",
       "      <td>south</td>\n",
       "      <td>2</td>\n",
       "    </tr>\n",
       "    <tr>\n",
       "      <th>6508</th>\n",
       "      <td>zzvv</td>\n",
       "      <td>west</td>\n",
       "      <td>4</td>\n",
       "    </tr>\n",
       "    <tr>\n",
       "      <th>6509</th>\n",
       "      <td>zzzi</td>\n",
       "      <td>midwest</td>\n",
       "      <td>2</td>\n",
       "    </tr>\n",
       "  </tbody>\n",
       "</table>\n",
       "<p>6510 rows × 3 columns</p>\n",
       "</div>"
      ],
      "text/plain": [
       "       uid     region  severity\n",
       "0     aabn       west         4\n",
       "1     aair       west         4\n",
       "2     aajw  northeast         2\n",
       "3     aalr    midwest         2\n",
       "4     aalw       west         4\n",
       "...    ...        ...       ...\n",
       "6505  zzpn  northeast         2\n",
       "6506  zzrv       west         4\n",
       "6507  zzsx      south         2\n",
       "6508  zzvv       west         4\n",
       "6509  zzzi    midwest         2\n",
       "\n",
       "[6510 rows x 3 columns]"
      ]
     },
     "execution_count": 32,
     "metadata": {},
     "output_type": "execute_result"
    }
   ],
   "source": [
    "sub_format['severity'] = sub_format.region.map(avg_severity_by_region_map)\n",
    "sub_format"
   ]
  },
  {
   "cell_type": "code",
   "execution_count": 33,
   "id": "029b521f",
   "metadata": {},
   "outputs": [],
   "source": [
    "# first prediction avg severity by region\n",
    "sub_format.to_csv('../submissions/avg_severity_by_region.csv', index=False)\n",
    "# i'm wondering if this is right to do..."
   ]
  },
  {
   "cell_type": "code",
   "execution_count": 34,
   "id": "7cd25202",
   "metadata": {},
   "outputs": [
    {
     "data": {
      "text/plain": [
       "<AxesSubplot:>"
      ]
     },
     "execution_count": 34,
     "metadata": {},
     "output_type": "execute_result"
    },
    {
     "data": {
      "image/png": "[encoded data removed]",
      "text/plain": [
       "<Figure size 640x480 with 1 Axes>"
      ]
     },
     "metadata": {},
     "output_type": "display_data"
    }
   ],
   "source": [
    "# Better modelling than avg severity by region --> using date time.\n",
    "\n",
    "train_labels[train_labels['region'] == 'midwest'].severity.rolling(1000).mean().plot()"
   ]
  },
  {
   "cell_type": "code",
   "execution_count": 35,
   "id": "45625755",
   "metadata": {},
   "outputs": [
    {
     "data": {
      "text/plain": [
       "Text(0.5, 1.0, 'west')"
      ]
     },
     "execution_count": 35,
     "metadata": {},
     "output_type": "execute_result"
    },
    {
     "data": {
      "image/png": "[encoded data removed]",
      "text/plain": [
       "<Figure size 2000x1000 with 4 Axes>"
      ]
     },
     "metadata": {},
     "output_type": "display_data"
    }
   ],
   "source": [
    "# plot rolling average of severity by region\n",
    "\n",
    "fig, ax = plt.subplots(2,2, figsize=(20,10))\n",
    "ax[0,0].plot(train_labels[train_labels['region'] == 'midwest'].severity.rolling(1000).mean())\n",
    "ax[0,0].set_title('midwest')\n",
    "ax[0,1].plot(train_labels[train_labels['region'] == 'northeast'].severity.rolling(1000).mean())\n",
    "ax[0,1].set_title('northeast')\n",
    "ax[1,0].plot(train_labels[train_labels['region'] == 'south'].severity.rolling(1000).mean())\n",
    "ax[1,0].set_title('south')\n",
    "ax[1,1].plot(train_labels[train_labels['region'] == 'west'].severity.rolling(1000).mean())\n",
    "ax[1,1].set_title('west')\n",
    "\n"
   ]
  },
  {
   "cell_type": "code",
   "execution_count": 36,
   "id": "6789f699",
   "metadata": {},
   "outputs": [
    {
     "data": {
      "text/plain": [
       "8     4330\n",
       "7     3392\n",
       "6     3091\n",
       "9     2593\n",
       "5     2288\n",
       "4     1632\n",
       "10    1333\n",
       "3     1125\n",
       "12    1055\n",
       "1      987\n",
       "2      912\n",
       "11     832\n",
       "Name: date, dtype: int64"
      ]
     },
     "execution_count": 36,
     "metadata": {},
     "output_type": "execute_result"
    }
   ],
   "source": [
    "metadata.date.dt.month.value_counts()"
   ]
  },
  {
   "cell_type": "code",
   "execution_count": 37,
   "id": "ecf93e02",
   "metadata": {},
   "outputs": [
    {
     "data": {
      "text/html": [
       "<div>\n",
       "<style scoped>\n",
       "    .dataframe tbody tr th:only-of-type {\n",
       "        vertical-align: middle;\n",
       "    }\n",
       "\n",
       "    .dataframe tbody tr th {\n",
       "        vertical-align: top;\n",
       "    }\n",
       "\n",
       "    .dataframe thead th {\n",
       "        text-align: right;\n",
       "    }\n",
       "</style>\n",
       "<table border=\"1\" class=\"dataframe\">\n",
       "  <thead>\n",
       "    <tr style=\"text-align: right;\">\n",
       "      <th></th>\n",
       "      <th>uid</th>\n",
       "      <th>region</th>\n",
       "      <th>severity</th>\n",
       "      <th>density</th>\n",
       "      <th>avg_severity_by_region</th>\n",
       "      <th>latitude</th>\n",
       "      <th>longitude</th>\n",
       "      <th>date</th>\n",
       "      <th>split</th>\n",
       "    </tr>\n",
       "  </thead>\n",
       "  <tbody>\n",
       "    <tr>\n",
       "      <th>0</th>\n",
       "      <td>aabm</td>\n",
       "      <td>midwest</td>\n",
       "      <td>1</td>\n",
       "      <td>585.0</td>\n",
       "      <td>2</td>\n",
       "      <td>39.080319</td>\n",
       "      <td>-86.430867</td>\n",
       "      <td>2018-05-14</td>\n",
       "      <td>train</td>\n",
       "    </tr>\n",
       "    <tr>\n",
       "      <th>1</th>\n",
       "      <td>aacd</td>\n",
       "      <td>south</td>\n",
       "      <td>1</td>\n",
       "      <td>290.0</td>\n",
       "      <td>2</td>\n",
       "      <td>35.875083</td>\n",
       "      <td>-78.878434</td>\n",
       "      <td>2020-11-19</td>\n",
       "      <td>train</td>\n",
       "    </tr>\n",
       "    <tr>\n",
       "      <th>2</th>\n",
       "      <td>aaee</td>\n",
       "      <td>south</td>\n",
       "      <td>1</td>\n",
       "      <td>1614.0</td>\n",
       "      <td>2</td>\n",
       "      <td>35.487000</td>\n",
       "      <td>-79.062133</td>\n",
       "      <td>2016-08-24</td>\n",
       "      <td>train</td>\n",
       "    </tr>\n",
       "    <tr>\n",
       "      <th>3</th>\n",
       "      <td>aaff</td>\n",
       "      <td>midwest</td>\n",
       "      <td>3</td>\n",
       "      <td>111825.0</td>\n",
       "      <td>2</td>\n",
       "      <td>38.049471</td>\n",
       "      <td>-99.827001</td>\n",
       "      <td>2019-07-23</td>\n",
       "      <td>train</td>\n",
       "    </tr>\n",
       "    <tr>\n",
       "      <th>4</th>\n",
       "      <td>aafl</td>\n",
       "      <td>midwest</td>\n",
       "      <td>4</td>\n",
       "      <td>2017313.0</td>\n",
       "      <td>2</td>\n",
       "      <td>39.474744</td>\n",
       "      <td>-86.898353</td>\n",
       "      <td>2021-08-23</td>\n",
       "      <td>train</td>\n",
       "    </tr>\n",
       "    <tr>\n",
       "      <th>...</th>\n",
       "      <td>...</td>\n",
       "      <td>...</td>\n",
       "      <td>...</td>\n",
       "      <td>...</td>\n",
       "      <td>...</td>\n",
       "      <td>...</td>\n",
       "      <td>...</td>\n",
       "      <td>...</td>\n",
       "      <td>...</td>\n",
       "    </tr>\n",
       "    <tr>\n",
       "      <th>17055</th>\n",
       "      <td>zzsv</td>\n",
       "      <td>south</td>\n",
       "      <td>3</td>\n",
       "      <td>113125.0</td>\n",
       "      <td>2</td>\n",
       "      <td>38.707825</td>\n",
       "      <td>-75.080867</td>\n",
       "      <td>2018-06-27</td>\n",
       "      <td>train</td>\n",
       "    </tr>\n",
       "    <tr>\n",
       "      <th>17056</th>\n",
       "      <td>zzuq</td>\n",
       "      <td>south</td>\n",
       "      <td>3</td>\n",
       "      <td>175726.0</td>\n",
       "      <td>2</td>\n",
       "      <td>35.794000</td>\n",
       "      <td>-79.015368</td>\n",
       "      <td>2015-08-06</td>\n",
       "      <td>train</td>\n",
       "    </tr>\n",
       "    <tr>\n",
       "      <th>17057</th>\n",
       "      <td>zzwo</td>\n",
       "      <td>midwest</td>\n",
       "      <td>2</td>\n",
       "      <td>48510.0</td>\n",
       "      <td>2</td>\n",
       "      <td>39.792190</td>\n",
       "      <td>-99.971050</td>\n",
       "      <td>2017-06-19</td>\n",
       "      <td>train</td>\n",
       "    </tr>\n",
       "    <tr>\n",
       "      <th>17058</th>\n",
       "      <td>zzwq</td>\n",
       "      <td>south</td>\n",
       "      <td>1</td>\n",
       "      <td>1271.0</td>\n",
       "      <td>2</td>\n",
       "      <td>35.794000</td>\n",
       "      <td>-79.012551</td>\n",
       "      <td>2015-03-24</td>\n",
       "      <td>train</td>\n",
       "    </tr>\n",
       "    <tr>\n",
       "      <th>17059</th>\n",
       "      <td>zzyb</td>\n",
       "      <td>south</td>\n",
       "      <td>1</td>\n",
       "      <td>9682.0</td>\n",
       "      <td>2</td>\n",
       "      <td>35.742000</td>\n",
       "      <td>-79.238600</td>\n",
       "      <td>2016-11-21</td>\n",
       "      <td>train</td>\n",
       "    </tr>\n",
       "  </tbody>\n",
       "</table>\n",
       "<p>17060 rows × 9 columns</p>\n",
       "</div>"
      ],
      "text/plain": [
       "        uid   region  severity    density  avg_severity_by_region   latitude  \\\n",
       "0      aabm  midwest         1      585.0                       2  39.080319   \n",
       "1      aacd    south         1      290.0                       2  35.875083   \n",
       "2      aaee    south         1     1614.0                       2  35.487000   \n",
       "3      aaff  midwest         3   111825.0                       2  38.049471   \n",
       "4      aafl  midwest         4  2017313.0                       2  39.474744   \n",
       "...     ...      ...       ...        ...                     ...        ...   \n",
       "17055  zzsv    south         3   113125.0                       2  38.707825   \n",
       "17056  zzuq    south         3   175726.0                       2  35.794000   \n",
       "17057  zzwo  midwest         2    48510.0                       2  39.792190   \n",
       "17058  zzwq    south         1     1271.0                       2  35.794000   \n",
       "17059  zzyb    south         1     9682.0                       2  35.742000   \n",
       "\n",
       "       longitude       date  split  \n",
       "0     -86.430867 2018-05-14  train  \n",
       "1     -78.878434 2020-11-19  train  \n",
       "2     -79.062133 2016-08-24  train  \n",
       "3     -99.827001 2019-07-23  train  \n",
       "4     -86.898353 2021-08-23  train  \n",
       "...          ...        ...    ...  \n",
       "17055 -75.080867 2018-06-27  train  \n",
       "17056 -79.015368 2015-08-06  train  \n",
       "17057 -99.971050 2017-06-19  train  \n",
       "17058 -79.012551 2015-03-24  train  \n",
       "17059 -79.238600 2016-11-21  train  \n",
       "\n",
       "[17060 rows x 9 columns]"
      ]
     },
     "execution_count": 37,
     "metadata": {},
     "output_type": "execute_result"
    }
   ],
   "source": [
    "data = pd.merge(train_labels, metadata, on='uid')\n",
    "data"
   ]
  },
  {
   "cell_type": "code",
   "execution_count": 38,
   "id": "6f654a73",
   "metadata": {},
   "outputs": [
    {
     "data": {
      "text/html": [
       "<div>\n",
       "<style scoped>\n",
       "    .dataframe tbody tr th:only-of-type {\n",
       "        vertical-align: middle;\n",
       "    }\n",
       "\n",
       "    .dataframe tbody tr th {\n",
       "        vertical-align: top;\n",
       "    }\n",
       "\n",
       "    .dataframe thead th {\n",
       "        text-align: right;\n",
       "    }\n",
       "</style>\n",
       "<table border=\"1\" class=\"dataframe\">\n",
       "  <thead>\n",
       "    <tr style=\"text-align: right;\">\n",
       "      <th></th>\n",
       "      <th>uid</th>\n",
       "      <th>region</th>\n",
       "      <th>severity</th>\n",
       "      <th>density</th>\n",
       "      <th>avg_severity_by_region</th>\n",
       "      <th>latitude</th>\n",
       "      <th>longitude</th>\n",
       "      <th>date</th>\n",
       "      <th>split</th>\n",
       "      <th>month</th>\n",
       "      <th>year</th>\n",
       "    </tr>\n",
       "  </thead>\n",
       "  <tbody>\n",
       "    <tr>\n",
       "      <th>0</th>\n",
       "      <td>aabm</td>\n",
       "      <td>midwest</td>\n",
       "      <td>1</td>\n",
       "      <td>585.0</td>\n",
       "      <td>2</td>\n",
       "      <td>39.080319</td>\n",
       "      <td>-86.430867</td>\n",
       "      <td>2018-05-14</td>\n",
       "      <td>train</td>\n",
       "      <td>5</td>\n",
       "      <td>2018</td>\n",
       "    </tr>\n",
       "    <tr>\n",
       "      <th>1</th>\n",
       "      <td>aacd</td>\n",
       "      <td>south</td>\n",
       "      <td>1</td>\n",
       "      <td>290.0</td>\n",
       "      <td>2</td>\n",
       "      <td>35.875083</td>\n",
       "      <td>-78.878434</td>\n",
       "      <td>2020-11-19</td>\n",
       "      <td>train</td>\n",
       "      <td>11</td>\n",
       "      <td>2020</td>\n",
       "    </tr>\n",
       "    <tr>\n",
       "      <th>2</th>\n",
       "      <td>aaee</td>\n",
       "      <td>south</td>\n",
       "      <td>1</td>\n",
       "      <td>1614.0</td>\n",
       "      <td>2</td>\n",
       "      <td>35.487000</td>\n",
       "      <td>-79.062133</td>\n",
       "      <td>2016-08-24</td>\n",
       "      <td>train</td>\n",
       "      <td>8</td>\n",
       "      <td>2016</td>\n",
       "    </tr>\n",
       "    <tr>\n",
       "      <th>3</th>\n",
       "      <td>aaff</td>\n",
       "      <td>midwest</td>\n",
       "      <td>3</td>\n",
       "      <td>111825.0</td>\n",
       "      <td>2</td>\n",
       "      <td>38.049471</td>\n",
       "      <td>-99.827001</td>\n",
       "      <td>2019-07-23</td>\n",
       "      <td>train</td>\n",
       "      <td>7</td>\n",
       "      <td>2019</td>\n",
       "    </tr>\n",
       "    <tr>\n",
       "      <th>4</th>\n",
       "      <td>aafl</td>\n",
       "      <td>midwest</td>\n",
       "      <td>4</td>\n",
       "      <td>2017313.0</td>\n",
       "      <td>2</td>\n",
       "      <td>39.474744</td>\n",
       "      <td>-86.898353</td>\n",
       "      <td>2021-08-23</td>\n",
       "      <td>train</td>\n",
       "      <td>8</td>\n",
       "      <td>2021</td>\n",
       "    </tr>\n",
       "    <tr>\n",
       "      <th>...</th>\n",
       "      <td>...</td>\n",
       "      <td>...</td>\n",
       "      <td>...</td>\n",
       "      <td>...</td>\n",
       "      <td>...</td>\n",
       "      <td>...</td>\n",
       "      <td>...</td>\n",
       "      <td>...</td>\n",
       "      <td>...</td>\n",
       "      <td>...</td>\n",
       "      <td>...</td>\n",
       "    </tr>\n",
       "    <tr>\n",
       "      <th>17055</th>\n",
       "      <td>zzsv</td>\n",
       "      <td>south</td>\n",
       "      <td>3</td>\n",
       "      <td>113125.0</td>\n",
       "      <td>2</td>\n",
       "      <td>38.707825</td>\n",
       "      <td>-75.080867</td>\n",
       "      <td>2018-06-27</td>\n",
       "      <td>train</td>\n",
       "      <td>6</td>\n",
       "      <td>2018</td>\n",
       "    </tr>\n",
       "    <tr>\n",
       "      <th>17056</th>\n",
       "      <td>zzuq</td>\n",
       "      <td>south</td>\n",
       "      <td>3</td>\n",
       "      <td>175726.0</td>\n",
       "      <td>2</td>\n",
       "      <td>35.794000</td>\n",
       "      <td>-79.015368</td>\n",
       "      <td>2015-08-06</td>\n",
       "      <td>train</td>\n",
       "      <td>8</td>\n",
       "      <td>2015</td>\n",
       "    </tr>\n",
       "    <tr>\n",
       "      <th>17057</th>\n",
       "      <td>zzwo</td>\n",
       "      <td>midwest</td>\n",
       "      <td>2</td>\n",
       "      <td>48510.0</td>\n",
       "      <td>2</td>\n",
       "      <td>39.792190</td>\n",
       "      <td>-99.971050</td>\n",
       "      <td>2017-06-19</td>\n",
       "      <td>train</td>\n",
       "      <td>6</td>\n",
       "      <td>2017</td>\n",
       "    </tr>\n",
       "    <tr>\n",
       "      <th>17058</th>\n",
       "      <td>zzwq</td>\n",
       "      <td>south</td>\n",
       "      <td>1</td>\n",
       "      <td>1271.0</td>\n",
       "      <td>2</td>\n",
       "      <td>35.794000</td>\n",
       "      <td>-79.012551</td>\n",
       "      <td>2015-03-24</td>\n",
       "      <td>train</td>\n",
       "      <td>3</td>\n",
       "      <td>2015</td>\n",
       "    </tr>\n",
       "    <tr>\n",
       "      <th>17059</th>\n",
       "      <td>zzyb</td>\n",
       "      <td>south</td>\n",
       "      <td>1</td>\n",
       "      <td>9682.0</td>\n",
       "      <td>2</td>\n",
       "      <td>35.742000</td>\n",
       "      <td>-79.238600</td>\n",
       "      <td>2016-11-21</td>\n",
       "      <td>train</td>\n",
       "      <td>11</td>\n",
       "      <td>2016</td>\n",
       "    </tr>\n",
       "  </tbody>\n",
       "</table>\n",
       "<p>17060 rows × 11 columns</p>\n",
       "</div>"
      ],
      "text/plain": [
       "        uid   region  severity    density  avg_severity_by_region   latitude  \\\n",
       "0      aabm  midwest         1      585.0                       2  39.080319   \n",
       "1      aacd    south         1      290.0                       2  35.875083   \n",
       "2      aaee    south         1     1614.0                       2  35.487000   \n",
       "3      aaff  midwest         3   111825.0                       2  38.049471   \n",
       "4      aafl  midwest         4  2017313.0                       2  39.474744   \n",
       "...     ...      ...       ...        ...                     ...        ...   \n",
       "17055  zzsv    south         3   113125.0                       2  38.707825   \n",
       "17056  zzuq    south         3   175726.0                       2  35.794000   \n",
       "17057  zzwo  midwest         2    48510.0                       2  39.792190   \n",
       "17058  zzwq    south         1     1271.0                       2  35.794000   \n",
       "17059  zzyb    south         1     9682.0                       2  35.742000   \n",
       "\n",
       "       longitude       date  split  month  year  \n",
       "0     -86.430867 2018-05-14  train      5  2018  \n",
       "1     -78.878434 2020-11-19  train     11  2020  \n",
       "2     -79.062133 2016-08-24  train      8  2016  \n",
       "3     -99.827001 2019-07-23  train      7  2019  \n",
       "4     -86.898353 2021-08-23  train      8  2021  \n",
       "...          ...        ...    ...    ...   ...  \n",
       "17055 -75.080867 2018-06-27  train      6  2018  \n",
       "17056 -79.015368 2015-08-06  train      8  2015  \n",
       "17057 -99.971050 2017-06-19  train      6  2017  \n",
       "17058 -79.012551 2015-03-24  train      3  2015  \n",
       "17059 -79.238600 2016-11-21  train     11  2016  \n",
       "\n",
       "[17060 rows x 11 columns]"
      ]
     },
     "execution_count": 38,
     "metadata": {},
     "output_type": "execute_result"
    }
   ],
   "source": [
    "data['month'] = data.date.dt.month\n",
    "data['year'] = data.date.dt.year\n",
    "data"
   ]
  },
  {
   "cell_type": "code",
   "execution_count": 39,
   "id": "1bcb69f8",
   "metadata": {},
   "outputs": [
    {
     "data": {
      "text/html": [
       "<div>\n",
       "<style scoped>\n",
       "    .dataframe tbody tr th:only-of-type {\n",
       "        vertical-align: middle;\n",
       "    }\n",
       "\n",
       "    .dataframe tbody tr th {\n",
       "        vertical-align: top;\n",
       "    }\n",
       "\n",
       "    .dataframe thead th {\n",
       "        text-align: right;\n",
       "    }\n",
       "</style>\n",
       "<table border=\"1\" class=\"dataframe\">\n",
       "  <thead>\n",
       "    <tr style=\"text-align: right;\">\n",
       "      <th>month</th>\n",
       "      <th>1</th>\n",
       "      <th>2</th>\n",
       "      <th>3</th>\n",
       "      <th>4</th>\n",
       "      <th>5</th>\n",
       "      <th>6</th>\n",
       "      <th>7</th>\n",
       "      <th>8</th>\n",
       "      <th>9</th>\n",
       "      <th>10</th>\n",
       "      <th>11</th>\n",
       "      <th>12</th>\n",
       "    </tr>\n",
       "    <tr>\n",
       "      <th>region</th>\n",
       "      <th></th>\n",
       "      <th></th>\n",
       "      <th></th>\n",
       "      <th></th>\n",
       "      <th></th>\n",
       "      <th></th>\n",
       "      <th></th>\n",
       "      <th></th>\n",
       "      <th></th>\n",
       "      <th></th>\n",
       "      <th></th>\n",
       "      <th></th>\n",
       "    </tr>\n",
       "  </thead>\n",
       "  <tbody>\n",
       "    <tr>\n",
       "      <th>midwest</th>\n",
       "      <td>1.0</td>\n",
       "      <td>1.0</td>\n",
       "      <td>1.0</td>\n",
       "      <td>1.0</td>\n",
       "      <td>2.0</td>\n",
       "      <td>2.0</td>\n",
       "      <td>3.0</td>\n",
       "      <td>2.0</td>\n",
       "      <td>3.0</td>\n",
       "      <td>2.0</td>\n",
       "      <td>2.0</td>\n",
       "      <td>3.0</td>\n",
       "    </tr>\n",
       "    <tr>\n",
       "      <th>northeast</th>\n",
       "      <td>1.0</td>\n",
       "      <td>1.0</td>\n",
       "      <td>1.0</td>\n",
       "      <td>1.0</td>\n",
       "      <td>2.0</td>\n",
       "      <td>1.0</td>\n",
       "      <td>2.0</td>\n",
       "      <td>2.0</td>\n",
       "      <td>2.0</td>\n",
       "      <td>2.0</td>\n",
       "      <td>1.0</td>\n",
       "      <td>2.0</td>\n",
       "    </tr>\n",
       "    <tr>\n",
       "      <th>south</th>\n",
       "      <td>1.0</td>\n",
       "      <td>1.0</td>\n",
       "      <td>1.0</td>\n",
       "      <td>1.0</td>\n",
       "      <td>1.0</td>\n",
       "      <td>2.0</td>\n",
       "      <td>2.0</td>\n",
       "      <td>2.0</td>\n",
       "      <td>2.0</td>\n",
       "      <td>2.0</td>\n",
       "      <td>2.0</td>\n",
       "      <td>1.0</td>\n",
       "    </tr>\n",
       "    <tr>\n",
       "      <th>west</th>\n",
       "      <td>4.0</td>\n",
       "      <td>4.0</td>\n",
       "      <td>4.0</td>\n",
       "      <td>4.0</td>\n",
       "      <td>4.0</td>\n",
       "      <td>4.0</td>\n",
       "      <td>4.0</td>\n",
       "      <td>3.0</td>\n",
       "      <td>4.0</td>\n",
       "      <td>3.0</td>\n",
       "      <td>4.0</td>\n",
       "      <td>4.0</td>\n",
       "    </tr>\n",
       "  </tbody>\n",
       "</table>\n",
       "</div>"
      ],
      "text/plain": [
       "month       1    2    3    4    5    6    7    8    9    10   11   12\n",
       "region                                                               \n",
       "midwest    1.0  1.0  1.0  1.0  2.0  2.0  3.0  2.0  3.0  2.0  2.0  3.0\n",
       "northeast  1.0  1.0  1.0  1.0  2.0  1.0  2.0  2.0  2.0  2.0  1.0  2.0\n",
       "south      1.0  1.0  1.0  1.0  1.0  2.0  2.0  2.0  2.0  2.0  2.0  1.0\n",
       "west       4.0  4.0  4.0  4.0  4.0  4.0  4.0  3.0  4.0  3.0  4.0  4.0"
      ]
     },
     "execution_count": 39,
     "metadata": {},
     "output_type": "execute_result"
    }
   ],
   "source": [
    "avg_by_region_and_month = data.groupby(['region', 'month']).severity.mean().unstack().apply(np.round).fillna(1.0)\n",
    "avg_by_region_and_month"
   ]
  },
  {
   "cell_type": "code",
   "execution_count": 40,
   "id": "f2dba385",
   "metadata": {},
   "outputs": [],
   "source": [
    "train_labels['avg_by_region_and_month'] = data[['region', 'month']].apply(lambda x: avg_by_region_and_month[x[1]][x[0]], axis=1)"
   ]
  },
  {
   "cell_type": "code",
   "execution_count": 41,
   "id": "b66e59dd",
   "metadata": {},
   "outputs": [
    {
     "data": {
      "text/plain": [
       "4930"
      ]
     },
     "execution_count": 41,
     "metadata": {},
     "output_type": "execute_result"
    }
   ],
   "source": [
    "len(train_labels) - (train_labels['avg_by_region_and_month'] == train_labels.avg_severity_by_region).sum()"
   ]
  },
  {
   "cell_type": "code",
   "execution_count": 42,
   "id": "88e223f2",
   "metadata": {},
   "outputs": [
    {
     "data": {
      "text/plain": [
       "0.8579672806294627"
      ]
     },
     "execution_count": 42,
     "metadata": {},
     "output_type": "execute_result"
    }
   ],
   "source": [
    "mse(train_labels.severity, train_labels.avg_by_region_and_month, squared=False)"
   ]
  },
  {
   "cell_type": "code",
   "execution_count": 43,
   "id": "547597f5",
   "metadata": {},
   "outputs": [
    {
     "data": {
      "text/plain": [
       "0.8838793316505986"
      ]
     },
     "execution_count": 43,
     "metadata": {},
     "output_type": "execute_result"
    }
   ],
   "source": [
    "avg_by_region_and_year = data.groupby(['region', 'year']).severity.mean().unstack().apply(np.round).fillna(1.0)\n",
    "train_labels['avg_by_region_and_year'] = data[['region', 'year']].apply(lambda x: avg_by_region_and_year[x[1]][x[0]], axis=1)\n",
    "mse(train_labels.severity, train_labels.avg_by_region_and_year, squared=False)\n",
    "# months capture more variance than years"
   ]
  },
  {
   "cell_type": "code",
   "execution_count": 44,
   "id": "28ba2b50",
   "metadata": {},
   "outputs": [],
   "source": [
    "seasons = {\n",
    "    1: 1,\n",
    "    2: 1,\n",
    "    3: 2,\n",
    "    4: 2,\n",
    "    5: 2,\n",
    "    6: 3,\n",
    "    7: 3,\n",
    "    8: 3,\n",
    "    9: 4,\n",
    "    10: 4,\n",
    "    11: 4,\n",
    "    12: 1\n",
    "}\n",
    "\n",
    "data['season'] = data.month.map(seasons)"
   ]
  },
  {
   "cell_type": "code",
   "execution_count": 45,
   "id": "8350174f",
   "metadata": {},
   "outputs": [
    {
     "data": {
      "text/plain": [
       "0.8620907544645036"
      ]
     },
     "execution_count": 45,
     "metadata": {},
     "output_type": "execute_result"
    }
   ],
   "source": [
    "avg_by_region_and_season = data.groupby(['region', 'season']).severity.mean().unstack().apply(np.round).fillna(1.0)\n",
    "train_labels['avg_by_region_and_season'] = data[['region', 'season']].apply(lambda x: avg_by_region_and_season[x[1]][x[0]], axis=1)\n",
    "mse(train_labels.severity, train_labels.avg_by_region_and_season, squared=False)"
   ]
  },
  {
   "cell_type": "code",
   "execution_count": 46,
   "id": "4d99aa1e",
   "metadata": {},
   "outputs": [
    {
     "data": {
      "text/plain": [
       "0.8358890080406541"
      ]
     },
     "execution_count": 46,
     "metadata": {},
     "output_type": "execute_result"
    }
   ],
   "source": [
    "data['week'] = data.date.dt.isocalendar().week\n",
    "avg_by_region_and_week = data.groupby(['region', 'week']).severity.mean().unstack().apply(np.round).fillna(1.0)\n",
    "train_labels['avg_by_region_and_week'] = data[['region', 'week']].apply(lambda x: avg_by_region_and_week[x[1]][x[0]], axis=1)\n",
    "mse(train_labels.severity, train_labels.avg_by_region_and_week, squared=False)"
   ]
  },
  {
   "cell_type": "code",
   "execution_count": 47,
   "id": "4ce4e942",
   "metadata": {},
   "outputs": [
    {
     "data": {
      "text/plain": [
       "3850     1.0\n",
       "4456     1.0\n",
       "4034     1.0\n",
       "9894     1.0\n",
       "3177     1.0\n",
       "        ... \n",
       "12864    2.0\n",
       "8013     2.0\n",
       "4876     2.0\n",
       "13595    2.0\n",
       "16772    2.0\n",
       "Name: severity, Length: 17060, dtype: float64"
      ]
     },
     "execution_count": 47,
     "metadata": {},
     "output_type": "execute_result"
    }
   ],
   "source": [
    "# Use only the data that was available at time of collection\n",
    "\n",
    "# simple avg \n",
    "simple_rolling_avg = data.sort_values(by='date').severity.expanding(1).mean()\n",
    "simple_rolling_avg = simple_rolling_avg.map(np.round)\n",
    "simple_rolling_avg"
   ]
  },
  {
   "cell_type": "code",
   "execution_count": 71,
   "id": "6ecabc1c",
   "metadata": {},
   "outputs": [
    {
     "data": {
      "text/plain": [
       "3243"
      ]
     },
     "execution_count": 71,
     "metadata": {},
     "output_type": "execute_result"
    }
   ],
   "source": [
    "(data.sort_values(by='date').severity == simple_rolling_avg).sum()"
   ]
  },
  {
   "cell_type": "code",
   "execution_count": 49,
   "id": "1aefb491",
   "metadata": {},
   "outputs": [
    {
     "data": {
      "text/plain": [
       "1.2085810811762927"
      ]
     },
     "execution_count": 49,
     "metadata": {},
     "output_type": "execute_result"
    }
   ],
   "source": [
    "mse(data.sort_values(by='date').severity, simple_rolling_avg, squared=False)"
   ]
  },
  {
   "cell_type": "code",
   "execution_count": 50,
   "id": "c7b2088d",
   "metadata": {},
   "outputs": [
    {
     "data": {
      "text/plain": [
       "region        \n",
       "midwest  3850     1.0\n",
       "         4456     1.0\n",
       "         4034     1.0\n",
       "         9894     1.0\n",
       "         3177     1.0\n",
       "                 ... \n",
       "west     1264     4.0\n",
       "         6920     4.0\n",
       "         14230    4.0\n",
       "         15072    4.0\n",
       "         4211     4.0\n",
       "Name: severity, Length: 17060, dtype: float64"
      ]
     },
     "execution_count": 50,
     "metadata": {},
     "output_type": "execute_result"
    }
   ],
   "source": [
    "grp_by_region = data.sort_values(by='date').groupby('region').severity.expanding(1).mean()\n",
    "grp_by_region = grp_by_region.map(np.round)\n",
    "grp_by_region"
   ]
  },
  {
   "cell_type": "code",
   "execution_count": 70,
   "metadata": {},
   "outputs": [
    {
     "data": {
      "text/plain": [
       "0.8940994539360385"
      ]
     },
     "execution_count": 70,
     "metadata": {},
     "output_type": "execute_result"
    }
   ],
   "source": [
    "mse(train_labels.severity, grp_by_region.droplevel(0).sort_index().values, squared=False)"
   ]
  },
  {
   "cell_type": "code",
   "execution_count": null,
   "id": "3e700340",
   "metadata": {},
   "outputs": [],
   "source": []
  },
  {
   "cell_type": "code",
   "execution_count": null,
   "id": "b7afdd69",
   "metadata": {},
   "outputs": [],
   "source": []
  },
  {
   "cell_type": "code",
   "execution_count": null,
   "id": "812b59eb",
   "metadata": {},
   "outputs": [],
   "source": []
  },
  {
   "cell_type": "code",
   "execution_count": null,
   "id": "db5afc1d",
   "metadata": {},
   "outputs": [],
   "source": []
  },
  {
   "cell_type": "code",
   "execution_count": null,
   "id": "ea26c4ef",
   "metadata": {},
   "outputs": [],
   "source": []
  }
 ],
 "metadata": {
  "kernelspec": {
   "display_name": "Python 3",
   "language": "python",
   "name": "python3"
  },
  "language_info": {
   "codemirror_mode": {
    "name": "ipython",
    "version": 3
   },
   "file_extension": ".py",
   "mimetype": "text/x-python",
   "name": "python",
   "nbconvert_exporter": "python",
   "pygments_lexer": "ipython3",
   "version": "3.10.5"
  },
  "vscode": {
   "interpreter": {
    "hash": "186db977f413ae6598820b658aed1651932768522d0652c07d949b3f5fb38b63"
   }
  }
 },
 "nbformat": 4,
 "nbformat_minor": 5
}
