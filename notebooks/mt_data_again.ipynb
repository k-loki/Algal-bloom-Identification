{
 "cells": [
  {
   "attachments": {},
   "cell_type": "markdown",
   "metadata": {},
   "source": [
    "``Start modelling on metadata again. No imgs only metadata.``\n",
    "\n",
    "```find correlation with lb and reach 0.75s```\n"
   ]
  },
  {
   "attachments": {},
   "cell_type": "markdown",
   "metadata": {},
   "source": [
    "# Load data and dependencies"
   ]
  },
  {
   "cell_type": "code",
   "execution_count": 323,
   "metadata": {},
   "outputs": [],
   "source": [
    "import warnings\n",
    "import sys\n",
    "import os\n",
    "import time\n",
    "import joblib\n",
    "import random\n",
    "from tqdm import tqdm\n",
    "from pprint import pprint\n",
    "\n",
    "import pandas as pd\n",
    "import numpy as np\n",
    "import matplotlib.pyplot as plt\n",
    "import seaborn as sns\n",
    "from geopy.distance import geodesic\n",
    "from joblib import Parallel, delayed\n",
    "\n",
    "from sklearn.metrics import mean_squared_error as mse\n",
    "from sklearn.model_selection import train_test_split, StratifiedKFold, TimeSeriesSplit\n",
    "from sklearn.pipeline import make_pipeline\n",
    "from sklearn.preprocessing import OrdinalEncoder\n",
    "from sklearn.metrics import classification_report, confusion_matrix\n",
    "\n",
    "from xgboost import XGBClassifier, XGBRegressor\n",
    "from lightgbm import LGBMClassifier, LGBMRegressor\n",
    "from catboost import CatBoostClassifier, CatBoostRegressor\n",
    "from sklearn.ensemble import RandomForestClassifier, RandomForestRegressor\n",
    "\n",
    "warnings.filterwarnings('ignore')"
   ]
  },
  {
   "cell_type": "code",
   "execution_count": 5,
   "metadata": {},
   "outputs": [],
   "source": [
    "metadata = pd.read_csv('../data/metadata.csv')\n",
    "sub_format = pd.read_csv('../data/submission_format.csv')\n",
    "train_labels = pd.read_csv('../data/train_labels.csv')"
   ]
  },
  {
   "attachments": {},
   "cell_type": "markdown",
   "metadata": {},
   "source": [
    "# Utils"
   ]
  },
  {
   "cell_type": "code",
   "execution_count": 96,
   "metadata": {},
   "outputs": [],
   "source": [
    "def rmse(y_true, y_pred):\n",
    "    return mse(y_true, y_pred, squared=False)"
   ]
  },
  {
   "cell_type": "code",
   "execution_count": 7,
   "metadata": {},
   "outputs": [],
   "source": [
    "def dens_to_sev(x: float)-> int:\n",
    "    \"\"\"takes in density value in cells/ml and returns severity category\"\"\"\n",
    "    if (x < 20_000) : return 1\n",
    "    elif (x >= 20_000) and (x < 100_000) : return 2\n",
    "    elif (x >= 100_000) and (x < 1_000_000) : return 3\n",
    "    elif (x >= 1_000_000) and (x < 10_000_000) : return 4\n",
    "    elif x > 10_000_000 : return 5"
   ]
  },
  {
   "cell_type": "code",
   "execution_count": 331,
   "metadata": {},
   "outputs": [],
   "source": [
    "#  Utils\n",
    "def get_data_by_date( date=None, data=None):\n",
    "    return data[data.date == date]\n",
    "\n",
    "\n",
    "def get_distance(lat1, lon1, lat2, lon2):\n",
    "    return geodesic((lat1, lon1), (lat2, lon2)).km\n",
    "\n",
    "def analyize_matches(y_true, y_pred, plot=False):\n",
    "    print(\"Exact matches: \", sum(y_true == y_pred) / len(y_true))\n",
    "    print(\"Missed by 1: \", sum(abs(y_true - y_pred) == 1) / len(y_true))\n",
    "    print(\"Missed by 2: \", sum(abs(y_true - y_pred) == 2) / len(y_true))\n",
    "    print(\"Missed by 3: \", sum(abs(y_true - y_pred) == 3) / len(y_true))\n",
    "    print(\"Missed by 4: \", sum(abs(y_true - y_pred) == 4) / len(y_true))\n",
    "    \n",
    "    stupid_vals = []\n",
    "    for i in range(1, 6):\n",
    "        stupid_vals.append(\n",
    "            ((sum([1 for x, y in zip(y_true, y_pred) if x == i and y == i])/len(y_true))*100, (sum(y_true == i)/len(y_true))*100)\n",
    "            )\n",
    "\n",
    "    print()\n",
    "    for i in range(5):\n",
    "        print(f\"Severity {i+1} : accuracy: {stupid_vals[i][0]}% - prevalence: {stupid_vals[i][1]}%\")\n",
    "\n",
    "    print()\n",
    "    print(\"Classification report:\")\n",
    "    print(classification_report(y_true, y_pred))\n",
    "    \n",
    "    if plot:\n",
    "        print()\n",
    "        sns.heatmap(confusion_matrix(y_true, y_pred), annot=True, fmt='d', cmap='Reds')"
   ]
  },
  {
   "cell_type": "code",
   "execution_count": null,
   "metadata": {},
   "outputs": [],
   "source": []
  },
  {
   "attachments": {},
   "cell_type": "markdown",
   "metadata": {},
   "source": [
    "# Add date fts"
   ]
  },
  {
   "cell_type": "code",
   "execution_count": 8,
   "metadata": {},
   "outputs": [
    {
     "data": {
      "text/html": [
       "<div>\n",
       "<style scoped>\n",
       "    .dataframe tbody tr th:only-of-type {\n",
       "        vertical-align: middle;\n",
       "    }\n",
       "\n",
       "    .dataframe tbody tr th {\n",
       "        vertical-align: top;\n",
       "    }\n",
       "\n",
       "    .dataframe thead th {\n",
       "        text-align: right;\n",
       "    }\n",
       "</style>\n",
       "<table border=\"1\" class=\"dataframe\">\n",
       "  <thead>\n",
       "    <tr style=\"text-align: right;\">\n",
       "      <th></th>\n",
       "      <th>uid</th>\n",
       "      <th>latitude</th>\n",
       "      <th>longitude</th>\n",
       "      <th>date</th>\n",
       "      <th>split</th>\n",
       "      <th>year</th>\n",
       "      <th>month</th>\n",
       "      <th>week</th>\n",
       "      <th>season</th>\n",
       "      <th>region</th>\n",
       "      <th>severity</th>\n",
       "      <th>density</th>\n",
       "    </tr>\n",
       "  </thead>\n",
       "  <tbody>\n",
       "    <tr>\n",
       "      <th>0</th>\n",
       "      <td>aabm</td>\n",
       "      <td>39.080319</td>\n",
       "      <td>-86.430867</td>\n",
       "      <td>2018-05-14</td>\n",
       "      <td>train</td>\n",
       "      <td>2018</td>\n",
       "      <td>5</td>\n",
       "      <td>20</td>\n",
       "      <td>2</td>\n",
       "      <td>midwest</td>\n",
       "      <td>1.0</td>\n",
       "      <td>585.0</td>\n",
       "    </tr>\n",
       "    <tr>\n",
       "      <th>1</th>\n",
       "      <td>aabn</td>\n",
       "      <td>36.559700</td>\n",
       "      <td>-121.510000</td>\n",
       "      <td>2016-08-31</td>\n",
       "      <td>test</td>\n",
       "      <td>2016</td>\n",
       "      <td>8</td>\n",
       "      <td>35</td>\n",
       "      <td>3</td>\n",
       "      <td>west</td>\n",
       "      <td>NaN</td>\n",
       "      <td>NaN</td>\n",
       "    </tr>\n",
       "    <tr>\n",
       "      <th>2</th>\n",
       "      <td>aacd</td>\n",
       "      <td>35.875083</td>\n",
       "      <td>-78.878434</td>\n",
       "      <td>2020-11-19</td>\n",
       "      <td>train</td>\n",
       "      <td>2020</td>\n",
       "      <td>11</td>\n",
       "      <td>47</td>\n",
       "      <td>4</td>\n",
       "      <td>south</td>\n",
       "      <td>1.0</td>\n",
       "      <td>290.0</td>\n",
       "    </tr>\n",
       "    <tr>\n",
       "      <th>3</th>\n",
       "      <td>aaee</td>\n",
       "      <td>35.487000</td>\n",
       "      <td>-79.062133</td>\n",
       "      <td>2016-08-24</td>\n",
       "      <td>train</td>\n",
       "      <td>2016</td>\n",
       "      <td>8</td>\n",
       "      <td>34</td>\n",
       "      <td>3</td>\n",
       "      <td>south</td>\n",
       "      <td>1.0</td>\n",
       "      <td>1614.0</td>\n",
       "    </tr>\n",
       "    <tr>\n",
       "      <th>4</th>\n",
       "      <td>aaff</td>\n",
       "      <td>38.049471</td>\n",
       "      <td>-99.827001</td>\n",
       "      <td>2019-07-23</td>\n",
       "      <td>train</td>\n",
       "      <td>2019</td>\n",
       "      <td>7</td>\n",
       "      <td>30</td>\n",
       "      <td>3</td>\n",
       "      <td>midwest</td>\n",
       "      <td>3.0</td>\n",
       "      <td>111825.0</td>\n",
       "    </tr>\n",
       "    <tr>\n",
       "      <th>...</th>\n",
       "      <td>...</td>\n",
       "      <td>...</td>\n",
       "      <td>...</td>\n",
       "      <td>...</td>\n",
       "      <td>...</td>\n",
       "      <td>...</td>\n",
       "      <td>...</td>\n",
       "      <td>...</td>\n",
       "      <td>...</td>\n",
       "      <td>...</td>\n",
       "      <td>...</td>\n",
       "      <td>...</td>\n",
       "    </tr>\n",
       "    <tr>\n",
       "      <th>23565</th>\n",
       "      <td>zzvv</td>\n",
       "      <td>36.708500</td>\n",
       "      <td>-121.749000</td>\n",
       "      <td>2014-12-02</td>\n",
       "      <td>test</td>\n",
       "      <td>2014</td>\n",
       "      <td>12</td>\n",
       "      <td>49</td>\n",
       "      <td>1</td>\n",
       "      <td>west</td>\n",
       "      <td>NaN</td>\n",
       "      <td>NaN</td>\n",
       "    </tr>\n",
       "    <tr>\n",
       "      <th>23566</th>\n",
       "      <td>zzwo</td>\n",
       "      <td>39.792190</td>\n",
       "      <td>-99.971050</td>\n",
       "      <td>2017-06-19</td>\n",
       "      <td>train</td>\n",
       "      <td>2017</td>\n",
       "      <td>6</td>\n",
       "      <td>25</td>\n",
       "      <td>3</td>\n",
       "      <td>midwest</td>\n",
       "      <td>2.0</td>\n",
       "      <td>48510.0</td>\n",
       "    </tr>\n",
       "    <tr>\n",
       "      <th>23567</th>\n",
       "      <td>zzwq</td>\n",
       "      <td>35.794000</td>\n",
       "      <td>-79.012551</td>\n",
       "      <td>2015-03-24</td>\n",
       "      <td>train</td>\n",
       "      <td>2015</td>\n",
       "      <td>3</td>\n",
       "      <td>13</td>\n",
       "      <td>2</td>\n",
       "      <td>south</td>\n",
       "      <td>1.0</td>\n",
       "      <td>1271.0</td>\n",
       "    </tr>\n",
       "    <tr>\n",
       "      <th>23568</th>\n",
       "      <td>zzyb</td>\n",
       "      <td>35.742000</td>\n",
       "      <td>-79.238600</td>\n",
       "      <td>2016-11-21</td>\n",
       "      <td>train</td>\n",
       "      <td>2016</td>\n",
       "      <td>11</td>\n",
       "      <td>47</td>\n",
       "      <td>4</td>\n",
       "      <td>south</td>\n",
       "      <td>1.0</td>\n",
       "      <td>9682.0</td>\n",
       "    </tr>\n",
       "    <tr>\n",
       "      <th>23569</th>\n",
       "      <td>zzzi</td>\n",
       "      <td>39.767323</td>\n",
       "      <td>-96.028617</td>\n",
       "      <td>2015-08-31</td>\n",
       "      <td>test</td>\n",
       "      <td>2015</td>\n",
       "      <td>8</td>\n",
       "      <td>36</td>\n",
       "      <td>3</td>\n",
       "      <td>midwest</td>\n",
       "      <td>NaN</td>\n",
       "      <td>NaN</td>\n",
       "    </tr>\n",
       "  </tbody>\n",
       "</table>\n",
       "<p>23570 rows × 12 columns</p>\n",
       "</div>"
      ],
      "text/plain": [
       "        uid   latitude   longitude       date  split  year  month  week  \\\n",
       "0      aabm  39.080319  -86.430867 2018-05-14  train  2018      5    20   \n",
       "1      aabn  36.559700 -121.510000 2016-08-31   test  2016      8    35   \n",
       "2      aacd  35.875083  -78.878434 2020-11-19  train  2020     11    47   \n",
       "3      aaee  35.487000  -79.062133 2016-08-24  train  2016      8    34   \n",
       "4      aaff  38.049471  -99.827001 2019-07-23  train  2019      7    30   \n",
       "...     ...        ...         ...        ...    ...   ...    ...   ...   \n",
       "23565  zzvv  36.708500 -121.749000 2014-12-02   test  2014     12    49   \n",
       "23566  zzwo  39.792190  -99.971050 2017-06-19  train  2017      6    25   \n",
       "23567  zzwq  35.794000  -79.012551 2015-03-24  train  2015      3    13   \n",
       "23568  zzyb  35.742000  -79.238600 2016-11-21  train  2016     11    47   \n",
       "23569  zzzi  39.767323  -96.028617 2015-08-31   test  2015      8    36   \n",
       "\n",
       "       season   region  severity   density  \n",
       "0           2  midwest       1.0     585.0  \n",
       "1           3     west       NaN       NaN  \n",
       "2           4    south       1.0     290.0  \n",
       "3           3    south       1.0    1614.0  \n",
       "4           3  midwest       3.0  111825.0  \n",
       "...       ...      ...       ...       ...  \n",
       "23565       1     west       NaN       NaN  \n",
       "23566       3  midwest       2.0   48510.0  \n",
       "23567       2    south       1.0    1271.0  \n",
       "23568       4    south       1.0    9682.0  \n",
       "23569       3  midwest       NaN       NaN  \n",
       "\n",
       "[23570 rows x 12 columns]"
      ]
     },
     "execution_count": 8,
     "metadata": {},
     "output_type": "execute_result"
    }
   ],
   "source": [
    "metadata.date = pd.to_datetime(metadata.date)\n",
    "metadata['year'] = metadata.date.dt.year\n",
    "metadata['month'] = metadata.date.dt.month\n",
    "metadata['week'] = metadata.date.dt.isocalendar().week\n",
    "\n",
    "seasons = {\n",
    "    1: 1,\n",
    "    2: 1,\n",
    "    3: 2,\n",
    "    4: 2,\n",
    "    5: 2,\n",
    "    6: 3,\n",
    "    7: 3,\n",
    "    8: 3,\n",
    "    9: 4,\n",
    "    10: 4,\n",
    "    11: 4,\n",
    "    12: 1\n",
    "}\n",
    "\n",
    "reg_sev_map = {\n",
    "    'midwest': 2,\n",
    "    'northeast': 2,\n",
    "    'south' : 2,\n",
    "    'west' : 4\n",
    "}\n",
    "\n",
    "metadata['season'] = metadata.month.map(seasons)\n",
    "\n",
    "region = pd.concat((train_labels, sub_format[['region', 'uid']]), axis=0)\n",
    "\n",
    "data = pd.merge(metadata, region, on='uid', how='left')\n",
    "data"
   ]
  },
  {
   "attachments": {},
   "cell_type": "markdown",
   "metadata": {},
   "source": [
    "# Split"
   ]
  },
  {
   "cell_type": "code",
   "execution_count": 9,
   "metadata": {},
   "outputs": [
    {
     "data": {
      "text/plain": [
       "((6510, 12), (23570, 12))"
      ]
     },
     "execution_count": 9,
     "metadata": {},
     "output_type": "execute_result"
    }
   ],
   "source": [
    "test_data = data[data.split == 'test']\n",
    "test_data.shape, data.shape"
   ]
  },
  {
   "cell_type": "code",
   "execution_count": 10,
   "metadata": {},
   "outputs": [
    {
     "data": {
      "text/plain": [
       "((17060, 12), (23570, 12))"
      ]
     },
     "execution_count": 10,
     "metadata": {},
     "output_type": "execute_result"
    }
   ],
   "source": [
    "train_data = data[data.split == 'train']\n",
    "train_data.shape, data.shape"
   ]
  },
  {
   "cell_type": "code",
   "execution_count": 11,
   "metadata": {},
   "outputs": [
    {
     "data": {
      "text/plain": [
       "((14501, 12), (2559, 12))"
      ]
     },
     "execution_count": 11,
     "metadata": {},
     "output_type": "execute_result"
    }
   ],
   "source": [
    "tr_data, val_data = train_test_split(train_data, test_size=0.15, random_state=123456789, shuffle=True)\n",
    "tr_data.shape, val_data.shape"
   ]
  },
  {
   "cell_type": "code",
   "execution_count": 12,
   "metadata": {},
   "outputs": [
    {
     "name": "stdout",
     "output_type": "stream",
     "text": [
      "set()\n",
      " % of intersection between date and regions in val and train sets before correction: 0.9328793774319066\n",
      " % of intersection between date and regions in val and train sets after correction: 0.36867704280155644\n",
      " % of intersection between dates in val and train sets: 0.656211                                                                    \n",
      " % of intersection between date in test and train sets: 0.701095                                                                   \n"
     ]
    },
    {
     "data": {
      "text/plain": [
       "((5617, 13), (2559, 13), (17060, 12), (2559, 13))"
      ]
     },
     "execution_count": 12,
     "metadata": {},
     "output_type": "execute_result"
    }
   ],
   "source": [
    "# split data similar to test data\n",
    "val_data['date_reg'] = val_data.date.astype(str) + \"_\" +  val_data.region\n",
    "tr_data['date_reg'] = tr_data.date.astype(str) + \"_\" +  tr_data.region\n",
    "\n",
    "assert (val_data.columns == tr_data.columns).all()\n",
    "\n",
    "print(set(val_data.uid).intersection(set(tr_data.uid)))\n",
    "\n",
    "# percentage of intersection date and regs before\n",
    "print(f\" % of intersection between date and regions in val and train sets before correction: {len(set(val_data.date_reg).intersection(set(tr_data.date_reg)))/val_data.date_reg.nunique()}\")\n",
    "\n",
    "datereg_to_remove = val_data.date_reg.sample(frac=0.40, random_state=123456789)\n",
    "tr_data2_te_dist = tr_data[~tr_data.date_reg.isin(datereg_to_remove)]\n",
    "val_data2_te_dist = val_data\n",
    "\n",
    "print(f\" % of intersection between date and regions in val and train sets after correction: {len(set(val_data2_te_dist.date_reg).intersection(set(tr_data2_te_dist.date_reg)))/val_data2_te_dist.date_reg.nunique()}\")\n",
    "\n",
    "\n",
    "print(f\" % of intersection between dates in val and train sets: {len(set(val_data2_te_dist.date).intersection(set(tr_data2_te_dist.date)))/val_data2_te_dist.date.nunique() :<75f} \")\n",
    "print(f\" % of intersection between date in test and train sets: {len(set(test_data.date).intersection(set(train_data.date)))/test_data.date.nunique():<75f}\" )\n",
    "\n",
    "tr_data2_te_dist.shape, val_data2_te_dist.shape, train_data.shape, val_data.shape"
   ]
  },
  {
   "cell_type": "code",
   "execution_count": 13,
   "metadata": {},
   "outputs": [
    {
     "name": "stdout",
     "output_type": "stream",
     "text": [
      "matching dateregs btw val and tr: 0.4\n",
      "matching dates btw val and tr: 0.7589285714285714\n"
     ]
    },
    {
     "data": {
      "text/plain": [
       "((14501, 13), (131, 13))"
      ]
     },
     "execution_count": 13,
     "metadata": {},
     "output_type": "execute_result"
    }
   ],
   "source": [
    "tr_data3 = tr_data.copy()\n",
    "val_data3 = val_data.copy()\n",
    "\n",
    "datereg_to_remove = tr_data3.date_reg.sample(frac=0.60, random_state=123456789)\n",
    "val_data3_te_dist = val_data3[~val_data3.date_reg.isin(datereg_to_remove)]\n",
    "tr_data3_te_dist = tr_data3\n",
    "\n",
    "print(\"matching dateregs btw val and tr:\", len(set(val_data3_te_dist.date_reg).intersection(set(tr_data3_te_dist.date_reg)))/val_data3_te_dist.date_reg.nunique())\n",
    "print(\"matching dates btw val and tr:\",len(set(val_data3_te_dist.date).intersection(set(tr_data3_te_dist.date)))/val_data3_te_dist.date.nunique())\n",
    "\n",
    "tr_data3_te_dist.shape, val_data3_te_dist.shape"
   ]
  },
  {
   "cell_type": "code",
   "execution_count": 14,
   "metadata": {},
   "outputs": [
    {
     "data": {
      "text/plain": [
       "((11968, 12), (5092, 12))"
      ]
     },
     "execution_count": 14,
     "metadata": {},
     "output_type": "execute_result"
    }
   ],
   "source": [
    "#  split by time\n",
    "train_data = train_data.sort_values(by='date')\n",
    "train_data_ts = train_data[train_data.date < '2019-01-01']\n",
    "val_data_ts = train_data[train_data.date >= '2019-01-01']\n",
    "\n",
    "train_data_ts.shape, val_data_ts.shape"
   ]
  },
  {
   "cell_type": "code",
   "execution_count": 15,
   "metadata": {},
   "outputs": [],
   "source": [
    "tr_data.sort_values(by='date', inplace=True)\n",
    "val_data.sort_values(by='date', inplace=True)"
   ]
  },
  {
   "cell_type": "code",
   "execution_count": 141,
   "metadata": {},
   "outputs": [
    {
     "data": {
      "text/html": [
       "<div>\n",
       "<style scoped>\n",
       "    .dataframe tbody tr th:only-of-type {\n",
       "        vertical-align: middle;\n",
       "    }\n",
       "\n",
       "    .dataframe tbody tr th {\n",
       "        vertical-align: top;\n",
       "    }\n",
       "\n",
       "    .dataframe thead th {\n",
       "        text-align: right;\n",
       "    }\n",
       "</style>\n",
       "<table border=\"1\" class=\"dataframe\">\n",
       "  <thead>\n",
       "    <tr style=\"text-align: right;\">\n",
       "      <th></th>\n",
       "      <th>uid</th>\n",
       "      <th>latitude</th>\n",
       "      <th>longitude</th>\n",
       "      <th>date</th>\n",
       "      <th>split</th>\n",
       "      <th>year</th>\n",
       "      <th>month</th>\n",
       "      <th>week</th>\n",
       "      <th>season</th>\n",
       "      <th>region</th>\n",
       "      <th>severity</th>\n",
       "      <th>density</th>\n",
       "    </tr>\n",
       "  </thead>\n",
       "  <tbody>\n",
       "    <tr>\n",
       "      <th>1</th>\n",
       "      <td>aabn</td>\n",
       "      <td>36.559700</td>\n",
       "      <td>-121.510000</td>\n",
       "      <td>2016-08-31</td>\n",
       "      <td>test</td>\n",
       "      <td>2016</td>\n",
       "      <td>8</td>\n",
       "      <td>35</td>\n",
       "      <td>3</td>\n",
       "      <td>west</td>\n",
       "      <td>NaN</td>\n",
       "      <td>NaN</td>\n",
       "    </tr>\n",
       "    <tr>\n",
       "      <th>12</th>\n",
       "      <td>aair</td>\n",
       "      <td>33.042600</td>\n",
       "      <td>-117.076000</td>\n",
       "      <td>2014-11-01</td>\n",
       "      <td>test</td>\n",
       "      <td>2014</td>\n",
       "      <td>11</td>\n",
       "      <td>44</td>\n",
       "      <td>4</td>\n",
       "      <td>west</td>\n",
       "      <td>NaN</td>\n",
       "      <td>NaN</td>\n",
       "    </tr>\n",
       "    <tr>\n",
       "      <th>14</th>\n",
       "      <td>aajw</td>\n",
       "      <td>40.703968</td>\n",
       "      <td>-80.293050</td>\n",
       "      <td>2015-08-26</td>\n",
       "      <td>test</td>\n",
       "      <td>2015</td>\n",
       "      <td>8</td>\n",
       "      <td>35</td>\n",
       "      <td>3</td>\n",
       "      <td>northeast</td>\n",
       "      <td>NaN</td>\n",
       "      <td>NaN</td>\n",
       "    </tr>\n",
       "    <tr>\n",
       "      <th>15</th>\n",
       "      <td>aalr</td>\n",
       "      <td>38.972500</td>\n",
       "      <td>-94.672930</td>\n",
       "      <td>2019-08-26</td>\n",
       "      <td>test</td>\n",
       "      <td>2019</td>\n",
       "      <td>8</td>\n",
       "      <td>35</td>\n",
       "      <td>3</td>\n",
       "      <td>midwest</td>\n",
       "      <td>NaN</td>\n",
       "      <td>NaN</td>\n",
       "    </tr>\n",
       "    <tr>\n",
       "      <th>16</th>\n",
       "      <td>aalw</td>\n",
       "      <td>34.279000</td>\n",
       "      <td>-118.905000</td>\n",
       "      <td>2018-01-08</td>\n",
       "      <td>test</td>\n",
       "      <td>2018</td>\n",
       "      <td>1</td>\n",
       "      <td>2</td>\n",
       "      <td>1</td>\n",
       "      <td>west</td>\n",
       "      <td>NaN</td>\n",
       "      <td>NaN</td>\n",
       "    </tr>\n",
       "    <tr>\n",
       "      <th>...</th>\n",
       "      <td>...</td>\n",
       "      <td>...</td>\n",
       "      <td>...</td>\n",
       "      <td>...</td>\n",
       "      <td>...</td>\n",
       "      <td>...</td>\n",
       "      <td>...</td>\n",
       "      <td>...</td>\n",
       "      <td>...</td>\n",
       "      <td>...</td>\n",
       "      <td>...</td>\n",
       "      <td>...</td>\n",
       "    </tr>\n",
       "    <tr>\n",
       "      <th>23556</th>\n",
       "      <td>zzpn</td>\n",
       "      <td>40.136410</td>\n",
       "      <td>-80.473740</td>\n",
       "      <td>2019-07-08</td>\n",
       "      <td>test</td>\n",
       "      <td>2019</td>\n",
       "      <td>7</td>\n",
       "      <td>28</td>\n",
       "      <td>3</td>\n",
       "      <td>northeast</td>\n",
       "      <td>NaN</td>\n",
       "      <td>NaN</td>\n",
       "    </tr>\n",
       "    <tr>\n",
       "      <th>23560</th>\n",
       "      <td>zzrv</td>\n",
       "      <td>36.875400</td>\n",
       "      <td>-121.561000</td>\n",
       "      <td>2019-09-17</td>\n",
       "      <td>test</td>\n",
       "      <td>2019</td>\n",
       "      <td>9</td>\n",
       "      <td>38</td>\n",
       "      <td>4</td>\n",
       "      <td>west</td>\n",
       "      <td>NaN</td>\n",
       "      <td>NaN</td>\n",
       "    </tr>\n",
       "    <tr>\n",
       "      <th>23563</th>\n",
       "      <td>zzsx</td>\n",
       "      <td>34.210000</td>\n",
       "      <td>-78.929389</td>\n",
       "      <td>2019-07-16</td>\n",
       "      <td>test</td>\n",
       "      <td>2019</td>\n",
       "      <td>7</td>\n",
       "      <td>29</td>\n",
       "      <td>3</td>\n",
       "      <td>south</td>\n",
       "      <td>NaN</td>\n",
       "      <td>NaN</td>\n",
       "    </tr>\n",
       "    <tr>\n",
       "      <th>23565</th>\n",
       "      <td>zzvv</td>\n",
       "      <td>36.708500</td>\n",
       "      <td>-121.749000</td>\n",
       "      <td>2014-12-02</td>\n",
       "      <td>test</td>\n",
       "      <td>2014</td>\n",
       "      <td>12</td>\n",
       "      <td>49</td>\n",
       "      <td>1</td>\n",
       "      <td>west</td>\n",
       "      <td>NaN</td>\n",
       "      <td>NaN</td>\n",
       "    </tr>\n",
       "    <tr>\n",
       "      <th>23569</th>\n",
       "      <td>zzzi</td>\n",
       "      <td>39.767323</td>\n",
       "      <td>-96.028617</td>\n",
       "      <td>2015-08-31</td>\n",
       "      <td>test</td>\n",
       "      <td>2015</td>\n",
       "      <td>8</td>\n",
       "      <td>36</td>\n",
       "      <td>3</td>\n",
       "      <td>midwest</td>\n",
       "      <td>NaN</td>\n",
       "      <td>NaN</td>\n",
       "    </tr>\n",
       "  </tbody>\n",
       "</table>\n",
       "<p>6510 rows × 12 columns</p>\n",
       "</div>"
      ],
      "text/plain": [
       "        uid   latitude   longitude       date split  year  month  week  \\\n",
       "1      aabn  36.559700 -121.510000 2016-08-31  test  2016      8    35   \n",
       "12     aair  33.042600 -117.076000 2014-11-01  test  2014     11    44   \n",
       "14     aajw  40.703968  -80.293050 2015-08-26  test  2015      8    35   \n",
       "15     aalr  38.972500  -94.672930 2019-08-26  test  2019      8    35   \n",
       "16     aalw  34.279000 -118.905000 2018-01-08  test  2018      1     2   \n",
       "...     ...        ...         ...        ...   ...   ...    ...   ...   \n",
       "23556  zzpn  40.136410  -80.473740 2019-07-08  test  2019      7    28   \n",
       "23560  zzrv  36.875400 -121.561000 2019-09-17  test  2019      9    38   \n",
       "23563  zzsx  34.210000  -78.929389 2019-07-16  test  2019      7    29   \n",
       "23565  zzvv  36.708500 -121.749000 2014-12-02  test  2014     12    49   \n",
       "23569  zzzi  39.767323  -96.028617 2015-08-31  test  2015      8    36   \n",
       "\n",
       "       season     region  severity  density  \n",
       "1           3       west       NaN      NaN  \n",
       "12          4       west       NaN      NaN  \n",
       "14          3  northeast       NaN      NaN  \n",
       "15          3    midwest       NaN      NaN  \n",
       "16          1       west       NaN      NaN  \n",
       "...       ...        ...       ...      ...  \n",
       "23556       3  northeast       NaN      NaN  \n",
       "23560       4       west       NaN      NaN  \n",
       "23563       3      south       NaN      NaN  \n",
       "23565       1       west       NaN      NaN  \n",
       "23569       3    midwest       NaN      NaN  \n",
       "\n",
       "[6510 rows x 12 columns]"
      ]
     },
     "execution_count": 141,
     "metadata": {},
     "output_type": "execute_result"
    }
   ],
   "source": [
    "test_data"
   ]
  },
  {
   "cell_type": "code",
   "execution_count": 145,
   "metadata": {},
   "outputs": [
    {
     "data": {
      "text/html": [
       "<div>\n",
       "<style scoped>\n",
       "    .dataframe tbody tr th:only-of-type {\n",
       "        vertical-align: middle;\n",
       "    }\n",
       "\n",
       "    .dataframe tbody tr th {\n",
       "        vertical-align: top;\n",
       "    }\n",
       "\n",
       "    .dataframe thead th {\n",
       "        text-align: right;\n",
       "    }\n",
       "</style>\n",
       "<table border=\"1\" class=\"dataframe\">\n",
       "  <thead>\n",
       "    <tr style=\"text-align: right;\">\n",
       "      <th></th>\n",
       "      <th>uid</th>\n",
       "      <th>latitude</th>\n",
       "      <th>longitude</th>\n",
       "      <th>date</th>\n",
       "      <th>split</th>\n",
       "      <th>year</th>\n",
       "      <th>month</th>\n",
       "      <th>week</th>\n",
       "      <th>season</th>\n",
       "      <th>region</th>\n",
       "      <th>severity</th>\n",
       "      <th>density</th>\n",
       "    </tr>\n",
       "  </thead>\n",
       "  <tbody>\n",
       "    <tr>\n",
       "      <th>1</th>\n",
       "      <td>aabn</td>\n",
       "      <td>36.559700</td>\n",
       "      <td>-121.510000</td>\n",
       "      <td>2016-08-31</td>\n",
       "      <td>test</td>\n",
       "      <td>2016</td>\n",
       "      <td>8</td>\n",
       "      <td>35</td>\n",
       "      <td>3</td>\n",
       "      <td>west</td>\n",
       "      <td>NaN</td>\n",
       "      <td>NaN</td>\n",
       "    </tr>\n",
       "    <tr>\n",
       "      <th>12</th>\n",
       "      <td>aair</td>\n",
       "      <td>33.042600</td>\n",
       "      <td>-117.076000</td>\n",
       "      <td>2014-11-01</td>\n",
       "      <td>test</td>\n",
       "      <td>2014</td>\n",
       "      <td>11</td>\n",
       "      <td>44</td>\n",
       "      <td>4</td>\n",
       "      <td>west</td>\n",
       "      <td>NaN</td>\n",
       "      <td>NaN</td>\n",
       "    </tr>\n",
       "    <tr>\n",
       "      <th>14</th>\n",
       "      <td>aajw</td>\n",
       "      <td>40.703968</td>\n",
       "      <td>-80.293050</td>\n",
       "      <td>2015-08-26</td>\n",
       "      <td>test</td>\n",
       "      <td>2015</td>\n",
       "      <td>8</td>\n",
       "      <td>35</td>\n",
       "      <td>3</td>\n",
       "      <td>northeast</td>\n",
       "      <td>NaN</td>\n",
       "      <td>NaN</td>\n",
       "    </tr>\n",
       "    <tr>\n",
       "      <th>15</th>\n",
       "      <td>aalr</td>\n",
       "      <td>38.972500</td>\n",
       "      <td>-94.672930</td>\n",
       "      <td>2019-08-26</td>\n",
       "      <td>test</td>\n",
       "      <td>2019</td>\n",
       "      <td>8</td>\n",
       "      <td>35</td>\n",
       "      <td>3</td>\n",
       "      <td>midwest</td>\n",
       "      <td>NaN</td>\n",
       "      <td>NaN</td>\n",
       "    </tr>\n",
       "    <tr>\n",
       "      <th>16</th>\n",
       "      <td>aalw</td>\n",
       "      <td>34.279000</td>\n",
       "      <td>-118.905000</td>\n",
       "      <td>2018-01-08</td>\n",
       "      <td>test</td>\n",
       "      <td>2018</td>\n",
       "      <td>1</td>\n",
       "      <td>2</td>\n",
       "      <td>1</td>\n",
       "      <td>west</td>\n",
       "      <td>NaN</td>\n",
       "      <td>NaN</td>\n",
       "    </tr>\n",
       "    <tr>\n",
       "      <th>...</th>\n",
       "      <td>...</td>\n",
       "      <td>...</td>\n",
       "      <td>...</td>\n",
       "      <td>...</td>\n",
       "      <td>...</td>\n",
       "      <td>...</td>\n",
       "      <td>...</td>\n",
       "      <td>...</td>\n",
       "      <td>...</td>\n",
       "      <td>...</td>\n",
       "      <td>...</td>\n",
       "      <td>...</td>\n",
       "    </tr>\n",
       "    <tr>\n",
       "      <th>23556</th>\n",
       "      <td>zzpn</td>\n",
       "      <td>40.136410</td>\n",
       "      <td>-80.473740</td>\n",
       "      <td>2019-07-08</td>\n",
       "      <td>test</td>\n",
       "      <td>2019</td>\n",
       "      <td>7</td>\n",
       "      <td>28</td>\n",
       "      <td>3</td>\n",
       "      <td>northeast</td>\n",
       "      <td>NaN</td>\n",
       "      <td>NaN</td>\n",
       "    </tr>\n",
       "    <tr>\n",
       "      <th>23560</th>\n",
       "      <td>zzrv</td>\n",
       "      <td>36.875400</td>\n",
       "      <td>-121.561000</td>\n",
       "      <td>2019-09-17</td>\n",
       "      <td>test</td>\n",
       "      <td>2019</td>\n",
       "      <td>9</td>\n",
       "      <td>38</td>\n",
       "      <td>4</td>\n",
       "      <td>west</td>\n",
       "      <td>NaN</td>\n",
       "      <td>NaN</td>\n",
       "    </tr>\n",
       "    <tr>\n",
       "      <th>23563</th>\n",
       "      <td>zzsx</td>\n",
       "      <td>34.210000</td>\n",
       "      <td>-78.929389</td>\n",
       "      <td>2019-07-16</td>\n",
       "      <td>test</td>\n",
       "      <td>2019</td>\n",
       "      <td>7</td>\n",
       "      <td>29</td>\n",
       "      <td>3</td>\n",
       "      <td>south</td>\n",
       "      <td>NaN</td>\n",
       "      <td>NaN</td>\n",
       "    </tr>\n",
       "    <tr>\n",
       "      <th>23565</th>\n",
       "      <td>zzvv</td>\n",
       "      <td>36.708500</td>\n",
       "      <td>-121.749000</td>\n",
       "      <td>2014-12-02</td>\n",
       "      <td>test</td>\n",
       "      <td>2014</td>\n",
       "      <td>12</td>\n",
       "      <td>49</td>\n",
       "      <td>1</td>\n",
       "      <td>west</td>\n",
       "      <td>NaN</td>\n",
       "      <td>NaN</td>\n",
       "    </tr>\n",
       "    <tr>\n",
       "      <th>23569</th>\n",
       "      <td>zzzi</td>\n",
       "      <td>39.767323</td>\n",
       "      <td>-96.028617</td>\n",
       "      <td>2015-08-31</td>\n",
       "      <td>test</td>\n",
       "      <td>2015</td>\n",
       "      <td>8</td>\n",
       "      <td>36</td>\n",
       "      <td>3</td>\n",
       "      <td>midwest</td>\n",
       "      <td>NaN</td>\n",
       "      <td>NaN</td>\n",
       "    </tr>\n",
       "  </tbody>\n",
       "</table>\n",
       "<p>6510 rows × 12 columns</p>\n",
       "</div>"
      ],
      "text/plain": [
       "        uid   latitude   longitude       date split  year  month  week  \\\n",
       "1      aabn  36.559700 -121.510000 2016-08-31  test  2016      8    35   \n",
       "12     aair  33.042600 -117.076000 2014-11-01  test  2014     11    44   \n",
       "14     aajw  40.703968  -80.293050 2015-08-26  test  2015      8    35   \n",
       "15     aalr  38.972500  -94.672930 2019-08-26  test  2019      8    35   \n",
       "16     aalw  34.279000 -118.905000 2018-01-08  test  2018      1     2   \n",
       "...     ...        ...         ...        ...   ...   ...    ...   ...   \n",
       "23556  zzpn  40.136410  -80.473740 2019-07-08  test  2019      7    28   \n",
       "23560  zzrv  36.875400 -121.561000 2019-09-17  test  2019      9    38   \n",
       "23563  zzsx  34.210000  -78.929389 2019-07-16  test  2019      7    29   \n",
       "23565  zzvv  36.708500 -121.749000 2014-12-02  test  2014     12    49   \n",
       "23569  zzzi  39.767323  -96.028617 2015-08-31  test  2015      8    36   \n",
       "\n",
       "       season     region  severity  density  \n",
       "1           3       west       NaN      NaN  \n",
       "12          4       west       NaN      NaN  \n",
       "14          3  northeast       NaN      NaN  \n",
       "15          3    midwest       NaN      NaN  \n",
       "16          1       west       NaN      NaN  \n",
       "...       ...        ...       ...      ...  \n",
       "23556       3  northeast       NaN      NaN  \n",
       "23560       4       west       NaN      NaN  \n",
       "23563       3      south       NaN      NaN  \n",
       "23565       1       west       NaN      NaN  \n",
       "23569       3    midwest       NaN      NaN  \n",
       "\n",
       "[6510 rows x 12 columns]"
      ]
     },
     "execution_count": 145,
     "metadata": {},
     "output_type": "execute_result"
    }
   ],
   "source": [
    "X_test = test_data[train_data.columns]\n",
    "X_test"
   ]
  },
  {
   "attachments": {},
   "cell_type": "markdown",
   "metadata": {},
   "source": [
    "# Modelling"
   ]
  },
  {
   "attachments": {},
   "cell_type": "markdown",
   "metadata": {},
   "source": [
    "## CV"
   ]
  },
  {
   "cell_type": "code",
   "execution_count": 247,
   "metadata": {},
   "outputs": [],
   "source": [
    "def train_eval(model, X_train=None, X_val=None, y_train=None, y_val=None, X_test=None, y_test=None):\n",
    "    \"\"\"\n",
    "    train and eval util func,\n",
    "    returns trained model, soft_preds, and tr, val, test rmses\n",
    "    REMEMBER returns soft-preds\n",
    "    \"\"\"\n",
    "    \n",
    "    model.fit(X_train, y_train)\n",
    "    val_preds = model.predict(X_val)\n",
    "    val_rmse = rmse(y_val, np.clip(np.round(val_preds), 1, 5))\n",
    "    train_rmse = rmse(y_train, np.clip(np.round(model.predict(X_train)), 1, 5))   # don't forget to clip!\n",
    "    print(\"Train RMSE: \", train_rmse)\n",
    "    print(\"Val RMSE:\", val_rmse)\n",
    "    if X_test is not None and y_test is not None:\n",
    "        test_rmse = mse(y_test, np.clip(np.round(model.predict(X_test)), 1, 5), squared=False)\n",
    "        print('TEST RMSE: ', test_rmse)\n",
    "    else:\n",
    "        test_rmse = 0\n",
    "        \n",
    "    # print(\"TEST RMSE:\", mse(y_val, np.round(model.predict(X_val)), squared=False))\n",
    "    return model, val_preds, train_rmse, val_rmse, test_rmse\n",
    "\n",
    "\n",
    "def cv_it(model, X_train=None, y_train=None, X_test=None, y_test=None, splits=10, cv_predict=False):\n",
    "    \"\"\" cv in stratified kfold fashion, \n",
    "    returns train, val, test rmses, and cv preds for test and train if cv_predict=True\n",
    "    remember to round preds\"\"\"\n",
    "    \n",
    "    skf = StratifiedKFold(n_splits=splits, random_state=12_000, shuffle=True)\n",
    "    # tscv = TimeSeriesSplit(n_splits=splits, test_size=200)\n",
    "    print('Using cols: ', X_train.columns.values)\n",
    "\n",
    "    train_rmses = []\n",
    "    val_rmses = []\n",
    "    test_rmses = []\n",
    "    \n",
    "    if cv_predict:\n",
    "        cvpreds_test = np.zeros(shape=(len(X_test), splits))\n",
    "        cvpreds_train = np.zeros(shape=(len(X_train)))\n",
    "\n",
    "    for fold, (train_idx, val_idx) in enumerate(skf.split(X_train, y_train)):\n",
    "\n",
    "        print(f'-----------------------Fold-{fold}-------------------------')\n",
    "        X_train_subset, y_train_subset = X_train.iloc[train_idx], y_train.iloc[train_idx]\n",
    "        X_val_subset, y_val_subset = X_train.iloc[val_idx], y_train.iloc[val_idx]\n",
    "        \n",
    "        print(f'Training on {X_train_subset.shape[0]} samples' )\n",
    "        print(f'Validating on {X_val_subset.shape[0]} samples' )\n",
    "\n",
    "        model, val_preds, train_rmse, val_rmse, test_rmse= train_eval(\n",
    "                                    model=model, \n",
    "                                    X_train=X_train_subset, \n",
    "                                    y_train=y_train_subset, \n",
    "                                    X_val=X_val_subset, \n",
    "                                    y_val=y_val_subset,\n",
    "                                    X_test=X_test,\n",
    "                                    y_test=y_test\n",
    "                                    )\n",
    "\n",
    "        sns.barplot(model.feature_importances_, model.feature_names_in_)\n",
    "\n",
    "        val_rmses.append(val_rmse)\n",
    "        train_rmses.append(train_rmse)\n",
    "        \n",
    "        if cv_predict:\n",
    "            test_rmses.append(test_rmse)\n",
    "            # save predictions for ensembling\n",
    "            if X_test is not None:\n",
    "                cvpreds_test[:, fold] = model.predict(X_test)\n",
    "            cvpreds_train[val_idx] = val_preds\n",
    "                    \n",
    "    print()\n",
    "    print(\"Mean Train RMSE:\", np.mean(train_rmses), \"std:\", np.std(train_rmses))\n",
    "    print(\"Mean Val RMSE:\", np.mean(val_rmses), \"std:\", np.std(val_rmses))\n",
    "    print(\"Mean Test RMSE:\", np.mean(test_rmses), \"std:\", np.std(test_rmses))\n",
    "\n",
    "    \n",
    "    if cv_predict:\n",
    "        return cvpreds_test, cvpreds_train"
   ]
  },
  {
   "attachments": {},
   "cell_type": "markdown",
   "metadata": {},
   "source": [
    "## KNN"
   ]
  },
  {
   "cell_type": "code",
   "execution_count": 54,
   "metadata": {},
   "outputs": [],
   "source": [
    "def knn(row=None, train_data=tr_data, k=1):\n",
    "    \"\"\"\n",
    "    row : pd.Series (row from val_data)\n",
    "    train_data : pd.DataFrame (all_data)\n",
    "    k : int number of nearest neighbours to consider\n",
    "    \n",
    "    algo:\n",
    "    1. Get past month data collected till the current row\n",
    "    2. Get the k nearest neighbours (geodesic dist using lat, lng) from the above data\n",
    "    3. Get the mean of the severity from the above rows\n",
    "    4. Return the mean of the nearest neighbours severity\n",
    "\n",
    "    \"\"\"\n",
    "    \n",
    "    if row is None:\n",
    "        print('Row None bruv!')\n",
    "        return None\n",
    "    \n",
    "    uid = row.uid\n",
    "    date = row.date\n",
    "    region = row.region\n",
    "    past_date = date - pd.Timedelta(days=30)\n",
    "    \n",
    "    past_month_data = train_data[(train_data.date < date) & (train_data.date >= past_date)]\n",
    "    past_month_data.sort_values(by='date', inplace=True)\n",
    "    \n",
    "    # if no past data, return the mean of the region\n",
    "    if len(past_month_data) == 0:\n",
    "        return reg_sev_map[region]\n",
    "        \n",
    "    dist_matrix =pd.DataFrame(columns=['uid', 'dist'])       # 0th col for uid, 1st col for dist\n",
    "    for i, past_row in enumerate(past_month_data.itertuples()):\n",
    "        dist_matrix.loc[i, 'uid'] = past_row.uid\n",
    "        dist_matrix.loc[i, 'dist'] = get_distance(row.latitude, row.longitude, past_row.latitude, past_row.longitude)   # returns geodesic dist in km\n",
    "\n",
    "    # get mean of top k nearest neighbours\n",
    "    n_uids = dist_matrix.sort_values(by='dist').head(k).uid.values\n",
    "    nn_severity = train_data[train_data.uid.isin(n_uids)].severity.mean()\n",
    "    \n",
    "    return np.round(nn_severity)\n"
   ]
  },
  {
   "attachments": {},
   "cell_type": "markdown",
   "metadata": {},
   "source": [
    "## Xgb"
   ]
  },
  {
   "cell_type": "code",
   "execution_count": 118,
   "metadata": {},
   "outputs": [
    {
     "data": {
      "text/plain": [
       "Index(['uid', 'latitude', 'longitude', 'date', 'split', 'year', 'month',\n",
       "       'week', 'season', 'region', 'severity', 'density', 'date_reg'],\n",
       "      dtype='object')"
      ]
     },
     "execution_count": 118,
     "metadata": {},
     "output_type": "execute_result"
    }
   ],
   "source": [
    "tr_data.columns"
   ]
  },
  {
   "cell_type": "code",
   "execution_count": 119,
   "metadata": {},
   "outputs": [],
   "source": [
    "drop_cols = ['date','uid', 'severity', 'split', 'density', 'date_reg']"
   ]
  },
  {
   "cell_type": "code",
   "execution_count": 183,
   "metadata": {},
   "outputs": [
    {
     "name": "stdout",
     "output_type": "stream",
     "text": [
      "Train RMSE:  0.4753781808917403\n",
      "Val RMSE: 0.7314195782537621\n"
     ]
    }
   ],
   "source": [
    "xgb = XGBRegressor(n_estimators=1000, n_jobs=-1, random_state=12_000, gpu_id=0, tree_method='gpu_hist')\n",
    "\n",
    "X_train = tr_data.drop(columns=drop_cols)\n",
    "X_train.week = X_train.week.astype('int')\n",
    "X_train.region = X_train.region.map(reg_sev_map)\n",
    "y_train = tr_data.severity\n",
    "\n",
    "X_val = val_data.drop(columns=drop_cols)\n",
    "X_val.week = X_val.week.astype('int')\n",
    "X_val.region = X_val.region.map(reg_sev_map)\n",
    "y_val = val_data.severity\n",
    "\n",
    "model, _, *rmses = train_eval(model=xgb, X_train=X_train, y_train=y_train, X_val=X_val, y_val=y_val)"
   ]
  },
  {
   "cell_type": "code",
   "execution_count": 184,
   "metadata": {},
   "outputs": [
    {
     "data": {
      "text/plain": [
       "Text(0.5, 1.0, 'naive')"
      ]
     },
     "execution_count": 184,
     "metadata": {},
     "output_type": "execute_result"
    },
    {
     "data": {
      "image/png": "[encoded data removed]",
      "text/plain": [
       "<Figure size 640x480 with 1 Axes>"
      ]
     },
     "metadata": {},
     "output_type": "display_data"
    }
   ],
   "source": [
    "# plot feature importance\n",
    "sns.barplot(model.feature_names_in_, model.feature_importances_)\n",
    "plt.title('naive')"
   ]
  },
  {
   "cell_type": "code",
   "execution_count": 185,
   "metadata": {},
   "outputs": [],
   "source": [
    "#  treees are soo fucking unstable...\n",
    "# probabaly tuning and ensembling will help and add. fts\n",
    "\n",
    "# Mean Val RMSE: 0.7475977455132723 std: 0.020832714115182446\n"
   ]
  },
  {
   "cell_type": "code",
   "execution_count": 186,
   "metadata": {},
   "outputs": [
    {
     "name": "stdout",
     "output_type": "stream",
     "text": [
      "XGBRegressor(base_score=None, booster=None, callbacks=None,\n",
      "             colsample_bylevel=None, colsample_bynode=None,\n",
      "             colsample_bytree=None, early_stopping_rounds=None,\n",
      "             enable_categorical=False, eval_metric=None, gamma=None, gpu_id=0,\n",
      "             grow_policy=None, importance_type=None,\n",
      "             interaction_constraints=None, learning_rate=0.1, max_bin=None,\n",
      "             max_cat_to_onehot=None, max_delta_step=None, max_depth=5,\n",
      "             max_leaves=None, min_child_weight=None, missing=nan,\n",
      "             monotone_constraints=None, n_estimators=1000, n_jobs=-1,\n",
      "             num_parallel_tree=None, predictor=None, random_state=12000,\n",
      "             reg_alpha=None, reg_lambda=None, ...)\n",
      "Using cols:  ['latitude' 'longitude' 'year' 'month' 'week' 'season' 'region']\n",
      "-----------------------Fold-0-------------------------\n",
      "Training on 13050 samples\n",
      "Validating on 1451 samples\n",
      "Train RMSE:  0.5496080107833595\n",
      "Val RMSE: 0.7227712957556476\n",
      "-----------------------Fold-1-------------------------\n",
      "Training on 13051 samples\n",
      "Validating on 1450 samples\n",
      "Train RMSE:  0.5449667297141062\n",
      "Val RMSE: 0.6782329983125268\n",
      "-----------------------Fold-2-------------------------\n",
      "Training on 13051 samples\n",
      "Validating on 1450 samples\n",
      "Train RMSE:  0.5483307538201853\n",
      "Val RMSE: 0.6797565487122882\n",
      "-----------------------Fold-3-------------------------\n",
      "Training on 13051 samples\n",
      "Validating on 1450 samples\n",
      "Train RMSE:  0.547211710299074\n",
      "Val RMSE: 0.6992606933335945\n",
      "-----------------------Fold-4-------------------------\n",
      "Training on 13051 samples\n",
      "Validating on 1450 samples\n",
      "Train RMSE:  0.5448964250334661\n",
      "Val RMSE: 0.6710773633391361\n",
      "-----------------------Fold-5-------------------------\n",
      "Training on 13051 samples\n",
      "Validating on 1450 samples\n",
      "Train RMSE:  0.5455990641713118\n",
      "Val RMSE: 0.6987673876684326\n",
      "-----------------------Fold-6-------------------------\n",
      "Training on 13051 samples\n",
      "Validating on 1450 samples\n",
      "Train RMSE:  0.5455990641713118\n",
      "Val RMSE: 0.6761962579830982\n",
      "-----------------------Fold-7-------------------------\n",
      "Training on 13051 samples\n",
      "Validating on 1450 samples\n",
      "Train RMSE:  0.5451073118729555\n",
      "Val RMSE: 0.7041747432033595\n",
      "-----------------------Fold-8-------------------------\n",
      "Training on 13051 samples\n",
      "Validating on 1450 samples\n",
      "Train RMSE:  0.540803115851016\n",
      "Val RMSE: 0.6967906725691083\n",
      "-----------------------Fold-9-------------------------\n",
      "Training on 13051 samples\n",
      "Validating on 1450 samples\n",
      "Train RMSE:  0.5497960418980545\n",
      "Val RMSE: 0.6838027543791789\n",
      "\n",
      "Mean Train RMSE: 0.546191822761484 std: 0.0025371616547557757\n",
      "Mean Val RMSE: 0.691083071525637 std: 0.015173323435315397\n",
      "Mean Test RMSE: nan std: nan\n"
     ]
    },
    {
     "data": {
      "image/png": "[encoded data removed]",
      "text/plain": [
       "<Figure size 640x480 with 1 Axes>"
      ]
     },
     "metadata": {},
     "output_type": "display_data"
    }
   ],
   "source": [
    "xgb = XGBRegressor(n_estimators=1000, max_depth=5, learning_rate=0.1, n_jobs=-1, random_state=12_000, tree_method='gpu_hist', gpu_id=0)\n",
    "print(xgb)\n",
    "\n",
    "cv_it(model=xgb, X_train=X_train, y_train=y_train, X_test=None, y_test=None, splits=10, cv_predict=False)"
   ]
  },
  {
   "cell_type": "code",
   "execution_count": 187,
   "metadata": {},
   "outputs": [
    {
     "name": "stdout",
     "output_type": "stream",
     "text": [
      "XGBRegressor(base_score=None, booster=None, callbacks=None,\n",
      "             colsample_bylevel=None, colsample_bynode=None,\n",
      "             colsample_bytree=None, early_stopping_rounds=None,\n",
      "             enable_categorical=False, eval_metric=None, gamma=None, gpu_id=0,\n",
      "             grow_policy=None, importance_type=None,\n",
      "             interaction_constraints=None, learning_rate=0.1, max_bin=None,\n",
      "             max_cat_to_onehot=None, max_delta_step=None, max_depth=3,\n",
      "             max_leaves=None, min_child_weight=None, missing=nan,\n",
      "             monotone_constraints=None, n_estimators=1000, n_jobs=-1,\n",
      "             num_parallel_tree=None, predictor=None, random_state=12,\n",
      "             reg_alpha=None, reg_lambda=None, ...)\n",
      "Using cols:  ['latitude' 'longitude' 'year' 'month' 'week' 'season' 'region']\n",
      "-----------------------Fold-0-------------------------\n",
      "Training on 13050 samples\n",
      "Validating on 1451 samples\n",
      "Train RMSE:  0.6386647949484248\n",
      "Val RMSE: 0.7122052995432216\n",
      "-----------------------Fold-1-------------------------\n",
      "Training on 13051 samples\n",
      "Validating on 1450 samples\n",
      "Train RMSE:  0.6401382886378423\n",
      "Val RMSE: 0.6832982889808359\n",
      "-----------------------Fold-2-------------------------\n",
      "Training on 13051 samples\n",
      "Validating on 1450 samples\n",
      "Train RMSE:  0.6436001339964665\n",
      "Val RMSE: 0.6848105703341467\n",
      "-----------------------Fold-3-------------------------\n",
      "Training on 13051 samples\n",
      "Validating on 1450 samples\n",
      "Train RMSE:  0.6410951476003858\n",
      "Val RMSE: 0.7027041364957772\n",
      "-----------------------Fold-4-------------------------\n",
      "Training on 13051 samples\n",
      "Validating on 1450 samples\n",
      "Train RMSE:  0.6421699097087992\n",
      "Val RMSE: 0.6654010976017812\n",
      "-----------------------Fold-5-------------------------\n",
      "Training on 13051 samples\n",
      "Validating on 1450 samples\n",
      "Train RMSE:  0.6380401568427553\n",
      "Val RMSE: 0.6933178601279603\n",
      "-----------------------Fold-6-------------------------\n",
      "Training on 13051 samples\n",
      "Validating on 1450 samples\n",
      "Train RMSE:  0.6403178086101411\n",
      "Val RMSE: 0.6977797300897597\n",
      "-----------------------Fold-7-------------------------\n",
      "Training on 13051 samples\n",
      "Validating on 1450 samples\n",
      "Train RMSE:  0.6394796175710294\n",
      "Val RMSE: 0.6967906725691083\n",
      "-----------------------Fold-8-------------------------\n",
      "Training on 13051 samples\n",
      "Validating on 1450 samples\n",
      "Train RMSE:  0.6403178086101411\n",
      "Val RMSE: 0.688827089058415\n",
      "-----------------------Fold-9-------------------------\n",
      "Training on 13051 samples\n",
      "Validating on 1450 samples\n",
      "Train RMSE:  0.6424681356616738\n",
      "Val RMSE: 0.682288239221013\n",
      "\n",
      "Mean Train RMSE: 0.640629180218766 std: 0.0016467398503375275\n",
      "Mean Val RMSE: 0.6907422984022018 std: 0.012265406871339464\n",
      "Mean Test RMSE: nan std: nan\n"
     ]
    },
    {
     "data": {
      "image/png": "[encoded data removed]",
      "text/plain": [
       "<Figure size 640x480 with 1 Axes>"
      ]
     },
     "metadata": {},
     "output_type": "display_data"
    }
   ],
   "source": [
    "xgb = XGBRegressor(n_estimators=1000, max_depth=3, learning_rate=0.1, n_jobs=-1, random_state=12, tree_method='gpu_hist', gpu_id=0)\n",
    "print(xgb)\n",
    "\n",
    "cv_it(model=xgb, X_train=X_train, y_train=y_train, X_test=None, y_test=None, splits=10, cv_predict=False)"
   ]
  },
  {
   "cell_type": "code",
   "execution_count": 188,
   "metadata": {},
   "outputs": [
    {
     "name": "stdout",
     "output_type": "stream",
     "text": [
      "Using cols:  ['latitude' 'longitude' 'year' 'month' 'week' 'season' 'region']\n",
      "-----------------------Fold-0-------------------------\n",
      "Training on 13050 samples\n",
      "Validating on 1451 samples\n",
      "Train RMSE:  0.6386647949484248\n",
      "Val RMSE: 0.7122052995432216\n",
      "-----------------------Fold-1-------------------------\n",
      "Training on 13051 samples\n",
      "Validating on 1450 samples\n",
      "Train RMSE:  0.6401382886378423\n",
      "Val RMSE: 0.6832982889808359\n",
      "-----------------------Fold-2-------------------------\n",
      "Training on 13051 samples\n",
      "Validating on 1450 samples\n",
      "Train RMSE:  0.6436001339964665\n",
      "Val RMSE: 0.6848105703341467\n",
      "-----------------------Fold-3-------------------------\n",
      "Training on 13051 samples\n",
      "Validating on 1450 samples\n",
      "Train RMSE:  0.6410951476003858\n",
      "Val RMSE: 0.7027041364957772\n",
      "-----------------------Fold-4-------------------------\n",
      "Training on 13051 samples\n",
      "Validating on 1450 samples\n",
      "Train RMSE:  0.6421699097087992\n",
      "Val RMSE: 0.6654010976017812\n",
      "-----------------------Fold-5-------------------------\n",
      "Training on 13051 samples\n",
      "Validating on 1450 samples\n",
      "Train RMSE:  0.6380401568427553\n",
      "Val RMSE: 0.6933178601279603\n",
      "-----------------------Fold-6-------------------------\n",
      "Training on 13051 samples\n",
      "Validating on 1450 samples\n",
      "Train RMSE:  0.6403178086101411\n",
      "Val RMSE: 0.6977797300897597\n",
      "-----------------------Fold-7-------------------------\n",
      "Training on 13051 samples\n",
      "Validating on 1450 samples\n",
      "Train RMSE:  0.6394796175710294\n",
      "Val RMSE: 0.6967906725691083\n",
      "-----------------------Fold-8-------------------------\n",
      "Training on 13051 samples\n",
      "Validating on 1450 samples\n",
      "Train RMSE:  0.6403178086101411\n",
      "Val RMSE: 0.688827089058415\n",
      "-----------------------Fold-9-------------------------\n",
      "Training on 13051 samples\n",
      "Validating on 1450 samples\n",
      "Train RMSE:  0.6424681356616738\n",
      "Val RMSE: 0.682288239221013\n",
      "\n",
      "Mean Train RMSE: 0.640629180218766 std: 0.0016467398503375275\n",
      "Mean Val RMSE: 0.6907422984022018 std: 0.012265406871339464\n",
      "Mean Test RMSE: 0.0 std: 0.0\n"
     ]
    },
    {
     "data": {
      "text/plain": [
       "0.690902590749336"
      ]
     },
     "execution_count": 188,
     "metadata": {},
     "output_type": "execute_result"
    },
    {
     "data": {
      "image/png": "[encoded data removed]",
      "text/plain": [
       "<Figure size 640x480 with 1 Axes>"
      ]
     },
     "metadata": {},
     "output_type": "display_data"
    }
   ],
   "source": [
    "_, train_preds = cv_it(model=xgb, X_train=X_train, y_train=y_train, X_test=None, y_test=None, splits=10, cv_predict=True)\n",
    "rmse(np.round(train_preds), y_train)"
   ]
  },
  {
   "cell_type": "code",
   "execution_count": 189,
   "metadata": {},
   "outputs": [
    {
     "data": {
      "text/plain": [
       "0.08999999999999997"
      ]
     },
     "execution_count": 189,
     "metadata": {},
     "output_type": "execute_result"
    }
   ],
   "source": [
    "0.76 - 0.67"
   ]
  },
  {
   "cell_type": "code",
   "execution_count": 190,
   "metadata": {},
   "outputs": [
    {
     "data": {
      "text/plain": [
       "0.780902590749336"
      ]
     },
     "execution_count": 190,
     "metadata": {},
     "output_type": "execute_result"
    }
   ],
   "source": [
    "0.690902590749336 + 0.09"
   ]
  },
  {
   "cell_type": "code",
   "execution_count": 191,
   "metadata": {},
   "outputs": [
    {
     "data": {
      "text/plain": [
       "(0.894754808017972, 0.8935478132935858)"
      ]
     },
     "execution_count": 191,
     "metadata": {},
     "output_type": "execute_result"
    }
   ],
   "source": [
    "# may be it's all coz of region\n",
    "\n",
    "rmse(train_data.region.map(reg_sev_map), train_data.severity), rmse(X_train.region, y_train) #  --> nah..."
   ]
  },
  {
   "cell_type": "code",
   "execution_count": 238,
   "metadata": {},
   "outputs": [],
   "source": [
    "reg_map = {\n",
    "    'south' : 0,\n",
    "    'northeast' : 1,\n",
    "    'west' : 2,\n",
    "    'midwest' : 3\n",
    "}"
   ]
  },
  {
   "cell_type": "code",
   "execution_count": 239,
   "metadata": {},
   "outputs": [],
   "source": [
    "X_train.region = tr_data.region.map(reg_map)"
   ]
  },
  {
   "cell_type": "code",
   "execution_count": 241,
   "metadata": {},
   "outputs": [
    {
     "name": "stdout",
     "output_type": "stream",
     "text": [
      "XGBRegressor(base_score=None, booster=None, callbacks=None,\n",
      "             colsample_bylevel=None, colsample_bynode=None,\n",
      "             colsample_bytree=None, early_stopping_rounds=None,\n",
      "             enable_categorical=False, eval_metric=None, gamma=None, gpu_id=0,\n",
      "             grow_policy=None, importance_type=None,\n",
      "             interaction_constraints=None, learning_rate=0.1, max_bin=None,\n",
      "             max_cat_to_onehot=None, max_delta_step=None, max_depth=3,\n",
      "             max_leaves=None, min_child_weight=None, missing=nan,\n",
      "             monotone_constraints=None, n_estimators=1000, n_jobs=-1,\n",
      "             num_parallel_tree=None, predictor=None, random_state=12000,\n",
      "             reg_alpha=None, reg_lambda=None, ...)\n",
      "Using cols:  ['latitude' 'longitude' 'year' 'month' 'week' 'season' 'region']\n",
      "-----------------------Fold-0-------------------------\n",
      "Training on 13050 samples\n",
      "Validating on 1451 samples\n",
      "Train RMSE:  0.637103118138471\n",
      "Val RMSE: 0.7102673223467764\n",
      "-----------------------Fold-1-------------------------\n",
      "Training on 13051 samples\n",
      "Validating on 1450 samples\n",
      "Train RMSE:  0.64127439970723\n",
      "Val RMSE: 0.6756861136192833\n",
      "-----------------------Fold-2-------------------------\n",
      "Training on 13051 samples\n",
      "Validating on 1450 samples\n",
      "Train RMSE:  0.6427662232458754\n",
      "Val RMSE: 0.6812766919794649\n",
      "-----------------------Fold-3-------------------------\n",
      "Training on 13051 samples\n",
      "Validating on 1450 samples\n",
      "Train RMSE:  0.639659322398961\n",
      "Val RMSE: 0.6977797300897597\n",
      "-----------------------Fold-4-------------------------\n",
      "Training on 13051 samples\n",
      "Validating on 1450 samples\n",
      "Train RMSE:  0.6419909076398975\n",
      "Val RMSE: 0.6643638388299198\n",
      "-----------------------Fold-5-------------------------\n",
      "Training on 13051 samples\n",
      "Validating on 1450 samples\n",
      "Train RMSE:  0.6379200551651091\n",
      "Val RMSE: 0.6908265913457189\n",
      "-----------------------Fold-6-------------------------\n",
      "Training on 13051 samples\n",
      "Validating on 1450 samples\n",
      "Train RMSE:  0.6391200563294619\n",
      "Val RMSE: 0.688827089058415\n",
      "-----------------------Fold-7-------------------------\n",
      "Training on 13051 samples\n",
      "Validating on 1450 samples\n",
      "Train RMSE:  0.6397790975750691\n",
      "Val RMSE: 0.6992606933335945\n",
      "-----------------------Fold-8-------------------------\n",
      "Training on 13051 samples\n",
      "Validating on 1450 samples\n",
      "Train RMSE:  0.6400185806819311\n",
      "Val RMSE: 0.6893275083681947\n",
      "-----------------------Fold-9-------------------------\n",
      "Training on 13051 samples\n",
      "Validating on 1450 samples\n",
      "Train RMSE:  0.641573041925117\n",
      "Val RMSE: 0.6913255633077361\n",
      "\n",
      "Mean Train RMSE: 0.6401204802807123 std: 0.0017095819681512408\n",
      "Mean Val RMSE: 0.6888941142278864 std: 0.012195424162667726\n",
      "Mean Test RMSE: nan std: nan\n"
     ]
    },
    {
     "data": {
      "image/png": "[encoded data removed]",
      "text/plain": [
       "<Figure size 640x480 with 1 Axes>"
      ]
     },
     "metadata": {},
     "output_type": "display_data"
    }
   ],
   "source": [
    "#  with region as int\n",
    "xgb = XGBRegressor(n_estimators=1000, max_depth=3, learning_rate=0.1, n_jobs=-1, random_state=12_000, tree_method='gpu_hist', gpu_id=0)\n",
    "print(xgb)\n",
    "\n",
    "cv_it(model=xgb, X_train=X_train, y_train=y_train, X_test=None, y_test=None, splits=10, cv_predict=False)"
   ]
  },
  {
   "cell_type": "code",
   "execution_count": 192,
   "metadata": {},
   "outputs": [
    {
     "name": "stdout",
     "output_type": "stream",
     "text": [
      "XGBRegressor(base_score=None, booster=None, callbacks=None,\n",
      "             colsample_bylevel=None, colsample_bynode=None,\n",
      "             colsample_bytree=None, early_stopping_rounds=None,\n",
      "             enable_categorical=False, eval_metric=None, gamma=None, gpu_id=0,\n",
      "             grow_policy=None, importance_type=None,\n",
      "             interaction_constraints=None, learning_rate=0.1, max_bin=None,\n",
      "             max_cat_to_onehot=None, max_delta_step=None, max_depth=3,\n",
      "             max_leaves=None, min_child_weight=None, missing=nan,\n",
      "             monotone_constraints=None, n_estimators=1000, n_jobs=-1,\n",
      "             num_parallel_tree=None, predictor=None, random_state=12000,\n",
      "             reg_alpha=None, reg_lambda=None, ...)\n",
      "Using cols:  ['latitude' 'longitude' 'year' 'month' 'week' 'season']\n",
      "-----------------------Fold-0-------------------------\n",
      "Training on 13050 samples\n",
      "Validating on 1451 samples\n",
      "Train RMSE:  0.6386647949484248\n",
      "Val RMSE: 0.7122052995432216\n",
      "-----------------------Fold-1-------------------------\n",
      "Training on 13051 samples\n",
      "Validating on 1450 samples\n",
      "Train RMSE:  0.6428258241754158\n",
      "Val RMSE: 0.6731295924826527\n",
      "-----------------------Fold-2-------------------------\n",
      "Training on 13051 samples\n",
      "Validating on 1450 samples\n",
      "Train RMSE:  0.6436596577084086\n",
      "Val RMSE: 0.6868217657668069\n",
      "-----------------------Fold-3-------------------------\n",
      "Training on 13051 samples\n",
      "Validating on 1450 samples\n",
      "Train RMSE:  0.6405570903107989\n",
      "Val RMSE: 0.7007385266692711\n",
      "-----------------------Fold-4-------------------------\n",
      "Training on 13051 samples\n",
      "Validating on 1450 samples\n",
      "Train RMSE:  0.6421699097087992\n",
      "Val RMSE: 0.6622844476923586\n",
      "-----------------------Fold-5-------------------------\n",
      "Training on 13051 samples\n",
      "Validating on 1450 samples\n",
      "Train RMSE:  0.6387003123807933\n",
      "Val RMSE: 0.6938150404429322\n",
      "-----------------------Fold-6-------------------------\n",
      "Training on 13051 samples\n",
      "Validating on 1450 samples\n",
      "Train RMSE:  0.6400784374583708\n",
      "Val RMSE: 0.6967906725691083\n",
      "-----------------------Fold-7-------------------------\n",
      "Training on 13051 samples\n",
      "Validating on 1450 samples\n",
      "Train RMSE:  0.64127439970723\n",
      "Val RMSE: 0.7046642634176442\n",
      "-----------------------Fold-8-------------------------\n",
      "Training on 13051 samples\n",
      "Validating on 1450 samples\n",
      "Train RMSE:  0.6414536017226624\n",
      "Val RMSE: 0.6977797300897597\n",
      "-----------------------Fold-9-------------------------\n",
      "Training on 13051 samples\n",
      "Validating on 1450 samples\n",
      "Train RMSE:  0.6398988503318643\n",
      "Val RMSE: 0.6858169052933931\n",
      "\n",
      "Mean Train RMSE: 0.6409282878452768 std: 0.0015813111029884402\n",
      "Mean Val RMSE: 0.6914046243967149 std: 0.014160706617010523\n",
      "Mean Test RMSE: nan std: nan\n"
     ]
    },
    {
     "data": {
      "image/png": "[encoded data removed]",
      "text/plain": [
       "<Figure size 640x480 with 1 Axes>"
      ]
     },
     "metadata": {},
     "output_type": "display_data"
    }
   ],
   "source": [
    "# without region    \n",
    "\n",
    "xgb = XGBRegressor(n_estimators=1000, max_depth=3, learning_rate=0.1, n_jobs=-1, random_state=12_000, tree_method='gpu_hist', gpu_id=0)\n",
    "print(xgb)\n",
    "\n",
    "cv_it(model=xgb, X_train=X_train.drop(columns='region'), y_train=y_train, X_test=None, y_test=None, splits=10, cv_predict=False)"
   ]
  },
  {
   "cell_type": "code",
   "execution_count": 193,
   "metadata": {},
   "outputs": [
    {
     "name": "stdout",
     "output_type": "stream",
     "text": [
      "XGBRegressor(base_score=None, booster=None, callbacks=None,\n",
      "             colsample_bylevel=None, colsample_bynode=None,\n",
      "             colsample_bytree=None, early_stopping_rounds=None,\n",
      "             enable_categorical=False, eval_metric=None, gamma=None, gpu_id=0,\n",
      "             grow_policy=None, importance_type=None,\n",
      "             interaction_constraints=None, learning_rate=0.1, max_bin=None,\n",
      "             max_cat_to_onehot=None, max_delta_step=None, max_depth=3,\n",
      "             max_leaves=None, min_child_weight=None, missing=nan,\n",
      "             monotone_constraints=None, n_estimators=1000, n_jobs=-1,\n",
      "             num_parallel_tree=None, predictor=None, random_state=12000,\n",
      "             reg_alpha=None, reg_lambda=None, ...)\n",
      "Using cols:  ['year' 'month' 'week' 'season' 'region']\n",
      "-----------------------Fold-0-------------------------\n",
      "Training on 13050 samples\n",
      "Validating on 1451 samples\n",
      "Train RMSE:  0.825132057235322\n",
      "Val RMSE: 0.8663237760254308\n",
      "-----------------------Fold-1-------------------------\n",
      "Training on 13051 samples\n",
      "Validating on 1450 samples\n",
      "Train RMSE:  0.825054011276386\n",
      "Val RMSE: 0.8296239280957158\n",
      "-----------------------Fold-2-------------------------\n",
      "Training on 13051 samples\n",
      "Validating on 1450 samples\n",
      "Train RMSE:  0.8263531636003224\n",
      "Val RMSE: 0.8407714027749386\n",
      "-----------------------Fold-3-------------------------\n",
      "Training on 13051 samples\n",
      "Validating on 1450 samples\n",
      "Train RMSE:  0.8260285670756246\n",
      "Val RMSE: 0.8517729987381089\n",
      "-----------------------Fold-4-------------------------\n",
      "Training on 13051 samples\n",
      "Validating on 1450 samples\n",
      "Train RMSE:  0.827835412618602\n",
      "Val RMSE: 0.8304547985373997\n",
      "-----------------------Fold-5-------------------------\n",
      "Training on 13051 samples\n",
      "Validating on 1450 samples\n",
      "Train RMSE:  0.8264922373715128\n",
      "Val RMSE: 0.83624777717348\n",
      "-----------------------Fold-6-------------------------\n",
      "Training on 13051 samples\n",
      "Validating on 1450 samples\n",
      "Train RMSE:  0.8277428498171031\n",
      "Val RMSE: 0.8509629433967631\n",
      "-----------------------Fold-7-------------------------\n",
      "Training on 13051 samples\n",
      "Validating on 1450 samples\n",
      "Train RMSE:  0.8260285670756246\n",
      "Val RMSE: 0.8391292695613011\n",
      "-----------------------Fold-8-------------------------\n",
      "Training on 13051 samples\n",
      "Validating on 1450 samples\n",
      "Train RMSE:  0.8213308243578711\n",
      "Val RMSE: 0.8674178883925834\n",
      "-----------------------Fold-9-------------------------\n",
      "Training on 13051 samples\n",
      "Validating on 1450 samples\n",
      "Train RMSE:  0.825564636363895\n",
      "Val RMSE: 0.8407714027749386\n",
      "\n",
      "Mean Train RMSE: 0.8257562326792265 std: 0.001726836882670411\n",
      "Mean Val RMSE: 0.845347618547066 std: 0.012776158989883107\n",
      "Mean Test RMSE: nan std: nan\n"
     ]
    },
    {
     "data": {
      "image/png": "[encoded data removed]",
      "text/plain": [
       "<Figure size 640x480 with 1 Axes>"
      ]
     },
     "metadata": {},
     "output_type": "display_data"
    }
   ],
   "source": [
    "# without lat, long\n",
    "\n",
    "xgb = XGBRegressor(n_estimators=1000, max_depth=3, learning_rate=0.1, n_jobs=-1, random_state=12_000, tree_method='gpu_hist', gpu_id=0)\n",
    "print(xgb)\n",
    "\n",
    "cv_it(model=xgb, X_train=X_train.drop(columns=[ 'latitude', 'longitude']), y_train=y_train, X_test=None, y_test=None, splits=10, cv_predict=False)\n",
    "#  so this is what happened last time!"
   ]
  },
  {
   "cell_type": "code",
   "execution_count": 194,
   "metadata": {},
   "outputs": [
    {
     "name": "stdout",
     "output_type": "stream",
     "text": [
      "XGBRegressor(base_score=None, booster=None, callbacks=None,\n",
      "             colsample_bylevel=None, colsample_bynode=None,\n",
      "             colsample_bytree=None, early_stopping_rounds=None,\n",
      "             enable_categorical=False, eval_metric=None, gamma=None, gpu_id=0,\n",
      "             grow_policy=None, importance_type=None,\n",
      "             interaction_constraints=None, learning_rate=0.1, max_bin=None,\n",
      "             max_cat_to_onehot=None, max_delta_step=None, max_depth=3,\n",
      "             max_leaves=None, min_child_weight=None, missing=nan,\n",
      "             monotone_constraints=None, n_estimators=1000, n_jobs=-1,\n",
      "             num_parallel_tree=None, predictor=None, random_state=12000,\n",
      "             reg_alpha=None, reg_lambda=None, ...)\n",
      "Using cols:  ['year' 'month' 'week' 'season']\n",
      "-----------------------Fold-0-------------------------\n",
      "Training on 13050 samples\n",
      "Validating on 1451 samples\n",
      "Train RMSE:  1.102557111404233\n",
      "Val RMSE: 1.1050912813786862\n",
      "-----------------------Fold-1-------------------------\n",
      "Training on 13051 samples\n",
      "Validating on 1450 samples\n",
      "Train RMSE:  1.1027580861282946\n",
      "Val RMSE: 1.1104519117349756\n",
      "-----------------------Fold-2-------------------------\n",
      "Training on 13051 samples\n",
      "Validating on 1450 samples\n",
      "Train RMSE:  1.0983021983719872\n",
      "Val RMSE: 1.113243165183414\n",
      "-----------------------Fold-3-------------------------\n",
      "Training on 13051 samples\n",
      "Validating on 1450 samples\n",
      "Train RMSE:  1.0992436153722749\n",
      "Val RMSE: 1.1098306798476218\n",
      "-----------------------Fold-4-------------------------\n",
      "Training on 13051 samples\n",
      "Validating on 1450 samples\n",
      "Train RMSE:  1.1010196512640194\n",
      "Val RMSE: 1.104536101718726\n",
      "-----------------------Fold-5-------------------------\n",
      "Training on 13051 samples\n",
      "Validating on 1450 samples\n",
      "Train RMSE:  1.102132565466919\n",
      "Val RMSE: 1.1310660214273904\n",
      "-----------------------Fold-6-------------------------\n",
      "Training on 13051 samples\n",
      "Validating on 1450 samples\n",
      "Train RMSE:  1.1004975853013053\n",
      "Val RMSE: 1.1184965278259118\n",
      "-----------------------Fold-7-------------------------\n",
      "Training on 13051 samples\n",
      "Validating on 1450 samples\n",
      "Train RMSE:  1.101263197349659\n",
      "Val RMSE: 1.10796489425277\n",
      "-----------------------Fold-8-------------------------\n",
      "Training on 13051 samples\n",
      "Validating on 1450 samples\n",
      "Train RMSE:  1.0934077791948018\n",
      "Val RMSE: 1.1206525192786199\n",
      "-----------------------Fold-9-------------------------\n",
      "Training on 13051 samples\n",
      "Validating on 1450 samples\n",
      "Train RMSE:  1.0992784671855198\n",
      "Val RMSE: 1.1280132060855708\n",
      "\n",
      "Mean Train RMSE: 1.1000460257039015 std: 0.002626558391464517\n",
      "Mean Val RMSE: 1.1149346308733687 std: 0.008827550951680854\n",
      "Mean Test RMSE: nan std: nan\n"
     ]
    },
    {
     "data": {
      "image/png": "[encoded data removed]",
      "text/plain": [
       "<Figure size 640x480 with 1 Axes>"
      ]
     },
     "metadata": {},
     "output_type": "display_data"
    }
   ],
   "source": [
    "#  without lat and lng and reg\n",
    "\n",
    "xgb = XGBRegressor(n_estimators=1000, max_depth=3, learning_rate=0.1, n_jobs=-1, random_state=12_000, tree_method='gpu_hist', gpu_id=0)\n",
    "print(xgb)\n",
    "\n",
    "cv_it(model=xgb, X_train=X_train.drop(columns=['region', 'latitude', 'longitude']), y_train=y_train, X_test=None, y_test=None, splits=10, cv_predict=False)"
   ]
  },
  {
   "cell_type": "code",
   "execution_count": null,
   "metadata": {},
   "outputs": [],
   "source": [
    "#  Believe in Stratified KFold??"
   ]
  },
  {
   "cell_type": "code",
   "execution_count": 248,
   "metadata": {},
   "outputs": [
    {
     "name": "stdout",
     "output_type": "stream",
     "text": [
      "Using cols:  ['latitude' 'longitude' 'year' 'month' 'week' 'season' 'region']\n",
      "-----------------------Fold-0-------------------------\n",
      "Training on 13050 samples\n",
      "Validating on 1451 samples\n",
      "Train RMSE:  0.637103118138471\n",
      "Val RMSE: 0.7102673223467764\n",
      "-----------------------Fold-1-------------------------\n",
      "Training on 13051 samples\n",
      "Validating on 1450 samples\n",
      "Train RMSE:  0.64127439970723\n",
      "Val RMSE: 0.6756861136192833\n",
      "-----------------------Fold-2-------------------------\n",
      "Training on 13051 samples\n",
      "Validating on 1450 samples\n",
      "Train RMSE:  0.6427662232458754\n",
      "Val RMSE: 0.6812766919794649\n",
      "-----------------------Fold-3-------------------------\n",
      "Training on 13051 samples\n",
      "Validating on 1450 samples\n",
      "Train RMSE:  0.639659322398961\n",
      "Val RMSE: 0.6977797300897597\n",
      "-----------------------Fold-4-------------------------\n",
      "Training on 13051 samples\n",
      "Validating on 1450 samples\n",
      "Train RMSE:  0.6419909076398975\n",
      "Val RMSE: 0.6643638388299198\n",
      "-----------------------Fold-5-------------------------\n",
      "Training on 13051 samples\n",
      "Validating on 1450 samples\n",
      "Train RMSE:  0.6379200551651091\n",
      "Val RMSE: 0.6908265913457189\n",
      "-----------------------Fold-6-------------------------\n",
      "Training on 13051 samples\n",
      "Validating on 1450 samples\n",
      "Train RMSE:  0.6391200563294619\n",
      "Val RMSE: 0.688827089058415\n",
      "-----------------------Fold-7-------------------------\n",
      "Training on 13051 samples\n",
      "Validating on 1450 samples\n",
      "Train RMSE:  0.6397790975750691\n",
      "Val RMSE: 0.6992606933335945\n",
      "-----------------------Fold-8-------------------------\n",
      "Training on 13051 samples\n",
      "Validating on 1450 samples\n",
      "Train RMSE:  0.6400185806819311\n",
      "Val RMSE: 0.6893275083681947\n",
      "-----------------------Fold-9-------------------------\n",
      "Training on 13051 samples\n",
      "Validating on 1450 samples\n",
      "Train RMSE:  0.641573041925117\n",
      "Val RMSE: 0.6913255633077361\n",
      "\n",
      "Mean Train RMSE: 0.6401204802807123 std: 0.0017095819681512408\n",
      "Mean Val RMSE: 0.6888941142278864 std: 0.012195424162667726\n",
      "Mean Test RMSE: 0.0 std: 0.0\n"
     ]
    },
    {
     "data": {
      "image/png": "[encoded data removed]",
      "text/plain": [
       "<Figure size 640x480 with 1 Axes>"
      ]
     },
     "metadata": {},
     "output_type": "display_data"
    }
   ],
   "source": [
    "test_cv_preds, train_cv_preds = cv_it(model=xgb, X_train=X_train, y_train=y_train, X_test=X_train, y_test=None, splits=10, cv_predict=True)\n",
    "# cross checking cv preds"
   ]
  },
  {
   "cell_type": "code",
   "execution_count": 252,
   "metadata": {},
   "outputs": [
    {
     "data": {
      "text/plain": [
       "0.6394281460075301"
      ]
     },
     "execution_count": 252,
     "metadata": {},
     "output_type": "execute_result"
    }
   ],
   "source": [
    "rmse(np.clip(np.round(test_cv_preds.mean(axis=1)), 1, 5), y_train)"
   ]
  },
  {
   "cell_type": "code",
   "execution_count": 253,
   "metadata": {},
   "outputs": [
    {
     "data": {
      "text/plain": [
       "0.6412051614190357"
      ]
     },
     "execution_count": 253,
     "metadata": {},
     "output_type": "execute_result"
    }
   ],
   "source": [
    "rmse(np.clip(np.round(np.round(test_cv_preds).mean(axis=1)), 1, 5), y_train)"
   ]
  },
  {
   "cell_type": "code",
   "execution_count": 301,
   "metadata": {},
   "outputs": [
    {
     "data": {
      "text/plain": [
       "1.0    0.439487\n",
       "4.0    0.208261\n",
       "2.0    0.189435\n",
       "3.0    0.159575\n",
       "5.0    0.003241\n",
       "Name: severity, dtype: float64"
      ]
     },
     "execution_count": 301,
     "metadata": {},
     "output_type": "execute_result"
    }
   ],
   "source": [
    "y_train.value_counts(normalize=True)"
   ]
  },
  {
   "cell_type": "code",
   "execution_count": 332,
   "metadata": {},
   "outputs": [
    {
     "name": "stdout",
     "output_type": "stream",
     "text": [
      "Exact matches:  0.6607130542721191\n",
      "Missed by 1:  0.3168746982966692\n",
      "Missed by 2:  0.021929522101924004\n",
      "Missed by 3:  0.00048272532928763534\n",
      "Missed by 4:  0.0\n",
      "\n",
      "Severity 1 : accuracy: 29.722088131852974% - prevalence: 43.94869319357286%\n",
      "Severity 2 : accuracy: 12.70946831253017% - prevalence: 18.943521136473347%\n",
      "Severity 3 : accuracy: 4.958278739397283% - prevalence: 15.957520171022688%\n",
      "Severity 4 : accuracy: 18.681470243431487% - prevalence: 20.826149920695126%\n",
      "Severity 5 : accuracy: 0.0% - prevalence: 0.32411557823598375%\n",
      "\n",
      "Classification report:\n",
      "              precision    recall  f1-score   support\n",
      "\n",
      "         0.0       0.00      0.00      0.00         0\n",
      "         1.0       0.83      0.68      0.75      6373\n",
      "         2.0       0.35      0.67      0.46      2747\n",
      "         3.0       0.60      0.31      0.41      2314\n",
      "         4.0       0.93      0.90      0.91      3020\n",
      "         5.0       0.00      0.00      0.00        47\n",
      "\n",
      "    accuracy                           0.66     14501\n",
      "   macro avg       0.45      0.43      0.42     14501\n",
      "weighted avg       0.72      0.66      0.67     14501\n",
      "\n"
     ]
    }
   ],
   "source": [
    "analyize_matches(y_pred =np.round(test_cv_preds.mean(axis=1)), y_true=y_train)"
   ]
  },
  {
   "attachments": {},
   "cell_type": "markdown",
   "metadata": {},
   "source": [
    "# Test predictions"
   ]
  },
  {
   "cell_type": "code",
   "execution_count": 195,
   "metadata": {},
   "outputs": [
    {
     "data": {
      "text/html": [
       "<div>\n",
       "<style scoped>\n",
       "    .dataframe tbody tr th:only-of-type {\n",
       "        vertical-align: middle;\n",
       "    }\n",
       "\n",
       "    .dataframe tbody tr th {\n",
       "        vertical-align: top;\n",
       "    }\n",
       "\n",
       "    .dataframe thead th {\n",
       "        text-align: right;\n",
       "    }\n",
       "</style>\n",
       "<table border=\"1\" class=\"dataframe\">\n",
       "  <thead>\n",
       "    <tr style=\"text-align: right;\">\n",
       "      <th></th>\n",
       "      <th>latitude</th>\n",
       "      <th>longitude</th>\n",
       "      <th>year</th>\n",
       "      <th>month</th>\n",
       "      <th>week</th>\n",
       "      <th>season</th>\n",
       "      <th>region</th>\n",
       "    </tr>\n",
       "  </thead>\n",
       "  <tbody>\n",
       "    <tr>\n",
       "      <th>1</th>\n",
       "      <td>36.559700</td>\n",
       "      <td>-121.510000</td>\n",
       "      <td>2016</td>\n",
       "      <td>8</td>\n",
       "      <td>35</td>\n",
       "      <td>3</td>\n",
       "      <td>4</td>\n",
       "    </tr>\n",
       "    <tr>\n",
       "      <th>12</th>\n",
       "      <td>33.042600</td>\n",
       "      <td>-117.076000</td>\n",
       "      <td>2014</td>\n",
       "      <td>11</td>\n",
       "      <td>44</td>\n",
       "      <td>4</td>\n",
       "      <td>4</td>\n",
       "    </tr>\n",
       "    <tr>\n",
       "      <th>14</th>\n",
       "      <td>40.703968</td>\n",
       "      <td>-80.293050</td>\n",
       "      <td>2015</td>\n",
       "      <td>8</td>\n",
       "      <td>35</td>\n",
       "      <td>3</td>\n",
       "      <td>2</td>\n",
       "    </tr>\n",
       "    <tr>\n",
       "      <th>15</th>\n",
       "      <td>38.972500</td>\n",
       "      <td>-94.672930</td>\n",
       "      <td>2019</td>\n",
       "      <td>8</td>\n",
       "      <td>35</td>\n",
       "      <td>3</td>\n",
       "      <td>2</td>\n",
       "    </tr>\n",
       "    <tr>\n",
       "      <th>16</th>\n",
       "      <td>34.279000</td>\n",
       "      <td>-118.905000</td>\n",
       "      <td>2018</td>\n",
       "      <td>1</td>\n",
       "      <td>2</td>\n",
       "      <td>1</td>\n",
       "      <td>4</td>\n",
       "    </tr>\n",
       "    <tr>\n",
       "      <th>...</th>\n",
       "      <td>...</td>\n",
       "      <td>...</td>\n",
       "      <td>...</td>\n",
       "      <td>...</td>\n",
       "      <td>...</td>\n",
       "      <td>...</td>\n",
       "      <td>...</td>\n",
       "    </tr>\n",
       "    <tr>\n",
       "      <th>23556</th>\n",
       "      <td>40.136410</td>\n",
       "      <td>-80.473740</td>\n",
       "      <td>2019</td>\n",
       "      <td>7</td>\n",
       "      <td>28</td>\n",
       "      <td>3</td>\n",
       "      <td>2</td>\n",
       "    </tr>\n",
       "    <tr>\n",
       "      <th>23560</th>\n",
       "      <td>36.875400</td>\n",
       "      <td>-121.561000</td>\n",
       "      <td>2019</td>\n",
       "      <td>9</td>\n",
       "      <td>38</td>\n",
       "      <td>4</td>\n",
       "      <td>4</td>\n",
       "    </tr>\n",
       "    <tr>\n",
       "      <th>23563</th>\n",
       "      <td>34.210000</td>\n",
       "      <td>-78.929389</td>\n",
       "      <td>2019</td>\n",
       "      <td>7</td>\n",
       "      <td>29</td>\n",
       "      <td>3</td>\n",
       "      <td>2</td>\n",
       "    </tr>\n",
       "    <tr>\n",
       "      <th>23565</th>\n",
       "      <td>36.708500</td>\n",
       "      <td>-121.749000</td>\n",
       "      <td>2014</td>\n",
       "      <td>12</td>\n",
       "      <td>49</td>\n",
       "      <td>1</td>\n",
       "      <td>4</td>\n",
       "    </tr>\n",
       "    <tr>\n",
       "      <th>23569</th>\n",
       "      <td>39.767323</td>\n",
       "      <td>-96.028617</td>\n",
       "      <td>2015</td>\n",
       "      <td>8</td>\n",
       "      <td>36</td>\n",
       "      <td>3</td>\n",
       "      <td>2</td>\n",
       "    </tr>\n",
       "  </tbody>\n",
       "</table>\n",
       "<p>6510 rows × 7 columns</p>\n",
       "</div>"
      ],
      "text/plain": [
       "        latitude   longitude  year  month  week  season  region\n",
       "1      36.559700 -121.510000  2016      8    35       3       4\n",
       "12     33.042600 -117.076000  2014     11    44       4       4\n",
       "14     40.703968  -80.293050  2015      8    35       3       2\n",
       "15     38.972500  -94.672930  2019      8    35       3       2\n",
       "16     34.279000 -118.905000  2018      1     2       1       4\n",
       "...          ...         ...   ...    ...   ...     ...     ...\n",
       "23556  40.136410  -80.473740  2019      7    28       3       2\n",
       "23560  36.875400 -121.561000  2019      9    38       4       4\n",
       "23563  34.210000  -78.929389  2019      7    29       3       2\n",
       "23565  36.708500 -121.749000  2014     12    49       1       4\n",
       "23569  39.767323  -96.028617  2015      8    36       3       2\n",
       "\n",
       "[6510 rows x 7 columns]"
      ]
     },
     "execution_count": 195,
     "metadata": {},
     "output_type": "execute_result"
    }
   ],
   "source": [
    "X_test = X_test[X_train.columns]\n",
    "X_test"
   ]
  },
  {
   "cell_type": "code",
   "execution_count": 196,
   "metadata": {},
   "outputs": [],
   "source": [
    "assert X_test.columns.tolist() == X_train.columns.tolist()"
   ]
  },
  {
   "cell_type": "code",
   "execution_count": 197,
   "metadata": {},
   "outputs": [
    {
     "data": {
      "text/plain": [
       "latitude     0\n",
       "longitude    0\n",
       "year         0\n",
       "month        0\n",
       "week         0\n",
       "season       0\n",
       "region       0\n",
       "dtype: int64"
      ]
     },
     "execution_count": 197,
     "metadata": {},
     "output_type": "execute_result"
    }
   ],
   "source": [
    "X_val.isin(X_train).sum()"
   ]
  },
  {
   "cell_type": "code",
   "execution_count": 198,
   "metadata": {},
   "outputs": [
    {
     "data": {
      "text/plain": [
       "((17060, 7), (17060,))"
      ]
     },
     "execution_count": 198,
     "metadata": {},
     "output_type": "execute_result"
    }
   ],
   "source": [
    "all_X_train = pd.concat([X_train, X_val], axis=0)\n",
    "all_y_train = pd.concat([y_train, y_val], axis=0)\n",
    "\n",
    "assert all_X_train.shape[0] == all_y_train.shape[0]\n",
    "assert all_X_train.columns.tolist() == X_test.columns.tolist()\n",
    "\n",
    "all_X_train.shape, all_y_train.shape"
   ]
  },
  {
   "cell_type": "code",
   "execution_count": 199,
   "metadata": {},
   "outputs": [],
   "source": [
    "X_test.week = X_test.week.astype('int')\n",
    "X_test.region = X_test.region.map(reg_sev_map)"
   ]
  },
  {
   "cell_type": "code",
   "execution_count": 254,
   "metadata": {},
   "outputs": [
    {
     "name": "stdout",
     "output_type": "stream",
     "text": [
      "Using cols:  ['latitude' 'longitude' 'year' 'month' 'week' 'season' 'region']\n",
      "-----------------------Fold-0-------------------------\n",
      "Training on 15354 samples\n",
      "Validating on 1706 samples\n",
      "Train RMSE:  0.6472353807849958\n",
      "Val RMSE: 0.6687637980520433\n",
      "-----------------------Fold-1-------------------------\n",
      "Training on 15354 samples\n",
      "Validating on 1706 samples\n",
      "Train RMSE:  0.6474366042876919\n",
      "Val RMSE: 0.7021153768040306\n",
      "-----------------------Fold-2-------------------------\n",
      "Training on 15354 samples\n",
      "Validating on 1706 samples\n",
      "Train RMSE:  0.6455224484637436\n",
      "Val RMSE: 0.6890535840811314\n",
      "-----------------------Fold-3-------------------------\n",
      "Training on 15354 samples\n",
      "Validating on 1706 samples\n",
      "Train RMSE:  0.6445127146241812\n",
      "Val RMSE: 0.6962468468487136\n",
      "-----------------------Fold-4-------------------------\n",
      "Training on 15354 samples\n",
      "Validating on 1706 samples\n",
      "Train RMSE:  0.6501470259866183\n",
      "Val RMSE: 0.6709514512551437\n",
      "-----------------------Fold-5-------------------------\n",
      "Training on 15354 samples\n",
      "Validating on 1706 samples\n",
      "Train RMSE:  0.6487430357063505\n",
      "Val RMSE: 0.6962468468487136\n",
      "-----------------------Fold-6-------------------------\n",
      "Training on 15354 samples\n",
      "Validating on 1706 samples\n",
      "Train RMSE:  0.6465306053304992\n",
      "Val RMSE: 0.7182106200304349\n",
      "-----------------------Fold-7-------------------------\n",
      "Training on 15354 samples\n",
      "Validating on 1706 samples\n",
      "Train RMSE:  0.6469837633977376\n",
      "Val RMSE: 0.7058622390992214\n",
      "-----------------------Fold-8-------------------------\n",
      "Training on 15354 samples\n",
      "Validating on 1706 samples\n",
      "Train RMSE:  0.64819063607119\n",
      "Val RMSE: 0.6787686251031234\n",
      "-----------------------Fold-9-------------------------\n",
      "Training on 15354 samples\n",
      "Validating on 1706 samples\n",
      "Train RMSE:  0.64819063607119\n",
      "Val RMSE: 0.6920245711201284\n",
      "\n",
      "Mean Train RMSE: 0.6473492850724198 std: 0.0015294947992062133\n",
      "Mean Val RMSE: 0.6918243959242684 std: 0.014778213386297687\n",
      "Mean Test RMSE: 0.0 std: 0.0\n"
     ]
    },
    {
     "data": {
      "text/plain": [
       "(6510, 10)"
      ]
     },
     "execution_count": 254,
     "metadata": {},
     "output_type": "execute_result"
    },
    {
     "data": {
      "image/png": "[encoded data removed]",
      "text/plain": [
       "<Figure size 640x480 with 1 Axes>"
      ]
     },
     "metadata": {},
     "output_type": "display_data"
    }
   ],
   "source": [
    "xgb = XGBRegressor(n_estimators=1000, max_depth=3, learning_rate=0.1, n_jobs=-1, random_state=12_000, tree_method='gpu_hist', gpu_id=0)\n",
    "test_preds, train_preds = cv_it(xgb, all_X_train, all_y_train, X_test=X_test, splits=10, cv_predict=True)\n",
    "test_preds.shape"
   ]
  },
  {
   "cell_type": "code",
   "execution_count": 255,
   "metadata": {},
   "outputs": [],
   "source": [
    "\n",
    "# trained only on X_train, y_train\n",
    "# prev_preds_rmr = preds_rmr\n",
    "# prev_preds_rm = preds_rm\n"
   ]
  },
  {
   "cell_type": "code",
   "execution_count": 337,
   "metadata": {},
   "outputs": [
    {
     "data": {
      "text/plain": [
       "array([4., 3., 2., ..., 1., 4., 3.])"
      ]
     },
     "execution_count": 337,
     "metadata": {},
     "output_type": "execute_result"
    }
   ],
   "source": [
    "preds_rmr = np.round(np.mean(np.round(test_preds), axis=1))\n",
    "preds_rmr  # mean of rounded predictions"
   ]
  },
  {
   "cell_type": "code",
   "execution_count": 338,
   "metadata": {},
   "outputs": [
    {
     "data": {
      "text/plain": [
       "array([4., 3., 2., ..., 1., 4., 3.])"
      ]
     },
     "execution_count": 338,
     "metadata": {},
     "output_type": "execute_result"
    }
   ],
   "source": [
    "preds_rm = np.round(np.mean(test_preds, axis=1))\n",
    "preds_rm # rounded mean s"
   ]
  },
  {
   "cell_type": "code",
   "execution_count": 340,
   "metadata": {},
   "outputs": [
    {
     "name": "stdout",
     "output_type": "stream",
     "text": [
      "Exact matches:  0.8800307219662058\n",
      "Missed by 1:  0.11996927803379416\n",
      "Missed by 2:  0.0\n",
      "Missed by 3:  0.0\n",
      "Missed by 4:  0.0\n",
      "\n",
      "Severity 1 : accuracy: 21.689708141321045% - prevalence: 24.592933947772657%\n",
      "Severity 2 : accuracy: 28.402457757296467% - prevalence: 31.889400921658982%\n",
      "Severity 3 : accuracy: 17.1889400921659% - prevalence: 20.844854070660524%\n",
      "Severity 4 : accuracy: 20.368663594470046% - prevalence: 21.981566820276495%\n",
      "Severity 5 : accuracy: 0.07680491551459294% - prevalence: 0.07680491551459294%\n",
      "\n",
      "Classification report:\n",
      "              precision    recall  f1-score   support\n",
      "\n",
      "         0.0       0.67      0.45      0.54        40\n",
      "         1.0       0.90      0.88      0.89      1601\n",
      "         2.0       0.85      0.89      0.87      2076\n",
      "         3.0       0.85      0.82      0.84      1357\n",
      "         4.0       0.93      0.93      0.93      1431\n",
      "         5.0       0.71      1.00      0.83         5\n",
      "\n",
      "    accuracy                           0.88      6510\n",
      "   macro avg       0.82      0.83      0.82      6510\n",
      "weighted avg       0.88      0.88      0.88      6510\n",
      "\n"
     ]
    },
    {
     "data": {
      "text/plain": [
       "(None, 0.3463658153366093)"
      ]
     },
     "execution_count": 340,
     "metadata": {},
     "output_type": "execute_result"
    }
   ],
   "source": [
    "analyize_matches(prev_preds_rmr, preds_rmr), rmse(prev_preds_rmr, preds_rmr)"
   ]
  },
  {
   "cell_type": "code",
   "execution_count": 341,
   "metadata": {},
   "outputs": [
    {
     "name": "stdout",
     "output_type": "stream",
     "text": [
      "Exact matches:  0.8920122887864823\n",
      "Missed by 1:  0.10798771121351766\n",
      "Missed by 2:  0.0\n",
      "Missed by 3:  0.0\n",
      "Missed by 4:  0.0\n",
      "\n",
      "Severity 1 : accuracy: 22.887864823348693% - prevalence: 25.483870967741932%\n",
      "Severity 2 : accuracy: 26.973886328725037% - prevalence: 30.52227342549923%\n",
      "Severity 3 : accuracy: 19.3394777265745% - prevalence: 22.642089093701998%\n",
      "Severity 4 : accuracy: 19.662058371735792% - prevalence: 20.75268817204301%\n",
      "Severity 5 : accuracy: 0.07680491551459294% - prevalence: 0.07680491551459294%\n",
      "\n",
      "Classification report:\n",
      "              precision    recall  f1-score   support\n",
      "\n",
      "         0.0       0.59      0.50      0.54        34\n",
      "         1.0       0.92      0.90      0.91      1659\n",
      "         2.0       0.87      0.88      0.88      1987\n",
      "         3.0       0.88      0.85      0.86      1474\n",
      "         4.0       0.92      0.95      0.93      1351\n",
      "         5.0       0.50      1.00      0.67         5\n",
      "\n",
      "    accuracy                           0.89      6510\n",
      "   macro avg       0.78      0.85      0.80      6510\n",
      "weighted avg       0.89      0.89      0.89      6510\n",
      "\n"
     ]
    },
    {
     "data": {
      "text/plain": [
       "(None, 0.32861483717799117)"
      ]
     },
     "execution_count": 341,
     "metadata": {},
     "output_type": "execute_result"
    }
   ],
   "source": [
    "analyize_matches(prev_preds_rm, preds_rm), rmse(prev_preds_rm, preds_rm)"
   ]
  },
  {
   "cell_type": "code",
   "execution_count": 342,
   "metadata": {},
   "outputs": [
    {
     "name": "stdout",
     "output_type": "stream",
     "text": [
      "Exact matches:  0.9552995391705069\n",
      "Missed by 1:  0.04470046082949309\n",
      "Missed by 2:  0.0\n",
      "Missed by 3:  0.0\n",
      "Missed by 4:  0.0\n",
      "\n",
      "Severity 1 : accuracy: 23.68663594470046% - prevalence: 24.10138248847926%\n",
      "Severity 2 : accuracy: 30.53763440860215% - prevalence: 33.31797235023041%\n",
      "Severity 3 : accuracy: 19.78494623655914% - prevalence: 20.18433179723502%\n",
      "Severity 4 : accuracy: 21.044546850998465% - prevalence: 21.874039938556066%\n",
      "Severity 5 : accuracy: 0.09216589861751152% - prevalence: 0.10752688172043011%\n",
      "\n",
      "Classification report:\n",
      "              precision    recall  f1-score   support\n",
      "\n",
      "         0.0       0.86      0.93      0.89        27\n",
      "         1.0       0.95      0.98      0.97      1569\n",
      "         2.0       0.99      0.92      0.95      2169\n",
      "         3.0       0.90      0.98      0.94      1314\n",
      "         4.0       0.99      0.96      0.97      1424\n",
      "         5.0       0.60      0.86      0.71         7\n",
      "\n",
      "    accuracy                           0.96      6510\n",
      "   macro avg       0.88      0.94      0.90      6510\n",
      "weighted avg       0.96      0.96      0.96      6510\n",
      "\n"
     ]
    }
   ],
   "source": [
    "analyize_matches(preds_rmr, preds_rm)\n",
    "# 265.0 samples are off!"
   ]
  },
  {
   "cell_type": "code",
   "execution_count": 343,
   "metadata": {},
   "outputs": [
    {
     "data": {
      "text/plain": [
       "291.00000000000006"
      ]
     },
     "execution_count": 343,
     "metadata": {},
     "output_type": "execute_result"
    }
   ],
   "source": [
    "0.044700460829493095 * len(test_preds)"
   ]
  },
  {
   "cell_type": "code",
   "execution_count": 344,
   "metadata": {},
   "outputs": [
    {
     "data": {
      "text/plain": [
       "2.0    0.309985\n",
       "1.0    0.254224\n",
       "3.0    0.220737\n",
       "4.0    0.213518\n",
       "5.0    0.001536\n",
       "dtype: float64"
      ]
     },
     "execution_count": 344,
     "metadata": {},
     "output_type": "execute_result"
    }
   ],
   "source": [
    "pd.Series(np.clip(preds_rm, 1, 5)).value_counts(normalize=True)"
   ]
  },
  {
   "cell_type": "code",
   "execution_count": 345,
   "metadata": {},
   "outputs": [
    {
     "data": {
      "text/plain": [
       "2.0    0.333180\n",
       "1.0    0.245161\n",
       "4.0    0.218740\n",
       "3.0    0.201843\n",
       "5.0    0.001075\n",
       "dtype: float64"
      ]
     },
     "execution_count": 345,
     "metadata": {},
     "output_type": "execute_result"
    }
   ],
   "source": [
    "pd.Series(np.clip(preds_rmr, 1, 5)).value_counts(normalize=True)"
   ]
  },
  {
   "cell_type": "code",
   "execution_count": 346,
   "metadata": {},
   "outputs": [
    {
     "data": {
      "text/plain": [
       "2.0    0.363306\n",
       "1.0    0.350762\n",
       "4.0    0.200879\n",
       "3.0    0.084877\n",
       "5.0    0.000176\n",
       "dtype: float64"
      ]
     },
     "execution_count": 346,
     "metadata": {},
     "output_type": "execute_result"
    }
   ],
   "source": [
    "train_preds = np.round(train_preds)\n",
    "pd.Series(np.clip(train_preds, 1, 5)).value_counts(normalize=True)"
   ]
  },
  {
   "cell_type": "code",
   "execution_count": 347,
   "metadata": {},
   "outputs": [
    {
     "data": {
      "text/plain": [
       "1.0    0.439449\n",
       "4.0    0.207913\n",
       "2.0    0.189859\n",
       "3.0    0.159379\n",
       "5.0    0.003400\n",
       "Name: severity, dtype: float64"
      ]
     },
     "execution_count": 347,
     "metadata": {},
     "output_type": "execute_result"
    }
   ],
   "source": [
    "train_data.severity.value_counts(normalize=True)"
   ]
  },
  {
   "cell_type": "code",
   "execution_count": 348,
   "metadata": {},
   "outputs": [],
   "source": [
    "# make submissions\n",
    "\n",
    "sub_format.severity = preds_rmr.astype('int')\n",
    "sub_format.to_csv('../submissions/to submit/xgb_1k_cv_preds_rmr.csv', index=False)\n",
    "\n",
    "sub_format.severity = preds_rm.astype('int')\n",
    "sub_format.to_csv('../submissions/to submit/xgb_1k_cv_preds_rm.csv', index=False)"
   ]
  },
  {
   "cell_type": "code",
   "execution_count": 349,
   "metadata": {},
   "outputs": [
    {
     "data": {
      "text/plain": [
       "0.2114248349402054"
      ]
     },
     "execution_count": 349,
     "metadata": {},
     "output_type": "execute_result"
    }
   ],
   "source": [
    "rmse(preds_rmr, preds_rm)"
   ]
  },
  {
   "attachments": {},
   "cell_type": "markdown",
   "metadata": {},
   "source": [
    "# Soo...\n",
    "- skf is the way?\n",
    "- Add more fts for nxt iter.\n",
    "- xgb on latlngreg is @ 0.69 skf but got @ 0.8911 on lb \n",
    "- idk what's happening \n",
    "- Where could be the bug?"
   ]
  },
  {
   "cell_type": "code",
   "execution_count": null,
   "metadata": {},
   "outputs": [],
   "source": []
  }
 ],
 "metadata": {
  "kernelspec": {
   "display_name": "Python 3",
   "language": "python",
   "name": "python3"
  },
  "language_info": {
   "codemirror_mode": {
    "name": "ipython",
    "version": 3
   },
   "file_extension": ".py",
   "mimetype": "text/x-python",
   "name": "python",
   "nbconvert_exporter": "python",
   "pygments_lexer": "ipython3",
   "version": "3.10.5"
  },
  "orig_nbformat": 4,
  "vscode": {
   "interpreter": {
    "hash": "186db977f413ae6598820b658aed1651932768522d0652c07d949b3f5fb38b63"
   }
  }
 },
 "nbformat": 4,
 "nbformat_minor": 2
}
