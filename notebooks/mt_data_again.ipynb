{
 "cells": [
  {
   "attachments": {},
   "cell_type": "markdown",
   "metadata": {},
   "source": [
    "``Start modelling on metadata again. No imgs only metadata.``\n",
    "\n",
    "```find correlation with lb and reach 0.75s```\n"
   ]
  },
  {
   "attachments": {},
   "cell_type": "markdown",
   "metadata": {},
   "source": [
    "# Load data and dependencies"
   ]
  },
  {
   "cell_type": "code",
   "execution_count": 6,
   "metadata": {},
   "outputs": [],
   "source": [
    "import warnings\n",
    "import sys\n",
    "import os\n",
    "import time\n",
    "import joblib\n",
    "import random\n",
    "from tqdm import tqdm\n",
    "from pprint import pprint\n",
    "\n",
    "import pandas as pd\n",
    "import numpy as np\n",
    "import matplotlib.pyplot as plt\n",
    "import seaborn as sns\n",
    "from geopy.distance import geodesic\n",
    "from joblib import Parallel, delayed\n",
    "\n",
    "from sklearn.metrics import mean_squared_error as mse\n",
    "from sklearn.model_selection import train_test_split, StratifiedKFold, TimeSeriesSplit\n",
    "from sklearn.pipeline import make_pipeline\n",
    "from sklearn.preprocessing import OrdinalEncoder\n",
    "from sklearn.metrics import classification_report, confusion_matrix\n",
    "\n",
    "from xgboost import XGBClassifier, XGBRegressor\n",
    "from lightgbm import LGBMClassifier, LGBMRegressor\n",
    "from catboost import CatBoostClassifier, CatBoostRegressor\n",
    "from sklearn.ensemble import RandomForestClassifier, RandomForestRegressor\n",
    "\n",
    "warnings.filterwarnings('ignore')"
   ]
  },
  {
   "cell_type": "code",
   "execution_count": 7,
   "metadata": {},
   "outputs": [],
   "source": [
    "metadata = pd.read_csv('../data/metadata.csv')\n",
    "sub_format = pd.read_csv('../data/submission_format.csv')\n",
    "train_labels = pd.read_csv('../data/train_labels.csv')"
   ]
  },
  {
   "attachments": {},
   "cell_type": "markdown",
   "metadata": {},
   "source": [
    "# Utils"
   ]
  },
  {
   "cell_type": "code",
   "execution_count": 8,
   "metadata": {},
   "outputs": [],
   "source": [
    "def rmse(y_true, y_pred):\n",
    "    return mse(y_true, y_pred, squared=False)"
   ]
  },
  {
   "cell_type": "code",
   "execution_count": 9,
   "metadata": {},
   "outputs": [],
   "source": [
    "def dens_to_sev(x: float)-> int:\n",
    "    \"\"\"takes in density value in cells/ml and returns severity category\"\"\"\n",
    "    if (x < 20_000) : return 1\n",
    "    elif (x >= 20_000) and (x < 100_000) : return 2\n",
    "    elif (x >= 100_000) and (x < 1_000_000) : return 3\n",
    "    elif (x >= 1_000_000) and (x < 10_000_000) : return 4\n",
    "    elif x > 10_000_000 : return 5"
   ]
  },
  {
   "cell_type": "code",
   "execution_count": 161,
   "metadata": {},
   "outputs": [],
   "source": [
    "def region_wise_peformance(y_data=val_data, preds=None):\n",
    "    \"\"\"\n",
    "    returns classifcation report for each region\n",
    "    y_data : pd.DataFrame\n",
    "    preds : np.array\n",
    "    \n",
    "    \"\"\"\n",
    "    y_data = y_data.copy()\n",
    "    y_data['preds'] = preds\n",
    "    for region in sorted(y_data.region.unique()):\n",
    "        print(region)\n",
    "        print(classification_report(y_data[y_data.region == region].severity, y_data[y_data.region == region].preds))\n",
    "        print()\n",
    "    "
   ]
  },
  {
   "cell_type": "code",
   "execution_count": 52,
   "metadata": {},
   "outputs": [],
   "source": [
    "#  Utils\n",
    "def get_data_by_date( date=None, data=None):\n",
    "    return data[data.date == date]\n",
    "\n",
    "\n",
    "def get_distance(lat1, lon1, lat2, lon2):\n",
    "    return geodesic((lat1, lon1), (lat2, lon2)).km\n",
    "\n",
    "def analyize_matches(y_true, y_pred, plot=False):\n",
    "    print(\"Exact matches: \", sum(y_true == y_pred) / len(y_true))\n",
    "    print(\"Missed by 1: \", sum(abs(y_true - y_pred) == 1) / len(y_true))\n",
    "    print(\"Missed by 2: \", sum(abs(y_true - y_pred) == 2) / len(y_true))\n",
    "    print(\"Missed by 3: \", sum(abs(y_true - y_pred) == 3) / len(y_true))\n",
    "    print(\"Missed by 4: \", sum(abs(y_true - y_pred) == 4) / len(y_true))\n",
    "    \n",
    "    stupid_vals = []\n",
    "    for i in range(1, 6):\n",
    "        stupid_vals.append(\n",
    "            ((sum([1 for x, y in zip(y_true, y_pred) if x == i and y == i])/len(y_true))*100, (sum(y_true == i)/len(y_true))*100)\n",
    "            )\n",
    "\n",
    "    print()\n",
    "    for i in range(5):\n",
    "        print(f\"Severity {i+1} : accuracy: {np.round(stupid_vals[i][0], 3)} % - prevalence: {np.round(stupid_vals[i][1], 3)} %\")\n",
    "\n",
    "    print()\n",
    "    print(\"Classification report:\")\n",
    "    print(classification_report(y_true, y_pred))\n",
    "    \n",
    "    if plot:\n",
    "        print()\n",
    "        sns.heatmap(confusion_matrix(y_true, y_pred), annot=True, fmt='d', cmap='Reds')"
   ]
  },
  {
   "cell_type": "code",
   "execution_count": null,
   "metadata": {},
   "outputs": [],
   "source": []
  },
  {
   "attachments": {},
   "cell_type": "markdown",
   "metadata": {},
   "source": [
    "# Add date fts"
   ]
  },
  {
   "cell_type": "code",
   "execution_count": 11,
   "metadata": {},
   "outputs": [
    {
     "data": {
      "text/html": [
       "<div>\n",
       "<style scoped>\n",
       "    .dataframe tbody tr th:only-of-type {\n",
       "        vertical-align: middle;\n",
       "    }\n",
       "\n",
       "    .dataframe tbody tr th {\n",
       "        vertical-align: top;\n",
       "    }\n",
       "\n",
       "    .dataframe thead th {\n",
       "        text-align: right;\n",
       "    }\n",
       "</style>\n",
       "<table border=\"1\" class=\"dataframe\">\n",
       "  <thead>\n",
       "    <tr style=\"text-align: right;\">\n",
       "      <th></th>\n",
       "      <th>uid</th>\n",
       "      <th>latitude</th>\n",
       "      <th>longitude</th>\n",
       "      <th>date</th>\n",
       "      <th>split</th>\n",
       "      <th>year</th>\n",
       "      <th>month</th>\n",
       "      <th>week</th>\n",
       "      <th>season</th>\n",
       "      <th>region</th>\n",
       "      <th>severity</th>\n",
       "      <th>density</th>\n",
       "    </tr>\n",
       "  </thead>\n",
       "  <tbody>\n",
       "    <tr>\n",
       "      <th>0</th>\n",
       "      <td>aabm</td>\n",
       "      <td>39.080319</td>\n",
       "      <td>-86.430867</td>\n",
       "      <td>2018-05-14</td>\n",
       "      <td>train</td>\n",
       "      <td>2018</td>\n",
       "      <td>5</td>\n",
       "      <td>20</td>\n",
       "      <td>2</td>\n",
       "      <td>midwest</td>\n",
       "      <td>1.0</td>\n",
       "      <td>585.0</td>\n",
       "    </tr>\n",
       "    <tr>\n",
       "      <th>1</th>\n",
       "      <td>aabn</td>\n",
       "      <td>36.559700</td>\n",
       "      <td>-121.510000</td>\n",
       "      <td>2016-08-31</td>\n",
       "      <td>test</td>\n",
       "      <td>2016</td>\n",
       "      <td>8</td>\n",
       "      <td>35</td>\n",
       "      <td>3</td>\n",
       "      <td>west</td>\n",
       "      <td>NaN</td>\n",
       "      <td>NaN</td>\n",
       "    </tr>\n",
       "    <tr>\n",
       "      <th>2</th>\n",
       "      <td>aacd</td>\n",
       "      <td>35.875083</td>\n",
       "      <td>-78.878434</td>\n",
       "      <td>2020-11-19</td>\n",
       "      <td>train</td>\n",
       "      <td>2020</td>\n",
       "      <td>11</td>\n",
       "      <td>47</td>\n",
       "      <td>4</td>\n",
       "      <td>south</td>\n",
       "      <td>1.0</td>\n",
       "      <td>290.0</td>\n",
       "    </tr>\n",
       "    <tr>\n",
       "      <th>3</th>\n",
       "      <td>aaee</td>\n",
       "      <td>35.487000</td>\n",
       "      <td>-79.062133</td>\n",
       "      <td>2016-08-24</td>\n",
       "      <td>train</td>\n",
       "      <td>2016</td>\n",
       "      <td>8</td>\n",
       "      <td>34</td>\n",
       "      <td>3</td>\n",
       "      <td>south</td>\n",
       "      <td>1.0</td>\n",
       "      <td>1614.0</td>\n",
       "    </tr>\n",
       "    <tr>\n",
       "      <th>4</th>\n",
       "      <td>aaff</td>\n",
       "      <td>38.049471</td>\n",
       "      <td>-99.827001</td>\n",
       "      <td>2019-07-23</td>\n",
       "      <td>train</td>\n",
       "      <td>2019</td>\n",
       "      <td>7</td>\n",
       "      <td>30</td>\n",
       "      <td>3</td>\n",
       "      <td>midwest</td>\n",
       "      <td>3.0</td>\n",
       "      <td>111825.0</td>\n",
       "    </tr>\n",
       "    <tr>\n",
       "      <th>...</th>\n",
       "      <td>...</td>\n",
       "      <td>...</td>\n",
       "      <td>...</td>\n",
       "      <td>...</td>\n",
       "      <td>...</td>\n",
       "      <td>...</td>\n",
       "      <td>...</td>\n",
       "      <td>...</td>\n",
       "      <td>...</td>\n",
       "      <td>...</td>\n",
       "      <td>...</td>\n",
       "      <td>...</td>\n",
       "    </tr>\n",
       "    <tr>\n",
       "      <th>23565</th>\n",
       "      <td>zzvv</td>\n",
       "      <td>36.708500</td>\n",
       "      <td>-121.749000</td>\n",
       "      <td>2014-12-02</td>\n",
       "      <td>test</td>\n",
       "      <td>2014</td>\n",
       "      <td>12</td>\n",
       "      <td>49</td>\n",
       "      <td>1</td>\n",
       "      <td>west</td>\n",
       "      <td>NaN</td>\n",
       "      <td>NaN</td>\n",
       "    </tr>\n",
       "    <tr>\n",
       "      <th>23566</th>\n",
       "      <td>zzwo</td>\n",
       "      <td>39.792190</td>\n",
       "      <td>-99.971050</td>\n",
       "      <td>2017-06-19</td>\n",
       "      <td>train</td>\n",
       "      <td>2017</td>\n",
       "      <td>6</td>\n",
       "      <td>25</td>\n",
       "      <td>3</td>\n",
       "      <td>midwest</td>\n",
       "      <td>2.0</td>\n",
       "      <td>48510.0</td>\n",
       "    </tr>\n",
       "    <tr>\n",
       "      <th>23567</th>\n",
       "      <td>zzwq</td>\n",
       "      <td>35.794000</td>\n",
       "      <td>-79.012551</td>\n",
       "      <td>2015-03-24</td>\n",
       "      <td>train</td>\n",
       "      <td>2015</td>\n",
       "      <td>3</td>\n",
       "      <td>13</td>\n",
       "      <td>2</td>\n",
       "      <td>south</td>\n",
       "      <td>1.0</td>\n",
       "      <td>1271.0</td>\n",
       "    </tr>\n",
       "    <tr>\n",
       "      <th>23568</th>\n",
       "      <td>zzyb</td>\n",
       "      <td>35.742000</td>\n",
       "      <td>-79.238600</td>\n",
       "      <td>2016-11-21</td>\n",
       "      <td>train</td>\n",
       "      <td>2016</td>\n",
       "      <td>11</td>\n",
       "      <td>47</td>\n",
       "      <td>4</td>\n",
       "      <td>south</td>\n",
       "      <td>1.0</td>\n",
       "      <td>9682.0</td>\n",
       "    </tr>\n",
       "    <tr>\n",
       "      <th>23569</th>\n",
       "      <td>zzzi</td>\n",
       "      <td>39.767323</td>\n",
       "      <td>-96.028617</td>\n",
       "      <td>2015-08-31</td>\n",
       "      <td>test</td>\n",
       "      <td>2015</td>\n",
       "      <td>8</td>\n",
       "      <td>36</td>\n",
       "      <td>3</td>\n",
       "      <td>midwest</td>\n",
       "      <td>NaN</td>\n",
       "      <td>NaN</td>\n",
       "    </tr>\n",
       "  </tbody>\n",
       "</table>\n",
       "<p>23570 rows × 12 columns</p>\n",
       "</div>"
      ],
      "text/plain": [
       "        uid   latitude   longitude       date  split  year  month  week  \\\n",
       "0      aabm  39.080319  -86.430867 2018-05-14  train  2018      5    20   \n",
       "1      aabn  36.559700 -121.510000 2016-08-31   test  2016      8    35   \n",
       "2      aacd  35.875083  -78.878434 2020-11-19  train  2020     11    47   \n",
       "3      aaee  35.487000  -79.062133 2016-08-24  train  2016      8    34   \n",
       "4      aaff  38.049471  -99.827001 2019-07-23  train  2019      7    30   \n",
       "...     ...        ...         ...        ...    ...   ...    ...   ...   \n",
       "23565  zzvv  36.708500 -121.749000 2014-12-02   test  2014     12    49   \n",
       "23566  zzwo  39.792190  -99.971050 2017-06-19  train  2017      6    25   \n",
       "23567  zzwq  35.794000  -79.012551 2015-03-24  train  2015      3    13   \n",
       "23568  zzyb  35.742000  -79.238600 2016-11-21  train  2016     11    47   \n",
       "23569  zzzi  39.767323  -96.028617 2015-08-31   test  2015      8    36   \n",
       "\n",
       "       season   region  severity   density  \n",
       "0           2  midwest       1.0     585.0  \n",
       "1           3     west       NaN       NaN  \n",
       "2           4    south       1.0     290.0  \n",
       "3           3    south       1.0    1614.0  \n",
       "4           3  midwest       3.0  111825.0  \n",
       "...       ...      ...       ...       ...  \n",
       "23565       1     west       NaN       NaN  \n",
       "23566       3  midwest       2.0   48510.0  \n",
       "23567       2    south       1.0    1271.0  \n",
       "23568       4    south       1.0    9682.0  \n",
       "23569       3  midwest       NaN       NaN  \n",
       "\n",
       "[23570 rows x 12 columns]"
      ]
     },
     "execution_count": 11,
     "metadata": {},
     "output_type": "execute_result"
    }
   ],
   "source": [
    "metadata.date = pd.to_datetime(metadata.date)\n",
    "metadata['year'] = metadata.date.dt.year\n",
    "metadata['month'] = metadata.date.dt.month\n",
    "metadata['week'] = metadata.date.dt.isocalendar().week\n",
    "\n",
    "seasons = {\n",
    "    1: 1,\n",
    "    2: 1,\n",
    "    3: 2,\n",
    "    4: 2,\n",
    "    5: 2,\n",
    "    6: 3,\n",
    "    7: 3,\n",
    "    8: 3,\n",
    "    9: 4,\n",
    "    10: 4,\n",
    "    11: 4,\n",
    "    12: 1\n",
    "}\n",
    "\n",
    "reg_sev_map = {\n",
    "    'midwest': 2,\n",
    "    'northeast': 2,\n",
    "    'south' : 2,\n",
    "    'west' : 4\n",
    "}\n",
    "\n",
    "reg_map = {\n",
    "    'south' : 0,\n",
    "    'northeast' : 1,\n",
    "    'west' : 2,\n",
    "    'midwest' : 3\n",
    "}\n",
    "\n",
    "metadata['season'] = metadata.month.map(seasons)\n",
    "\n",
    "region = pd.concat((train_labels, sub_format[['region', 'uid']]), axis=0)\n",
    "\n",
    "data = pd.merge(metadata, region, on='uid', how='left')\n",
    "data"
   ]
  },
  {
   "attachments": {},
   "cell_type": "markdown",
   "metadata": {},
   "source": [
    "# Split"
   ]
  },
  {
   "cell_type": "code",
   "execution_count": 12,
   "metadata": {},
   "outputs": [
    {
     "data": {
      "text/plain": [
       "((6510, 12), (23570, 12))"
      ]
     },
     "execution_count": 12,
     "metadata": {},
     "output_type": "execute_result"
    }
   ],
   "source": [
    "test_data = data[data.split == 'test']\n",
    "test_data.shape, data.shape"
   ]
  },
  {
   "cell_type": "code",
   "execution_count": 13,
   "metadata": {},
   "outputs": [
    {
     "data": {
      "text/plain": [
       "((17060, 12), (23570, 12))"
      ]
     },
     "execution_count": 13,
     "metadata": {},
     "output_type": "execute_result"
    }
   ],
   "source": [
    "train_data = data[data.split == 'train']\n",
    "train_data.shape, data.shape"
   ]
  },
  {
   "cell_type": "code",
   "execution_count": 14,
   "metadata": {},
   "outputs": [
    {
     "data": {
      "text/plain": [
       "((14501, 12), (2559, 12))"
      ]
     },
     "execution_count": 14,
     "metadata": {},
     "output_type": "execute_result"
    }
   ],
   "source": [
    "tr_data, val_data = train_test_split(train_data, test_size=0.15, random_state=123456789, shuffle=True)\n",
    "tr_data.shape, val_data.shape"
   ]
  },
  {
   "cell_type": "code",
   "execution_count": 15,
   "metadata": {},
   "outputs": [
    {
     "name": "stdout",
     "output_type": "stream",
     "text": [
      "set()\n",
      " % of intersection between date and regions in val and train sets before correction: 0.9328793774319066\n",
      " % of intersection between date and regions in val and train sets after correction: 0.36867704280155644\n",
      " % of intersection between dates in val and train sets: 0.656211                                                                    \n",
      " % of intersection between date in test and train sets: 0.701095                                                                   \n"
     ]
    },
    {
     "data": {
      "text/plain": [
       "((5617, 13), (2559, 13), (17060, 12), (2559, 13))"
      ]
     },
     "execution_count": 15,
     "metadata": {},
     "output_type": "execute_result"
    }
   ],
   "source": [
    "# split data similar to test data\n",
    "val_data['date_reg'] = val_data.date.astype(str) + \"_\" +  val_data.region\n",
    "tr_data['date_reg'] = tr_data.date.astype(str) + \"_\" +  tr_data.region\n",
    "\n",
    "assert (val_data.columns == tr_data.columns).all()\n",
    "\n",
    "print(set(val_data.uid).intersection(set(tr_data.uid)))\n",
    "\n",
    "# percentage of intersection date and regs before\n",
    "print(f\" % of intersection between date and regions in val and train sets before correction: {len(set(val_data.date_reg).intersection(set(tr_data.date_reg)))/val_data.date_reg.nunique()}\")\n",
    "\n",
    "datereg_to_remove = val_data.date_reg.sample(frac=0.40, random_state=123456789)\n",
    "tr_data2_te_dist = tr_data[~tr_data.date_reg.isin(datereg_to_remove)]\n",
    "val_data2_te_dist = val_data\n",
    "\n",
    "print(f\" % of intersection between date and regions in val and train sets after correction: {len(set(val_data2_te_dist.date_reg).intersection(set(tr_data2_te_dist.date_reg)))/val_data2_te_dist.date_reg.nunique()}\")\n",
    "\n",
    "\n",
    "print(f\" % of intersection between dates in val and train sets: {len(set(val_data2_te_dist.date).intersection(set(tr_data2_te_dist.date)))/val_data2_te_dist.date.nunique() :<75f} \")\n",
    "print(f\" % of intersection between date in test and train sets: {len(set(test_data.date).intersection(set(train_data.date)))/test_data.date.nunique():<75f}\" )\n",
    "\n",
    "tr_data2_te_dist.shape, val_data2_te_dist.shape, train_data.shape, val_data.shape"
   ]
  },
  {
   "cell_type": "code",
   "execution_count": 16,
   "metadata": {},
   "outputs": [
    {
     "name": "stdout",
     "output_type": "stream",
     "text": [
      "matching dateregs btw val and tr: 0.4\n",
      "matching dates btw val and tr: 0.7589285714285714\n"
     ]
    },
    {
     "data": {
      "text/plain": [
       "((14501, 13), (131, 13))"
      ]
     },
     "execution_count": 16,
     "metadata": {},
     "output_type": "execute_result"
    }
   ],
   "source": [
    "tr_data3 = tr_data.copy()\n",
    "val_data3 = val_data.copy()\n",
    "\n",
    "datereg_to_remove = tr_data3.date_reg.sample(frac=0.60, random_state=123456789)\n",
    "val_data3_te_dist = val_data3[~val_data3.date_reg.isin(datereg_to_remove)]\n",
    "tr_data3_te_dist = tr_data3\n",
    "\n",
    "print(\"matching dateregs btw val and tr:\", len(set(val_data3_te_dist.date_reg).intersection(set(tr_data3_te_dist.date_reg)))/val_data3_te_dist.date_reg.nunique())\n",
    "print(\"matching dates btw val and tr:\",len(set(val_data3_te_dist.date).intersection(set(tr_data3_te_dist.date)))/val_data3_te_dist.date.nunique())\n",
    "\n",
    "tr_data3_te_dist.shape, val_data3_te_dist.shape"
   ]
  },
  {
   "cell_type": "code",
   "execution_count": 17,
   "metadata": {},
   "outputs": [
    {
     "data": {
      "text/plain": [
       "((11968, 12), (5092, 12))"
      ]
     },
     "execution_count": 17,
     "metadata": {},
     "output_type": "execute_result"
    }
   ],
   "source": [
    "#  split by time\n",
    "train_data = train_data.sort_values(by='date')\n",
    "train_data_ts = train_data[train_data.date < '2019-01-01']\n",
    "val_data_ts = train_data[train_data.date >= '2019-01-01']\n",
    "\n",
    "train_data_ts.shape, val_data_ts.shape"
   ]
  },
  {
   "cell_type": "code",
   "execution_count": 18,
   "metadata": {},
   "outputs": [],
   "source": [
    "tr_data.sort_values(by='date', inplace=True)\n",
    "val_data.sort_values(by='date', inplace=True)"
   ]
  },
  {
   "cell_type": "code",
   "execution_count": 19,
   "metadata": {},
   "outputs": [
    {
     "data": {
      "text/html": [
       "<div>\n",
       "<style scoped>\n",
       "    .dataframe tbody tr th:only-of-type {\n",
       "        vertical-align: middle;\n",
       "    }\n",
       "\n",
       "    .dataframe tbody tr th {\n",
       "        vertical-align: top;\n",
       "    }\n",
       "\n",
       "    .dataframe thead th {\n",
       "        text-align: right;\n",
       "    }\n",
       "</style>\n",
       "<table border=\"1\" class=\"dataframe\">\n",
       "  <thead>\n",
       "    <tr style=\"text-align: right;\">\n",
       "      <th></th>\n",
       "      <th>uid</th>\n",
       "      <th>latitude</th>\n",
       "      <th>longitude</th>\n",
       "      <th>date</th>\n",
       "      <th>split</th>\n",
       "      <th>year</th>\n",
       "      <th>month</th>\n",
       "      <th>week</th>\n",
       "      <th>season</th>\n",
       "      <th>region</th>\n",
       "      <th>severity</th>\n",
       "      <th>density</th>\n",
       "    </tr>\n",
       "  </thead>\n",
       "  <tbody>\n",
       "    <tr>\n",
       "      <th>1</th>\n",
       "      <td>aabn</td>\n",
       "      <td>36.559700</td>\n",
       "      <td>-121.510000</td>\n",
       "      <td>2016-08-31</td>\n",
       "      <td>test</td>\n",
       "      <td>2016</td>\n",
       "      <td>8</td>\n",
       "      <td>35</td>\n",
       "      <td>3</td>\n",
       "      <td>west</td>\n",
       "      <td>NaN</td>\n",
       "      <td>NaN</td>\n",
       "    </tr>\n",
       "    <tr>\n",
       "      <th>12</th>\n",
       "      <td>aair</td>\n",
       "      <td>33.042600</td>\n",
       "      <td>-117.076000</td>\n",
       "      <td>2014-11-01</td>\n",
       "      <td>test</td>\n",
       "      <td>2014</td>\n",
       "      <td>11</td>\n",
       "      <td>44</td>\n",
       "      <td>4</td>\n",
       "      <td>west</td>\n",
       "      <td>NaN</td>\n",
       "      <td>NaN</td>\n",
       "    </tr>\n",
       "    <tr>\n",
       "      <th>14</th>\n",
       "      <td>aajw</td>\n",
       "      <td>40.703968</td>\n",
       "      <td>-80.293050</td>\n",
       "      <td>2015-08-26</td>\n",
       "      <td>test</td>\n",
       "      <td>2015</td>\n",
       "      <td>8</td>\n",
       "      <td>35</td>\n",
       "      <td>3</td>\n",
       "      <td>northeast</td>\n",
       "      <td>NaN</td>\n",
       "      <td>NaN</td>\n",
       "    </tr>\n",
       "    <tr>\n",
       "      <th>15</th>\n",
       "      <td>aalr</td>\n",
       "      <td>38.972500</td>\n",
       "      <td>-94.672930</td>\n",
       "      <td>2019-08-26</td>\n",
       "      <td>test</td>\n",
       "      <td>2019</td>\n",
       "      <td>8</td>\n",
       "      <td>35</td>\n",
       "      <td>3</td>\n",
       "      <td>midwest</td>\n",
       "      <td>NaN</td>\n",
       "      <td>NaN</td>\n",
       "    </tr>\n",
       "    <tr>\n",
       "      <th>16</th>\n",
       "      <td>aalw</td>\n",
       "      <td>34.279000</td>\n",
       "      <td>-118.905000</td>\n",
       "      <td>2018-01-08</td>\n",
       "      <td>test</td>\n",
       "      <td>2018</td>\n",
       "      <td>1</td>\n",
       "      <td>2</td>\n",
       "      <td>1</td>\n",
       "      <td>west</td>\n",
       "      <td>NaN</td>\n",
       "      <td>NaN</td>\n",
       "    </tr>\n",
       "    <tr>\n",
       "      <th>...</th>\n",
       "      <td>...</td>\n",
       "      <td>...</td>\n",
       "      <td>...</td>\n",
       "      <td>...</td>\n",
       "      <td>...</td>\n",
       "      <td>...</td>\n",
       "      <td>...</td>\n",
       "      <td>...</td>\n",
       "      <td>...</td>\n",
       "      <td>...</td>\n",
       "      <td>...</td>\n",
       "      <td>...</td>\n",
       "    </tr>\n",
       "    <tr>\n",
       "      <th>23556</th>\n",
       "      <td>zzpn</td>\n",
       "      <td>40.136410</td>\n",
       "      <td>-80.473740</td>\n",
       "      <td>2019-07-08</td>\n",
       "      <td>test</td>\n",
       "      <td>2019</td>\n",
       "      <td>7</td>\n",
       "      <td>28</td>\n",
       "      <td>3</td>\n",
       "      <td>northeast</td>\n",
       "      <td>NaN</td>\n",
       "      <td>NaN</td>\n",
       "    </tr>\n",
       "    <tr>\n",
       "      <th>23560</th>\n",
       "      <td>zzrv</td>\n",
       "      <td>36.875400</td>\n",
       "      <td>-121.561000</td>\n",
       "      <td>2019-09-17</td>\n",
       "      <td>test</td>\n",
       "      <td>2019</td>\n",
       "      <td>9</td>\n",
       "      <td>38</td>\n",
       "      <td>4</td>\n",
       "      <td>west</td>\n",
       "      <td>NaN</td>\n",
       "      <td>NaN</td>\n",
       "    </tr>\n",
       "    <tr>\n",
       "      <th>23563</th>\n",
       "      <td>zzsx</td>\n",
       "      <td>34.210000</td>\n",
       "      <td>-78.929389</td>\n",
       "      <td>2019-07-16</td>\n",
       "      <td>test</td>\n",
       "      <td>2019</td>\n",
       "      <td>7</td>\n",
       "      <td>29</td>\n",
       "      <td>3</td>\n",
       "      <td>south</td>\n",
       "      <td>NaN</td>\n",
       "      <td>NaN</td>\n",
       "    </tr>\n",
       "    <tr>\n",
       "      <th>23565</th>\n",
       "      <td>zzvv</td>\n",
       "      <td>36.708500</td>\n",
       "      <td>-121.749000</td>\n",
       "      <td>2014-12-02</td>\n",
       "      <td>test</td>\n",
       "      <td>2014</td>\n",
       "      <td>12</td>\n",
       "      <td>49</td>\n",
       "      <td>1</td>\n",
       "      <td>west</td>\n",
       "      <td>NaN</td>\n",
       "      <td>NaN</td>\n",
       "    </tr>\n",
       "    <tr>\n",
       "      <th>23569</th>\n",
       "      <td>zzzi</td>\n",
       "      <td>39.767323</td>\n",
       "      <td>-96.028617</td>\n",
       "      <td>2015-08-31</td>\n",
       "      <td>test</td>\n",
       "      <td>2015</td>\n",
       "      <td>8</td>\n",
       "      <td>36</td>\n",
       "      <td>3</td>\n",
       "      <td>midwest</td>\n",
       "      <td>NaN</td>\n",
       "      <td>NaN</td>\n",
       "    </tr>\n",
       "  </tbody>\n",
       "</table>\n",
       "<p>6510 rows × 12 columns</p>\n",
       "</div>"
      ],
      "text/plain": [
       "        uid   latitude   longitude       date split  year  month  week  \\\n",
       "1      aabn  36.559700 -121.510000 2016-08-31  test  2016      8    35   \n",
       "12     aair  33.042600 -117.076000 2014-11-01  test  2014     11    44   \n",
       "14     aajw  40.703968  -80.293050 2015-08-26  test  2015      8    35   \n",
       "15     aalr  38.972500  -94.672930 2019-08-26  test  2019      8    35   \n",
       "16     aalw  34.279000 -118.905000 2018-01-08  test  2018      1     2   \n",
       "...     ...        ...         ...        ...   ...   ...    ...   ...   \n",
       "23556  zzpn  40.136410  -80.473740 2019-07-08  test  2019      7    28   \n",
       "23560  zzrv  36.875400 -121.561000 2019-09-17  test  2019      9    38   \n",
       "23563  zzsx  34.210000  -78.929389 2019-07-16  test  2019      7    29   \n",
       "23565  zzvv  36.708500 -121.749000 2014-12-02  test  2014     12    49   \n",
       "23569  zzzi  39.767323  -96.028617 2015-08-31  test  2015      8    36   \n",
       "\n",
       "       season     region  severity  density  \n",
       "1           3       west       NaN      NaN  \n",
       "12          4       west       NaN      NaN  \n",
       "14          3  northeast       NaN      NaN  \n",
       "15          3    midwest       NaN      NaN  \n",
       "16          1       west       NaN      NaN  \n",
       "...       ...        ...       ...      ...  \n",
       "23556       3  northeast       NaN      NaN  \n",
       "23560       4       west       NaN      NaN  \n",
       "23563       3      south       NaN      NaN  \n",
       "23565       1       west       NaN      NaN  \n",
       "23569       3    midwest       NaN      NaN  \n",
       "\n",
       "[6510 rows x 12 columns]"
      ]
     },
     "execution_count": 19,
     "metadata": {},
     "output_type": "execute_result"
    }
   ],
   "source": [
    "test_data"
   ]
  },
  {
   "cell_type": "code",
   "execution_count": 20,
   "metadata": {},
   "outputs": [
    {
     "data": {
      "text/html": [
       "<div>\n",
       "<style scoped>\n",
       "    .dataframe tbody tr th:only-of-type {\n",
       "        vertical-align: middle;\n",
       "    }\n",
       "\n",
       "    .dataframe tbody tr th {\n",
       "        vertical-align: top;\n",
       "    }\n",
       "\n",
       "    .dataframe thead th {\n",
       "        text-align: right;\n",
       "    }\n",
       "</style>\n",
       "<table border=\"1\" class=\"dataframe\">\n",
       "  <thead>\n",
       "    <tr style=\"text-align: right;\">\n",
       "      <th></th>\n",
       "      <th>uid</th>\n",
       "      <th>latitude</th>\n",
       "      <th>longitude</th>\n",
       "      <th>date</th>\n",
       "      <th>split</th>\n",
       "      <th>year</th>\n",
       "      <th>month</th>\n",
       "      <th>week</th>\n",
       "      <th>season</th>\n",
       "      <th>region</th>\n",
       "      <th>severity</th>\n",
       "      <th>density</th>\n",
       "    </tr>\n",
       "  </thead>\n",
       "  <tbody>\n",
       "    <tr>\n",
       "      <th>1</th>\n",
       "      <td>aabn</td>\n",
       "      <td>36.559700</td>\n",
       "      <td>-121.510000</td>\n",
       "      <td>2016-08-31</td>\n",
       "      <td>test</td>\n",
       "      <td>2016</td>\n",
       "      <td>8</td>\n",
       "      <td>35</td>\n",
       "      <td>3</td>\n",
       "      <td>west</td>\n",
       "      <td>NaN</td>\n",
       "      <td>NaN</td>\n",
       "    </tr>\n",
       "    <tr>\n",
       "      <th>12</th>\n",
       "      <td>aair</td>\n",
       "      <td>33.042600</td>\n",
       "      <td>-117.076000</td>\n",
       "      <td>2014-11-01</td>\n",
       "      <td>test</td>\n",
       "      <td>2014</td>\n",
       "      <td>11</td>\n",
       "      <td>44</td>\n",
       "      <td>4</td>\n",
       "      <td>west</td>\n",
       "      <td>NaN</td>\n",
       "      <td>NaN</td>\n",
       "    </tr>\n",
       "    <tr>\n",
       "      <th>14</th>\n",
       "      <td>aajw</td>\n",
       "      <td>40.703968</td>\n",
       "      <td>-80.293050</td>\n",
       "      <td>2015-08-26</td>\n",
       "      <td>test</td>\n",
       "      <td>2015</td>\n",
       "      <td>8</td>\n",
       "      <td>35</td>\n",
       "      <td>3</td>\n",
       "      <td>northeast</td>\n",
       "      <td>NaN</td>\n",
       "      <td>NaN</td>\n",
       "    </tr>\n",
       "    <tr>\n",
       "      <th>15</th>\n",
       "      <td>aalr</td>\n",
       "      <td>38.972500</td>\n",
       "      <td>-94.672930</td>\n",
       "      <td>2019-08-26</td>\n",
       "      <td>test</td>\n",
       "      <td>2019</td>\n",
       "      <td>8</td>\n",
       "      <td>35</td>\n",
       "      <td>3</td>\n",
       "      <td>midwest</td>\n",
       "      <td>NaN</td>\n",
       "      <td>NaN</td>\n",
       "    </tr>\n",
       "    <tr>\n",
       "      <th>16</th>\n",
       "      <td>aalw</td>\n",
       "      <td>34.279000</td>\n",
       "      <td>-118.905000</td>\n",
       "      <td>2018-01-08</td>\n",
       "      <td>test</td>\n",
       "      <td>2018</td>\n",
       "      <td>1</td>\n",
       "      <td>2</td>\n",
       "      <td>1</td>\n",
       "      <td>west</td>\n",
       "      <td>NaN</td>\n",
       "      <td>NaN</td>\n",
       "    </tr>\n",
       "    <tr>\n",
       "      <th>...</th>\n",
       "      <td>...</td>\n",
       "      <td>...</td>\n",
       "      <td>...</td>\n",
       "      <td>...</td>\n",
       "      <td>...</td>\n",
       "      <td>...</td>\n",
       "      <td>...</td>\n",
       "      <td>...</td>\n",
       "      <td>...</td>\n",
       "      <td>...</td>\n",
       "      <td>...</td>\n",
       "      <td>...</td>\n",
       "    </tr>\n",
       "    <tr>\n",
       "      <th>23556</th>\n",
       "      <td>zzpn</td>\n",
       "      <td>40.136410</td>\n",
       "      <td>-80.473740</td>\n",
       "      <td>2019-07-08</td>\n",
       "      <td>test</td>\n",
       "      <td>2019</td>\n",
       "      <td>7</td>\n",
       "      <td>28</td>\n",
       "      <td>3</td>\n",
       "      <td>northeast</td>\n",
       "      <td>NaN</td>\n",
       "      <td>NaN</td>\n",
       "    </tr>\n",
       "    <tr>\n",
       "      <th>23560</th>\n",
       "      <td>zzrv</td>\n",
       "      <td>36.875400</td>\n",
       "      <td>-121.561000</td>\n",
       "      <td>2019-09-17</td>\n",
       "      <td>test</td>\n",
       "      <td>2019</td>\n",
       "      <td>9</td>\n",
       "      <td>38</td>\n",
       "      <td>4</td>\n",
       "      <td>west</td>\n",
       "      <td>NaN</td>\n",
       "      <td>NaN</td>\n",
       "    </tr>\n",
       "    <tr>\n",
       "      <th>23563</th>\n",
       "      <td>zzsx</td>\n",
       "      <td>34.210000</td>\n",
       "      <td>-78.929389</td>\n",
       "      <td>2019-07-16</td>\n",
       "      <td>test</td>\n",
       "      <td>2019</td>\n",
       "      <td>7</td>\n",
       "      <td>29</td>\n",
       "      <td>3</td>\n",
       "      <td>south</td>\n",
       "      <td>NaN</td>\n",
       "      <td>NaN</td>\n",
       "    </tr>\n",
       "    <tr>\n",
       "      <th>23565</th>\n",
       "      <td>zzvv</td>\n",
       "      <td>36.708500</td>\n",
       "      <td>-121.749000</td>\n",
       "      <td>2014-12-02</td>\n",
       "      <td>test</td>\n",
       "      <td>2014</td>\n",
       "      <td>12</td>\n",
       "      <td>49</td>\n",
       "      <td>1</td>\n",
       "      <td>west</td>\n",
       "      <td>NaN</td>\n",
       "      <td>NaN</td>\n",
       "    </tr>\n",
       "    <tr>\n",
       "      <th>23569</th>\n",
       "      <td>zzzi</td>\n",
       "      <td>39.767323</td>\n",
       "      <td>-96.028617</td>\n",
       "      <td>2015-08-31</td>\n",
       "      <td>test</td>\n",
       "      <td>2015</td>\n",
       "      <td>8</td>\n",
       "      <td>36</td>\n",
       "      <td>3</td>\n",
       "      <td>midwest</td>\n",
       "      <td>NaN</td>\n",
       "      <td>NaN</td>\n",
       "    </tr>\n",
       "  </tbody>\n",
       "</table>\n",
       "<p>6510 rows × 12 columns</p>\n",
       "</div>"
      ],
      "text/plain": [
       "        uid   latitude   longitude       date split  year  month  week  \\\n",
       "1      aabn  36.559700 -121.510000 2016-08-31  test  2016      8    35   \n",
       "12     aair  33.042600 -117.076000 2014-11-01  test  2014     11    44   \n",
       "14     aajw  40.703968  -80.293050 2015-08-26  test  2015      8    35   \n",
       "15     aalr  38.972500  -94.672930 2019-08-26  test  2019      8    35   \n",
       "16     aalw  34.279000 -118.905000 2018-01-08  test  2018      1     2   \n",
       "...     ...        ...         ...        ...   ...   ...    ...   ...   \n",
       "23556  zzpn  40.136410  -80.473740 2019-07-08  test  2019      7    28   \n",
       "23560  zzrv  36.875400 -121.561000 2019-09-17  test  2019      9    38   \n",
       "23563  zzsx  34.210000  -78.929389 2019-07-16  test  2019      7    29   \n",
       "23565  zzvv  36.708500 -121.749000 2014-12-02  test  2014     12    49   \n",
       "23569  zzzi  39.767323  -96.028617 2015-08-31  test  2015      8    36   \n",
       "\n",
       "       season     region  severity  density  \n",
       "1           3       west       NaN      NaN  \n",
       "12          4       west       NaN      NaN  \n",
       "14          3  northeast       NaN      NaN  \n",
       "15          3    midwest       NaN      NaN  \n",
       "16          1       west       NaN      NaN  \n",
       "...       ...        ...       ...      ...  \n",
       "23556       3  northeast       NaN      NaN  \n",
       "23560       4       west       NaN      NaN  \n",
       "23563       3      south       NaN      NaN  \n",
       "23565       1       west       NaN      NaN  \n",
       "23569       3    midwest       NaN      NaN  \n",
       "\n",
       "[6510 rows x 12 columns]"
      ]
     },
     "execution_count": 20,
     "metadata": {},
     "output_type": "execute_result"
    }
   ],
   "source": [
    "X_test = test_data[train_data.columns]\n",
    "X_test"
   ]
  },
  {
   "attachments": {},
   "cell_type": "markdown",
   "metadata": {},
   "source": [
    "# Analyze"
   ]
  },
  {
   "attachments": {},
   "cell_type": "markdown",
   "metadata": {},
   "source": [
    "## CV"
   ]
  },
  {
   "cell_type": "code",
   "execution_count": 21,
   "metadata": {},
   "outputs": [],
   "source": [
    "def train_eval(model, X_train=None, X_val=None, y_train=None, y_val=None, X_test=None, y_test=None):\n",
    "    \"\"\"\n",
    "    train and eval util func,\n",
    "    returns trained model, soft_preds, and tr, val, test rmses\n",
    "    REMEMBER returns soft-preds\n",
    "    \"\"\"\n",
    "    \n",
    "    model.fit(X_train, y_train)\n",
    "    val_preds = model.predict(X_val)\n",
    "    val_rmse = rmse(y_val, np.clip(np.round(val_preds), 1, 5))\n",
    "    train_rmse = rmse(y_train, np.clip(np.round(model.predict(X_train)), 1, 5))   # don't forget to clip!\n",
    "    print(\"Train RMSE: \", train_rmse)\n",
    "    print(\"Val RMSE:\", val_rmse)\n",
    "    if X_test is not None and y_test is not None:\n",
    "        test_rmse = mse(y_test, np.clip(np.round(model.predict(X_test)), 1, 5), squared=False)\n",
    "        print('TEST RMSE: ', test_rmse)\n",
    "    else:\n",
    "        test_rmse = 0\n",
    "        \n",
    "    # print(\"TEST RMSE:\", mse(y_val, np.round(model.predict(X_val)), squared=False))\n",
    "    return model, val_preds, train_rmse, val_rmse, test_rmse"
   ]
  },
  {
   "cell_type": "code",
   "execution_count": 44,
   "metadata": {},
   "outputs": [],
   "source": [
    "\n",
    "def cv_it(model, X_train=None, y_train=None, X_test=None, y_test=None, splits=10, cv_predict=False):\n",
    "    \"\"\" cv in stratified kfold fashion, \n",
    "    returns train, val, test rmses, and cv preds for test and train if cv_predict=True\n",
    "    remember to round preds\"\"\"\n",
    "    \n",
    "    skf = StratifiedKFold(n_splits=splits, random_state=12_000, shuffle=True)\n",
    "    # tscv = TimeSeriesSplit(n_splits=splits, test_size=200)\n",
    "    print('Using cols: ', X_train.columns.values)\n",
    "\n",
    "    train_rmses = []\n",
    "    val_rmses = []\n",
    "    test_rmses = []\n",
    "    \n",
    "    if cv_predict:\n",
    "        if X_test is not None: test_shape = X_test.shape[0]\n",
    "        else: test_shape = 6510\n",
    "        cvpreds_test = np.zeros(shape=(test_shape, splits))\n",
    "        cvpreds_train = np.zeros(shape=(len(X_train)))\n",
    "\n",
    "    for fold, (train_idx, val_idx) in enumerate(skf.split(X_train, y_train)):\n",
    "\n",
    "        print(f'----------------------------------Fold-{fold}------------------------------------')\n",
    "        X_train_subset, y_train_subset = X_train.iloc[train_idx], y_train.iloc[train_idx]\n",
    "        X_val_subset, y_val_subset = X_train.iloc[val_idx], y_train.iloc[val_idx]\n",
    "        \n",
    "        print(f'Training on {X_train_subset.shape[0]} samples' )\n",
    "        print(f'Validating on {X_val_subset.shape[0]} samples' )\n",
    "\n",
    "        model, val_preds, train_rmse, val_rmse, test_rmse= train_eval(\n",
    "                                    model=model, \n",
    "                                    X_train=X_train_subset, \n",
    "                                    y_train=y_train_subset, \n",
    "                                    X_val=X_val_subset, \n",
    "                                    y_val=y_val_subset,\n",
    "                                    X_test=X_test,\n",
    "                                    y_test=y_test\n",
    "                                    )\n",
    "\n",
    "        sns.barplot(model.feature_importances_, model.feature_names_in_)\n",
    "\n",
    "        val_rmses.append(val_rmse)\n",
    "        train_rmses.append(train_rmse)\n",
    "        \n",
    "        if cv_predict:\n",
    "            test_rmses.append(test_rmse)\n",
    "            # save predictions for ensembling\n",
    "            if X_test is not None:\n",
    "                cvpreds_test[:, fold] = model.predict(X_test)\n",
    "            cvpreds_train[val_idx] = val_preds\n",
    "                    \n",
    "    print()\n",
    "    print(\"Mean Train RMSE:\", np.mean(train_rmses), \"std:\", np.std(train_rmses))\n",
    "    print(\"Mean Val RMSE:\", np.mean(val_rmses), \"std:\", np.std(val_rmses))\n",
    "    print(\"Mean Test RMSE:\", np.mean(test_rmses), \"std:\", np.std(test_rmses))\n",
    "\n",
    "    \n",
    "    if cv_predict:\n",
    "        return cvpreds_test, cvpreds_train"
   ]
  },
  {
   "attachments": {},
   "cell_type": "markdown",
   "metadata": {},
   "source": [
    "## KNN"
   ]
  },
  {
   "cell_type": "code",
   "execution_count": 54,
   "metadata": {},
   "outputs": [],
   "source": [
    "def knn(row=None, train_data=tr_data, k=1):\n",
    "    \"\"\"\n",
    "    row : pd.Series (row from val_data)\n",
    "    train_data : pd.DataFrame (all_data)\n",
    "    k : int number of nearest neighbours to consider\n",
    "    \n",
    "    algo:\n",
    "    1. Get past month data collected till the current row\n",
    "    2. Get the k nearest neighbours (geodesic dist using lat, lng) from the above data\n",
    "    3. Get the mean of the severity from the above rows\n",
    "    4. Return the mean of the nearest neighbours severity\n",
    "\n",
    "    \"\"\"\n",
    "    \n",
    "    if row is None:\n",
    "        print('Row None bruv!')\n",
    "        return None\n",
    "    \n",
    "    uid = row.uid\n",
    "    date = row.date\n",
    "    region = row.region\n",
    "    past_date = date - pd.Timedelta(days=30)\n",
    "    \n",
    "    past_month_data = train_data[(train_data.date < date) & (train_data.date >= past_date)]\n",
    "    past_month_data.sort_values(by='date', inplace=True)\n",
    "    \n",
    "    # if no past data, return the mean of the region\n",
    "    if len(past_month_data) == 0:\n",
    "        return reg_sev_map[region]\n",
    "        \n",
    "    dist_matrix =pd.DataFrame(columns=['uid', 'dist'])       # 0th col for uid, 1st col for dist\n",
    "    for i, past_row in enumerate(past_month_data.itertuples()):\n",
    "        dist_matrix.loc[i, 'uid'] = past_row.uid\n",
    "        dist_matrix.loc[i, 'dist'] = get_distance(row.latitude, row.longitude, past_row.latitude, past_row.longitude)   # returns geodesic dist in km\n",
    "\n",
    "    # get mean of top k nearest neighbours\n",
    "    n_uids = dist_matrix.sort_values(by='dist').head(k).uid.values\n",
    "    nn_severity = train_data[train_data.uid.isin(n_uids)].severity.mean()\n",
    "    \n",
    "    return np.round(nn_severity)\n"
   ]
  },
  {
   "attachments": {},
   "cell_type": "markdown",
   "metadata": {},
   "source": [
    "## Xgb"
   ]
  },
  {
   "cell_type": "code",
   "execution_count": 23,
   "metadata": {},
   "outputs": [
    {
     "data": {
      "text/plain": [
       "Index(['uid', 'latitude', 'longitude', 'date', 'split', 'year', 'month',\n",
       "       'week', 'season', 'region', 'severity', 'density', 'date_reg'],\n",
       "      dtype='object')"
      ]
     },
     "execution_count": 23,
     "metadata": {},
     "output_type": "execute_result"
    }
   ],
   "source": [
    "tr_data.columns"
   ]
  },
  {
   "cell_type": "code",
   "execution_count": 24,
   "metadata": {},
   "outputs": [],
   "source": [
    "drop_cols = ['date','uid', 'severity', 'split', 'density', 'date_reg']"
   ]
  },
  {
   "cell_type": "code",
   "execution_count": 143,
   "metadata": {},
   "outputs": [],
   "source": [
    "\n",
    "X_train = tr_data.drop(columns=drop_cols)\n",
    "X_train.week = X_train.week.astype('int')\n",
    "X_train.region = X_train.region.map(reg_map)  # reg map is better than reg_sev_map\n",
    "y_train = tr_data.severity\n",
    "\n",
    "X_val = val_data.drop(columns=drop_cols)\n",
    "X_val.week = X_val.week.astype('int')\n",
    "X_val.region = X_val.region.map(reg_map)\n",
    "y_val = val_data.severity"
   ]
  },
  {
   "cell_type": "code",
   "execution_count": null,
   "metadata": {},
   "outputs": [],
   "source": [
    "# xgb = XGBRegressor(n_estimators=1000, n_jobs=-1, learning_rate=0.1, max_depth=5, random_state=12_000, gpu_id=0, tree_method='gpu_hist')\n",
    "# model, _, *rmses = train_eval(model=xgb, X_train=X_train, y_train=y_train, X_val=X_val, y_val=y_val)\n",
    "\n",
    "# sns.barplot(model.feature_names_in_, model.feature_importances_)\n",
    "# plt.title('with depth 5')"
   ]
  },
  {
   "cell_type": "code",
   "execution_count": 30,
   "metadata": {},
   "outputs": [],
   "source": [
    "#  treees are soo fucking unstable...\n",
    "# trees trained on gpu are different from trees trained on cpu\n",
    "# probabaly tuning and ensembling will help and add. fts\n"
   ]
  },
  {
   "cell_type": "code",
   "execution_count": 149,
   "metadata": {},
   "outputs": [],
   "source": [
    "assert X_train.columns.to_list() == X_val.columns.to_list()\n",
    "assert y_train.index.to_list() == X_train.index.to_list()\n",
    "assert y_val.index.to_list() == X_val.index.to_list()"
   ]
  },
  {
   "cell_type": "code",
   "execution_count": 167,
   "metadata": {},
   "outputs": [
    {
     "name": "stdout",
     "output_type": "stream",
     "text": [
      "XGBRegressor(base_score=None, booster=None, callbacks=None,\n",
      "             colsample_bylevel=None, colsample_bynode=None,\n",
      "             colsample_bytree=None, early_stopping_rounds=None,\n",
      "             enable_categorical=False, eval_metric=None, gamma=None, gpu_id=0,\n",
      "             grow_policy=None, importance_type=None,\n",
      "             interaction_constraints=None, learning_rate=0.1, max_bin=None,\n",
      "             max_cat_to_onehot=None, max_delta_step=None, max_depth=5,\n",
      "             max_leaves=None, min_child_weight=None, missing=nan,\n",
      "             monotone_constraints=None, n_estimators=1000, n_jobs=-1,\n",
      "             num_parallel_tree=None, predictor=None, random_state=12000,\n",
      "             reg_alpha=None, reg_lambda=None, ...)\n",
      "Using cols:  ['latitude' 'longitude' 'year' 'month' 'week' 'season' 'region']\n",
      "----------------------------------Fold-0------------------------------------\n",
      "Training on 13050 samples\n",
      "Validating on 1451 samples\n",
      "Train RMSE:  0.5439320444370944\n",
      "Val RMSE: 0.7199050400661271\n",
      "TEST RMSE:  0.7022545059794385\n",
      "----------------------------------Fold-1------------------------------------\n",
      "Training on 13051 samples\n",
      "Validating on 1450 samples\n",
      "Train RMSE:  0.5428536285815999\n",
      "Val RMSE: 0.6782329983125268\n",
      "TEST RMSE:  0.7044768359205104\n",
      "----------------------------------Fold-2------------------------------------\n",
      "Training on 13051 samples\n",
      "Validating on 1450 samples\n",
      "Train RMSE:  0.5451775893581793\n",
      "Val RMSE: 0.6782329983125268\n",
      "TEST RMSE:  0.6963871484817445\n",
      "----------------------------------Fold-3------------------------------------\n",
      "Training on 13051 samples\n",
      "Validating on 1450 samples\n",
      "Train RMSE:  0.544615115554194\n",
      "Val RMSE: 0.6863195194358243\n",
      "TEST RMSE:  0.6975085455824965\n",
      "----------------------------------Fold-4------------------------------------\n",
      "Training on 13051 samples\n",
      "Validating on 1450 samples\n",
      "Train RMSE:  0.5474916856104587\n",
      "Val RMSE: 0.6679871978950825\n",
      "TEST RMSE:  0.6991872689385304\n",
      "----------------------------------Fold-5------------------------------------\n",
      "Training on 13051 samples\n",
      "Validating on 1450 samples\n",
      "Train RMSE:  0.5432769063290149\n",
      "Val RMSE: 0.6987673876684326\n",
      "TEST RMSE:  0.7160309166120924\n",
      "----------------------------------Fold-6------------------------------------\n",
      "Training on 13051 samples\n",
      "Validating on 1450 samples\n",
      "Train RMSE:  0.5490289977727697\n",
      "Val RMSE: 0.6838027543791789\n",
      "TEST RMSE:  0.7008619713829767\n",
      "----------------------------------Fold-7------------------------------------\n",
      "Training on 13051 samples\n",
      "Validating on 1450 samples\n",
      "Train RMSE:  0.5474217052068227\n",
      "Val RMSE: 0.7046642634176442\n",
      "TEST RMSE:  0.7044768359205104\n",
      "----------------------------------Fold-8------------------------------------\n",
      "Training on 13051 samples\n",
      "Validating on 1450 samples\n",
      "Train RMSE:  0.5419353926537207\n",
      "Val RMSE: 0.7017220198222714\n",
      "TEST RMSE:  0.6932939538520664\n",
      "----------------------------------Fold-9------------------------------------\n",
      "Training on 13051 samples\n",
      "Validating on 1450 samples\n",
      "Train RMSE:  0.5506315986748295\n",
      "Val RMSE: 0.6741533643175636\n",
      "TEST RMSE:  0.7036442847106895\n",
      "\n",
      "Mean Train RMSE: 0.5456364664178684 std: 0.0027250315286136907\n",
      "Mean Val RMSE: 0.6893787543627178 std: 0.01544124730589726\n",
      "Mean Test RMSE: 0.7018122267381056 std: 0.005901109899773661\n"
     ]
    },
    {
     "data": {
      "image/png": "[encoded data removed]",
      "text/plain": [
       "<Figure size 640x480 with 1 Axes>"
      ]
     },
     "metadata": {},
     "output_type": "display_data"
    }
   ],
   "source": [
    "xgb = XGBRegressor(n_estimators=1000, max_depth=5, learning_rate=0.1, n_jobs=-1, random_state=12_000, tree_method='gpu_hist', gpu_id=0)\n",
    "print(xgb)\n",
    "\n",
    "te_preds, tr_preds = cv_it(model=xgb, X_train=X_train, y_train=y_train, X_test=X_val, y_test=y_val, splits=10, cv_predict=True)"
   ]
  },
  {
   "cell_type": "code",
   "execution_count": 168,
   "metadata": {},
   "outputs": [
    {
     "name": "stdout",
     "output_type": "stream",
     "text": [
      "Exact matches:  0.6381398983978116\n",
      "Missed by 1:  0.32942555685814773\n",
      "Missed by 2:  0.029699101211410707\n",
      "Missed by 3:  0.0027354435326299334\n",
      "Missed by 4:  0.0\n",
      "\n",
      "Severity 1 : accuracy: 28.957 % - prevalence: 43.923 %\n",
      "Severity 2 : accuracy: 11.528 % - prevalence: 19.226 %\n",
      "Severity 3 : accuracy: 4.807 % - prevalence: 15.826 %\n",
      "Severity 4 : accuracy: 18.523 % - prevalence: 20.594 %\n",
      "Severity 5 : accuracy: 0.0 % - prevalence: 0.43 %\n",
      "\n",
      "Classification report:\n",
      "              precision    recall  f1-score   support\n",
      "\n",
      "         1.0       0.81      0.66      0.73      1124\n",
      "         2.0       0.33      0.60      0.42       492\n",
      "         3.0       0.55      0.30      0.39       405\n",
      "         4.0       0.91      0.90      0.91       527\n",
      "         5.0       0.00      0.00      0.00        11\n",
      "\n",
      "    accuracy                           0.64      2559\n",
      "   macro avg       0.52      0.49      0.49      2559\n",
      "weighted avg       0.69      0.64      0.65      2559\n",
      "\n",
      "Exact matches:  0.645196882973588\n",
      "Missed by 1:  0.31721950210330324\n",
      "Missed by 2:  0.03599751741259224\n",
      "Missed by 3:  0.001586097510516516\n",
      "Missed by 4:  0.0\n",
      "\n",
      "Severity 1 : accuracy: 29.501 % - prevalence: 43.949 %\n",
      "Severity 2 : accuracy: 11.123 % - prevalence: 18.944 %\n",
      "Severity 3 : accuracy: 5.22 % - prevalence: 15.958 %\n",
      "Severity 4 : accuracy: 18.668 % - prevalence: 20.826 %\n",
      "Severity 5 : accuracy: 0.007 % - prevalence: 0.324 %\n",
      "\n",
      "Classification report:\n",
      "              precision    recall  f1-score   support\n",
      "\n",
      "         1.0       0.79      0.67      0.73      6373\n",
      "         2.0       0.34      0.59      0.43      2747\n",
      "         3.0       0.56      0.33      0.41      2314\n",
      "         4.0       0.91      0.90      0.90      3020\n",
      "         5.0       0.12      0.02      0.04        47\n",
      "\n",
      "    accuracy                           0.65     14501\n",
      "   macro avg       0.55      0.50      0.50     14501\n",
      "weighted avg       0.69      0.65      0.65     14501\n",
      "\n"
     ]
    }
   ],
   "source": [
    "analyize_matches(y_val, np.clip(np.round(np.mean(te_preds, axis=1)), 1, 5))\n",
    "\n",
    "analyize_matches(y_train, np.clip(np.round(tr_preds), 1, 5))"
   ]
  },
  {
   "cell_type": "code",
   "execution_count": 164,
   "metadata": {},
   "outputs": [
    {
     "name": "stdout",
     "output_type": "stream",
     "text": [
      "midwest\n",
      "              precision    recall  f1-score   support\n",
      "\n",
      "         1.0       0.95      0.69      0.80       665\n",
      "         2.0       0.36      0.58      0.44       362\n",
      "         3.0       0.61      0.67      0.64       658\n",
      "         4.0       0.56      0.22      0.32       164\n",
      "         5.0       0.00      0.00      0.00        11\n",
      "\n",
      "    accuracy                           0.62      1860\n",
      "   macro avg       0.50      0.43      0.44      1860\n",
      "weighted avg       0.68      0.62      0.63      1860\n",
      "\n",
      "\n",
      "northeast\n",
      "              precision    recall  f1-score   support\n",
      "\n",
      "         1.0       0.84      0.65      0.73       472\n",
      "         2.0       0.46      0.73      0.57       278\n",
      "         3.0       0.59      0.49      0.53       182\n",
      "         4.0       0.27      0.15      0.19        41\n",
      "         5.0       0.00      0.00      0.00        11\n",
      "\n",
      "    accuracy                           0.62       984\n",
      "   macro avg       0.43      0.40      0.40       984\n",
      "weighted avg       0.65      0.62      0.62       984\n",
      "\n",
      "\n",
      "south\n",
      "              precision    recall  f1-score   support\n",
      "\n",
      "         1.0       0.77      0.67      0.72      5102\n",
      "         2.0       0.32      0.57      0.40      2022\n",
      "         3.0       0.52      0.15      0.23      1229\n",
      "         4.0       0.21      0.04      0.07        99\n",
      "         5.0       0.00      0.00      0.00         5\n",
      "\n",
      "    accuracy                           0.56      8457\n",
      "   macro avg       0.36      0.29      0.28      8457\n",
      "weighted avg       0.62      0.56      0.56      8457\n",
      "\n",
      "\n",
      "west\n",
      "              precision    recall  f1-score   support\n",
      "\n",
      "         1.0       0.87      0.68      0.76       134\n",
      "         2.0       0.50      0.64      0.56        85\n",
      "         3.0       0.36      0.18      0.24       245\n",
      "         4.0       0.93      0.98      0.95      2716\n",
      "         5.0       0.12      0.05      0.07        20\n",
      "\n",
      "    accuracy                           0.89      3200\n",
      "   macro avg       0.56      0.50      0.52      3200\n",
      "weighted avg       0.87      0.89      0.88      3200\n",
      "\n",
      "\n",
      "-------------------------------\n",
      "midwest\n",
      "              precision    recall  f1-score   support\n",
      "\n",
      "         1.0       0.94      0.72      0.81       116\n",
      "         2.0       0.37      0.62      0.47        76\n",
      "         3.0       0.57      0.59      0.58       113\n",
      "         4.0       0.50      0.14      0.22        29\n",
      "         5.0       0.00      0.00      0.00         6\n",
      "\n",
      "    accuracy                           0.59       340\n",
      "   macro avg       0.48      0.41      0.42       340\n",
      "weighted avg       0.64      0.59      0.59       340\n",
      "\n",
      "\n",
      "northeast\n",
      "              precision    recall  f1-score   support\n",
      "\n",
      "         1.0       0.85      0.63      0.73        84\n",
      "         2.0       0.42      0.72      0.53        43\n",
      "         3.0       0.41      0.32      0.36        28\n",
      "         4.0       0.00      0.00      0.00         3\n",
      "         5.0       0.00      0.00      0.00         1\n",
      "\n",
      "    accuracy                           0.58       159\n",
      "   macro avg       0.34      0.33      0.32       159\n",
      "weighted avg       0.64      0.58      0.59       159\n",
      "\n",
      "\n",
      "south\n",
      "              precision    recall  f1-score   support\n",
      "\n",
      "         1.0       0.79      0.66      0.71       897\n",
      "         2.0       0.30      0.58      0.40       356\n",
      "         3.0       0.67      0.19      0.30       221\n",
      "         4.0       0.00      0.00      0.00        16\n",
      "         5.0       0.00      0.00      0.00         1\n",
      "\n",
      "    accuracy                           0.56      1491\n",
      "   macro avg       0.35      0.28      0.28      1491\n",
      "weighted avg       0.64      0.56      0.57      1491\n",
      "\n",
      "\n",
      "west\n",
      "              precision    recall  f1-score   support\n",
      "\n",
      "         1.0       0.89      0.63      0.74        27\n",
      "         2.0       0.46      0.65      0.54        17\n",
      "         3.0       0.25      0.12      0.16        43\n",
      "         4.0       0.93      0.98      0.95       479\n",
      "         5.0       0.00      0.00      0.00         3\n",
      "\n",
      "    accuracy                           0.88       569\n",
      "   macro avg       0.51      0.47      0.48       569\n",
      "weighted avg       0.86      0.88      0.87       569\n",
      "\n",
      "\n"
     ]
    }
   ],
   "source": [
    "region_wise_peformance(y_data=tr_data, preds=np.clip(np.round(tr_preds), 1, 5))\n",
    "print('-------------------------------')\n",
    "region_wise_peformance(y_data=val_data, preds=np.clip(np.round(np.mean(te_preds, axis=1)), 1, 5))"
   ]
  },
  {
   "cell_type": "code",
   "execution_count": null,
   "metadata": {},
   "outputs": [],
   "source": []
  },
  {
   "cell_type": "code",
   "execution_count": 189,
   "metadata": {},
   "outputs": [
    {
     "data": {
      "text/plain": [
       "0.08999999999999997"
      ]
     },
     "execution_count": 189,
     "metadata": {},
     "output_type": "execute_result"
    }
   ],
   "source": [
    "0.76 - 0.67"
   ]
  },
  {
   "cell_type": "code",
   "execution_count": 73,
   "metadata": {},
   "outputs": [
    {
     "name": "stdout",
     "output_type": "stream",
     "text": [
      "XGBRegressor(base_score=None, booster=None, callbacks=None,\n",
      "             colsample_bylevel=None, colsample_bynode=None,\n",
      "             colsample_bytree=None, early_stopping_rounds=None,\n",
      "             enable_categorical=False, eval_metric=None, gamma=None, gpu_id=0,\n",
      "             grow_policy=None, importance_type=None,\n",
      "             interaction_constraints=None, learning_rate=0.1, max_bin=None,\n",
      "             max_cat_to_onehot=None, max_delta_step=None, max_depth=5,\n",
      "             max_leaves=None, min_child_weight=None, missing=nan,\n",
      "             monotone_constraints=None, n_estimators=1000, n_jobs=-1,\n",
      "             num_parallel_tree=None, predictor=None, random_state=12000,\n",
      "             reg_alpha=None, reg_lambda=None, ...)\n",
      "Using cols:  ['year' 'month' 'week' 'season']\n",
      "----------------------------------Fold-0------------------------------------\n",
      "Training on 13050 samples\n",
      "Validating on 1451 samples\n",
      "Train RMSE:  1.0583005244258363\n",
      "Val RMSE: 1.0657243712901012\n",
      "TEST RMSE:  1.0747738022788187\n",
      "----------------------------------Fold-1------------------------------------\n",
      "Training on 13051 samples\n",
      "Validating on 1450 samples\n",
      "Train RMSE:  1.056992145659078\n",
      "Val RMSE: 1.0760720396343169\n",
      "TEST RMSE:  1.0753190498672591\n",
      "----------------------------------Fold-2------------------------------------\n",
      "Training on 13051 samples\n",
      "Validating on 1450 samples\n",
      "Train RMSE:  1.05604934140316\n",
      "Val RMSE: 1.0779930266552011\n",
      "TEST RMSE:  1.0785847470935044\n",
      "----------------------------------Fold-3------------------------------------\n",
      "Training on 13051 samples\n",
      "Validating on 1450 samples\n",
      "Train RMSE:  1.0564845863761945\n",
      "Val RMSE: 1.0776730999448894\n",
      "TEST RMSE:  1.0791280691397636\n",
      "----------------------------------Fold-4------------------------------------\n",
      "Training on 13051 samples\n",
      "Validating on 1450 samples\n",
      "Train RMSE:  1.0567383964906973\n",
      "Val RMSE: 1.078632595401265\n",
      "TEST RMSE:  1.0825627764283081\n",
      "----------------------------------Fold-5------------------------------------\n",
      "Training on 13051 samples\n",
      "Validating on 1450 samples\n",
      "Train RMSE:  1.05586793637882\n",
      "Val RMSE: 1.083735557514235\n",
      "TEST RMSE:  1.0782223802944\n",
      "----------------------------------Fold-6------------------------------------\n",
      "Training on 13051 samples\n",
      "Validating on 1450 samples\n",
      "Train RMSE:  1.0553961373907907\n",
      "Val RMSE: 1.0875470659652644\n",
      "TEST RMSE:  1.073136397312663\n",
      "----------------------------------Fold-7------------------------------------\n",
      "Training on 13051 samples\n",
      "Validating on 1450 samples\n",
      "Train RMSE:  1.0565933696051601\n",
      "Val RMSE: 1.0757515416258276\n",
      "TEST RMSE:  1.0785847470935044\n",
      "----------------------------------Fold-8------------------------------------\n",
      "Training on 13051 samples\n",
      "Validating on 1450 samples\n",
      "Train RMSE:  1.0545972274933262\n",
      "Val RMSE: 1.095759852874896\n",
      "TEST RMSE:  1.0793091157091341\n",
      "----------------------------------Fold-9------------------------------------\n",
      "Training on 13051 samples\n",
      "Validating on 1450 samples\n",
      "Train RMSE:  1.0561581694619209\n",
      "Val RMSE: 1.083735557514235\n",
      "TEST RMSE:  1.079671117770532\n",
      "\n",
      "Mean Train RMSE: 1.0563177834684985 std: 0.0009368221199915101\n",
      "Mean Val RMSE: 1.080262470842023 std: 0.007623221663062126\n",
      "Mean Test RMSE: 1.0779292202987887 std: 0.0026178536508635465\n"
     ]
    },
    {
     "data": {
      "image/png": "[encoded data removed]",
      "text/plain": [
       "<Figure size 640x480 with 1 Axes>"
      ]
     },
     "metadata": {},
     "output_type": "display_data"
    }
   ],
   "source": [
    "xgb = XGBRegressor(n_estimators=1000, max_depth=5, learning_rate=0.1, n_jobs=-1, random_state=12_000, tree_method='gpu_hist', gpu_id=0)\n",
    "print(xgb)\n",
    "\n",
    "test_preds, train_preds = cv_it(model=xgb, X_train=X_train.drop(['latitude', 'longitude', 'region'], axis=1), y_train=y_train, X_test=X_val.drop(['latitude', 'longitude', 'region'], axis=1), y_test=y_val, splits=10, cv_predict=True)"
   ]
  },
  {
   "cell_type": "code",
   "execution_count": 74,
   "metadata": {},
   "outputs": [
    {
     "name": "stdout",
     "output_type": "stream",
     "text": [
      "Exact matches:  0.3086683676987794\n",
      "Missed by 1:  0.5432039169712434\n",
      "Missed by 2:  0.1420591683332184\n",
      "Missed by 3:  0.005930625474105234\n",
      "Missed by 4:  0.00013792152265361008\n",
      "\n",
      "Severity 1 : accuracy: 7.717 % - prevalence: 43.949 %\n",
      "Severity 2 : accuracy: 15.02 % - prevalence: 18.944 %\n",
      "Severity 3 : accuracy: 2.545 % - prevalence: 15.958 %\n",
      "Severity 4 : accuracy: 5.586 % - prevalence: 20.826 %\n",
      "Severity 5 : accuracy: 0.0 % - prevalence: 0.324 %\n",
      "\n",
      "Classification report:\n",
      "              precision    recall  f1-score   support\n",
      "\n",
      "         1.0       0.74      0.18      0.28      6373\n",
      "         2.0       0.21      0.79      0.34      2747\n",
      "         3.0       0.19      0.16      0.18      2314\n",
      "         4.0       0.88      0.27      0.41      3020\n",
      "         5.0       0.00      0.00      0.00        47\n",
      "\n",
      "    accuracy                           0.31     14501\n",
      "   macro avg       0.41      0.28      0.24     14501\n",
      "weighted avg       0.58      0.31      0.30     14501\n",
      "\n"
     ]
    }
   ],
   "source": [
    "analyize_matches(y_true=y_train, y_pred=np.round(np.clip(train_preds, 1, 5)))"
   ]
  },
  {
   "cell_type": "code",
   "execution_count": 80,
   "metadata": {},
   "outputs": [
    {
     "name": "stdout",
     "output_type": "stream",
     "text": [
      "Exact matches:  0.3130128956623681\n",
      "Missed by 1:  0.5439624853458382\n",
      "Missed by 2:  0.13559984368894099\n",
      "Missed by 3:  0.007033997655334115\n",
      "Missed by 4:  0.00039077764751856197\n",
      "\n",
      "Severity 1 : accuracy: 6.995 % - prevalence: 43.923 %\n",
      "Severity 2 : accuracy: 16.1 % - prevalence: 19.226 %\n",
      "Severity 3 : accuracy: 2.618 % - prevalence: 15.826 %\n",
      "Severity 4 : accuracy: 5.588 % - prevalence: 20.594 %\n",
      "Severity 5 : accuracy: 0.0 % - prevalence: 0.43 %\n",
      "\n",
      "Classification report:\n",
      "              precision    recall  f1-score   support\n",
      "\n",
      "         1.0       0.76      0.16      0.26      1124\n",
      "         2.0       0.23      0.84      0.36       492\n",
      "         3.0       0.20      0.17      0.18       405\n",
      "         4.0       0.87      0.27      0.41       527\n",
      "         5.0       0.00      0.00      0.00        11\n",
      "\n",
      "    accuracy                           0.31      2559\n",
      "   macro avg       0.41      0.29      0.24      2559\n",
      "weighted avg       0.59      0.31      0.30      2559\n",
      "\n"
     ]
    }
   ],
   "source": [
    "analyize_matches(y_true=y_val, y_pred=np.clip(np.round(np.mean(test_preds, axis=1)), 1, 5))"
   ]
  },
  {
   "cell_type": "code",
   "execution_count": 162,
   "metadata": {},
   "outputs": [
    {
     "name": "stdout",
     "output_type": "stream",
     "text": [
      "midwest\n",
      "              precision    recall  f1-score   support\n",
      "\n",
      "         1.0       0.89      0.36      0.52       665\n",
      "         2.0       0.22      0.74      0.34       362\n",
      "         3.0       0.46      0.24      0.31       658\n",
      "         4.0       0.00      0.00      0.00       164\n",
      "         5.0       0.00      0.00      0.00        11\n",
      "\n",
      "    accuracy                           0.36      1860\n",
      "   macro avg       0.31      0.27      0.23      1860\n",
      "weighted avg       0.52      0.36      0.36      1860\n",
      "\n",
      "\n",
      "northeast\n",
      "              precision    recall  f1-score   support\n",
      "\n",
      "         1.0       0.80      0.18      0.29       472\n",
      "         2.0       0.30      0.72      0.42       278\n",
      "         3.0       0.25      0.26      0.26       182\n",
      "         4.0       0.24      0.10      0.14        41\n",
      "         5.0       0.00      0.00      0.00        11\n",
      "\n",
      "    accuracy                           0.34       984\n",
      "   macro avg       0.32      0.25      0.22       984\n",
      "weighted avg       0.53      0.34      0.31       984\n",
      "\n",
      "\n",
      "south\n",
      "              precision    recall  f1-score   support\n",
      "\n",
      "         1.0       0.71      0.15      0.25      5102\n",
      "         2.0       0.24      0.82      0.38      2022\n",
      "         3.0       0.17      0.08      0.11      1229\n",
      "         4.0       0.00      0.00      0.00        99\n",
      "         5.0       0.00      0.00      0.00         5\n",
      "\n",
      "    accuracy                           0.30      8457\n",
      "   macro avg       0.22      0.21      0.15      8457\n",
      "weighted avg       0.51      0.30      0.26      8457\n",
      "\n",
      "\n",
      "west\n",
      "              precision    recall  f1-score   support\n",
      "\n",
      "         1.0       0.45      0.17      0.25       134\n",
      "         2.0       0.04      0.71      0.08        85\n",
      "         3.0       0.08      0.25      0.12       245\n",
      "         4.0       0.92      0.30      0.45      2716\n",
      "         5.0       0.00      0.00      0.00        20\n",
      "\n",
      "    accuracy                           0.30      3200\n",
      "   macro avg       0.30      0.29      0.18      3200\n",
      "weighted avg       0.81      0.30      0.40      3200\n",
      "\n",
      "\n"
     ]
    }
   ],
   "source": [
    "region_wise_peformance(y_data=tr_data, preds=np.clip(np.round(train_preds), 1, 5))"
   ]
  },
  {
   "cell_type": "code",
   "execution_count": 163,
   "metadata": {},
   "outputs": [
    {
     "name": "stdout",
     "output_type": "stream",
     "text": [
      "midwest\n",
      "              precision    recall  f1-score   support\n",
      "\n",
      "         1.0       0.89      0.35      0.51       116\n",
      "         2.0       0.26      0.78      0.39        76\n",
      "         3.0       0.41      0.26      0.32       113\n",
      "         4.0       0.00      0.00      0.00        29\n",
      "         5.0       0.00      0.00      0.00         6\n",
      "\n",
      "    accuracy                           0.38       340\n",
      "   macro avg       0.31      0.28      0.24       340\n",
      "weighted avg       0.50      0.38      0.37       340\n",
      "\n",
      "\n",
      "northeast\n",
      "              precision    recall  f1-score   support\n",
      "\n",
      "         1.0       0.71      0.14      0.24        84\n",
      "         2.0       0.32      0.81      0.45        43\n",
      "         3.0       0.31      0.32      0.32        28\n",
      "         4.0       0.00      0.00      0.00         3\n",
      "         5.0       0.00      0.00      0.00         1\n",
      "\n",
      "    accuracy                           0.35       159\n",
      "   macro avg       0.27      0.26      0.20       159\n",
      "weighted avg       0.51      0.35      0.30       159\n",
      "\n",
      "\n",
      "south\n",
      "              precision    recall  f1-score   support\n",
      "\n",
      "         1.0       0.76      0.14      0.23       897\n",
      "         2.0       0.25      0.87      0.39       356\n",
      "         3.0       0.23      0.10      0.13       221\n",
      "         4.0       0.00      0.00      0.00        16\n",
      "         5.0       0.00      0.00      0.00         1\n",
      "\n",
      "    accuracy                           0.31      1491\n",
      "   macro avg       0.25      0.22      0.15      1491\n",
      "weighted avg       0.55      0.31      0.25      1491\n",
      "\n",
      "\n",
      "west\n",
      "              precision    recall  f1-score   support\n",
      "\n",
      "         1.0       0.22      0.07      0.11        27\n",
      "         2.0       0.03      0.47      0.06        17\n",
      "         3.0       0.05      0.19      0.08        43\n",
      "         4.0       0.90      0.30      0.45       479\n",
      "         5.0       0.00      0.00      0.00         3\n",
      "\n",
      "    accuracy                           0.28       569\n",
      "   macro avg       0.24      0.21      0.14       569\n",
      "weighted avg       0.77      0.28      0.39       569\n",
      "\n",
      "\n"
     ]
    }
   ],
   "source": [
    "region_wise_peformance(preds=np.clip(np.round(np.mean(test_preds, axis=1)), 1, 5))"
   ]
  },
  {
   "cell_type": "code",
   "execution_count": null,
   "metadata": {},
   "outputs": [],
   "source": [
    "#  there is clearly somethig wrong happening --> low cv high lb and high cv is giving low lb\n",
    "\n",
    "# REMEMBER: THE OBSTACLE IS THE WAY!\n",
    "\n",
    "# shall I believe in my cv ??"
   ]
  },
  {
   "cell_type": "code",
   "execution_count": null,
   "metadata": {},
   "outputs": [],
   "source": [
    "# how does "
   ]
  },
  {
   "cell_type": "code",
   "execution_count": 117,
   "metadata": {},
   "outputs": [
    {
     "data": {
      "text/plain": [
       "0.3008987885892927"
      ]
     },
     "execution_count": 117,
     "metadata": {},
     "output_type": "execute_result"
    }
   ],
   "source": [
    "# % of dates matching in btw in val and test sets\n",
    "\n",
    "len(set(val_data.date).intersection(set(tr_data.date))) / len(val_data)"
   ]
  },
  {
   "cell_type": "code",
   "execution_count": 114,
   "metadata": {},
   "outputs": [
    {
     "data": {
      "text/plain": [
       "0.13763440860215054"
      ]
     },
     "execution_count": 114,
     "metadata": {},
     "output_type": "execute_result"
    }
   ],
   "source": [
    "len(set(test_data.date).intersection(set(train_data.date))) / len(test_data)"
   ]
  },
  {
   "cell_type": "code",
   "execution_count": null,
   "metadata": {},
   "outputs": [],
   "source": []
  },
  {
   "cell_type": "code",
   "execution_count": null,
   "metadata": {},
   "outputs": [],
   "source": []
  },
  {
   "cell_type": "code",
   "execution_count": null,
   "metadata": {},
   "outputs": [],
   "source": []
  },
  {
   "cell_type": "code",
   "execution_count": null,
   "metadata": {},
   "outputs": [],
   "source": [
    "#  Believe in Stratified KFold??"
   ]
  },
  {
   "attachments": {},
   "cell_type": "markdown",
   "metadata": {},
   "source": [
    "# Test predictions"
   ]
  },
  {
   "cell_type": "code",
   "execution_count": 169,
   "metadata": {},
   "outputs": [
    {
     "data": {
      "text/plain": [
       "True"
      ]
     },
     "execution_count": 169,
     "metadata": {},
     "output_type": "execute_result"
    }
   ],
   "source": [
    "X_train = X_train.drop(['latitude', 'longitude', 'region'], axis=1)\n",
    "X_val = X_val.drop(['latitude', 'longitude', 'region'], axis=1)\n",
    "\n",
    "X_train.columns.to_list() == X_val.columns.to_list()"
   ]
  },
  {
   "cell_type": "code",
   "execution_count": 170,
   "metadata": {},
   "outputs": [
    {
     "data": {
      "text/html": [
       "<div>\n",
       "<style scoped>\n",
       "    .dataframe tbody tr th:only-of-type {\n",
       "        vertical-align: middle;\n",
       "    }\n",
       "\n",
       "    .dataframe tbody tr th {\n",
       "        vertical-align: top;\n",
       "    }\n",
       "\n",
       "    .dataframe thead th {\n",
       "        text-align: right;\n",
       "    }\n",
       "</style>\n",
       "<table border=\"1\" class=\"dataframe\">\n",
       "  <thead>\n",
       "    <tr style=\"text-align: right;\">\n",
       "      <th></th>\n",
       "      <th>year</th>\n",
       "      <th>month</th>\n",
       "      <th>week</th>\n",
       "      <th>season</th>\n",
       "    </tr>\n",
       "  </thead>\n",
       "  <tbody>\n",
       "    <tr>\n",
       "      <th>1</th>\n",
       "      <td>2016</td>\n",
       "      <td>8</td>\n",
       "      <td>35</td>\n",
       "      <td>3</td>\n",
       "    </tr>\n",
       "    <tr>\n",
       "      <th>12</th>\n",
       "      <td>2014</td>\n",
       "      <td>11</td>\n",
       "      <td>44</td>\n",
       "      <td>4</td>\n",
       "    </tr>\n",
       "    <tr>\n",
       "      <th>14</th>\n",
       "      <td>2015</td>\n",
       "      <td>8</td>\n",
       "      <td>35</td>\n",
       "      <td>3</td>\n",
       "    </tr>\n",
       "    <tr>\n",
       "      <th>15</th>\n",
       "      <td>2019</td>\n",
       "      <td>8</td>\n",
       "      <td>35</td>\n",
       "      <td>3</td>\n",
       "    </tr>\n",
       "    <tr>\n",
       "      <th>16</th>\n",
       "      <td>2018</td>\n",
       "      <td>1</td>\n",
       "      <td>2</td>\n",
       "      <td>1</td>\n",
       "    </tr>\n",
       "    <tr>\n",
       "      <th>...</th>\n",
       "      <td>...</td>\n",
       "      <td>...</td>\n",
       "      <td>...</td>\n",
       "      <td>...</td>\n",
       "    </tr>\n",
       "    <tr>\n",
       "      <th>23556</th>\n",
       "      <td>2019</td>\n",
       "      <td>7</td>\n",
       "      <td>28</td>\n",
       "      <td>3</td>\n",
       "    </tr>\n",
       "    <tr>\n",
       "      <th>23560</th>\n",
       "      <td>2019</td>\n",
       "      <td>9</td>\n",
       "      <td>38</td>\n",
       "      <td>4</td>\n",
       "    </tr>\n",
       "    <tr>\n",
       "      <th>23563</th>\n",
       "      <td>2019</td>\n",
       "      <td>7</td>\n",
       "      <td>29</td>\n",
       "      <td>3</td>\n",
       "    </tr>\n",
       "    <tr>\n",
       "      <th>23565</th>\n",
       "      <td>2014</td>\n",
       "      <td>12</td>\n",
       "      <td>49</td>\n",
       "      <td>1</td>\n",
       "    </tr>\n",
       "    <tr>\n",
       "      <th>23569</th>\n",
       "      <td>2015</td>\n",
       "      <td>8</td>\n",
       "      <td>36</td>\n",
       "      <td>3</td>\n",
       "    </tr>\n",
       "  </tbody>\n",
       "</table>\n",
       "<p>6510 rows × 4 columns</p>\n",
       "</div>"
      ],
      "text/plain": [
       "       year  month  week  season\n",
       "1      2016      8    35       3\n",
       "12     2014     11    44       4\n",
       "14     2015      8    35       3\n",
       "15     2019      8    35       3\n",
       "16     2018      1     2       1\n",
       "...     ...    ...   ...     ...\n",
       "23556  2019      7    28       3\n",
       "23560  2019      9    38       4\n",
       "23563  2019      7    29       3\n",
       "23565  2014     12    49       1\n",
       "23569  2015      8    36       3\n",
       "\n",
       "[6510 rows x 4 columns]"
      ]
     },
     "execution_count": 170,
     "metadata": {},
     "output_type": "execute_result"
    }
   ],
   "source": [
    "X_test = X_test[X_train.columns]\n",
    "X_test"
   ]
  },
  {
   "cell_type": "code",
   "execution_count": 171,
   "metadata": {},
   "outputs": [],
   "source": [
    "assert X_test.columns.tolist() == X_train.columns.tolist()"
   ]
  },
  {
   "cell_type": "code",
   "execution_count": 172,
   "metadata": {},
   "outputs": [
    {
     "data": {
      "text/plain": [
       "year      0\n",
       "month     0\n",
       "week      0\n",
       "season    0\n",
       "dtype: int64"
      ]
     },
     "execution_count": 172,
     "metadata": {},
     "output_type": "execute_result"
    }
   ],
   "source": [
    "X_val.isin(X_train).sum()"
   ]
  },
  {
   "cell_type": "code",
   "execution_count": 173,
   "metadata": {},
   "outputs": [
    {
     "data": {
      "text/plain": [
       "((17060, 4), (17060,))"
      ]
     },
     "execution_count": 173,
     "metadata": {},
     "output_type": "execute_result"
    }
   ],
   "source": [
    "all_X_train = pd.concat([X_train, X_val], axis=0)\n",
    "all_y_train = pd.concat([y_train, y_val], axis=0)\n",
    "\n",
    "assert all_X_train.shape[0] == all_y_train.shape[0]\n",
    "assert all_X_train.columns.tolist() == X_test.columns.tolist()\n",
    "\n",
    "all_X_train.shape, all_y_train.shape"
   ]
  },
  {
   "cell_type": "code",
   "execution_count": 175,
   "metadata": {},
   "outputs": [],
   "source": [
    "X_test.week = X_test.week.astype('int')\n",
    "# X_test.region = X_test.region.map(reg_sev_map)"
   ]
  },
  {
   "cell_type": "code",
   "execution_count": 176,
   "metadata": {},
   "outputs": [
    {
     "name": "stdout",
     "output_type": "stream",
     "text": [
      "Using cols:  ['year' 'month' 'week' 'season']\n",
      "----------------------------------Fold-0------------------------------------\n",
      "Training on 15354 samples\n",
      "Validating on 1706 samples\n",
      "Train RMSE:  1.096609812390193\n",
      "Val RMSE: 1.089758354319392\n",
      "----------------------------------Fold-1------------------------------------\n",
      "Training on 15354 samples\n",
      "Validating on 1706 samples\n",
      "Train RMSE:  1.097262927472121\n",
      "Val RMSE: 1.1155408636723536\n",
      "----------------------------------Fold-2------------------------------------\n",
      "Training on 15354 samples\n",
      "Validating on 1706 samples\n",
      "Train RMSE:  1.1022375906015949\n",
      "Val RMSE: 1.107101662649808\n",
      "----------------------------------Fold-3------------------------------------\n",
      "Training on 15354 samples\n",
      "Validating on 1706 samples\n",
      "Train RMSE:  1.1025920648318879\n",
      "Val RMSE: 1.098597635333828\n",
      "----------------------------------Fold-4------------------------------------\n",
      "Training on 15354 samples\n",
      "Validating on 1706 samples\n",
      "Train RMSE:  1.095659131836641\n",
      "Val RMSE: 1.1306763789241268\n",
      "----------------------------------Fold-5------------------------------------\n",
      "Training on 15354 samples\n",
      "Validating on 1706 samples\n",
      "Train RMSE:  1.1024443810871583\n",
      "Val RMSE: 1.104451188024709\n",
      "----------------------------------Fold-6------------------------------------\n",
      "Training on 15354 samples\n",
      "Validating on 1706 samples\n",
      "Train RMSE:  1.0956294097773673\n",
      "Val RMSE: 1.1186891508270715\n",
      "----------------------------------Fold-7------------------------------------\n",
      "Training on 15354 samples\n",
      "Validating on 1706 samples\n",
      "Train RMSE:  1.0958968792912864\n",
      "Val RMSE: 1.1155408636723536\n",
      "----------------------------------Fold-8------------------------------------\n",
      "Training on 15354 samples\n",
      "Validating on 1706 samples\n",
      "Train RMSE:  1.0975003275024784\n",
      "Val RMSE: 1.110537822664578\n",
      "----------------------------------Fold-9------------------------------------\n",
      "Training on 15354 samples\n",
      "Validating on 1706 samples\n",
      "Train RMSE:  1.0991310646613688\n",
      "Val RMSE: 1.1115929657269754\n",
      "\n",
      "Mean Train RMSE: 1.09849635894521 std: 0.0027542765039490795\n",
      "Mean Val RMSE: 1.1102486885815197 std: 0.010703048511864498\n",
      "Mean Test RMSE: 0.0 std: 0.0\n"
     ]
    },
    {
     "data": {
      "text/plain": [
       "(6510, 10)"
      ]
     },
     "execution_count": 176,
     "metadata": {},
     "output_type": "execute_result"
    },
    {
     "data": {
      "image/png": "[encoded data removed]",
      "text/plain": [
       "<Figure size 640x480 with 1 Axes>"
      ]
     },
     "metadata": {},
     "output_type": "display_data"
    }
   ],
   "source": [
    "xgb = XGBRegressor(n_estimators=1000, max_depth=3, learning_rate=0.1, n_jobs=-1, random_state=12_000, tree_method='gpu_hist', gpu_id=0)\n",
    "test_preds_cv, train_preds_cv = cv_it(xgb, all_X_train, all_y_train, X_test=X_test, splits=10, cv_predict=True)\n",
    "test_preds_cv.shape"
   ]
  },
  {
   "cell_type": "code",
   "execution_count": 255,
   "metadata": {},
   "outputs": [],
   "source": [
    "\n",
    "# trained only on X_train, y_train\n",
    "# prev_preds_rmr = preds_rmr\n",
    "# prev_preds_rm = preds_rm\n"
   ]
  },
  {
   "cell_type": "code",
   "execution_count": 178,
   "metadata": {},
   "outputs": [
    {
     "data": {
      "text/plain": [
       "array([2., 4., 2., ..., 2., 4., 2.])"
      ]
     },
     "execution_count": 178,
     "metadata": {},
     "output_type": "execute_result"
    }
   ],
   "source": [
    "preds_rmr = np.round(np.mean(np.round(test_preds_cv), axis=1))\n",
    "preds_rmr  # mean of rounded predictions"
   ]
  },
  {
   "cell_type": "code",
   "execution_count": 179,
   "metadata": {},
   "outputs": [
    {
     "data": {
      "text/plain": [
       "array([2., 4., 2., ..., 2., 4., 2.])"
      ]
     },
     "execution_count": 179,
     "metadata": {},
     "output_type": "execute_result"
    }
   ],
   "source": [
    "preds_rm = np.round(np.mean(test_preds_cv, axis=1))\n",
    "preds_rm # rounded mean s"
   ]
  },
  {
   "cell_type": "code",
   "execution_count": 180,
   "metadata": {},
   "outputs": [
    {
     "name": "stdout",
     "output_type": "stream",
     "text": [
      "Exact matches:  0.9880184331797235\n",
      "Missed by 1:  0.011981566820276499\n",
      "Missed by 2:  0.0\n",
      "Missed by 3:  0.0\n",
      "Missed by 4:  0.0\n",
      "\n",
      "Severity 1 : accuracy: 3.733 % - prevalence: 3.794 %\n",
      "Severity 2 : accuracy: 75.023 % - prevalence: 75.545 %\n",
      "Severity 3 : accuracy: 14.24 % - prevalence: 14.516 %\n",
      "Severity 4 : accuracy: 5.806 % - prevalence: 6.144 %\n",
      "Severity 5 : accuracy: 0.0 % - prevalence: 0.0 %\n",
      "\n",
      "Classification report:\n",
      "              precision    recall  f1-score   support\n",
      "\n",
      "         0.0       0.00      0.00      0.00         0\n",
      "         1.0       0.99      0.98      0.99       247\n",
      "         2.0       1.00      0.99      0.99      4918\n",
      "         3.0       0.95      0.98      0.96       945\n",
      "         4.0       1.00      0.94      0.97       400\n",
      "         5.0       0.00      0.00      0.00         0\n",
      "\n",
      "    accuracy                           0.99      6510\n",
      "   macro avg       0.66      0.65      0.65      6510\n",
      "weighted avg       0.99      0.99      0.99      6510\n",
      "\n"
     ]
    }
   ],
   "source": [
    "analyize_matches(preds_rmr, preds_rm)\n",
    "# 265.0 samples are off!"
   ]
  },
  {
   "cell_type": "code",
   "execution_count": 182,
   "metadata": {},
   "outputs": [
    {
     "data": {
      "text/plain": [
       "30.66082949308756"
      ]
     },
     "execution_count": 182,
     "metadata": {},
     "output_type": "execute_result"
    }
   ],
   "source": [
    "0.011981566820276499 * len(test_preds)"
   ]
  },
  {
   "cell_type": "code",
   "execution_count": 183,
   "metadata": {},
   "outputs": [
    {
     "data": {
      "text/plain": [
       "2.0    0.753303\n",
       "3.0    0.150538\n",
       "4.0    0.058065\n",
       "1.0    0.037942\n",
       "5.0    0.000154\n",
       "dtype: float64"
      ]
     },
     "execution_count": 183,
     "metadata": {},
     "output_type": "execute_result"
    }
   ],
   "source": [
    "pd.Series(np.clip(preds_rm, 1, 5)).value_counts(normalize=True)"
   ]
  },
  {
   "cell_type": "code",
   "execution_count": 184,
   "metadata": {},
   "outputs": [
    {
     "data": {
      "text/plain": [
       "2.0    0.755453\n",
       "3.0    0.145161\n",
       "4.0    0.061444\n",
       "1.0    0.037942\n",
       "dtype: float64"
      ]
     },
     "execution_count": 184,
     "metadata": {},
     "output_type": "execute_result"
    }
   ],
   "source": [
    "pd.Series(np.clip(preds_rmr, 1, 5)).value_counts(normalize=True)"
   ]
  },
  {
   "cell_type": "code",
   "execution_count": 187,
   "metadata": {},
   "outputs": [
    {
     "data": {
      "text/plain": [
       "2.0    0.798593\n",
       "3.0    0.111723\n",
       "1.0    0.054162\n",
       "4.0    0.035463\n",
       "5.0    0.000059\n",
       "dtype: float64"
      ]
     },
     "execution_count": 187,
     "metadata": {},
     "output_type": "execute_result"
    }
   ],
   "source": [
    "train_preds_cv = np.round(train_preds_cv)\n",
    "pd.Series(np.clip(train_preds_cv, 1, 5)).value_counts(normalize=True)"
   ]
  },
  {
   "cell_type": "code",
   "execution_count": 189,
   "metadata": {},
   "outputs": [
    {
     "data": {
      "text/plain": [
       "1.0    0.439449\n",
       "4.0    0.207913\n",
       "2.0    0.189859\n",
       "3.0    0.159379\n",
       "5.0    0.003400\n",
       "Name: severity, dtype: float64"
      ]
     },
     "execution_count": 189,
     "metadata": {},
     "output_type": "execute_result"
    }
   ],
   "source": [
    "train_data.severity.value_counts(normalize=True)"
   ]
  },
  {
   "cell_type": "code",
   "execution_count": 190,
   "metadata": {},
   "outputs": [],
   "source": [
    "# make submissions\n",
    "\n",
    "sub_format.severity = preds_rmr.astype('int')\n",
    "sub_format.to_csv('../submissions/to submit/xgb_1k_without_latlng_reg_cv_preds_rmr.csv', index=False)\n",
    "\n",
    "sub_format.severity = preds_rm.astype('int')\n",
    "sub_format.to_csv('../submissions/to submit/xgb_1k_without_latlng_reg_cv_preds_rm.csv', index=False)"
   ]
  },
  {
   "cell_type": "code",
   "execution_count": 191,
   "metadata": {},
   "outputs": [
    {
     "data": {
      "text/plain": [
       "0.10946034359655783"
      ]
     },
     "execution_count": 191,
     "metadata": {},
     "output_type": "execute_result"
    }
   ],
   "source": [
    "rmse(preds_rmr, preds_rm)"
   ]
  },
  {
   "cell_type": "code",
   "execution_count": null,
   "metadata": {},
   "outputs": [],
   "source": []
  }
 ],
 "metadata": {
  "kernelspec": {
   "display_name": "Python 3",
   "language": "python",
   "name": "python3"
  },
  "language_info": {
   "codemirror_mode": {
    "name": "ipython",
    "version": 3
   },
   "file_extension": ".py",
   "mimetype": "text/x-python",
   "name": "python",
   "nbconvert_exporter": "python",
   "pygments_lexer": "ipython3",
   "version": "3.10.5"
  },
  "orig_nbformat": 4,
  "vscode": {
   "interpreter": {
    "hash": "186db977f413ae6598820b658aed1651932768522d0652c07d949b3f5fb38b63"
   }
  }
 },
 "nbformat": 4,
 "nbformat_minor": 2
}
