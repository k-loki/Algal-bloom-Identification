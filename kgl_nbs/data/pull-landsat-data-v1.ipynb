{
 "cells": [
  {
   "cell_type": "markdown",
   "id": "e9b5552a",
   "metadata": {
    "papermill": {
     "duration": 0.010504,
     "end_time": "2023-01-06T20:11:27.699799",
     "exception": false,
     "start_time": "2023-01-06T20:11:27.689295",
     "status": "completed"
    },
    "tags": []
   },
   "source": [
    "# **``Landsat 8 imgs 500x500 m around poi all 11 bands``**\n",
    "\n",
    "- dataset_v1"
   ]
  },
  {
   "cell_type": "code",
   "execution_count": 1,
   "id": "6ba1a2b8",
   "metadata": {
    "execution": {
     "iopub.execute_input": "2023-01-06T20:11:27.715494Z",
     "iopub.status.busy": "2023-01-06T20:11:27.714891Z",
     "iopub.status.idle": "2023-01-06T20:11:27.723764Z",
     "shell.execute_reply": "2023-01-06T20:11:27.722069Z"
    },
    "papermill": {
     "duration": 0.020119,
     "end_time": "2023-01-06T20:11:27.727026",
     "exception": false,
     "start_time": "2023-01-06T20:11:27.706907",
     "status": "completed"
    },
    "tags": []
   },
   "outputs": [],
   "source": [
    "# ! pip install psycopg2-binary\n",
    "# ! pip install postgres\n",
    "\n",
    "# # # ! sudo apt install libpq-dev python3-dev \n",
    "# # ! sudo apt-get install libpq-dev python-dev -y --fix-missing\n",
    "\n",
    "\n",
    "# ! sudo apt-get install postgresql-server-dev-all -y\n",
    "# ! sudo apt-get install postgresql-common -y\n",
    "\n",
    "\n",
    "# ! pip install datacube rioxarray odc-cloud\n",
    "# ! pip install geopandas --upgrade\n",
    "\n",
    "# this shit ain't working!"
   ]
  },
  {
   "cell_type": "markdown",
   "id": "e29cb07e",
   "metadata": {
    "papermill": {
     "duration": 0.006173,
     "end_time": "2023-01-06T20:11:27.739874",
     "exception": false,
     "start_time": "2023-01-06T20:11:27.733701",
     "status": "completed"
    },
    "tags": []
   },
   "source": [
    "# Load metadata and dependencies"
   ]
  },
  {
   "cell_type": "markdown",
   "id": "5a4e6b7b",
   "metadata": {
    "papermill": {
     "duration": 0.009961,
     "end_time": "2023-01-06T20:11:27.756920",
     "exception": false,
     "start_time": "2023-01-06T20:11:27.746959",
     "status": "completed"
    },
    "tags": []
   },
   "source": [
    "## Connect with earth engine"
   ]
  },
  {
   "cell_type": "code",
   "execution_count": 2,
   "id": "c5dda16d",
   "metadata": {
    "execution": {
     "iopub.execute_input": "2023-01-06T20:11:27.776431Z",
     "iopub.status.busy": "2023-01-06T20:11:27.776054Z",
     "iopub.status.idle": "2023-01-06T20:11:29.258233Z",
     "shell.execute_reply": "2023-01-06T20:11:29.256911Z"
    },
    "papermill": {
     "duration": 1.495333,
     "end_time": "2023-01-06T20:11:29.261182",
     "exception": false,
     "start_time": "2023-01-06T20:11:27.765849",
     "status": "completed"
    },
    "tags": []
   },
   "outputs": [],
   "source": [
    "import ee\n",
    "from kaggle_secrets import UserSecretsClient\n",
    "\n",
    "user_secrets = UserSecretsClient()\n",
    "service_account = user_secrets.get_secret(\"google_service_account\")\n",
    "json_key_path = '/kaggle/input/gc-json-key/ticktickbloom-project-000e9745b830-json-key.json'\n",
    "credentials = ee.ServiceAccountCredentials(service_account, json_key_path)\n",
    "\n",
    "ee.Initialize(credentials)"
   ]
  },
  {
   "cell_type": "markdown",
   "id": "9e2a01c6",
   "metadata": {
    "papermill": {
     "duration": 0.005646,
     "end_time": "2023-01-06T20:11:29.273078",
     "exception": false,
     "start_time": "2023-01-06T20:11:29.267432",
     "status": "completed"
    },
    "tags": []
   },
   "source": [
    "# Import data laoding and manipulating libs"
   ]
  },
  {
   "cell_type": "code",
   "execution_count": 3,
   "id": "6f7e55c2",
   "metadata": {
    "execution": {
     "iopub.execute_input": "2023-01-06T20:11:29.286692Z",
     "iopub.status.busy": "2023-01-06T20:11:29.286296Z",
     "iopub.status.idle": "2023-01-06T20:11:29.291480Z",
     "shell.execute_reply": "2023-01-06T20:11:29.290249Z"
    },
    "papermill": {
     "duration": 0.015756,
     "end_time": "2023-01-06T20:11:29.294650",
     "exception": false,
     "start_time": "2023-01-06T20:11:29.278894",
     "status": "completed"
    },
    "tags": []
   },
   "outputs": [],
   "source": [
    "# ! pip install geemap -q"
   ]
  },
  {
   "cell_type": "code",
   "execution_count": 4,
   "id": "fec11b8c",
   "metadata": {
    "execution": {
     "iopub.execute_input": "2023-01-06T20:11:29.312827Z",
     "iopub.status.busy": "2023-01-06T20:11:29.312266Z",
     "iopub.status.idle": "2023-01-06T20:11:29.516660Z",
     "shell.execute_reply": "2023-01-06T20:11:29.515239Z"
    },
    "papermill": {
     "duration": 0.215655,
     "end_time": "2023-01-06T20:11:29.519278",
     "exception": false,
     "start_time": "2023-01-06T20:11:29.303623",
     "status": "completed"
    },
    "tags": []
   },
   "outputs": [],
   "source": [
    "import datetime\n",
    "import os\n",
    "import sys\n",
    "\n",
    "import pandas as pd\n",
    "import numpy as np\n",
    "import matplotlib.pyplot as plt\n",
    "from tqdm import tqdm\n",
    "import joblib\n",
    "from joblib import Parallel, delayed\n",
    "\n",
    "import geopy.distance as distance\n",
    "\n",
    "import warnings\n",
    "warnings.filterwarnings('ignore')"
   ]
  },
  {
   "cell_type": "code",
   "execution_count": 5,
   "id": "df06cb67",
   "metadata": {
    "execution": {
     "iopub.execute_input": "2023-01-06T20:11:29.535343Z",
     "iopub.status.busy": "2023-01-06T20:11:29.534149Z",
     "iopub.status.idle": "2023-01-06T20:11:29.641134Z",
     "shell.execute_reply": "2023-01-06T20:11:29.640173Z"
    },
    "papermill": {
     "duration": 0.117076,
     "end_time": "2023-01-06T20:11:29.643785",
     "exception": false,
     "start_time": "2023-01-06T20:11:29.526709",
     "status": "completed"
    },
    "tags": []
   },
   "outputs": [],
   "source": [
    "metadata = pd.read_csv('/kaggle/input/ticktickbloomdataset/metadata.csv')\n",
    "sub_format = pd.read_csv('/kaggle/input/ticktickbloomdataset/submission_format.csv')\n",
    "train_labels = pd.read_csv('/kaggle/input/ticktickbloomdataset/train_labels.csv')"
   ]
  },
  {
   "cell_type": "code",
   "execution_count": 6,
   "id": "581b5a3f",
   "metadata": {
    "execution": {
     "iopub.execute_input": "2023-01-06T20:11:29.658055Z",
     "iopub.status.busy": "2023-01-06T20:11:29.656966Z",
     "iopub.status.idle": "2023-01-06T20:11:29.707530Z",
     "shell.execute_reply": "2023-01-06T20:11:29.706141Z"
    },
    "papermill": {
     "duration": 0.060404,
     "end_time": "2023-01-06T20:11:29.710249",
     "exception": false,
     "start_time": "2023-01-06T20:11:29.649845",
     "status": "completed"
    },
    "tags": []
   },
   "outputs": [
    {
     "data": {
      "text/html": [
       "<div>\n",
       "<style scoped>\n",
       "    .dataframe tbody tr th:only-of-type {\n",
       "        vertical-align: middle;\n",
       "    }\n",
       "\n",
       "    .dataframe tbody tr th {\n",
       "        vertical-align: top;\n",
       "    }\n",
       "\n",
       "    .dataframe thead th {\n",
       "        text-align: right;\n",
       "    }\n",
       "</style>\n",
       "<table border=\"1\" class=\"dataframe\">\n",
       "  <thead>\n",
       "    <tr style=\"text-align: right;\">\n",
       "      <th></th>\n",
       "      <th>uid</th>\n",
       "      <th>latitude</th>\n",
       "      <th>longitude</th>\n",
       "      <th>date</th>\n",
       "      <th>split</th>\n",
       "    </tr>\n",
       "  </thead>\n",
       "  <tbody>\n",
       "    <tr>\n",
       "      <th>6540</th>\n",
       "      <td>hfvr</td>\n",
       "      <td>36.796200</td>\n",
       "      <td>-121.782000</td>\n",
       "      <td>2021-12-29</td>\n",
       "      <td>test</td>\n",
       "    </tr>\n",
       "    <tr>\n",
       "      <th>6864</th>\n",
       "      <td>howu</td>\n",
       "      <td>36.708500</td>\n",
       "      <td>-121.749000</td>\n",
       "      <td>2021-12-29</td>\n",
       "      <td>test</td>\n",
       "    </tr>\n",
       "    <tr>\n",
       "      <th>12443</th>\n",
       "      <td>nsoi</td>\n",
       "      <td>36.736800</td>\n",
       "      <td>-121.734000</td>\n",
       "      <td>2021-12-29</td>\n",
       "      <td>test</td>\n",
       "    </tr>\n",
       "    <tr>\n",
       "      <th>14254</th>\n",
       "      <td>prfi</td>\n",
       "      <td>36.751800</td>\n",
       "      <td>-121.742000</td>\n",
       "      <td>2021-12-29</td>\n",
       "      <td>test</td>\n",
       "    </tr>\n",
       "    <tr>\n",
       "      <th>17559</th>\n",
       "      <td>thki</td>\n",
       "      <td>36.725400</td>\n",
       "      <td>-121.730000</td>\n",
       "      <td>2021-12-29</td>\n",
       "      <td>test</td>\n",
       "    </tr>\n",
       "    <tr>\n",
       "      <th>...</th>\n",
       "      <td>...</td>\n",
       "      <td>...</td>\n",
       "      <td>...</td>\n",
       "      <td>...</td>\n",
       "      <td>...</td>\n",
       "    </tr>\n",
       "    <tr>\n",
       "      <th>5317</th>\n",
       "      <td>fwbt</td>\n",
       "      <td>44.850500</td>\n",
       "      <td>-93.515700</td>\n",
       "      <td>2013-01-04</td>\n",
       "      <td>train</td>\n",
       "    </tr>\n",
       "    <tr>\n",
       "      <th>5566</th>\n",
       "      <td>gdxr</td>\n",
       "      <td>44.877646</td>\n",
       "      <td>-93.557842</td>\n",
       "      <td>2013-01-04</td>\n",
       "      <td>train</td>\n",
       "    </tr>\n",
       "    <tr>\n",
       "      <th>6144</th>\n",
       "      <td>guny</td>\n",
       "      <td>44.878889</td>\n",
       "      <td>-93.490833</td>\n",
       "      <td>2013-01-04</td>\n",
       "      <td>train</td>\n",
       "    </tr>\n",
       "    <tr>\n",
       "      <th>13644</th>\n",
       "      <td>paev</td>\n",
       "      <td>44.822478</td>\n",
       "      <td>-93.367962</td>\n",
       "      <td>2013-01-04</td>\n",
       "      <td>train</td>\n",
       "    </tr>\n",
       "    <tr>\n",
       "      <th>4387</th>\n",
       "      <td>evep</td>\n",
       "      <td>44.847993</td>\n",
       "      <td>-93.476318</td>\n",
       "      <td>2013-01-04</td>\n",
       "      <td>train</td>\n",
       "    </tr>\n",
       "  </tbody>\n",
       "</table>\n",
       "<p>23570 rows × 5 columns</p>\n",
       "</div>"
      ],
      "text/plain": [
       "        uid   latitude   longitude       date  split\n",
       "6540   hfvr  36.796200 -121.782000 2021-12-29   test\n",
       "6864   howu  36.708500 -121.749000 2021-12-29   test\n",
       "12443  nsoi  36.736800 -121.734000 2021-12-29   test\n",
       "14254  prfi  36.751800 -121.742000 2021-12-29   test\n",
       "17559  thki  36.725400 -121.730000 2021-12-29   test\n",
       "...     ...        ...         ...        ...    ...\n",
       "5317   fwbt  44.850500  -93.515700 2013-01-04  train\n",
       "5566   gdxr  44.877646  -93.557842 2013-01-04  train\n",
       "6144   guny  44.878889  -93.490833 2013-01-04  train\n",
       "13644  paev  44.822478  -93.367962 2013-01-04  train\n",
       "4387   evep  44.847993  -93.476318 2013-01-04  train\n",
       "\n",
       "[23570 rows x 5 columns]"
      ]
     },
     "execution_count": 6,
     "metadata": {},
     "output_type": "execute_result"
    }
   ],
   "source": [
    "metadata.date = pd.to_datetime(metadata.date)\n",
    "metadata.sort_values(by='date', ascending=False)"
   ]
  },
  {
   "cell_type": "markdown",
   "id": "7638621d",
   "metadata": {
    "papermill": {
     "duration": 0.005943,
     "end_time": "2023-01-06T20:11:29.722454",
     "exception": false,
     "start_time": "2023-01-06T20:11:29.716511",
     "status": "completed"
    },
    "tags": []
   },
   "source": [
    "# Define config "
   ]
  },
  {
   "cell_type": "code",
   "execution_count": 7,
   "id": "3e15c4e8",
   "metadata": {
    "execution": {
     "iopub.execute_input": "2023-01-06T20:11:29.737039Z",
     "iopub.status.busy": "2023-01-06T20:11:29.736593Z",
     "iopub.status.idle": "2023-01-06T20:11:29.743144Z",
     "shell.execute_reply": "2023-01-06T20:11:29.741848Z"
    },
    "papermill": {
     "duration": 0.016337,
     "end_time": "2023-01-06T20:11:29.745595",
     "exception": false,
     "start_time": "2023-01-06T20:11:29.729258",
     "status": "completed"
    },
    "tags": []
   },
   "outputs": [],
   "source": [
    "SATELLITE_COLLECTION = 'LANDSAT/LC08/C02/T1'\n",
    "\n",
    "\n",
    "img_folder = 'landsat8_500m_v1'\n",
    "\n",
    "img_metadata_cols = ['CLOUD_COVER', 'CLOUD_COVER_LAND', 'IMAGE_QUALITY_OLI', 'IMAGE_QUALITY_TIRS', 'DATE_ACQUIRED']\n",
    "\n"
   ]
  },
  {
   "cell_type": "code",
   "execution_count": null,
   "id": "8c2584b1",
   "metadata": {
    "papermill": {
     "duration": 0.006241,
     "end_time": "2023-01-06T20:11:29.758519",
     "exception": false,
     "start_time": "2023-01-06T20:11:29.752278",
     "status": "completed"
    },
    "tags": []
   },
   "outputs": [],
   "source": []
  },
  {
   "cell_type": "markdown",
   "id": "db3a1897",
   "metadata": {
    "papermill": {
     "duration": 0.005933,
     "end_time": "2023-01-06T20:11:29.770782",
     "exception": false,
     "start_time": "2023-01-06T20:11:29.764849",
     "status": "completed"
    },
    "tags": []
   },
   "source": [
    "# Collect data"
   ]
  },
  {
   "cell_type": "code",
   "execution_count": 8,
   "id": "5a38d2d7",
   "metadata": {
    "execution": {
     "iopub.execute_input": "2023-01-06T20:11:29.785454Z",
     "iopub.status.busy": "2023-01-06T20:11:29.784671Z",
     "iopub.status.idle": "2023-01-06T20:11:29.812636Z",
     "shell.execute_reply": "2023-01-06T20:11:29.811288Z"
    },
    "papermill": {
     "duration": 0.038794,
     "end_time": "2023-01-06T20:11:29.815667",
     "exception": false,
     "start_time": "2023-01-06T20:11:29.776873",
     "status": "completed"
    },
    "tags": []
   },
   "outputs": [],
   "source": [
    "def get_bufferbox(lat, long, buffer=500, lat_first=False):\n",
    "    distance_search = distance.distance(meters=buffer)  # 0.5 km around our point of intrest\n",
    "    min_lat = distance_search.destination((lat, long), bearing=180)[0]\n",
    "    min_long = distance_search.destination((lat, long), bearing=270)[1]\n",
    "    max_lat = distance_search.destination((lat, long), bearing=0)[0]\n",
    "    max_long = distance_search.destination((lat, long), bearing=90)[1]\n",
    "    if lat_first == True:\n",
    "        return (min_lat, min_long, max_lat, max_long)     # for ee.Geometry.Rectangle\n",
    "    else:\n",
    "        return (min_long, min_lat, max_long, max_lat)\n",
    "\n",
    "\n",
    "def get_date_n_days_ago(cur_date: str, n_days: int =30) -> str:\n",
    "    return str(cur_date - datetime.timedelta(days=n_days)).split(' ')[0]\n",
    "\n",
    "\n",
    "def get_img_col_in_daterange(\n",
    "    cur_date: str,\n",
    "    wrs_path: int = None,\n",
    "    wrs_row: int = None,\n",
    "    lat_long: tuple=None, \n",
    "    get_neigbh_img: bool = False,   # retrys to get neighbouring imgs (frow wrs path and row) around the box to avoid \"clip error.\"\n",
    "    bands: list = ['B1', 'B2', 'B3', 'B4' ,'B5','B6','B7','B8','B9','B10','B11']\n",
    "    )-> ee.ImageCollection:\n",
    "    \n",
    "    \"\"\"returns img collection of 15 imgs from cur_date to cur_date -16 days contanning given (lat, long)\"\"\"\n",
    "    \n",
    "    if get_neigbh_img == False:\n",
    "        lat, lng = lat_long\n",
    "        img_col = ee.ImageCollection(SATELLITE_COLLECTION\n",
    "          ).filterDate(\n",
    "            start=get_date_n_days_ago(pd.to_datetime(cur_date)),\n",
    "            opt_end=str(cur_date)\n",
    "          ).filterBounds(\n",
    "              ee.Geometry.Point(lng, lat)\n",
    "          ).select(\n",
    "              bands\n",
    "          ).limit(15)\n",
    "\n",
    "    if get_neigbh_img == True:\n",
    "        img_col = ee.ImageCollection(SATELLITE_COLLECTION\n",
    "          ).filterDate(\n",
    "            start=get_date_n_days_ago(pd.to_datetime(cur_date)),\n",
    "            opt_end=str(cur_date)\n",
    "          ).filter(\n",
    "            ee.Filter.eq('WRS_PATH', wrs_path)\n",
    "          ).filter(\n",
    "            ee.Filter.eq('WRS_ROW', wrs_row)\n",
    "          ).select(\n",
    "              bands\n",
    "          ).limit(15)\n",
    "\n",
    "    return img_col  \n",
    "\n",
    "\n",
    "def get_latest_img(img_col: ee.ImageCollection, uid: str = None) -> ee.Image:\n",
    "    \"\"\"returns latest image and it's metadata from collection of images\"\"\"\n",
    "    img_metadata = []\n",
    "    # sort this image collection\n",
    "    if int(img_col.size().getInfo()) >= 1:\n",
    "        # if atleast 1 img in img_col sort by date and get first img\n",
    "        my_img = img_col.limit(1, 'system:time_start', False).first()\n",
    "        \n",
    "        for col in img_metadata_cols:\n",
    "            img_metadata.append(my_img.get(col).getInfo())\n",
    "        return my_img, img_metadata\n",
    "    else:\n",
    "        # print(\"No image found\")\n",
    "        img_notfound.append(uid)\n",
    "        return None, [np.nan]*len(img_metadata_cols)\n",
    "\n",
    "  \n",
    "# convert latest image into array of array bands \n",
    "def get_arr_col_from_img(img: ee.Image, img_metadata: list, lat_long: tuple=None) -> np.array:\n",
    "    if img is not None:\n",
    "        bands = img.bandNames().getInfo()\n",
    "        bbox = get_bufferbox(lat_long[0], lat_long[1], lat_first=False)\n",
    "        bbox = ee.Geometry.Rectangle(bbox)\n",
    "        band_arrs = img.sampleRectangle(bbox)\n",
    "        img_band_col = []\n",
    "        for band in bands:\n",
    "            band_arr = np.array(band_arrs.get(band).getInfo())\n",
    "            if band_arr is not None:\n",
    "                img_band_col.append(band_arr)\n",
    "            else:\n",
    "                img_band_col.append(None)  \n",
    "                return None \n",
    "    return np.array(img_band_col + img_metadata)  # return both img_vals and img_metadata in single write to optimize.\n",
    "\n",
    "\n",
    "# save the band_arr \n",
    "def save_bands(band_col:np.array, uid: str) -> None:\n",
    "    \n",
    "    if os.path.exists(f'{img_folder}') and os.path.isdir(f'{img_folder}'):\n",
    "        joblib.dump(filename=f'{img_folder}/{uid}.npy', value=band_col)\n",
    "    else:\n",
    "        os.makedirs(f'{img_folder}')\n",
    "        joblib.dump(filename=f'{img_folder}/{uid}.npy', value=band_col)\n",
    "\n",
    "\n",
    "def collect_data(uid: str, lat_long: tuple, cur_date:str)-> list:\n",
    "\n",
    "    img_col = get_img_col_in_daterange(cur_date = cur_date, lat_long=lat_long)\n",
    "    try :\n",
    "        my_img, img_metadata = get_latest_img(img_col, uid)\n",
    "        if my_img is not None:  # check if img in img coll\n",
    "            wrs_path, wrs_row = my_img.get('WRS_PATH').getInfo(), my_img.get('WRS_ROW').getInfo()\n",
    "            band_col = get_arr_col_from_img(img=my_img,img_metadata=img_metadata, lat_long=lat_long)\n",
    "            save_bands(band_col, uid)\n",
    "            return band_col\n",
    "        \n",
    "    except Exception as e:\n",
    "        # print('retrying with ngbh imgs')\n",
    "        ngbh_imgs = [\n",
    "            (wrs_path+1, wrs_row-1), \n",
    "            (wrs_path+1, wrs_row), \n",
    "            (wrs_path, wrs_row-1), \n",
    "            (wrs_path, wrs_row+1), \n",
    "            (wrs_path-1, wrs_row), \n",
    "            (wrs_path-1, wrs_row-1)\n",
    "        ]\n",
    "        # iterate over negibouring img patches and try to get the bbox (to avoid clip error)\n",
    "        for ngbh_img in ngbh_imgs:\n",
    "            try:\n",
    "                wrs_path, wrs_row = ngbh_img\n",
    "                img_col = get_img_col_in_daterange(cur_date=cur_date, wrs_path=wrs_path, wrs_row=wrs_row, get_neigbh_img=True)\n",
    "                my_img,img_metadata = get_latest_img(img_col, uid)\n",
    "                band_col = get_arr_col_from_img(my_img=my_img, img_metadata=img_metadata, lat_long=lat_long)\n",
    "                save_bands(band_col, uid)\n",
    "                break\n",
    "            except Exception as f:\n",
    "                band_col = None\n",
    "                err_imgs.append(uid)\n",
    "                errors.append(f)\n",
    "        \n",
    "    return band_col\n"
   ]
  },
  {
   "cell_type": "code",
   "execution_count": 9,
   "id": "de099baf",
   "metadata": {
    "execution": {
     "iopub.execute_input": "2023-01-06T20:11:29.830721Z",
     "iopub.status.busy": "2023-01-06T20:11:29.830212Z",
     "iopub.status.idle": "2023-01-06T20:11:29.838144Z",
     "shell.execute_reply": "2023-01-06T20:11:29.836920Z"
    },
    "papermill": {
     "duration": 0.018687,
     "end_time": "2023-01-06T20:11:29.840864",
     "exception": false,
     "start_time": "2023-01-06T20:11:29.822177",
     "status": "completed"
    },
    "tags": []
   },
   "outputs": [],
   "source": [
    "def collect_data_wrapper(data: pd.Series, n: int):\n",
    "    cur_date = str(data.loc[n, 'date']).split(' ')[0]  # only date needed\n",
    "    uid = data.loc[n, 'uid']\n",
    "    lat_long = tuple(data.loc[n][['latitude', 'longitude']])\n",
    "    \n",
    "    try:\n",
    "        band_col = collect_data(cur_date=cur_date, uid=uid, lat_long=lat_long)\n",
    "    except Exception as e:\n",
    "        err_imgs.append(uid)\n",
    "        errors.append(e)"
   ]
  },
  {
   "cell_type": "code",
   "execution_count": 10,
   "id": "d0a611ef",
   "metadata": {
    "execution": {
     "iopub.execute_input": "2023-01-06T20:11:29.855536Z",
     "iopub.status.busy": "2023-01-06T20:11:29.855138Z",
     "iopub.status.idle": "2023-01-06T20:11:29.867195Z",
     "shell.execute_reply": "2023-01-06T20:11:29.865889Z"
    },
    "papermill": {
     "duration": 0.022944,
     "end_time": "2023-01-06T20:11:29.870194",
     "exception": false,
     "start_time": "2023-01-06T20:11:29.847250",
     "status": "completed"
    },
    "tags": []
   },
   "outputs": [
    {
     "name": "stdout",
     "output_type": "stream",
     "text": [
      "CPU times: user 3.73 ms, sys: 0 ns, total: 3.73 ms\n",
      "Wall time: 3.62 ms\n"
     ]
    }
   ],
   "source": [
    "%%time\n",
    "\n",
    "data = metadata.sample(15).reset_index(drop=True)\n",
    "# data = metadata\n",
    "\n",
    "img_metadata_df = pd.DataFrame(columns=img_metadata_cols) # df to hold gathered imgs' metadata\n",
    "err_imgs = []  # list of uids where img failed!\n",
    "img_notfound = []  # imgs not found even in 30 day period img_col!!\n",
    "errors = [] \n",
    "# allmissed imgs = err_imgs + img_notfound\n",
    "\n",
    "# #  loop through whole dataset and collect imgs : \n",
    "# for n in tqdm(range(data.shape[0]), desc='Collecting Imgs: ', colour='green'):\n",
    "#     collect_data_wrapper(data, n)"
   ]
  },
  {
   "cell_type": "code",
   "execution_count": 11,
   "id": "bc47a7fb",
   "metadata": {
    "execution": {
     "iopub.execute_input": "2023-01-06T20:11:29.885169Z",
     "iopub.status.busy": "2023-01-06T20:11:29.884746Z",
     "iopub.status.idle": "2023-01-06T20:11:41.551647Z",
     "shell.execute_reply": "2023-01-06T20:11:41.550743Z"
    },
    "papermill": {
     "duration": 11.677512,
     "end_time": "2023-01-06T20:11:41.554136",
     "exception": false,
     "start_time": "2023-01-06T20:11:29.876624",
     "status": "completed"
    },
    "tags": []
   },
   "outputs": [
    {
     "name": "stderr",
     "output_type": "stream",
     "text": [
      "Collecting Imgs: 100%|\u001b[32m██████████\u001b[0m| 15/15 [00:05<00:00,  2.64it/s]\n"
     ]
    },
    {
     "name": "stdout",
     "output_type": "stream",
     "text": [
      "CPU times: user 1.38 s, sys: 83.9 ms, total: 1.47 s\n",
      "Wall time: 11.7 s\n"
     ]
    },
    {
     "data": {
      "text/plain": [
       "[None,\n",
       " None,\n",
       " None,\n",
       " None,\n",
       " None,\n",
       " None,\n",
       " None,\n",
       " None,\n",
       " None,\n",
       " None,\n",
       " None,\n",
       " None,\n",
       " None,\n",
       " None,\n",
       " None]"
      ]
     },
     "execution_count": 11,
     "metadata": {},
     "output_type": "execute_result"
    }
   ],
   "source": [
    "%%time\n",
    "\n",
    "# parrllelize shit\n",
    "Parallel(n_jobs=-1,backend='threading')(\n",
    "    delayed(collect_data_wrapper)\n",
    "    (data, n)\n",
    "    for n in tqdm(range(data.shape[0]), desc='Collecting Imgs: ', colour='green')\n",
    ")"
   ]
  },
  {
   "cell_type": "code",
   "execution_count": 12,
   "id": "046a1983",
   "metadata": {
    "execution": {
     "iopub.execute_input": "2023-01-06T20:11:41.570151Z",
     "iopub.status.busy": "2023-01-06T20:11:41.569454Z",
     "iopub.status.idle": "2023-01-06T20:11:41.576483Z",
     "shell.execute_reply": "2023-01-06T20:11:41.575318Z"
    },
    "papermill": {
     "duration": 0.017889,
     "end_time": "2023-01-06T20:11:41.578979",
     "exception": false,
     "start_time": "2023-01-06T20:11:41.561090",
     "status": "completed"
    },
    "tags": []
   },
   "outputs": [
    {
     "data": {
      "text/plain": [
       "[]"
      ]
     },
     "execution_count": 12,
     "metadata": {},
     "output_type": "execute_result"
    }
   ],
   "source": [
    "err_imgs"
   ]
  },
  {
   "cell_type": "code",
   "execution_count": 13,
   "id": "71e85c71",
   "metadata": {
    "execution": {
     "iopub.execute_input": "2023-01-06T20:11:41.594533Z",
     "iopub.status.busy": "2023-01-06T20:11:41.594149Z",
     "iopub.status.idle": "2023-01-06T20:11:41.601248Z",
     "shell.execute_reply": "2023-01-06T20:11:41.600155Z"
    },
    "papermill": {
     "duration": 0.017564,
     "end_time": "2023-01-06T20:11:41.603502",
     "exception": false,
     "start_time": "2023-01-06T20:11:41.585938",
     "status": "completed"
    },
    "tags": []
   },
   "outputs": [
    {
     "data": {
      "text/plain": [
       "[]"
      ]
     },
     "execution_count": 13,
     "metadata": {},
     "output_type": "execute_result"
    }
   ],
   "source": [
    "errors"
   ]
  },
  {
   "cell_type": "code",
   "execution_count": 14,
   "id": "198cd868",
   "metadata": {
    "execution": {
     "iopub.execute_input": "2023-01-06T20:11:41.620078Z",
     "iopub.status.busy": "2023-01-06T20:11:41.619633Z",
     "iopub.status.idle": "2023-01-06T20:11:41.626024Z",
     "shell.execute_reply": "2023-01-06T20:11:41.624862Z"
    },
    "papermill": {
     "duration": 0.017812,
     "end_time": "2023-01-06T20:11:41.628359",
     "exception": false,
     "start_time": "2023-01-06T20:11:41.610547",
     "status": "completed"
    },
    "tags": []
   },
   "outputs": [
    {
     "data": {
      "text/plain": [
       "[]"
      ]
     },
     "execution_count": 14,
     "metadata": {},
     "output_type": "execute_result"
    }
   ],
   "source": [
    "img_notfound"
   ]
  },
  {
   "cell_type": "code",
   "execution_count": 15,
   "id": "d3bb32aa",
   "metadata": {
    "execution": {
     "iopub.execute_input": "2023-01-06T20:11:41.644830Z",
     "iopub.status.busy": "2023-01-06T20:11:41.644397Z",
     "iopub.status.idle": "2023-01-06T20:11:41.651489Z",
     "shell.execute_reply": "2023-01-06T20:11:41.650203Z"
    },
    "papermill": {
     "duration": 0.01859,
     "end_time": "2023-01-06T20:11:41.654035",
     "exception": false,
     "start_time": "2023-01-06T20:11:41.635445",
     "status": "completed"
    },
    "tags": []
   },
   "outputs": [
    {
     "name": "stdout",
     "output_type": "stream",
     "text": [
      "misses: 0\n",
      "Total files pulled: 15\n"
     ]
    }
   ],
   "source": [
    "print(\"misses:\", len(img_notfound) + len(err_imgs))\n",
    "print('Total files pulled:', len(os.listdir(f'/kaggle/working/{img_folder}')))"
   ]
  },
  {
   "cell_type": "code",
   "execution_count": 16,
   "id": "3b8d8df5",
   "metadata": {
    "execution": {
     "iopub.execute_input": "2023-01-06T20:11:41.670334Z",
     "iopub.status.busy": "2023-01-06T20:11:41.669887Z",
     "iopub.status.idle": "2023-01-06T20:11:41.678608Z",
     "shell.execute_reply": "2023-01-06T20:11:41.677362Z"
    },
    "papermill": {
     "duration": 0.019621,
     "end_time": "2023-01-06T20:11:41.680869",
     "exception": false,
     "start_time": "2023-01-06T20:11:41.661248",
     "status": "completed"
    },
    "tags": []
   },
   "outputs": [
    {
     "data": {
      "text/plain": [
       "['errors.joblib']"
      ]
     },
     "execution_count": 16,
     "metadata": {},
     "output_type": "execute_result"
    }
   ],
   "source": [
    "# save files\n",
    "joblib.dump(err_imgs, 'missed_imgs.joblib')\n",
    "joblib.dump(img_notfound, 'imgs_not_found_in_col.joblib')\n",
    "joblib.dump(errors, 'errors.joblib')\n",
    "\n",
    "# img_metadata_df.to_csv(f'{img_folder}/{img_folder}_metadata.csv', index=False)"
   ]
  },
  {
   "cell_type": "code",
   "execution_count": null,
   "id": "32a34c16",
   "metadata": {
    "papermill": {
     "duration": 0.006965,
     "end_time": "2023-01-06T20:11:41.695268",
     "exception": false,
     "start_time": "2023-01-06T20:11:41.688303",
     "status": "completed"
    },
    "tags": []
   },
   "outputs": [],
   "source": []
  }
 ],
 "metadata": {
  "kernelspec": {
   "display_name": "Python 3",
   "language": "python",
   "name": "python3"
  },
  "language_info": {
   "codemirror_mode": {
    "name": "ipython",
    "version": 3
   },
   "file_extension": ".py",
   "mimetype": "text/x-python",
   "name": "python",
   "nbconvert_exporter": "python",
   "pygments_lexer": "ipython3",
   "version": "3.7.12"
  },
  "papermill": {
   "default_parameters": {},
   "duration": 23.673193,
   "end_time": "2023-01-06T20:11:42.425919",
   "environment_variables": {},
   "exception": null,
   "input_path": "__notebook__.ipynb",
   "output_path": "__notebook__.ipynb",
   "parameters": {},
   "start_time": "2023-01-06T20:11:18.752726",
   "version": "2.3.4"
  }
 },
 "nbformat": 4,
 "nbformat_minor": 5
}
