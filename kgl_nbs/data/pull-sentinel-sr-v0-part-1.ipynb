{
 "cells": [
  {
   "cell_type": "markdown",
   "id": "32da189a",
   "metadata": {
    "papermill": {
     "duration": 0.008325,
     "end_time": "2023-01-17T18:57:08.128934",
     "exception": false,
     "start_time": "2023-01-17T18:57:08.120609",
     "status": "completed"
    },
    "tags": []
   },
   "source": [
    "**``sentinel 8 imgs 500x500 m around poi B1 - B11 bands L-1C(TOA) imgs this time.``**\n",
    "\n",
    "## Notes\n",
    "\n",
    "- dataset_v0"
   ]
  },
  {
   "cell_type": "code",
   "execution_count": 1,
   "id": "cf806b49",
   "metadata": {
    "execution": {
     "iopub.execute_input": "2023-01-17T18:57:08.145951Z",
     "iopub.status.busy": "2023-01-17T18:57:08.145159Z",
     "iopub.status.idle": "2023-01-17T18:57:08.153820Z",
     "shell.execute_reply": "2023-01-17T18:57:08.152453Z"
    },
    "papermill": {
     "duration": 0.020837,
     "end_time": "2023-01-17T18:57:08.156983",
     "exception": false,
     "start_time": "2023-01-17T18:57:08.136146",
     "status": "completed"
    },
    "tags": []
   },
   "outputs": [],
   "source": [
    "# ! pip install psycopg2-binary\n",
    "# ! pip install postgres\n",
    "\n",
    "# # # ! sudo apt install libpq-dev python3-dev \n",
    "# # ! sudo apt-get install libpq-dev python-dev -y --fix-missing\n",
    "\n",
    "\n",
    "# ! sudo apt-get install postgresql-server-dev-all -y\n",
    "# ! sudo apt-get install postgresql-common -y\n",
    "\n",
    "\n",
    "# ! pip install datacube rioxarray odc-cloud\n",
    "# ! pip install geopandas --upgrade\n",
    "\n",
    "# this shit ain't working!"
   ]
  },
  {
   "cell_type": "markdown",
   "id": "1fec2f85",
   "metadata": {
    "papermill": {
     "duration": 0.006297,
     "end_time": "2023-01-17T18:57:08.170006",
     "exception": false,
     "start_time": "2023-01-17T18:57:08.163709",
     "status": "completed"
    },
    "tags": []
   },
   "source": [
    "# Load metadata and dependencies"
   ]
  },
  {
   "cell_type": "markdown",
   "id": "5478f29e",
   "metadata": {
    "papermill": {
     "duration": 0.006781,
     "end_time": "2023-01-17T18:57:08.183552",
     "exception": false,
     "start_time": "2023-01-17T18:57:08.176771",
     "status": "completed"
    },
    "tags": []
   },
   "source": [
    "## Connect with earth engine"
   ]
  },
  {
   "cell_type": "code",
   "execution_count": 2,
   "id": "b296768a",
   "metadata": {
    "execution": {
     "iopub.execute_input": "2023-01-17T18:57:08.198834Z",
     "iopub.status.busy": "2023-01-17T18:57:08.198335Z",
     "iopub.status.idle": "2023-01-17T18:57:09.963409Z",
     "shell.execute_reply": "2023-01-17T18:57:09.962018Z"
    },
    "papermill": {
     "duration": 1.776344,
     "end_time": "2023-01-17T18:57:09.966545",
     "exception": false,
     "start_time": "2023-01-17T18:57:08.190201",
     "status": "completed"
    },
    "tags": []
   },
   "outputs": [],
   "source": [
    "import ee\n",
    "from kaggle_secrets import UserSecretsClient\n",
    "\n",
    "user_secrets = UserSecretsClient()\n",
    "service_account = user_secrets.get_secret(\"google_service_account\")\n",
    "json_key_path = '/kaggle/input/gc-json-key/ticktickbloom-project-000e9745b830-json-key.json'\n",
    "credentials = ee.ServiceAccountCredentials(service_account, json_key_path)\n",
    "\n",
    "ee.Initialize(credentials)"
   ]
  },
  {
   "cell_type": "markdown",
   "id": "4a3ffc4c",
   "metadata": {
    "papermill": {
     "duration": 0.006144,
     "end_time": "2023-01-17T18:57:09.979354",
     "exception": false,
     "start_time": "2023-01-17T18:57:09.973210",
     "status": "completed"
    },
    "tags": []
   },
   "source": [
    "# Import data laoding and manipulating libs"
   ]
  },
  {
   "cell_type": "code",
   "execution_count": 3,
   "id": "4778d293",
   "metadata": {
    "execution": {
     "iopub.execute_input": "2023-01-17T18:57:09.994615Z",
     "iopub.status.busy": "2023-01-17T18:57:09.994101Z",
     "iopub.status.idle": "2023-01-17T18:57:10.224815Z",
     "shell.execute_reply": "2023-01-17T18:57:10.223382Z"
    },
    "papermill": {
     "duration": 0.242237,
     "end_time": "2023-01-17T18:57:10.228113",
     "exception": false,
     "start_time": "2023-01-17T18:57:09.985876",
     "status": "completed"
    },
    "tags": []
   },
   "outputs": [],
   "source": [
    "import datetime\n",
    "import os\n",
    "import sys\n",
    "\n",
    "import pandas as pd\n",
    "import numpy as np\n",
    "import matplotlib.pyplot as plt\n",
    "from tqdm import tqdm\n",
    "import joblib\n",
    "from joblib import Parallel, delayed\n",
    "\n",
    "import geopy.distance as distance\n",
    "\n",
    "import warnings\n",
    "warnings.filterwarnings('ignore')"
   ]
  },
  {
   "cell_type": "code",
   "execution_count": 4,
   "id": "614c15e2",
   "metadata": {
    "execution": {
     "iopub.execute_input": "2023-01-17T18:57:10.243430Z",
     "iopub.status.busy": "2023-01-17T18:57:10.242693Z",
     "iopub.status.idle": "2023-01-17T18:57:10.354695Z",
     "shell.execute_reply": "2023-01-17T18:57:10.353337Z"
    },
    "papermill": {
     "duration": 0.123064,
     "end_time": "2023-01-17T18:57:10.357734",
     "exception": false,
     "start_time": "2023-01-17T18:57:10.234670",
     "status": "completed"
    },
    "tags": []
   },
   "outputs": [],
   "source": [
    "metadata = pd.read_csv('/kaggle/input/ticktickbloomdataset/metadata.csv')\n",
    "sub_format = pd.read_csv('/kaggle/input/ticktickbloomdataset/submission_format.csv')\n",
    "train_labels = pd.read_csv('/kaggle/input/ticktickbloomdataset/train_labels.csv')"
   ]
  },
  {
   "cell_type": "code",
   "execution_count": 5,
   "id": "a2e0596f",
   "metadata": {
    "execution": {
     "iopub.execute_input": "2023-01-17T18:57:10.374628Z",
     "iopub.status.busy": "2023-01-17T18:57:10.374071Z",
     "iopub.status.idle": "2023-01-17T18:57:10.428261Z",
     "shell.execute_reply": "2023-01-17T18:57:10.426959Z"
    },
    "papermill": {
     "duration": 0.065285,
     "end_time": "2023-01-17T18:57:10.431373",
     "exception": false,
     "start_time": "2023-01-17T18:57:10.366088",
     "status": "completed"
    },
    "tags": []
   },
   "outputs": [
    {
     "data": {
      "text/html": [
       "<div>\n",
       "<style scoped>\n",
       "    .dataframe tbody tr th:only-of-type {\n",
       "        vertical-align: middle;\n",
       "    }\n",
       "\n",
       "    .dataframe tbody tr th {\n",
       "        vertical-align: top;\n",
       "    }\n",
       "\n",
       "    .dataframe thead th {\n",
       "        text-align: right;\n",
       "    }\n",
       "</style>\n",
       "<table border=\"1\" class=\"dataframe\">\n",
       "  <thead>\n",
       "    <tr style=\"text-align: right;\">\n",
       "      <th></th>\n",
       "      <th>uid</th>\n",
       "      <th>latitude</th>\n",
       "      <th>longitude</th>\n",
       "      <th>date</th>\n",
       "      <th>split</th>\n",
       "    </tr>\n",
       "  </thead>\n",
       "  <tbody>\n",
       "    <tr>\n",
       "      <th>6540</th>\n",
       "      <td>hfvr</td>\n",
       "      <td>36.796200</td>\n",
       "      <td>-121.782000</td>\n",
       "      <td>2021-12-29</td>\n",
       "      <td>test</td>\n",
       "    </tr>\n",
       "    <tr>\n",
       "      <th>6864</th>\n",
       "      <td>howu</td>\n",
       "      <td>36.708500</td>\n",
       "      <td>-121.749000</td>\n",
       "      <td>2021-12-29</td>\n",
       "      <td>test</td>\n",
       "    </tr>\n",
       "    <tr>\n",
       "      <th>12443</th>\n",
       "      <td>nsoi</td>\n",
       "      <td>36.736800</td>\n",
       "      <td>-121.734000</td>\n",
       "      <td>2021-12-29</td>\n",
       "      <td>test</td>\n",
       "    </tr>\n",
       "    <tr>\n",
       "      <th>14254</th>\n",
       "      <td>prfi</td>\n",
       "      <td>36.751800</td>\n",
       "      <td>-121.742000</td>\n",
       "      <td>2021-12-29</td>\n",
       "      <td>test</td>\n",
       "    </tr>\n",
       "    <tr>\n",
       "      <th>17559</th>\n",
       "      <td>thki</td>\n",
       "      <td>36.725400</td>\n",
       "      <td>-121.730000</td>\n",
       "      <td>2021-12-29</td>\n",
       "      <td>test</td>\n",
       "    </tr>\n",
       "    <tr>\n",
       "      <th>...</th>\n",
       "      <td>...</td>\n",
       "      <td>...</td>\n",
       "      <td>...</td>\n",
       "      <td>...</td>\n",
       "      <td>...</td>\n",
       "    </tr>\n",
       "    <tr>\n",
       "      <th>5317</th>\n",
       "      <td>fwbt</td>\n",
       "      <td>44.850500</td>\n",
       "      <td>-93.515700</td>\n",
       "      <td>2013-01-04</td>\n",
       "      <td>train</td>\n",
       "    </tr>\n",
       "    <tr>\n",
       "      <th>5566</th>\n",
       "      <td>gdxr</td>\n",
       "      <td>44.877646</td>\n",
       "      <td>-93.557842</td>\n",
       "      <td>2013-01-04</td>\n",
       "      <td>train</td>\n",
       "    </tr>\n",
       "    <tr>\n",
       "      <th>6144</th>\n",
       "      <td>guny</td>\n",
       "      <td>44.878889</td>\n",
       "      <td>-93.490833</td>\n",
       "      <td>2013-01-04</td>\n",
       "      <td>train</td>\n",
       "    </tr>\n",
       "    <tr>\n",
       "      <th>13644</th>\n",
       "      <td>paev</td>\n",
       "      <td>44.822478</td>\n",
       "      <td>-93.367962</td>\n",
       "      <td>2013-01-04</td>\n",
       "      <td>train</td>\n",
       "    </tr>\n",
       "    <tr>\n",
       "      <th>4387</th>\n",
       "      <td>evep</td>\n",
       "      <td>44.847993</td>\n",
       "      <td>-93.476318</td>\n",
       "      <td>2013-01-04</td>\n",
       "      <td>train</td>\n",
       "    </tr>\n",
       "  </tbody>\n",
       "</table>\n",
       "<p>23570 rows × 5 columns</p>\n",
       "</div>"
      ],
      "text/plain": [
       "        uid   latitude   longitude       date  split\n",
       "6540   hfvr  36.796200 -121.782000 2021-12-29   test\n",
       "6864   howu  36.708500 -121.749000 2021-12-29   test\n",
       "12443  nsoi  36.736800 -121.734000 2021-12-29   test\n",
       "14254  prfi  36.751800 -121.742000 2021-12-29   test\n",
       "17559  thki  36.725400 -121.730000 2021-12-29   test\n",
       "...     ...        ...         ...        ...    ...\n",
       "5317   fwbt  44.850500  -93.515700 2013-01-04  train\n",
       "5566   gdxr  44.877646  -93.557842 2013-01-04  train\n",
       "6144   guny  44.878889  -93.490833 2013-01-04  train\n",
       "13644  paev  44.822478  -93.367962 2013-01-04  train\n",
       "4387   evep  44.847993  -93.476318 2013-01-04  train\n",
       "\n",
       "[23570 rows x 5 columns]"
      ]
     },
     "execution_count": 5,
     "metadata": {},
     "output_type": "execute_result"
    }
   ],
   "source": [
    "metadata.date = pd.to_datetime(metadata.date)\n",
    "metadata.sort_values(by='date', ascending=False)"
   ]
  },
  {
   "cell_type": "markdown",
   "id": "b8800e9f",
   "metadata": {
    "papermill": {
     "duration": 0.006297,
     "end_time": "2023-01-17T18:57:10.444290",
     "exception": false,
     "start_time": "2023-01-17T18:57:10.437993",
     "status": "completed"
    },
    "tags": []
   },
   "source": [
    "# Define config "
   ]
  },
  {
   "cell_type": "code",
   "execution_count": 6,
   "id": "1df49300",
   "metadata": {
    "execution": {
     "iopub.execute_input": "2023-01-17T18:57:10.459544Z",
     "iopub.status.busy": "2023-01-17T18:57:10.459032Z",
     "iopub.status.idle": "2023-01-17T18:57:10.466451Z",
     "shell.execute_reply": "2023-01-17T18:57:10.465136Z"
    },
    "papermill": {
     "duration": 0.018189,
     "end_time": "2023-01-17T18:57:10.469055",
     "exception": false,
     "start_time": "2023-01-17T18:57:10.450866",
     "status": "completed"
    },
    "tags": []
   },
   "outputs": [],
   "source": [
    "SATELLITE_COLLECTION = 'COPERNICUS/S2_HARMONIZED'\n",
    "\n",
    "\n",
    "img_folder = 'sentinel-l1c_500m_v0'\n",
    "\n",
    "# img_metadata_cols = ['CLOUD_COVER', 'CLOUD_COVER_LAND', 'IMAGE_QUALITY_OLI', 'IMAGE_QUALITY_TIRS', 'DATE_ACQUIRED']\n",
    "img_metadata_cols = ['CLOUDY_PIXEL_PERCENTAGE']\n",
    "\n",
    "# sentinel l1c (toa) bands\n",
    "BANDS = [\n",
    "    'B1',\n",
    "    'B2',\n",
    "    'B3',\n",
    "    'B4',\n",
    "    'B5',\n",
    "    'B6',\n",
    "    'B7',\n",
    "    'B8',\n",
    "    'B8A',\n",
    "    'B9',\n",
    "    'B10',\n",
    "    'B11',\n",
    "    'B12'\n",
    "        ]"
   ]
  },
  {
   "cell_type": "markdown",
   "id": "1f44305f",
   "metadata": {
    "papermill": {
     "duration": 0.006275,
     "end_time": "2023-01-17T18:57:10.482032",
     "exception": false,
     "start_time": "2023-01-17T18:57:10.475757",
     "status": "completed"
    },
    "tags": []
   },
   "source": [
    "# Collect data"
   ]
  },
  {
   "cell_type": "code",
   "execution_count": 7,
   "id": "49896d12",
   "metadata": {
    "execution": {
     "iopub.execute_input": "2023-01-17T18:57:10.497834Z",
     "iopub.status.busy": "2023-01-17T18:57:10.497257Z",
     "iopub.status.idle": "2023-01-17T18:57:10.530805Z",
     "shell.execute_reply": "2023-01-17T18:57:10.529229Z"
    },
    "papermill": {
     "duration": 0.044973,
     "end_time": "2023-01-17T18:57:10.533639",
     "exception": false,
     "start_time": "2023-01-17T18:57:10.488666",
     "status": "completed"
    },
    "tags": []
   },
   "outputs": [],
   "source": [
    "def get_bufferbox(lat: float, long: float, buffer: float = 500, lat_first: bool = False):\n",
    "    distance_search = distance.distance(meters=buffer)  # 0.5 km around our point of intrest\n",
    "    min_lat = distance_search.destination((lat, long), bearing=180)[0]\n",
    "    min_long = distance_search.destination((lat, long), bearing=270)[1]\n",
    "    max_lat = distance_search.destination((lat, long), bearing=0)[0]\n",
    "    max_long = distance_search.destination((lat, long), bearing=90)[1]\n",
    "    if lat_first == True:\n",
    "        # not the way for ee\n",
    "        return (min_lat, min_long, max_lat, max_long)     # for ee.Geometry.Rectangle\n",
    "    else:\n",
    "        return (min_long, min_lat, max_long, max_lat)\n",
    "\n",
    "\n",
    "def get_date_n_days_ago(cur_date: str, n_days: int =30) -> str:\n",
    "    return str(cur_date - datetime.timedelta(days=n_days)).split(' ')[0]\n",
    "\n",
    "\n",
    "def get_img_col_in_daterange(\n",
    "    cur_date: str,\n",
    "    wrs_path: int = None,\n",
    "    wrs_row: int = None,\n",
    "    lat_long: tuple=None, \n",
    "    get_neigbh_img: bool = False,   # retrys to get neighbouring imgs (frow wrs path and row) around the box to avoid \"clip error.\"\n",
    "    bands: list = BANDS\n",
    "    )-> ee.ImageCollection:\n",
    "    \n",
    "    \"\"\"returns img collection of 15 imgs from cur_date to cur_date -16 days contanning given (lat, long)\"\"\"\n",
    "    \n",
    "    if get_neigbh_img == False:\n",
    "        lat, lng = lat_long\n",
    "        img_col = ee.ImageCollection(SATELLITE_COLLECTION\n",
    "          ).filterDate(\n",
    "            start=get_date_n_days_ago(pd.to_datetime(cur_date)),\n",
    "            opt_end=str(cur_date)\n",
    "          ).filterBounds(\n",
    "              ee.Geometry.Point(lng, lat)\n",
    "          ).select(\n",
    "              bands\n",
    "          ).limit(15)\n",
    "\n",
    "    if get_neigbh_img == True:\n",
    "        img_col = ee.ImageCollection(SATELLITE_COLLECTION\n",
    "          ).filterDate(\n",
    "            start=get_date_n_days_ago(pd.to_datetime(cur_date)),\n",
    "            opt_end=str(cur_date)\n",
    "          ).filter(\n",
    "            ee.Filter.eq('WRS_PATH', wrs_path)\n",
    "          ).filter(\n",
    "            ee.Filter.eq('WRS_ROW', wrs_row)\n",
    "          ).select(\n",
    "              bands\n",
    "          ).limit(15)\n",
    "\n",
    "    return img_col  \n",
    "\n",
    "\n",
    "def get_latest_img(img_col: ee.ImageCollection, uid: str = None) -> ee.Image:\n",
    "    \"\"\"returns latest image and it's metadata from collection of images\"\"\"\n",
    "    img_metadata = []\n",
    "    # sort this image collection\n",
    "    if int(img_col.size().getInfo()) >= 1:\n",
    "        # if atleast 1 img in img_col sort by date and get first img\n",
    "        my_img = img_col.limit(1, 'system:time_start', False).first()\n",
    "        \n",
    "        for col in img_metadata_cols:\n",
    "            img_metadata.append(my_img.get(col).getInfo())\n",
    "        return my_img, img_metadata\n",
    "    else:\n",
    "        #  no images in collection\n",
    "        return None, [np.nan]*len(img_metadata_cols)\n",
    "\n",
    "  \n",
    "# convert latest image into array of array bands \n",
    "def get_arr_col_from_img(img: ee.Image, img_metadata: list, lat_long: tuple=None) -> np.array:\n",
    "    if img is not None:\n",
    "        bands = img.bandNames().getInfo()\n",
    "        bbox = get_bufferbox(lat_long[0], lat_long[1], lat_first=False)\n",
    "        bbox = ee.Geometry.Rectangle(bbox)\n",
    "        band_arrs = img.sampleRectangle(bbox)\n",
    "        img_band_col = []\n",
    "        for band in bands:\n",
    "            band_arr = np.array(band_arrs.get(band).getInfo())\n",
    "            if band_arr is not None:\n",
    "                img_band_col.append(band_arr)\n",
    "            else:\n",
    "                img_band_col.append(None)  \n",
    "                return None\n",
    "    else:\n",
    "        return None\n",
    "        pass\n",
    "\n",
    "    return np.array(img_band_col + img_metadata)  # return both img_vals and img_metadata in single write to optimize.\n",
    "\n",
    "\n",
    "# save the band_arr \n",
    "def save_bands(band_col:np.array, uid: str) -> None:\n",
    "    \n",
    "    if os.path.exists(f'{img_folder}') and os.path.isdir(f'{img_folder}'):\n",
    "        joblib.dump(filename=f'{img_folder}/{uid}.npy', value=band_col)\n",
    "    else:\n",
    "        os.makedirs(f'{img_folder}')\n",
    "        joblib.dump(filename=f'{img_folder}/{uid}.npy', value=band_col)\n",
    "\n",
    "\n",
    "def collect_data(uid: str, lat_long: tuple, cur_date:str)-> None:\n",
    "    \"\"\"\n",
    "    1. get past date to search from\n",
    "    2. get the ee.ImageCollection in that daterange and in given lat_long\n",
    "    3. \n",
    "      3.1 if there is atleast one get latest img from the collection .\n",
    "        3.1.1 Try: converting latest img to np. arrays\n",
    "          ---> SAVE\n",
    "        3.1.2 if clipping error Try: neigbh imgs\n",
    "          ---> SAVE\n",
    "        3.1.3 error in neigbh imgs append uid to error_imgs return\n",
    "      3.2 else append uid to img_not_found and return\n",
    "    \"\"\"\n",
    "    img_col = get_img_col_in_daterange(cur_date = cur_date, lat_long=lat_long)\n",
    "    try :\n",
    "        my_img, img_metadata = get_latest_img(img_col, uid)\n",
    "        if my_img is not None: \n",
    "            wrs_path, wrs_row = my_img.get('WRS_PATH').getInfo(), my_img.get('WRS_ROW').getInfo()\n",
    "            band_col = get_arr_col_from_img(img=my_img,img_metadata=img_metadata, lat_long=lat_long)\n",
    "            save_bands(band_col, uid)\n",
    "            # lazy_save_dict['uid'] = band_col\n",
    "            # lazy_save_band_cols.append(band_col)\n",
    "            # lazy_save_band_uids.append(uid)\n",
    "    \n",
    "        else:\n",
    "          # add uid to img_not_found\n",
    "          img_not_found.append(uid)\n",
    "          # print('img is None')\n",
    "          return None\n",
    "\n",
    "    except Exception as e:\n",
    "        ## retries to get req bbox from neighbouring images\n",
    "        # retry_collect_data(uid=uid, lat_long=lat_long, cur_date=cur_date, wrs_path=wrs_path, wrs_row=wrs_row)\n",
    "        print(e)\n",
    "\n",
    "\n",
    "def retry_collect_data(uid: str, lat_long: tuple, cur_date:str, wrs_path: int, wrs_row: int) -> None:\n",
    "    # print('retrying with ngbh imgs ...')\n",
    "    ngbh_imgs = [\n",
    "        (wrs_path+1, wrs_row-1), \n",
    "        (wrs_path+1, wrs_row), \n",
    "        (wrs_path, wrs_row-1), \n",
    "        (wrs_path, wrs_row+1), \n",
    "        (wrs_path-1, wrs_row), \n",
    "        (wrs_path-1, wrs_row-1)\n",
    "    ]\n",
    "    # iterate over negibouring img patches and try to get the bbox (to avoid clip error)\n",
    "    for ngbh_img in ngbh_imgs:\n",
    "        wrs_path, wrs_row = ngbh_img\n",
    "        try:\n",
    "            img_col = get_img_col_in_daterange(cur_date=cur_date, wrs_path=wrs_path, wrs_row=wrs_row, get_neigbh_img=True)\n",
    "            my_img, img_metadata = get_latest_img(img_col, uid)\n",
    "            if my_img is not None:\n",
    "                band_col = get_arr_col_from_img(img=my_img, img_metadata=img_metadata, lat_long=lat_long)\n",
    "                save_bands(band_col, uid)\n",
    "                ## lazy save\n",
    "                # lazy_save_dict['uid'] = band_col\n",
    "                # lazy_save_band_cols.append(band_col)\n",
    "                # lazy_save_band_uids.append(uid)\n",
    "                break\n",
    "            if (my_img is None) and (ngbh_img == ngbh_imgs[-1]):\n",
    "                # if no img in collection and this is the last img_patch add it to img_not_found\n",
    "                img_not_found.append(uid)\n",
    "                return None\n",
    "\n",
    "        except Exception as f:\n",
    "            if (ngbh_img == ngbh_imgs[-1]):\n",
    "                err_imgs.append(uid)\n",
    "                errors.append(f)\n",
    "                print(f)\n",
    "          "
   ]
  },
  {
   "cell_type": "code",
   "execution_count": 8,
   "id": "f6c926f6",
   "metadata": {
    "execution": {
     "iopub.execute_input": "2023-01-17T18:57:10.548924Z",
     "iopub.status.busy": "2023-01-17T18:57:10.548409Z",
     "iopub.status.idle": "2023-01-17T18:57:10.556055Z",
     "shell.execute_reply": "2023-01-17T18:57:10.554893Z"
    },
    "papermill": {
     "duration": 0.018215,
     "end_time": "2023-01-17T18:57:10.558483",
     "exception": false,
     "start_time": "2023-01-17T18:57:10.540268",
     "status": "completed"
    },
    "tags": []
   },
   "outputs": [],
   "source": [
    "def collect_data_wrapper(data: pd.Series, n: int):\n",
    "    cur_date = str(data.loc[n, 'date']).split(' ')[0]  # only date needed\n",
    "    uid = data.loc[n, 'uid']\n",
    "    lat_long = tuple(data.loc[n][['latitude', 'longitude']])\n",
    "    \n",
    "    try:\n",
    "        collect_data(cur_date=cur_date, uid=uid, lat_long=lat_long)\n",
    "    except Exception as e:\n",
    "        err_imgs.append(uid)\n",
    "        errors.append(e)\n",
    "        print(e)"
   ]
  },
  {
   "cell_type": "code",
   "execution_count": 9,
   "id": "38994cf5",
   "metadata": {
    "execution": {
     "iopub.execute_input": "2023-01-17T18:57:10.574462Z",
     "iopub.status.busy": "2023-01-17T18:57:10.573976Z",
     "iopub.status.idle": "2023-01-17T18:57:10.595060Z",
     "shell.execute_reply": "2023-01-17T18:57:10.593865Z"
    },
    "papermill": {
     "duration": 0.033689,
     "end_time": "2023-01-17T18:57:10.599156",
     "exception": false,
     "start_time": "2023-01-17T18:57:10.565467",
     "status": "completed"
    },
    "tags": []
   },
   "outputs": [
    {
     "name": "stdout",
     "output_type": "stream",
     "text": [
      "total samples: 10000\n",
      "CPU times: user 11.6 ms, sys: 1.86 ms, total: 13.5 ms\n",
      "Wall time: 12.9 ms\n"
     ]
    }
   ],
   "source": [
    "%%time\n",
    "\n",
    "dataset_avail_date = '2015-06-23'\n",
    "\n",
    "# data = metadata.sample(20).reset_index(drop=True)\n",
    "sorted_data = metadata.sort_values(by='date')\n",
    "data = sorted_data[sorted_data.date >= dataset_avail_date].reset_index(drop=True)\n",
    "data = data[:10_000]\n",
    "\n",
    "# img_metadata_df = pd.DataFrame(columns=img_metadata_cols) # df to hold gathered imgs' metadata\n",
    "err_imgs = []         # img found but failed to extract bbox arrays!\n",
    "errors = []           # corresponding errors of err_imgs\n",
    "img_not_found = []    # No single img in img_col!!\n",
    "\n",
    "lazy_save_dict = {}\n",
    "\n",
    "lazy_save_band_cols = []\n",
    "lazy_save_band_uids = []\n",
    "\n",
    "print(\"total samples:\", data.shape[0])\n",
    "# allmissed imgs = err_imgs + img_notfound"
   ]
  },
  {
   "cell_type": "code",
   "execution_count": 10,
   "id": "305b3325",
   "metadata": {
    "execution": {
     "iopub.execute_input": "2023-01-17T18:57:10.615746Z",
     "iopub.status.busy": "2023-01-17T18:57:10.615301Z",
     "iopub.status.idle": "2023-01-17T18:57:10.623410Z",
     "shell.execute_reply": "2023-01-17T18:57:10.622067Z"
    },
    "papermill": {
     "duration": 0.019294,
     "end_time": "2023-01-17T18:57:10.626070",
     "exception": false,
     "start_time": "2023-01-17T18:57:10.606776",
     "status": "completed"
    },
    "tags": []
   },
   "outputs": [
    {
     "data": {
      "text/plain": [
       "(10000, 5)"
      ]
     },
     "execution_count": 10,
     "metadata": {},
     "output_type": "execute_result"
    }
   ],
   "source": [
    "data.shape"
   ]
  },
  {
   "cell_type": "code",
   "execution_count": 11,
   "id": "2b8e531f",
   "metadata": {
    "execution": {
     "iopub.execute_input": "2023-01-17T18:57:10.642513Z",
     "iopub.status.busy": "2023-01-17T18:57:10.642058Z",
     "iopub.status.idle": "2023-01-17T18:57:10.647454Z",
     "shell.execute_reply": "2023-01-17T18:57:10.646300Z"
    },
    "papermill": {
     "duration": 0.016332,
     "end_time": "2023-01-17T18:57:10.649866",
     "exception": false,
     "start_time": "2023-01-17T18:57:10.633534",
     "status": "completed"
    },
    "tags": []
   },
   "outputs": [],
   "source": [
    "# %%time\n",
    "\n",
    "# #  loop through whole dataset and collect imgs : \n",
    "# for n in tqdm(range(data.shape[0]), desc='Collecting Imgs: ', colour='green'):\n",
    "#     collect_data_wrapper(data, n)"
   ]
  },
  {
   "cell_type": "code",
   "execution_count": 12,
   "id": "1a61b741",
   "metadata": {
    "execution": {
     "iopub.execute_input": "2023-01-17T18:57:10.666113Z",
     "iopub.status.busy": "2023-01-17T18:57:10.665501Z",
     "iopub.status.idle": "2023-01-17T21:55:33.970265Z",
     "shell.execute_reply": "2023-01-17T21:55:33.968260Z"
    },
    "papermill": {
     "duration": 10703.316151,
     "end_time": "2023-01-17T21:55:33.973234",
     "exception": false,
     "start_time": "2023-01-17T18:57:10.657083",
     "status": "completed"
    },
    "tags": []
   },
   "outputs": [
    {
     "name": "stdout",
     "output_type": "stream",
     "text": [
      "10000\n"
     ]
    },
    {
     "name": "stderr",
     "output_type": "stream",
     "text": [
      "Collecting Imgs:  11%|\u001b[32m█         \u001b[0m| 1100/10000 [02:10<14:57,  9.92it/s]"
     ]
    },
    {
     "name": "stdout",
     "output_type": "stream",
     "text": [
      "Image.sampleRectangle: Fully masked pixels / pixels outside of the image footprint when sampling band 'B10' with no default value set. Note that calling sampleRectangle() on an image after ee.Image.clip() may result in a sampling bounding box outside the geometry passed to clip().\n"
     ]
    },
    {
     "name": "stderr",
     "output_type": "stream",
     "text": [
      "Collecting Imgs:  13%|\u001b[32m█▎        \u001b[0m| 1324/10000 [02:57<1:58:12,  1.22it/s]"
     ]
    },
    {
     "name": "stdout",
     "output_type": "stream",
     "text": [
      "Image.sampleRectangle: Fully masked pixels / pixels outside of the image footprint when sampling band 'B10' with no default value set. Note that calling sampleRectangle() on an image after ee.Image.clip() may result in a sampling bounding box outside the geometry passed to clip().\n",
      "Image.sampleRectangle: Fully masked pixels / pixels outside of the image footprint when sampling band 'B11' with no default value set. Note that calling sampleRectangle() on an image after ee.Image.clip() may result in a sampling bounding box outside the geometry passed to clip().\n"
     ]
    },
    {
     "name": "stderr",
     "output_type": "stream",
     "text": [
      "Collecting Imgs:  13%|\u001b[32m█▎        \u001b[0m| 1328/10000 [02:59<1:49:14,  1.32it/s]"
     ]
    },
    {
     "name": "stdout",
     "output_type": "stream",
     "text": [
      "Image.sampleRectangle: Fully masked pixels / pixels outside of the image footprint when sampling band 'B4' with no default value set. Note that calling sampleRectangle() on an image after ee.Image.clip() may result in a sampling bounding box outside the geometry passed to clip().\n",
      "Image.sampleRectangle: Fully masked pixels / pixels outside of the image footprint when sampling band 'B2' with no default value set. Note that calling sampleRectangle() on an image after ee.Image.clip() may result in a sampling bounding box outside the geometry passed to clip().\n"
     ]
    },
    {
     "name": "stderr",
     "output_type": "stream",
     "text": [
      "Collecting Imgs:  13%|\u001b[32m█▎        \u001b[0m| 1332/10000 [03:04<2:04:38,  1.16it/s]"
     ]
    },
    {
     "name": "stdout",
     "output_type": "stream",
     "text": [
      "Image.sampleRectangle: Fully masked pixels / pixels outside of the image footprint when sampling band 'B1' with no default value set. Note that calling sampleRectangle() on an image after ee.Image.clip() may result in a sampling bounding box outside the geometry passed to clip().\n"
     ]
    },
    {
     "name": "stderr",
     "output_type": "stream",
     "text": [
      "Collecting Imgs:  13%|\u001b[32m█▎        \u001b[0m| 1344/10000 [03:08<1:23:27,  1.73it/s]"
     ]
    },
    {
     "name": "stdout",
     "output_type": "stream",
     "text": [
      "Image.sampleRectangle: Fully masked pixels / pixels outside of the image footprint when sampling band 'B5' with no default value set. Note that calling sampleRectangle() on an image after ee.Image.clip() may result in a sampling bounding box outside the geometry passed to clip().\n"
     ]
    },
    {
     "name": "stderr",
     "output_type": "stream",
     "text": [
      "Collecting Imgs:  14%|\u001b[32m█▎        \u001b[0m| 1352/10000 [03:11<1:07:56,  2.12it/s]"
     ]
    },
    {
     "name": "stdout",
     "output_type": "stream",
     "text": [
      "Image.sampleRectangle: Fully masked pixels / pixels outside of the image footprint when sampling band 'B1' with no default value set. Note that calling sampleRectangle() on an image after ee.Image.clip() may result in a sampling bounding box outside the geometry passed to clip().\n"
     ]
    },
    {
     "name": "stderr",
     "output_type": "stream",
     "text": [
      "Collecting Imgs:  14%|\u001b[32m█▎        \u001b[0m| 1356/10000 [03:14<1:21:33,  1.77it/s]"
     ]
    },
    {
     "name": "stdout",
     "output_type": "stream",
     "text": [
      "Image.sampleRectangle: Fully masked pixels / pixels outside of the image footprint when sampling band 'B2' with no default value set. Note that calling sampleRectangle() on an image after ee.Image.clip() may result in a sampling bounding box outside the geometry passed to clip().\n"
     ]
    },
    {
     "name": "stderr",
     "output_type": "stream",
     "text": [
      "Collecting Imgs:  15%|\u001b[32m█▍        \u001b[0m| 1464/10000 [05:00<2:43:09,  1.15s/it]"
     ]
    },
    {
     "name": "stdout",
     "output_type": "stream",
     "text": [
      "Image.sampleRectangle: Fully masked pixels / pixels outside of the image footprint when sampling band 'B2' with no default value set. Note that calling sampleRectangle() on an image after ee.Image.clip() may result in a sampling bounding box outside the geometry passed to clip().\n"
     ]
    },
    {
     "name": "stderr",
     "output_type": "stream",
     "text": [
      "Collecting Imgs:  16%|\u001b[32m█▌        \u001b[0m| 1584/10000 [07:14<2:33:55,  1.10s/it]"
     ]
    },
    {
     "name": "stdout",
     "output_type": "stream",
     "text": [
      "Image.sampleRectangle: Fully masked pixels / pixels outside of the image footprint when sampling band 'B10' with no default value set. Note that calling sampleRectangle() on an image after ee.Image.clip() may result in a sampling bounding box outside the geometry passed to clip().\n"
     ]
    },
    {
     "name": "stderr",
     "output_type": "stream",
     "text": [
      "Collecting Imgs:  17%|\u001b[32m█▋        \u001b[0m| 1664/10000 [08:36<2:22:09,  1.02s/it]"
     ]
    },
    {
     "name": "stdout",
     "output_type": "stream",
     "text": [
      "Image.sampleRectangle: Fully masked pixels / pixels outside of the image footprint when sampling band 'B1' with no default value set. Note that calling sampleRectangle() on an image after ee.Image.clip() may result in a sampling bounding box outside the geometry passed to clip().\n"
     ]
    },
    {
     "name": "stderr",
     "output_type": "stream",
     "text": [
      "Collecting Imgs:  17%|\u001b[32m█▋        \u001b[0m| 1692/10000 [09:08<2:37:58,  1.14s/it]"
     ]
    },
    {
     "name": "stdout",
     "output_type": "stream",
     "text": [
      "Image.sampleRectangle: Fully masked pixels / pixels outside of the image footprint when sampling band 'B12' with no default value set. Note that calling sampleRectangle() on an image after ee.Image.clip() may result in a sampling bounding box outside the geometry passed to clip().\n"
     ]
    },
    {
     "name": "stderr",
     "output_type": "stream",
     "text": [
      "Collecting Imgs:  17%|\u001b[32m█▋        \u001b[0m| 1744/10000 [10:07<2:33:42,  1.12s/it]"
     ]
    },
    {
     "name": "stdout",
     "output_type": "stream",
     "text": [
      "Image.sampleRectangle: Fully masked pixels / pixels outside of the image footprint when sampling band 'B2' with no default value set. Note that calling sampleRectangle() on an image after ee.Image.clip() may result in a sampling bounding box outside the geometry passed to clip().\n"
     ]
    },
    {
     "name": "stderr",
     "output_type": "stream",
     "text": [
      "Collecting Imgs:  19%|\u001b[32m█▊        \u001b[0m| 1860/10000 [11:45<1:32:14,  1.47it/s]"
     ]
    },
    {
     "name": "stdout",
     "output_type": "stream",
     "text": [
      "Image.sampleRectangle: Fully masked pixels / pixels outside of the image footprint when sampling band 'B7' with no default value set. Note that calling sampleRectangle() on an image after ee.Image.clip() may result in a sampling bounding box outside the geometry passed to clip().\n"
     ]
    },
    {
     "name": "stderr",
     "output_type": "stream",
     "text": [
      "Collecting Imgs:  19%|\u001b[32m█▉        \u001b[0m| 1892/10000 [12:18<2:26:39,  1.09s/it]"
     ]
    },
    {
     "name": "stdout",
     "output_type": "stream",
     "text": [
      "Image.sampleRectangle: Fully masked pixels / pixels outside of the image footprint when sampling band 'B10' with no default value set. Note that calling sampleRectangle() on an image after ee.Image.clip() may result in a sampling bounding box outside the geometry passed to clip().\n",
      "Image.sampleRectangle: Fully masked pixels / pixels outside of the image footprint when sampling band 'B10' with no default value set. Note that calling sampleRectangle() on an image after ee.Image.clip() may result in a sampling bounding box outside the geometry passed to clip().\n"
     ]
    },
    {
     "name": "stderr",
     "output_type": "stream",
     "text": [
      "Collecting Imgs:  19%|\u001b[32m█▉        \u001b[0m| 1896/10000 [12:21<2:08:31,  1.05it/s]"
     ]
    },
    {
     "name": "stdout",
     "output_type": "stream",
     "text": [
      "Image.sampleRectangle: Fully masked pixels / pixels outside of the image footprint when sampling band 'B10' with no default value set. Note that calling sampleRectangle() on an image after ee.Image.clip() may result in a sampling bounding box outside the geometry passed to clip().\n"
     ]
    },
    {
     "name": "stderr",
     "output_type": "stream",
     "text": [
      "Collecting Imgs:  19%|\u001b[32m█▉        \u001b[0m| 1904/10000 [12:27<1:51:19,  1.21it/s]"
     ]
    },
    {
     "name": "stdout",
     "output_type": "stream",
     "text": [
      "Image.sampleRectangle: Fully masked pixels / pixels outside of the image footprint when sampling band 'B11' with no default value set. Note that calling sampleRectangle() on an image after ee.Image.clip() may result in a sampling bounding box outside the geometry passed to clip().\n"
     ]
    },
    {
     "name": "stderr",
     "output_type": "stream",
     "text": [
      "Collecting Imgs:  21%|\u001b[32m██        \u001b[0m| 2060/10000 [13:43<2:15:57,  1.03s/it]"
     ]
    },
    {
     "name": "stdout",
     "output_type": "stream",
     "text": [
      "Image.sampleRectangle: Fully masked pixels / pixels outside of the image footprint when sampling band 'B8' with no default value set. Note that calling sampleRectangle() on an image after ee.Image.clip() may result in a sampling bounding box outside the geometry passed to clip().\n"
     ]
    },
    {
     "name": "stderr",
     "output_type": "stream",
     "text": [
      "Collecting Imgs:  23%|\u001b[32m██▎       \u001b[0m| 2296/10000 [17:52<2:18:20,  1.08s/it]"
     ]
    },
    {
     "name": "stdout",
     "output_type": "stream",
     "text": [
      "Image.sampleRectangle: Fully masked pixels / pixels outside of the image footprint when sampling band 'B4' with no default value set. Note that calling sampleRectangle() on an image after ee.Image.clip() may result in a sampling bounding box outside the geometry passed to clip().\n"
     ]
    },
    {
     "name": "stderr",
     "output_type": "stream",
     "text": [
      "Collecting Imgs:  23%|\u001b[32m██▎       \u001b[0m| 2320/10000 [18:16<2:12:06,  1.03s/it]"
     ]
    },
    {
     "name": "stdout",
     "output_type": "stream",
     "text": [
      "Image.sampleRectangle: Fully masked pixels / pixels outside of the image footprint when sampling band 'B4' with no default value set. Note that calling sampleRectangle() on an image after ee.Image.clip() may result in a sampling bounding box outside the geometry passed to clip().\n"
     ]
    },
    {
     "name": "stderr",
     "output_type": "stream",
     "text": [
      "Collecting Imgs:  25%|\u001b[32m██▌       \u001b[0m| 2548/10000 [22:13<2:07:51,  1.03s/it]"
     ]
    },
    {
     "name": "stdout",
     "output_type": "stream",
     "text": [
      "Image.sampleRectangle: Fully masked pixels / pixels outside of the image footprint when sampling band 'B3' with no default value set. Note that calling sampleRectangle() on an image after ee.Image.clip() may result in a sampling bounding box outside the geometry passed to clip().\n"
     ]
    },
    {
     "name": "stderr",
     "output_type": "stream",
     "text": [
      "Collecting Imgs:  27%|\u001b[32m██▋       \u001b[0m| 2724/10000 [25:15<2:05:38,  1.04s/it]"
     ]
    },
    {
     "name": "stdout",
     "output_type": "stream",
     "text": [
      "Image.sampleRectangle: Fully masked pixels / pixels outside of the image footprint when sampling band 'B11' with no default value set. Note that calling sampleRectangle() on an image after ee.Image.clip() may result in a sampling bounding box outside the geometry passed to clip().\n"
     ]
    },
    {
     "name": "stderr",
     "output_type": "stream",
     "text": [
      "Collecting Imgs:  27%|\u001b[32m██▋       \u001b[0m| 2732/10000 [25:24<2:08:33,  1.06s/it]"
     ]
    },
    {
     "name": "stdout",
     "output_type": "stream",
     "text": [
      "Image.sampleRectangle: Fully masked pixels / pixels outside of the image footprint when sampling band 'B11' with no default value set. Note that calling sampleRectangle() on an image after ee.Image.clip() may result in a sampling bounding box outside the geometry passed to clip().\n"
     ]
    },
    {
     "name": "stderr",
     "output_type": "stream",
     "text": [
      "Collecting Imgs:  27%|\u001b[32m██▋       \u001b[0m| 2736/10000 [25:25<1:38:58,  1.22it/s]"
     ]
    },
    {
     "name": "stdout",
     "output_type": "stream",
     "text": [
      "Image.sampleRectangle: Fully masked pixels / pixels outside of the image footprint when sampling band 'B3' with no default value set. Note that calling sampleRectangle() on an image after ee.Image.clip() may result in a sampling bounding box outside the geometry passed to clip().\n",
      "Image.sampleRectangle: Fully masked pixels / pixels outside of the image footprint when sampling band 'B2' with no default value set. Note that calling sampleRectangle() on an image after ee.Image.clip() may result in a sampling bounding box outside the geometry passed to clip().\n",
      "Image.sampleRectangle: Fully masked pixels / pixels outside of the image footprint when sampling band 'B3' with no default value set. Note that calling sampleRectangle() on an image after ee.Image.clip() may result in a sampling bounding box outside the geometry passed to clip().\n"
     ]
    },
    {
     "name": "stderr",
     "output_type": "stream",
     "text": [
      "Collecting Imgs:  27%|\u001b[32m██▋       \u001b[0m| 2748/10000 [25:30<1:11:40,  1.69it/s]"
     ]
    },
    {
     "name": "stdout",
     "output_type": "stream",
     "text": [
      "Image.sampleRectangle: Fully masked pixels / pixels outside of the image footprint when sampling band 'B3' with no default value set. Note that calling sampleRectangle() on an image after ee.Image.clip() may result in a sampling bounding box outside the geometry passed to clip().\n",
      "Image.sampleRectangle: Fully masked pixels / pixels outside of the image footprint when sampling band 'B2' with no default value set. Note that calling sampleRectangle() on an image after ee.Image.clip() may result in a sampling bounding box outside the geometry passed to clip().\n"
     ]
    },
    {
     "name": "stderr",
     "output_type": "stream",
     "text": [
      "Collecting Imgs:  28%|\u001b[32m██▊       \u001b[0m| 2752/10000 [25:33<1:12:48,  1.66it/s]"
     ]
    },
    {
     "name": "stdout",
     "output_type": "stream",
     "text": [
      "Image.sampleRectangle: Fully masked pixels / pixels outside of the image footprint when sampling band 'B1' with no default value set. Note that calling sampleRectangle() on an image after ee.Image.clip() may result in a sampling bounding box outside the geometry passed to clip().\n",
      "Image.sampleRectangle: Fully masked pixels / pixels outside of the image footprint when sampling band 'B2' with no default value set. Note that calling sampleRectangle() on an image after ee.Image.clip() may result in a sampling bounding box outside the geometry passed to clip().\n"
     ]
    },
    {
     "name": "stderr",
     "output_type": "stream",
     "text": [
      "Collecting Imgs:  28%|\u001b[32m██▊       \u001b[0m| 2760/10000 [25:41<1:33:00,  1.30it/s]"
     ]
    },
    {
     "name": "stdout",
     "output_type": "stream",
     "text": [
      "Image.sampleRectangle: Fully masked pixels / pixels outside of the image footprint when sampling band 'B1' with no default value set. Note that calling sampleRectangle() on an image after ee.Image.clip() may result in a sampling bounding box outside the geometry passed to clip().\n",
      "Image.sampleRectangle: Fully masked pixels / pixels outside of the image footprint when sampling band 'B2' with no default value set. Note that calling sampleRectangle() on an image after ee.Image.clip() may result in a sampling bounding box outside the geometry passed to clip().\n"
     ]
    },
    {
     "name": "stderr",
     "output_type": "stream",
     "text": [
      "Collecting Imgs:  28%|\u001b[32m██▊       \u001b[0m| 2764/10000 [25:42<1:20:01,  1.51it/s]"
     ]
    },
    {
     "name": "stdout",
     "output_type": "stream",
     "text": [
      "Image.sampleRectangle: Fully masked pixels / pixels outside of the image footprint when sampling band 'B1' with no default value set. Note that calling sampleRectangle() on an image after ee.Image.clip() may result in a sampling bounding box outside the geometry passed to clip().\n"
     ]
    },
    {
     "name": "stderr",
     "output_type": "stream",
     "text": [
      "Collecting Imgs:  30%|\u001b[32m██▉       \u001b[0m| 2992/10000 [27:12<1:12:47,  1.60it/s]"
     ]
    },
    {
     "name": "stdout",
     "output_type": "stream",
     "text": [
      "Image.sampleRectangle: Fully masked pixels / pixels outside of the image footprint when sampling band 'B8A' with no default value set. Note that calling sampleRectangle() on an image after ee.Image.clip() may result in a sampling bounding box outside the geometry passed to clip().\n"
     ]
    },
    {
     "name": "stderr",
     "output_type": "stream",
     "text": [
      "Collecting Imgs:  30%|\u001b[32m███       \u001b[0m| 3012/10000 [27:32<1:49:11,  1.07it/s]"
     ]
    },
    {
     "name": "stdout",
     "output_type": "stream",
     "text": [
      "Image.sampleRectangle: Fully masked pixels / pixels outside of the image footprint when sampling band 'B1' with no default value set. Note that calling sampleRectangle() on an image after ee.Image.clip() may result in a sampling bounding box outside the geometry passed to clip().\n"
     ]
    },
    {
     "name": "stderr",
     "output_type": "stream",
     "text": [
      "Collecting Imgs:  31%|\u001b[32m███       \u001b[0m| 3072/10000 [28:34<1:55:47,  1.00s/it]"
     ]
    },
    {
     "name": "stdout",
     "output_type": "stream",
     "text": [
      "Image.sampleRectangle: Fully masked pixels / pixels outside of the image footprint when sampling band 'B9' with no default value set. Note that calling sampleRectangle() on an image after ee.Image.clip() may result in a sampling bounding box outside the geometry passed to clip().\n"
     ]
    },
    {
     "name": "stderr",
     "output_type": "stream",
     "text": [
      "Collecting Imgs:  31%|\u001b[32m███       \u001b[0m| 3076/10000 [28:37<1:54:37,  1.01it/s]"
     ]
    },
    {
     "name": "stdout",
     "output_type": "stream",
     "text": [
      "Image.sampleRectangle: Fully masked pixels / pixels outside of the image footprint when sampling band 'B5' with no default value set. Note that calling sampleRectangle() on an image after ee.Image.clip() may result in a sampling bounding box outside the geometry passed to clip().\n"
     ]
    },
    {
     "name": "stderr",
     "output_type": "stream",
     "text": [
      "Collecting Imgs:  33%|\u001b[32m███▎      \u001b[0m| 3336/10000 [33:02<1:57:15,  1.06s/it]"
     ]
    },
    {
     "name": "stdout",
     "output_type": "stream",
     "text": [
      "Image.sampleRectangle: Fully masked pixels / pixels outside of the image footprint when sampling band 'B8A' with no default value set. Note that calling sampleRectangle() on an image after ee.Image.clip() may result in a sampling bounding box outside the geometry passed to clip().\n"
     ]
    },
    {
     "name": "stderr",
     "output_type": "stream",
     "text": [
      "Collecting Imgs:  35%|\u001b[32m███▍      \u001b[0m| 3452/10000 [35:07<2:26:15,  1.34s/it]"
     ]
    },
    {
     "name": "stdout",
     "output_type": "stream",
     "text": [
      "Image.sampleRectangle: Fully masked pixels / pixels outside of the image footprint when sampling band 'B7' with no default value set. Note that calling sampleRectangle() on an image after ee.Image.clip() may result in a sampling bounding box outside the geometry passed to clip().\n"
     ]
    },
    {
     "name": "stderr",
     "output_type": "stream",
     "text": [
      "Collecting Imgs:  35%|\u001b[32m███▍      \u001b[0m| 3456/10000 [35:12<2:18:33,  1.27s/it]"
     ]
    },
    {
     "name": "stdout",
     "output_type": "stream",
     "text": [
      "Image.sampleRectangle: Fully masked pixels / pixels outside of the image footprint when sampling band 'B9' with no default value set. Note that calling sampleRectangle() on an image after ee.Image.clip() may result in a sampling bounding box outside the geometry passed to clip().\n"
     ]
    },
    {
     "name": "stderr",
     "output_type": "stream",
     "text": [
      "Collecting Imgs:  38%|\u001b[32m███▊      \u001b[0m| 3768/10000 [41:15<1:57:27,  1.13s/it]"
     ]
    },
    {
     "name": "stdout",
     "output_type": "stream",
     "text": [
      "Image.sampleRectangle: Fully masked pixels / pixels outside of the image footprint when sampling band 'B11' with no default value set. Note that calling sampleRectangle() on an image after ee.Image.clip() may result in a sampling bounding box outside the geometry passed to clip().\n"
     ]
    },
    {
     "name": "stderr",
     "output_type": "stream",
     "text": [
      "Collecting Imgs:  39%|\u001b[32m███▉      \u001b[0m| 3900/10000 [44:09<2:17:35,  1.35s/it]"
     ]
    },
    {
     "name": "stdout",
     "output_type": "stream",
     "text": [
      "Image.sampleRectangle: Fully masked pixels / pixels outside of the image footprint when sampling band 'B2' with no default value set. Note that calling sampleRectangle() on an image after ee.Image.clip() may result in a sampling bounding box outside the geometry passed to clip().\n"
     ]
    },
    {
     "name": "stderr",
     "output_type": "stream",
     "text": [
      "Collecting Imgs:  43%|\u001b[32m████▎     \u001b[0m| 4252/10000 [52:50<2:58:02,  1.86s/it]"
     ]
    },
    {
     "name": "stdout",
     "output_type": "stream",
     "text": [
      "Image.sampleRectangle: Fully masked pixels / pixels outside of the image footprint when sampling band 'B12' with no default value set. Note that calling sampleRectangle() on an image after ee.Image.clip() may result in a sampling bounding box outside the geometry passed to clip().\n"
     ]
    },
    {
     "name": "stderr",
     "output_type": "stream",
     "text": [
      "Collecting Imgs:  45%|\u001b[32m████▌     \u001b[0m| 4516/10000 [58:03<1:31:47,  1.00s/it]"
     ]
    },
    {
     "name": "stdout",
     "output_type": "stream",
     "text": [
      "Image.sampleRectangle: Fully masked pixels / pixels outside of the image footprint when sampling band 'B12' with no default value set. Note that calling sampleRectangle() on an image after ee.Image.clip() may result in a sampling bounding box outside the geometry passed to clip().\n"
     ]
    },
    {
     "name": "stderr",
     "output_type": "stream",
     "text": [
      "Collecting Imgs:  46%|\u001b[32m████▌     \u001b[0m| 4580/10000 [59:26<1:44:06,  1.15s/it]"
     ]
    },
    {
     "name": "stdout",
     "output_type": "stream",
     "text": [
      "Image.sampleRectangle: Fully masked pixels / pixels outside of the image footprint when sampling band 'B3' with no default value set. Note that calling sampleRectangle() on an image after ee.Image.clip() may result in a sampling bounding box outside the geometry passed to clip().\n"
     ]
    },
    {
     "name": "stderr",
     "output_type": "stream",
     "text": [
      "Collecting Imgs:  47%|\u001b[32m████▋     \u001b[0m| 4712/10000 [1:01:55<1:42:15,  1.16s/it]"
     ]
    },
    {
     "name": "stdout",
     "output_type": "stream",
     "text": [
      "Image.sampleRectangle: Fully masked pixels / pixels outside of the image footprint when sampling band 'B10' with no default value set. Note that calling sampleRectangle() on an image after ee.Image.clip() may result in a sampling bounding box outside the geometry passed to clip().\n"
     ]
    },
    {
     "name": "stderr",
     "output_type": "stream",
     "text": [
      "Collecting Imgs:  49%|\u001b[32m████▉     \u001b[0m| 4912/10000 [1:05:27<1:33:29,  1.10s/it]"
     ]
    },
    {
     "name": "stdout",
     "output_type": "stream",
     "text": [
      "Image.sampleRectangle: Fully masked pixels / pixels outside of the image footprint when sampling band 'B12' with no default value set. Note that calling sampleRectangle() on an image after ee.Image.clip() may result in a sampling bounding box outside the geometry passed to clip().\n"
     ]
    },
    {
     "name": "stderr",
     "output_type": "stream",
     "text": [
      "Collecting Imgs:  51%|\u001b[32m█████     \u001b[0m| 5096/10000 [1:08:56<1:30:24,  1.11s/it]"
     ]
    },
    {
     "name": "stdout",
     "output_type": "stream",
     "text": [
      "Image.sampleRectangle: Fully masked pixels / pixels outside of the image footprint when sampling band 'B1' with no default value set. Note that calling sampleRectangle() on an image after ee.Image.clip() may result in a sampling bounding box outside the geometry passed to clip().\n"
     ]
    },
    {
     "name": "stderr",
     "output_type": "stream",
     "text": [
      "Collecting Imgs:  54%|\u001b[32m█████▎    \u001b[0m| 5356/10000 [1:13:30<1:17:56,  1.01s/it]"
     ]
    },
    {
     "name": "stdout",
     "output_type": "stream",
     "text": [
      "Image.sampleRectangle: Fully masked pixels / pixels outside of the image footprint when sampling band 'B2' with no default value set. Note that calling sampleRectangle() on an image after ee.Image.clip() may result in a sampling bounding box outside the geometry passed to clip().\n"
     ]
    },
    {
     "name": "stderr",
     "output_type": "stream",
     "text": [
      "Collecting Imgs:  55%|\u001b[32m█████▍    \u001b[0m| 5452/10000 [1:15:24<1:09:14,  1.09it/s]"
     ]
    },
    {
     "name": "stdout",
     "output_type": "stream",
     "text": [
      "Image.sampleRectangle: Fully masked pixels / pixels outside of the image footprint when sampling band 'B10' with no default value set. Note that calling sampleRectangle() on an image after ee.Image.clip() may result in a sampling bounding box outside the geometry passed to clip().\n"
     ]
    },
    {
     "name": "stderr",
     "output_type": "stream",
     "text": [
      "Collecting Imgs:  56%|\u001b[32m█████▌    \u001b[0m| 5552/10000 [1:17:04<1:02:30,  1.19it/s]"
     ]
    },
    {
     "name": "stdout",
     "output_type": "stream",
     "text": [
      "Image.sampleRectangle: Fully masked pixels / pixels outside of the image footprint when sampling band 'B5' with no default value set. Note that calling sampleRectangle() on an image after ee.Image.clip() may result in a sampling bounding box outside the geometry passed to clip().\n"
     ]
    },
    {
     "name": "stderr",
     "output_type": "stream",
     "text": [
      "Collecting Imgs:  56%|\u001b[32m█████▌    \u001b[0m| 5616/10000 [1:18:08<1:11:13,  1.03it/s]"
     ]
    },
    {
     "name": "stdout",
     "output_type": "stream",
     "text": [
      "Image.sampleRectangle: Fully masked pixels / pixels outside of the image footprint when sampling band 'B1' with no default value set. Note that calling sampleRectangle() on an image after ee.Image.clip() may result in a sampling bounding box outside the geometry passed to clip().\n",
      "Image.sampleRectangle: Fully masked pixels / pixels outside of the image footprint when sampling band 'B2' with no default value set. Note that calling sampleRectangle() on an image after ee.Image.clip() may result in a sampling bounding box outside the geometry passed to clip().\n",
      "Image.sampleRectangle: Fully masked pixels / pixels outside of the image footprint when sampling band 'B2' with no default value set. Note that calling sampleRectangle() on an image after ee.Image.clip() may result in a sampling bounding box outside the geometry passed to clip().\n"
     ]
    },
    {
     "name": "stderr",
     "output_type": "stream",
     "text": [
      "Collecting Imgs:  56%|\u001b[32m█████▌    \u001b[0m| 5620/10000 [1:18:11<1:03:47,  1.14it/s]"
     ]
    },
    {
     "name": "stdout",
     "output_type": "stream",
     "text": [
      "Image.sampleRectangle: Fully masked pixels / pixels outside of the image footprint when sampling band 'B4' with no default value set. Note that calling sampleRectangle() on an image after ee.Image.clip() may result in a sampling bounding box outside the geometry passed to clip().\n"
     ]
    },
    {
     "name": "stderr",
     "output_type": "stream",
     "text": [
      "Collecting Imgs:  56%|\u001b[32m█████▌    \u001b[0m| 5624/10000 [1:18:14<1:01:15,  1.19it/s]"
     ]
    },
    {
     "name": "stdout",
     "output_type": "stream",
     "text": [
      "Image.sampleRectangle: Fully masked pixels / pixels outside of the image footprint when sampling band 'B8' with no default value set. Note that calling sampleRectangle() on an image after ee.Image.clip() may result in a sampling bounding box outside the geometry passed to clip().\n"
     ]
    },
    {
     "name": "stderr",
     "output_type": "stream",
     "text": [
      "Collecting Imgs:  56%|\u001b[32m█████▋    \u001b[0m| 5628/10000 [1:18:17<1:03:40,  1.14it/s]"
     ]
    },
    {
     "name": "stdout",
     "output_type": "stream",
     "text": [
      "Image.sampleRectangle: Fully masked pixels / pixels outside of the image footprint when sampling band 'B3' with no default value set. Note that calling sampleRectangle() on an image after ee.Image.clip() may result in a sampling bounding box outside the geometry passed to clip().\n"
     ]
    },
    {
     "name": "stderr",
     "output_type": "stream",
     "text": [
      "Collecting Imgs:  56%|\u001b[32m█████▋    \u001b[0m| 5636/10000 [1:18:26<1:10:52,  1.03it/s]"
     ]
    },
    {
     "name": "stdout",
     "output_type": "stream",
     "text": [
      "Image.sampleRectangle: Fully masked pixels / pixels outside of the image footprint when sampling band 'B4' with no default value set. Note that calling sampleRectangle() on an image after ee.Image.clip() may result in a sampling bounding box outside the geometry passed to clip().\n"
     ]
    },
    {
     "name": "stderr",
     "output_type": "stream",
     "text": [
      "Collecting Imgs:  56%|\u001b[32m█████▋    \u001b[0m| 5640/10000 [1:18:30<1:09:40,  1.04it/s]"
     ]
    },
    {
     "name": "stdout",
     "output_type": "stream",
     "text": [
      "Image.sampleRectangle: Fully masked pixels / pixels outside of the image footprint when sampling band 'B1' with no default value set. Note that calling sampleRectangle() on an image after ee.Image.clip() may result in a sampling bounding box outside the geometry passed to clip().\n"
     ]
    },
    {
     "name": "stderr",
     "output_type": "stream",
     "text": [
      "Collecting Imgs:  56%|\u001b[32m█████▋    \u001b[0m| 5644/10000 [1:18:32<1:00:32,  1.20it/s]"
     ]
    },
    {
     "name": "stdout",
     "output_type": "stream",
     "text": [
      "Image.sampleRectangle: Fully masked pixels / pixels outside of the image footprint when sampling band 'B2' with no default value set. Note that calling sampleRectangle() on an image after ee.Image.clip() may result in a sampling bounding box outside the geometry passed to clip().\n"
     ]
    },
    {
     "name": "stderr",
     "output_type": "stream",
     "text": [
      "Collecting Imgs:  56%|\u001b[32m█████▋    \u001b[0m| 5648/10000 [1:18:36<1:04:50,  1.12it/s]"
     ]
    },
    {
     "name": "stdout",
     "output_type": "stream",
     "text": [
      "Image.sampleRectangle: Fully masked pixels / pixels outside of the image footprint when sampling band 'B4' with no default value set. Note that calling sampleRectangle() on an image after ee.Image.clip() may result in a sampling bounding box outside the geometry passed to clip().\n"
     ]
    },
    {
     "name": "stderr",
     "output_type": "stream",
     "text": [
      "Collecting Imgs:  57%|\u001b[32m█████▋    \u001b[0m| 5652/10000 [1:18:38<57:40,  1.26it/s]  "
     ]
    },
    {
     "name": "stdout",
     "output_type": "stream",
     "text": [
      "Image.sampleRectangle: Fully masked pixels / pixels outside of the image footprint when sampling band 'B1' with no default value set. Note that calling sampleRectangle() on an image after ee.Image.clip() may result in a sampling bounding box outside the geometry passed to clip().\n"
     ]
    },
    {
     "name": "stderr",
     "output_type": "stream",
     "text": [
      "Collecting Imgs:  57%|\u001b[32m█████▋    \u001b[0m| 5656/10000 [1:18:42<58:58,  1.23it/s]"
     ]
    },
    {
     "name": "stdout",
     "output_type": "stream",
     "text": [
      "Image.sampleRectangle: Fully masked pixels / pixels outside of the image footprint when sampling band 'B4' with no default value set. Note that calling sampleRectangle() on an image after ee.Image.clip() may result in a sampling bounding box outside the geometry passed to clip().\n"
     ]
    },
    {
     "name": "stderr",
     "output_type": "stream",
     "text": [
      "Collecting Imgs:  57%|\u001b[32m█████▋    \u001b[0m| 5672/10000 [1:18:57<1:08:19,  1.06it/s]"
     ]
    },
    {
     "name": "stdout",
     "output_type": "stream",
     "text": [
      "Image.sampleRectangle: Fully masked pixels / pixels outside of the image footprint when sampling band 'B2' with no default value set. Note that calling sampleRectangle() on an image after ee.Image.clip() may result in a sampling bounding box outside the geometry passed to clip().\n"
     ]
    },
    {
     "name": "stderr",
     "output_type": "stream",
     "text": [
      "Collecting Imgs:  57%|\u001b[32m█████▋    \u001b[0m| 5676/10000 [1:19:00<59:26,  1.21it/s]  "
     ]
    },
    {
     "name": "stdout",
     "output_type": "stream",
     "text": [
      "Image.sampleRectangle: Fully masked pixels / pixels outside of the image footprint when sampling band 'B10' with no default value set. Note that calling sampleRectangle() on an image after ee.Image.clip() may result in a sampling bounding box outside the geometry passed to clip().\n"
     ]
    },
    {
     "name": "stderr",
     "output_type": "stream",
     "text": [
      "Collecting Imgs:  57%|\u001b[32m█████▋    \u001b[0m| 5680/10000 [1:19:02<57:13,  1.26it/s]"
     ]
    },
    {
     "name": "stdout",
     "output_type": "stream",
     "text": [
      "Image.sampleRectangle: Fully masked pixels / pixels outside of the image footprint when sampling band 'B12' with no default value set. Note that calling sampleRectangle() on an image after ee.Image.clip() may result in a sampling bounding box outside the geometry passed to clip().\n"
     ]
    },
    {
     "name": "stderr",
     "output_type": "stream",
     "text": [
      "Collecting Imgs:  57%|\u001b[32m█████▋    \u001b[0m| 5696/10000 [1:19:18<1:07:19,  1.07it/s]"
     ]
    },
    {
     "name": "stdout",
     "output_type": "stream",
     "text": [
      "Image.sampleRectangle: Fully masked pixels / pixels outside of the image footprint when sampling band 'B1' with no default value set. Note that calling sampleRectangle() on an image after ee.Image.clip() may result in a sampling bounding box outside the geometry passed to clip().\n"
     ]
    },
    {
     "name": "stderr",
     "output_type": "stream",
     "text": [
      "Collecting Imgs:  57%|\u001b[32m█████▋    \u001b[0m| 5712/10000 [1:19:34<1:08:51,  1.04it/s]"
     ]
    },
    {
     "name": "stdout",
     "output_type": "stream",
     "text": [
      "Image.sampleRectangle: Fully masked pixels / pixels outside of the image footprint when sampling band 'B9' with no default value set. Note that calling sampleRectangle() on an image after ee.Image.clip() may result in a sampling bounding box outside the geometry passed to clip().\n"
     ]
    },
    {
     "name": "stderr",
     "output_type": "stream",
     "text": [
      "Collecting Imgs:  57%|\u001b[32m█████▋    \u001b[0m| 5720/10000 [1:19:40<1:03:30,  1.12it/s]"
     ]
    },
    {
     "name": "stdout",
     "output_type": "stream",
     "text": [
      "Image.sampleRectangle: Fully masked pixels / pixels outside of the image footprint when sampling band 'B1' with no default value set. Note that calling sampleRectangle() on an image after ee.Image.clip() may result in a sampling bounding box outside the geometry passed to clip().\n"
     ]
    },
    {
     "name": "stderr",
     "output_type": "stream",
     "text": [
      "Collecting Imgs:  58%|\u001b[32m█████▊    \u001b[0m| 5800/10000 [1:20:58<1:10:28,  1.01s/it]"
     ]
    },
    {
     "name": "stdout",
     "output_type": "stream",
     "text": [
      "Image.sampleRectangle: Fully masked pixels / pixels outside of the image footprint when sampling band 'B2' with no default value set. Note that calling sampleRectangle() on an image after ee.Image.clip() may result in a sampling bounding box outside the geometry passed to clip().\n"
     ]
    },
    {
     "name": "stderr",
     "output_type": "stream",
     "text": [
      "Collecting Imgs:  59%|\u001b[32m█████▊    \u001b[0m| 5856/10000 [1:21:51<1:06:50,  1.03it/s]"
     ]
    },
    {
     "name": "stdout",
     "output_type": "stream",
     "text": [
      "Image.sampleRectangle: Fully masked pixels / pixels outside of the image footprint when sampling band 'B2' with no default value set. Note that calling sampleRectangle() on an image after ee.Image.clip() may result in a sampling bounding box outside the geometry passed to clip().\n"
     ]
    },
    {
     "name": "stderr",
     "output_type": "stream",
     "text": [
      "Collecting Imgs:  59%|\u001b[32m█████▊    \u001b[0m| 5872/10000 [1:22:07<1:06:55,  1.03it/s]"
     ]
    },
    {
     "name": "stdout",
     "output_type": "stream",
     "text": [
      "Image.sampleRectangle: Fully masked pixels / pixels outside of the image footprint when sampling band 'B2' with no default value set. Note that calling sampleRectangle() on an image after ee.Image.clip() may result in a sampling bounding box outside the geometry passed to clip().\n"
     ]
    },
    {
     "name": "stderr",
     "output_type": "stream",
     "text": [
      "Collecting Imgs:  59%|\u001b[32m█████▉    \u001b[0m| 5888/10000 [1:22:21<1:03:42,  1.08it/s]"
     ]
    },
    {
     "name": "stdout",
     "output_type": "stream",
     "text": [
      "Image.sampleRectangle: Fully masked pixels / pixels outside of the image footprint when sampling band 'B2' with no default value set. Note that calling sampleRectangle() on an image after ee.Image.clip() may result in a sampling bounding box outside the geometry passed to clip().\n"
     ]
    },
    {
     "name": "stderr",
     "output_type": "stream",
     "text": [
      "Collecting Imgs:  60%|\u001b[32m█████▉    \u001b[0m| 5956/10000 [1:23:28<59:28,  1.13it/s]  "
     ]
    },
    {
     "name": "stdout",
     "output_type": "stream",
     "text": [
      "Image.sampleRectangle: Fully masked pixels / pixels outside of the image footprint when sampling band 'B2' with no default value set. Note that calling sampleRectangle() on an image after ee.Image.clip() may result in a sampling bounding box outside the geometry passed to clip().\n"
     ]
    },
    {
     "name": "stderr",
     "output_type": "stream",
     "text": [
      "Collecting Imgs:  61%|\u001b[32m██████    \u001b[0m| 6068/10000 [1:25:27<1:11:25,  1.09s/it]"
     ]
    },
    {
     "name": "stdout",
     "output_type": "stream",
     "text": [
      "Image.sampleRectangle: Fully masked pixels / pixels outside of the image footprint when sampling band 'B7' with no default value set. Note that calling sampleRectangle() on an image after ee.Image.clip() may result in a sampling bounding box outside the geometry passed to clip().\n"
     ]
    },
    {
     "name": "stderr",
     "output_type": "stream",
     "text": [
      "Collecting Imgs:  61%|\u001b[32m██████    \u001b[0m| 6080/10000 [1:25:39<1:09:35,  1.07s/it]"
     ]
    },
    {
     "name": "stdout",
     "output_type": "stream",
     "text": [
      "Image.sampleRectangle: Fully masked pixels / pixels outside of the image footprint when sampling band 'B3' with no default value set. Note that calling sampleRectangle() on an image after ee.Image.clip() may result in a sampling bounding box outside the geometry passed to clip().\n"
     ]
    },
    {
     "name": "stderr",
     "output_type": "stream",
     "text": [
      "Collecting Imgs:  61%|\u001b[32m██████    \u001b[0m| 6084/10000 [1:25:42<1:03:34,  1.03it/s]"
     ]
    },
    {
     "name": "stdout",
     "output_type": "stream",
     "text": [
      "Image.sampleRectangle: Fully masked pixels / pixels outside of the image footprint when sampling band 'B6' with no default value set. Note that calling sampleRectangle() on an image after ee.Image.clip() may result in a sampling bounding box outside the geometry passed to clip().\n"
     ]
    },
    {
     "name": "stderr",
     "output_type": "stream",
     "text": [
      "Collecting Imgs:  61%|\u001b[32m██████    \u001b[0m| 6104/10000 [1:26:03<1:05:45,  1.01s/it]"
     ]
    },
    {
     "name": "stdout",
     "output_type": "stream",
     "text": [
      "Image.sampleRectangle: Fully masked pixels / pixels outside of the image footprint when sampling band 'B1' with no default value set. Note that calling sampleRectangle() on an image after ee.Image.clip() may result in a sampling bounding box outside the geometry passed to clip().\n"
     ]
    },
    {
     "name": "stderr",
     "output_type": "stream",
     "text": [
      "Collecting Imgs:  64%|\u001b[32m██████▎   \u001b[0m| 6364/10000 [1:30:31<1:01:26,  1.01s/it]"
     ]
    },
    {
     "name": "stdout",
     "output_type": "stream",
     "text": [
      "Image.sampleRectangle: Fully masked pixels / pixels outside of the image footprint when sampling band 'B3' with no default value set. Note that calling sampleRectangle() on an image after ee.Image.clip() may result in a sampling bounding box outside the geometry passed to clip().\n"
     ]
    },
    {
     "name": "stderr",
     "output_type": "stream",
     "text": [
      "Collecting Imgs:  64%|\u001b[32m██████▎   \u001b[0m| 6372/10000 [1:30:39<58:02,  1.04it/s]"
     ]
    },
    {
     "name": "stdout",
     "output_type": "stream",
     "text": [
      "Image.sampleRectangle: Fully masked pixels / pixels outside of the image footprint when sampling band 'B6' with no default value set. Note that calling sampleRectangle() on an image after ee.Image.clip() may result in a sampling bounding box outside the geometry passed to clip().\n"
     ]
    },
    {
     "name": "stderr",
     "output_type": "stream",
     "text": [
      "Collecting Imgs:  65%|\u001b[32m██████▍   \u001b[0m| 6460/10000 [1:32:15<1:00:14,  1.02s/it]"
     ]
    },
    {
     "name": "stdout",
     "output_type": "stream",
     "text": [
      "Image.sampleRectangle: Fully masked pixels / pixels outside of the image footprint when sampling band 'B6' with no default value set. Note that calling sampleRectangle() on an image after ee.Image.clip() may result in a sampling bounding box outside the geometry passed to clip().\n"
     ]
    },
    {
     "name": "stderr",
     "output_type": "stream",
     "text": [
      "Collecting Imgs:  65%|\u001b[32m██████▍   \u001b[0m| 6476/10000 [1:32:29<56:34,  1.04it/s]"
     ]
    },
    {
     "name": "stdout",
     "output_type": "stream",
     "text": [
      "Image.sampleRectangle: Fully masked pixels / pixels outside of the image footprint when sampling band 'B11' with no default value set. Note that calling sampleRectangle() on an image after ee.Image.clip() may result in a sampling bounding box outside the geometry passed to clip().\n"
     ]
    },
    {
     "name": "stderr",
     "output_type": "stream",
     "text": [
      "Collecting Imgs:  65%|\u001b[32m██████▌   \u001b[0m| 6524/10000 [1:33:18<56:48,  1.02it/s]"
     ]
    },
    {
     "name": "stdout",
     "output_type": "stream",
     "text": [
      "Image.sampleRectangle: Fully masked pixels / pixels outside of the image footprint when sampling band 'B2' with no default value set. Note that calling sampleRectangle() on an image after ee.Image.clip() may result in a sampling bounding box outside the geometry passed to clip().\n"
     ]
    },
    {
     "name": "stderr",
     "output_type": "stream",
     "text": [
      "Collecting Imgs:  65%|\u001b[32m██████▌   \u001b[0m| 6544/10000 [1:33:38<59:34,  1.03s/it]  "
     ]
    },
    {
     "name": "stdout",
     "output_type": "stream",
     "text": [
      "Image.sampleRectangle: Fully masked pixels / pixels outside of the image footprint when sampling band 'B4' with no default value set. Note that calling sampleRectangle() on an image after ee.Image.clip() may result in a sampling bounding box outside the geometry passed to clip().\n"
     ]
    },
    {
     "name": "stderr",
     "output_type": "stream",
     "text": [
      "Collecting Imgs:  66%|\u001b[32m██████▌   \u001b[0m| 6600/10000 [1:34:36<58:42,  1.04s/it]"
     ]
    },
    {
     "name": "stdout",
     "output_type": "stream",
     "text": [
      "Image.sampleRectangle: Fully masked pixels / pixels outside of the image footprint when sampling band 'B1' with no default value set. Note that calling sampleRectangle() on an image after ee.Image.clip() may result in a sampling bounding box outside the geometry passed to clip().\n"
     ]
    },
    {
     "name": "stderr",
     "output_type": "stream",
     "text": [
      "Collecting Imgs:  67%|\u001b[32m██████▋   \u001b[0m| 6712/10000 [1:36:43<49:09,  1.11it/s]"
     ]
    },
    {
     "name": "stdout",
     "output_type": "stream",
     "text": [
      "Image.sampleRectangle: Fully masked pixels / pixels outside of the image footprint when sampling band 'B1' with no default value set. Note that calling sampleRectangle() on an image after ee.Image.clip() may result in a sampling bounding box outside the geometry passed to clip().\n"
     ]
    },
    {
     "name": "stderr",
     "output_type": "stream",
     "text": [
      "Collecting Imgs:  67%|\u001b[32m██████▋   \u001b[0m| 6716/10000 [1:36:48<56:57,  1.04s/it]"
     ]
    },
    {
     "name": "stdout",
     "output_type": "stream",
     "text": [
      "Image.sampleRectangle: Fully masked pixels / pixels outside of the image footprint when sampling band 'B12' with no default value set. Note that calling sampleRectangle() on an image after ee.Image.clip() may result in a sampling bounding box outside the geometry passed to clip().\n"
     ]
    },
    {
     "name": "stderr",
     "output_type": "stream",
     "text": [
      "Collecting Imgs:  67%|\u001b[32m██████▋   \u001b[0m| 6740/10000 [1:37:14<58:24,  1.07s/it]"
     ]
    },
    {
     "name": "stdout",
     "output_type": "stream",
     "text": [
      "Image.sampleRectangle: Fully masked pixels / pixels outside of the image footprint when sampling band 'B4' with no default value set. Note that calling sampleRectangle() on an image after ee.Image.clip() may result in a sampling bounding box outside the geometry passed to clip().\n"
     ]
    },
    {
     "name": "stderr",
     "output_type": "stream",
     "text": [
      "Collecting Imgs:  68%|\u001b[32m██████▊   \u001b[0m| 6756/10000 [1:37:31<58:03,  1.07s/it]  "
     ]
    },
    {
     "name": "stdout",
     "output_type": "stream",
     "text": [
      "Image.sampleRectangle: Fully masked pixels / pixels outside of the image footprint when sampling band 'B10' with no default value set. Note that calling sampleRectangle() on an image after ee.Image.clip() may result in a sampling bounding box outside the geometry passed to clip().\n"
     ]
    },
    {
     "name": "stderr",
     "output_type": "stream",
     "text": [
      "Collecting Imgs:  68%|\u001b[32m██████▊   \u001b[0m| 6768/10000 [1:37:43<56:17,  1.04s/it]"
     ]
    },
    {
     "name": "stdout",
     "output_type": "stream",
     "text": [
      "Image.sampleRectangle: Fully masked pixels / pixels outside of the image footprint when sampling band 'B2' with no default value set. Note that calling sampleRectangle() on an image after ee.Image.clip() may result in a sampling bounding box outside the geometry passed to clip().\n"
     ]
    },
    {
     "name": "stderr",
     "output_type": "stream",
     "text": [
      "Collecting Imgs:  68%|\u001b[32m██████▊   \u001b[0m| 6780/10000 [1:37:54<51:48,  1.04it/s]"
     ]
    },
    {
     "name": "stdout",
     "output_type": "stream",
     "text": [
      "Image.sampleRectangle: Fully masked pixels / pixels outside of the image footprint when sampling band 'B4' with no default value set. Note that calling sampleRectangle() on an image after ee.Image.clip() may result in a sampling bounding box outside the geometry passed to clip().\n"
     ]
    },
    {
     "name": "stderr",
     "output_type": "stream",
     "text": [
      "Collecting Imgs:  68%|\u001b[32m██████▊   \u001b[0m| 6788/10000 [1:38:01<48:00,  1.12it/s]"
     ]
    },
    {
     "name": "stdout",
     "output_type": "stream",
     "text": [
      "Image.sampleRectangle: Fully masked pixels / pixels outside of the image footprint when sampling band 'B9' with no default value set. Note that calling sampleRectangle() on an image after ee.Image.clip() may result in a sampling bounding box outside the geometry passed to clip().\n",
      "Image.sampleRectangle: Fully masked pixels / pixels outside of the image footprint when sampling band 'B2' with no default value set. Note that calling sampleRectangle() on an image after ee.Image.clip() may result in a sampling bounding box outside the geometry passed to clip().\n"
     ]
    },
    {
     "name": "stderr",
     "output_type": "stream",
     "text": [
      "Collecting Imgs:  70%|\u001b[32m███████   \u001b[0m| 7000/10000 [1:41:41<49:30,  1.01it/s]"
     ]
    },
    {
     "name": "stdout",
     "output_type": "stream",
     "text": [
      "Image.sampleRectangle: Fully masked pixels / pixels outside of the image footprint when sampling band 'B1' with no default value set. Note that calling sampleRectangle() on an image after ee.Image.clip() may result in a sampling bounding box outside the geometry passed to clip().\n"
     ]
    },
    {
     "name": "stderr",
     "output_type": "stream",
     "text": [
      "Collecting Imgs:  71%|\u001b[32m███████   \u001b[0m| 7100/10000 [1:43:21<48:47,  1.01s/it]"
     ]
    },
    {
     "name": "stdout",
     "output_type": "stream",
     "text": [
      "Image.sampleRectangle: Fully masked pixels / pixels outside of the image footprint when sampling band 'B12' with no default value set. Note that calling sampleRectangle() on an image after ee.Image.clip() may result in a sampling bounding box outside the geometry passed to clip().\n"
     ]
    },
    {
     "name": "stderr",
     "output_type": "stream",
     "text": [
      "Collecting Imgs:  71%|\u001b[32m███████▏  \u001b[0m| 7140/10000 [1:44:05<1:02:17,  1.31s/it]"
     ]
    },
    {
     "name": "stdout",
     "output_type": "stream",
     "text": [
      "Image.sampleRectangle: Fully masked pixels / pixels outside of the image footprint when sampling band 'B4' with no default value set. Note that calling sampleRectangle() on an image after ee.Image.clip() may result in a sampling bounding box outside the geometry passed to clip().\n"
     ]
    },
    {
     "name": "stderr",
     "output_type": "stream",
     "text": [
      "Collecting Imgs:  71%|\u001b[32m███████▏  \u001b[0m| 7144/10000 [1:44:09<57:47,  1.21s/it]  "
     ]
    },
    {
     "name": "stdout",
     "output_type": "stream",
     "text": [
      "Image.sampleRectangle: Fully masked pixels / pixels outside of the image footprint when sampling band 'B8A' with no default value set. Note that calling sampleRectangle() on an image after ee.Image.clip() may result in a sampling bounding box outside the geometry passed to clip().\n"
     ]
    },
    {
     "name": "stderr",
     "output_type": "stream",
     "text": [
      "Collecting Imgs:  72%|\u001b[32m███████▏  \u001b[0m| 7196/10000 [1:45:07<56:36,  1.21s/it]"
     ]
    },
    {
     "name": "stdout",
     "output_type": "stream",
     "text": [
      "Image.sampleRectangle: Fully masked pixels / pixels outside of the image footprint when sampling band 'B2' with no default value set. Note that calling sampleRectangle() on an image after ee.Image.clip() may result in a sampling bounding box outside the geometry passed to clip().\n"
     ]
    },
    {
     "name": "stderr",
     "output_type": "stream",
     "text": [
      "Collecting Imgs:  73%|\u001b[32m███████▎  \u001b[0m| 7256/10000 [1:46:14<48:58,  1.07s/it]"
     ]
    },
    {
     "name": "stdout",
     "output_type": "stream",
     "text": [
      "Image.sampleRectangle: Fully masked pixels / pixels outside of the image footprint when sampling band 'B6' with no default value set. Note that calling sampleRectangle() on an image after ee.Image.clip() may result in a sampling bounding box outside the geometry passed to clip().\n"
     ]
    },
    {
     "name": "stderr",
     "output_type": "stream",
     "text": [
      "Collecting Imgs:  73%|\u001b[32m███████▎  \u001b[0m| 7276/10000 [1:46:35<48:34,  1.07s/it]"
     ]
    },
    {
     "name": "stdout",
     "output_type": "stream",
     "text": [
      "Image.sampleRectangle: Fully masked pixels / pixels outside of the image footprint when sampling band 'B2' with no default value set. Note that calling sampleRectangle() on an image after ee.Image.clip() may result in a sampling bounding box outside the geometry passed to clip().\n"
     ]
    },
    {
     "name": "stderr",
     "output_type": "stream",
     "text": [
      "Collecting Imgs:  73%|\u001b[32m███████▎  \u001b[0m| 7284/10000 [1:46:43<48:11,  1.06s/it]"
     ]
    },
    {
     "name": "stdout",
     "output_type": "stream",
     "text": [
      "Image.sampleRectangle: Fully masked pixels / pixels outside of the image footprint when sampling band 'B5' with no default value set. Note that calling sampleRectangle() on an image after ee.Image.clip() may result in a sampling bounding box outside the geometry passed to clip().\n",
      "Image.sampleRectangle: Fully masked pixels / pixels outside of the image footprint when sampling band 'B4' with no default value set. Note that calling sampleRectangle() on an image after ee.Image.clip() may result in a sampling bounding box outside the geometry passed to clip().\n"
     ]
    },
    {
     "name": "stderr",
     "output_type": "stream",
     "text": [
      "Collecting Imgs:  73%|\u001b[32m███████▎  \u001b[0m| 7288/10000 [1:46:45<41:00,  1.10it/s]"
     ]
    },
    {
     "name": "stdout",
     "output_type": "stream",
     "text": [
      "Image.sampleRectangle: Fully masked pixels / pixels outside of the image footprint when sampling band 'B5' with no default value set. Note that calling sampleRectangle() on an image after ee.Image.clip() may result in a sampling bounding box outside the geometry passed to clip().\n"
     ]
    },
    {
     "name": "stderr",
     "output_type": "stream",
     "text": [
      "Collecting Imgs:  73%|\u001b[32m███████▎  \u001b[0m| 7300/10000 [1:46:58<45:04,  1.00s/it]"
     ]
    },
    {
     "name": "stdout",
     "output_type": "stream",
     "text": [
      "Image.sampleRectangle: Fully masked pixels / pixels outside of the image footprint when sampling band 'B3' with no default value set. Note that calling sampleRectangle() on an image after ee.Image.clip() may result in a sampling bounding box outside the geometry passed to clip().\n"
     ]
    },
    {
     "name": "stderr",
     "output_type": "stream",
     "text": [
      "Collecting Imgs:  73%|\u001b[32m███████▎  \u001b[0m| 7304/10000 [1:47:19<1:40:10,  2.23s/it]"
     ]
    },
    {
     "name": "stdout",
     "output_type": "stream",
     "text": [
      "Image.sampleRectangle: Fully masked pixels / pixels outside of the image footprint when sampling band 'B2' with no default value set. Note that calling sampleRectangle() on an image after ee.Image.clip() may result in a sampling bounding box outside the geometry passed to clip().\n"
     ]
    },
    {
     "name": "stderr",
     "output_type": "stream",
     "text": [
      "Collecting Imgs:  73%|\u001b[32m███████▎  \u001b[0m| 7348/10000 [1:48:03<46:18,  1.05s/it]"
     ]
    },
    {
     "name": "stdout",
     "output_type": "stream",
     "text": [
      "Image.sampleRectangle: Fully masked pixels / pixels outside of the image footprint when sampling band 'B9' with no default value set. Note that calling sampleRectangle() on an image after ee.Image.clip() may result in a sampling bounding box outside the geometry passed to clip().\n"
     ]
    },
    {
     "name": "stderr",
     "output_type": "stream",
     "text": [
      "Collecting Imgs:  74%|\u001b[32m███████▎  \u001b[0m| 7372/10000 [1:48:27<44:09,  1.01s/it]"
     ]
    },
    {
     "name": "stdout",
     "output_type": "stream",
     "text": [
      "Image.sampleRectangle: Fully masked pixels / pixels outside of the image footprint when sampling band 'B2' with no default value set. Note that calling sampleRectangle() on an image after ee.Image.clip() may result in a sampling bounding box outside the geometry passed to clip().\n"
     ]
    },
    {
     "name": "stderr",
     "output_type": "stream",
     "text": [
      "Collecting Imgs:  74%|\u001b[32m███████▍  \u001b[0m| 7420/10000 [1:49:30<1:05:23,  1.52s/it]"
     ]
    },
    {
     "name": "stdout",
     "output_type": "stream",
     "text": [
      "Image.sampleRectangle: Fully masked pixels / pixels outside of the image footprint when sampling band 'B1' with no default value set. Note that calling sampleRectangle() on an image after ee.Image.clip() may result in a sampling bounding box outside the geometry passed to clip().\n"
     ]
    },
    {
     "name": "stderr",
     "output_type": "stream",
     "text": [
      "Collecting Imgs:  74%|\u001b[32m███████▍  \u001b[0m| 7424/10000 [1:49:33<55:27,  1.29s/it]  "
     ]
    },
    {
     "name": "stdout",
     "output_type": "stream",
     "text": [
      "Image.sampleRectangle: Fully masked pixels / pixels outside of the image footprint when sampling band 'B2' with no default value set. Note that calling sampleRectangle() on an image after ee.Image.clip() may result in a sampling bounding box outside the geometry passed to clip().\n",
      "Image.sampleRectangle: Fully masked pixels / pixels outside of the image footprint when sampling band 'B1' with no default value set. Note that calling sampleRectangle() on an image after ee.Image.clip() may result in a sampling bounding box outside the geometry passed to clip().\n"
     ]
    },
    {
     "name": "stderr",
     "output_type": "stream",
     "text": [
      "Collecting Imgs:  74%|\u001b[32m███████▍  \u001b[0m| 7432/10000 [1:49:43<55:57,  1.31s/it]"
     ]
    },
    {
     "name": "stdout",
     "output_type": "stream",
     "text": [
      "Image.sampleRectangle: Fully masked pixels / pixels outside of the image footprint when sampling band 'B5' with no default value set. Note that calling sampleRectangle() on an image after ee.Image.clip() may result in a sampling bounding box outside the geometry passed to clip().\n"
     ]
    },
    {
     "name": "stderr",
     "output_type": "stream",
     "text": [
      "Collecting Imgs:  74%|\u001b[32m███████▍  \u001b[0m| 7436/10000 [1:49:44<42:57,  1.01s/it]"
     ]
    },
    {
     "name": "stdout",
     "output_type": "stream",
     "text": [
      "Image.sampleRectangle: Fully masked pixels / pixels outside of the image footprint when sampling band 'B2' with no default value set. Note that calling sampleRectangle() on an image after ee.Image.clip() may result in a sampling bounding box outside the geometry passed to clip().\n"
     ]
    },
    {
     "name": "stderr",
     "output_type": "stream",
     "text": [
      "Collecting Imgs:  74%|\u001b[32m███████▍  \u001b[0m| 7440/10000 [1:49:48<42:40,  1.00s/it]"
     ]
    },
    {
     "name": "stdout",
     "output_type": "stream",
     "text": [
      "Image.sampleRectangle: Fully masked pixels / pixels outside of the image footprint when sampling band 'B2' with no default value set. Note that calling sampleRectangle() on an image after ee.Image.clip() may result in a sampling bounding box outside the geometry passed to clip().\n",
      "Image.sampleRectangle: Fully masked pixels / pixels outside of the image footprint when sampling band 'B7' with no default value set. Note that calling sampleRectangle() on an image after ee.Image.clip() may result in a sampling bounding box outside the geometry passed to clip().\n",
      "Image.sampleRectangle: Fully masked pixels / pixels outside of the image footprint when sampling band 'B9' with no default value set. Note that calling sampleRectangle() on an image after ee.Image.clip() may result in a sampling bounding box outside the geometry passed to clip().\n"
     ]
    },
    {
     "name": "stderr",
     "output_type": "stream",
     "text": [
      "Collecting Imgs:  74%|\u001b[32m███████▍  \u001b[0m| 7444/10000 [1:49:50<34:14,  1.24it/s]"
     ]
    },
    {
     "name": "stdout",
     "output_type": "stream",
     "text": [
      "Image.sampleRectangle: Fully masked pixels / pixels outside of the image footprint when sampling band 'B7' with no default value set. Note that calling sampleRectangle() on an image after ee.Image.clip() may result in a sampling bounding box outside the geometry passed to clip().\n"
     ]
    },
    {
     "name": "stderr",
     "output_type": "stream",
     "text": [
      "Collecting Imgs:  75%|\u001b[32m███████▍  \u001b[0m| 7452/10000 [1:49:58<39:17,  1.08it/s]"
     ]
    },
    {
     "name": "stdout",
     "output_type": "stream",
     "text": [
      "Image.sampleRectangle: Fully masked pixels / pixels outside of the image footprint when sampling band 'B1' with no default value set. Note that calling sampleRectangle() on an image after ee.Image.clip() may result in a sampling bounding box outside the geometry passed to clip().\n"
     ]
    },
    {
     "name": "stderr",
     "output_type": "stream",
     "text": [
      "Collecting Imgs:  75%|\u001b[32m███████▍  \u001b[0m| 7460/10000 [1:50:06<38:25,  1.10it/s]"
     ]
    },
    {
     "name": "stdout",
     "output_type": "stream",
     "text": [
      "Image.sampleRectangle: Fully masked pixels / pixels outside of the image footprint when sampling band 'B1' with no default value set. Note that calling sampleRectangle() on an image after ee.Image.clip() may result in a sampling bounding box outside the geometry passed to clip().\n"
     ]
    },
    {
     "name": "stderr",
     "output_type": "stream",
     "text": [
      "Collecting Imgs:  75%|\u001b[32m███████▍  \u001b[0m| 7464/10000 [1:50:10<41:41,  1.01it/s]"
     ]
    },
    {
     "name": "stdout",
     "output_type": "stream",
     "text": [
      "Image.sampleRectangle: Fully masked pixels / pixels outside of the image footprint when sampling band 'B3' with no default value set. Note that calling sampleRectangle() on an image after ee.Image.clip() may result in a sampling bounding box outside the geometry passed to clip().\n"
     ]
    },
    {
     "name": "stderr",
     "output_type": "stream",
     "text": [
      "Collecting Imgs:  75%|\u001b[32m███████▍  \u001b[0m| 7468/10000 [1:50:12<34:10,  1.24it/s]"
     ]
    },
    {
     "name": "stdout",
     "output_type": "stream",
     "text": [
      "Image.sampleRectangle: Fully masked pixels / pixels outside of the image footprint when sampling band 'B1' with no default value set. Note that calling sampleRectangle() on an image after ee.Image.clip() may result in a sampling bounding box outside the geometry passed to clip().\n",
      "Image.sampleRectangle: Fully masked pixels / pixels outside of the image footprint when sampling band 'B5' with no default value set. Note that calling sampleRectangle() on an image after ee.Image.clip() may result in a sampling bounding box outside the geometry passed to clip().\n",
      "Image.sampleRectangle: Fully masked pixels / pixels outside of the image footprint when sampling band 'B1' with no default value set. Note that calling sampleRectangle() on an image after ee.Image.clip() may result in a sampling bounding box outside the geometry passed to clip().\n"
     ]
    },
    {
     "name": "stderr",
     "output_type": "stream",
     "text": [
      "Collecting Imgs:  75%|\u001b[32m███████▍  \u001b[0m| 7472/10000 [1:50:15<34:48,  1.21it/s]"
     ]
    },
    {
     "name": "stdout",
     "output_type": "stream",
     "text": [
      "Image.sampleRectangle: Fully masked pixels / pixels outside of the image footprint when sampling band 'B1' with no default value set. Note that calling sampleRectangle() on an image after ee.Image.clip() may result in a sampling bounding box outside the geometry passed to clip().\n"
     ]
    },
    {
     "name": "stderr",
     "output_type": "stream",
     "text": [
      "Collecting Imgs:  77%|\u001b[32m███████▋  \u001b[0m| 7656/10000 [1:53:26<36:13,  1.08it/s]"
     ]
    },
    {
     "name": "stdout",
     "output_type": "stream",
     "text": [
      "Image.sampleRectangle: Fully masked pixels / pixels outside of the image footprint when sampling band 'B3' with no default value set. Note that calling sampleRectangle() on an image after ee.Image.clip() may result in a sampling bounding box outside the geometry passed to clip().\n"
     ]
    },
    {
     "name": "stderr",
     "output_type": "stream",
     "text": [
      "Collecting Imgs:  77%|\u001b[32m███████▋  \u001b[0m| 7744/10000 [1:55:00<40:02,  1.07s/it]"
     ]
    },
    {
     "name": "stdout",
     "output_type": "stream",
     "text": [
      "Image.sampleRectangle: Fully masked pixels / pixels outside of the image footprint when sampling band 'B2' with no default value set. Note that calling sampleRectangle() on an image after ee.Image.clip() may result in a sampling bounding box outside the geometry passed to clip().\n"
     ]
    },
    {
     "name": "stderr",
     "output_type": "stream",
     "text": [
      "Collecting Imgs:  78%|\u001b[32m███████▊  \u001b[0m| 7784/10000 [1:55:44<39:17,  1.06s/it]"
     ]
    },
    {
     "name": "stdout",
     "output_type": "stream",
     "text": [
      "Image.sampleRectangle: Fully masked pixels / pixels outside of the image footprint when sampling band 'B1' with no default value set. Note that calling sampleRectangle() on an image after ee.Image.clip() may result in a sampling bounding box outside the geometry passed to clip().\n"
     ]
    },
    {
     "name": "stderr",
     "output_type": "stream",
     "text": [
      "Collecting Imgs:  78%|\u001b[32m███████▊  \u001b[0m| 7808/10000 [1:56:08<38:15,  1.05s/it]"
     ]
    },
    {
     "name": "stdout",
     "output_type": "stream",
     "text": [
      "Image.sampleRectangle: Fully masked pixels / pixels outside of the image footprint when sampling band 'B5' with no default value set. Note that calling sampleRectangle() on an image after ee.Image.clip() may result in a sampling bounding box outside the geometry passed to clip().\n"
     ]
    },
    {
     "name": "stderr",
     "output_type": "stream",
     "text": [
      "Collecting Imgs:  79%|\u001b[32m███████▉  \u001b[0m| 7904/10000 [1:57:57<41:03,  1.18s/it]"
     ]
    },
    {
     "name": "stdout",
     "output_type": "stream",
     "text": [
      "Image.sampleRectangle: Fully masked pixels / pixels outside of the image footprint when sampling band 'B10' with no default value set. Note that calling sampleRectangle() on an image after ee.Image.clip() may result in a sampling bounding box outside the geometry passed to clip().\n"
     ]
    },
    {
     "name": "stderr",
     "output_type": "stream",
     "text": [
      "Collecting Imgs:  80%|\u001b[32m████████  \u001b[0m| 8024/10000 [2:00:06<35:07,  1.07s/it]"
     ]
    },
    {
     "name": "stdout",
     "output_type": "stream",
     "text": [
      "Image.sampleRectangle: Fully masked pixels / pixels outside of the image footprint when sampling band 'B1' with no default value set. Note that calling sampleRectangle() on an image after ee.Image.clip() may result in a sampling bounding box outside the geometry passed to clip().\n"
     ]
    },
    {
     "name": "stderr",
     "output_type": "stream",
     "text": [
      "Collecting Imgs:  81%|\u001b[32m████████  \u001b[0m| 8060/10000 [2:00:43<32:34,  1.01s/it]"
     ]
    },
    {
     "name": "stdout",
     "output_type": "stream",
     "text": [
      "Image.sampleRectangle: Fully masked pixels / pixels outside of the image footprint when sampling band 'B12' with no default value set. Note that calling sampleRectangle() on an image after ee.Image.clip() may result in a sampling bounding box outside the geometry passed to clip().\n"
     ]
    },
    {
     "name": "stderr",
     "output_type": "stream",
     "text": [
      "Collecting Imgs:  82%|\u001b[32m████████▏ \u001b[0m| 8248/10000 [2:04:29<41:13,  1.41s/it]"
     ]
    },
    {
     "name": "stdout",
     "output_type": "stream",
     "text": [
      "Image.sampleRectangle: Fully masked pixels / pixels outside of the image footprint when sampling band 'B1' with no default value set. Note that calling sampleRectangle() on an image after ee.Image.clip() may result in a sampling bounding box outside the geometry passed to clip().\n"
     ]
    },
    {
     "name": "stderr",
     "output_type": "stream",
     "text": [
      "Collecting Imgs:  83%|\u001b[32m████████▎ \u001b[0m| 8324/10000 [2:06:58<53:52,  1.93s/it]"
     ]
    },
    {
     "name": "stdout",
     "output_type": "stream",
     "text": [
      "Image.sampleRectangle: Fully masked pixels / pixels outside of the image footprint when sampling band 'B12' with no default value set. Note that calling sampleRectangle() on an image after ee.Image.clip() may result in a sampling bounding box outside the geometry passed to clip().\n"
     ]
    },
    {
     "name": "stderr",
     "output_type": "stream",
     "text": [
      "Collecting Imgs:  85%|\u001b[32m████████▍ \u001b[0m| 8480/10000 [2:10:18<28:33,  1.13s/it]"
     ]
    },
    {
     "name": "stdout",
     "output_type": "stream",
     "text": [
      "Image.sampleRectangle: Fully masked pixels / pixels outside of the image footprint when sampling band 'B2' with no default value set. Note that calling sampleRectangle() on an image after ee.Image.clip() may result in a sampling bounding box outside the geometry passed to clip().\n"
     ]
    },
    {
     "name": "stderr",
     "output_type": "stream",
     "text": [
      "Collecting Imgs:  85%|\u001b[32m████████▍ \u001b[0m| 8492/10000 [2:10:31<28:47,  1.15s/it]"
     ]
    },
    {
     "name": "stdout",
     "output_type": "stream",
     "text": [
      "Image.sampleRectangle: Fully masked pixels / pixels outside of the image footprint when sampling band 'B5' with no default value set. Note that calling sampleRectangle() on an image after ee.Image.clip() may result in a sampling bounding box outside the geometry passed to clip().\n"
     ]
    },
    {
     "name": "stderr",
     "output_type": "stream",
     "text": [
      "Collecting Imgs:  87%|\u001b[32m████████▋ \u001b[0m| 8692/10000 [2:14:37<25:54,  1.19s/it]"
     ]
    },
    {
     "name": "stdout",
     "output_type": "stream",
     "text": [
      "Image.sampleRectangle: Fully masked pixels / pixels outside of the image footprint when sampling band 'B2' with no default value set. Note that calling sampleRectangle() on an image after ee.Image.clip() may result in a sampling bounding box outside the geometry passed to clip().\n"
     ]
    },
    {
     "name": "stderr",
     "output_type": "stream",
     "text": [
      "Collecting Imgs:  87%|\u001b[32m████████▋ \u001b[0m| 8748/10000 [2:19:10<1:18:37,  3.77s/it]"
     ]
    },
    {
     "name": "stdout",
     "output_type": "stream",
     "text": [
      "Image.sampleRectangle: Fully masked pixels / pixels outside of the image footprint when sampling band 'B11' with no default value set. Note that calling sampleRectangle() on an image after ee.Image.clip() may result in a sampling bounding box outside the geometry passed to clip().\n"
     ]
    },
    {
     "name": "stderr",
     "output_type": "stream",
     "text": [
      "Collecting Imgs:  88%|\u001b[32m████████▊ \u001b[0m| 8844/10000 [2:23:08<1:00:46,  3.15s/it]"
     ]
    },
    {
     "name": "stdout",
     "output_type": "stream",
     "text": [
      "Image.sampleRectangle: Fully masked pixels / pixels outside of the image footprint when sampling band 'B2' with no default value set. Note that calling sampleRectangle() on an image after ee.Image.clip() may result in a sampling bounding box outside the geometry passed to clip().\n"
     ]
    },
    {
     "name": "stderr",
     "output_type": "stream",
     "text": [
      "Collecting Imgs:  90%|\u001b[32m████████▉ \u001b[0m| 8952/10000 [2:35:37<28:22,  1.62s/it]"
     ]
    },
    {
     "name": "stdout",
     "output_type": "stream",
     "text": [
      "Image.sampleRectangle: Fully masked pixels / pixels outside of the image footprint when sampling band 'B1' with no default value set. Note that calling sampleRectangle() on an image after ee.Image.clip() may result in a sampling bounding box outside the geometry passed to clip().\n"
     ]
    },
    {
     "name": "stderr",
     "output_type": "stream",
     "text": [
      "Collecting Imgs:  90%|\u001b[32m████████▉ \u001b[0m| 8968/10000 [2:35:59<24:56,  1.45s/it]"
     ]
    },
    {
     "name": "stdout",
     "output_type": "stream",
     "text": [
      "Image.sampleRectangle: Fully masked pixels / pixels outside of the image footprint when sampling band 'B1' with no default value set. Note that calling sampleRectangle() on an image after ee.Image.clip() may result in a sampling bounding box outside the geometry passed to clip().\n"
     ]
    },
    {
     "name": "stderr",
     "output_type": "stream",
     "text": [
      "Collecting Imgs:  90%|\u001b[32m████████▉ \u001b[0m| 8976/10000 [2:36:09<22:25,  1.31s/it]"
     ]
    },
    {
     "name": "stdout",
     "output_type": "stream",
     "text": [
      "Image.sampleRectangle: Fully masked pixels / pixels outside of the image footprint when sampling band 'B1' with no default value set. Note that calling sampleRectangle() on an image after ee.Image.clip() may result in a sampling bounding box outside the geometry passed to clip().\n"
     ]
    },
    {
     "name": "stderr",
     "output_type": "stream",
     "text": [
      "Collecting Imgs:  90%|\u001b[32m█████████ \u001b[0m| 9000/10000 [2:36:33<18:31,  1.11s/it]"
     ]
    },
    {
     "name": "stdout",
     "output_type": "stream",
     "text": [
      "Image.sampleRectangle: Fully masked pixels / pixels outside of the image footprint when sampling band 'B4' with no default value set. Note that calling sampleRectangle() on an image after ee.Image.clip() may result in a sampling bounding box outside the geometry passed to clip().\n"
     ]
    },
    {
     "name": "stderr",
     "output_type": "stream",
     "text": [
      "Collecting Imgs:  91%|\u001b[32m█████████ \u001b[0m| 9064/10000 [2:37:48<18:02,  1.16s/it]"
     ]
    },
    {
     "name": "stdout",
     "output_type": "stream",
     "text": [
      "Image.sampleRectangle: Fully masked pixels / pixels outside of the image footprint when sampling band 'B1' with no default value set. Note that calling sampleRectangle() on an image after ee.Image.clip() may result in a sampling bounding box outside the geometry passed to clip().\n"
     ]
    },
    {
     "name": "stderr",
     "output_type": "stream",
     "text": [
      "Collecting Imgs:  92%|\u001b[32m█████████▏\u001b[0m| 9216/10000 [2:40:43<14:21,  1.10s/it]"
     ]
    },
    {
     "name": "stdout",
     "output_type": "stream",
     "text": [
      "Image.sampleRectangle: Fully masked pixels / pixels outside of the image footprint when sampling band 'B2' with no default value set. Note that calling sampleRectangle() on an image after ee.Image.clip() may result in a sampling bounding box outside the geometry passed to clip().\n"
     ]
    },
    {
     "name": "stderr",
     "output_type": "stream",
     "text": [
      "Collecting Imgs:  92%|\u001b[32m█████████▏\u001b[0m| 9224/10000 [2:40:51<13:41,  1.06s/it]"
     ]
    },
    {
     "name": "stdout",
     "output_type": "stream",
     "text": [
      "Image.sampleRectangle: Fully masked pixels / pixels outside of the image footprint when sampling band 'B2' with no default value set. Note that calling sampleRectangle() on an image after ee.Image.clip() may result in a sampling bounding box outside the geometry passed to clip().\n"
     ]
    },
    {
     "name": "stderr",
     "output_type": "stream",
     "text": [
      "Collecting Imgs:  92%|\u001b[32m█████████▏\u001b[0m| 9244/10000 [2:41:14<14:32,  1.15s/it]"
     ]
    },
    {
     "name": "stdout",
     "output_type": "stream",
     "text": [
      "Image.sampleRectangle: Fully masked pixels / pixels outside of the image footprint when sampling band 'B2' with no default value set. Note that calling sampleRectangle() on an image after ee.Image.clip() may result in a sampling bounding box outside the geometry passed to clip().\n"
     ]
    },
    {
     "name": "stderr",
     "output_type": "stream",
     "text": [
      "Collecting Imgs:  93%|\u001b[32m█████████▎\u001b[0m| 9252/10000 [2:41:23<13:49,  1.11s/it]"
     ]
    },
    {
     "name": "stdout",
     "output_type": "stream",
     "text": [
      "Image.sampleRectangle: Fully masked pixels / pixels outside of the image footprint when sampling band 'B2' with no default value set. Note that calling sampleRectangle() on an image after ee.Image.clip() may result in a sampling bounding box outside the geometry passed to clip().\n"
     ]
    },
    {
     "name": "stderr",
     "output_type": "stream",
     "text": [
      "Collecting Imgs:  93%|\u001b[32m█████████▎\u001b[0m| 9280/10000 [2:41:52<10:50,  1.11it/s]"
     ]
    },
    {
     "name": "stdout",
     "output_type": "stream",
     "text": [
      "Image.sampleRectangle: Fully masked pixels / pixels outside of the image footprint when sampling band 'B8A' with no default value set. Note that calling sampleRectangle() on an image after ee.Image.clip() may result in a sampling bounding box outside the geometry passed to clip().\n"
     ]
    },
    {
     "name": "stderr",
     "output_type": "stream",
     "text": [
      "Collecting Imgs:  93%|\u001b[32m█████████▎\u001b[0m| 9316/10000 [2:42:37<13:15,  1.16s/it]"
     ]
    },
    {
     "name": "stdout",
     "output_type": "stream",
     "text": [
      "Image.sampleRectangle: Fully masked pixels / pixels outside of the image footprint when sampling band 'B3' with no default value set. Note that calling sampleRectangle() on an image after ee.Image.clip() may result in a sampling bounding box outside the geometry passed to clip().\n"
     ]
    },
    {
     "name": "stderr",
     "output_type": "stream",
     "text": [
      "Collecting Imgs:  94%|\u001b[32m█████████▍\u001b[0m| 9380/10000 [2:43:54<11:23,  1.10s/it]"
     ]
    },
    {
     "name": "stdout",
     "output_type": "stream",
     "text": [
      "Image.sampleRectangle: Fully masked pixels / pixels outside of the image footprint when sampling band 'B2' with no default value set. Note that calling sampleRectangle() on an image after ee.Image.clip() may result in a sampling bounding box outside the geometry passed to clip().\n"
     ]
    },
    {
     "name": "stderr",
     "output_type": "stream",
     "text": [
      "Collecting Imgs:  96%|\u001b[32m█████████▌\u001b[0m| 9552/10000 [2:47:08<08:02,  1.08s/it]"
     ]
    },
    {
     "name": "stdout",
     "output_type": "stream",
     "text": [
      "Image.sampleRectangle: Fully masked pixels / pixels outside of the image footprint when sampling band 'B3' with no default value set. Note that calling sampleRectangle() on an image after ee.Image.clip() may result in a sampling bounding box outside the geometry passed to clip().\n"
     ]
    },
    {
     "name": "stderr",
     "output_type": "stream",
     "text": [
      "Collecting Imgs:  96%|\u001b[32m█████████▌\u001b[0m| 9564/10000 [2:47:21<07:35,  1.04s/it]"
     ]
    },
    {
     "name": "stdout",
     "output_type": "stream",
     "text": [
      "Image.sampleRectangle: Fully masked pixels / pixels outside of the image footprint when sampling band 'B7' with no default value set. Note that calling sampleRectangle() on an image after ee.Image.clip() may result in a sampling bounding box outside the geometry passed to clip().\n"
     ]
    },
    {
     "name": "stderr",
     "output_type": "stream",
     "text": [
      "Collecting Imgs:  96%|\u001b[32m█████████▌\u001b[0m| 9596/10000 [2:47:58<08:04,  1.20s/it]"
     ]
    },
    {
     "name": "stdout",
     "output_type": "stream",
     "text": [
      "Image.sampleRectangle: Fully masked pixels / pixels outside of the image footprint when sampling band 'B1' with no default value set. Note that calling sampleRectangle() on an image after ee.Image.clip() may result in a sampling bounding box outside the geometry passed to clip().\n"
     ]
    },
    {
     "name": "stderr",
     "output_type": "stream",
     "text": [
      "Collecting Imgs:  96%|\u001b[32m█████████▌\u001b[0m| 9620/10000 [2:48:26<07:08,  1.13s/it]"
     ]
    },
    {
     "name": "stdout",
     "output_type": "stream",
     "text": [
      "Image.sampleRectangle: Fully masked pixels / pixels outside of the image footprint when sampling band 'B1' with no default value set. Note that calling sampleRectangle() on an image after ee.Image.clip() may result in a sampling bounding box outside the geometry passed to clip().\n"
     ]
    },
    {
     "name": "stderr",
     "output_type": "stream",
     "text": [
      "Collecting Imgs:  96%|\u001b[32m█████████▌\u001b[0m| 9624/10000 [2:48:29<06:30,  1.04s/it]"
     ]
    },
    {
     "name": "stdout",
     "output_type": "stream",
     "text": [
      "Image.sampleRectangle: Fully masked pixels / pixels outside of the image footprint when sampling band 'B7' with no default value set. Note that calling sampleRectangle() on an image after ee.Image.clip() may result in a sampling bounding box outside the geometry passed to clip().\n"
     ]
    },
    {
     "name": "stderr",
     "output_type": "stream",
     "text": [
      "Collecting Imgs:  96%|\u001b[32m█████████▋\u001b[0m| 9640/10000 [2:48:47<06:41,  1.12s/it]"
     ]
    },
    {
     "name": "stdout",
     "output_type": "stream",
     "text": [
      "Image.sampleRectangle: Fully masked pixels / pixels outside of the image footprint when sampling band 'B8' with no default value set. Note that calling sampleRectangle() on an image after ee.Image.clip() may result in a sampling bounding box outside the geometry passed to clip().\n"
     ]
    },
    {
     "name": "stderr",
     "output_type": "stream",
     "text": [
      "Collecting Imgs:  97%|\u001b[32m█████████▋\u001b[0m| 9652/10000 [2:49:00<05:59,  1.03s/it]"
     ]
    },
    {
     "name": "stdout",
     "output_type": "stream",
     "text": [
      "Image.sampleRectangle: Fully masked pixels / pixels outside of the image footprint when sampling band 'B9' with no default value set. Note that calling sampleRectangle() on an image after ee.Image.clip() may result in a sampling bounding box outside the geometry passed to clip().\n"
     ]
    },
    {
     "name": "stderr",
     "output_type": "stream",
     "text": [
      "Collecting Imgs:  97%|\u001b[32m█████████▋\u001b[0m| 9664/10000 [2:49:14<06:28,  1.15s/it]"
     ]
    },
    {
     "name": "stdout",
     "output_type": "stream",
     "text": [
      "Image.sampleRectangle: Fully masked pixels / pixels outside of the image footprint when sampling band 'B1' with no default value set. Note that calling sampleRectangle() on an image after ee.Image.clip() may result in a sampling bounding box outside the geometry passed to clip().\n"
     ]
    },
    {
     "name": "stderr",
     "output_type": "stream",
     "text": [
      "Collecting Imgs:  97%|\u001b[32m█████████▋\u001b[0m| 9676/10000 [2:49:28<06:04,  1.12s/it]"
     ]
    },
    {
     "name": "stdout",
     "output_type": "stream",
     "text": [
      "Image.sampleRectangle: Fully masked pixels / pixels outside of the image footprint when sampling band 'B2' with no default value set. Note that calling sampleRectangle() on an image after ee.Image.clip() may result in a sampling bounding box outside the geometry passed to clip().\n"
     ]
    },
    {
     "name": "stderr",
     "output_type": "stream",
     "text": [
      "Collecting Imgs:  97%|\u001b[32m█████████▋\u001b[0m| 9740/10000 [2:50:42<05:01,  1.16s/it]"
     ]
    },
    {
     "name": "stdout",
     "output_type": "stream",
     "text": [
      "Image.sampleRectangle: Fully masked pixels / pixels outside of the image footprint when sampling band 'B5' with no default value set. Note that calling sampleRectangle() on an image after ee.Image.clip() may result in a sampling bounding box outside the geometry passed to clip().\n"
     ]
    },
    {
     "name": "stderr",
     "output_type": "stream",
     "text": [
      "Collecting Imgs:  98%|\u001b[32m█████████▊\u001b[0m| 9760/10000 [2:51:05<04:38,  1.16s/it]"
     ]
    },
    {
     "name": "stdout",
     "output_type": "stream",
     "text": [
      "Image.sampleRectangle: Fully masked pixels / pixels outside of the image footprint when sampling band 'B3' with no default value set. Note that calling sampleRectangle() on an image after ee.Image.clip() may result in a sampling bounding box outside the geometry passed to clip().\n"
     ]
    },
    {
     "name": "stderr",
     "output_type": "stream",
     "text": [
      "Collecting Imgs:  98%|\u001b[32m█████████▊\u001b[0m| 9768/10000 [2:51:16<04:51,  1.26s/it]"
     ]
    },
    {
     "name": "stdout",
     "output_type": "stream",
     "text": [
      "Image.sampleRectangle: Fully masked pixels / pixels outside of the image footprint when sampling band 'B4' with no default value set. Note that calling sampleRectangle() on an image after ee.Image.clip() may result in a sampling bounding box outside the geometry passed to clip().\n"
     ]
    },
    {
     "name": "stderr",
     "output_type": "stream",
     "text": [
      "Collecting Imgs:  98%|\u001b[32m█████████▊\u001b[0m| 9808/10000 [2:52:39<06:27,  2.02s/it]"
     ]
    },
    {
     "name": "stdout",
     "output_type": "stream",
     "text": [
      "Image.sampleRectangle: Fully masked pixels / pixels outside of the image footprint when sampling band 'B1' with no default value set. Note that calling sampleRectangle() on an image after ee.Image.clip() may result in a sampling bounding box outside the geometry passed to clip().\n"
     ]
    },
    {
     "name": "stderr",
     "output_type": "stream",
     "text": [
      "Collecting Imgs:  98%|\u001b[32m█████████▊\u001b[0m| 9820/10000 [2:52:58<04:55,  1.64s/it]"
     ]
    },
    {
     "name": "stdout",
     "output_type": "stream",
     "text": [
      "Image.sampleRectangle: Fully masked pixels / pixels outside of the image footprint when sampling band 'B10' with no default value set. Note that calling sampleRectangle() on an image after ee.Image.clip() may result in a sampling bounding box outside the geometry passed to clip().\n"
     ]
    },
    {
     "name": "stderr",
     "output_type": "stream",
     "text": [
      "Collecting Imgs: 100%|\u001b[32m██████████\u001b[0m| 10000/10000 [2:58:10<00:00,  1.07s/it]\n"
     ]
    },
    {
     "name": "stdout",
     "output_type": "stream",
     "text": [
      "CPU times: user 15min 11s, sys: 50.2 s, total: 16min 1s\n",
      "Wall time: 2h 58min 23s\n"
     ]
    }
   ],
   "source": [
    "%%time\n",
    "\n",
    "print(data.shape[0])\n",
    "\n",
    "# parrllelize shit\n",
    "_ = Parallel(n_jobs=-1,backend='threading')(\n",
    "    delayed(collect_data_wrapper)\n",
    "    (data, n)\n",
    "    for n in tqdm(range(data.shape[0]), desc='Collecting Imgs: ', colour='green')\n",
    ")"
   ]
  },
  {
   "cell_type": "code",
   "execution_count": 13,
   "id": "e0e5704e",
   "metadata": {
    "execution": {
     "iopub.execute_input": "2023-01-17T21:55:34.319994Z",
     "iopub.status.busy": "2023-01-17T21:55:34.317018Z",
     "iopub.status.idle": "2023-01-17T21:55:34.328933Z",
     "shell.execute_reply": "2023-01-17T21:55:34.327437Z"
    },
    "papermill": {
     "duration": 0.186297,
     "end_time": "2023-01-17T21:55:34.331797",
     "exception": false,
     "start_time": "2023-01-17T21:55:34.145500",
     "status": "completed"
    },
    "tags": []
   },
   "outputs": [
    {
     "data": {
      "text/plain": [
       "[]"
      ]
     },
     "execution_count": 13,
     "metadata": {},
     "output_type": "execute_result"
    }
   ],
   "source": [
    "err_imgs"
   ]
  },
  {
   "cell_type": "code",
   "execution_count": 14,
   "id": "3d00c31e",
   "metadata": {
    "execution": {
     "iopub.execute_input": "2023-01-17T21:55:34.679504Z",
     "iopub.status.busy": "2023-01-17T21:55:34.678317Z",
     "iopub.status.idle": "2023-01-17T21:55:34.687442Z",
     "shell.execute_reply": "2023-01-17T21:55:34.686061Z"
    },
    "papermill": {
     "duration": 0.188145,
     "end_time": "2023-01-17T21:55:34.689992",
     "exception": false,
     "start_time": "2023-01-17T21:55:34.501847",
     "status": "completed"
    },
    "tags": []
   },
   "outputs": [
    {
     "data": {
      "text/plain": [
       "[]"
      ]
     },
     "execution_count": 14,
     "metadata": {},
     "output_type": "execute_result"
    }
   ],
   "source": [
    "errors"
   ]
  },
  {
   "cell_type": "code",
   "execution_count": 15,
   "id": "ba5bec64",
   "metadata": {
    "execution": {
     "iopub.execute_input": "2023-01-17T21:55:35.032760Z",
     "iopub.status.busy": "2023-01-17T21:55:35.032195Z",
     "iopub.status.idle": "2023-01-17T21:55:35.057204Z",
     "shell.execute_reply": "2023-01-17T21:55:35.055965Z"
    },
    "papermill": {
     "duration": 0.201431,
     "end_time": "2023-01-17T21:55:35.060212",
     "exception": false,
     "start_time": "2023-01-17T21:55:34.858781",
     "status": "completed"
    },
    "tags": []
   },
   "outputs": [
    {
     "data": {
      "text/plain": [
       "['ygaq',\n",
       " 'omev',\n",
       " 'viue',\n",
       " 'zkaa',\n",
       " 'skny',\n",
       " 'nhfy',\n",
       " 'gkua',\n",
       " 'azmp',\n",
       " 'opdc',\n",
       " 'sciu',\n",
       " 'xghq',\n",
       " 'qhps',\n",
       " 'tdus',\n",
       " 'wnbq',\n",
       " 'etiy',\n",
       " 'gxyc',\n",
       " 'zrvs',\n",
       " 'jwul',\n",
       " 'tbnx',\n",
       " 'hrzz',\n",
       " 'wzfo',\n",
       " 'cezr',\n",
       " 'siad',\n",
       " 'izep',\n",
       " 'sntf',\n",
       " 'nkzs',\n",
       " 'dpwm',\n",
       " 'gcdj',\n",
       " 'gynv',\n",
       " 'xwiy',\n",
       " 'reah',\n",
       " 'hjzj',\n",
       " 'fgwi',\n",
       " 'ndmi',\n",
       " 'giip',\n",
       " 'lcqt',\n",
       " 'iapq',\n",
       " 'fgeh',\n",
       " 'gaxt',\n",
       " 'xtsy',\n",
       " 'cwpd',\n",
       " 'ohpj',\n",
       " 'ksqd',\n",
       " 'clhx',\n",
       " 'mrxk',\n",
       " 'pnin',\n",
       " 'drzb',\n",
       " 'cmxp',\n",
       " 'dyso',\n",
       " 'kyin',\n",
       " 'ilin',\n",
       " 'yhws',\n",
       " 'qfad',\n",
       " 'erdq',\n",
       " 'cnun',\n",
       " 'ffvs',\n",
       " 'duxb',\n",
       " 'ulji',\n",
       " 'ytqt',\n",
       " 'ljle',\n",
       " 'wxqh',\n",
       " 'budk',\n",
       " 'thed',\n",
       " 'psth',\n",
       " 'qdng',\n",
       " 'otdw',\n",
       " 'shau',\n",
       " 'emtm',\n",
       " 'cftt',\n",
       " 'rzgv',\n",
       " 'oeqq',\n",
       " 'wtbo',\n",
       " 'zali',\n",
       " 'ahsh',\n",
       " 'vehc',\n",
       " 'yslv',\n",
       " 'ccia',\n",
       " 'xgvk',\n",
       " 'gcwu',\n",
       " 'ghwb',\n",
       " 'idve',\n",
       " 'lzki',\n",
       " 'jzmd',\n",
       " 'nunn',\n",
       " 'qvao',\n",
       " 'uvgd',\n",
       " 'erwt',\n",
       " 'udsf',\n",
       " 'wiig',\n",
       " 'cdnp',\n",
       " 'uvfx',\n",
       " 'kadk',\n",
       " 'pcuh',\n",
       " 'udhn',\n",
       " 'flwc',\n",
       " 'vwso',\n",
       " 'xvnr',\n",
       " 'oatq',\n",
       " 'xvtf',\n",
       " 'jzld',\n",
       " 'xjqv',\n",
       " 'oyoj',\n",
       " 'hxrb',\n",
       " 'iwbw',\n",
       " 'xabe',\n",
       " 'vejz',\n",
       " 'hxex',\n",
       " 'goau',\n",
       " 'dvqp',\n",
       " 'hkdb',\n",
       " 'kfzy',\n",
       " 'menq',\n",
       " 'mewl',\n",
       " 'jyqb',\n",
       " 'qowj',\n",
       " 'uvka',\n",
       " 'bpzy',\n",
       " 'oxmx',\n",
       " 'aaoj',\n",
       " 'oxnb',\n",
       " 'qolr',\n",
       " 'rrdz',\n",
       " 'fpdq',\n",
       " 'nojt',\n",
       " 'lvey',\n",
       " 'aoon',\n",
       " 'chkf',\n",
       " 'dmfa',\n",
       " 'jsyt',\n",
       " 'ndzc',\n",
       " 'jdax',\n",
       " 'tyoo',\n",
       " 'gyph',\n",
       " 'aiix',\n",
       " 'anke',\n",
       " 'rhvv',\n",
       " 'psij',\n",
       " 'lkkf',\n",
       " 'opok',\n",
       " 'gsbh',\n",
       " 'oieb',\n",
       " 'bdey',\n",
       " 'nevu',\n",
       " 'xonf',\n",
       " 'gfgp',\n",
       " 'eijl',\n",
       " 'anyq',\n",
       " 'zmjc',\n",
       " 'qcba',\n",
       " 'dzon',\n",
       " 'njok',\n",
       " 'zzio',\n",
       " 'weut',\n",
       " 'auqm',\n",
       " 'zsjh',\n",
       " 'vkrv',\n",
       " 'sxyi',\n",
       " 'ngyx',\n",
       " 'xnov',\n",
       " 'fdfh',\n",
       " 'chvo',\n",
       " 'jluz',\n",
       " 'nbfk',\n",
       " 'fhdz',\n",
       " 'bqqp',\n",
       " 'xfzx',\n",
       " 'nacl',\n",
       " 'uyom',\n",
       " 'xoyu',\n",
       " 'dirk',\n",
       " 'fvaq',\n",
       " 'yukf',\n",
       " 'kmoe',\n",
       " 'nmha',\n",
       " 'cezd',\n",
       " 'xksr',\n",
       " 'kmyd',\n",
       " 'yxyd',\n",
       " 'ivyg',\n",
       " 'clsy',\n",
       " 'xokj',\n",
       " 'vxvk',\n",
       " 'onij',\n",
       " 'qzam',\n",
       " 'qjxl',\n",
       " 'hvgs',\n",
       " 'hrvu',\n",
       " 'fgoe',\n",
       " 'trpj',\n",
       " 'buzy',\n",
       " 'eyuy',\n",
       " 'himz',\n",
       " 'scps',\n",
       " 'mily',\n",
       " 'vvch',\n",
       " 'tlfq',\n",
       " 'eric',\n",
       " 'wwht',\n",
       " 'nyep',\n",
       " 'uylu',\n",
       " 'uakp',\n",
       " 'jcwf',\n",
       " 'uabq',\n",
       " 'yixc',\n",
       " 'oifi',\n",
       " 'oeqk',\n",
       " 'gmlv',\n",
       " 'srzc',\n",
       " 'slfa',\n",
       " 'ysuz',\n",
       " 'ibdk',\n",
       " 'ouxe',\n",
       " 'ucyh',\n",
       " 'ewaq',\n",
       " 'blll',\n",
       " 'rjon',\n",
       " 'wctp',\n",
       " 'pbtv',\n",
       " 'kmfi',\n",
       " 'pxlh',\n",
       " 'cofr',\n",
       " 'sgzh',\n",
       " 'etmk',\n",
       " 'puka',\n",
       " 'deyh',\n",
       " 'gjsr',\n",
       " 'bjnr',\n",
       " 'jfyx',\n",
       " 'ksxs',\n",
       " 'twjj',\n",
       " 'taca',\n",
       " 'wwtn',\n",
       " 'cxej',\n",
       " 'ikmw',\n",
       " 'nyyw',\n",
       " 'hxqu',\n",
       " 'lngb',\n",
       " 'tldn',\n",
       " 'hmui',\n",
       " 'nkjc',\n",
       " 'slpq',\n",
       " 'zfdx',\n",
       " 'ubij',\n",
       " 'yfwn',\n",
       " 'yetj',\n",
       " 'cvxo',\n",
       " 'vdxs',\n",
       " 'snsr',\n",
       " 'ucxi',\n",
       " 'emgt',\n",
       " 'ifmz',\n",
       " 'nhaz',\n",
       " 'xtfj',\n",
       " 'ndwi',\n",
       " 'zgrv',\n",
       " 'sdkj',\n",
       " 'hfmj',\n",
       " 'ejzo',\n",
       " 'ksua',\n",
       " 'wlan',\n",
       " 'rlth',\n",
       " 'qkgm',\n",
       " 'kixq',\n",
       " 'rpha',\n",
       " 'fopf',\n",
       " 'lolp',\n",
       " 'jxji',\n",
       " 'aknj',\n",
       " 'zdxq',\n",
       " 'qxkd',\n",
       " 'asqy',\n",
       " 'fjmv',\n",
       " 'yldp',\n",
       " 'gsra',\n",
       " 'ywee',\n",
       " 'labg',\n",
       " 'xotl',\n",
       " 'yywn',\n",
       " 'rkyu',\n",
       " 'fbgg',\n",
       " 'wgug',\n",
       " 'dqcd',\n",
       " 'dfzt',\n",
       " 'mjuq',\n",
       " 'whtk',\n",
       " 'cmhc',\n",
       " 'xvyj',\n",
       " 'tiht',\n",
       " 'mqtz',\n",
       " 'jznu',\n",
       " 'jwrm',\n",
       " 'iqzu',\n",
       " 'tono',\n",
       " 'exhk',\n",
       " 'lgxr',\n",
       " 'erdj',\n",
       " 'wxyf',\n",
       " 'cigc',\n",
       " 'avxh',\n",
       " 'rrpf',\n",
       " 'rrae',\n",
       " 'jjod',\n",
       " 'iutj',\n",
       " 'tkkc',\n",
       " 'qagn',\n",
       " 'kybv',\n",
       " 'rfbt',\n",
       " 'uwqy',\n",
       " 'wnfg',\n",
       " 'dagq',\n",
       " 'pxzr',\n",
       " 'fmhs',\n",
       " 'szaw',\n",
       " 'hvaq',\n",
       " 'sqym',\n",
       " 'hpqh',\n",
       " 'twzz',\n",
       " 'eizo',\n",
       " 'sbws',\n",
       " 'sqmt',\n",
       " 'vsyf',\n",
       " 'pqpy',\n",
       " 'cotx',\n",
       " 'blfc',\n",
       " 'jgjp',\n",
       " 'ikpj',\n",
       " 'crzr',\n",
       " 'sbbv',\n",
       " 'jiry',\n",
       " 'ulap',\n",
       " 'kwhv',\n",
       " 'chxv',\n",
       " 'idtb',\n",
       " 'quyx',\n",
       " 'ddna',\n",
       " 'hyuq',\n",
       " 'cfsw',\n",
       " 'avzx',\n",
       " 'vhqo',\n",
       " 'odzr',\n",
       " 'gkmh',\n",
       " 'qqjj',\n",
       " 'qpcy',\n",
       " 'ucpc',\n",
       " 'vmve',\n",
       " 'jykz',\n",
       " 'nttm',\n",
       " 'efsi',\n",
       " 'keec',\n",
       " 'wkxl',\n",
       " 'dbjg',\n",
       " 'htlg',\n",
       " 'qtbn',\n",
       " 'aebg',\n",
       " 'rbap',\n",
       " 'gljn',\n",
       " 'fgcc',\n",
       " 'bgvy',\n",
       " 'icex',\n",
       " 'nwtl',\n",
       " 'jrdh',\n",
       " 'icep',\n",
       " 'sfuz',\n",
       " 'ecbt',\n",
       " 'ditl',\n",
       " 'feni',\n",
       " 'lqce',\n",
       " 'kedr',\n",
       " 'pbfl',\n",
       " 'wnrq',\n",
       " 'gdlj',\n",
       " 'rvvn',\n",
       " 'zyvp',\n",
       " 'fwir',\n",
       " 'buzs',\n",
       " 'xuxz',\n",
       " 'lwjg',\n",
       " 'miys',\n",
       " 'azly',\n",
       " 'xwyf',\n",
       " 'gbrf',\n",
       " 'mgvx',\n",
       " 'bpva',\n",
       " 'wtaw',\n",
       " 'mtqu',\n",
       " 'cckm',\n",
       " 'xsie',\n",
       " 'marv',\n",
       " 'muba',\n",
       " 'mpvj',\n",
       " 'pmgv',\n",
       " 'dpsd',\n",
       " 'myqt',\n",
       " 'trba',\n",
       " 'lrjj',\n",
       " 'jzzo',\n",
       " 'mhoa',\n",
       " 'ikcx',\n",
       " 'ldmm',\n",
       " 'atbu',\n",
       " 'owhp',\n",
       " 'dxju',\n",
       " 'nsam',\n",
       " 'hkge',\n",
       " 'yssh',\n",
       " 'fmli',\n",
       " 'msnb',\n",
       " 'tvgc',\n",
       " 'vmbj',\n",
       " 'nnst',\n",
       " 'yavi',\n",
       " 'nlxb',\n",
       " 'gnbj',\n",
       " 'anlp',\n",
       " 'wzng',\n",
       " 'rkka',\n",
       " 'mdpg',\n",
       " 'gvxm',\n",
       " 'ksgr',\n",
       " 'ghsc',\n",
       " 'uyec',\n",
       " 'ygqk',\n",
       " 'nyfk',\n",
       " 'odpt',\n",
       " 'bocw',\n",
       " 'pksk',\n",
       " 'smvc',\n",
       " 'kdqo',\n",
       " 'onlg',\n",
       " 'brcw',\n",
       " 'mpdx',\n",
       " 'bleo',\n",
       " 'mbrv',\n",
       " 'awpd',\n",
       " 'kxvq',\n",
       " 'cfgt',\n",
       " 'iehp',\n",
       " 'hjtw',\n",
       " 'asge',\n",
       " 'mous',\n",
       " 'qaqt',\n",
       " 'lgfm',\n",
       " 'rnqn',\n",
       " 'kkvw',\n",
       " 'yewl',\n",
       " 'zumi',\n",
       " 'ywcm',\n",
       " 'bmxf',\n",
       " 'llll',\n",
       " 'lrui',\n",
       " 'todz',\n",
       " 'edgf',\n",
       " 'zvag',\n",
       " 'vzpk',\n",
       " 'dpzd',\n",
       " 'yhug',\n",
       " 'gwbg',\n",
       " 'jzov',\n",
       " 'eqto',\n",
       " 'hpwg',\n",
       " 'ubbx',\n",
       " 'fifi',\n",
       " 'gzug',\n",
       " 'fset',\n",
       " 'uaxi',\n",
       " 'szhs',\n",
       " 'aojo',\n",
       " 'enfc',\n",
       " 'rlxr',\n",
       " 'pkan',\n",
       " 'mpnt',\n",
       " 'mllc',\n",
       " 'gdoh',\n",
       " 'kpgm',\n",
       " 'gbnz',\n",
       " 'yvyi',\n",
       " 'vipz',\n",
       " 'gikp',\n",
       " 'jbmw',\n",
       " 'fwqb',\n",
       " 'grir',\n",
       " 'aipr',\n",
       " 'vxpw',\n",
       " 'uhqt',\n",
       " 'bhyk',\n",
       " 'dmny',\n",
       " 'fbnr',\n",
       " 'pvvf',\n",
       " 'rury',\n",
       " 'ikqp',\n",
       " 'adqc',\n",
       " 'thzo',\n",
       " 'kfcj',\n",
       " 'mjnw',\n",
       " 'vxcs',\n",
       " 'bqex',\n",
       " 'jhrx',\n",
       " 'deye',\n",
       " 'rkdl',\n",
       " 'jgvm',\n",
       " 'nzku',\n",
       " 'hpal',\n",
       " 'zjba',\n",
       " 'ijmk',\n",
       " 'wpjt',\n",
       " 'isxd',\n",
       " 'whtl',\n",
       " 'ilrv',\n",
       " 'stuh',\n",
       " 'ydiu',\n",
       " 'przy',\n",
       " 'onfe',\n",
       " 'bfir',\n",
       " 'ebyh',\n",
       " 'fafo',\n",
       " 'lbru',\n",
       " 'ticv',\n",
       " 'lbfi',\n",
       " 'njed',\n",
       " 'caeb',\n",
       " 'jwfo',\n",
       " 'gmau',\n",
       " 'phxr',\n",
       " 'piyr',\n",
       " 'hqaa',\n",
       " 'bdxz',\n",
       " 'ubek',\n",
       " 'ghdo',\n",
       " 'zcjf',\n",
       " 'gjkr',\n",
       " 'fhcz',\n",
       " 'eahb',\n",
       " 'cwmb',\n",
       " 'fxnp',\n",
       " 'gvek',\n",
       " 'qhuo',\n",
       " 'omcq',\n",
       " 'hkhf',\n",
       " 'jmyc',\n",
       " 'uonl',\n",
       " 'rroc',\n",
       " 'shpx',\n",
       " 'vooc',\n",
       " 'vhtu',\n",
       " 'gyci',\n",
       " 'pztu',\n",
       " 'hbsl',\n",
       " 'vimd',\n",
       " 'msfh',\n",
       " 'evtq',\n",
       " 'rduy',\n",
       " 'bolx',\n",
       " 'pfcv',\n",
       " 'aqqv',\n",
       " 'zzuq',\n",
       " 'tped',\n",
       " 'vxps',\n",
       " 'qwwm',\n",
       " 'ehfr',\n",
       " 'efgc',\n",
       " 'qend',\n",
       " 'eikg',\n",
       " 'meao',\n",
       " 'lglc',\n",
       " 'wfij',\n",
       " 'yokq',\n",
       " 'mnor',\n",
       " 'pqwi',\n",
       " 'gnib',\n",
       " 'qghj',\n",
       " 'dhzq',\n",
       " 'uqri',\n",
       " 'bzpt',\n",
       " 'anra',\n",
       " 'sgpv',\n",
       " 'tjlb',\n",
       " 'phia',\n",
       " 'bdxj',\n",
       " 'lcfu',\n",
       " 'fieg',\n",
       " 'ynjo',\n",
       " 'kere',\n",
       " 'oiwr',\n",
       " 'ilgz',\n",
       " 'jwmy',\n",
       " 'zynp',\n",
       " 'dedb',\n",
       " 'sarh',\n",
       " 'lawu',\n",
       " 'ulwi',\n",
       " 'usyi',\n",
       " 'wutf',\n",
       " 'dshj',\n",
       " 'xtny',\n",
       " 'dvem',\n",
       " 'xlnd',\n",
       " 'xkjg',\n",
       " 'wlgh',\n",
       " 'lyvb',\n",
       " 'speu',\n",
       " 'bsir',\n",
       " 'uzpa',\n",
       " 'thns',\n",
       " 'gxjo',\n",
       " 'rpgg',\n",
       " 'khwf',\n",
       " 'vuxv',\n",
       " 'dcil',\n",
       " 'ibyf',\n",
       " 'ogot',\n",
       " 'pdht',\n",
       " 'yzmo',\n",
       " 'gpbx',\n",
       " 'qluv',\n",
       " 'tmwn',\n",
       " 'jgvc',\n",
       " 'vqgo',\n",
       " 'dumy',\n",
       " 'mxpc',\n",
       " 'tmxq',\n",
       " 'bzov',\n",
       " 'ouuh',\n",
       " 'xauh',\n",
       " 'oliu',\n",
       " 'cnaz',\n",
       " 'ogoa',\n",
       " 'cepb',\n",
       " 'clxr',\n",
       " 'yaod',\n",
       " 'vdtq',\n",
       " 'dqss',\n",
       " 'rvrp',\n",
       " 'atlt',\n",
       " 'ntuk',\n",
       " 'stci',\n",
       " 'dglj',\n",
       " 'thei',\n",
       " 'pchc',\n",
       " 'qrud',\n",
       " 'wcqu',\n",
       " 'opne',\n",
       " 'dsti',\n",
       " 'wmrz',\n",
       " 'dfbg',\n",
       " 'ylrq',\n",
       " 'oiay',\n",
       " 'wsqm',\n",
       " 'liaf',\n",
       " 'jved',\n",
       " 'vnhs',\n",
       " 'btpy',\n",
       " 'oear',\n",
       " 'iqkf',\n",
       " 'hsjx',\n",
       " 'aamg',\n",
       " 'rhzv',\n",
       " 'isvk',\n",
       " 'lsdw',\n",
       " 'mvmo',\n",
       " 'wyli',\n",
       " 'toqn',\n",
       " 'magg',\n",
       " 'pqzf',\n",
       " 'uqah',\n",
       " 'tsai',\n",
       " 'iypi',\n",
       " 'mjrc',\n",
       " 'bpff',\n",
       " 'mqmr',\n",
       " 'mlun',\n",
       " 'niso',\n",
       " 'kgvk',\n",
       " 'reqs',\n",
       " 'yisg',\n",
       " 'igvn',\n",
       " 'sdcr',\n",
       " 'kgfb',\n",
       " 'wjfg',\n",
       " 'ttxx',\n",
       " 'tvgt',\n",
       " 'qgis',\n",
       " 'znou',\n",
       " 'jyot',\n",
       " 'lpth',\n",
       " 'nlhq',\n",
       " 'fmhy',\n",
       " 'fnml',\n",
       " 'kcnd',\n",
       " 'ymzb',\n",
       " 'yooc',\n",
       " 'csws',\n",
       " 'kflt',\n",
       " 'rvpe',\n",
       " 'khmn',\n",
       " 'skyx',\n",
       " 'rpgd',\n",
       " 'vqef',\n",
       " 'awsa',\n",
       " 'qvqu',\n",
       " 'gdjq',\n",
       " 'rfcf',\n",
       " 'qzbv',\n",
       " 'yjxj',\n",
       " 'ddvw',\n",
       " 'qxfn',\n",
       " 'ffov',\n",
       " 'kvxu',\n",
       " 'veeq',\n",
       " 'qtjz',\n",
       " 'kxed',\n",
       " 'dfri',\n",
       " 'zlgg',\n",
       " 'ylpl',\n",
       " 'fosp',\n",
       " 'suxi',\n",
       " 'fwlv',\n",
       " 'aaig',\n",
       " 'cbwv',\n",
       " 'jekd',\n",
       " 'trsj',\n",
       " 'trqu',\n",
       " 'tpiz',\n",
       " 'cdyf',\n",
       " 'yzfv',\n",
       " 'yynu',\n",
       " 'yymh',\n",
       " 'vgjo',\n",
       " 'fcpt',\n",
       " 'jilw',\n",
       " 'ywwj',\n",
       " 'jqfy',\n",
       " 'bzti',\n",
       " 'zesi',\n",
       " 'vjkj',\n",
       " 'fqpo',\n",
       " 'vjuq',\n",
       " 'brkd',\n",
       " 'svzm',\n",
       " 'svim',\n",
       " 'yssr',\n",
       " 'bzzo',\n",
       " 'fbde',\n",
       " 'iyyq',\n",
       " 'mtdn',\n",
       " 'idsw',\n",
       " 'uvso',\n",
       " 'dqkb',\n",
       " 'xxxl',\n",
       " 'mlpk',\n",
       " 'wtyj',\n",
       " 'ngmp',\n",
       " 'xvtx',\n",
       " 'eqeu',\n",
       " 'qilu',\n",
       " 'mtgl',\n",
       " 'aypd',\n",
       " 'mufm',\n",
       " 'pbvm',\n",
       " 'nfwh',\n",
       " 'gggo',\n",
       " 'muxe',\n",
       " 'mzig',\n",
       " 'otkg',\n",
       " 'ndcj',\n",
       " 'pike',\n",
       " 'mdmo',\n",
       " 'pijh',\n",
       " 'ehab',\n",
       " 'qhbi',\n",
       " 'lsvo',\n",
       " 'btor',\n",
       " 'wlgu',\n",
       " 'uprb',\n",
       " 'nqnz',\n",
       " 'ggls',\n",
       " 'pzyu',\n",
       " 'lznw',\n",
       " 'ouww',\n",
       " 'qact',\n",
       " 'zsts',\n",
       " 'yaav',\n",
       " 'hlth',\n",
       " 'pufm',\n",
       " 'ygxr',\n",
       " 'lsbm',\n",
       " 'lvzh',\n",
       " 'fgvm',\n",
       " 'cqcs',\n",
       " 'okht',\n",
       " 'aajw',\n",
       " 'jilc',\n",
       " 'otgn',\n",
       " 'aecj',\n",
       " 'fuai',\n",
       " 'nwnk',\n",
       " 'juyx',\n",
       " 'beyi',\n",
       " 'xllo',\n",
       " 'yeqr',\n",
       " 'qefx',\n",
       " 'qdyf',\n",
       " 'rbfi',\n",
       " 'ruag',\n",
       " 'rgfb',\n",
       " 'ulvq',\n",
       " 'fluo',\n",
       " 'clcy',\n",
       " 'muin',\n",
       " 'scbt',\n",
       " 'gqzc',\n",
       " 'zvkh',\n",
       " 'ziic',\n",
       " 'gedz',\n",
       " 'rdly',\n",
       " 'djxb',\n",
       " 'ayhj',\n",
       " 'amwf',\n",
       " 'zopp',\n",
       " 'omnc',\n",
       " 'jzhh',\n",
       " 'ekdh',\n",
       " 'odkk',\n",
       " 'bowd',\n",
       " 'nphm',\n",
       " 'niho',\n",
       " 'xowa',\n",
       " 'lxdv',\n",
       " 'tgws',\n",
       " 'yxxs',\n",
       " 'ikpp',\n",
       " 'kgyo',\n",
       " 'jzoj',\n",
       " 'kaou',\n",
       " 'stmr',\n",
       " 'syip',\n",
       " 'jusz',\n",
       " 'gvan',\n",
       " 'rjca',\n",
       " 'zzzi',\n",
       " 'dgos',\n",
       " 'ltry',\n",
       " 'zbpp',\n",
       " 'tgqm',\n",
       " 'rngr',\n",
       " 'qdry',\n",
       " 'ocnp',\n",
       " 'hlfk',\n",
       " 'znri',\n",
       " 'wqlm',\n",
       " 'utwr',\n",
       " 'ekoi',\n",
       " 'zzny',\n",
       " 'cvhj',\n",
       " 'gkju',\n",
       " 'xodu',\n",
       " 'azln',\n",
       " 'jlxe',\n",
       " 'zirn',\n",
       " 'paoo',\n",
       " 'lfsx',\n",
       " 'xvku',\n",
       " 'mxon',\n",
       " 'xwfq',\n",
       " 'hhzm',\n",
       " 'yfnb',\n",
       " 'ajmc',\n",
       " 'figz',\n",
       " 'mhea',\n",
       " 'dtrg',\n",
       " 'dryb',\n",
       " 'jilz',\n",
       " 'wwal',\n",
       " 'brpr',\n",
       " 'fttq',\n",
       " 'heek',\n",
       " 'zukf',\n",
       " 'fkye',\n",
       " 'tlka',\n",
       " 'nbsk',\n",
       " 'kpmx',\n",
       " 'mnne',\n",
       " 'hdme',\n",
       " 'mepn',\n",
       " 'zsni',\n",
       " 'phoz',\n",
       " 'zqci',\n",
       " 'wbce',\n",
       " 'eqyi',\n",
       " 'spre',\n",
       " 'vszl',\n",
       " 'pwcw',\n",
       " 'mjgw',\n",
       " 'sklw',\n",
       " 'elsf',\n",
       " 'cpet',\n",
       " 'gqce',\n",
       " 'bktz',\n",
       " 'bovi',\n",
       " 'mhxd',\n",
       " 'knyk',\n",
       " 'jesm',\n",
       " 'rrfz',\n",
       " 'rdkg',\n",
       " 'gevh',\n",
       " 'ifqo',\n",
       " 'quje',\n",
       " 'iafu',\n",
       " 'qtvb',\n",
       " 'dzfg',\n",
       " 'amcm',\n",
       " 'gmkr',\n",
       " 'onxb',\n",
       " 'hycd',\n",
       " 'dgif',\n",
       " 'gjrc',\n",
       " 'zdgm',\n",
       " 'hlsf',\n",
       " 'otln',\n",
       " 'ywqb',\n",
       " 'xzaa',\n",
       " 'rexp',\n",
       " 'imls',\n",
       " 'xxmx',\n",
       " 'zlbs',\n",
       " 'paso',\n",
       " 'jbbs',\n",
       " 'hfpg',\n",
       " 'xkfa',\n",
       " 'xlfv',\n",
       " 'xmbk',\n",
       " 'vagg',\n",
       " 'cwkl',\n",
       " 'fvdx',\n",
       " 'xmtr',\n",
       " 'xooe',\n",
       " 'irut',\n",
       " 'irzu',\n",
       " 'nxeu',\n",
       " 'arka',\n",
       " 'xwdo',\n",
       " 'xxla',\n",
       " 'eder',\n",
       " 'efkx',\n",
       " 'uzkv',\n",
       " 'xdmj',\n",
       " 'shmg',\n",
       " 'uvyn',\n",
       " 'fajn',\n",
       " 'bzcl',\n",
       " 'zvay',\n",
       " 'uuph',\n",
       " 'bstl',\n",
       " 'fdet',\n",
       " 'lfzj',\n",
       " 'dorm',\n",
       " 'lpzv',\n",
       " 'lrvc',\n",
       " 'pmbk',\n",
       " 'tqza',\n",
       " 'falc',\n",
       " 'dcjm',\n",
       " 'umey',\n",
       " 'kxtj',\n",
       " 'loex',\n",
       " 'guhl',\n",
       " 'phrt',\n",
       " 'mwnj',\n",
       " 'zgkw',\n",
       " 'dauw',\n",
       " 'evgk',\n",
       " 'trgo',\n",
       " 'knvh',\n",
       " 'tszb',\n",
       " 'odev',\n",
       " 'ebrj',\n",
       " 'zsws',\n",
       " 'pfte',\n",
       " 'ejra',\n",
       " 'kyfx',\n",
       " 'kkra',\n",
       " 'anmf',\n",
       " 'mkus',\n",
       " 'cgpe',\n",
       " 'nohk',\n",
       " 'wzzo',\n",
       " 'vueu',\n",
       " 'bstz',\n",
       " 'icqm',\n",
       " 'uapo',\n",
       " 'smry',\n",
       " 'uyve',\n",
       " 'yhlm',\n",
       " 'gjvr',\n",
       " 'jgyj',\n",
       " 'shhb',\n",
       " 'zchz',\n",
       " 'gsyh',\n",
       " 'hhgq',\n",
       " 'rfpo',\n",
       " 'onbx',\n",
       " ...]"
      ]
     },
     "execution_count": 15,
     "metadata": {},
     "output_type": "execute_result"
    }
   ],
   "source": [
    "img_not_found"
   ]
  },
  {
   "cell_type": "code",
   "execution_count": 16,
   "id": "9d76ccac",
   "metadata": {
    "execution": {
     "iopub.execute_input": "2023-01-17T21:55:35.408103Z",
     "iopub.status.busy": "2023-01-17T21:55:35.407649Z",
     "iopub.status.idle": "2023-01-17T21:55:35.420148Z",
     "shell.execute_reply": "2023-01-17T21:55:35.418724Z"
    },
    "papermill": {
     "duration": 0.191035,
     "end_time": "2023-01-17T21:55:35.422736",
     "exception": false,
     "start_time": "2023-01-17T21:55:35.231701",
     "status": "completed"
    },
    "tags": []
   },
   "outputs": [
    {
     "name": "stdout",
     "output_type": "stream",
     "text": [
      "misses: 1544\n",
      "Total files pulled: 8291\n"
     ]
    }
   ],
   "source": [
    "print(\"misses:\", len(img_not_found) + len(err_imgs))\n",
    "print('Total files pulled:', len(os.listdir(f'/kaggle/working/{img_folder}')))"
   ]
  },
  {
   "cell_type": "code",
   "execution_count": 17,
   "id": "4cda1e21",
   "metadata": {
    "execution": {
     "iopub.execute_input": "2023-01-17T21:55:35.769079Z",
     "iopub.status.busy": "2023-01-17T21:55:35.768652Z",
     "iopub.status.idle": "2023-01-17T21:55:35.787920Z",
     "shell.execute_reply": "2023-01-17T21:55:35.786632Z"
    },
    "papermill": {
     "duration": 0.194784,
     "end_time": "2023-01-17T21:55:35.790454",
     "exception": false,
     "start_time": "2023-01-17T21:55:35.595670",
     "status": "completed"
    },
    "tags": []
   },
   "outputs": [
    {
     "data": {
      "text/plain": [
       "['errors-p1.joblib']"
      ]
     },
     "execution_count": 17,
     "metadata": {},
     "output_type": "execute_result"
    }
   ],
   "source": [
    "# save files\n",
    "joblib.dump(err_imgs, 'missed_imgs-p1.joblib')\n",
    "joblib.dump(img_not_found, 'imgs_not_found_in_col-p1.joblib')\n",
    "joblib.dump(errors, 'errors-p1.joblib')\n",
    "\n",
    "# img_metadata_df.to_csv(f'{img_folder}/{img_folder}_metadata.csv', index=False)"
   ]
  },
  {
   "cell_type": "code",
   "execution_count": 18,
   "id": "a39dfa12",
   "metadata": {
    "execution": {
     "iopub.execute_input": "2023-01-17T21:55:36.134776Z",
     "iopub.status.busy": "2023-01-17T21:55:36.134273Z",
     "iopub.status.idle": "2023-01-17T21:55:36.141967Z",
     "shell.execute_reply": "2023-01-17T21:55:36.140777Z"
    },
    "papermill": {
     "duration": 0.182763,
     "end_time": "2023-01-17T21:55:36.144498",
     "exception": false,
     "start_time": "2023-01-17T21:55:35.961735",
     "status": "completed"
    },
    "tags": []
   },
   "outputs": [
    {
     "data": {
      "text/plain": [
       "4"
      ]
     },
     "execution_count": 18,
     "metadata": {},
     "output_type": "execute_result"
    }
   ],
   "source": [
    "os.cpu_count()"
   ]
  },
  {
   "cell_type": "code",
   "execution_count": null,
   "id": "379e59a5",
   "metadata": {
    "papermill": {
     "duration": 0.169395,
     "end_time": "2023-01-17T21:55:36.484684",
     "exception": false,
     "start_time": "2023-01-17T21:55:36.315289",
     "status": "completed"
    },
    "tags": []
   },
   "outputs": [],
   "source": []
  }
 ],
 "metadata": {
  "kernelspec": {
   "display_name": "Python 3",
   "language": "python",
   "name": "python3"
  },
  "language_info": {
   "codemirror_mode": {
    "name": "ipython",
    "version": 3
   },
   "file_extension": ".py",
   "mimetype": "text/x-python",
   "name": "python",
   "nbconvert_exporter": "python",
   "pygments_lexer": "ipython3",
   "version": "3.7.12"
  },
  "papermill": {
   "default_parameters": {},
   "duration": 10720.91542,
   "end_time": "2023-01-17T21:55:37.702282",
   "environment_variables": {},
   "exception": null,
   "input_path": "__notebook__.ipynb",
   "output_path": "__notebook__.ipynb",
   "parameters": {},
   "start_time": "2023-01-17T18:56:56.786862",
   "version": "2.3.4"
  }
 },
 "nbformat": 4,
 "nbformat_minor": 5
}
