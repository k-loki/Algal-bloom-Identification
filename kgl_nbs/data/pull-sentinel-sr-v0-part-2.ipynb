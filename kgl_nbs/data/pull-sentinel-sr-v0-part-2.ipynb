{
 "cells": [
  {
   "cell_type": "markdown",
   "id": "7e715e16",
   "metadata": {
    "papermill": {
     "duration": 0.007905,
     "end_time": "2023-01-17T18:56:17.777206",
     "exception": false,
     "start_time": "2023-01-17T18:56:17.769301",
     "status": "completed"
    },
    "tags": []
   },
   "source": [
    "**``sentinel 8 imgs 500x500 m around poi B1 - B11 bands L-1C(TOA) imgs this time.``**\n",
    "\n",
    "## Notes\n",
    "\n",
    "- dataset_v0 "
   ]
  },
  {
   "cell_type": "code",
   "execution_count": 1,
   "id": "2d29a365",
   "metadata": {
    "execution": {
     "iopub.execute_input": "2023-01-17T18:56:17.793401Z",
     "iopub.status.busy": "2023-01-17T18:56:17.792886Z",
     "iopub.status.idle": "2023-01-17T18:56:17.799754Z",
     "shell.execute_reply": "2023-01-17T18:56:17.798522Z"
    },
    "papermill": {
     "duration": 0.017931,
     "end_time": "2023-01-17T18:56:17.802253",
     "exception": false,
     "start_time": "2023-01-17T18:56:17.784322",
     "status": "completed"
    },
    "tags": []
   },
   "outputs": [],
   "source": [
    "# ! pip install psycopg2-binary\n",
    "# ! pip install postgres\n",
    "\n",
    "# # # ! sudo apt install libpq-dev python3-dev \n",
    "# # ! sudo apt-get install libpq-dev python-dev -y --fix-missing\n",
    "\n",
    "\n",
    "# ! sudo apt-get install postgresql-server-dev-all -y\n",
    "# ! sudo apt-get install postgresql-common -y\n",
    "\n",
    "\n",
    "# ! pip install datacube rioxarray odc-cloud\n",
    "# ! pip install geopandas --upgrade\n",
    "\n",
    "# this shit ain't working!"
   ]
  },
  {
   "cell_type": "markdown",
   "id": "81ebacee",
   "metadata": {
    "papermill": {
     "duration": 0.006538,
     "end_time": "2023-01-17T18:56:17.816259",
     "exception": false,
     "start_time": "2023-01-17T18:56:17.809721",
     "status": "completed"
    },
    "tags": []
   },
   "source": [
    "# Load metadata and dependencies"
   ]
  },
  {
   "cell_type": "markdown",
   "id": "17cfd3a5",
   "metadata": {
    "papermill": {
     "duration": 0.006561,
     "end_time": "2023-01-17T18:56:17.830163",
     "exception": false,
     "start_time": "2023-01-17T18:56:17.823602",
     "status": "completed"
    },
    "tags": []
   },
   "source": [
    "## Connect with earth engine"
   ]
  },
  {
   "cell_type": "code",
   "execution_count": 2,
   "id": "8839764e",
   "metadata": {
    "execution": {
     "iopub.execute_input": "2023-01-17T18:56:17.845983Z",
     "iopub.status.busy": "2023-01-17T18:56:17.845561Z",
     "iopub.status.idle": "2023-01-17T18:56:19.482474Z",
     "shell.execute_reply": "2023-01-17T18:56:19.481017Z"
    },
    "papermill": {
     "duration": 1.648652,
     "end_time": "2023-01-17T18:56:19.485402",
     "exception": false,
     "start_time": "2023-01-17T18:56:17.836750",
     "status": "completed"
    },
    "tags": []
   },
   "outputs": [],
   "source": [
    "import ee\n",
    "from kaggle_secrets import UserSecretsClient\n",
    "\n",
    "user_secrets = UserSecretsClient()\n",
    "service_account = user_secrets.get_secret(\"google_service_account\")\n",
    "json_key_path = '/kaggle/input/gc-json-key/ticktickbloom-project-000e9745b830-json-key.json'\n",
    "credentials = ee.ServiceAccountCredentials(service_account, json_key_path)\n",
    "\n",
    "ee.Initialize(credentials)"
   ]
  },
  {
   "cell_type": "markdown",
   "id": "e7006310",
   "metadata": {
    "papermill": {
     "duration": 0.006165,
     "end_time": "2023-01-17T18:56:19.498768",
     "exception": false,
     "start_time": "2023-01-17T18:56:19.492603",
     "status": "completed"
    },
    "tags": []
   },
   "source": [
    "# Import data laoding and manipulating libs"
   ]
  },
  {
   "cell_type": "code",
   "execution_count": 3,
   "id": "715ee54f",
   "metadata": {
    "execution": {
     "iopub.execute_input": "2023-01-17T18:56:19.513886Z",
     "iopub.status.busy": "2023-01-17T18:56:19.513426Z",
     "iopub.status.idle": "2023-01-17T18:56:19.519419Z",
     "shell.execute_reply": "2023-01-17T18:56:19.517846Z"
    },
    "papermill": {
     "duration": 0.016345,
     "end_time": "2023-01-17T18:56:19.521927",
     "exception": false,
     "start_time": "2023-01-17T18:56:19.505582",
     "status": "completed"
    },
    "tags": []
   },
   "outputs": [],
   "source": [
    "# ! pip install geemap -q"
   ]
  },
  {
   "cell_type": "code",
   "execution_count": 4,
   "id": "7e2deba2",
   "metadata": {
    "execution": {
     "iopub.execute_input": "2023-01-17T18:56:19.537762Z",
     "iopub.status.busy": "2023-01-17T18:56:19.537022Z",
     "iopub.status.idle": "2023-01-17T18:56:19.786779Z",
     "shell.execute_reply": "2023-01-17T18:56:19.785453Z"
    },
    "papermill": {
     "duration": 0.261152,
     "end_time": "2023-01-17T18:56:19.789754",
     "exception": false,
     "start_time": "2023-01-17T18:56:19.528602",
     "status": "completed"
    },
    "tags": []
   },
   "outputs": [],
   "source": [
    "import datetime\n",
    "import os\n",
    "import sys\n",
    "\n",
    "import pandas as pd\n",
    "import numpy as np\n",
    "import matplotlib.pyplot as plt\n",
    "from tqdm import tqdm\n",
    "import joblib\n",
    "from joblib import Parallel, delayed\n",
    "\n",
    "import geopy.distance as distance\n",
    "\n",
    "import warnings\n",
    "warnings.filterwarnings('ignore')"
   ]
  },
  {
   "cell_type": "code",
   "execution_count": 5,
   "id": "56a22b72",
   "metadata": {
    "execution": {
     "iopub.execute_input": "2023-01-17T18:56:19.806599Z",
     "iopub.status.busy": "2023-01-17T18:56:19.805951Z",
     "iopub.status.idle": "2023-01-17T18:56:19.919436Z",
     "shell.execute_reply": "2023-01-17T18:56:19.917951Z"
    },
    "papermill": {
     "duration": 0.124034,
     "end_time": "2023-01-17T18:56:19.922119",
     "exception": false,
     "start_time": "2023-01-17T18:56:19.798085",
     "status": "completed"
    },
    "tags": []
   },
   "outputs": [],
   "source": [
    "metadata = pd.read_csv('/kaggle/input/ticktickbloomdataset/metadata.csv')\n",
    "sub_format = pd.read_csv('/kaggle/input/ticktickbloomdataset/submission_format.csv')\n",
    "train_labels = pd.read_csv('/kaggle/input/ticktickbloomdataset/train_labels.csv')"
   ]
  },
  {
   "cell_type": "code",
   "execution_count": 6,
   "id": "66a95f6f",
   "metadata": {
    "execution": {
     "iopub.execute_input": "2023-01-17T18:56:19.937349Z",
     "iopub.status.busy": "2023-01-17T18:56:19.936919Z",
     "iopub.status.idle": "2023-01-17T18:56:19.986659Z",
     "shell.execute_reply": "2023-01-17T18:56:19.985328Z"
    },
    "papermill": {
     "duration": 0.060803,
     "end_time": "2023-01-17T18:56:19.989667",
     "exception": false,
     "start_time": "2023-01-17T18:56:19.928864",
     "status": "completed"
    },
    "tags": []
   },
   "outputs": [
    {
     "data": {
      "text/html": [
       "<div>\n",
       "<style scoped>\n",
       "    .dataframe tbody tr th:only-of-type {\n",
       "        vertical-align: middle;\n",
       "    }\n",
       "\n",
       "    .dataframe tbody tr th {\n",
       "        vertical-align: top;\n",
       "    }\n",
       "\n",
       "    .dataframe thead th {\n",
       "        text-align: right;\n",
       "    }\n",
       "</style>\n",
       "<table border=\"1\" class=\"dataframe\">\n",
       "  <thead>\n",
       "    <tr style=\"text-align: right;\">\n",
       "      <th></th>\n",
       "      <th>uid</th>\n",
       "      <th>latitude</th>\n",
       "      <th>longitude</th>\n",
       "      <th>date</th>\n",
       "      <th>split</th>\n",
       "    </tr>\n",
       "  </thead>\n",
       "  <tbody>\n",
       "    <tr>\n",
       "      <th>6540</th>\n",
       "      <td>hfvr</td>\n",
       "      <td>36.796200</td>\n",
       "      <td>-121.782000</td>\n",
       "      <td>2021-12-29</td>\n",
       "      <td>test</td>\n",
       "    </tr>\n",
       "    <tr>\n",
       "      <th>6864</th>\n",
       "      <td>howu</td>\n",
       "      <td>36.708500</td>\n",
       "      <td>-121.749000</td>\n",
       "      <td>2021-12-29</td>\n",
       "      <td>test</td>\n",
       "    </tr>\n",
       "    <tr>\n",
       "      <th>12443</th>\n",
       "      <td>nsoi</td>\n",
       "      <td>36.736800</td>\n",
       "      <td>-121.734000</td>\n",
       "      <td>2021-12-29</td>\n",
       "      <td>test</td>\n",
       "    </tr>\n",
       "    <tr>\n",
       "      <th>14254</th>\n",
       "      <td>prfi</td>\n",
       "      <td>36.751800</td>\n",
       "      <td>-121.742000</td>\n",
       "      <td>2021-12-29</td>\n",
       "      <td>test</td>\n",
       "    </tr>\n",
       "    <tr>\n",
       "      <th>17559</th>\n",
       "      <td>thki</td>\n",
       "      <td>36.725400</td>\n",
       "      <td>-121.730000</td>\n",
       "      <td>2021-12-29</td>\n",
       "      <td>test</td>\n",
       "    </tr>\n",
       "    <tr>\n",
       "      <th>...</th>\n",
       "      <td>...</td>\n",
       "      <td>...</td>\n",
       "      <td>...</td>\n",
       "      <td>...</td>\n",
       "      <td>...</td>\n",
       "    </tr>\n",
       "    <tr>\n",
       "      <th>5317</th>\n",
       "      <td>fwbt</td>\n",
       "      <td>44.850500</td>\n",
       "      <td>-93.515700</td>\n",
       "      <td>2013-01-04</td>\n",
       "      <td>train</td>\n",
       "    </tr>\n",
       "    <tr>\n",
       "      <th>5566</th>\n",
       "      <td>gdxr</td>\n",
       "      <td>44.877646</td>\n",
       "      <td>-93.557842</td>\n",
       "      <td>2013-01-04</td>\n",
       "      <td>train</td>\n",
       "    </tr>\n",
       "    <tr>\n",
       "      <th>6144</th>\n",
       "      <td>guny</td>\n",
       "      <td>44.878889</td>\n",
       "      <td>-93.490833</td>\n",
       "      <td>2013-01-04</td>\n",
       "      <td>train</td>\n",
       "    </tr>\n",
       "    <tr>\n",
       "      <th>13644</th>\n",
       "      <td>paev</td>\n",
       "      <td>44.822478</td>\n",
       "      <td>-93.367962</td>\n",
       "      <td>2013-01-04</td>\n",
       "      <td>train</td>\n",
       "    </tr>\n",
       "    <tr>\n",
       "      <th>4387</th>\n",
       "      <td>evep</td>\n",
       "      <td>44.847993</td>\n",
       "      <td>-93.476318</td>\n",
       "      <td>2013-01-04</td>\n",
       "      <td>train</td>\n",
       "    </tr>\n",
       "  </tbody>\n",
       "</table>\n",
       "<p>23570 rows × 5 columns</p>\n",
       "</div>"
      ],
      "text/plain": [
       "        uid   latitude   longitude       date  split\n",
       "6540   hfvr  36.796200 -121.782000 2021-12-29   test\n",
       "6864   howu  36.708500 -121.749000 2021-12-29   test\n",
       "12443  nsoi  36.736800 -121.734000 2021-12-29   test\n",
       "14254  prfi  36.751800 -121.742000 2021-12-29   test\n",
       "17559  thki  36.725400 -121.730000 2021-12-29   test\n",
       "...     ...        ...         ...        ...    ...\n",
       "5317   fwbt  44.850500  -93.515700 2013-01-04  train\n",
       "5566   gdxr  44.877646  -93.557842 2013-01-04  train\n",
       "6144   guny  44.878889  -93.490833 2013-01-04  train\n",
       "13644  paev  44.822478  -93.367962 2013-01-04  train\n",
       "4387   evep  44.847993  -93.476318 2013-01-04  train\n",
       "\n",
       "[23570 rows x 5 columns]"
      ]
     },
     "execution_count": 6,
     "metadata": {},
     "output_type": "execute_result"
    }
   ],
   "source": [
    "metadata.date = pd.to_datetime(metadata.date)\n",
    "metadata.sort_values(by='date', ascending=False)"
   ]
  },
  {
   "cell_type": "markdown",
   "id": "b061cf7a",
   "metadata": {
    "papermill": {
     "duration": 0.006941,
     "end_time": "2023-01-17T18:56:20.003463",
     "exception": false,
     "start_time": "2023-01-17T18:56:19.996522",
     "status": "completed"
    },
    "tags": []
   },
   "source": [
    "# Define config "
   ]
  },
  {
   "cell_type": "code",
   "execution_count": 7,
   "id": "2737e9d9",
   "metadata": {
    "execution": {
     "iopub.execute_input": "2023-01-17T18:56:20.021095Z",
     "iopub.status.busy": "2023-01-17T18:56:20.019980Z",
     "iopub.status.idle": "2023-01-17T18:56:20.026349Z",
     "shell.execute_reply": "2023-01-17T18:56:20.025305Z"
    },
    "papermill": {
     "duration": 0.018331,
     "end_time": "2023-01-17T18:56:20.029631",
     "exception": false,
     "start_time": "2023-01-17T18:56:20.011300",
     "status": "completed"
    },
    "tags": []
   },
   "outputs": [],
   "source": [
    "SATELLITE_COLLECTION = 'COPERNICUS/S2_HARMONIZED'\n",
    "\n",
    "\n",
    "img_folder = 'sentinel-l1c_500m_v0'\n",
    "\n",
    "# img_metadata_cols = ['CLOUD_COVER', 'CLOUD_COVER_LAND', 'IMAGE_QUALITY_OLI', 'IMAGE_QUALITY_TIRS', 'DATE_ACQUIRED']\n",
    "img_metadata_cols = ['CLOUDY_PIXEL_PERCENTAGE']\n",
    "\n",
    "# sentinel l1c (toa) bands\n",
    "BANDS = [\n",
    "    'B1',\n",
    "    'B2',\n",
    "    'B3',\n",
    "    'B4',\n",
    "    'B5',\n",
    "    'B6',\n",
    "    'B7',\n",
    "    'B8',\n",
    "    'B8A',\n",
    "    'B9',\n",
    "    'B10',\n",
    "    'B11',\n",
    "    'B12'\n",
    "        ]"
   ]
  },
  {
   "cell_type": "code",
   "execution_count": null,
   "id": "97772dc0",
   "metadata": {
    "papermill": {
     "duration": 0.007546,
     "end_time": "2023-01-17T18:56:20.044428",
     "exception": false,
     "start_time": "2023-01-17T18:56:20.036882",
     "status": "completed"
    },
    "tags": []
   },
   "outputs": [],
   "source": []
  },
  {
   "cell_type": "markdown",
   "id": "7554eb13",
   "metadata": {
    "papermill": {
     "duration": 0.006392,
     "end_time": "2023-01-17T18:56:20.057770",
     "exception": false,
     "start_time": "2023-01-17T18:56:20.051378",
     "status": "completed"
    },
    "tags": []
   },
   "source": [
    "# Collect data"
   ]
  },
  {
   "cell_type": "code",
   "execution_count": 8,
   "id": "67540f60",
   "metadata": {
    "execution": {
     "iopub.execute_input": "2023-01-17T18:56:20.074403Z",
     "iopub.status.busy": "2023-01-17T18:56:20.073959Z",
     "iopub.status.idle": "2023-01-17T18:56:20.107615Z",
     "shell.execute_reply": "2023-01-17T18:56:20.105905Z"
    },
    "papermill": {
     "duration": 0.045795,
     "end_time": "2023-01-17T18:56:20.110896",
     "exception": false,
     "start_time": "2023-01-17T18:56:20.065101",
     "status": "completed"
    },
    "tags": []
   },
   "outputs": [],
   "source": [
    "def get_bufferbox(lat: float, long: float, buffer: float = 500, lat_first: bool = False):\n",
    "    distance_search = distance.distance(meters=buffer)  # 0.5 km around our point of intrest\n",
    "    min_lat = distance_search.destination((lat, long), bearing=180)[0]\n",
    "    min_long = distance_search.destination((lat, long), bearing=270)[1]\n",
    "    max_lat = distance_search.destination((lat, long), bearing=0)[0]\n",
    "    max_long = distance_search.destination((lat, long), bearing=90)[1]\n",
    "    if lat_first == True:\n",
    "        # not the way for ee\n",
    "        return (min_lat, min_long, max_lat, max_long)     # for ee.Geometry.Rectangle\n",
    "    else:\n",
    "        return (min_long, min_lat, max_long, max_lat)\n",
    "\n",
    "\n",
    "def get_date_n_days_ago(cur_date: str, n_days: int =30) -> str:\n",
    "    return str(cur_date - datetime.timedelta(days=n_days)).split(' ')[0]\n",
    "\n",
    "\n",
    "def get_img_col_in_daterange(\n",
    "    cur_date: str,\n",
    "    wrs_path: int = None,\n",
    "    wrs_row: int = None,\n",
    "    lat_long: tuple=None, \n",
    "    get_neigbh_img: bool = False,   # retrys to get neighbouring imgs (frow wrs path and row) around the box to avoid \"clip error.\"\n",
    "    bands: list = BANDS\n",
    "    )-> ee.ImageCollection:\n",
    "    \n",
    "    \"\"\"returns img collection of 15 imgs from cur_date to cur_date -16 days contanning given (lat, long)\"\"\"\n",
    "    \n",
    "    if get_neigbh_img == False:\n",
    "        lat, lng = lat_long\n",
    "        img_col = ee.ImageCollection(SATELLITE_COLLECTION\n",
    "          ).filterDate(\n",
    "            start=get_date_n_days_ago(pd.to_datetime(cur_date)),\n",
    "            opt_end=str(cur_date)\n",
    "          ).filterBounds(\n",
    "              ee.Geometry.Point(lng, lat)\n",
    "          ).select(\n",
    "              bands\n",
    "          ).limit(15)\n",
    "\n",
    "    if get_neigbh_img == True:\n",
    "        img_col = ee.ImageCollection(SATELLITE_COLLECTION\n",
    "          ).filterDate(\n",
    "            start=get_date_n_days_ago(pd.to_datetime(cur_date)),\n",
    "            opt_end=str(cur_date)\n",
    "          ).filter(\n",
    "            ee.Filter.eq('WRS_PATH', wrs_path)\n",
    "          ).filter(\n",
    "            ee.Filter.eq('WRS_ROW', wrs_row)\n",
    "          ).select(\n",
    "              bands\n",
    "          ).limit(15)\n",
    "\n",
    "    return img_col  \n",
    "\n",
    "\n",
    "def get_latest_img(img_col: ee.ImageCollection, uid: str = None) -> ee.Image:\n",
    "    \"\"\"returns latest image and it's metadata from collection of images\"\"\"\n",
    "    img_metadata = []\n",
    "    # sort this image collection\n",
    "    if int(img_col.size().getInfo()) >= 1:\n",
    "        # if atleast 1 img in img_col sort by date and get first img\n",
    "        my_img = img_col.limit(1, 'system:time_start', False).first()\n",
    "        \n",
    "        for col in img_metadata_cols:\n",
    "            img_metadata.append(my_img.get(col).getInfo())\n",
    "        return my_img, img_metadata\n",
    "    else:\n",
    "        #  no images in collection\n",
    "        return None, [np.nan]*len(img_metadata_cols)\n",
    "\n",
    "  \n",
    "# convert latest image into array of array bands \n",
    "def get_arr_col_from_img(img: ee.Image, img_metadata: list, lat_long: tuple=None) -> np.array:\n",
    "    if img is not None:\n",
    "        bands = img.bandNames().getInfo()\n",
    "        bbox = get_bufferbox(lat_long[0], lat_long[1], lat_first=False)\n",
    "        bbox = ee.Geometry.Rectangle(bbox)\n",
    "        band_arrs = img.sampleRectangle(bbox)\n",
    "        img_band_col = []\n",
    "        for band in bands:\n",
    "            band_arr = np.array(band_arrs.get(band).getInfo())\n",
    "            if band_arr is not None:\n",
    "                img_band_col.append(band_arr)\n",
    "            else:\n",
    "                img_band_col.append(None)  \n",
    "                return None\n",
    "    else:\n",
    "        return None\n",
    "        pass\n",
    "\n",
    "    return np.array(img_band_col + img_metadata)  # return both img_vals and img_metadata in single write to optimize.\n",
    "\n",
    "\n",
    "# save the band_arr \n",
    "def save_bands(band_col:np.array, uid: str) -> None:\n",
    "    \n",
    "    if os.path.exists(f'{img_folder}') and os.path.isdir(f'{img_folder}'):\n",
    "        joblib.dump(filename=f'{img_folder}/{uid}.npy', value=band_col)\n",
    "    else:\n",
    "        os.makedirs(f'{img_folder}')\n",
    "        joblib.dump(filename=f'{img_folder}/{uid}.npy', value=band_col)\n",
    "\n",
    "\n",
    "def collect_data(uid: str, lat_long: tuple, cur_date:str)-> None:\n",
    "    \"\"\"\n",
    "    1. get past date to search from\n",
    "    2. get the ee.ImageCollection in that daterange and in given lat_long\n",
    "    3. \n",
    "      3.1 if there is atleast one get latest img from the collection .\n",
    "        3.1.1 Try: converting latest img to np. arrays\n",
    "          ---> SAVE\n",
    "        3.1.2 if clipping error Try: neigbh imgs\n",
    "          ---> SAVE\n",
    "        3.1.3 error in neigbh imgs append uid to error_imgs return\n",
    "      3.2 else append uid to img_not_found and return\n",
    "    \"\"\"\n",
    "    img_col = get_img_col_in_daterange(cur_date = cur_date, lat_long=lat_long)\n",
    "    try :\n",
    "        my_img, img_metadata = get_latest_img(img_col, uid)\n",
    "        if my_img is not None: \n",
    "            wrs_path, wrs_row = my_img.get('WRS_PATH').getInfo(), my_img.get('WRS_ROW').getInfo()\n",
    "            band_col = get_arr_col_from_img(img=my_img,img_metadata=img_metadata, lat_long=lat_long)\n",
    "            save_bands(band_col, uid)\n",
    "            # lazy_save_dict['uid'] = band_col\n",
    "            # lazy_save_band_cols.append(band_col)\n",
    "            # lazy_save_band_uids.append(uid)\n",
    "    \n",
    "        else:\n",
    "          # add uid to img_not_found\n",
    "          img_not_found.append(uid)\n",
    "          # print('img is None')\n",
    "          return None\n",
    "\n",
    "    except Exception as e:\n",
    "        ## retries to get req bbox from neighbouring images\n",
    "        # retry_collect_data(uid=uid, lat_long=lat_long, cur_date=cur_date, wrs_path=wrs_path, wrs_row=wrs_row)\n",
    "        print(e)\n",
    "\n",
    "\n",
    "def retry_collect_data(uid: str, lat_long: tuple, cur_date:str, wrs_path: int, wrs_row: int) -> None:\n",
    "    # print('retrying with ngbh imgs ...')\n",
    "    ngbh_imgs = [\n",
    "        (wrs_path+1, wrs_row-1), \n",
    "        (wrs_path+1, wrs_row), \n",
    "        (wrs_path, wrs_row-1), \n",
    "        (wrs_path, wrs_row+1), \n",
    "        (wrs_path-1, wrs_row), \n",
    "        (wrs_path-1, wrs_row-1)\n",
    "    ]\n",
    "    # iterate over negibouring img patches and try to get the bbox (to avoid clip error)\n",
    "    for ngbh_img in ngbh_imgs:\n",
    "        wrs_path, wrs_row = ngbh_img\n",
    "        try:\n",
    "            img_col = get_img_col_in_daterange(cur_date=cur_date, wrs_path=wrs_path, wrs_row=wrs_row, get_neigbh_img=True)\n",
    "            my_img, img_metadata = get_latest_img(img_col, uid)\n",
    "            if my_img is not None:\n",
    "                band_col = get_arr_col_from_img(img=my_img, img_metadata=img_metadata, lat_long=lat_long)\n",
    "                save_bands(band_col, uid)\n",
    "                ## lazy save\n",
    "                # lazy_save_dict['uid'] = band_col\n",
    "                # lazy_save_band_cols.append(band_col)\n",
    "                # lazy_save_band_uids.append(uid)\n",
    "                break\n",
    "            if (my_img is None) and (ngbh_img == ngbh_imgs[-1]):\n",
    "                # if no img in collection and this is the last img_patch add it to img_not_found\n",
    "                img_not_found.append(uid)\n",
    "                return None\n",
    "\n",
    "        except Exception as f:\n",
    "            if (ngbh_img == ngbh_imgs[-1]):\n",
    "                err_imgs.append(uid)\n",
    "                errors.append(f)\n",
    "                print(f)\n",
    "          "
   ]
  },
  {
   "cell_type": "code",
   "execution_count": 9,
   "id": "9df54a80",
   "metadata": {
    "execution": {
     "iopub.execute_input": "2023-01-17T18:56:20.127962Z",
     "iopub.status.busy": "2023-01-17T18:56:20.126716Z",
     "iopub.status.idle": "2023-01-17T18:56:20.135270Z",
     "shell.execute_reply": "2023-01-17T18:56:20.133861Z"
    },
    "papermill": {
     "duration": 0.020111,
     "end_time": "2023-01-17T18:56:20.138211",
     "exception": false,
     "start_time": "2023-01-17T18:56:20.118100",
     "status": "completed"
    },
    "tags": []
   },
   "outputs": [],
   "source": [
    "def collect_data_wrapper(data: pd.Series, n: int):\n",
    "    cur_date = str(data.loc[n, 'date']).split(' ')[0]  # only date needed\n",
    "    uid = data.loc[n, 'uid']\n",
    "    lat_long = tuple(data.loc[n][['latitude', 'longitude']])\n",
    "    \n",
    "    try:\n",
    "        collect_data(cur_date=cur_date, uid=uid, lat_long=lat_long)\n",
    "    except Exception as e:\n",
    "        err_imgs.append(uid)\n",
    "        errors.append(e)"
   ]
  },
  {
   "cell_type": "code",
   "execution_count": 10,
   "id": "c7340e0e",
   "metadata": {
    "execution": {
     "iopub.execute_input": "2023-01-17T18:56:20.154770Z",
     "iopub.status.busy": "2023-01-17T18:56:20.153618Z",
     "iopub.status.idle": "2023-01-17T18:56:20.173977Z",
     "shell.execute_reply": "2023-01-17T18:56:20.172613Z"
    },
    "papermill": {
     "duration": 0.031907,
     "end_time": "2023-01-17T18:56:20.177327",
     "exception": false,
     "start_time": "2023-01-17T18:56:20.145420",
     "status": "completed"
    },
    "tags": []
   },
   "outputs": [
    {
     "name": "stdout",
     "output_type": "stream",
     "text": [
      "total samples: 8367\n",
      "CPU times: user 10.8 ms, sys: 976 µs, total: 11.8 ms\n",
      "Wall time: 11.6 ms\n"
     ]
    }
   ],
   "source": [
    "%%time\n",
    "\n",
    "dataset_avail_date = '2015-06-23'\n",
    "# data = metadata.sample(20).reset_index(drop=True)\n",
    "sorted_data = metadata.sort_values(by='date')\n",
    "data = sorted_data[sorted_data.date >= dataset_avail_date].reset_index(drop=True)\n",
    "data = data[10_000:].reset_index(drop=True)\n",
    "\n",
    "# img_metadata_df = pd.DataFrame(columns=img_metadata_cols) # df to hold gathered imgs' metadata\n",
    "err_imgs = []         # img found but failed to extract bbox arrays!\n",
    "errors = []           # corresponding errors of err_imgs\n",
    "img_not_found = []    # No single img in img_col!!\n",
    "\n",
    "lazy_save_dict = {}\n",
    "\n",
    "lazy_save_band_cols = []\n",
    "lazy_save_band_uids = []\n",
    "\n",
    "print(\"total samples:\", data.shape[0])\n",
    "# allmissed imgs = err_imgs + img_notfound"
   ]
  },
  {
   "cell_type": "code",
   "execution_count": 11,
   "id": "f18d03a9",
   "metadata": {
    "execution": {
     "iopub.execute_input": "2023-01-17T18:56:20.193332Z",
     "iopub.status.busy": "2023-01-17T18:56:20.192755Z",
     "iopub.status.idle": "2023-01-17T18:56:20.198083Z",
     "shell.execute_reply": "2023-01-17T18:56:20.196571Z"
    },
    "papermill": {
     "duration": 0.016431,
     "end_time": "2023-01-17T18:56:20.200982",
     "exception": false,
     "start_time": "2023-01-17T18:56:20.184551",
     "status": "completed"
    },
    "tags": []
   },
   "outputs": [],
   "source": [
    "# %%time\n",
    "\n",
    "# #  loop through whole dataset and collect imgs : \n",
    "# for n in tqdm(range(data.shape[0]), desc='Collecting Imgs: ', colour='green'):\n",
    "#     collect_data_wrapper(data, n)"
   ]
  },
  {
   "cell_type": "code",
   "execution_count": 12,
   "id": "244ef335",
   "metadata": {
    "execution": {
     "iopub.execute_input": "2023-01-17T18:56:20.217206Z",
     "iopub.status.busy": "2023-01-17T18:56:20.216808Z",
     "iopub.status.idle": "2023-01-17T21:47:56.119378Z",
     "shell.execute_reply": "2023-01-17T21:47:56.117673Z"
    },
    "papermill": {
     "duration": 10296.06238,
     "end_time": "2023-01-17T21:47:56.270820",
     "exception": false,
     "start_time": "2023-01-17T18:56:20.208440",
     "status": "completed"
    },
    "tags": []
   },
   "outputs": [
    {
     "name": "stdout",
     "output_type": "stream",
     "text": [
      "8367\n"
     ]
    },
    {
     "name": "stderr",
     "output_type": "stream",
     "text": [
      "Collecting Imgs:   0%|\u001b[32m          \u001b[0m| 32/8367 [00:30<2:13:25,  1.04it/s]"
     ]
    },
    {
     "name": "stdout",
     "output_type": "stream",
     "text": [
      "Image.sampleRectangle: Fully masked pixels / pixels outside of the image footprint when sampling band 'B2' with no default value set. Note that calling sampleRectangle() on an image after ee.Image.clip() may result in a sampling bounding box outside the geometry passed to clip().\n"
     ]
    },
    {
     "name": "stderr",
     "output_type": "stream",
     "text": [
      "Collecting Imgs:   0%|\u001b[32m          \u001b[0m| 40/8367 [00:39<2:28:12,  1.07s/it]"
     ]
    },
    {
     "name": "stdout",
     "output_type": "stream",
     "text": [
      "Image.sampleRectangle: Fully masked pixels / pixels outside of the image footprint when sampling band 'B12' with no default value set. Note that calling sampleRectangle() on an image after ee.Image.clip() may result in a sampling bounding box outside the geometry passed to clip().\n"
     ]
    },
    {
     "name": "stderr",
     "output_type": "stream",
     "text": [
      "Collecting Imgs:   1%|\u001b[32m          \u001b[0m| 44/8367 [00:41<2:05:35,  1.10it/s]"
     ]
    },
    {
     "name": "stdout",
     "output_type": "stream",
     "text": [
      "Image.sampleRectangle: Fully masked pixels / pixels outside of the image footprint when sampling band 'B5' with no default value set. Note that calling sampleRectangle() on an image after ee.Image.clip() may result in a sampling bounding box outside the geometry passed to clip().\n"
     ]
    },
    {
     "name": "stderr",
     "output_type": "stream",
     "text": [
      "Collecting Imgs:   1%|\u001b[32m          \u001b[0m| 72/8367 [01:13<2:33:49,  1.11s/it]"
     ]
    },
    {
     "name": "stdout",
     "output_type": "stream",
     "text": [
      "Image.sampleRectangle: Fully masked pixels / pixels outside of the image footprint when sampling band 'B1' with no default value set. Note that calling sampleRectangle() on an image after ee.Image.clip() may result in a sampling bounding box outside the geometry passed to clip().\n"
     ]
    },
    {
     "name": "stderr",
     "output_type": "stream",
     "text": [
      "Collecting Imgs:   1%|\u001b[32m          \u001b[0m| 96/8367 [01:40<2:34:08,  1.12s/it]"
     ]
    },
    {
     "name": "stdout",
     "output_type": "stream",
     "text": [
      "Image.sampleRectangle: Fully masked pixels / pixels outside of the image footprint when sampling band 'B2' with no default value set. Note that calling sampleRectangle() on an image after ee.Image.clip() may result in a sampling bounding box outside the geometry passed to clip().\n"
     ]
    },
    {
     "name": "stderr",
     "output_type": "stream",
     "text": [
      "Collecting Imgs:   2%|\u001b[32m▏         \u001b[0m| 132/8367 [02:19<2:37:50,  1.15s/it]"
     ]
    },
    {
     "name": "stdout",
     "output_type": "stream",
     "text": [
      "Image.sampleRectangle: Fully masked pixels / pixels outside of the image footprint when sampling band 'B10' with no default value set. Note that calling sampleRectangle() on an image after ee.Image.clip() may result in a sampling bounding box outside the geometry passed to clip().\n"
     ]
    },
    {
     "name": "stderr",
     "output_type": "stream",
     "text": [
      "Collecting Imgs:   5%|\u001b[32m▌         \u001b[0m| 424/8367 [07:55<2:32:40,  1.15s/it]"
     ]
    },
    {
     "name": "stdout",
     "output_type": "stream",
     "text": [
      "Image.sampleRectangle: Fully masked pixels / pixels outside of the image footprint when sampling band 'B1' with no default value set. Note that calling sampleRectangle() on an image after ee.Image.clip() may result in a sampling bounding box outside the geometry passed to clip().\n"
     ]
    },
    {
     "name": "stderr",
     "output_type": "stream",
     "text": [
      "Collecting Imgs:   5%|\u001b[32m▌         \u001b[0m| 440/8367 [08:13<2:28:44,  1.13s/it]"
     ]
    },
    {
     "name": "stdout",
     "output_type": "stream",
     "text": [
      "Image.sampleRectangle: Fully masked pixels / pixels outside of the image footprint when sampling band 'B10' with no default value set. Note that calling sampleRectangle() on an image after ee.Image.clip() may result in a sampling bounding box outside the geometry passed to clip().\n"
     ]
    },
    {
     "name": "stderr",
     "output_type": "stream",
     "text": [
      "Collecting Imgs:   5%|\u001b[32m▌         \u001b[0m| 456/8367 [08:29<2:20:44,  1.07s/it]"
     ]
    },
    {
     "name": "stdout",
     "output_type": "stream",
     "text": [
      "Image.sampleRectangle: Fully masked pixels / pixels outside of the image footprint when sampling band 'B5' with no default value set. Note that calling sampleRectangle() on an image after ee.Image.clip() may result in a sampling bounding box outside the geometry passed to clip().\n"
     ]
    },
    {
     "name": "stderr",
     "output_type": "stream",
     "text": [
      "Collecting Imgs:   6%|\u001b[32m▌         \u001b[0m| 504/8367 [09:23<2:17:08,  1.05s/it]"
     ]
    },
    {
     "name": "stdout",
     "output_type": "stream",
     "text": [
      "Image.sampleRectangle: Fully masked pixels / pixels outside of the image footprint when sampling band 'B2' with no default value set. Note that calling sampleRectangle() on an image after ee.Image.clip() may result in a sampling bounding box outside the geometry passed to clip().\n",
      "Image.sampleRectangle: Fully masked pixels / pixels outside of the image footprint when sampling band 'B3' with no default value set. Note that calling sampleRectangle() on an image after ee.Image.clip() may result in a sampling bounding box outside the geometry passed to clip().\n"
     ]
    },
    {
     "name": "stderr",
     "output_type": "stream",
     "text": [
      "Collecting Imgs:   7%|\u001b[32m▋         \u001b[0m| 588/8367 [11:00<2:24:27,  1.11s/it]"
     ]
    },
    {
     "name": "stdout",
     "output_type": "stream",
     "text": [
      "Image.sampleRectangle: Fully masked pixels / pixels outside of the image footprint when sampling band 'B2' with no default value set. Note that calling sampleRectangle() on an image after ee.Image.clip() may result in a sampling bounding box outside the geometry passed to clip().\n"
     ]
    },
    {
     "name": "stderr",
     "output_type": "stream",
     "text": [
      "Collecting Imgs:   7%|\u001b[32m▋         \u001b[0m| 596/8367 [11:09<2:23:53,  1.11s/it]"
     ]
    },
    {
     "name": "stdout",
     "output_type": "stream",
     "text": [
      "Image.sampleRectangle: Fully masked pixels / pixels outside of the image footprint when sampling band 'B2' with no default value set. Note that calling sampleRectangle() on an image after ee.Image.clip() may result in a sampling bounding box outside the geometry passed to clip().\n"
     ]
    },
    {
     "name": "stderr",
     "output_type": "stream",
     "text": [
      "Collecting Imgs:   7%|\u001b[32m▋         \u001b[0m| 608/8367 [11:21<2:13:38,  1.03s/it]"
     ]
    },
    {
     "name": "stdout",
     "output_type": "stream",
     "text": [
      "Image.sampleRectangle: Fully masked pixels / pixels outside of the image footprint when sampling band 'B6' with no default value set. Note that calling sampleRectangle() on an image after ee.Image.clip() may result in a sampling bounding box outside the geometry passed to clip().\n"
     ]
    },
    {
     "name": "stderr",
     "output_type": "stream",
     "text": [
      "Collecting Imgs:   7%|\u001b[32m▋         \u001b[0m| 616/8367 [11:28<2:06:25,  1.02it/s]"
     ]
    },
    {
     "name": "stdout",
     "output_type": "stream",
     "text": [
      "Image.sampleRectangle: Fully masked pixels / pixels outside of the image footprint when sampling band 'B5' with no default value set. Note that calling sampleRectangle() on an image after ee.Image.clip() may result in a sampling bounding box outside the geometry passed to clip().\n",
      "Image.sampleRectangle: Fully masked pixels / pixels outside of the image footprint when sampling band 'B1' with no default value set. Note that calling sampleRectangle() on an image after ee.Image.clip() may result in a sampling bounding box outside the geometry passed to clip().\n"
     ]
    },
    {
     "name": "stderr",
     "output_type": "stream",
     "text": [
      "Collecting Imgs:   9%|\u001b[32m▉         \u001b[0m| 772/8367 [14:20<2:18:30,  1.09s/it]"
     ]
    },
    {
     "name": "stdout",
     "output_type": "stream",
     "text": [
      "Image.sampleRectangle: Fully masked pixels / pixels outside of the image footprint when sampling band 'B2' with no default value set. Note that calling sampleRectangle() on an image after ee.Image.clip() may result in a sampling bounding box outside the geometry passed to clip().\n"
     ]
    },
    {
     "name": "stderr",
     "output_type": "stream",
     "text": [
      "Collecting Imgs:  10%|\u001b[32m█         \u001b[0m| 844/8367 [15:39<2:07:25,  1.02s/it]"
     ]
    },
    {
     "name": "stdout",
     "output_type": "stream",
     "text": [
      "Image.sampleRectangle: Fully masked pixels / pixels outside of the image footprint when sampling band 'B9' with no default value set. Note that calling sampleRectangle() on an image after ee.Image.clip() may result in a sampling bounding box outside the geometry passed to clip().\n"
     ]
    },
    {
     "name": "stderr",
     "output_type": "stream",
     "text": [
      "Collecting Imgs:  13%|\u001b[32m█▎        \u001b[0m| 1104/8367 [20:30<2:07:17,  1.05s/it]"
     ]
    },
    {
     "name": "stdout",
     "output_type": "stream",
     "text": [
      "Image.sampleRectangle: Fully masked pixels / pixels outside of the image footprint when sampling band 'B2' with no default value set. Note that calling sampleRectangle() on an image after ee.Image.clip() may result in a sampling bounding box outside the geometry passed to clip().\n"
     ]
    },
    {
     "name": "stderr",
     "output_type": "stream",
     "text": [
      "Collecting Imgs:  14%|\u001b[32m█▎        \u001b[0m| 1132/8367 [21:01<2:11:55,  1.09s/it]"
     ]
    },
    {
     "name": "stdout",
     "output_type": "stream",
     "text": [
      "Image.sampleRectangle: Fully masked pixels / pixels outside of the image footprint when sampling band 'B9' with no default value set. Note that calling sampleRectangle() on an image after ee.Image.clip() may result in a sampling bounding box outside the geometry passed to clip().\n"
     ]
    },
    {
     "name": "stderr",
     "output_type": "stream",
     "text": [
      "Collecting Imgs:  14%|\u001b[32m█▍        \u001b[0m| 1188/8367 [22:02<2:12:36,  1.11s/it]"
     ]
    },
    {
     "name": "stdout",
     "output_type": "stream",
     "text": [
      "Image.sampleRectangle: Fully masked pixels / pixels outside of the image footprint when sampling band 'B2' with no default value set. Note that calling sampleRectangle() on an image after ee.Image.clip() may result in a sampling bounding box outside the geometry passed to clip().\n"
     ]
    },
    {
     "name": "stderr",
     "output_type": "stream",
     "text": [
      "Collecting Imgs:  16%|\u001b[32m█▌        \u001b[0m| 1320/8367 [24:23<2:02:58,  1.05s/it]"
     ]
    },
    {
     "name": "stdout",
     "output_type": "stream",
     "text": [
      "Image.sampleRectangle: Fully masked pixels / pixels outside of the image footprint when sampling band 'B5' with no default value set. Note that calling sampleRectangle() on an image after ee.Image.clip() may result in a sampling bounding box outside the geometry passed to clip().\n"
     ]
    },
    {
     "name": "stderr",
     "output_type": "stream",
     "text": [
      "Collecting Imgs:  16%|\u001b[32m█▌        \u001b[0m| 1340/8367 [24:44<2:04:49,  1.07s/it]"
     ]
    },
    {
     "name": "stdout",
     "output_type": "stream",
     "text": [
      "Image.sampleRectangle: Fully masked pixels / pixels outside of the image footprint when sampling band 'B9' with no default value set. Note that calling sampleRectangle() on an image after ee.Image.clip() may result in a sampling bounding box outside the geometry passed to clip().\n"
     ]
    },
    {
     "name": "stderr",
     "output_type": "stream",
     "text": [
      "Collecting Imgs:  17%|\u001b[32m█▋        \u001b[0m| 1448/8367 [26:40<1:42:36,  1.12it/s]"
     ]
    },
    {
     "name": "stdout",
     "output_type": "stream",
     "text": [
      "Image.sampleRectangle: Fully masked pixels / pixels outside of the image footprint when sampling band 'B8' with no default value set. Note that calling sampleRectangle() on an image after ee.Image.clip() may result in a sampling bounding box outside the geometry passed to clip().\n"
     ]
    },
    {
     "name": "stderr",
     "output_type": "stream",
     "text": [
      "Collecting Imgs:  18%|\u001b[32m█▊        \u001b[0m| 1480/8367 [27:14<1:54:24,  1.00it/s]"
     ]
    },
    {
     "name": "stdout",
     "output_type": "stream",
     "text": [
      "Image.sampleRectangle: Fully masked pixels / pixels outside of the image footprint when sampling band 'B2' with no default value set. Note that calling sampleRectangle() on an image after ee.Image.clip() may result in a sampling bounding box outside the geometry passed to clip().\n"
     ]
    },
    {
     "name": "stderr",
     "output_type": "stream",
     "text": [
      "Collecting Imgs:  19%|\u001b[32m█▉        \u001b[0m| 1592/8367 [29:12<1:58:41,  1.05s/it]"
     ]
    },
    {
     "name": "stdout",
     "output_type": "stream",
     "text": [
      "Image.sampleRectangle: Fully masked pixels / pixels outside of the image footprint when sampling band 'B2' with no default value set. Note that calling sampleRectangle() on an image after ee.Image.clip() may result in a sampling bounding box outside the geometry passed to clip().\n"
     ]
    },
    {
     "name": "stderr",
     "output_type": "stream",
     "text": [
      "Collecting Imgs:  19%|\u001b[32m█▉        \u001b[0m| 1596/8367 [29:16<1:57:01,  1.04s/it]"
     ]
    },
    {
     "name": "stdout",
     "output_type": "stream",
     "text": [
      "Image.sampleRectangle: Fully masked pixels / pixels outside of the image footprint when sampling band 'B1' with no default value set. Note that calling sampleRectangle() on an image after ee.Image.clip() may result in a sampling bounding box outside the geometry passed to clip().\n"
     ]
    },
    {
     "name": "stderr",
     "output_type": "stream",
     "text": [
      "Collecting Imgs:  20%|\u001b[32m██        \u001b[0m| 1696/8367 [30:58<1:37:40,  1.14it/s]"
     ]
    },
    {
     "name": "stdout",
     "output_type": "stream",
     "text": [
      "Image.sampleRectangle: Fully masked pixels / pixels outside of the image footprint when sampling band 'B2' with no default value set. Note that calling sampleRectangle() on an image after ee.Image.clip() may result in a sampling bounding box outside the geometry passed to clip().\n"
     ]
    },
    {
     "name": "stderr",
     "output_type": "stream",
     "text": [
      "Collecting Imgs:  20%|\u001b[32m██        \u001b[0m| 1708/8367 [31:11<1:50:19,  1.01it/s]"
     ]
    },
    {
     "name": "stdout",
     "output_type": "stream",
     "text": [
      "Image.sampleRectangle: Fully masked pixels / pixels outside of the image footprint when sampling band 'B7' with no default value set. Note that calling sampleRectangle() on an image after ee.Image.clip() may result in a sampling bounding box outside the geometry passed to clip().\n"
     ]
    },
    {
     "name": "stderr",
     "output_type": "stream",
     "text": [
      "Collecting Imgs:  21%|\u001b[32m██        \u001b[0m| 1768/8367 [32:14<2:00:55,  1.10s/it]"
     ]
    },
    {
     "name": "stdout",
     "output_type": "stream",
     "text": [
      "Image.sampleRectangle: Fully masked pixels / pixels outside of the image footprint when sampling band 'B9' with no default value set. Note that calling sampleRectangle() on an image after ee.Image.clip() may result in a sampling bounding box outside the geometry passed to clip().\n"
     ]
    },
    {
     "name": "stderr",
     "output_type": "stream",
     "text": [
      "Collecting Imgs:  21%|\u001b[32m██        \u001b[0m| 1772/8367 [32:18<1:58:16,  1.08s/it]"
     ]
    },
    {
     "name": "stdout",
     "output_type": "stream",
     "text": [
      "Image.sampleRectangle: Fully masked pixels / pixels outside of the image footprint when sampling band 'B7' with no default value set. Note that calling sampleRectangle() on an image after ee.Image.clip() may result in a sampling bounding box outside the geometry passed to clip().\n"
     ]
    },
    {
     "name": "stderr",
     "output_type": "stream",
     "text": [
      "Collecting Imgs:  22%|\u001b[32m██▏       \u001b[0m| 1880/8367 [34:12<1:58:40,  1.10s/it]"
     ]
    },
    {
     "name": "stdout",
     "output_type": "stream",
     "text": [
      "Image.sampleRectangle: Fully masked pixels / pixels outside of the image footprint when sampling band 'B10' with no default value set. Note that calling sampleRectangle() on an image after ee.Image.clip() may result in a sampling bounding box outside the geometry passed to clip().\n"
     ]
    },
    {
     "name": "stderr",
     "output_type": "stream",
     "text": [
      "Collecting Imgs:  23%|\u001b[32m██▎       \u001b[0m| 1884/8367 [34:16<1:54:00,  1.06s/it]"
     ]
    },
    {
     "name": "stdout",
     "output_type": "stream",
     "text": [
      "Image.sampleRectangle: Fully masked pixels / pixels outside of the image footprint when sampling band 'B10' with no default value set. Note that calling sampleRectangle() on an image after ee.Image.clip() may result in a sampling bounding box outside the geometry passed to clip().\n"
     ]
    },
    {
     "name": "stderr",
     "output_type": "stream",
     "text": [
      "Collecting Imgs:  23%|\u001b[32m██▎       \u001b[0m| 1952/8367 [35:26<1:46:57,  1.00s/it]"
     ]
    },
    {
     "name": "stdout",
     "output_type": "stream",
     "text": [
      "Image.sampleRectangle: Fully masked pixels / pixels outside of the image footprint when sampling band 'B7' with no default value set. Note that calling sampleRectangle() on an image after ee.Image.clip() may result in a sampling bounding box outside the geometry passed to clip().\n"
     ]
    },
    {
     "name": "stderr",
     "output_type": "stream",
     "text": [
      "Collecting Imgs:  23%|\u001b[32m██▎       \u001b[0m| 1956/8367 [35:30<1:49:21,  1.02s/it]"
     ]
    },
    {
     "name": "stdout",
     "output_type": "stream",
     "text": [
      "Image.sampleRectangle: Fully masked pixels / pixels outside of the image footprint when sampling band 'B1' with no default value set. Note that calling sampleRectangle() on an image after ee.Image.clip() may result in a sampling bounding box outside the geometry passed to clip().\n"
     ]
    },
    {
     "name": "stderr",
     "output_type": "stream",
     "text": [
      "Collecting Imgs:  24%|\u001b[32m██▎       \u001b[0m| 1968/8367 [35:42<1:48:02,  1.01s/it]"
     ]
    },
    {
     "name": "stdout",
     "output_type": "stream",
     "text": [
      "Image.sampleRectangle: Fully masked pixels / pixels outside of the image footprint when sampling band 'B11' with no default value set. Note that calling sampleRectangle() on an image after ee.Image.clip() may result in a sampling bounding box outside the geometry passed to clip().\n"
     ]
    },
    {
     "name": "stderr",
     "output_type": "stream",
     "text": [
      "Collecting Imgs:  24%|\u001b[32m██▎       \u001b[0m| 1984/8367 [36:01<2:07:48,  1.20s/it]"
     ]
    },
    {
     "name": "stdout",
     "output_type": "stream",
     "text": [
      "Image.sampleRectangle: Fully masked pixels / pixels outside of the image footprint when sampling band 'B5' with no default value set. Note that calling sampleRectangle() on an image after ee.Image.clip() may result in a sampling bounding box outside the geometry passed to clip().\n"
     ]
    },
    {
     "name": "stderr",
     "output_type": "stream",
     "text": [
      "Collecting Imgs:  24%|\u001b[32m██▍       \u001b[0m| 1996/8367 [36:14<2:02:14,  1.15s/it]"
     ]
    },
    {
     "name": "stdout",
     "output_type": "stream",
     "text": [
      "Image.sampleRectangle: Fully masked pixels / pixels outside of the image footprint when sampling band 'B1' with no default value set. Note that calling sampleRectangle() on an image after ee.Image.clip() may result in a sampling bounding box outside the geometry passed to clip().\n"
     ]
    },
    {
     "name": "stderr",
     "output_type": "stream",
     "text": [
      "Collecting Imgs:  25%|\u001b[32m██▍       \u001b[0m| 2056/8367 [37:26<1:45:41,  1.00s/it]"
     ]
    },
    {
     "name": "stdout",
     "output_type": "stream",
     "text": [
      "Image.sampleRectangle: Fully masked pixels / pixels outside of the image footprint when sampling band 'B10' with no default value set. Note that calling sampleRectangle() on an image after ee.Image.clip() may result in a sampling bounding box outside the geometry passed to clip().\n",
      "Image.sampleRectangle: Fully masked pixels / pixels outside of the image footprint when sampling band 'B1' with no default value set. Note that calling sampleRectangle() on an image after ee.Image.clip() may result in a sampling bounding box outside the geometry passed to clip().\n"
     ]
    },
    {
     "name": "stderr",
     "output_type": "stream",
     "text": [
      "Collecting Imgs:  25%|\u001b[32m██▍       \u001b[0m| 2060/8367 [37:28<1:35:16,  1.10it/s]"
     ]
    },
    {
     "name": "stdout",
     "output_type": "stream",
     "text": [
      "Image.sampleRectangle: Fully masked pixels / pixels outside of the image footprint when sampling band 'B1' with no default value set. Note that calling sampleRectangle() on an image after ee.Image.clip() may result in a sampling bounding box outside the geometry passed to clip().\n",
      "Image.sampleRectangle: Fully masked pixels / pixels outside of the image footprint when sampling band 'B10' with no default value set. Note that calling sampleRectangle() on an image after ee.Image.clip() may result in a sampling bounding box outside the geometry passed to clip().\n",
      "Image.sampleRectangle: Fully masked pixels / pixels outside of the image footprint when sampling band 'B1' with no default value set. Note that calling sampleRectangle() on an image after ee.Image.clip() may result in a sampling bounding box outside the geometry passed to clip().\n"
     ]
    },
    {
     "name": "stderr",
     "output_type": "stream",
     "text": [
      "Collecting Imgs:  25%|\u001b[32m██▍       \u001b[0m| 2064/8367 [37:32<1:34:54,  1.11it/s]"
     ]
    },
    {
     "name": "stdout",
     "output_type": "stream",
     "text": [
      "Image.sampleRectangle: Fully masked pixels / pixels outside of the image footprint when sampling band 'B1' with no default value set. Note that calling sampleRectangle() on an image after ee.Image.clip() may result in a sampling bounding box outside the geometry passed to clip().\n"
     ]
    },
    {
     "name": "stderr",
     "output_type": "stream",
     "text": [
      "Collecting Imgs:  25%|\u001b[32m██▍       \u001b[0m| 2068/8367 [37:33<1:17:12,  1.36it/s]"
     ]
    },
    {
     "name": "stdout",
     "output_type": "stream",
     "text": [
      "Image.sampleRectangle: Fully masked pixels / pixels outside of the image footprint when sampling band 'B2' with no default value set. Note that calling sampleRectangle() on an image after ee.Image.clip() may result in a sampling bounding box outside the geometry passed to clip().\n"
     ]
    },
    {
     "name": "stderr",
     "output_type": "stream",
     "text": [
      "Collecting Imgs:  26%|\u001b[32m██▌       \u001b[0m| 2160/8367 [39:18<1:41:37,  1.02it/s]"
     ]
    },
    {
     "name": "stdout",
     "output_type": "stream",
     "text": [
      "Image.sampleRectangle: Fully masked pixels / pixels outside of the image footprint when sampling band 'B7' with no default value set. Note that calling sampleRectangle() on an image after ee.Image.clip() may result in a sampling bounding box outside the geometry passed to clip().\n",
      "Image.sampleRectangle: Fully masked pixels / pixels outside of the image footprint when sampling band 'B10' with no default value set. Note that calling sampleRectangle() on an image after ee.Image.clip() may result in a sampling bounding box outside the geometry passed to clip().\n"
     ]
    },
    {
     "name": "stderr",
     "output_type": "stream",
     "text": [
      "Collecting Imgs:  26%|\u001b[32m██▋       \u001b[0m| 2204/8367 [40:07<1:49:45,  1.07s/it]"
     ]
    },
    {
     "name": "stdout",
     "output_type": "stream",
     "text": [
      "Image.sampleRectangle: Fully masked pixels / pixels outside of the image footprint when sampling band 'B9' with no default value set. Note that calling sampleRectangle() on an image after ee.Image.clip() may result in a sampling bounding box outside the geometry passed to clip().\n"
     ]
    },
    {
     "name": "stderr",
     "output_type": "stream",
     "text": [
      "Collecting Imgs:  27%|\u001b[32m██▋       \u001b[0m| 2296/8367 [42:01<1:48:24,  1.07s/it]"
     ]
    },
    {
     "name": "stdout",
     "output_type": "stream",
     "text": [
      "Image.sampleRectangle: Fully masked pixels / pixels outside of the image footprint when sampling band 'B3' with no default value set. Note that calling sampleRectangle() on an image after ee.Image.clip() may result in a sampling bounding box outside the geometry passed to clip().\n"
     ]
    },
    {
     "name": "stderr",
     "output_type": "stream",
     "text": [
      "Collecting Imgs:  27%|\u001b[32m██▋       \u001b[0m| 2300/8367 [42:06<1:56:39,  1.15s/it]"
     ]
    },
    {
     "name": "stdout",
     "output_type": "stream",
     "text": [
      "Image.sampleRectangle: Fully masked pixels / pixels outside of the image footprint when sampling band 'B8' with no default value set. Note that calling sampleRectangle() on an image after ee.Image.clip() may result in a sampling bounding box outside the geometry passed to clip().\n"
     ]
    },
    {
     "name": "stderr",
     "output_type": "stream",
     "text": [
      "Collecting Imgs:  28%|\u001b[32m██▊       \u001b[0m| 2312/8367 [42:20<1:58:46,  1.18s/it]"
     ]
    },
    {
     "name": "stdout",
     "output_type": "stream",
     "text": [
      "Image.sampleRectangle: Fully masked pixels / pixels outside of the image footprint when sampling band 'B2' with no default value set. Note that calling sampleRectangle() on an image after ee.Image.clip() may result in a sampling bounding box outside the geometry passed to clip().\n"
     ]
    },
    {
     "name": "stderr",
     "output_type": "stream",
     "text": [
      "Collecting Imgs:  28%|\u001b[32m██▊       \u001b[0m| 2332/8367 [42:42<1:58:55,  1.18s/it]"
     ]
    },
    {
     "name": "stdout",
     "output_type": "stream",
     "text": [
      "Image.sampleRectangle: Fully masked pixels / pixels outside of the image footprint when sampling band 'B8' with no default value set. Note that calling sampleRectangle() on an image after ee.Image.clip() may result in a sampling bounding box outside the geometry passed to clip().\n"
     ]
    },
    {
     "name": "stderr",
     "output_type": "stream",
     "text": [
      "Collecting Imgs:  28%|\u001b[32m██▊       \u001b[0m| 2364/8367 [43:20<1:57:36,  1.18s/it]"
     ]
    },
    {
     "name": "stdout",
     "output_type": "stream",
     "text": [
      "Image.sampleRectangle: Fully masked pixels / pixels outside of the image footprint when sampling band 'B2' with no default value set. Note that calling sampleRectangle() on an image after ee.Image.clip() may result in a sampling bounding box outside the geometry passed to clip().\n"
     ]
    },
    {
     "name": "stderr",
     "output_type": "stream",
     "text": [
      "Collecting Imgs:  30%|\u001b[32m███       \u001b[0m| 2516/8367 [46:51<2:07:26,  1.31s/it]"
     ]
    },
    {
     "name": "stdout",
     "output_type": "stream",
     "text": [
      "Image.sampleRectangle: Fully masked pixels / pixels outside of the image footprint when sampling band 'B3' with no default value set. Note that calling sampleRectangle() on an image after ee.Image.clip() may result in a sampling bounding box outside the geometry passed to clip().\n"
     ]
    },
    {
     "name": "stderr",
     "output_type": "stream",
     "text": [
      "Collecting Imgs:  30%|\u001b[32m███       \u001b[0m| 2520/8367 [46:56<2:05:46,  1.29s/it]"
     ]
    },
    {
     "name": "stdout",
     "output_type": "stream",
     "text": [
      "Image.sampleRectangle: Fully masked pixels / pixels outside of the image footprint when sampling band 'B12' with no default value set. Note that calling sampleRectangle() on an image after ee.Image.clip() may result in a sampling bounding box outside the geometry passed to clip().\n"
     ]
    },
    {
     "name": "stderr",
     "output_type": "stream",
     "text": [
      "Collecting Imgs:  30%|\u001b[32m███       \u001b[0m| 2540/8367 [47:23<2:08:20,  1.32s/it]"
     ]
    },
    {
     "name": "stdout",
     "output_type": "stream",
     "text": [
      "Image.sampleRectangle: Fully masked pixels / pixels outside of the image footprint when sampling band 'B4' with no default value set. Note that calling sampleRectangle() on an image after ee.Image.clip() may result in a sampling bounding box outside the geometry passed to clip().\n"
     ]
    },
    {
     "name": "stderr",
     "output_type": "stream",
     "text": [
      "Collecting Imgs:  31%|\u001b[32m███       \u001b[0m| 2572/8367 [48:09<2:10:44,  1.35s/it]"
     ]
    },
    {
     "name": "stdout",
     "output_type": "stream",
     "text": [
      "Image.sampleRectangle: Fully masked pixels / pixels outside of the image footprint when sampling band 'B1' with no default value set. Note that calling sampleRectangle() on an image after ee.Image.clip() may result in a sampling bounding box outside the geometry passed to clip().\n"
     ]
    },
    {
     "name": "stderr",
     "output_type": "stream",
     "text": [
      "Collecting Imgs:  31%|\u001b[32m███       \u001b[0m| 2576/8367 [48:15<2:15:11,  1.40s/it]"
     ]
    },
    {
     "name": "stdout",
     "output_type": "stream",
     "text": [
      "Image.sampleRectangle: Fully masked pixels / pixels outside of the image footprint when sampling band 'B7' with no default value set. Note that calling sampleRectangle() on an image after ee.Image.clip() may result in a sampling bounding box outside the geometry passed to clip().\n"
     ]
    },
    {
     "name": "stderr",
     "output_type": "stream",
     "text": [
      "Collecting Imgs:  33%|\u001b[32m███▎      \u001b[0m| 2748/8367 [52:29<2:28:24,  1.58s/it]"
     ]
    },
    {
     "name": "stdout",
     "output_type": "stream",
     "text": [
      "Image.sampleRectangle: Fully masked pixels / pixels outside of the image footprint when sampling band 'B7' with no default value set. Note that calling sampleRectangle() on an image after ee.Image.clip() may result in a sampling bounding box outside the geometry passed to clip().\n"
     ]
    },
    {
     "name": "stderr",
     "output_type": "stream",
     "text": [
      "Collecting Imgs:  33%|\u001b[32m███▎      \u001b[0m| 2772/8367 [53:06<2:27:23,  1.58s/it]"
     ]
    },
    {
     "name": "stdout",
     "output_type": "stream",
     "text": [
      "Image.sampleRectangle: Fully masked pixels / pixels outside of the image footprint when sampling band 'B10' with no default value set. Note that calling sampleRectangle() on an image after ee.Image.clip() may result in a sampling bounding box outside the geometry passed to clip().\n"
     ]
    },
    {
     "name": "stderr",
     "output_type": "stream",
     "text": [
      "Collecting Imgs:  38%|\u001b[32m███▊      \u001b[0m| 3180/8367 [1:01:26<1:40:35,  1.16s/it]"
     ]
    },
    {
     "name": "stdout",
     "output_type": "stream",
     "text": [
      "Image.sampleRectangle: Fully masked pixels / pixels outside of the image footprint when sampling band 'B2' with no default value set. Note that calling sampleRectangle() on an image after ee.Image.clip() may result in a sampling bounding box outside the geometry passed to clip().\n"
     ]
    },
    {
     "name": "stderr",
     "output_type": "stream",
     "text": [
      "Collecting Imgs:  39%|\u001b[32m███▉      \u001b[0m| 3260/8367 [1:02:52<1:33:22,  1.10s/it]"
     ]
    },
    {
     "name": "stdout",
     "output_type": "stream",
     "text": [
      "Image.sampleRectangle: Fully masked pixels / pixels outside of the image footprint when sampling band 'B8' with no default value set. Note that calling sampleRectangle() on an image after ee.Image.clip() may result in a sampling bounding box outside the geometry passed to clip().\n"
     ]
    },
    {
     "name": "stderr",
     "output_type": "stream",
     "text": [
      "Collecting Imgs:  39%|\u001b[32m███▉      \u001b[0m| 3272/8367 [1:03:04<1:27:01,  1.02s/it]"
     ]
    },
    {
     "name": "stdout",
     "output_type": "stream",
     "text": [
      "Image.sampleRectangle: Fully masked pixels / pixels outside of the image footprint when sampling band 'B4' with no default value set. Note that calling sampleRectangle() on an image after ee.Image.clip() may result in a sampling bounding box outside the geometry passed to clip().\n"
     ]
    },
    {
     "name": "stderr",
     "output_type": "stream",
     "text": [
      "Collecting Imgs:  40%|\u001b[32m███▉      \u001b[0m| 3312/8367 [1:03:45<1:32:45,  1.10s/it]"
     ]
    },
    {
     "name": "stdout",
     "output_type": "stream",
     "text": [
      "Image.sampleRectangle: Fully masked pixels / pixels outside of the image footprint when sampling band 'B3' with no default value set. Note that calling sampleRectangle() on an image after ee.Image.clip() may result in a sampling bounding box outside the geometry passed to clip().\n"
     ]
    },
    {
     "name": "stderr",
     "output_type": "stream",
     "text": [
      "Collecting Imgs:  42%|\u001b[32m████▏     \u001b[0m| 3476/8367 [1:06:54<1:40:46,  1.24s/it]"
     ]
    },
    {
     "name": "stdout",
     "output_type": "stream",
     "text": [
      "Image.sampleRectangle: Fully masked pixels / pixels outside of the image footprint when sampling band 'B3' with no default value set. Note that calling sampleRectangle() on an image after ee.Image.clip() may result in a sampling bounding box outside the geometry passed to clip().\n"
     ]
    },
    {
     "name": "stderr",
     "output_type": "stream",
     "text": [
      "Collecting Imgs:  44%|\u001b[32m████▍     \u001b[0m| 3668/8367 [1:10:31<1:19:19,  1.01s/it]"
     ]
    },
    {
     "name": "stdout",
     "output_type": "stream",
     "text": [
      "Image.sampleRectangle: Fully masked pixels / pixels outside of the image footprint when sampling band 'B2' with no default value set. Note that calling sampleRectangle() on an image after ee.Image.clip() may result in a sampling bounding box outside the geometry passed to clip().\n"
     ]
    },
    {
     "name": "stderr",
     "output_type": "stream",
     "text": [
      "Collecting Imgs:  44%|\u001b[32m████▍     \u001b[0m| 3672/8367 [1:10:34<1:13:03,  1.07it/s]"
     ]
    },
    {
     "name": "stdout",
     "output_type": "stream",
     "text": [
      "Image.sampleRectangle: Fully masked pixels / pixels outside of the image footprint when sampling band 'B2' with no default value set. Note that calling sampleRectangle() on an image after ee.Image.clip() may result in a sampling bounding box outside the geometry passed to clip().\n"
     ]
    },
    {
     "name": "stderr",
     "output_type": "stream",
     "text": [
      "Collecting Imgs:  44%|\u001b[32m████▍     \u001b[0m| 3680/8367 [1:10:42<1:16:28,  1.02it/s]"
     ]
    },
    {
     "name": "stdout",
     "output_type": "stream",
     "text": [
      "Image.sampleRectangle: Fully masked pixels / pixels outside of the image footprint when sampling band 'B1' with no default value set. Note that calling sampleRectangle() on an image after ee.Image.clip() may result in a sampling bounding box outside the geometry passed to clip().\n"
     ]
    },
    {
     "name": "stderr",
     "output_type": "stream",
     "text": [
      "Collecting Imgs:  46%|\u001b[32m████▌     \u001b[0m| 3816/8367 [1:13:15<1:05:10,  1.16it/s]"
     ]
    },
    {
     "name": "stdout",
     "output_type": "stream",
     "text": [
      "Image.sampleRectangle: Fully masked pixels / pixels outside of the image footprint when sampling band 'B2' with no default value set. Note that calling sampleRectangle() on an image after ee.Image.clip() may result in a sampling bounding box outside the geometry passed to clip().\n",
      "Image.sampleRectangle: Fully masked pixels / pixels outside of the image footprint when sampling band 'B1' with no default value set. Note that calling sampleRectangle() on an image after ee.Image.clip() may result in a sampling bounding box outside the geometry passed to clip().\n"
     ]
    },
    {
     "name": "stderr",
     "output_type": "stream",
     "text": [
      "Collecting Imgs:  46%|\u001b[32m████▌     \u001b[0m| 3820/8367 [1:13:19<1:06:11,  1.14it/s]"
     ]
    },
    {
     "name": "stdout",
     "output_type": "stream",
     "text": [
      "Image.sampleRectangle: Fully masked pixels / pixels outside of the image footprint when sampling band 'B2' with no default value set. Note that calling sampleRectangle() on an image after ee.Image.clip() may result in a sampling bounding box outside the geometry passed to clip().\n",
      "Image.sampleRectangle: Fully masked pixels / pixels outside of the image footprint when sampling band 'B1' with no default value set. Note that calling sampleRectangle() on an image after ee.Image.clip() may result in a sampling bounding box outside the geometry passed to clip().\n"
     ]
    },
    {
     "name": "stderr",
     "output_type": "stream",
     "text": [
      "Collecting Imgs:  46%|\u001b[32m████▌     \u001b[0m| 3828/8367 [1:13:25<1:00:47,  1.24it/s]"
     ]
    },
    {
     "name": "stdout",
     "output_type": "stream",
     "text": [
      "Image.sampleRectangle: Fully masked pixels / pixels outside of the image footprint when sampling band 'B1' with no default value set. Note that calling sampleRectangle() on an image after ee.Image.clip() may result in a sampling bounding box outside the geometry passed to clip().\n",
      "Image.sampleRectangle: Fully masked pixels / pixels outside of the image footprint when sampling band 'B1' with no default value set. Note that calling sampleRectangle() on an image after ee.Image.clip() may result in a sampling bounding box outside the geometry passed to clip().\n",
      "Image.sampleRectangle: Fully masked pixels / pixels outside of the image footprint when sampling band 'B1' with no default value set. Note that calling sampleRectangle() on an image after ee.Image.clip() may result in a sampling bounding box outside the geometry passed to clip().\n"
     ]
    },
    {
     "name": "stderr",
     "output_type": "stream",
     "text": [
      "Collecting Imgs:  47%|\u001b[32m████▋     \u001b[0m| 3904/8367 [1:14:40<1:13:39,  1.01it/s]"
     ]
    },
    {
     "name": "stdout",
     "output_type": "stream",
     "text": [
      "Image.sampleRectangle: Fully masked pixels / pixels outside of the image footprint when sampling band 'B5' with no default value set. Note that calling sampleRectangle() on an image after ee.Image.clip() may result in a sampling bounding box outside the geometry passed to clip().\n"
     ]
    },
    {
     "name": "stderr",
     "output_type": "stream",
     "text": [
      "Collecting Imgs:  47%|\u001b[32m████▋     \u001b[0m| 3944/8367 [1:15:42<1:29:16,  1.21s/it]"
     ]
    },
    {
     "name": "stdout",
     "output_type": "stream",
     "text": [
      "Image.sampleRectangle: Fully masked pixels / pixels outside of the image footprint when sampling band 'B1' with no default value set. Note that calling sampleRectangle() on an image after ee.Image.clip() may result in a sampling bounding box outside the geometry passed to clip().\n"
     ]
    },
    {
     "name": "stderr",
     "output_type": "stream",
     "text": [
      "Collecting Imgs:  47%|\u001b[32m████▋     \u001b[0m| 3952/8367 [1:15:48<1:12:25,  1.02it/s]"
     ]
    },
    {
     "name": "stdout",
     "output_type": "stream",
     "text": [
      "Image.sampleRectangle: Fully masked pixels / pixels outside of the image footprint when sampling band 'B1' with no default value set. Note that calling sampleRectangle() on an image after ee.Image.clip() may result in a sampling bounding box outside the geometry passed to clip().\n",
      "Image.sampleRectangle: Fully masked pixels / pixels outside of the image footprint when sampling band 'B1' with no default value set. Note that calling sampleRectangle() on an image after ee.Image.clip() may result in a sampling bounding box outside the geometry passed to clip().\n"
     ]
    },
    {
     "name": "stderr",
     "output_type": "stream",
     "text": [
      "Collecting Imgs:  47%|\u001b[32m████▋     \u001b[0m| 3960/8367 [1:15:57<1:14:41,  1.02s/it]"
     ]
    },
    {
     "name": "stdout",
     "output_type": "stream",
     "text": [
      "Image.sampleRectangle: Fully masked pixels / pixels outside of the image footprint when sampling band 'B1' with no default value set. Note that calling sampleRectangle() on an image after ee.Image.clip() may result in a sampling bounding box outside the geometry passed to clip().\n"
     ]
    },
    {
     "name": "stderr",
     "output_type": "stream",
     "text": [
      "Collecting Imgs:  47%|\u001b[32m████▋     \u001b[0m| 3964/8367 [1:15:59<1:04:02,  1.15it/s]"
     ]
    },
    {
     "name": "stdout",
     "output_type": "stream",
     "text": [
      "Image.sampleRectangle: Fully masked pixels / pixels outside of the image footprint when sampling band 'B1' with no default value set. Note that calling sampleRectangle() on an image after ee.Image.clip() may result in a sampling bounding box outside the geometry passed to clip().\n"
     ]
    },
    {
     "name": "stderr",
     "output_type": "stream",
     "text": [
      "Collecting Imgs:  47%|\u001b[32m████▋     \u001b[0m| 3968/8367 [1:16:02<1:02:46,  1.17it/s]"
     ]
    },
    {
     "name": "stdout",
     "output_type": "stream",
     "text": [
      "Image.sampleRectangle: Fully masked pixels / pixels outside of the image footprint when sampling band 'B1' with no default value set. Note that calling sampleRectangle() on an image after ee.Image.clip() may result in a sampling bounding box outside the geometry passed to clip().\n"
     ]
    },
    {
     "name": "stderr",
     "output_type": "stream",
     "text": [
      "Collecting Imgs:  48%|\u001b[32m████▊     \u001b[0m| 4000/8367 [1:16:34<1:11:45,  1.01it/s]"
     ]
    },
    {
     "name": "stdout",
     "output_type": "stream",
     "text": [
      "Image.sampleRectangle: Fully masked pixels / pixels outside of the image footprint when sampling band 'B12' with no default value set. Note that calling sampleRectangle() on an image after ee.Image.clip() may result in a sampling bounding box outside the geometry passed to clip().\n"
     ]
    },
    {
     "name": "stderr",
     "output_type": "stream",
     "text": [
      "Collecting Imgs:  48%|\u001b[32m████▊     \u001b[0m| 4020/8367 [1:16:54<1:11:13,  1.02it/s]"
     ]
    },
    {
     "name": "stdout",
     "output_type": "stream",
     "text": [
      "Image.sampleRectangle: Fully masked pixels / pixels outside of the image footprint when sampling band 'B10' with no default value set. Note that calling sampleRectangle() on an image after ee.Image.clip() may result in a sampling bounding box outside the geometry passed to clip().\n"
     ]
    },
    {
     "name": "stderr",
     "output_type": "stream",
     "text": [
      "Collecting Imgs:  51%|\u001b[32m█████     \u001b[0m| 4228/8367 [1:20:21<1:05:16,  1.06it/s]"
     ]
    },
    {
     "name": "stdout",
     "output_type": "stream",
     "text": [
      "Image.sampleRectangle: Fully masked pixels / pixels outside of the image footprint when sampling band 'B2' with no default value set. Note that calling sampleRectangle() on an image after ee.Image.clip() may result in a sampling bounding box outside the geometry passed to clip().\n"
     ]
    },
    {
     "name": "stderr",
     "output_type": "stream",
     "text": [
      "Collecting Imgs:  52%|\u001b[32m█████▏    \u001b[0m| 4344/8367 [1:22:18<1:07:00,  1.00it/s]"
     ]
    },
    {
     "name": "stdout",
     "output_type": "stream",
     "text": [
      "Image.sampleRectangle: Fully masked pixels / pixels outside of the image footprint when sampling band 'B12' with no default value set. Note that calling sampleRectangle() on an image after ee.Image.clip() may result in a sampling bounding box outside the geometry passed to clip().\n"
     ]
    },
    {
     "name": "stderr",
     "output_type": "stream",
     "text": [
      "Collecting Imgs:  53%|\u001b[32m█████▎    \u001b[0m| 4460/8367 [1:24:14<1:05:32,  1.01s/it]"
     ]
    },
    {
     "name": "stdout",
     "output_type": "stream",
     "text": [
      "Image.sampleRectangle: Fully masked pixels / pixels outside of the image footprint when sampling band 'B9' with no default value set. Note that calling sampleRectangle() on an image after ee.Image.clip() may result in a sampling bounding box outside the geometry passed to clip().\n"
     ]
    },
    {
     "name": "stderr",
     "output_type": "stream",
     "text": [
      "Collecting Imgs:  54%|\u001b[32m█████▍    \u001b[0m| 4528/8367 [1:25:21<1:02:38,  1.02it/s]"
     ]
    },
    {
     "name": "stdout",
     "output_type": "stream",
     "text": [
      "Image.sampleRectangle: Fully masked pixels / pixels outside of the image footprint when sampling band 'B10' with no default value set. Note that calling sampleRectangle() on an image after ee.Image.clip() may result in a sampling bounding box outside the geometry passed to clip().\n",
      "Image.sampleRectangle: Fully masked pixels / pixels outside of the image footprint when sampling band 'B5' with no default value set. Note that calling sampleRectangle() on an image after ee.Image.clip() may result in a sampling bounding box outside the geometry passed to clip().\n"
     ]
    },
    {
     "name": "stderr",
     "output_type": "stream",
     "text": [
      "Collecting Imgs:  54%|\u001b[32m█████▍    \u001b[0m| 4540/8367 [1:25:33<1:01:37,  1.03it/s]"
     ]
    },
    {
     "name": "stdout",
     "output_type": "stream",
     "text": [
      "Image.sampleRectangle: Fully masked pixels / pixels outside of the image footprint when sampling band 'B1' with no default value set. Note that calling sampleRectangle() on an image after ee.Image.clip() may result in a sampling bounding box outside the geometry passed to clip().\n",
      "Image.sampleRectangle: Fully masked pixels / pixels outside of the image footprint when sampling band 'B1' with no default value set. Note that calling sampleRectangle() on an image after ee.Image.clip() may result in a sampling bounding box outside the geometry passed to clip().\n",
      "Image.sampleRectangle: Fully masked pixels / pixels outside of the image footprint when sampling band 'B1' with no default value set. Note that calling sampleRectangle() on an image after ee.Image.clip() may result in a sampling bounding box outside the geometry passed to clip().\n"
     ]
    },
    {
     "name": "stderr",
     "output_type": "stream",
     "text": [
      "Collecting Imgs:  54%|\u001b[32m█████▍    \u001b[0m| 4544/8367 [1:25:35<53:41,  1.19it/s]  "
     ]
    },
    {
     "name": "stdout",
     "output_type": "stream",
     "text": [
      "Image.sampleRectangle: Fully masked pixels / pixels outside of the image footprint when sampling band 'B5' with no default value set. Note that calling sampleRectangle() on an image after ee.Image.clip() may result in a sampling bounding box outside the geometry passed to clip().\n",
      "Image.sampleRectangle: Fully masked pixels / pixels outside of the image footprint when sampling band 'B2' with no default value set. Note that calling sampleRectangle() on an image after ee.Image.clip() may result in a sampling bounding box outside the geometry passed to clip().\n"
     ]
    },
    {
     "name": "stderr",
     "output_type": "stream",
     "text": [
      "Collecting Imgs:  54%|\u001b[32m█████▍    \u001b[0m| 4548/8367 [1:25:38<52:03,  1.22it/s]"
     ]
    },
    {
     "name": "stdout",
     "output_type": "stream",
     "text": [
      "Image.sampleRectangle: Fully masked pixels / pixels outside of the image footprint when sampling band 'B2' with no default value set. Note that calling sampleRectangle() on an image after ee.Image.clip() may result in a sampling bounding box outside the geometry passed to clip().\n"
     ]
    },
    {
     "name": "stderr",
     "output_type": "stream",
     "text": [
      "Collecting Imgs:  54%|\u001b[32m█████▍    \u001b[0m| 4552/8367 [1:25:42<55:07,  1.15it/s]"
     ]
    },
    {
     "name": "stdout",
     "output_type": "stream",
     "text": [
      "Image.sampleRectangle: Fully masked pixels / pixels outside of the image footprint when sampling band 'B10' with no default value set. Note that calling sampleRectangle() on an image after ee.Image.clip() may result in a sampling bounding box outside the geometry passed to clip().\n"
     ]
    },
    {
     "name": "stderr",
     "output_type": "stream",
     "text": [
      "Collecting Imgs:  56%|\u001b[32m█████▋    \u001b[0m| 4724/8367 [1:28:39<1:03:00,  1.04s/it]"
     ]
    },
    {
     "name": "stdout",
     "output_type": "stream",
     "text": [
      "Image.sampleRectangle: Fully masked pixels / pixels outside of the image footprint when sampling band 'B12' with no default value set. Note that calling sampleRectangle() on an image after ee.Image.clip() may result in a sampling bounding box outside the geometry passed to clip().\n"
     ]
    },
    {
     "name": "stderr",
     "output_type": "stream",
     "text": [
      "Collecting Imgs:  57%|\u001b[32m█████▋    \u001b[0m| 4772/8367 [1:29:29<58:37,  1.02it/s]  "
     ]
    },
    {
     "name": "stdout",
     "output_type": "stream",
     "text": [
      "Image.sampleRectangle: Fully masked pixels / pixels outside of the image footprint when sampling band 'B6' with no default value set. Note that calling sampleRectangle() on an image after ee.Image.clip() may result in a sampling bounding box outside the geometry passed to clip().\n",
      "Image.sampleRectangle: Fully masked pixels / pixels outside of the image footprint when sampling band 'B1' with no default value set. Note that calling sampleRectangle() on an image after ee.Image.clip() may result in a sampling bounding box outside the geometry passed to clip().\n"
     ]
    },
    {
     "name": "stderr",
     "output_type": "stream",
     "text": [
      "Collecting Imgs:  57%|\u001b[32m█████▋    \u001b[0m| 4776/8367 [1:29:31<50:43,  1.18it/s]"
     ]
    },
    {
     "name": "stdout",
     "output_type": "stream",
     "text": [
      "Image.sampleRectangle: Fully masked pixels / pixels outside of the image footprint when sampling band 'B11' with no default value set. Note that calling sampleRectangle() on an image after ee.Image.clip() may result in a sampling bounding box outside the geometry passed to clip().\n",
      "Image.sampleRectangle: Fully masked pixels / pixels outside of the image footprint when sampling band 'B1' with no default value set. Note that calling sampleRectangle() on an image after ee.Image.clip() may result in a sampling bounding box outside the geometry passed to clip().\n"
     ]
    },
    {
     "name": "stderr",
     "output_type": "stream",
     "text": [
      "Collecting Imgs:  57%|\u001b[32m█████▋    \u001b[0m| 4784/8367 [1:29:37<49:36,  1.20it/s]"
     ]
    },
    {
     "name": "stdout",
     "output_type": "stream",
     "text": [
      "Image.sampleRectangle: Fully masked pixels / pixels outside of the image footprint when sampling band 'B1' with no default value set. Note that calling sampleRectangle() on an image after ee.Image.clip() may result in a sampling bounding box outside the geometry passed to clip().\n",
      "Image.sampleRectangle: Fully masked pixels / pixels outside of the image footprint when sampling band 'B2' with no default value set. Note that calling sampleRectangle() on an image after ee.Image.clip() may result in a sampling bounding box outside the geometry passed to clip().\n"
     ]
    },
    {
     "name": "stderr",
     "output_type": "stream",
     "text": [
      "Collecting Imgs:  57%|\u001b[32m█████▋    \u001b[0m| 4788/8367 [1:29:40<47:19,  1.26it/s]"
     ]
    },
    {
     "name": "stdout",
     "output_type": "stream",
     "text": [
      "Image.sampleRectangle: Fully masked pixels / pixels outside of the image footprint when sampling band 'B1' with no default value set. Note that calling sampleRectangle() on an image after ee.Image.clip() may result in a sampling bounding box outside the geometry passed to clip().\n",
      "Image.sampleRectangle: Fully masked pixels / pixels outside of the image footprint when sampling band 'B1' with no default value set. Note that calling sampleRectangle() on an image after ee.Image.clip() may result in a sampling bounding box outside the geometry passed to clip().\n"
     ]
    },
    {
     "name": "stderr",
     "output_type": "stream",
     "text": [
      "Collecting Imgs:  58%|\u001b[32m█████▊    \u001b[0m| 4836/8367 [1:30:28<58:29,  1.01it/s]  "
     ]
    },
    {
     "name": "stdout",
     "output_type": "stream",
     "text": [
      "Image.sampleRectangle: Fully masked pixels / pixels outside of the image footprint when sampling band 'B3' with no default value set. Note that calling sampleRectangle() on an image after ee.Image.clip() may result in a sampling bounding box outside the geometry passed to clip().\n"
     ]
    },
    {
     "name": "stderr",
     "output_type": "stream",
     "text": [
      "Collecting Imgs:  58%|\u001b[32m█████▊    \u001b[0m| 4844/8367 [1:30:36<58:52,  1.00s/it]"
     ]
    },
    {
     "name": "stdout",
     "output_type": "stream",
     "text": [
      "Image.sampleRectangle: Fully masked pixels / pixels outside of the image footprint when sampling band 'B7' with no default value set. Note that calling sampleRectangle() on an image after ee.Image.clip() may result in a sampling bounding box outside the geometry passed to clip().\n"
     ]
    },
    {
     "name": "stderr",
     "output_type": "stream",
     "text": [
      "Collecting Imgs:  58%|\u001b[32m█████▊    \u001b[0m| 4856/8367 [1:30:46<48:14,  1.21it/s]"
     ]
    },
    {
     "name": "stdout",
     "output_type": "stream",
     "text": [
      "Image.sampleRectangle: Fully masked pixels / pixels outside of the image footprint when sampling band 'B3' with no default value set. Note that calling sampleRectangle() on an image after ee.Image.clip() may result in a sampling bounding box outside the geometry passed to clip().\n"
     ]
    },
    {
     "name": "stderr",
     "output_type": "stream",
     "text": [
      "Collecting Imgs:  58%|\u001b[32m█████▊    \u001b[0m| 4860/8367 [1:30:50<50:37,  1.15it/s]"
     ]
    },
    {
     "name": "stdout",
     "output_type": "stream",
     "text": [
      "Image.sampleRectangle: Fully masked pixels / pixels outside of the image footprint when sampling band 'B10' with no default value set. Note that calling sampleRectangle() on an image after ee.Image.clip() may result in a sampling bounding box outside the geometry passed to clip().\n"
     ]
    },
    {
     "name": "stderr",
     "output_type": "stream",
     "text": [
      "Collecting Imgs:  58%|\u001b[32m█████▊    \u001b[0m| 4880/8367 [1:31:10<57:36,  1.01it/s]"
     ]
    },
    {
     "name": "stdout",
     "output_type": "stream",
     "text": [
      "Image.sampleRectangle: Fully masked pixels / pixels outside of the image footprint when sampling band 'B10' with no default value set. Note that calling sampleRectangle() on an image after ee.Image.clip() may result in a sampling bounding box outside the geometry passed to clip().\n"
     ]
    },
    {
     "name": "stderr",
     "output_type": "stream",
     "text": [
      "Collecting Imgs:  60%|\u001b[32m██████    \u001b[0m| 5036/8367 [1:33:49<55:38,  1.00s/it]"
     ]
    },
    {
     "name": "stdout",
     "output_type": "stream",
     "text": [
      "Image.sampleRectangle: Fully masked pixels / pixels outside of the image footprint when sampling band 'B8A' with no default value set. Note that calling sampleRectangle() on an image after ee.Image.clip() may result in a sampling bounding box outside the geometry passed to clip().\n"
     ]
    },
    {
     "name": "stderr",
     "output_type": "stream",
     "text": [
      "Collecting Imgs:  61%|\u001b[32m██████    \u001b[0m| 5084/8367 [1:34:39<59:40,  1.09s/it]  "
     ]
    },
    {
     "name": "stdout",
     "output_type": "stream",
     "text": [
      "Image.sampleRectangle: Fully masked pixels / pixels outside of the image footprint when sampling band 'B1' with no default value set. Note that calling sampleRectangle() on an image after ee.Image.clip() may result in a sampling bounding box outside the geometry passed to clip().\n",
      "Image.sampleRectangle: Fully masked pixels / pixels outside of the image footprint when sampling band 'B11' with no default value set. Note that calling sampleRectangle() on an image after ee.Image.clip() may result in a sampling bounding box outside the geometry passed to clip().\n"
     ]
    },
    {
     "name": "stderr",
     "output_type": "stream",
     "text": [
      "Collecting Imgs:  61%|\u001b[32m██████    \u001b[0m| 5088/8367 [1:34:41<47:17,  1.16it/s]"
     ]
    },
    {
     "name": "stdout",
     "output_type": "stream",
     "text": [
      "Image.sampleRectangle: Fully masked pixels / pixels outside of the image footprint when sampling band 'B1' with no default value set. Note that calling sampleRectangle() on an image after ee.Image.clip() may result in a sampling bounding box outside the geometry passed to clip().\n",
      "Image.sampleRectangle: Fully masked pixels / pixels outside of the image footprint when sampling band 'B1' with no default value set. Note that calling sampleRectangle() on an image after ee.Image.clip() may result in a sampling bounding box outside the geometry passed to clip().\n",
      "Image.sampleRectangle: Fully masked pixels / pixels outside of the image footprint when sampling band 'B1' with no default value set. Note that calling sampleRectangle() on an image after ee.Image.clip() may result in a sampling bounding box outside the geometry passed to clip().\n",
      "Image.sampleRectangle: Fully masked pixels / pixels outside of the image footprint when sampling band 'B1' with no default value set. Note that calling sampleRectangle() on an image after ee.Image.clip() may result in a sampling bounding box outside the geometry passed to clip().\n"
     ]
    },
    {
     "name": "stderr",
     "output_type": "stream",
     "text": [
      "Collecting Imgs:  61%|\u001b[32m██████    \u001b[0m| 5092/8367 [1:34:44<46:05,  1.18it/s]"
     ]
    },
    {
     "name": "stdout",
     "output_type": "stream",
     "text": [
      "Image.sampleRectangle: Fully masked pixels / pixels outside of the image footprint when sampling band 'B1' with no default value set. Note that calling sampleRectangle() on an image after ee.Image.clip() may result in a sampling bounding box outside the geometry passed to clip().\n"
     ]
    },
    {
     "name": "stderr",
     "output_type": "stream",
     "text": [
      "Collecting Imgs:  61%|\u001b[32m██████    \u001b[0m| 5096/8367 [1:34:45<37:13,  1.46it/s]"
     ]
    },
    {
     "name": "stdout",
     "output_type": "stream",
     "text": [
      "Image.sampleRectangle: Fully masked pixels / pixels outside of the image footprint when sampling band 'B1' with no default value set. Note that calling sampleRectangle() on an image after ee.Image.clip() may result in a sampling bounding box outside the geometry passed to clip().\n",
      "Image.sampleRectangle: Fully masked pixels / pixels outside of the image footprint when sampling band 'B10' with no default value set. Note that calling sampleRectangle() on an image after ee.Image.clip() may result in a sampling bounding box outside the geometry passed to clip().\n",
      "Image.sampleRectangle: Fully masked pixels / pixels outside of the image footprint when sampling band 'B9' with no default value set. Note that calling sampleRectangle() on an image after ee.Image.clip() may result in a sampling bounding box outside the geometry passed to clip().\n"
     ]
    },
    {
     "name": "stderr",
     "output_type": "stream",
     "text": [
      "Collecting Imgs:  62%|\u001b[32m██████▏   \u001b[0m| 5152/8367 [1:35:40<52:27,  1.02it/s]"
     ]
    },
    {
     "name": "stdout",
     "output_type": "stream",
     "text": [
      "Image.sampleRectangle: Fully masked pixels / pixels outside of the image footprint when sampling band 'B2' with no default value set. Note that calling sampleRectangle() on an image after ee.Image.clip() may result in a sampling bounding box outside the geometry passed to clip().\n"
     ]
    },
    {
     "name": "stderr",
     "output_type": "stream",
     "text": [
      "Collecting Imgs:  62%|\u001b[32m██████▏   \u001b[0m| 5184/8367 [1:36:28<1:53:40,  2.14s/it]"
     ]
    },
    {
     "name": "stdout",
     "output_type": "stream",
     "text": [
      "Image.sampleRectangle: Fully masked pixels / pixels outside of the image footprint when sampling band 'B12' with no default value set. Note that calling sampleRectangle() on an image after ee.Image.clip() may result in a sampling bounding box outside the geometry passed to clip().\n"
     ]
    },
    {
     "name": "stderr",
     "output_type": "stream",
     "text": [
      "Collecting Imgs:  64%|\u001b[32m██████▎   \u001b[0m| 5324/8367 [1:38:52<53:38,  1.06s/it]"
     ]
    },
    {
     "name": "stdout",
     "output_type": "stream",
     "text": [
      "Image.sampleRectangle: Fully masked pixels / pixels outside of the image footprint when sampling band 'B3' with no default value set. Note that calling sampleRectangle() on an image after ee.Image.clip() may result in a sampling bounding box outside the geometry passed to clip().\n"
     ]
    },
    {
     "name": "stderr",
     "output_type": "stream",
     "text": [
      "Collecting Imgs:  64%|\u001b[32m██████▎   \u001b[0m| 5328/8367 [1:38:55<45:45,  1.11it/s]"
     ]
    },
    {
     "name": "stdout",
     "output_type": "stream",
     "text": [
      "Image.sampleRectangle: Fully masked pixels / pixels outside of the image footprint when sampling band 'B5' with no default value set. Note that calling sampleRectangle() on an image after ee.Image.clip() may result in a sampling bounding box outside the geometry passed to clip().\n",
      "Image.sampleRectangle: Fully masked pixels / pixels outside of the image footprint when sampling band 'B1' with no default value set. Note that calling sampleRectangle() on an image after ee.Image.clip() may result in a sampling bounding box outside the geometry passed to clip().\n"
     ]
    },
    {
     "name": "stderr",
     "output_type": "stream",
     "text": [
      "Collecting Imgs:  64%|\u001b[32m██████▍   \u001b[0m| 5336/8367 [1:39:04<50:12,  1.01it/s]"
     ]
    },
    {
     "name": "stdout",
     "output_type": "stream",
     "text": [
      "Image.sampleRectangle: Fully masked pixels / pixels outside of the image footprint when sampling band 'B1' with no default value set. Note that calling sampleRectangle() on an image after ee.Image.clip() may result in a sampling bounding box outside the geometry passed to clip().\n"
     ]
    },
    {
     "name": "stderr",
     "output_type": "stream",
     "text": [
      "Collecting Imgs:  64%|\u001b[32m██████▍   \u001b[0m| 5340/8367 [1:39:05<39:21,  1.28it/s]"
     ]
    },
    {
     "name": "stdout",
     "output_type": "stream",
     "text": [
      "Image.sampleRectangle: Fully masked pixels / pixels outside of the image footprint when sampling band 'B1' with no default value set. Note that calling sampleRectangle() on an image after ee.Image.clip() may result in a sampling bounding box outside the geometry passed to clip().\n",
      "Image.sampleRectangle: Fully masked pixels / pixels outside of the image footprint when sampling band 'B1' with no default value set. Note that calling sampleRectangle() on an image after ee.Image.clip() may result in a sampling bounding box outside the geometry passed to clip().\n"
     ]
    },
    {
     "name": "stderr",
     "output_type": "stream",
     "text": [
      "Collecting Imgs:  64%|\u001b[32m██████▍   \u001b[0m| 5344/8367 [1:39:10<47:07,  1.07it/s]"
     ]
    },
    {
     "name": "stdout",
     "output_type": "stream",
     "text": [
      "Image.sampleRectangle: Fully masked pixels / pixels outside of the image footprint when sampling band 'B1' with no default value set. Note that calling sampleRectangle() on an image after ee.Image.clip() may result in a sampling bounding box outside the geometry passed to clip().\n"
     ]
    },
    {
     "name": "stderr",
     "output_type": "stream",
     "text": [
      "Collecting Imgs:  64%|\u001b[32m██████▍   \u001b[0m| 5396/8367 [1:40:02<49:28,  1.00it/s]"
     ]
    },
    {
     "name": "stdout",
     "output_type": "stream",
     "text": [
      "Image.sampleRectangle: Fully masked pixels / pixels outside of the image footprint when sampling band 'B9' with no default value set. Note that calling sampleRectangle() on an image after ee.Image.clip() may result in a sampling bounding box outside the geometry passed to clip().\n"
     ]
    },
    {
     "name": "stderr",
     "output_type": "stream",
     "text": [
      "Collecting Imgs:  65%|\u001b[32m██████▍   \u001b[0m| 5428/8367 [1:40:33<47:02,  1.04it/s]"
     ]
    },
    {
     "name": "stdout",
     "output_type": "stream",
     "text": [
      "Image.sampleRectangle: Fully masked pixels / pixels outside of the image footprint when sampling band 'B4' with no default value set. Note that calling sampleRectangle() on an image after ee.Image.clip() may result in a sampling bounding box outside the geometry passed to clip().\n"
     ]
    },
    {
     "name": "stderr",
     "output_type": "stream",
     "text": [
      "Collecting Imgs:  66%|\u001b[32m██████▌   \u001b[0m| 5500/8367 [1:41:45<45:08,  1.06it/s]"
     ]
    },
    {
     "name": "stdout",
     "output_type": "stream",
     "text": [
      "Image.sampleRectangle: Fully masked pixels / pixels outside of the image footprint when sampling band 'B8' with no default value set. Note that calling sampleRectangle() on an image after ee.Image.clip() may result in a sampling bounding box outside the geometry passed to clip().\n"
     ]
    },
    {
     "name": "stderr",
     "output_type": "stream",
     "text": [
      "Collecting Imgs:  71%|\u001b[32m███████   \u001b[0m| 5928/8367 [1:49:26<55:08,  1.36s/it]"
     ]
    },
    {
     "name": "stdout",
     "output_type": "stream",
     "text": [
      "Image.sampleRectangle: Fully masked pixels / pixels outside of the image footprint when sampling band 'B12' with no default value set. Note that calling sampleRectangle() on an image after ee.Image.clip() may result in a sampling bounding box outside the geometry passed to clip().\n"
     ]
    },
    {
     "name": "stderr",
     "output_type": "stream",
     "text": [
      "Collecting Imgs:  76%|\u001b[32m███████▌  \u001b[0m| 6336/8367 [1:57:01<35:04,  1.04s/it]"
     ]
    },
    {
     "name": "stdout",
     "output_type": "stream",
     "text": [
      "Image.sampleRectangle: Fully masked pixels / pixels outside of the image footprint when sampling band 'B3' with no default value set. Note that calling sampleRectangle() on an image after ee.Image.clip() may result in a sampling bounding box outside the geometry passed to clip().\n"
     ]
    },
    {
     "name": "stderr",
     "output_type": "stream",
     "text": [
      "Collecting Imgs:  78%|\u001b[32m███████▊  \u001b[0m| 6536/8367 [2:00:32<31:06,  1.02s/it]"
     ]
    },
    {
     "name": "stdout",
     "output_type": "stream",
     "text": [
      "Image.sampleRectangle: Fully masked pixels / pixels outside of the image footprint when sampling band 'B1' with no default value set. Note that calling sampleRectangle() on an image after ee.Image.clip() may result in a sampling bounding box outside the geometry passed to clip().\n"
     ]
    },
    {
     "name": "stderr",
     "output_type": "stream",
     "text": [
      "Collecting Imgs:  79%|\u001b[32m███████▊  \u001b[0m| 6576/8367 [2:01:13<27:39,  1.08it/s]"
     ]
    },
    {
     "name": "stdout",
     "output_type": "stream",
     "text": [
      "Image.sampleRectangle: Fully masked pixels / pixels outside of the image footprint when sampling band 'B1' with no default value set. Note that calling sampleRectangle() on an image after ee.Image.clip() may result in a sampling bounding box outside the geometry passed to clip().\n"
     ]
    },
    {
     "name": "stderr",
     "output_type": "stream",
     "text": [
      "Collecting Imgs:  79%|\u001b[32m███████▊  \u001b[0m| 6580/8367 [2:01:15<24:50,  1.20it/s]"
     ]
    },
    {
     "name": "stdout",
     "output_type": "stream",
     "text": [
      "Image.sampleRectangle: Fully masked pixels / pixels outside of the image footprint when sampling band 'B10' with no default value set. Note that calling sampleRectangle() on an image after ee.Image.clip() may result in a sampling bounding box outside the geometry passed to clip().\n"
     ]
    },
    {
     "name": "stderr",
     "output_type": "stream",
     "text": [
      "Collecting Imgs:  79%|\u001b[32m███████▊  \u001b[0m| 6584/8367 [2:01:19<26:44,  1.11it/s]"
     ]
    },
    {
     "name": "stdout",
     "output_type": "stream",
     "text": [
      "Image.sampleRectangle: Fully masked pixels / pixels outside of the image footprint when sampling band 'B1' with no default value set. Note that calling sampleRectangle() on an image after ee.Image.clip() may result in a sampling bounding box outside the geometry passed to clip().\n"
     ]
    },
    {
     "name": "stderr",
     "output_type": "stream",
     "text": [
      "Collecting Imgs:  79%|\u001b[32m███████▊  \u001b[0m| 6588/8367 [2:01:22<23:59,  1.24it/s]"
     ]
    },
    {
     "name": "stdout",
     "output_type": "stream",
     "text": [
      "Image.sampleRectangle: Fully masked pixels / pixels outside of the image footprint when sampling band 'B1' with no default value set. Note that calling sampleRectangle() on an image after ee.Image.clip() may result in a sampling bounding box outside the geometry passed to clip().\n"
     ]
    },
    {
     "name": "stderr",
     "output_type": "stream",
     "text": [
      "Collecting Imgs:  79%|\u001b[32m███████▉  \u001b[0m| 6600/8367 [2:01:34<27:16,  1.08it/s]"
     ]
    },
    {
     "name": "stdout",
     "output_type": "stream",
     "text": [
      "Image.sampleRectangle: Fully masked pixels / pixels outside of the image footprint when sampling band 'B1' with no default value set. Note that calling sampleRectangle() on an image after ee.Image.clip() may result in a sampling bounding box outside the geometry passed to clip().\n"
     ]
    },
    {
     "name": "stderr",
     "output_type": "stream",
     "text": [
      "Collecting Imgs:  81%|\u001b[32m████████  \u001b[0m| 6768/8367 [2:04:37<29:29,  1.11s/it]"
     ]
    },
    {
     "name": "stdout",
     "output_type": "stream",
     "text": [
      "Image.sampleRectangle: Fully masked pixels / pixels outside of the image footprint when sampling band 'B1' with no default value set. Note that calling sampleRectangle() on an image after ee.Image.clip() may result in a sampling bounding box outside the geometry passed to clip().\n"
     ]
    },
    {
     "name": "stderr",
     "output_type": "stream",
     "text": [
      "Collecting Imgs:  81%|\u001b[32m████████  \u001b[0m| 6784/8367 [2:04:58<35:31,  1.35s/it]"
     ]
    },
    {
     "name": "stdout",
     "output_type": "stream",
     "text": [
      "Image.sampleRectangle: Fully masked pixels / pixels outside of the image footprint when sampling band 'B10' with no default value set. Note that calling sampleRectangle() on an image after ee.Image.clip() may result in a sampling bounding box outside the geometry passed to clip().\n"
     ]
    },
    {
     "name": "stderr",
     "output_type": "stream",
     "text": [
      "Collecting Imgs:  82%|\u001b[32m████████▏ \u001b[0m| 6844/8367 [2:06:27<41:42,  1.64s/it]"
     ]
    },
    {
     "name": "stdout",
     "output_type": "stream",
     "text": [
      "Image.sampleRectangle: Fully masked pixels / pixels outside of the image footprint when sampling band 'B10' with no default value set. Note that calling sampleRectangle() on an image after ee.Image.clip() may result in a sampling bounding box outside the geometry passed to clip().\n"
     ]
    },
    {
     "name": "stderr",
     "output_type": "stream",
     "text": [
      "Collecting Imgs:  82%|\u001b[32m████████▏ \u001b[0m| 6868/8367 [2:07:14<45:31,  1.82s/it]"
     ]
    },
    {
     "name": "stdout",
     "output_type": "stream",
     "text": [
      "Image.sampleRectangle: Fully masked pixels / pixels outside of the image footprint when sampling band 'B5' with no default value set. Note that calling sampleRectangle() on an image after ee.Image.clip() may result in a sampling bounding box outside the geometry passed to clip().\n"
     ]
    },
    {
     "name": "stderr",
     "output_type": "stream",
     "text": [
      "Collecting Imgs:  82%|\u001b[32m████████▏ \u001b[0m| 6872/8367 [2:07:21<45:49,  1.84s/it]"
     ]
    },
    {
     "name": "stdout",
     "output_type": "stream",
     "text": [
      "Image.sampleRectangle: Fully masked pixels / pixels outside of the image footprint when sampling band 'B10' with no default value set. Note that calling sampleRectangle() on an image after ee.Image.clip() may result in a sampling bounding box outside the geometry passed to clip().\n"
     ]
    },
    {
     "name": "stderr",
     "output_type": "stream",
     "text": [
      "Collecting Imgs:  82%|\u001b[32m████████▏ \u001b[0m| 6876/8367 [2:07:27<42:02,  1.69s/it]"
     ]
    },
    {
     "name": "stdout",
     "output_type": "stream",
     "text": [
      "Image.sampleRectangle: Fully masked pixels / pixels outside of the image footprint when sampling band 'B1' with no default value set. Note that calling sampleRectangle() on an image after ee.Image.clip() may result in a sampling bounding box outside the geometry passed to clip().\n",
      "Image.sampleRectangle: Fully masked pixels / pixels outside of the image footprint when sampling band 'B1' with no default value set. Note that calling sampleRectangle() on an image after ee.Image.clip() may result in a sampling bounding box outside the geometry passed to clip().\n"
     ]
    },
    {
     "name": "stderr",
     "output_type": "stream",
     "text": [
      "Collecting Imgs:  82%|\u001b[32m████████▏ \u001b[0m| 6892/8367 [2:07:54<42:26,  1.73s/it]"
     ]
    },
    {
     "name": "stdout",
     "output_type": "stream",
     "text": [
      "Image.sampleRectangle: Fully masked pixels / pixels outside of the image footprint when sampling band 'B1' with no default value set. Note that calling sampleRectangle() on an image after ee.Image.clip() may result in a sampling bounding box outside the geometry passed to clip().\n",
      "Image.sampleRectangle: Fully masked pixels / pixels outside of the image footprint when sampling band 'B8A' with no default value set. Note that calling sampleRectangle() on an image after ee.Image.clip() may result in a sampling bounding box outside the geometry passed to clip().\n"
     ]
    },
    {
     "name": "stderr",
     "output_type": "stream",
     "text": [
      "Collecting Imgs:  84%|\u001b[32m████████▍ \u001b[0m| 7044/8367 [2:10:52<22:39,  1.03s/it]"
     ]
    },
    {
     "name": "stdout",
     "output_type": "stream",
     "text": [
      "Image.sampleRectangle: Fully masked pixels / pixels outside of the image footprint when sampling band 'B10' with no default value set. Note that calling sampleRectangle() on an image after ee.Image.clip() may result in a sampling bounding box outside the geometry passed to clip().\n"
     ]
    },
    {
     "name": "stderr",
     "output_type": "stream",
     "text": [
      "Collecting Imgs:  86%|\u001b[32m████████▌ \u001b[0m| 7168/8367 [2:13:02<19:24,  1.03it/s]"
     ]
    },
    {
     "name": "stdout",
     "output_type": "stream",
     "text": [
      "Image.sampleRectangle: Fully masked pixels / pixels outside of the image footprint when sampling band 'B9' with no default value set. Note that calling sampleRectangle() on an image after ee.Image.clip() may result in a sampling bounding box outside the geometry passed to clip().\n"
     ]
    },
    {
     "name": "stderr",
     "output_type": "stream",
     "text": [
      "Collecting Imgs:  86%|\u001b[32m████████▌ \u001b[0m| 7204/8367 [2:13:39<20:40,  1.07s/it]"
     ]
    },
    {
     "name": "stdout",
     "output_type": "stream",
     "text": [
      "Image.sampleRectangle: Fully masked pixels / pixels outside of the image footprint when sampling band 'B1' with no default value set. Note that calling sampleRectangle() on an image after ee.Image.clip() may result in a sampling bounding box outside the geometry passed to clip().\n"
     ]
    },
    {
     "name": "stderr",
     "output_type": "stream",
     "text": [
      "Collecting Imgs:  86%|\u001b[32m████████▌ \u001b[0m| 7212/8367 [2:13:48<20:23,  1.06s/it]"
     ]
    },
    {
     "name": "stdout",
     "output_type": "stream",
     "text": [
      "Image.sampleRectangle: Fully masked pixels / pixels outside of the image footprint when sampling band 'B1' with no default value set. Note that calling sampleRectangle() on an image after ee.Image.clip() may result in a sampling bounding box outside the geometry passed to clip().\n"
     ]
    },
    {
     "name": "stderr",
     "output_type": "stream",
     "text": [
      "Collecting Imgs:  86%|\u001b[32m████████▋ \u001b[0m| 7220/8367 [2:13:57<20:33,  1.08s/it]"
     ]
    },
    {
     "name": "stdout",
     "output_type": "stream",
     "text": [
      "Image.sampleRectangle: Fully masked pixels / pixels outside of the image footprint when sampling band 'B1' with no default value set. Note that calling sampleRectangle() on an image after ee.Image.clip() may result in a sampling bounding box outside the geometry passed to clip().\n"
     ]
    },
    {
     "name": "stderr",
     "output_type": "stream",
     "text": [
      "Collecting Imgs:  87%|\u001b[32m████████▋ \u001b[0m| 7240/8367 [2:14:35<44:54,  2.39s/it]"
     ]
    },
    {
     "name": "stdout",
     "output_type": "stream",
     "text": [
      "Image.sampleRectangle: Fully masked pixels / pixels outside of the image footprint when sampling band 'B1' with no default value set. Note that calling sampleRectangle() on an image after ee.Image.clip() may result in a sampling bounding box outside the geometry passed to clip().\n"
     ]
    },
    {
     "name": "stderr",
     "output_type": "stream",
     "text": [
      "Collecting Imgs:  88%|\u001b[32m████████▊ \u001b[0m| 7348/8367 [2:20:06<45:53,  2.70s/it]"
     ]
    },
    {
     "name": "stdout",
     "output_type": "stream",
     "text": [
      "Image.sampleRectangle: Fully masked pixels / pixels outside of the image footprint when sampling band 'B5' with no default value set. Note that calling sampleRectangle() on an image after ee.Image.clip() may result in a sampling bounding box outside the geometry passed to clip().\n"
     ]
    },
    {
     "name": "stderr",
     "output_type": "stream",
     "text": [
      "Collecting Imgs:  88%|\u001b[32m████████▊ \u001b[0m| 7392/8367 [2:21:10<30:54,  1.90s/it]"
     ]
    },
    {
     "name": "stdout",
     "output_type": "stream",
     "text": [
      "Image.sampleRectangle: Fully masked pixels / pixels outside of the image footprint when sampling band 'B10' with no default value set. Note that calling sampleRectangle() on an image after ee.Image.clip() may result in a sampling bounding box outside the geometry passed to clip().\n"
     ]
    },
    {
     "name": "stderr",
     "output_type": "stream",
     "text": [
      "Collecting Imgs:  90%|\u001b[32m████████▉ \u001b[0m| 7528/8367 [2:36:08<24:26,  1.75s/it]"
     ]
    },
    {
     "name": "stdout",
     "output_type": "stream",
     "text": [
      "Image.sampleRectangle: Fully masked pixels / pixels outside of the image footprint when sampling band 'B10' with no default value set. Note that calling sampleRectangle() on an image after ee.Image.clip() may result in a sampling bounding box outside the geometry passed to clip().\n"
     ]
    },
    {
     "name": "stderr",
     "output_type": "stream",
     "text": [
      "Collecting Imgs:  90%|\u001b[32m█████████ \u001b[0m| 7572/8367 [2:36:59<15:13,  1.15s/it]"
     ]
    },
    {
     "name": "stdout",
     "output_type": "stream",
     "text": [
      "Image.sampleRectangle: Fully masked pixels / pixels outside of the image footprint when sampling band 'B6' with no default value set. Note that calling sampleRectangle() on an image after ee.Image.clip() may result in a sampling bounding box outside the geometry passed to clip().\n"
     ]
    },
    {
     "name": "stderr",
     "output_type": "stream",
     "text": [
      "Collecting Imgs:  91%|\u001b[32m█████████ \u001b[0m| 7576/8367 [2:37:03<14:30,  1.10s/it]"
     ]
    },
    {
     "name": "stdout",
     "output_type": "stream",
     "text": [
      "Image.sampleRectangle: Fully masked pixels / pixels outside of the image footprint when sampling band 'B10' with no default value set. Note that calling sampleRectangle() on an image after ee.Image.clip() may result in a sampling bounding box outside the geometry passed to clip().\n"
     ]
    },
    {
     "name": "stderr",
     "output_type": "stream",
     "text": [
      "Collecting Imgs:  91%|\u001b[32m█████████ \u001b[0m| 7580/8367 [2:37:07<14:02,  1.07s/it]"
     ]
    },
    {
     "name": "stdout",
     "output_type": "stream",
     "text": [
      "Image.sampleRectangle: Fully masked pixels / pixels outside of the image footprint when sampling band 'B1' with no default value set. Note that calling sampleRectangle() on an image after ee.Image.clip() may result in a sampling bounding box outside the geometry passed to clip().\n"
     ]
    },
    {
     "name": "stderr",
     "output_type": "stream",
     "text": [
      "Collecting Imgs:  91%|\u001b[32m█████████ \u001b[0m| 7584/8367 [2:37:09<11:16,  1.16it/s]"
     ]
    },
    {
     "name": "stdout",
     "output_type": "stream",
     "text": [
      "Image.sampleRectangle: Fully masked pixels / pixels outside of the image footprint when sampling band 'B7' with no default value set. Note that calling sampleRectangle() on an image after ee.Image.clip() may result in a sampling bounding box outside the geometry passed to clip().\n"
     ]
    },
    {
     "name": "stderr",
     "output_type": "stream",
     "text": [
      "Collecting Imgs:  91%|\u001b[32m█████████ \u001b[0m| 7588/8367 [2:37:13<11:43,  1.11it/s]"
     ]
    },
    {
     "name": "stdout",
     "output_type": "stream",
     "text": [
      "Image.sampleRectangle: Fully masked pixels / pixels outside of the image footprint when sampling band 'B1' with no default value set. Note that calling sampleRectangle() on an image after ee.Image.clip() may result in a sampling bounding box outside the geometry passed to clip().\n"
     ]
    },
    {
     "name": "stderr",
     "output_type": "stream",
     "text": [
      "Collecting Imgs:  91%|\u001b[32m█████████ \u001b[0m| 7596/8367 [2:37:21<12:36,  1.02it/s]"
     ]
    },
    {
     "name": "stdout",
     "output_type": "stream",
     "text": [
      "Image.sampleRectangle: Fully masked pixels / pixels outside of the image footprint when sampling band 'B1' with no default value set. Note that calling sampleRectangle() on an image after ee.Image.clip() may result in a sampling bounding box outside the geometry passed to clip().\n"
     ]
    },
    {
     "name": "stderr",
     "output_type": "stream",
     "text": [
      "Collecting Imgs:  92%|\u001b[32m█████████▏\u001b[0m| 7696/8367 [2:39:17<16:01,  1.43s/it]"
     ]
    },
    {
     "name": "stdout",
     "output_type": "stream",
     "text": [
      "Image.sampleRectangle: Fully masked pixels / pixels outside of the image footprint when sampling band 'B10' with no default value set. Note that calling sampleRectangle() on an image after ee.Image.clip() may result in a sampling bounding box outside the geometry passed to clip().\n"
     ]
    },
    {
     "name": "stderr",
     "output_type": "stream",
     "text": [
      "Collecting Imgs:  93%|\u001b[32m█████████▎\u001b[0m| 7740/8367 [2:40:02<10:53,  1.04s/it]"
     ]
    },
    {
     "name": "stdout",
     "output_type": "stream",
     "text": [
      "Image.sampleRectangle: Fully masked pixels / pixels outside of the image footprint when sampling band 'B2' with no default value set. Note that calling sampleRectangle() on an image after ee.Image.clip() may result in a sampling bounding box outside the geometry passed to clip().\n"
     ]
    },
    {
     "name": "stderr",
     "output_type": "stream",
     "text": [
      "Collecting Imgs:  94%|\u001b[32m█████████▍\u001b[0m| 7892/8367 [2:42:43<08:24,  1.06s/it]"
     ]
    },
    {
     "name": "stdout",
     "output_type": "stream",
     "text": [
      "Image.sampleRectangle: Fully masked pixels / pixels outside of the image footprint when sampling band 'B1' with no default value set. Note that calling sampleRectangle() on an image after ee.Image.clip() may result in a sampling bounding box outside the geometry passed to clip().\n"
     ]
    },
    {
     "name": "stderr",
     "output_type": "stream",
     "text": [
      "Collecting Imgs:  95%|\u001b[32m█████████▍\u001b[0m| 7920/8367 [2:43:14<08:10,  1.10s/it]"
     ]
    },
    {
     "name": "stdout",
     "output_type": "stream",
     "text": [
      "Image.sampleRectangle: Fully masked pixels / pixels outside of the image footprint when sampling band 'B12' with no default value set. Note that calling sampleRectangle() on an image after ee.Image.clip() may result in a sampling bounding box outside the geometry passed to clip().\n"
     ]
    },
    {
     "name": "stderr",
     "output_type": "stream",
     "text": [
      "Collecting Imgs:  96%|\u001b[32m█████████▌\u001b[0m| 8036/8367 [2:45:26<05:59,  1.09s/it]"
     ]
    },
    {
     "name": "stdout",
     "output_type": "stream",
     "text": [
      "Image.sampleRectangle: Fully masked pixels / pixels outside of the image footprint when sampling band 'B11' with no default value set. Note that calling sampleRectangle() on an image after ee.Image.clip() may result in a sampling bounding box outside the geometry passed to clip().\n"
     ]
    },
    {
     "name": "stderr",
     "output_type": "stream",
     "text": [
      "Collecting Imgs: 100%|\u001b[32m██████████\u001b[0m| 8367/8367 [2:51:24<00:00,  1.23s/it]\n"
     ]
    },
    {
     "name": "stdout",
     "output_type": "stream",
     "text": [
      "CPU times: user 15min 1s, sys: 50.5 s, total: 15min 52s\n",
      "Wall time: 2h 51min 35s\n"
     ]
    }
   ],
   "source": [
    "%%time\n",
    "\n",
    "print(data.shape[0])\n",
    "\n",
    "# parrllelize shit\n",
    "_ = Parallel(n_jobs=-1,backend='threading')(\n",
    "    delayed(collect_data_wrapper)\n",
    "    (data, n)\n",
    "    for n in tqdm(range(data.shape[0]), desc='Collecting Imgs: ', colour='green')\n",
    ")"
   ]
  },
  {
   "cell_type": "code",
   "execution_count": 13,
   "id": "1a4ff0cd",
   "metadata": {
    "execution": {
     "iopub.execute_input": "2023-01-17T21:47:56.572785Z",
     "iopub.status.busy": "2023-01-17T21:47:56.572300Z",
     "iopub.status.idle": "2023-01-17T21:47:56.580936Z",
     "shell.execute_reply": "2023-01-17T21:47:56.579407Z"
    },
    "papermill": {
     "duration": 0.161275,
     "end_time": "2023-01-17T21:47:56.583750",
     "exception": false,
     "start_time": "2023-01-17T21:47:56.422475",
     "status": "completed"
    },
    "tags": []
   },
   "outputs": [
    {
     "data": {
      "text/plain": [
       "[]"
      ]
     },
     "execution_count": 13,
     "metadata": {},
     "output_type": "execute_result"
    }
   ],
   "source": [
    "err_imgs"
   ]
  },
  {
   "cell_type": "code",
   "execution_count": 14,
   "id": "d1df4d1d",
   "metadata": {
    "execution": {
     "iopub.execute_input": "2023-01-17T21:47:56.886292Z",
     "iopub.status.busy": "2023-01-17T21:47:56.885523Z",
     "iopub.status.idle": "2023-01-17T21:47:56.891317Z",
     "shell.execute_reply": "2023-01-17T21:47:56.890504Z"
    },
    "papermill": {
     "duration": 0.159992,
     "end_time": "2023-01-17T21:47:56.893691",
     "exception": false,
     "start_time": "2023-01-17T21:47:56.733699",
     "status": "completed"
    },
    "tags": []
   },
   "outputs": [
    {
     "data": {
      "text/plain": [
       "[]"
      ]
     },
     "execution_count": 14,
     "metadata": {},
     "output_type": "execute_result"
    }
   ],
   "source": [
    "errors"
   ]
  },
  {
   "cell_type": "code",
   "execution_count": 15,
   "id": "70c85abf",
   "metadata": {
    "execution": {
     "iopub.execute_input": "2023-01-17T21:47:57.188767Z",
     "iopub.status.busy": "2023-01-17T21:47:57.188258Z",
     "iopub.status.idle": "2023-01-17T21:47:57.195853Z",
     "shell.execute_reply": "2023-01-17T21:47:57.194611Z"
    },
    "papermill": {
     "duration": 0.158343,
     "end_time": "2023-01-17T21:47:57.198387",
     "exception": false,
     "start_time": "2023-01-17T21:47:57.040044",
     "status": "completed"
    },
    "tags": []
   },
   "outputs": [
    {
     "data": {
      "text/plain": [
       "[]"
      ]
     },
     "execution_count": 15,
     "metadata": {},
     "output_type": "execute_result"
    }
   ],
   "source": [
    "img_not_found"
   ]
  },
  {
   "cell_type": "code",
   "execution_count": 16,
   "id": "a3e08d45",
   "metadata": {
    "execution": {
     "iopub.execute_input": "2023-01-17T21:47:57.495367Z",
     "iopub.status.busy": "2023-01-17T21:47:57.494899Z",
     "iopub.status.idle": "2023-01-17T21:47:57.508662Z",
     "shell.execute_reply": "2023-01-17T21:47:57.507125Z"
    },
    "papermill": {
     "duration": 0.16778,
     "end_time": "2023-01-17T21:47:57.511773",
     "exception": false,
     "start_time": "2023-01-17T21:47:57.343993",
     "status": "completed"
    },
    "tags": []
   },
   "outputs": [
    {
     "name": "stdout",
     "output_type": "stream",
     "text": [
      "misses: 0\n",
      "Total files pulled: 8197\n"
     ]
    }
   ],
   "source": [
    "print(\"misses:\", len(img_not_found) + len(err_imgs))\n",
    "print('Total files pulled:', len(os.listdir(f'/kaggle/working/{img_folder}')))"
   ]
  },
  {
   "cell_type": "code",
   "execution_count": 17,
   "id": "3b87531c",
   "metadata": {
    "execution": {
     "iopub.execute_input": "2023-01-17T21:47:57.817935Z",
     "iopub.status.busy": "2023-01-17T21:47:57.817470Z",
     "iopub.status.idle": "2023-01-17T21:47:57.826785Z",
     "shell.execute_reply": "2023-01-17T21:47:57.825586Z"
    },
    "papermill": {
     "duration": 0.16181,
     "end_time": "2023-01-17T21:47:57.829574",
     "exception": false,
     "start_time": "2023-01-17T21:47:57.667764",
     "status": "completed"
    },
    "tags": []
   },
   "outputs": [
    {
     "data": {
      "text/plain": [
       "['errors-p2.joblib']"
      ]
     },
     "execution_count": 17,
     "metadata": {},
     "output_type": "execute_result"
    }
   ],
   "source": [
    "# save files\n",
    "joblib.dump(err_imgs, 'missed_imgs-p2.joblib')\n",
    "joblib.dump(img_not_found, 'imgs_not_found_in_col-p2.joblib')\n",
    "joblib.dump(errors, 'errors-p2.joblib')\n",
    "\n",
    "# img_metadata_df.to_csv(f'{img_folder}/{img_folder}_metadata.csv', index=False)"
   ]
  },
  {
   "cell_type": "code",
   "execution_count": 18,
   "id": "03f95f88",
   "metadata": {
    "execution": {
     "iopub.execute_input": "2023-01-17T21:47:58.128574Z",
     "iopub.status.busy": "2023-01-17T21:47:58.128116Z",
     "iopub.status.idle": "2023-01-17T21:47:58.134880Z",
     "shell.execute_reply": "2023-01-17T21:47:58.133661Z"
    },
    "papermill": {
     "duration": 0.158194,
     "end_time": "2023-01-17T21:47:58.137563",
     "exception": false,
     "start_time": "2023-01-17T21:47:57.979369",
     "status": "completed"
    },
    "tags": []
   },
   "outputs": [
    {
     "data": {
      "text/plain": [
       "4"
      ]
     },
     "execution_count": 18,
     "metadata": {},
     "output_type": "execute_result"
    }
   ],
   "source": [
    "os.cpu_count()"
   ]
  },
  {
   "cell_type": "code",
   "execution_count": null,
   "id": "f53052d5",
   "metadata": {
    "papermill": {
     "duration": 0.147228,
     "end_time": "2023-01-17T21:47:58.435209",
     "exception": false,
     "start_time": "2023-01-17T21:47:58.287981",
     "status": "completed"
    },
    "tags": []
   },
   "outputs": [],
   "source": []
  }
 ],
 "metadata": {
  "kernelspec": {
   "display_name": "Python 3",
   "language": "python",
   "name": "python3"
  },
  "language_info": {
   "codemirror_mode": {
    "name": "ipython",
    "version": 3
   },
   "file_extension": ".py",
   "mimetype": "text/x-python",
   "name": "python",
   "nbconvert_exporter": "python",
   "pygments_lexer": "ipython3",
   "version": "3.7.12"
  },
  "papermill": {
   "default_parameters": {},
   "duration": 10312.336063,
   "end_time": "2023-01-17T21:47:59.522897",
   "environment_variables": {},
   "exception": null,
   "input_path": "__notebook__.ipynb",
   "output_path": "__notebook__.ipynb",
   "parameters": {},
   "start_time": "2023-01-17T18:56:07.186834",
   "version": "2.3.4"
  }
 },
 "nbformat": 4,
 "nbformat_minor": 5
}
